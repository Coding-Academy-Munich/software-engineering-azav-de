{
 "cells": [
  {
   "cell_type": "markdown",
   "id": "871b7c52d0a0479c",
   "metadata": {
    "lang": "de",
    "slideshow": {
     "slide_type": "slide"
    },
    "tags": [
     "slide"
    ]
   },
   "source": [
    "\n",
    "<img src=\"data:image/svg+xml;base64,PHN2ZyB4bWxucz0iaHR0cDovL3d3dy53My5vcmcvMjAwMC9zdmciIHhtbG5zOnhsaW5rPSJodHRw\n",
    "Oi8vd3d3LnczLm9yZy8xOTk5L3hsaW5rIiB3aWR0aD0iMTExLjE2MSIgaGVpZ2h0PSIxMzQuNjY4\n",
    "IiB2ZXJzaW9uPSIxLjAiPjxkZWZzPjxsaW5lYXJHcmFkaWVudCBpZD0iYyI+PHN0b3Agb2Zmc2V0\n",
    "PSIwIiBzdHlsZT0ic3RvcC1jb2xvcjojYjhiOGI4O3N0b3Atb3BhY2l0eTouNDk4MDM5MjIiLz48\n",
    "c3RvcCBvZmZzZXQ9IjEiIHN0eWxlPSJzdG9wLWNvbG9yOiM3ZjdmN2Y7c3RvcC1vcGFjaXR5OjAi\n",
    "Lz48L2xpbmVhckdyYWRpZW50PjxsaW5lYXJHcmFkaWVudCBpZD0iYSI+PHN0b3Agb2Zmc2V0PSIw\n",
    "IiBzdHlsZT0ic3RvcC1jb2xvcjojZmZkNDNiO3N0b3Atb3BhY2l0eToxIi8+PHN0b3Agb2Zmc2V0\n",
    "PSIxIiBzdHlsZT0ic3RvcC1jb2xvcjojZmZlODczO3N0b3Atb3BhY2l0eToxIi8+PC9saW5lYXJH\n",
    "cmFkaWVudD48bGluZWFyR3JhZGllbnQgaWQ9ImIiPjxzdG9wIG9mZnNldD0iMCIgc3R5bGU9InN0\n",
    "b3AtY29sb3I6IzVhOWZkNDtzdG9wLW9wYWNpdHk6MSIvPjxzdG9wIG9mZnNldD0iMSIgc3R5bGU9\n",
    "InN0b3AtY29sb3I6IzMwNjk5ODtzdG9wLW9wYWNpdHk6MSIvPjwvbGluZWFyR3JhZGllbnQ+PGxp\n",
    "bmVhckdyYWRpZW50IHhsaW5rOmhyZWY9IiNhIiBpZD0iZSIgeDE9IjE1MC45NjEiIHgyPSIxMTIu\n",
    "MDMxIiB5MT0iMTkyLjM1MiIgeTI9IjEzNy4yNzMiIGdyYWRpZW50VHJhbnNmb3JtPSJtYXRyaXgo\n",
    "LjU2MjU0IDAgMCAuNTY3OTcgLTE0Ljk5MSAtMTEuNzAyKSIgZ3JhZGllbnRVbml0cz0idXNlclNw\n",
    "YWNlT25Vc2UiLz48bGluZWFyR3JhZGllbnQgeGxpbms6aHJlZj0iI2IiIGlkPSJkIiB4MT0iMjYu\n",
    "NjQ5IiB4Mj0iMTM1LjY2NSIgeTE9IjIwLjYwNCIgeTI9IjExNC4zOTgiIGdyYWRpZW50VHJhbnNm\n",
    "b3JtPSJtYXRyaXgoLjU2MjU0IDAgMCAuNTY3OTcgLTE0Ljk5MSAtMTEuNzAyKSIgZ3JhZGllbnRV\n",
    "bml0cz0idXNlclNwYWNlT25Vc2UiLz48cmFkaWFsR3JhZGllbnQgeGxpbms6aHJlZj0iI2MiIGlk\n",
    "PSJmIiBjeD0iNjEuNTE5IiBjeT0iMTMyLjI4NiIgcj0iMjkuMDM3IiBmeD0iNjEuNTE5IiBmeT0i\n",
    "MTMyLjI4NiIgZ3JhZGllbnRUcmFuc2Zvcm09Im1hdHJpeCgwIC0uMjM5OTUgMS4wNTQ2NyAwIC04\n",
    "My43IDE0Mi40NjIpIiBncmFkaWVudFVuaXRzPSJ1c2VyU3BhY2VPblVzZSIvPjwvZGVmcz48cGF0\n",
    "aCBkPSJNNTQuOTE5IDBjLTQuNTg0LjAyMi04Ljk2MS40MTMtMTIuODEzIDEuMDk1QzMwLjc2IDMu\n",
    "MDk5IDI4LjcgNy4yOTUgMjguNyAxNS4wMzJ2MTAuMjE5aDI2LjgxM3YzLjQwNkgxOC42MzhjLTcu\n",
    "NzkzIDAtMTQuNjE2IDQuNjg0LTE2Ljc1IDEzLjU5NC0yLjQ2MiAxMC4yMTMtMi41NzEgMTYuNTg2\n",
    "IDAgMjcuMjUgMS45MDUgNy45MzggNi40NTcgMTMuNTk0IDE0LjI1IDEzLjU5NGg5LjIxOHYtMTIu\n",
    "MjVjMC04Ljg1IDcuNjU3LTE2LjY1NyAxNi43NS0xNi42NTdoMjYuNzgyYzcuNDU0IDAgMTMuNDA2\n",
    "LTYuMTM4IDEzLjQwNi0xMy42MjV2LTI1LjUzYzAtNy4yNjctNi4xMy0xMi43MjYtMTMuNDA2LTEz\n",
    "LjkzOEM2NC4yODIuMzI4IDU5LjUwMi0uMDIgNTQuOTE4IDBtLTE0LjUgOC4yMmMyLjc3IDAgNS4w\n",
    "MzEgMi4yOTggNS4wMzEgNS4xMjUgMCAyLjgxNi0yLjI2MiA1LjA5My01LjAzMSA1LjA5My0yLjc4\n",
    "IDAtNS4wMzEtMi4yNzctNS4wMzEtNS4wOTMgMC0yLjgyNyAyLjI1MS01LjEyNSA1LjAzLTUuMTI1\n",
    "IiBzdHlsZT0iZmlsbDp1cmwoI2QpO2ZpbGwtb3BhY2l0eToxIi8+PHBhdGggZD0iTTg1LjYzOCAy\n",
    "OC42NTd2MTEuOTA2YzAgOS4yMzEtNy44MjYgMTctMTYuNzUgMTdINDIuMTA2Yy03LjMzNiAwLTEz\n",
    "LjQwNiA2LjI3OS0xMy40MDYgMTMuNjI1Vjk2LjcyYzAgNy4yNjYgNi4zMTkgMTEuNTQgMTMuNDA2\n",
    "IDEzLjYyNSA4LjQ4OCAyLjQ5NSAxNi42MjcgMi45NDYgMjYuNzgyIDAgNi43NS0xLjk1NSAxMy40\n",
    "MDYtNS44ODggMTMuNDA2LTEzLjYyNVY4Ni41SDU1LjUxM3YtMy40MDVIOTUuN2M3Ljc5MyAwIDEw\n",
    "LjY5Ni01LjQzNiAxMy40MDYtMTMuNTk0IDIuOC04LjM5OSAyLjY4LTE2LjQ3NiAwLTI3LjI1LTEu\n",
    "OTI1LTcuNzU4LTUuNjA0LTEzLjU5NC0xMy40MDYtMTMuNTk0ek03MC41NzUgOTMuMzEzYzIuNzgg\n",
    "MCA1LjAzMSAyLjI3OCA1LjAzMSA1LjA5NCAwIDIuODI3LTIuMjUxIDUuMTI1LTUuMDMxIDUuMTI1\n",
    "LTIuNzcgMC01LjAzMS0yLjI5OC01LjAzMS01LjEyNSAwLTIuODE2IDIuMjYxLTUuMDk0IDUuMDMx\n",
    "LTUuMDk0IiBzdHlsZT0iZmlsbDp1cmwoI2UpO2ZpbGwtb3BhY2l0eToxIi8+PGVsbGlwc2UgY3g9\n",
    "IjU1LjgxNyIgY3k9IjEyNy43MDEiIHJ4PSIzNS45MzEiIHJ5PSI2Ljk2NyIgc3R5bGU9Im9wYWNp\n",
    "dHk6LjQ0MzgyO2ZpbGw6dXJsKCNmKTtmaWxsLW9wYWNpdHk6MTtmaWxsLXJ1bGU6bm9uemVybztz\n",
    "dHJva2U6bm9uZTtzdHJva2Utd2lkdGg6MTUuNDE3NDtzdHJva2UtbWl0ZXJsaW1pdDo0O3N0cm9r\n",
    "ZS1kYXNoYXJyYXk6bm9uZTtzdHJva2Utb3BhY2l0eToxIi8+PC9zdmc+\n",
    "\"\n",
    "     style=\"display:block;margin:auto;width:10%\" alt=\"Python Logo\"/>\n",
    "<br>\n",
    "\n",
    "<div style=\"text-align:center; font-size:200%;\">\n",
    " <b>Einführung in Datenbanken</b>\n",
    "</div>\n",
    "<br/>\n",
    "<div style=\"text-align:center;\">Dr. Matthias Hölzl</div>\n",
    "<br/>"
   ]
  },
  {
   "cell_type": "markdown",
   "id": "09ef41b040ad71a9",
   "metadata": {
    "lang": "de",
    "slideshow": {
     "slide_type": "slide"
    },
    "tags": [
     "slide"
    ]
   },
   "source": [
    "\n",
    "## Welches Problem lösen Datenbanken?\n",
    "\n",
    "- Große Datenmengen (Terabyte und mehr)\n",
    "- Persistenz (dauerhafte Speicherung)\n",
    "- Effizientes Speichern, Abrufen und _Manipulieren_\n",
    "- Nutzung in mehreren Anwendungen\n",
    "- Integrität der Daten\n",
    "- Standardisierung von Daten und Zugriff"
   ]
  },
  {
   "cell_type": "markdown",
   "id": "0560e5066be26766",
   "metadata": {
    "lang": "de",
    "slideshow": {
     "slide_type": "subslide"
    },
    "tags": [
     "subslide"
    ]
   },
   "source": [
    "\n",
    "## Datenbank und Datenbanksystem\n",
    "\n",
    "- Datenbank\n",
    "  - Sammlung von Daten\n",
    "  - Gespeichert in einem Datenbanksystem\n",
    "- Datenbanksystem (Datenbankmanagementsystem, DBMS):\n",
    "  - Software, die Datenbanken speichert und verwaltet\n",
    "  - Funktionen:\n",
    "    - Administration der Datenbanken\n",
    "    - Speichern, Abrufen und Manipulieren von Daten\n",
    "- Oft sagt man aber auch einfach \"Datenbank\" für das DBMS"
   ]
  },
  {
   "cell_type": "markdown",
   "id": "b1d2552f3e4f91d5",
   "metadata": {
    "lang": "de",
    "slideshow": {
     "slide_type": "subslide"
    },
    "tags": [
     "subslide"
    ]
   },
   "source": [
    "\n",
    "## Beispiele für Datenbanken:\n",
    "\n",
    "- Telefonbuch\n",
    "- Bibliothekskatalog\n",
    "- Online-Einkaufsseite (Backend)\n",
    "- ..."
   ]
  },
  {
   "cell_type": "markdown",
   "id": "ca7f67792ed4fe29",
   "metadata": {
    "lang": "de",
    "slideshow": {
     "slide_type": "subslide"
    },
    "tags": [
     "subslide"
    ]
   },
   "source": [
    "\n",
    "## Merkmale einer Datenbank\n",
    "\n",
    "- Konsistente und exakte Datenspeicherung\n",
    "- Effiziente Datenabfrage und -manipulation\n",
    "- Gemeinsame Nutzung von Daten zwischen Anwendungen\n",
    "- Datensicherheit und Zugriffskontrolle\n",
    "- Skalierbarkeit und Flexibilität"
   ]
  },
  {
   "cell_type": "markdown",
   "id": "728113a38d9e43a4",
   "metadata": {
    "lang": "de",
    "slideshow": {
     "slide_type": "subslide"
    },
    "tags": [
     "subslide"
    ]
   },
   "source": [
    "\n",
    "##  Arten von Datenbanken:\n",
    "\n",
    "Verschiedene Arten von Datenbanken bieten unterschiedliche Kompromisse\n",
    "zwischen diesen Merkmalen\n",
    "\n",
    "- **Relationale Datenbanken** (RDBMS, SQL-Datenbanken)\n",
    "- NoSQL-Datenbanken\n",
    "  - Graph-Datenbanken\n",
    "  - Objektorientierte Datenbanken\n",
    "  - Dokumentorientierte Datenbanken"
   ]
  },
  {
   "cell_type": "markdown",
   "id": "6375633c1227f112",
   "metadata": {
    "lang": "de",
    "slideshow": {
     "slide_type": "subslide"
    },
    "tags": [
     "subslide"
    ]
   },
   "source": [
    "\n",
    "## Relationale Datenbanken:\n",
    "\n",
    "<img src=\"img/relational-db-01.png\"\n",
    "     style=\"width:100%;margin:auto\" alt=\"Relationale Datenbank\"></img>"
   ]
  },
  {
   "cell_type": "markdown",
   "id": "85c52e8276ca0335",
   "metadata": {
    "lang": "de",
    "lines_to_next_cell": 2,
    "slideshow": {
     "slide_type": "subslide"
    },
    "tags": [
     "subslide"
    ]
   },
   "source": [
    "\n",
    "### Relationale Datenbanken\n",
    "\n",
    "- Verwenden eine tabellenbasierte Struktur zum Speichern von Daten\n",
    "- Daten werden in Zeilen und Spalten organisiert\n",
    "  - Spalten sind Attribute\n",
    "  - Zeilen sind Datensätze\n",
    "- Beziehungen zwischen Tabellen werden durch Primär- und Fremdschlüssel hergestellt\n",
    "- Beispiele sind MySQL, PostgreSQL und Oracle Database"
   ]
  },
  {
   "cell_type": "markdown",
   "id": "a8a314dfa2d17fa0",
   "metadata": {
    "lang": "de",
    "slideshow": {
     "slide_type": "subslide"
    },
    "tags": [
     "subslide"
    ]
   },
   "source": [
    "\n",
    "### NoSQL-Datenbanken:\n",
    "\n",
    "Dies ist eine allgemeine Kategorie, die auch andere umfasst, wie z.B. graph-\n",
    "oder dokumentenorientierte Datenbanken.\n",
    "\n",
    "- Entwickelt für unstrukturierte Daten und nicht-relationale Datenmodelle\n",
    "- Sie verwenden oft keine Tabellen und kein festes Schema\n",
    "  - Es gibt aber auch NoSQL Datenbanken mit festem Schema\n",
    "- Daten werden als Schlüssel-Wert-Paare, JSON oder in anderen Formaten\n",
    "  gespeichert\n",
    "- Beispiele sind MongoDB, Couchbase und Cassandra"
   ]
  },
  {
   "cell_type": "markdown",
   "id": "82c83601b187549f",
   "metadata": {
    "lang": "de",
    "slideshow": {
     "slide_type": "subslide"
    },
    "tags": [
     "subslide"
    ]
   },
   "source": [
    "\n",
    "### Graph-Datenbanken\n",
    "\n",
    "<img src=\"img/graph-db-01.png\"\n",
    "     style=\"width:70%;margin:auto\" alt=\"Graph Datenbank\"></img>"
   ]
  },
  {
   "cell_type": "markdown",
   "id": "22bb268193f0cda6",
   "metadata": {
    "lang": "de",
    "slideshow": {
     "slide_type": "subslide"
    },
    "tags": [
     "subslide"
    ]
   },
   "source": [
    "\n",
    "### Graph-Datenbanken\n",
    "\n",
    "- Entwickelt, um komplexe Beziehungen zwischen Datenpunkten darzustellen.\n",
    "- Daten werden als Knoten, Kanten und Eigenschaften gespeichert\n",
    "- Das Durchlaufen des Graphen ermöglicht komplexe Abfragen und Analysen\n",
    "- Beispiele sind Neo4j und OrientDB"
   ]
  },
  {
   "cell_type": "markdown",
   "id": "da6e3fe39217613d",
   "metadata": {
    "lang": "de",
    "slideshow": {
     "slide_type": "subslide"
    },
    "tags": [
     "subslide"
    ]
   },
   "source": [
    "\n",
    "### Objektorientierte Datenbanken\n",
    "\n",
    "- Entwickelt, um Objekte, Klassen und Methoden zu speichern.\n",
    "- Daten werden als Objekte mit Attributen und Verhaltensweisen\n",
    "  gespeichert\n",
    "- Sie unterstützen Vererbung und Polymorphismus\n",
    "- Beispiele sind db4o und ObjectDB"
   ]
  },
  {
   "cell_type": "markdown",
   "id": "33c3c9576c515f52",
   "metadata": {
    "lang": "de",
    "slideshow": {
     "slide_type": "subslide"
    },
    "tags": [
     "subslide"
    ]
   },
   "source": [
    "\n",
    "### Dokumentorientierte Datenbanken\n",
    "\n",
    "- Entwickelt für die Speicherung und Verwaltung von Dokumenten\n",
    "- Daten werden als JSON, XML oder in anderen Formaten gespeichert\n",
    "- Flexibles Schema, das sich ändern kann, wenn sich die Daten ändern\n",
    "- Beispiele sind MongoDB, CouchDB und RavenDB"
   ]
  }
 ],
 "metadata": {
  "jupytext": {
   "cell_metadata_filter": "lang,tags,-all",
   "main_language": "python",
   "notebook_metadata_filter": "-all"
  },
  "kernelspec": {
   "display_name": "Python 3 (ipykernel)",
   "language": "python",
   "name": "python3"
  },
  "language_info": {
   "codemirror_mode": {
    "name": "ipython",
    "version": 3
   },
   "file_extension": ".py",
   "mimetype": "text/x-python",
   "name": "python",
   "nbconvert_exporter": "python",
   "pygments_lexer": "ipython3"
  }
 },
 "nbformat": 4,
 "nbformat_minor": 5
}
