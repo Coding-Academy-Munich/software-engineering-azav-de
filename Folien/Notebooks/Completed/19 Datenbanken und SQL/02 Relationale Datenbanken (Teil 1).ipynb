{
 "cells": [
  {
   "cell_type": "markdown",
   "id": "f616753d53980b78",
   "metadata": {
    "lang": "de",
    "slideshow": {
     "slide_type": "slide"
    },
    "tags": [
     "slide"
    ]
   },
   "source": [
    "\n",
    "<img src=\"data:image/svg+xml;base64,PHN2ZyB4bWxucz0iaHR0cDovL3d3dy53My5vcmcvMjAwMC9zdmciIHhtbG5zOnhsaW5rPSJodHRw\n",
    "Oi8vd3d3LnczLm9yZy8xOTk5L3hsaW5rIiB3aWR0aD0iMTExLjE2MSIgaGVpZ2h0PSIxMzQuNjY4\n",
    "IiB2ZXJzaW9uPSIxLjAiPjxkZWZzPjxsaW5lYXJHcmFkaWVudCBpZD0iYyI+PHN0b3Agb2Zmc2V0\n",
    "PSIwIiBzdHlsZT0ic3RvcC1jb2xvcjojYjhiOGI4O3N0b3Atb3BhY2l0eTouNDk4MDM5MjIiLz48\n",
    "c3RvcCBvZmZzZXQ9IjEiIHN0eWxlPSJzdG9wLWNvbG9yOiM3ZjdmN2Y7c3RvcC1vcGFjaXR5OjAi\n",
    "Lz48L2xpbmVhckdyYWRpZW50PjxsaW5lYXJHcmFkaWVudCBpZD0iYSI+PHN0b3Agb2Zmc2V0PSIw\n",
    "IiBzdHlsZT0ic3RvcC1jb2xvcjojZmZkNDNiO3N0b3Atb3BhY2l0eToxIi8+PHN0b3Agb2Zmc2V0\n",
    "PSIxIiBzdHlsZT0ic3RvcC1jb2xvcjojZmZlODczO3N0b3Atb3BhY2l0eToxIi8+PC9saW5lYXJH\n",
    "cmFkaWVudD48bGluZWFyR3JhZGllbnQgaWQ9ImIiPjxzdG9wIG9mZnNldD0iMCIgc3R5bGU9InN0\n",
    "b3AtY29sb3I6IzVhOWZkNDtzdG9wLW9wYWNpdHk6MSIvPjxzdG9wIG9mZnNldD0iMSIgc3R5bGU9\n",
    "InN0b3AtY29sb3I6IzMwNjk5ODtzdG9wLW9wYWNpdHk6MSIvPjwvbGluZWFyR3JhZGllbnQ+PGxp\n",
    "bmVhckdyYWRpZW50IHhsaW5rOmhyZWY9IiNhIiBpZD0iZSIgeDE9IjE1MC45NjEiIHgyPSIxMTIu\n",
    "MDMxIiB5MT0iMTkyLjM1MiIgeTI9IjEzNy4yNzMiIGdyYWRpZW50VHJhbnNmb3JtPSJtYXRyaXgo\n",
    "LjU2MjU0IDAgMCAuNTY3OTcgLTE0Ljk5MSAtMTEuNzAyKSIgZ3JhZGllbnRVbml0cz0idXNlclNw\n",
    "YWNlT25Vc2UiLz48bGluZWFyR3JhZGllbnQgeGxpbms6aHJlZj0iI2IiIGlkPSJkIiB4MT0iMjYu\n",
    "NjQ5IiB4Mj0iMTM1LjY2NSIgeTE9IjIwLjYwNCIgeTI9IjExNC4zOTgiIGdyYWRpZW50VHJhbnNm\n",
    "b3JtPSJtYXRyaXgoLjU2MjU0IDAgMCAuNTY3OTcgLTE0Ljk5MSAtMTEuNzAyKSIgZ3JhZGllbnRV\n",
    "bml0cz0idXNlclNwYWNlT25Vc2UiLz48cmFkaWFsR3JhZGllbnQgeGxpbms6aHJlZj0iI2MiIGlk\n",
    "PSJmIiBjeD0iNjEuNTE5IiBjeT0iMTMyLjI4NiIgcj0iMjkuMDM3IiBmeD0iNjEuNTE5IiBmeT0i\n",
    "MTMyLjI4NiIgZ3JhZGllbnRUcmFuc2Zvcm09Im1hdHJpeCgwIC0uMjM5OTUgMS4wNTQ2NyAwIC04\n",
    "My43IDE0Mi40NjIpIiBncmFkaWVudFVuaXRzPSJ1c2VyU3BhY2VPblVzZSIvPjwvZGVmcz48cGF0\n",
    "aCBkPSJNNTQuOTE5IDBjLTQuNTg0LjAyMi04Ljk2MS40MTMtMTIuODEzIDEuMDk1QzMwLjc2IDMu\n",
    "MDk5IDI4LjcgNy4yOTUgMjguNyAxNS4wMzJ2MTAuMjE5aDI2LjgxM3YzLjQwNkgxOC42MzhjLTcu\n",
    "NzkzIDAtMTQuNjE2IDQuNjg0LTE2Ljc1IDEzLjU5NC0yLjQ2MiAxMC4yMTMtMi41NzEgMTYuNTg2\n",
    "IDAgMjcuMjUgMS45MDUgNy45MzggNi40NTcgMTMuNTk0IDE0LjI1IDEzLjU5NGg5LjIxOHYtMTIu\n",
    "MjVjMC04Ljg1IDcuNjU3LTE2LjY1NyAxNi43NS0xNi42NTdoMjYuNzgyYzcuNDU0IDAgMTMuNDA2\n",
    "LTYuMTM4IDEzLjQwNi0xMy42MjV2LTI1LjUzYzAtNy4yNjctNi4xMy0xMi43MjYtMTMuNDA2LTEz\n",
    "LjkzOEM2NC4yODIuMzI4IDU5LjUwMi0uMDIgNTQuOTE4IDBtLTE0LjUgOC4yMmMyLjc3IDAgNS4w\n",
    "MzEgMi4yOTggNS4wMzEgNS4xMjUgMCAyLjgxNi0yLjI2MiA1LjA5My01LjAzMSA1LjA5My0yLjc4\n",
    "IDAtNS4wMzEtMi4yNzctNS4wMzEtNS4wOTMgMC0yLjgyNyAyLjI1MS01LjEyNSA1LjAzLTUuMTI1\n",
    "IiBzdHlsZT0iZmlsbDp1cmwoI2QpO2ZpbGwtb3BhY2l0eToxIi8+PHBhdGggZD0iTTg1LjYzOCAy\n",
    "OC42NTd2MTEuOTA2YzAgOS4yMzEtNy44MjYgMTctMTYuNzUgMTdINDIuMTA2Yy03LjMzNiAwLTEz\n",
    "LjQwNiA2LjI3OS0xMy40MDYgMTMuNjI1Vjk2LjcyYzAgNy4yNjYgNi4zMTkgMTEuNTQgMTMuNDA2\n",
    "IDEzLjYyNSA4LjQ4OCAyLjQ5NSAxNi42MjcgMi45NDYgMjYuNzgyIDAgNi43NS0xLjk1NSAxMy40\n",
    "MDYtNS44ODggMTMuNDA2LTEzLjYyNVY4Ni41SDU1LjUxM3YtMy40MDVIOTUuN2M3Ljc5MyAwIDEw\n",
    "LjY5Ni01LjQzNiAxMy40MDYtMTMuNTk0IDIuOC04LjM5OSAyLjY4LTE2LjQ3NiAwLTI3LjI1LTEu\n",
    "OTI1LTcuNzU4LTUuNjA0LTEzLjU5NC0xMy40MDYtMTMuNTk0ek03MC41NzUgOTMuMzEzYzIuNzgg\n",
    "MCA1LjAzMSAyLjI3OCA1LjAzMSA1LjA5NCAwIDIuODI3LTIuMjUxIDUuMTI1LTUuMDMxIDUuMTI1\n",
    "LTIuNzcgMC01LjAzMS0yLjI5OC01LjAzMS01LjEyNSAwLTIuODE2IDIuMjYxLTUuMDk0IDUuMDMx\n",
    "LTUuMDk0IiBzdHlsZT0iZmlsbDp1cmwoI2UpO2ZpbGwtb3BhY2l0eToxIi8+PGVsbGlwc2UgY3g9\n",
    "IjU1LjgxNyIgY3k9IjEyNy43MDEiIHJ4PSIzNS45MzEiIHJ5PSI2Ljk2NyIgc3R5bGU9Im9wYWNp\n",
    "dHk6LjQ0MzgyO2ZpbGw6dXJsKCNmKTtmaWxsLW9wYWNpdHk6MTtmaWxsLXJ1bGU6bm9uemVybztz\n",
    "dHJva2U6bm9uZTtzdHJva2Utd2lkdGg6MTUuNDE3NDtzdHJva2UtbWl0ZXJsaW1pdDo0O3N0cm9r\n",
    "ZS1kYXNoYXJyYXk6bm9uZTtzdHJva2Utb3BhY2l0eToxIi8+PC9zdmc+\n",
    "\"\n",
    "     style=\"display:block;margin:auto;width:10%\" alt=\"Python Logo\"/>\n",
    "<br>\n",
    "\n",
    "<div style=\"text-align:center; font-size:200%;\">\n",
    " <b>Relationale Datenbanken (Teil 1)</b>\n",
    "</div>\n",
    "<br/>\n",
    "<div style=\"text-align:center;\">Dr. Matthias Hölzl</div>\n",
    "<br/>"
   ]
  },
  {
   "cell_type": "markdown",
   "id": "6375633c1227f112",
   "metadata": {
    "lang": "de",
    "slideshow": {
     "slide_type": "subslide"
    },
    "tags": [
     "subslide"
    ]
   },
   "source": [
    "\n",
    "## Relationale Datenbanken:\n",
    "\n",
    "<img src=\"img/relational-db-01.png\"\n",
    "     style=\"width:100%;margin:auto\" alt=\"Relationale Datenbank\"></img>"
   ]
  },
  {
   "cell_type": "markdown",
   "id": "e26598f427fc94bb",
   "metadata": {
    "lang": "de",
    "slideshow": {
     "slide_type": "subslide"
    },
    "tags": [
     "subslide"
    ]
   },
   "source": [
    "\n",
    "# Relationale Datenbanken\n",
    "\n",
    "- Speichert Daten in Tabellen mit vordefinierten Beziehungen\n",
    "  - Tabellen bestehen aus Zeilen und Spalten\n",
    "  - Jede Tabelle hat einen Primärschlüssel, der jede Zeile eindeutig identifiziert\n",
    "  - Beziehungen zwischen Tabellen werden über Fremdschlüssel hergestellt\n",
    "- Verwendet in der Regel SQL als Abfragesprache"
   ]
  },
  {
   "cell_type": "markdown",
   "id": "1e5767f358e2ca0f",
   "metadata": {
    "lang": "de",
    "slideshow": {
     "slide_type": "subslide"
    },
    "tags": [
     "subslide"
    ]
   },
   "source": [
    "\n",
    "## Tabellen und Zeilen\n",
    "\n",
    "- Daten werden in Tabellen organisiert\n",
    "- Jede Tabelle hat eine feste Struktur:\n",
    "  - Einen Namen\n",
    "  - Benannte Spalten mit vorgegebenen Datentypen\n",
    "- Jede Zeile in einer Tabelle stellt einen einzelnen Datensatz dar\n",
    "- Zeilen werden durch einen eindeutigen Bezeichner oder Primärschlüssel\n",
    "  identifiziert"
   ]
  },
  {
   "cell_type": "markdown",
   "id": "0a38221b41000b8b",
   "metadata": {
    "lang": "de",
    "slideshow": {
     "slide_type": "subslide"
    },
    "tags": [
     "subslide"
    ]
   },
   "source": [
    "\n",
    "## Beispiel: Datenbank für ein Online-Lebensmittelgeschäft\n",
    "\n",
    "- Gespeicherte Daten:\n",
    "  - Speisen und Getränke\n",
    "  - Kunden\n",
    "  - Bestellungen\n",
    "  - Rechnungen\n",
    "  - ..."
   ]
  },
  {
   "cell_type": "markdown",
   "id": "636c04022910122e",
   "metadata": {
    "lang": "de",
    "slideshow": {
     "slide_type": "subslide"
    },
    "tags": [
     "subslide"
    ]
   },
   "source": [
    "\n",
    "Tabelle `customers` für Kunden:\n",
    "\n",
    "| id | name         | address      |\n",
    "|----|--------------|--------------|\n",
    "|  1 | John Smith   | 123 Elm St   |\n",
    "|  2 | Jane Doe     | 456 Oak St   |\n",
    "\n",
    "Tabelle `products` für Produkte:\n",
    "\n",
    "| id   | product_name | price | description                                |\n",
    "|------|--------------|-------|--------------------------------------------|\n",
    "| 2341 | Tomatensuppe |  1.99 | Unsere fantastische Tomatensuppe in Dosen. |\n",
    "|  346 | Kichererbsen |  0.59 | In Wasser einweichen und genießen...       |"
   ]
  },
  {
   "cell_type": "markdown",
   "id": "bbb3fdddd800f53a",
   "metadata": {
    "lang": "de",
    "slideshow": {
     "slide_type": "subslide"
    },
    "tags": [
     "subslide"
    ]
   },
   "source": [
    "\n",
    "## Spalten und Datentypen\n",
    "\n",
    "- Spalten stellen die Attribute oder Eigenschaften eines jeden Datensatzes\n",
    "  dar.\n",
    "- Jede Spalte hat einen bestimmten Datentyp, z. B. String, Integer oder Datum\n",
    "  - Datentypen sind weniger flexibel als in Python\n",
    "  - Sie helfen, die Konsistenz und Genauigkeit der Daten zu\n",
    "    gewährleisten."
   ]
  },
  {
   "cell_type": "markdown",
   "id": "55e019eedeb3e148",
   "metadata": {
    "lang": "de",
    "slideshow": {
     "slide_type": "subslide"
    },
    "tags": [
     "subslide"
    ]
   },
   "source": [
    "\n",
    "## Das SQLite-Datenbanksystem\n",
    "\n",
    "- [SQLite](https://www.sqlite.org/) ist eine leichtgewichtige, dateibasierte\n",
    "  relationale Datenbank\n",
    "  - Streng genommen: ein Datenbanksystem (DBMS)\n",
    "- Sie ist in C geschrieben und benötigt keine separate Serverinstallation\n",
    "  - SQLite kann in Anwendungen eingebettet werden\n",
    "- SQLite ist ideal für kleine bis mittelgroße Anwendungen und\n",
    "  Entwicklungsumgebungen"
   ]
  },
  {
   "cell_type": "markdown",
   "id": "1d10130738c1fc5d",
   "metadata": {
    "lang": "de",
    "slideshow": {
     "slide_type": "subslide"
    },
    "tags": [
     "subslide"
    ]
   },
   "source": [
    "\n",
    "## Ausführen von SQLite\n",
    "\n",
    "- SQLite kann über die Kommandozeile oder in Python-Skripten verwendet werden\n",
    "- Um die SQLite-Shell zu starten, geben Sie `sqlite3` in der Kommandozeile ein\n",
    "- Um eine Datenbank zu erstellen oder zu öffnen, geben Sie den Namen der Datenbankdatei an\n",
    "- Beispiel:\n",
    "```bash\n",
    "sqlite3 shop.db\n",
    "```"
   ]
  },
  {
   "cell_type": "markdown",
   "id": "9a1be4f3c4c9da5e",
   "metadata": {
    "lang": "de",
    "slideshow": {
     "slide_type": "subslide"
    },
    "tags": [
     "subslide"
    ]
   },
   "source": [
    "\n",
    "## DB-Browser für SQLite\n",
    "\n",
    "- Der DB-Browser für SQLite ist eine grafische Benutzeroberfläche zur\n",
    "  Verwaltung von SQLite-Datenbanken\n",
    "- Er ermöglicht das Erstellen, Bearbeiten und Abfragen von Datenbanken\n",
    "- Das ist oft einfacher als die Verwendung der Kommandozeile\n",
    "\n",
    "[DB-Browser für SQLite](https://sqlitebrowser.org/)"
   ]
  },
  {
   "cell_type": "markdown",
   "id": "9329953ff45b9484",
   "metadata": {
    "lang": "de",
    "slideshow": {
     "slide_type": "subslide"
    },
    "tags": [
     "subslide"
    ]
   },
   "source": [
    "\n",
    "## Beispiel: Erstellen einer Datenbank in DB-Browser für SQLite\n",
    "\n",
    "1. Öffnen Sie DB-Browser für SQLite\n",
    "2. Klicken Sie auf \"Neue Datenbank\"\n",
    "3. Wählen Sie einen Speicherort aus und geben Sie `shop.sqlite` als Dateinamen\n",
    "   ein\n",
    "4. Klicken Sie auf OK\n",
    "   - Es öffnet sich ein Fenster zum Erstellen einer Tabelle\n",
    "5. Erstellen Sie eine Tabelle:\n",
    "   - Geben Sie den Tabellennamen `customers` ein\n",
    "   - Fügen Sie Felder hinzu:\n",
    "     - `id` (INTEGER)\n",
    "     - `name` (TEXT)\n",
    "     - `address` (TEXT)\n",
    "6. Klicken Sie auf \"OK\" und dann auf \"Änderungen schreiben\""
   ]
  },
  {
   "cell_type": "markdown",
   "id": "3d56a711bb45afd6",
   "metadata": {
    "lang": "de",
    "lines_to_next_cell": 2,
    "slideshow": {
     "slide_type": "subslide"
    },
    "tags": [
     "subslide"
    ]
   },
   "source": [
    "\n",
    "## Einfügen von Daten in eine Tabelle\n",
    "\n",
    "- Gehen Sie zum Reiter \"Daten durchsuchen\"\n",
    "- Klicken Sie auf das Icon zum Einfügen einer neuen Zeile\n",
    "- Geben Sie Werte für die Felder ein\n",
    "  - Sie können das direkt in der Tabelle tun\n",
    "  - Es empfiehlt sich, die Breite der Spalten anpassen, um mehr Platz zu haben\n",
    "  - Sie können Änderungen auch im Fenster \"Datenbankzelle bearbeiten\"\n",
    "    vornehmen\n",
    "  - Danach müssen Sie auf \"Übernehmen\" klicken, um die Änderungen in die\n",
    "    Tabelle zu übernehmen\n",
    "- Klicken Sie auf \"Änderungen schreiben\", um die Daten zu speichern"
   ]
  },
  {
   "cell_type": "markdown",
   "id": "6a54b45bf0023e23",
   "metadata": {
    "lang": "de",
    "slideshow": {
     "slide_type": "subslide"
    },
    "tags": [
     "subslide"
    ]
   },
   "source": [
    "\n",
    "## Workshop: Erstellen der Produkt-Tabelle\n",
    "\n",
    "Erstellen Sie die Tabelle `products` mit den folgenden Feldern:\n",
    "- `id` (`INTEGER`)\n",
    "- `product_name` (`TEXT`)\n",
    "- `price` (`REAL`)"
   ]
  },
  {
   "cell_type": "markdown",
   "id": "56f6cc35a5ad6760",
   "metadata": {
    "lang": "de",
    "slideshow": {
     "slide_type": "subslide"
    },
    "tags": [
     "subslide"
    ]
   },
   "source": [
    "\n",
    "Fügen Sie einige Produkte hinzu:\n",
    "- `id`: 2341, `product_name`: \"Tomatensuppe\", `price`: 1.99, `description`: \"Leckere Tomatensuppe\"\n",
    "- `id`: 346, `product_name`: \"Kichererbsen\", `price`: 0.59, `description`: \"Gesunde Kichererbsen\""
   ]
  },
  {
   "cell_type": "markdown",
   "id": "baddb9ce726fdfdd",
   "metadata": {
    "lang": "de",
    "slideshow": {
     "slide_type": "subslide"
    },
    "tags": [
     "subslide"
    ]
   },
   "source": [
    "\n",
    "- Was passiert, wenn Sie versuchen, zwei Zeilen mit den gleichen Werten für\n",
    "  alle Felder einzufügen?"
   ]
  }
 ],
 "metadata": {
  "jupytext": {
   "cell_metadata_filter": "lang,tags,-all",
   "main_language": "python",
   "notebook_metadata_filter": "-all"
  },
  "kernelspec": {
   "display_name": "Python 3 (ipykernel)",
   "language": "python",
   "name": "python3"
  },
  "language_info": {
   "codemirror_mode": {
    "name": "ipython",
    "version": 3
   },
   "file_extension": ".py",
   "mimetype": "text/x-python",
   "name": "python",
   "nbconvert_exporter": "python",
   "pygments_lexer": "ipython3"
  }
 },
 "nbformat": 4,
 "nbformat_minor": 5
}
