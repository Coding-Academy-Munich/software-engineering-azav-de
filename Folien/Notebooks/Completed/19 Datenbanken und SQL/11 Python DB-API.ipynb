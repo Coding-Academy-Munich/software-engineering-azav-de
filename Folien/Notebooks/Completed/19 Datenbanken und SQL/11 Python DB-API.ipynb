{
 "cells": [
  {
   "cell_type": "markdown",
   "id": "05d60d9469811864",
   "metadata": {
    "lang": "de",
    "slideshow": {
     "slide_type": "slide"
    },
    "tags": [
     "slide"
    ]
   },
   "source": [
    "\n",
    "<img src=\"data:image/svg+xml;base64,PHN2ZyB4bWxucz0iaHR0cDovL3d3dy53My5vcmcvMjAwMC9zdmciIHhtbG5zOnhsaW5rPSJodHRw\n",
    "Oi8vd3d3LnczLm9yZy8xOTk5L3hsaW5rIiB3aWR0aD0iMTExLjE2MSIgaGVpZ2h0PSIxMzQuNjY4\n",
    "IiB2ZXJzaW9uPSIxLjAiPjxkZWZzPjxsaW5lYXJHcmFkaWVudCBpZD0iYyI+PHN0b3Agb2Zmc2V0\n",
    "PSIwIiBzdHlsZT0ic3RvcC1jb2xvcjojYjhiOGI4O3N0b3Atb3BhY2l0eTouNDk4MDM5MjIiLz48\n",
    "c3RvcCBvZmZzZXQ9IjEiIHN0eWxlPSJzdG9wLWNvbG9yOiM3ZjdmN2Y7c3RvcC1vcGFjaXR5OjAi\n",
    "Lz48L2xpbmVhckdyYWRpZW50PjxsaW5lYXJHcmFkaWVudCBpZD0iYSI+PHN0b3Agb2Zmc2V0PSIw\n",
    "IiBzdHlsZT0ic3RvcC1jb2xvcjojZmZkNDNiO3N0b3Atb3BhY2l0eToxIi8+PHN0b3Agb2Zmc2V0\n",
    "PSIxIiBzdHlsZT0ic3RvcC1jb2xvcjojZmZlODczO3N0b3Atb3BhY2l0eToxIi8+PC9saW5lYXJH\n",
    "cmFkaWVudD48bGluZWFyR3JhZGllbnQgaWQ9ImIiPjxzdG9wIG9mZnNldD0iMCIgc3R5bGU9InN0\n",
    "b3AtY29sb3I6IzVhOWZkNDtzdG9wLW9wYWNpdHk6MSIvPjxzdG9wIG9mZnNldD0iMSIgc3R5bGU9\n",
    "InN0b3AtY29sb3I6IzMwNjk5ODtzdG9wLW9wYWNpdHk6MSIvPjwvbGluZWFyR3JhZGllbnQ+PGxp\n",
    "bmVhckdyYWRpZW50IHhsaW5rOmhyZWY9IiNhIiBpZD0iZSIgeDE9IjE1MC45NjEiIHgyPSIxMTIu\n",
    "MDMxIiB5MT0iMTkyLjM1MiIgeTI9IjEzNy4yNzMiIGdyYWRpZW50VHJhbnNmb3JtPSJtYXRyaXgo\n",
    "LjU2MjU0IDAgMCAuNTY3OTcgLTE0Ljk5MSAtMTEuNzAyKSIgZ3JhZGllbnRVbml0cz0idXNlclNw\n",
    "YWNlT25Vc2UiLz48bGluZWFyR3JhZGllbnQgeGxpbms6aHJlZj0iI2IiIGlkPSJkIiB4MT0iMjYu\n",
    "NjQ5IiB4Mj0iMTM1LjY2NSIgeTE9IjIwLjYwNCIgeTI9IjExNC4zOTgiIGdyYWRpZW50VHJhbnNm\n",
    "b3JtPSJtYXRyaXgoLjU2MjU0IDAgMCAuNTY3OTcgLTE0Ljk5MSAtMTEuNzAyKSIgZ3JhZGllbnRV\n",
    "bml0cz0idXNlclNwYWNlT25Vc2UiLz48cmFkaWFsR3JhZGllbnQgeGxpbms6aHJlZj0iI2MiIGlk\n",
    "PSJmIiBjeD0iNjEuNTE5IiBjeT0iMTMyLjI4NiIgcj0iMjkuMDM3IiBmeD0iNjEuNTE5IiBmeT0i\n",
    "MTMyLjI4NiIgZ3JhZGllbnRUcmFuc2Zvcm09Im1hdHJpeCgwIC0uMjM5OTUgMS4wNTQ2NyAwIC04\n",
    "My43IDE0Mi40NjIpIiBncmFkaWVudFVuaXRzPSJ1c2VyU3BhY2VPblVzZSIvPjwvZGVmcz48cGF0\n",
    "aCBkPSJNNTQuOTE5IDBjLTQuNTg0LjAyMi04Ljk2MS40MTMtMTIuODEzIDEuMDk1QzMwLjc2IDMu\n",
    "MDk5IDI4LjcgNy4yOTUgMjguNyAxNS4wMzJ2MTAuMjE5aDI2LjgxM3YzLjQwNkgxOC42MzhjLTcu\n",
    "NzkzIDAtMTQuNjE2IDQuNjg0LTE2Ljc1IDEzLjU5NC0yLjQ2MiAxMC4yMTMtMi41NzEgMTYuNTg2\n",
    "IDAgMjcuMjUgMS45MDUgNy45MzggNi40NTcgMTMuNTk0IDE0LjI1IDEzLjU5NGg5LjIxOHYtMTIu\n",
    "MjVjMC04Ljg1IDcuNjU3LTE2LjY1NyAxNi43NS0xNi42NTdoMjYuNzgyYzcuNDU0IDAgMTMuNDA2\n",
    "LTYuMTM4IDEzLjQwNi0xMy42MjV2LTI1LjUzYzAtNy4yNjctNi4xMy0xMi43MjYtMTMuNDA2LTEz\n",
    "LjkzOEM2NC4yODIuMzI4IDU5LjUwMi0uMDIgNTQuOTE4IDBtLTE0LjUgOC4yMmMyLjc3IDAgNS4w\n",
    "MzEgMi4yOTggNS4wMzEgNS4xMjUgMCAyLjgxNi0yLjI2MiA1LjA5My01LjAzMSA1LjA5My0yLjc4\n",
    "IDAtNS4wMzEtMi4yNzctNS4wMzEtNS4wOTMgMC0yLjgyNyAyLjI1MS01LjEyNSA1LjAzLTUuMTI1\n",
    "IiBzdHlsZT0iZmlsbDp1cmwoI2QpO2ZpbGwtb3BhY2l0eToxIi8+PHBhdGggZD0iTTg1LjYzOCAy\n",
    "OC42NTd2MTEuOTA2YzAgOS4yMzEtNy44MjYgMTctMTYuNzUgMTdINDIuMTA2Yy03LjMzNiAwLTEz\n",
    "LjQwNiA2LjI3OS0xMy40MDYgMTMuNjI1Vjk2LjcyYzAgNy4yNjYgNi4zMTkgMTEuNTQgMTMuNDA2\n",
    "IDEzLjYyNSA4LjQ4OCAyLjQ5NSAxNi42MjcgMi45NDYgMjYuNzgyIDAgNi43NS0xLjk1NSAxMy40\n",
    "MDYtNS44ODggMTMuNDA2LTEzLjYyNVY4Ni41SDU1LjUxM3YtMy40MDVIOTUuN2M3Ljc5MyAwIDEw\n",
    "LjY5Ni01LjQzNiAxMy40MDYtMTMuNTk0IDIuOC04LjM5OSAyLjY4LTE2LjQ3NiAwLTI3LjI1LTEu\n",
    "OTI1LTcuNzU4LTUuNjA0LTEzLjU5NC0xMy40MDYtMTMuNTk0ek03MC41NzUgOTMuMzEzYzIuNzgg\n",
    "MCA1LjAzMSAyLjI3OCA1LjAzMSA1LjA5NCAwIDIuODI3LTIuMjUxIDUuMTI1LTUuMDMxIDUuMTI1\n",
    "LTIuNzcgMC01LjAzMS0yLjI5OC01LjAzMS01LjEyNSAwLTIuODE2IDIuMjYxLTUuMDk0IDUuMDMx\n",
    "LTUuMDk0IiBzdHlsZT0iZmlsbDp1cmwoI2UpO2ZpbGwtb3BhY2l0eToxIi8+PGVsbGlwc2UgY3g9\n",
    "IjU1LjgxNyIgY3k9IjEyNy43MDEiIHJ4PSIzNS45MzEiIHJ5PSI2Ljk2NyIgc3R5bGU9Im9wYWNp\n",
    "dHk6LjQ0MzgyO2ZpbGw6dXJsKCNmKTtmaWxsLW9wYWNpdHk6MTtmaWxsLXJ1bGU6bm9uemVybztz\n",
    "dHJva2U6bm9uZTtzdHJva2Utd2lkdGg6MTUuNDE3NDtzdHJva2UtbWl0ZXJsaW1pdDo0O3N0cm9r\n",
    "ZS1kYXNoYXJyYXk6bm9uZTtzdHJva2Utb3BhY2l0eToxIi8+PC9zdmc+\n",
    "\"\n",
    "     style=\"display:block;margin:auto;width:10%\" alt=\"Python Logo\"/>\n",
    "<br>\n",
    "\n",
    "<div style=\"text-align:center; font-size:200%;\">\n",
    " <b>Python DB-API</b>\n",
    "</div>\n",
    "<br/>\n",
    "<div style=\"text-align:center;\">Dr. Matthias Hölzl</div>\n",
    "<br/>"
   ]
  },
  {
   "cell_type": "markdown",
   "id": "0d1eff60bbadb663",
   "metadata": {
    "lang": "de",
    "lines_to_next_cell": 2,
    "slideshow": {
     "slide_type": "slide"
    },
    "tags": [
     "slide"
    ]
   },
   "source": [
    "\n",
    "# Datenbanken in Python: DB-API 2.0\n",
    "\n",
    "- Python hat ein standardisiertes API für SQL-Datenbanken\n",
    "- Die Spezifikation ist in [PEP-249](https://peps.python.org/pep-0249/)\n",
    "- Wir verwenden beispielhaft das `sqlite3` Modul\n",
    "  - Dieses Modul ist in der Standard-Installation von Python enthalten\n",
    "  - Es bietet einen Modus, in dem die Datenbank nur im Arbeitsspeicher gehalten wird\n",
    "  - Andere SQL-Datenbanken funktionieren ähnlich, haben aber gewisse Variationen"
   ]
  },
  {
   "cell_type": "markdown",
   "id": "02e2a5cf96f0d6d4",
   "metadata": {
    "lang": "de",
    "slideshow": {
     "slide_type": "subslide"
    },
    "tags": [
     "subslide"
    ]
   },
   "source": [
    "\n",
    "## Grundlegende Konzepte\n",
    "\n",
    "- Datenbanken werden über eine *Verbindung* *(\"Connection\")* angesprochen\n",
    "- Zum Ausführen von Anweisungen (und Zugriff auf die Ergebnisse) benötigen\n",
    "  wir einen *Cursor*\n",
    "- Weitere Klassen, wie `Row` oder `Blob` dienen zum Umgang mit Ergebnissen."
   ]
  },
  {
   "cell_type": "markdown",
   "id": "2a50ccec417f1104",
   "metadata": {
    "lang": "de",
    "slideshow": {
     "slide_type": "subslide"
    },
    "tags": [
     "subslide"
    ]
   },
   "source": [
    "\n",
    "## Erzeugen einer Verbindung\n",
    "\n",
    "- Eine `Connection`-Instanz wird mit `sqlite3.connect()` erzeugt\n",
    "- Argumente zu `connect()` beschreiben die Konfiguration der Datenbank\n",
    "- Mit `\":memory:\"` wird eine In-Memory-Datenbank erzeugt\n",
    "- Connections verwalten Transaktionen, falls die Datenbank das unterstützt:\n",
    "  - `connection.commit()` existiert immer, macht möglicherweise nichts\n",
    "  - `connection.rollback()` existiert nur, falls die DB Transaktionen unterstützt"
   ]
  },
  {
   "cell_type": "markdown",
   "id": "ce5434d2a1f03951",
   "metadata": {
    "lang": "de",
    "slideshow": {
     "slide_type": "subslide"
    },
    "tags": [
     "subslide"
    ]
   },
   "source": [
    "\n",
    "Wir erstellen eine temporäre Datei für eine sqlite3-Datenbank, damit die Daten\n",
    "erhalten bleiben, wenn wir eine Verbindung trennen und wiederherstellen.\n",
    "\n",
    "Wenn dies Probleme verursacht, können Sie entweder\n",
    "\n",
    "- den Pfad, unter dem die Datenbank gespeichert werden soll in der Variable\n",
    "  `DB` speichern oder\n",
    "- die Variable `DB` auf den speziellen Namen `:memory:` setzen, um eine\n",
    "  In-Memory-Datenbank zu erstellen. In diesem Fall sollten Sie die Befehle\n",
    "  nicht ausführen, die die die Datenbankverbindung trennen und wieder\n",
    "  herstellen."
   ]
  },
  {
   "cell_type": "code",
   "execution_count": null,
   "id": "b1ca56c1e42ce1a0",
   "metadata": {
    "tags": [
     "keep"
    ]
   },
   "outputs": [],
   "source": [
    "import tempfile"
   ]
  },
  {
   "cell_type": "code",
   "execution_count": null,
   "id": "e28fa94348583bce",
   "metadata": {
    "tags": [
     "keep"
    ]
   },
   "outputs": [],
   "source": [
    "DB = \":memory:\"\n",
    "print(f\"Database path: {DB}\")"
   ]
  },
  {
   "cell_type": "code",
   "execution_count": null,
   "id": "4e3210b404bdec99",
   "metadata": {
    "tags": [
     "keep"
    ]
   },
   "outputs": [],
   "source": [
    "import sqlite3"
   ]
  },
  {
   "cell_type": "code",
   "execution_count": null,
   "id": "34572c3ae0a440ee",
   "metadata": {},
   "outputs": [],
   "source": [
    "con = sqlite3.connect(DB)\n",
    "con"
   ]
  },
  {
   "cell_type": "code",
   "execution_count": null,
   "id": "cd7c3f04a6972ba8",
   "metadata": {},
   "outputs": [],
   "source": [
    "con.commit()"
   ]
  },
  {
   "cell_type": "code",
   "execution_count": null,
   "id": "0c7b54aee714fd76",
   "metadata": {},
   "outputs": [],
   "source": [
    "con.rollback()"
   ]
  },
  {
   "cell_type": "markdown",
   "id": "049d238dced0bc9e",
   "metadata": {
    "lang": "de",
    "slideshow": {
     "slide_type": "subslide"
    },
    "tags": [
     "subslide"
    ]
   },
   "source": [
    "\n",
    "## Erzeugen eines Cursors\n",
    "\n",
    "- Die meisten Operationen im DB-API werden nicht auf der Connection ausgeführt,\n",
    "  sondern auf einem Cursor:\n",
    "- Commit und Rollback erfolgen direkt auf der Connection"
   ]
  },
  {
   "cell_type": "code",
   "execution_count": null,
   "id": "5589fa2c145f0f10",
   "metadata": {},
   "outputs": [],
   "source": [
    "cur = con.cursor()\n",
    "cur"
   ]
  },
  {
   "cell_type": "markdown",
   "id": "f1a37d9983cd9083",
   "metadata": {
    "lang": "de",
    "slideshow": {
     "slide_type": "subslide"
    },
    "tags": [
     "subslide"
    ]
   },
   "source": [
    "\n",
    "## Ausführen von SQL-Anweisungen\n",
    "\n",
    "- `cursor.execute()` führt eine (parametrisierte) SQL-Anweisung aus\n",
    "  - Je nach Wert von `connection.isolation_level` wird eine Transaktion eröffnet\n",
    "  - Parameter werden korrekt \"maskiert\" um SQL-Injektionen zu vermeiden\n",
    "  - [`sqlite3.paramstyle`](https://peps.python.org/pep-0249/#paramstyle)\n",
    "    bestimmt, wie Parameter im Query-String gekennzeichnet werden\n",
    "- `cursor.executemany()`\n",
    "  - Wie `.execute()` aber mit einem Iterator von Parametern\n",
    "- `cursor.executescript()` führt mehrere SQL-Anweisungen aus\n",
    "  - Transaktionen müssen manuell verwaltet werden"
   ]
  },
  {
   "cell_type": "code",
   "execution_count": null,
   "id": "76919f7c54720c37",
   "metadata": {},
   "outputs": [],
   "source": [
    "con.isolation_level"
   ]
  },
  {
   "cell_type": "code",
   "execution_count": null,
   "id": "c9e7d10cc86d7b25",
   "metadata": {},
   "outputs": [],
   "source": [
    "sqlite3.paramstyle"
   ]
  },
  {
   "cell_type": "code",
   "execution_count": null,
   "id": "40248c69768fd728",
   "metadata": {},
   "outputs": [],
   "source": [
    "cur.execute(\"SELECT 'hello, world'\")"
   ]
  },
  {
   "cell_type": "code",
   "execution_count": null,
   "id": "3f01518619b1e349",
   "metadata": {},
   "outputs": [],
   "source": [
    "for cursor in cur.execute(\"SELECT 'hello, world'\"):\n",
    "    print(cursor)"
   ]
  },
  {
   "cell_type": "code",
   "execution_count": null,
   "id": "8619375d63a02a25",
   "metadata": {},
   "outputs": [],
   "source": [
    "# cur.execute(\"DROP TABLE students\")"
   ]
  },
  {
   "cell_type": "code",
   "execution_count": null,
   "id": "88e785801a2db4a7",
   "metadata": {},
   "outputs": [],
   "source": [
    "cur.execute(\"CREATE TABLE students(id, name)\")"
   ]
  },
  {
   "cell_type": "code",
   "execution_count": null,
   "id": "cd6f8f5cf763057f",
   "metadata": {},
   "outputs": [],
   "source": [
    "con.commit()"
   ]
  },
  {
   "cell_type": "code",
   "execution_count": null,
   "id": "4bd6bf5b2f77ee96",
   "metadata": {},
   "outputs": [],
   "source": [
    "cur.execute(\"INSERT INTO students VALUES(?, ?)\", (123, \"Joe Random\"))"
   ]
  },
  {
   "cell_type": "code",
   "execution_count": null,
   "id": "0c5bd21532c0b5bf",
   "metadata": {},
   "outputs": [],
   "source": [
    "cur.execute(\"INSERT INTO students VALUES(?, ?)\", (234, \"Jane Doe\"))"
   ]
  },
  {
   "cell_type": "code",
   "execution_count": null,
   "id": "ee4a8bb43a3ed37b",
   "metadata": {},
   "outputs": [],
   "source": [
    "con.commit()"
   ]
  },
  {
   "cell_type": "code",
   "execution_count": null,
   "id": "d4cb8be61e061379",
   "metadata": {},
   "outputs": [],
   "source": [
    "for row in cur.execute(\"SELECT id, name FROM students ORDER BY name\"):\n",
    "    print(row)"
   ]
  },
  {
   "cell_type": "code",
   "execution_count": null,
   "id": "6bb15167bb423554",
   "metadata": {},
   "outputs": [],
   "source": [
    "STUDENTS = [\n",
    "    (1, \"Jack Bradley\"),\n",
    "    # https://xkcd.com/327/\n",
    "    (2, \"Robert'); DROP TABLE students; --\"),\n",
    "    (845, \"Samantha Jones\"),\n",
    "    (210, \"Jill McGee\"),\n",
    "    (62, \"Doug Caisson\"),\n",
    "]"
   ]
  },
  {
   "cell_type": "code",
   "execution_count": null,
   "id": "b138d053aab36d28",
   "metadata": {},
   "outputs": [],
   "source": [
    "cur.executemany(\"INSERT INTO students VALUES(?, ?)\", STUDENTS)"
   ]
  },
  {
   "cell_type": "code",
   "execution_count": null,
   "id": "2552d4fdd60e8723",
   "metadata": {},
   "outputs": [],
   "source": [
    "con.commit()"
   ]
  },
  {
   "cell_type": "markdown",
   "id": "eb26ef316b89370e",
   "metadata": {
    "lang": "de",
    "lines_to_next_cell": 2,
    "slideshow": {
     "slide_type": "subslide"
    },
    "tags": [
     "subslide"
    ]
   },
   "source": [
    "\n",
    "Bevorzuge `executemany()` mit Argumentensubstitution statt manuell erstellten\n",
    "SQL-Abfragen . Der folgende Code ist anfällig für einen SQL-Injection-Angriff:"
   ]
  },
  {
   "cell_type": "code",
   "execution_count": null,
   "id": "3e00fbd8b6c969c8",
   "metadata": {
    "lines_to_next_cell": 2
   },
   "outputs": [],
   "source": [
    "# for s in STUDENTS:\n",
    "#     cur.executescript(f\"INSERT INTO students VALUES({s[0]}, '{s[1]}')\")"
   ]
  },
  {
   "cell_type": "code",
   "execution_count": null,
   "id": "4f45e94de68bb464",
   "metadata": {},
   "outputs": [],
   "source": [
    "for row in cur.execute(\"SELECT * FROM students ORDER BY id\"):\n",
    "    print(row)"
   ]
  },
  {
   "cell_type": "code",
   "execution_count": null,
   "id": "e0a169135312b290",
   "metadata": {},
   "outputs": [],
   "source": [
    "SCRIPT = \"\"\"\n",
    "    BEGIN;\n",
    "    CREATE TABLE teachers(id, name);\n",
    "    CREATE TABLE courses(course_id, title, grade_points);\n",
    "    CREATE TABLE teaches(teacher_id, course_id);\n",
    "    CREATE TABLE enrolments(student_id, course_id);\n",
    "    COMMIT;\n",
    "\"\"\""
   ]
  },
  {
   "cell_type": "code",
   "execution_count": null,
   "id": "46a2ca694cf42b2b",
   "metadata": {},
   "outputs": [],
   "source": [
    "cur.executescript(SCRIPT)"
   ]
  },
  {
   "cell_type": "code",
   "execution_count": null,
   "id": "ef13f62e6836d46e",
   "metadata": {},
   "outputs": [],
   "source": [
    "for row in cur.execute(\"SELECT * from sqlite_master\"):\n",
    "    print(row)"
   ]
  },
  {
   "cell_type": "markdown",
   "id": "cdd1dd00876f00de",
   "metadata": {
    "lang": "de",
    "slideshow": {
     "slide_type": "subslide"
    },
    "tags": [
     "subslide"
    ]
   },
   "source": [
    "\n",
    "## Schließen von Verbindungen\n",
    "\n",
    "Wenn eine Verbindung nicht mehr benötigt wird, kann sie mit `close()` geschlossen\n",
    "werden:"
   ]
  },
  {
   "cell_type": "code",
   "execution_count": null,
   "id": "36b057457cc51a4b",
   "metadata": {},
   "outputs": [],
   "source": [
    "con.close()"
   ]
  },
  {
   "cell_type": "markdown",
   "id": "7748036582cae967",
   "metadata": {
    "lang": "de",
    "slideshow": {
     "slide_type": "subslide"
    },
    "tags": [
     "subslide"
    ]
   },
   "source": [
    "\n",
    "## Zugriff auf Ergebnisse\n",
    "\n",
    "- `cursor.fetchall()` für alle Ergebnisse\n",
    "- `cursor.fetchone()` für einzelne Ergebnisse\n",
    "- `cursor.fetchmany()` für eine bestimmte Anzahl an Ergebnissen\n",
    "- Iteration über einen Ergebnis-Cursor"
   ]
  },
  {
   "cell_type": "code",
   "execution_count": null,
   "id": "55f081caf400d1fe",
   "metadata": {
    "lines_to_next_cell": 2,
    "tags": [
     "keep"
    ]
   },
   "outputs": [],
   "source": [
    "con = sqlite3.connect(DB)"
   ]
  },
  {
   "cell_type": "code",
   "execution_count": null,
   "id": "34b24c18d8fadcb1",
   "metadata": {
    "tags": [
     "keep"
    ]
   },
   "outputs": [],
   "source": [
    "cur = con.cursor()"
   ]
  },
  {
   "cell_type": "markdown",
   "id": "3b9e0734d2fc1928",
   "metadata": {
    "lang": "de",
    "slideshow": {
     "slide_type": "subslide"
    },
    "tags": [
     "subslide"
    ]
   },
   "source": [
    "\n",
    "- Ensure that we have the `students` table with some data:"
   ]
  },
  {
   "cell_type": "code",
   "execution_count": null,
   "id": "6cbad7c45bb07741",
   "metadata": {
    "tags": [
     "keep"
    ]
   },
   "outputs": [],
   "source": [
    "cur.execute(\"CREATE TABLE IF NOT EXISTS students(id, name)\")\n",
    "cur.executemany(\"INSERT INTO students VALUES(?, ?)\", STUDENTS)"
   ]
  },
  {
   "cell_type": "code",
   "execution_count": null,
   "id": "6788cf47eca2fd7a",
   "metadata": {
    "tags": [
     "keep"
    ]
   },
   "outputs": [],
   "source": [
    "cur.execute(\"SELECT * FROM students ORDER BY id\")"
   ]
  },
  {
   "cell_type": "code",
   "execution_count": null,
   "id": "3ba926aa49289fef",
   "metadata": {},
   "outputs": [],
   "source": [
    "cur.fetchall()"
   ]
  },
  {
   "cell_type": "markdown",
   "id": "438aed44f29d3f11",
   "metadata": {
    "lang": "de",
    "slideshow": {
     "slide_type": "subslide"
    },
    "tags": [
     "subslide"
    ]
   },
   "source": [
    "\n",
    "Ein Cursor kan nur einmal verwendet werden, um Ergebnisse zu bekommen:"
   ]
  },
  {
   "cell_type": "code",
   "execution_count": null,
   "id": "9538f5394c2f864a",
   "metadata": {},
   "outputs": [],
   "source": [
    "cur.fetchall()"
   ]
  },
  {
   "cell_type": "code",
   "execution_count": null,
   "id": "7fd4bb35c79d9c8e",
   "metadata": {
    "tags": [
     "keep"
    ]
   },
   "outputs": [],
   "source": [
    "cur = cur.execute(\"SELECT * FROM students ORDER BY id\")"
   ]
  },
  {
   "cell_type": "code",
   "execution_count": null,
   "id": "5d87664d457d0369",
   "metadata": {},
   "outputs": [],
   "source": [
    "cur.fetchone()"
   ]
  },
  {
   "cell_type": "code",
   "execution_count": null,
   "id": "5ae4b3eef0cf18ea",
   "metadata": {},
   "outputs": [],
   "source": [
    "cur.fetchone()"
   ]
  },
  {
   "cell_type": "code",
   "execution_count": null,
   "id": "a7426adc8b20e7b3",
   "metadata": {},
   "outputs": [],
   "source": [
    "cur.fetchall()"
   ]
  },
  {
   "cell_type": "code",
   "execution_count": null,
   "id": "6e362ca6efe83591",
   "metadata": {},
   "outputs": [],
   "source": [
    "cur.fetchone() is None"
   ]
  },
  {
   "cell_type": "code",
   "execution_count": null,
   "id": "9af97fc7d7b76723",
   "metadata": {},
   "outputs": [],
   "source": [
    "cur = cur.execute(\"SELECT * FROM students ORDER BY id\")"
   ]
  },
  {
   "cell_type": "code",
   "execution_count": null,
   "id": "b8b0398ed2c35cc6",
   "metadata": {},
   "outputs": [],
   "source": [
    "cur.fetchmany(3)"
   ]
  },
  {
   "cell_type": "markdown",
   "id": "a5b849b712c5b276",
   "metadata": {
    "lang": "de",
    "slideshow": {
     "slide_type": "subslide"
    },
    "tags": [
     "subslide"
    ]
   },
   "source": [
    "\n",
    "### Shortcut-Methoden\n",
    "\n",
    "- Um das explizite Erzeugen von Cursor-Instanzen zu umgehen, kann man\n",
    "  die Shortcut-Methoden auf dem Connection-Objekt verwenden:"
   ]
  },
  {
   "cell_type": "code",
   "execution_count": null,
   "id": "630ac506a7c5197d",
   "metadata": {},
   "outputs": [],
   "source": [
    "print(cursor)"
   ]
  },
  {
   "cell_type": "code",
   "execution_count": null,
   "id": "321aafa20264302d",
   "metadata": {},
   "outputs": [],
   "source": [
    "# Required to work around a bug in nbclient...\n",
    "if not isinstance(cursor, tuple):\n",
    "    cursor.fetchall()"
   ]
  },
  {
   "cell_type": "code",
   "execution_count": null,
   "id": "8d03afa1b3d63e60",
   "metadata": {},
   "outputs": [],
   "source": [
    "# res = con.executemany(\n",
    "#     \"INSERT INTO students VALUES (?, ?)\",\n",
    "#     [(42, \"Douglas Adams\"), (63, \"Andrea A. Graves\")],\n",
    "# )"
   ]
  },
  {
   "cell_type": "code",
   "execution_count": null,
   "id": "f877879d66b78df9",
   "metadata": {},
   "outputs": [],
   "source": [
    "# Might throw an error (or not)\n",
    "# res.fetchall()"
   ]
  },
  {
   "cell_type": "code",
   "execution_count": null,
   "id": "f47fd77775118cec",
   "metadata": {},
   "outputs": [],
   "source": [
    "cursor = con.execute(\"SELECT * FROM students ORDER BY id\")"
   ]
  },
  {
   "cell_type": "code",
   "execution_count": null,
   "id": "80038134aa443dfb",
   "metadata": {},
   "outputs": [],
   "source": [
    "# Required to work around a bug in nbclient...\n",
    "if not isinstance(cursor, tuple):\n",
    "    cursor.fetchall()"
   ]
  },
  {
   "cell_type": "code",
   "execution_count": null,
   "id": "e3706affc136b02e",
   "metadata": {},
   "outputs": [],
   "source": [
    "con.commit()"
   ]
  },
  {
   "cell_type": "markdown",
   "id": "fda2c2ebc1a9cedc",
   "metadata": {
    "lang": "de",
    "slideshow": {
     "slide_type": "subslide"
    },
    "tags": [
     "subslide"
    ]
   },
   "source": [
    "\n",
    "## Mehrere Verbindungen\n",
    "\n",
    "- Mehrere Verbindungen zur gleichen Datenbank sind möglich\n",
    "- Mehrere Cursors zur gleichen Verbindung sind möglich\n",
    "  - Aber: In beiden Fällen führen mehrere gleichzeitig aktive\n",
    "    Transaktionen zu Timeouts\n",
    "- Cursors zur gleichen Verbindung sind nicht isoliert\n",
    "- Wie isoliert Threads voneinander sind, wird durch\n",
    "  [`connection.threadsafety`](https://peps.python.org/pep-0249/#threadsafety)\n",
    "  beschrieben."
   ]
  },
  {
   "cell_type": "code",
   "execution_count": null,
   "id": "bbd5eb766294d48e",
   "metadata": {
    "tags": [
     "keep"
    ]
   },
   "outputs": [],
   "source": [
    "con.close()"
   ]
  },
  {
   "cell_type": "code",
   "execution_count": null,
   "id": "b16b70d0add8ad12",
   "metadata": {
    "tags": [
     "keep"
    ]
   },
   "outputs": [],
   "source": [
    "FD, DB = tempfile.mkstemp(suffix=\".db\")"
   ]
  },
  {
   "cell_type": "code",
   "execution_count": null,
   "id": "858fbdad91ad7050",
   "metadata": {
    "tags": [
     "keep"
    ]
   },
   "outputs": [],
   "source": [
    "con = sqlite3.connect(DB)"
   ]
  },
  {
   "cell_type": "code",
   "execution_count": null,
   "id": "b78c2c340daf8b6e",
   "metadata": {
    "tags": [
     "keep"
    ]
   },
   "outputs": [],
   "source": [
    "cur = con.cursor()"
   ]
  },
  {
   "cell_type": "code",
   "execution_count": null,
   "id": "b7e640aee1c55003",
   "metadata": {
    "tags": [
     "keep"
    ]
   },
   "outputs": [],
   "source": [
    "cur.execute(\"CREATE TABLE IF NOT EXISTS students(id, name)\")\n",
    "cur.executemany(\"INSERT INTO students VALUES(?, ?)\", STUDENTS)"
   ]
  },
  {
   "cell_type": "code",
   "execution_count": null,
   "id": "4f8c794f0fe4db51",
   "metadata": {
    "tags": [
     "keep"
    ]
   },
   "outputs": [],
   "source": [
    "con2 = sqlite3.connect(DB)"
   ]
  },
  {
   "cell_type": "code",
   "execution_count": null,
   "id": "8fecd94448169c76",
   "metadata": {
    "tags": [
     "keep"
    ]
   },
   "outputs": [],
   "source": [
    "cur.execute(\"INSERT INTO students VALUES(2, 'Deborah Winter')\")"
   ]
  },
  {
   "cell_type": "code",
   "execution_count": null,
   "id": "b303219f8eda10eb",
   "metadata": {},
   "outputs": [],
   "source": [
    "con.commit()"
   ]
  },
  {
   "cell_type": "code",
   "execution_count": null,
   "id": "6be094e22cec6aaf",
   "metadata": {},
   "outputs": [],
   "source": [
    "res2 = con2.execute(\"SELECT * FROM students ORDER BY id\")"
   ]
  },
  {
   "cell_type": "code",
   "execution_count": null,
   "id": "d4bdaf79c7ebfc3b",
   "metadata": {},
   "outputs": [],
   "source": [
    "con2.commit()"
   ]
  },
  {
   "cell_type": "code",
   "execution_count": null,
   "id": "067589e594f71826",
   "metadata": {},
   "outputs": [],
   "source": [
    "res1 = con.execute(\"SELECT * FROM students ORDER BY id\")"
   ]
  },
  {
   "cell_type": "code",
   "execution_count": null,
   "id": "1dbc9ffdca38b7fa",
   "metadata": {},
   "outputs": [],
   "source": [
    "con.commit()"
   ]
  },
  {
   "cell_type": "code",
   "execution_count": null,
   "id": "625636754a08cc70",
   "metadata": {},
   "outputs": [],
   "source": [
    "res1.fetchall()"
   ]
  },
  {
   "cell_type": "code",
   "execution_count": null,
   "id": "f6073a9123edf6f8",
   "metadata": {},
   "outputs": [],
   "source": [
    "res2.fetchall()"
   ]
  },
  {
   "cell_type": "code",
   "execution_count": null,
   "id": "c95ea9e7f8305133",
   "metadata": {},
   "outputs": [],
   "source": [
    "con.close()\n",
    "con2.close()"
   ]
  },
  {
   "cell_type": "code",
   "execution_count": null,
   "id": "44315022a54645bb",
   "metadata": {
    "tags": [
     "keep"
    ]
   },
   "outputs": [],
   "source": [
    "con = sqlite3.connect(DB)"
   ]
  },
  {
   "cell_type": "code",
   "execution_count": null,
   "id": "7c2b008736e46cbe",
   "metadata": {},
   "outputs": [],
   "source": [
    "cur1 = con.cursor()"
   ]
  },
  {
   "cell_type": "code",
   "execution_count": null,
   "id": "c480b4cf2d34aace",
   "metadata": {},
   "outputs": [],
   "source": [
    "cur2 = con.cursor()"
   ]
  },
  {
   "cell_type": "code",
   "execution_count": null,
   "id": "6e8dcfe71f5bfb16",
   "metadata": {},
   "outputs": [],
   "source": [
    "cur1.execute(\"SELECT * FROM students\")"
   ]
  },
  {
   "cell_type": "code",
   "execution_count": null,
   "id": "ecee11a897bfae61",
   "metadata": {},
   "outputs": [],
   "source": [
    "cur1.fetchall()"
   ]
  },
  {
   "cell_type": "code",
   "execution_count": null,
   "id": "f5538fdb0ba14658",
   "metadata": {},
   "outputs": [],
   "source": [
    "cur2.executemany(\n",
    "    \"INSERT INTO students VALUES (?, ?)\", [(1, \"Kay Garcia\"), (2, \"Amanda Goodson\")]\n",
    ")"
   ]
  },
  {
   "cell_type": "code",
   "execution_count": null,
   "id": "8cbe97998f96134a",
   "metadata": {},
   "outputs": [],
   "source": [
    "con.commit()"
   ]
  },
  {
   "cell_type": "markdown",
   "id": "a16e9a34d45361db",
   "metadata": {
    "lang": "de",
    "slideshow": {
     "slide_type": "subslide"
    },
    "tags": [
     "subslide"
    ]
   },
   "source": [
    "\n",
    "## Zugriff auf Metadaten\n",
    "\n",
    "- Erfolgt typischerweise mit DB-spezifischen Tabellen:"
   ]
  },
  {
   "cell_type": "code",
   "execution_count": null,
   "id": "9d9ae5a73e0501d7",
   "metadata": {},
   "outputs": [],
   "source": [
    "cursor = con.execute(\"SELECT name FROM sqlite_master\")\n",
    "cursor"
   ]
  },
  {
   "cell_type": "code",
   "execution_count": null,
   "id": "ce0a16ff64ea5cce",
   "metadata": {},
   "outputs": [],
   "source": [
    "cursor.fetchone()"
   ]
  },
  {
   "cell_type": "code",
   "execution_count": null,
   "id": "1f3863e3ad8f4bee",
   "metadata": {},
   "outputs": [],
   "source": [
    "cursor = con.execute(\"SELECT name FROM sqlite_master WHERE name='foo'\")\n",
    "cursor.fetchone() is None"
   ]
  },
  {
   "cell_type": "code",
   "execution_count": null,
   "id": "c64251affc02c785",
   "metadata": {},
   "outputs": [],
   "source": [
    "con.execute(\"CREATE TABLE projects(proj_id, name, budget)\")"
   ]
  },
  {
   "cell_type": "code",
   "execution_count": null,
   "id": "102a79ebdc84f4b2",
   "metadata": {},
   "outputs": [],
   "source": [
    "list(con.execute(\"SELECT * FROM sqlite_master\"))"
   ]
  },
  {
   "cell_type": "code",
   "execution_count": null,
   "id": "260666f4180684d2",
   "metadata": {},
   "outputs": [],
   "source": [
    "con.close()"
   ]
  },
  {
   "cell_type": "code",
   "execution_count": null,
   "id": "c246775ae2a597f0",
   "metadata": {},
   "outputs": [],
   "source": [
    "import os"
   ]
  },
  {
   "cell_type": "code",
   "execution_count": null,
   "id": "1a0e6d7ac13647ac",
   "metadata": {},
   "outputs": [],
   "source": [
    "try:\n",
    "    os.unlink(DB)\n",
    "except PermissionError as e:\n",
    "    print(f\"Could not delete the database file: {e}\")"
   ]
  },
  {
   "cell_type": "markdown",
   "id": "b757eae52f791a18",
   "metadata": {
    "lang": "de",
    "slideshow": {
     "slide_type": "slide"
    },
    "tags": [
     "slide"
    ]
   },
   "source": [
    "\n",
    "## Mini-Workshop: Mitarbeiter-Datenbank\n",
    "\n",
    "Sie wollen Daten für die Mitarbeiter einer Firma in einer SQLite Datenbank\n",
    "speichern. Jeder Mitarbeiter wird dabei durch folgende Daten beschrieben:\n",
    "\n",
    "- Personalnummer\n",
    "- Name\n",
    "- Abteilungs-Nummer\n",
    "- Wochenarbeitszeit in Stunden\n",
    "\n",
    "Jede Abteilung wird repräsentiert durch folgende Daten:\n",
    "\n",
    "- Abteilungs-Nummer\n",
    "- Name der Abteilung\n",
    "\n",
    "Schreiben Sie folgende Funktionen:\n",
    "\n",
    "- `create_employee_db(...)`, die die Tabellen erzeugt\n",
    "- `create_department(...)`, die eine neue Abteilung in die Datenbank einfügt.\n",
    "- `create_employee(...)`, die einen neuen Mitarbeiter in die Datenbank einfügt.\n",
    "- `create_employee(...)`, die mehrere neue Mitarbeiter in die Datenbank einfügt.\n",
    "- `get_employee_data(db, id)`, die die Daten für den Mitarbeiter mit\n",
    "   Personalnummer `id` zurückgibt. (Falls Sie SQL Joins kennen, können Sie statt\n",
    "   der Abteilungs-Nummer den Namen der Abteilung zurückgeben.)\n",
    "- `find_part_time_employees(...)`, die die Personalnummern alle Mitarbeiter\n",
    "   zurückgibt, die weniger als 30 Stunden pro Woche arbeiten.\n",
    "- `print_employees_in_department(con: sqlite3.Connection, name: str)`,\n",
    "   die die Daten aller Mitarbeiter in\n",
    "   der Abteilung mit Namen `name` ausdruckt. (Falls sie SQL-Joins nicht kennen,\n",
    "   können Sie auch die Abteilungs-Nummer an die Funktion übergeben.)"
   ]
  },
  {
   "cell_type": "code",
   "execution_count": null,
   "id": "7026dadb95f5324a",
   "metadata": {
    "tags": [
     "keep"
    ]
   },
   "outputs": [],
   "source": [
    "import sqlite3"
   ]
  },
  {
   "cell_type": "code",
   "execution_count": null,
   "id": "47f66fde754c2f68",
   "metadata": {
    "tags": [
     "keep"
    ]
   },
   "outputs": [],
   "source": [
    "con = sqlite3.connect(\":memory:\")"
   ]
  },
  {
   "cell_type": "code",
   "execution_count": null,
   "id": "551d040321b8d53d",
   "metadata": {},
   "outputs": [],
   "source": [
    "def create_employee_db(con: sqlite3.Connection):\n",
    "    return con.executescript(\n",
    "        \"\"\"\n",
    "        BEGIN;\n",
    "        CREATE TABLE employees(id, name, dep_id, hours);\n",
    "        CREATE TABLE departments(id, name);\n",
    "        COMMIT;\n",
    "        \"\"\"\n",
    "    )"
   ]
  },
  {
   "cell_type": "code",
   "execution_count": null,
   "id": "0fc090345734fcf7",
   "metadata": {
    "tags": [
     "keep"
    ]
   },
   "outputs": [],
   "source": [
    "create_employee_db(con)"
   ]
  },
  {
   "cell_type": "code",
   "execution_count": null,
   "id": "4a50e15679e797c5",
   "metadata": {},
   "outputs": [],
   "source": [
    "def create_department(con: sqlite3.Connection, id_: int, name: str):\n",
    "    con.execute(\"INSERT INTO departments VALUES (?, ?)\", (id_, name))\n",
    "    con.commit()"
   ]
  },
  {
   "cell_type": "code",
   "execution_count": null,
   "id": "d197ffc79e19e7f9",
   "metadata": {
    "tags": [
     "keep"
    ]
   },
   "outputs": [],
   "source": [
    "create_department(con, 1, \"Marketing\")\n",
    "create_department(con, 2, \"R&D\")\n",
    "create_department(con, 3, \"Accounting\")"
   ]
  },
  {
   "cell_type": "code",
   "execution_count": null,
   "id": "c45316685cd7904b",
   "metadata": {
    "tags": [
     "keep"
    ]
   },
   "outputs": [],
   "source": [
    "assert con.execute(\"SELECT * FROM departments ORDER BY id\").fetchall() == [\n",
    "    (1, \"Marketing\"),\n",
    "    (2, \"R&D\"),\n",
    "    (3, \"Accounting\"),\n",
    "]"
   ]
  },
  {
   "cell_type": "code",
   "execution_count": null,
   "id": "5f87f987440ff1a6",
   "metadata": {},
   "outputs": [],
   "source": [
    "def create_employee(\n",
    "    con: sqlite3.Connection, id_: int, name: str, dep_id: int, hours: int\n",
    "):\n",
    "    con.execute(\"INSERT INTO employees VALUES (?, ?, ?, ?)\", (id_, name, dep_id, hours))\n",
    "    con.commit()"
   ]
  },
  {
   "cell_type": "code",
   "execution_count": null,
   "id": "cecc2555c7813df5",
   "metadata": {
    "tags": [
     "keep"
    ]
   },
   "outputs": [],
   "source": [
    "create_employee(con, 1, \"Geraldine E. Stegner\", 1, 40)"
   ]
  },
  {
   "cell_type": "code",
   "execution_count": null,
   "id": "5a66b537a9369b52",
   "metadata": {
    "tags": [
     "keep"
    ]
   },
   "outputs": [],
   "source": [
    "assert con.execute(\"SELECT * FROM employees\").fetchall() == [\n",
    "    (1, \"Geraldine E. Stegner\", 1, 40)\n",
    "]"
   ]
  },
  {
   "cell_type": "code",
   "execution_count": null,
   "id": "a1fce7e6ffecde41",
   "metadata": {},
   "outputs": [],
   "source": [
    "from typing import Sequence"
   ]
  },
  {
   "cell_type": "code",
   "execution_count": null,
   "id": "8814a1e114ca85e0",
   "metadata": {},
   "outputs": [],
   "source": [
    "def create_employees(con: sqlite3.Connection, data: Sequence):\n",
    "    con.executemany(\"INSERT INTO employees VALUES (?, ?, ?, ?)\", data)\n",
    "    con.commit()"
   ]
  },
  {
   "cell_type": "code",
   "execution_count": null,
   "id": "b523597fc6f893c5",
   "metadata": {
    "tags": [
     "keep"
    ]
   },
   "outputs": [],
   "source": [
    "EMPLOYEES = [\n",
    "    (2, \"Tammy T. Selby\", 2, 42),\n",
    "    (3, \"Pam Adams\", 3, 24),\n",
    "    (4, \"Bobby A. Skaggs\", 1, 38),\n",
    "    (5, \"Sandra A. Finley\", 2, 26),\n",
    "]"
   ]
  },
  {
   "cell_type": "code",
   "execution_count": null,
   "id": "cb0becca5a6566a0",
   "metadata": {
    "tags": [
     "keep"
    ]
   },
   "outputs": [],
   "source": [
    "create_employees(con, EMPLOYEES)"
   ]
  },
  {
   "cell_type": "code",
   "execution_count": null,
   "id": "06ff223f7e608dad",
   "metadata": {},
   "outputs": [],
   "source": [
    "assert con.execute(\"SELECT * FROM employees\").fetchall() == [\n",
    "    (1, \"Geraldine E. Stegner\", 1, 40),\n",
    "    *EMPLOYEES,\n",
    "]"
   ]
  },
  {
   "cell_type": "code",
   "execution_count": null,
   "id": "58816e70ecd208ad",
   "metadata": {},
   "outputs": [],
   "source": [
    "def get_employee_data(con: sqlite3.Connection, id_: int):\n",
    "    return con.execute(\n",
    "        \"\"\"\n",
    "        SELECT e.id, e.name, d.name, e.hours\n",
    "        FROM employees AS e\n",
    "        JOIN departments AS d\n",
    "        ON e.dep_id = d.id\n",
    "        WHERE e.id = ?\n",
    "        \"\"\",\n",
    "        (id_,),\n",
    "    ).fetchone()"
   ]
  },
  {
   "cell_type": "code",
   "execution_count": null,
   "id": "fdd2b8dc8aa0f257",
   "metadata": {
    "tags": [
     "keep"
    ]
   },
   "outputs": [],
   "source": [
    "assert get_employee_data(con, 1) == (1, \"Geraldine E. Stegner\", \"Marketing\", 40)"
   ]
  },
  {
   "cell_type": "code",
   "execution_count": null,
   "id": "2d53b0718202bab4",
   "metadata": {
    "tags": [
     "keep"
    ]
   },
   "outputs": [],
   "source": [
    "assert get_employee_data(con, 10) is None"
   ]
  },
  {
   "cell_type": "code",
   "execution_count": null,
   "id": "dbe684794d9f6395",
   "metadata": {
    "tags": [
     "alt"
    ]
   },
   "outputs": [],
   "source": [
    "def get_employee_data_no_join(con: sqlite3.Connection, id_: int):\n",
    "    return con.execute(\n",
    "        \"\"\"\n",
    "        SELECT id, name, dep_id, hours\n",
    "        FROM employees AS e\n",
    "        WHERE id = ?\n",
    "        \"\"\",\n",
    "        (id_,),\n",
    "    ).fetchone()"
   ]
  },
  {
   "cell_type": "code",
   "execution_count": null,
   "id": "567209a79c2af673",
   "metadata": {
    "tags": [
     "alt"
    ]
   },
   "outputs": [],
   "source": [
    "assert get_employee_data_no_join(con, 1) == (1, \"Geraldine E. Stegner\", 1, 40)"
   ]
  },
  {
   "cell_type": "code",
   "execution_count": null,
   "id": "3a7ca059cea0ff77",
   "metadata": {
    "tags": [
     "alt"
    ]
   },
   "outputs": [],
   "source": [
    "assert get_employee_data_no_join(con, 10) is None"
   ]
  },
  {
   "cell_type": "code",
   "execution_count": null,
   "id": "b9315cf25f76ebbc",
   "metadata": {},
   "outputs": [],
   "source": [
    "def get_part_time_employees(con: sqlite3.Connection):\n",
    "    return [\n",
    "        id_\n",
    "        for (id_,) in con.execute(\n",
    "            \"SELECT id FROM employees WHERE hours < 30\"\n",
    "        ).fetchall()\n",
    "    ]"
   ]
  },
  {
   "cell_type": "code",
   "execution_count": null,
   "id": "999a2fa3b9e873a2",
   "metadata": {
    "tags": [
     "keep"
    ]
   },
   "outputs": [],
   "source": [
    "assert get_part_time_employees(con) == [3, 5]"
   ]
  },
  {
   "cell_type": "code",
   "execution_count": null,
   "id": "aba3909f916f1564",
   "metadata": {},
   "outputs": [],
   "source": [
    "def print_employees_in_department(con: sqlite3.Connection, name: str):\n",
    "    employees = con.execute(\n",
    "        \"\"\"\n",
    "        SELECT e.id, e.name, d.name, e.hours\n",
    "        FROM employees AS e\n",
    "        JOIN departments AS d\n",
    "        ON e.dep_id = d.id\n",
    "        WHERE d.name = ?\n",
    "        \"\"\",\n",
    "        (name,),\n",
    "    )\n",
    "    for id_, name, dep, hours in employees:\n",
    "        print(f\"{name}: id = {id_}, dep = {dep}, hours = {hours}\")"
   ]
  },
  {
   "cell_type": "code",
   "execution_count": null,
   "id": "cde8f18195c1ddae",
   "metadata": {},
   "outputs": [],
   "source": [
    "print_employees_in_department(con, \"Marketing\")"
   ]
  },
  {
   "cell_type": "markdown",
   "id": "dbdb83f5643ce485",
   "metadata": {
    "lang": "de"
   },
   "source": [
    "\n",
    "Ausgabe:\n",
    "```\n",
    "Geraldine E. Stegner: id = 1, dep = Marketing, hours = 40\n",
    "Bobby A. Skaggs: id = 4, dep = Marketing, hours = 38\n",
    "```"
   ]
  },
  {
   "cell_type": "code",
   "execution_count": null,
   "id": "6b4e03423667dbb7",
   "metadata": {},
   "outputs": [],
   "source": []
  }
 ],
 "metadata": {
  "jupytext": {
   "cell_metadata_filter": "lang,tags,-all",
   "main_language": "python",
   "notebook_metadata_filter": "-all"
  },
  "kernelspec": {
   "display_name": "Python 3 (ipykernel)",
   "language": "python",
   "name": "python3"
  },
  "language_info": {
   "codemirror_mode": {
    "name": "ipython",
    "version": 3
   },
   "file_extension": ".py",
   "mimetype": "text/x-python",
   "name": "python",
   "nbconvert_exporter": "python",
   "pygments_lexer": "ipython3"
  }
 },
 "nbformat": 4,
 "nbformat_minor": 5
}
