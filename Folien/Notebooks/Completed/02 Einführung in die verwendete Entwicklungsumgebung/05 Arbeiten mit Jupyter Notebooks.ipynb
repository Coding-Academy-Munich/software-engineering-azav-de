{
 "cells": [
  {
   "cell_type": "markdown",
   "id": "5af06c61351b6aee",
   "metadata": {
    "lang": "de",
    "slideshow": {
     "slide_type": "slide"
    },
    "tags": [
     "slide"
    ]
   },
   "source": [
    "\n",
    "<img src=\"data:image/svg+xml;base64,PHN2ZyB4bWxucz0iaHR0cDovL3d3dy53My5vcmcvMjAwMC9zdmciIHhtbG5zOnhsaW5rPSJodHRw\n",
    "Oi8vd3d3LnczLm9yZy8xOTk5L3hsaW5rIiB3aWR0aD0iMTExLjE2MSIgaGVpZ2h0PSIxMzQuNjY4\n",
    "IiB2ZXJzaW9uPSIxLjAiPjxkZWZzPjxsaW5lYXJHcmFkaWVudCBpZD0iYyI+PHN0b3Agb2Zmc2V0\n",
    "PSIwIiBzdHlsZT0ic3RvcC1jb2xvcjojYjhiOGI4O3N0b3Atb3BhY2l0eTouNDk4MDM5MjIiLz48\n",
    "c3RvcCBvZmZzZXQ9IjEiIHN0eWxlPSJzdG9wLWNvbG9yOiM3ZjdmN2Y7c3RvcC1vcGFjaXR5OjAi\n",
    "Lz48L2xpbmVhckdyYWRpZW50PjxsaW5lYXJHcmFkaWVudCBpZD0iYSI+PHN0b3Agb2Zmc2V0PSIw\n",
    "IiBzdHlsZT0ic3RvcC1jb2xvcjojZmZkNDNiO3N0b3Atb3BhY2l0eToxIi8+PHN0b3Agb2Zmc2V0\n",
    "PSIxIiBzdHlsZT0ic3RvcC1jb2xvcjojZmZlODczO3N0b3Atb3BhY2l0eToxIi8+PC9saW5lYXJH\n",
    "cmFkaWVudD48bGluZWFyR3JhZGllbnQgaWQ9ImIiPjxzdG9wIG9mZnNldD0iMCIgc3R5bGU9InN0\n",
    "b3AtY29sb3I6IzVhOWZkNDtzdG9wLW9wYWNpdHk6MSIvPjxzdG9wIG9mZnNldD0iMSIgc3R5bGU9\n",
    "InN0b3AtY29sb3I6IzMwNjk5ODtzdG9wLW9wYWNpdHk6MSIvPjwvbGluZWFyR3JhZGllbnQ+PGxp\n",
    "bmVhckdyYWRpZW50IHhsaW5rOmhyZWY9IiNhIiBpZD0iZSIgeDE9IjE1MC45NjEiIHgyPSIxMTIu\n",
    "MDMxIiB5MT0iMTkyLjM1MiIgeTI9IjEzNy4yNzMiIGdyYWRpZW50VHJhbnNmb3JtPSJtYXRyaXgo\n",
    "LjU2MjU0IDAgMCAuNTY3OTcgLTE0Ljk5MSAtMTEuNzAyKSIgZ3JhZGllbnRVbml0cz0idXNlclNw\n",
    "YWNlT25Vc2UiLz48bGluZWFyR3JhZGllbnQgeGxpbms6aHJlZj0iI2IiIGlkPSJkIiB4MT0iMjYu\n",
    "NjQ5IiB4Mj0iMTM1LjY2NSIgeTE9IjIwLjYwNCIgeTI9IjExNC4zOTgiIGdyYWRpZW50VHJhbnNm\n",
    "b3JtPSJtYXRyaXgoLjU2MjU0IDAgMCAuNTY3OTcgLTE0Ljk5MSAtMTEuNzAyKSIgZ3JhZGllbnRV\n",
    "bml0cz0idXNlclNwYWNlT25Vc2UiLz48cmFkaWFsR3JhZGllbnQgeGxpbms6aHJlZj0iI2MiIGlk\n",
    "PSJmIiBjeD0iNjEuNTE5IiBjeT0iMTMyLjI4NiIgcj0iMjkuMDM3IiBmeD0iNjEuNTE5IiBmeT0i\n",
    "MTMyLjI4NiIgZ3JhZGllbnRUcmFuc2Zvcm09Im1hdHJpeCgwIC0uMjM5OTUgMS4wNTQ2NyAwIC04\n",
    "My43IDE0Mi40NjIpIiBncmFkaWVudFVuaXRzPSJ1c2VyU3BhY2VPblVzZSIvPjwvZGVmcz48cGF0\n",
    "aCBkPSJNNTQuOTE5IDBjLTQuNTg0LjAyMi04Ljk2MS40MTMtMTIuODEzIDEuMDk1QzMwLjc2IDMu\n",
    "MDk5IDI4LjcgNy4yOTUgMjguNyAxNS4wMzJ2MTAuMjE5aDI2LjgxM3YzLjQwNkgxOC42MzhjLTcu\n",
    "NzkzIDAtMTQuNjE2IDQuNjg0LTE2Ljc1IDEzLjU5NC0yLjQ2MiAxMC4yMTMtMi41NzEgMTYuNTg2\n",
    "IDAgMjcuMjUgMS45MDUgNy45MzggNi40NTcgMTMuNTk0IDE0LjI1IDEzLjU5NGg5LjIxOHYtMTIu\n",
    "MjVjMC04Ljg1IDcuNjU3LTE2LjY1NyAxNi43NS0xNi42NTdoMjYuNzgyYzcuNDU0IDAgMTMuNDA2\n",
    "LTYuMTM4IDEzLjQwNi0xMy42MjV2LTI1LjUzYzAtNy4yNjctNi4xMy0xMi43MjYtMTMuNDA2LTEz\n",
    "LjkzOEM2NC4yODIuMzI4IDU5LjUwMi0uMDIgNTQuOTE4IDBtLTE0LjUgOC4yMmMyLjc3IDAgNS4w\n",
    "MzEgMi4yOTggNS4wMzEgNS4xMjUgMCAyLjgxNi0yLjI2MiA1LjA5My01LjAzMSA1LjA5My0yLjc4\n",
    "IDAtNS4wMzEtMi4yNzctNS4wMzEtNS4wOTMgMC0yLjgyNyAyLjI1MS01LjEyNSA1LjAzLTUuMTI1\n",
    "IiBzdHlsZT0iZmlsbDp1cmwoI2QpO2ZpbGwtb3BhY2l0eToxIi8+PHBhdGggZD0iTTg1LjYzOCAy\n",
    "OC42NTd2MTEuOTA2YzAgOS4yMzEtNy44MjYgMTctMTYuNzUgMTdINDIuMTA2Yy03LjMzNiAwLTEz\n",
    "LjQwNiA2LjI3OS0xMy40MDYgMTMuNjI1Vjk2LjcyYzAgNy4yNjYgNi4zMTkgMTEuNTQgMTMuNDA2\n",
    "IDEzLjYyNSA4LjQ4OCAyLjQ5NSAxNi42MjcgMi45NDYgMjYuNzgyIDAgNi43NS0xLjk1NSAxMy40\n",
    "MDYtNS44ODggMTMuNDA2LTEzLjYyNVY4Ni41SDU1LjUxM3YtMy40MDVIOTUuN2M3Ljc5MyAwIDEw\n",
    "LjY5Ni01LjQzNiAxMy40MDYtMTMuNTk0IDIuOC04LjM5OSAyLjY4LTE2LjQ3NiAwLTI3LjI1LTEu\n",
    "OTI1LTcuNzU4LTUuNjA0LTEzLjU5NC0xMy40MDYtMTMuNTk0ek03MC41NzUgOTMuMzEzYzIuNzgg\n",
    "MCA1LjAzMSAyLjI3OCA1LjAzMSA1LjA5NCAwIDIuODI3LTIuMjUxIDUuMTI1LTUuMDMxIDUuMTI1\n",
    "LTIuNzcgMC01LjAzMS0yLjI5OC01LjAzMS01LjEyNSAwLTIuODE2IDIuMjYxLTUuMDk0IDUuMDMx\n",
    "LTUuMDk0IiBzdHlsZT0iZmlsbDp1cmwoI2UpO2ZpbGwtb3BhY2l0eToxIi8+PGVsbGlwc2UgY3g9\n",
    "IjU1LjgxNyIgY3k9IjEyNy43MDEiIHJ4PSIzNS45MzEiIHJ5PSI2Ljk2NyIgc3R5bGU9Im9wYWNp\n",
    "dHk6LjQ0MzgyO2ZpbGw6dXJsKCNmKTtmaWxsLW9wYWNpdHk6MTtmaWxsLXJ1bGU6bm9uemVybztz\n",
    "dHJva2U6bm9uZTtzdHJva2Utd2lkdGg6MTUuNDE3NDtzdHJva2UtbWl0ZXJsaW1pdDo0O3N0cm9r\n",
    "ZS1kYXNoYXJyYXk6bm9uZTtzdHJva2Utb3BhY2l0eToxIi8+PC9zdmc+\n",
    "\"\n",
    "     style=\"display:block;margin:auto;width:10%\" alt=\"Python Logo\"/>\n",
    "<br>\n",
    "\n",
    "<div style=\"text-align:center; font-size:200%;\">\n",
    " <b>Arbeiten mit Jupyter Notebooks</b>\n",
    "</div>\n",
    "<br/>\n",
    "<div style=\"text-align:center;\">Dr. Matthias Hölzl</div>\n",
    "<br/>"
   ]
  },
  {
   "cell_type": "markdown",
   "id": "628ebc6bffc8792d",
   "metadata": {
    "lang": "de",
    "slideshow": {
     "slide_type": "slide"
    },
    "tags": [
     "slide"
    ]
   },
   "source": [
    "\n",
    "# Arbeiten mit Jupyter Notebooks\n",
    "## Interaktives Rechnen für Software-Engineering"
   ]
  },
  {
   "cell_type": "markdown",
   "id": "54874b3ec94344bb",
   "metadata": {
    "lang": "de",
    "slideshow": {
     "slide_type": "subslide"
    },
    "tags": [
     "subslide"
    ]
   },
   "source": [
    "\n",
    "## I. Was sind Jupyter Notebooks?\n",
    "\n",
    "**Definition und Zweck:**\n",
    "- Interaktive Dokumente, die Code, Text und Visualisierungen kombinieren\n",
    "- Benannt nach Julia, Python und R (früh unterstützte Sprachen)\n",
    "- Ideal für:\n",
    "  - Explorative Datenanalyse\n",
    "  - Lehren und Lernen\n",
    "  - Dokumentation mit Live-Code\n",
    "  - Prototyping und Experimentieren"
   ]
  },
  {
   "cell_type": "markdown",
   "id": "e79adb9674e30c2b",
   "metadata": {
    "lang": "de",
    "slideshow": {
     "slide_type": "subslide"
    },
    "tags": [
     "subslide"
    ]
   },
   "source": [
    "\n",
    "## II. Jupyter Notebooks in VS Code\n",
    "\n",
    "**Hauptfunktionen:**\n",
    "- Integrierte Entwicklungsumgebung\n",
    "- IntelliSense-Code-Vervollständigung\n",
    "- Debug-Funktionen\n",
    "- Git-Integration\n",
    "- Erweiterungsökosystem\n",
    "- Variablen-Explorer\n",
    "- Anpassbare Benutzeroberfläche"
   ]
  },
  {
   "cell_type": "markdown",
   "id": "8f6b1fd4f0f7e5f5",
   "metadata": {
    "lang": "de",
    "slideshow": {
     "slide_type": "subslide"
    },
    "tags": [
     "subslide"
    ]
   },
   "source": [
    "\n",
    "## III. Zelltypen und Modi\n",
    "\n",
    "**Hauptzelltypen:**\n",
    "- Code-Zellen: Führen Programmcode aus\n",
    "- Markdown-Zellen: Formatieren Text mit Markdown\n",
    "\n",
    "**Interaktionsmodi:**\n",
    "- Befehlsmodus: Zellnavigation und -manipulation (kein Rahmen)\n",
    "- Bearbeitungsmodus: Bearbeiten des Zelleninhalts (Rahmen um Zelle)\n",
    "- Klicken Sie innerhalb/außerhalb der Zelle oder drücken Sie `Eingabe`/`Esc`,\n",
    "  um die Modi zu wechseln"
   ]
  },
  {
   "cell_type": "markdown",
   "id": "18ab4affd83508a1",
   "metadata": {
    "lang": "de",
    "slideshow": {
     "slide_type": "subslide"
    },
    "tags": [
     "subslide"
    ]
   },
   "source": [
    "\n",
    "## IV. Arbeiten mit Code-Zellen\n",
    "\n",
    "Führen Sie die folgende Zelle aus, indem Sie darauf klicken und `Umschalt+Eingabe` drücken"
   ]
  },
  {
   "cell_type": "code",
   "execution_count": null,
   "id": "e711107a649ed1b0",
   "metadata": {
    "lang": "de",
    "tags": [
     "keep"
    ]
   },
   "outputs": [],
   "source": [
    "# Dies ist eine Code-Zelle\n",
    "print(\"Hallo, Jupyter!\")"
   ]
  },
  {
   "cell_type": "code",
   "execution_count": null,
   "id": "b82264715cb86a64",
   "metadata": {
    "lang": "de",
    "tags": [
     "keep"
    ]
   },
   "outputs": [],
   "source": [
    "# Dies ist eine weitere Code-Zelle\n",
    "zahlen = [1, 2, 3, 4, 5]\n",
    "for zahl in zahlen:\n",
    "    print(f\"Zahl: {zahl}, Quadrat: {zahl**2}\")"
   ]
  },
  {
   "cell_type": "markdown",
   "id": "8cb2fa7fca9aa5b6",
   "metadata": {
    "lang": "de",
    "slideshow": {
     "slide_type": "subslide"
    },
    "tags": [
     "subslide"
    ]
   },
   "source": [
    "\n",
    "### Arbeiten mit Code-Zellen\n",
    "\n",
    "**Ausführung**:\n",
    "- `Umschalt+Eingabe`: Zelle ausführen und zur nächsten Zelle gehen\n",
    "- `Strg+Eingabe`: Zelle ausführen und in derselben Zelle bleiben\n",
    "- `Alt+Eingabe`: Zelle ausführen und neue Zelle darunter einfügen\n",
    "- Ausführen-Schaltfläche in der Symbolleiste\n",
    "- Das Ergebnis des letzten Ausdrucks wird unterhalb der Zelle gedruckt"
   ]
  },
  {
   "cell_type": "code",
   "execution_count": null,
   "id": "f0009ff1050cd47c",
   "metadata": {
    "slideshow": {
     "slide_type": "subslide"
    },
    "tags": [
     "subslide",
     "keep"
    ]
   },
   "outputs": [],
   "source": [
    "print(\"Text printed to the console\")"
   ]
  },
  {
   "cell_type": "code",
   "execution_count": null,
   "id": "79a590bd4f92d6e4",
   "metadata": {
    "tags": [
     "keep"
    ]
   },
   "outputs": [],
   "source": [
    "17 + 4"
   ]
  },
  {
   "cell_type": "code",
   "execution_count": null,
   "id": "cc3751f0ef2a9c5e",
   "metadata": {
    "tags": [
     "keep"
    ]
   },
   "outputs": [],
   "source": [
    "x = 10"
   ]
  },
  {
   "cell_type": "code",
   "execution_count": null,
   "id": "63e6ceb28ad474fa",
   "metadata": {
    "tags": [
     "keep"
    ]
   },
   "outputs": [],
   "source": [
    "x"
   ]
  },
  {
   "cell_type": "code",
   "execution_count": null,
   "id": "0ffaa2809ecdfa78",
   "metadata": {
    "tags": [
     "keep"
    ]
   },
   "outputs": [],
   "source": [
    "1\n",
    "2\n",
    "3"
   ]
  },
  {
   "cell_type": "markdown",
   "id": "5be00066d54ce094",
   "metadata": {
    "lang": "de",
    "slideshow": {
     "slide_type": "subslide"
    },
    "tags": [
     "subslide"
    ]
   },
   "source": [
    "\n",
    "**Code-Organisation**:\n",
    "- Code-Zellen auf eine einzelne Aufgabe fokussieren\n",
    "- Komplexe Operationen in mehrere Zellen aufteilen\n",
    "- Variablen verwenden, um Daten zwischen Zellen zu übertragen\n",
    "- Bedenken Sie, dass die Ausführungsreihenfolge wichtig ist, nicht die Zellenreihenfolge im Dokument"
   ]
  },
  {
   "cell_type": "code",
   "execution_count": null,
   "id": "2abcee2fe3d34af9",
   "metadata": {
    "lang": "de",
    "slideshow": {
     "slide_type": "subslide"
    },
    "tags": [
     "subslide",
     "keep"
    ]
   },
   "outputs": [],
   "source": [
    "# Vielleicht nicht die beste Art, Dinge zu organisieren:\n",
    "print(\"Ausführung einer komplexen Operation...\")\n",
    "print(\"Ausführung einer anderen, nicht verwandten Operation...\")"
   ]
  },
  {
   "cell_type": "code",
   "execution_count": null,
   "id": "2b584deced5c866b",
   "metadata": {
    "lang": "de",
    "tags": [
     "keep"
    ]
   },
   "outputs": [],
   "source": [
    "# Bessere Organisation: separate Zellen für separate Aufgaben\n",
    "print(\"Ausführung einer komplexen Operation...\")"
   ]
  },
  {
   "cell_type": "code",
   "execution_count": null,
   "id": "191c4634044f3cc7",
   "metadata": {
    "lang": "de",
    "tags": [
     "keep"
    ]
   },
   "outputs": [],
   "source": [
    "print(\"Ausführung einer anderen, nicht verwandten Operation...\")"
   ]
  },
  {
   "cell_type": "code",
   "execution_count": null,
   "id": "e3a38199565d0d7c",
   "metadata": {
    "slideshow": {
     "slide_type": "subslide"
    },
    "tags": [
     "subslide",
     "keep"
    ]
   },
   "outputs": [],
   "source": [
    "x = 10"
   ]
  },
  {
   "cell_type": "code",
   "execution_count": null,
   "id": "7c52883a303cd59f",
   "metadata": {
    "tags": [
     "keep"
    ]
   },
   "outputs": [],
   "source": [
    "x = 20"
   ]
  },
  {
   "cell_type": "code",
   "execution_count": null,
   "id": "f602d942e55777a3",
   "metadata": {
    "tags": [
     "keep"
    ]
   },
   "outputs": [],
   "source": [
    "x"
   ]
  },
  {
   "cell_type": "markdown",
   "id": "c7bb539f1b738371",
   "metadata": {
    "lang": "de",
    "slideshow": {
     "slide_type": "subslide"
    },
    "tags": [
     "subslide"
    ]
   },
   "source": [
    "\n",
    "**Ausführungsstatus**:\n",
    "- Zellen können in beliebiger Reihenfolge ausgeführt werden\n",
    "- Zellennummern `[1]`, `[2]` usw. zeigen die Ausführungsreihenfolge an\n",
    "- `Restart & Run All` um sequenzielle Ausführung sicherzustellen\n",
    "- Spinner in der unteren linken Zellenecke zeigt an, dass sie gerade ausgeführt wird\n",
    "  - (In Jupyter-Notebooks ist dies ein `[*]` neben der Zellennummer)"
   ]
  },
  {
   "cell_type": "code",
   "execution_count": null,
   "id": "b529f0a6575c2c65",
   "metadata": {
    "slideshow": {
     "slide_type": "subslide"
    },
    "tags": [
     "keep",
     "subslide"
    ]
   },
   "outputs": [],
   "source": [
    "import time\n",
    "# time.sleep(5)"
   ]
  },
  {
   "cell_type": "markdown",
   "id": "f0900c9983123328",
   "metadata": {
    "lang": "de",
    "slideshow": {
     "slide_type": "subslide"
    },
    "tags": [
     "subslide"
    ]
   },
   "source": [
    "\n",
    "## V. Variablenzustand und Speicher\n",
    "\n",
    "**Variablen bleiben zwischen Zellen erhalten:**"
   ]
  },
  {
   "cell_type": "code",
   "execution_count": null,
   "id": "b663ab96c6a66379",
   "metadata": {
    "lang": "de",
    "tags": [
     "keep"
    ]
   },
   "outputs": [],
   "source": [
    "# Eine Variable definieren\n",
    "meine_variable = 42\n",
    "print(f\"Anfangswert: {meine_variable}\")"
   ]
  },
  {
   "cell_type": "code",
   "execution_count": null,
   "id": "1ea257eb0d703ff5",
   "metadata": {
    "lang": "de",
    "tags": [
     "keep"
    ]
   },
   "outputs": [],
   "source": [
    "# Die Variable in einer anderen Zelle verwenden\n",
    "print(f\"Der Wert ist immer noch: {meine_variable}\")"
   ]
  },
  {
   "cell_type": "code",
   "execution_count": null,
   "id": "7981381a8912672b",
   "metadata": {
    "lang": "de",
    "tags": [
     "keep"
    ]
   },
   "outputs": [],
   "source": [
    "# Variable ändern\n",
    "meine_variable += 10"
   ]
  },
  {
   "cell_type": "code",
   "execution_count": null,
   "id": "10d2bc181f606b2d",
   "metadata": {
    "lang": "de",
    "tags": [
     "keep"
    ]
   },
   "outputs": [],
   "source": [
    "print(f\"Neuer Wert: {meine_variable}\")"
   ]
  },
  {
   "cell_type": "markdown",
   "id": "1547d2cc876a4d83",
   "metadata": {
    "lang": "de",
    "slideshow": {
     "slide_type": "subslide"
    },
    "tags": [
     "subslide"
    ]
   },
   "source": [
    "\n",
    "## VI. Arbeiten mit Markdown-Zellen\n",
    "\n",
    "**Beispiele für Markdown-Formatierung:**"
   ]
  },
  {
   "cell_type": "markdown",
   "id": "bc17471aded8ec46",
   "metadata": {
    "lang": "de"
   },
   "source": [
    "# Überschrift 1\n",
    "## Überschrift 2\n",
    "### Überschrift 3\n",
    "\n",
    "* Aufzählungspunkt 1\n",
    "* Aufzählungspunkt 2\n",
    "  * Verschachtelter Punkt"
   ]
  },
  {
   "cell_type": "markdown",
   "id": "72d67a50251d354d",
   "metadata": {
    "lang": "de",
    "slideshow": {
     "slide_type": "subslide"
    },
    "tags": [
     "subslide"
    ]
   },
   "source": [
    "\n",
    "1. Nummerierte Liste\n",
    "2. Zweiter Punkt\n",
    "\n",
    "**Fetter Text** und *kursiver Text*\n",
    "\n",
    "`Inline-Code` und Codeblöcke:\n",
    "```python\n",
    "def hallo():\n",
    "    return \"Hallo, Welt!\"\n",
    "```\n",
    "\n",
    "[Link zu Google](https://google.com)\n",
    "\n",
    "Mathematische Gleichungen: $E = mc^2$"
   ]
  },
  {
   "cell_type": "markdown",
   "id": "809a70b591123876",
   "metadata": {
    "lang": "de",
    "slideshow": {
     "slide_type": "subslide"
    },
    "tags": [
     "subslide"
    ]
   },
   "source": [
    "\n",
    "## VII. Wichtige Tastaturkürzel\n",
    "\n",
    "**Befehlsmodus** (Drücken Sie `Esc`, um einzutreten):\n",
    "- `A`: Zelle darüber einfügen\n",
    "- `B`: Zelle darunter einfügen\n",
    "- `D,D`: Zelle löschen (D zweimal drücken)\n",
    "- `Y`: In Code-Zelle umwandeln\n",
    "- `M`: In Markdown-Zelle umwandeln\n",
    "- `Umschalt+Eingabe`: Zelle ausführen und zur nächsten gehen\n",
    "- `Strg+Eingabe`: Zelle ausführen und bleiben\n",
    "- `Pfeil auf/ab`: Zwischen Zellen navigieren"
   ]
  },
  {
   "cell_type": "markdown",
   "id": "03f330f50b5326f8",
   "metadata": {
    "lang": "de",
    "slideshow": {
     "slide_type": "subslide"
    },
    "tags": [
     "subslide"
    ]
   },
   "source": [
    "\n",
    "## Workshop: Arbeiten mit Jupyter-Notebooks\n",
    "\n",
    "**Aufgaben:**\n",
    "1. Erstellen Sie eine neue Code-Zelle unten (drücken Sie `B` im Befehlsmodus)\n",
    "2. Schreiben Sie Code, der eine Funktion erstellt, um die Fakultät einer Zahl zu berechnen\n",
    "   ```python\n",
    "   def factorial(n):\n",
    "       if n <= 0:\n",
    "           return 1\n",
    "       else:\n",
    "           return n * factorial(n-1)\n",
    "   ```\n",
    "3. Führen Sie die Zelle aus"
   ]
  },
  {
   "cell_type": "markdown",
   "id": "03c5d7a4b5184044",
   "metadata": {
    "lang": "de",
    "slideshow": {
     "slide_type": "subslide"
    },
    "tags": [
     "subslide"
    ]
   },
   "source": [
    "\n",
    "4. Erstellen Sie eine weitere Zelle, um Ihre Funktion mit verschiedenen Eingaben zu testen\n",
    "   ```python\n",
    "   factorial(5)\n",
    "   ```\n",
    "5. Führen Sie die Testzelle aus\n",
    "6. Experimentieren Sie mit verschiedenen Eingaben, um zu sehen, wie sich die Funktion verhält\n",
    "7. Erstellen Sie eine Markdown-Zelle, um Notizen oder Erklärungen zu schreiben"
   ]
  }
 ],
 "metadata": {
  "jupytext": {
   "cell_metadata_filter": "lang,tags,-all",
   "main_language": "python",
   "notebook_metadata_filter": "-all"
  },
  "kernelspec": {
   "display_name": "Python 3 (ipykernel)",
   "language": "python",
   "name": "python3"
  },
  "language_info": {
   "codemirror_mode": {
    "name": "ipython",
    "version": 3
   },
   "file_extension": ".py",
   "mimetype": "text/x-python",
   "name": "python",
   "nbconvert_exporter": "python",
   "pygments_lexer": "ipython3"
  }
 },
 "nbformat": 4,
 "nbformat_minor": 5
}
