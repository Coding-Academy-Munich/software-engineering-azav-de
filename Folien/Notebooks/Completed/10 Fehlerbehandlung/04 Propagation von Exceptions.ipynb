{
 "cells": [
  {
   "cell_type": "markdown",
   "id": "6934057e0cfb90a5",
   "metadata": {
    "lang": "de",
    "slideshow": {
     "slide_type": "slide"
    },
    "tags": [
     "slide"
    ]
   },
   "source": [
    "\n",
    "<img src=\"data:image/svg+xml;base64,PHN2ZyB4bWxucz0iaHR0cDovL3d3dy53My5vcmcvMjAwMC9zdmciIHhtbG5zOnhsaW5rPSJodHRw\n",
    "Oi8vd3d3LnczLm9yZy8xOTk5L3hsaW5rIiB3aWR0aD0iMTExLjE2MSIgaGVpZ2h0PSIxMzQuNjY4\n",
    "IiB2ZXJzaW9uPSIxLjAiPjxkZWZzPjxsaW5lYXJHcmFkaWVudCBpZD0iYyI+PHN0b3Agb2Zmc2V0\n",
    "PSIwIiBzdHlsZT0ic3RvcC1jb2xvcjojYjhiOGI4O3N0b3Atb3BhY2l0eTouNDk4MDM5MjIiLz48\n",
    "c3RvcCBvZmZzZXQ9IjEiIHN0eWxlPSJzdG9wLWNvbG9yOiM3ZjdmN2Y7c3RvcC1vcGFjaXR5OjAi\n",
    "Lz48L2xpbmVhckdyYWRpZW50PjxsaW5lYXJHcmFkaWVudCBpZD0iYSI+PHN0b3Agb2Zmc2V0PSIw\n",
    "IiBzdHlsZT0ic3RvcC1jb2xvcjojZmZkNDNiO3N0b3Atb3BhY2l0eToxIi8+PHN0b3Agb2Zmc2V0\n",
    "PSIxIiBzdHlsZT0ic3RvcC1jb2xvcjojZmZlODczO3N0b3Atb3BhY2l0eToxIi8+PC9saW5lYXJH\n",
    "cmFkaWVudD48bGluZWFyR3JhZGllbnQgaWQ9ImIiPjxzdG9wIG9mZnNldD0iMCIgc3R5bGU9InN0\n",
    "b3AtY29sb3I6IzVhOWZkNDtzdG9wLW9wYWNpdHk6MSIvPjxzdG9wIG9mZnNldD0iMSIgc3R5bGU9\n",
    "InN0b3AtY29sb3I6IzMwNjk5ODtzdG9wLW9wYWNpdHk6MSIvPjwvbGluZWFyR3JhZGllbnQ+PGxp\n",
    "bmVhckdyYWRpZW50IHhsaW5rOmhyZWY9IiNhIiBpZD0iZSIgeDE9IjE1MC45NjEiIHgyPSIxMTIu\n",
    "MDMxIiB5MT0iMTkyLjM1MiIgeTI9IjEzNy4yNzMiIGdyYWRpZW50VHJhbnNmb3JtPSJtYXRyaXgo\n",
    "LjU2MjU0IDAgMCAuNTY3OTcgLTE0Ljk5MSAtMTEuNzAyKSIgZ3JhZGllbnRVbml0cz0idXNlclNw\n",
    "YWNlT25Vc2UiLz48bGluZWFyR3JhZGllbnQgeGxpbms6aHJlZj0iI2IiIGlkPSJkIiB4MT0iMjYu\n",
    "NjQ5IiB4Mj0iMTM1LjY2NSIgeTE9IjIwLjYwNCIgeTI9IjExNC4zOTgiIGdyYWRpZW50VHJhbnNm\n",
    "b3JtPSJtYXRyaXgoLjU2MjU0IDAgMCAuNTY3OTcgLTE0Ljk5MSAtMTEuNzAyKSIgZ3JhZGllbnRV\n",
    "bml0cz0idXNlclNwYWNlT25Vc2UiLz48cmFkaWFsR3JhZGllbnQgeGxpbms6aHJlZj0iI2MiIGlk\n",
    "PSJmIiBjeD0iNjEuNTE5IiBjeT0iMTMyLjI4NiIgcj0iMjkuMDM3IiBmeD0iNjEuNTE5IiBmeT0i\n",
    "MTMyLjI4NiIgZ3JhZGllbnRUcmFuc2Zvcm09Im1hdHJpeCgwIC0uMjM5OTUgMS4wNTQ2NyAwIC04\n",
    "My43IDE0Mi40NjIpIiBncmFkaWVudFVuaXRzPSJ1c2VyU3BhY2VPblVzZSIvPjwvZGVmcz48cGF0\n",
    "aCBkPSJNNTQuOTE5IDBjLTQuNTg0LjAyMi04Ljk2MS40MTMtMTIuODEzIDEuMDk1QzMwLjc2IDMu\n",
    "MDk5IDI4LjcgNy4yOTUgMjguNyAxNS4wMzJ2MTAuMjE5aDI2LjgxM3YzLjQwNkgxOC42MzhjLTcu\n",
    "NzkzIDAtMTQuNjE2IDQuNjg0LTE2Ljc1IDEzLjU5NC0yLjQ2MiAxMC4yMTMtMi41NzEgMTYuNTg2\n",
    "IDAgMjcuMjUgMS45MDUgNy45MzggNi40NTcgMTMuNTk0IDE0LjI1IDEzLjU5NGg5LjIxOHYtMTIu\n",
    "MjVjMC04Ljg1IDcuNjU3LTE2LjY1NyAxNi43NS0xNi42NTdoMjYuNzgyYzcuNDU0IDAgMTMuNDA2\n",
    "LTYuMTM4IDEzLjQwNi0xMy42MjV2LTI1LjUzYzAtNy4yNjctNi4xMy0xMi43MjYtMTMuNDA2LTEz\n",
    "LjkzOEM2NC4yODIuMzI4IDU5LjUwMi0uMDIgNTQuOTE4IDBtLTE0LjUgOC4yMmMyLjc3IDAgNS4w\n",
    "MzEgMi4yOTggNS4wMzEgNS4xMjUgMCAyLjgxNi0yLjI2MiA1LjA5My01LjAzMSA1LjA5My0yLjc4\n",
    "IDAtNS4wMzEtMi4yNzctNS4wMzEtNS4wOTMgMC0yLjgyNyAyLjI1MS01LjEyNSA1LjAzLTUuMTI1\n",
    "IiBzdHlsZT0iZmlsbDp1cmwoI2QpO2ZpbGwtb3BhY2l0eToxIi8+PHBhdGggZD0iTTg1LjYzOCAy\n",
    "OC42NTd2MTEuOTA2YzAgOS4yMzEtNy44MjYgMTctMTYuNzUgMTdINDIuMTA2Yy03LjMzNiAwLTEz\n",
    "LjQwNiA2LjI3OS0xMy40MDYgMTMuNjI1Vjk2LjcyYzAgNy4yNjYgNi4zMTkgMTEuNTQgMTMuNDA2\n",
    "IDEzLjYyNSA4LjQ4OCAyLjQ5NSAxNi42MjcgMi45NDYgMjYuNzgyIDAgNi43NS0xLjk1NSAxMy40\n",
    "MDYtNS44ODggMTMuNDA2LTEzLjYyNVY4Ni41SDU1LjUxM3YtMy40MDVIOTUuN2M3Ljc5MyAwIDEw\n",
    "LjY5Ni01LjQzNiAxMy40MDYtMTMuNTk0IDIuOC04LjM5OSAyLjY4LTE2LjQ3NiAwLTI3LjI1LTEu\n",
    "OTI1LTcuNzU4LTUuNjA0LTEzLjU5NC0xMy40MDYtMTMuNTk0ek03MC41NzUgOTMuMzEzYzIuNzgg\n",
    "MCA1LjAzMSAyLjI3OCA1LjAzMSA1LjA5NCAwIDIuODI3LTIuMjUxIDUuMTI1LTUuMDMxIDUuMTI1\n",
    "LTIuNzcgMC01LjAzMS0yLjI5OC01LjAzMS01LjEyNSAwLTIuODE2IDIuMjYxLTUuMDk0IDUuMDMx\n",
    "LTUuMDk0IiBzdHlsZT0iZmlsbDp1cmwoI2UpO2ZpbGwtb3BhY2l0eToxIi8+PGVsbGlwc2UgY3g9\n",
    "IjU1LjgxNyIgY3k9IjEyNy43MDEiIHJ4PSIzNS45MzEiIHJ5PSI2Ljk2NyIgc3R5bGU9Im9wYWNp\n",
    "dHk6LjQ0MzgyO2ZpbGw6dXJsKCNmKTtmaWxsLW9wYWNpdHk6MTtmaWxsLXJ1bGU6bm9uemVybztz\n",
    "dHJva2U6bm9uZTtzdHJva2Utd2lkdGg6MTUuNDE3NDtzdHJva2UtbWl0ZXJsaW1pdDo0O3N0cm9r\n",
    "ZS1kYXNoYXJyYXk6bm9uZTtzdHJva2Utb3BhY2l0eToxIi8+PC9zdmc+\n",
    "\"\n",
    "     style=\"display:block;margin:auto;width:10%\" alt=\"Python Logo\"/>\n",
    "<br>\n",
    "\n",
    "<div style=\"text-align:center; font-size:200%;\">\n",
    " <b>Propagation von Exceptions</b>\n",
    "</div>\n",
    "<br/>\n",
    "<div style=\"text-align:center;\">Dr. Matthias Hölzl</div>\n",
    "<br/>"
   ]
  },
  {
   "cell_type": "markdown",
   "id": "07aae6b3ef44c4a8",
   "metadata": {
    "lang": "de",
    "slideshow": {
     "slide_type": "slide"
    },
    "tags": [
     "slide"
    ]
   },
   "source": [
    "\n",
    "# Stack-Unwinding\n",
    "\n",
    "Wenn eine Exception ausgelöst wird, werden geschachtelte Funktionsaufrufe so lange\n",
    "abgebrochen, bis ein passender Handler gefunden wird:"
   ]
  },
  {
   "cell_type": "code",
   "execution_count": null,
   "id": "14b3657249348ac4",
   "metadata": {
    "lines_to_next_cell": 1,
    "slideshow": {
     "slide_type": "subslide"
    },
    "tags": [
     "keep",
     "subslide"
    ]
   },
   "outputs": [],
   "source": [
    "def function_1():\n",
    "    local_var_1 = 10\n",
    "    local_var_2 = 20\n",
    "    function_2()\n",
    "    print(\"function_1(): done\")"
   ]
  },
  {
   "cell_type": "code",
   "execution_count": null,
   "id": "0dafb0f5d79b5898",
   "metadata": {
    "lines_to_next_cell": 1,
    "tags": [
     "keep"
    ]
   },
   "outputs": [],
   "source": [
    "def function_2():\n",
    "    try:\n",
    "        local_var_1 = 5\n",
    "        local_var_2 = 10\n",
    "        local_var_3 = 15\n",
    "        function_3()\n",
    "        print(\"function_2(): done\")\n",
    "    except Exception:\n",
    "        print(\"function_2(): caught Exception\")"
   ]
  },
  {
   "cell_type": "code",
   "execution_count": null,
   "id": "68e5fa2ed1070428",
   "metadata": {
    "tags": [
     "keep"
    ]
   },
   "outputs": [],
   "source": [
    "def function_3():\n",
    "    local_var_1 = 2\n",
    "    function_4()\n",
    "    print(\"function_3(): done\")"
   ]
  },
  {
   "cell_type": "code",
   "execution_count": null,
   "id": "2332bbf39ea617aa",
   "metadata": {
    "lines_to_next_cell": 1,
    "tags": [
     "keep"
    ]
   },
   "outputs": [],
   "source": [
    "def function_4():\n",
    "    local_var_1 = 4\n",
    "    raise ValueError(\"Raising ValueError\")\n",
    "    print(\"function_4(): done\")"
   ]
  },
  {
   "cell_type": "code",
   "execution_count": null,
   "id": "db53684852e66543",
   "metadata": {
    "lines_to_next_cell": 2,
    "slideshow": {
     "slide_type": "subslide"
    },
    "tags": [
     "keep",
     "subslide"
    ]
   },
   "outputs": [],
   "source": [
    "function_1()"
   ]
  },
  {
   "cell_type": "markdown",
   "id": "6b85b2b4e1dc4cc5",
   "metadata": {
    "slideshow": {
     "slide_type": "subslide"
    },
    "tags": [
     "subslide"
    ]
   },
   "source": [
    "\n",
    "<img src=\"img/stack-code.png\" alt=\"Call Stack\"\n",
    "     style=\"float: left; width: 30%; margin-left: 10%; margin-top: 3%;\"/>\n",
    "\n",
    "<img src=\"img/stack-01a.png\" alt=\"Call Stack\"\n",
    "     style=\"float: left; width: 30%; margin-left: 10%;\"/>"
   ]
  },
  {
   "cell_type": "markdown",
   "id": "cd2357986c61cd88",
   "metadata": {
    "slideshow": {
     "slide_type": "subslide"
    },
    "tags": [
     "subslide"
    ]
   },
   "source": [
    "\n",
    "<img src=\"img/stack-code.png\" alt=\"Call Stack\"\n",
    "     style=\"float: left; width: 30%; margin-left: 10%; margin-top: 3%;\"/>\n",
    "\n",
    "<img src=\"img/stack-01b.png\" alt=\"Call Stack\"\n",
    "     style=\"float: left; width: 30%; margin-left: 10%;\"/>"
   ]
  },
  {
   "cell_type": "markdown",
   "id": "e11e0624beacdb10",
   "metadata": {
    "slideshow": {
     "slide_type": "subslide"
    },
    "tags": [
     "subslide"
    ]
   },
   "source": [
    "\n",
    "<img src=\"img/stack-code.png\" alt=\"Call Stack\"\n",
    "     style=\"float: left; width: 30%; margin-left: 10%; margin-top: 3%;\"/>\n",
    "\n",
    "<img src=\"img/stack-01c.png\" alt=\"Call Stack\"\n",
    "     style=\"float: left; width: 30%; margin-left: 10%;\"/>"
   ]
  },
  {
   "cell_type": "markdown",
   "id": "323db56e02281cdf",
   "metadata": {
    "slideshow": {
     "slide_type": "subslide"
    },
    "tags": [
     "subslide"
    ]
   },
   "source": [
    "\n",
    "<img src=\"img/stack-code.png\" alt=\"Call Stack\"\n",
    "     style=\"float: left; width: 30%; margin-left: 10%; margin-top: 3%;\"/>\n",
    "\n",
    "<img src=\"img/stack-01d.png\" alt=\"Call Stack\"\n",
    "     style=\"float: left; width: 30%; margin-left: 10%;\"/>"
   ]
  },
  {
   "cell_type": "markdown",
   "id": "9907c70099771c89",
   "metadata": {
    "slideshow": {
     "slide_type": "subslide"
    },
    "tags": [
     "subslide"
    ]
   },
   "source": [
    "\n",
    "<img src=\"img/stack-code.png\" alt=\"Call Stack\"\n",
    "     style=\"float: left; width: 30%; margin-left: 10%; margin-top: 3%;\"/>\n",
    "\n",
    "<img src=\"img/stack-01e.png\" alt=\"Call Stack\"\n",
    "     style=\"float: left; width: 30%; margin-left: 10%;\"/>"
   ]
  },
  {
   "cell_type": "markdown",
   "id": "9f3defc55245411b",
   "metadata": {
    "slideshow": {
     "slide_type": "subslide"
    },
    "tags": [
     "subslide"
    ]
   },
   "source": [
    "\n",
    "<img src=\"img/stack-code.png\" alt=\"Call Stack\"\n",
    "     style=\"float: left; width: 30%; margin-left: 10%; margin-top: 3%;\"/>\n",
    "\n",
    "<img src=\"img/stack-02.png\" alt=\"Call Stack\"\n",
    "     style=\"float: left; width: 37.3%; margin-left: 10%;\"/>"
   ]
  },
  {
   "cell_type": "markdown",
   "id": "28592f9204224eff",
   "metadata": {
    "slideshow": {
     "slide_type": "subslide"
    },
    "tags": [
     "subslide"
    ]
   },
   "source": [
    "\n",
    "<img src=\"img/stack-code.png\" alt=\"Call Stack\"\n",
    "     style=\"float: left; width: 30%; margin-left: 10%; margin-top: 3%;\"/>\n",
    "\n",
    "<img src=\"img/stack-03.png\" alt=\"Call Stack\"\n",
    "     style=\"float: left; width: 37.3%; margin-left: 10%;\"/>"
   ]
  },
  {
   "cell_type": "markdown",
   "id": "e582487216aa20e8",
   "metadata": {
    "lines_to_next_cell": 2,
    "slideshow": {
     "slide_type": "subslide"
    },
    "tags": [
     "subslide"
    ]
   },
   "source": [
    "\n",
    "<img src=\"img/stack-code.png\" alt=\"Call Stack\"\n",
    "     style=\"float: left; width: 30%; margin-left: 10%; margin-top: 3%;\"/>\n",
    "\n",
    "<img src=\"img/stack-04.png\" alt=\"Call Stack\"\n",
    "     style=\"float: left; width: 30%; margin-left: 10%;\"/>"
   ]
  },
  {
   "cell_type": "code",
   "execution_count": null,
   "id": "e8cc46259d75dc05",
   "metadata": {
    "slideshow": {
     "slide_type": "subslide"
    },
    "tags": [
     "keep",
     "subslide"
    ]
   },
   "outputs": [],
   "source": [
    "from typing import Callable"
   ]
  },
  {
   "cell_type": "markdown",
   "id": "1859aabf8a522010",
   "metadata": {
    "lang": "de"
   },
   "source": [
    "\n",
    "- Der Typ `Callable` kann z.B. verwendet werden, um auszudrücken, dass wir\n",
    "  eine Funktion als Argument übergeben wollen.\n",
    "- Das kann auch eine Konstruktorfunktion sein, wie z.B. `list` oder\n",
    "  `ValueError`."
   ]
  },
  {
   "cell_type": "code",
   "execution_count": null,
   "id": "ae8ed23cecd8dc5f",
   "metadata": {},
   "outputs": [],
   "source": [
    "isinstance(function_1, Callable)"
   ]
  },
  {
   "cell_type": "code",
   "execution_count": null,
   "id": "845e7ebeffc196c3",
   "metadata": {},
   "outputs": [],
   "source": [
    "function_1()"
   ]
  },
  {
   "cell_type": "code",
   "execution_count": null,
   "id": "c4e971f1b956f7c6",
   "metadata": {},
   "outputs": [],
   "source": [
    "isinstance(list, Callable)"
   ]
  },
  {
   "cell_type": "code",
   "execution_count": null,
   "id": "4996b624cd5eb488",
   "metadata": {},
   "outputs": [],
   "source": [
    "list([1, 2, 3])"
   ]
  },
  {
   "cell_type": "code",
   "execution_count": null,
   "id": "f89b1e7b1aa8e182",
   "metadata": {
    "slideshow": {
     "slide_type": "subslide"
    },
    "tags": [
     "subslide"
    ]
   },
   "outputs": [],
   "source": [
    "isinstance(ValueError, Callable)"
   ]
  },
  {
   "cell_type": "code",
   "execution_count": null,
   "id": "36f09c1bee83e7f7",
   "metadata": {},
   "outputs": [],
   "source": [
    "ValueError(\"Created a ValueError instance\")"
   ]
  },
  {
   "cell_type": "markdown",
   "id": "40f57427d673dea3",
   "metadata": {
    "lang": "de",
    "slideshow": {
     "slide_type": "subslide"
    },
    "tags": [
     "subslide"
    ]
   },
   "source": [
    "\n",
    "- Wir haben schon gesehen, dass Exceptions eine Hierarchie bilden:\n",
    "  ```\n",
    "  BaseException\n",
    "   └── Exception\n",
    "        ├── ArithmeticError\n",
    "        ├── LookupError\n",
    "        │    ├── IndexError\n",
    "        │    └── KeyError\n",
    "        ├── TypeError\n",
    "        └── ValueError\n",
    "  ```\n",
    "- Mit `issubclass()` können wir das überprüfen."
   ]
  },
  {
   "cell_type": "code",
   "execution_count": null,
   "id": "9ba56065187957a0",
   "metadata": {
    "slideshow": {
     "slide_type": "subslide"
    },
    "tags": [
     "subslide"
    ]
   },
   "outputs": [],
   "source": [
    "issubclass(IndexError, Exception)"
   ]
  },
  {
   "cell_type": "code",
   "execution_count": null,
   "id": "d8241b6dd93efb54",
   "metadata": {},
   "outputs": [],
   "source": [
    "issubclass(IndexError, LookupError)"
   ]
  },
  {
   "cell_type": "code",
   "execution_count": null,
   "id": "a66564dd6a671030",
   "metadata": {},
   "outputs": [],
   "source": [
    "issubclass(IndexError, IndexError)"
   ]
  },
  {
   "cell_type": "code",
   "execution_count": null,
   "id": "b4bb8f779182b758",
   "metadata": {},
   "outputs": [],
   "source": [
    "issubclass(IndexError, ValueError)"
   ]
  },
  {
   "cell_type": "code",
   "execution_count": null,
   "id": "81c51d5420cb5248",
   "metadata": {
    "slideshow": {
     "slide_type": "subslide"
    },
    "tags": [
     "keep",
     "subslide"
    ]
   },
   "outputs": [],
   "source": [
    "def outer_caller_v0(error_type: Callable = ValueError):\n",
    "    intermediate_fun_v0(error_type)"
   ]
  },
  {
   "cell_type": "code",
   "execution_count": null,
   "id": "5fb5e462d933e9ac",
   "metadata": {
    "slideshow": {
     "slide_type": "subslide"
    },
    "tags": [
     "keep",
     "subslide"
    ]
   },
   "outputs": [],
   "source": [
    "def intermediate_fun_v0(error_type: Callable):\n",
    "    try:\n",
    "        raise_and_handle_error_v0(error_type)\n",
    "    except:\n",
    "        raise"
   ]
  },
  {
   "cell_type": "code",
   "execution_count": null,
   "id": "4eece752598abd50",
   "metadata": {
    "lines_to_next_cell": 1,
    "tags": [
     "keep"
    ]
   },
   "outputs": [],
   "source": [
    "def raise_and_handle_error_v0(error_type: Callable):\n",
    "    try:\n",
    "        raise error_type(f\"Raising {error_type.__name__}\")\n",
    "    except LookupError:\n",
    "        pass"
   ]
  },
  {
   "cell_type": "code",
   "execution_count": null,
   "id": "278ea9b3b8148283",
   "metadata": {
    "slideshow": {
     "slide_type": "subslide"
    },
    "tags": [
     "keep",
     "subslide"
    ]
   },
   "outputs": [],
   "source": [
    "# outer_caller_v0(ValueError)"
   ]
  },
  {
   "cell_type": "code",
   "execution_count": null,
   "id": "9f023ad927c5e87e",
   "metadata": {},
   "outputs": [],
   "source": [
    "outer_caller_v0(LookupError)"
   ]
  },
  {
   "cell_type": "code",
   "execution_count": null,
   "id": "9a8f642c4f2d537b",
   "metadata": {
    "slideshow": {
     "slide_type": "subslide"
    },
    "tags": [
     "keep",
     "subslide"
    ]
   },
   "outputs": [],
   "source": [
    "def outer_caller(error_type: Callable = ValueError):\n",
    "    print(\"outer_caller(): before calling\")\n",
    "    intermediate_fun(error_type)\n",
    "    print(\"outer_caller(): after calling\")"
   ]
  },
  {
   "cell_type": "code",
   "execution_count": null,
   "id": "b09f2ed2cc2d1b05",
   "metadata": {
    "tags": [
     "keep"
    ]
   },
   "outputs": [],
   "source": [
    "def intermediate_fun(error_type: Callable):\n",
    "    print(\"  intermediate_fun(): before try\")\n",
    "    try:\n",
    "        print(\"  intermediate_fun(): before calling\")\n",
    "        raise_and_handle_error(error_type)\n",
    "        print(\"  intermediate_fun(): after calling\")\n",
    "    except:\n",
    "        raise\n",
    "    print(\"  intermediate_fun(): after except\")"
   ]
  },
  {
   "cell_type": "code",
   "execution_count": null,
   "id": "7e10b621f3f367a7",
   "metadata": {
    "slideshow": {
     "slide_type": "subslide"
    },
    "tags": [
     "keep",
     "subslide"
    ]
   },
   "outputs": [],
   "source": [
    "def raise_and_handle_error(error_type: Callable):\n",
    "    print(\"    raise_and_handle_error(): before try\")\n",
    "    try:\n",
    "        print(\"    raise_and_handle_error(): before raise\")\n",
    "        raise error_type(f\"Raising {error_type.__name__}\")\n",
    "        print(\"    raise_and_handle_error(): after raise\")  # noqa\n",
    "    except LookupError as error:\n",
    "        print(f\"<<< raise_and_handle_error(): caught LookupError [{error}]\")\n",
    "    print(\"    raise_and_handle_error(): after except\")"
   ]
  },
  {
   "cell_type": "code",
   "execution_count": null,
   "id": "a4cadf708f49ebf8",
   "metadata": {
    "slideshow": {
     "slide_type": "subslide"
    },
    "tags": [
     "keep",
     "subslide"
    ]
   },
   "outputs": [],
   "source": [
    "outer_caller(LookupError)"
   ]
  },
  {
   "cell_type": "code",
   "execution_count": null,
   "id": "f9c5f3d6138e49f4",
   "metadata": {
    "slideshow": {
     "slide_type": "subslide"
    },
    "tags": [
     "keep",
     "subslide"
    ]
   },
   "outputs": [],
   "source": [
    "outer_caller(IndexError)"
   ]
  },
  {
   "cell_type": "code",
   "execution_count": null,
   "id": "04c06cfe2f190370",
   "metadata": {
    "lines_to_next_cell": 2,
    "slideshow": {
     "slide_type": "subslide"
    },
    "tags": [
     "keep",
     "subslide"
    ]
   },
   "outputs": [],
   "source": [
    "# outer_caller(ValueError)"
   ]
  },
  {
   "cell_type": "code",
   "execution_count": null,
   "id": "11aba932f719176f",
   "metadata": {
    "slideshow": {
     "slide_type": "subslide"
    },
    "tags": [
     "keep",
     "subslide"
    ]
   },
   "outputs": [],
   "source": [
    "def outer_caller_with_try(error_type: Callable = ValueError):\n",
    "    print(\"outer_caller(): before try\")\n",
    "    try:\n",
    "        print(\"outer_caller(): before calling\")\n",
    "        intermediate_fun(error_type)\n",
    "        print(\"outer_caller(): after calling\")\n",
    "    except Exception as error:\n",
    "        print(f\"<<< outer_caller(): caught Exception: {error}\")\n",
    "    print(\"outer_caller(): after except\")"
   ]
  },
  {
   "cell_type": "code",
   "execution_count": null,
   "id": "55334602491c8f08",
   "metadata": {
    "lines_to_next_cell": 2,
    "slideshow": {
     "slide_type": "subslide"
    },
    "tags": [
     "keep",
     "subslide"
    ]
   },
   "outputs": [],
   "source": [
    "outer_caller_with_try(IndexError)"
   ]
  },
  {
   "cell_type": "code",
   "execution_count": null,
   "id": "6b4e03423667dbb7",
   "metadata": {
    "incorrectly_encoded_metadata": "tags=[\"keep\", \"ValueErroruter_caller_with_try(Type.VALUE)",
    "lines_to_next_cell": 2
   },
   "outputs": [],
   "source": []
  },
  {
   "cell_type": "markdown",
   "id": "5f7a02a5d7602349",
   "metadata": {
    "lang": "de",
    "slideshow": {
     "slide_type": "slide"
    },
    "tags": [
     "slide"
    ]
   },
   "source": [
    "\n",
    "## Workshop: Verschachtelte Ausnahmen\n",
    "\n",
    "In diesem Workshop wollen wir betrachten, wie sich verschachtelte Ausnahmen\n",
    "verhalten.\n",
    "\n",
    "Gegeben seien die folgenden Funktionen.\n",
    "\n",
    "Welche Ausgabe erwarten Sie für Aufrufe von `outer_caller_ws()` und\n",
    "`outer_caller_with_try_ws()` mit den verschiedenen `Type`-Werten?"
   ]
  },
  {
   "cell_type": "code",
   "execution_count": null,
   "id": "9911af6e1141a9a3",
   "metadata": {
    "slideshow": {
     "slide_type": "subslide"
    },
    "tags": [
     "keep",
     "subslide"
    ]
   },
   "outputs": [],
   "source": [
    "def raise_and_handle_error_ws(exception_type: Callable):\n",
    "    print(\"    raise_and_handle_error_ws(): before try\")\n",
    "    try:\n",
    "        print(\"    raise_and_handle_error_ws(): before raise\")\n",
    "        raise exception_type(f\"Raising {exception_type.__name__}\")\n",
    "    except LookupError as error:\n",
    "        print(f\"<<< raise_and_handle_error_ws(): caught LookupError [{error}]\")\n",
    "        raise\n",
    "    except ValueError as error:\n",
    "        print(f\"<<< raise_and_handle_error_ws(): caught ValueError [{error}]\")\n",
    "    print(\"    raise_and_handle_error_ws(): after except\")"
   ]
  },
  {
   "cell_type": "code",
   "execution_count": null,
   "id": "e787dcbe88d60b51",
   "metadata": {
    "slideshow": {
     "slide_type": "subslide"
    },
    "tags": [
     "keep",
     "subslide"
    ]
   },
   "outputs": [],
   "source": [
    "def intermediate_fun_ws(exception_type: Callable):\n",
    "    print(\"  intermediate_fun_ws(): before call\")\n",
    "    try:\n",
    "        raise_and_handle_error_ws(exception_type)\n",
    "    except IndexError as error:\n",
    "        print(f\"<<< intermediate_fun_ws(): caught IndexError [{error}]\")\n",
    "        # This causes Python to report that the IndexError is the\n",
    "        # \"direct cause of\" the TypeError\n",
    "        raise TypeError(f\"Raising inner TypeError from [{error}]\") from error\n",
    "    except LookupError as error:\n",
    "        print(f\"<<< intermediate_fun_ws(): caught LookupError [{error}]\")\n",
    "        # This causes Python to report that during handling of LookupError\n",
    "        # \"another exception occurred\"\n",
    "        raise TypeError(\"Raising inner TypeError\")\n",
    "    except Exception as error:\n",
    "        print(f\"<<< intermediate_fun_ws(): caught Exception [{error}]\")\n",
    "        print(\"  intermediate_fun_ws(): re-raising exception\")\n",
    "        # This causes Python to act as if the exception had never been caught\n",
    "        raise\n",
    "        print(\"  intermediate_fun_ws(): re-raised exception\")  # noqa\n",
    "    print(\"  intermediate_fun_ws() after call\")"
   ]
  },
  {
   "cell_type": "code",
   "execution_count": null,
   "id": "2034ebfe6de755ae",
   "metadata": {
    "slideshow": {
     "slide_type": "subslide"
    },
    "tags": [
     "keep",
     "subslide"
    ]
   },
   "outputs": [],
   "source": [
    "def outer_caller_ws(exception_type: Callable = ValueError):\n",
    "    print(\"outer_caller_ws(): before calling\")\n",
    "    intermediate_fun_ws(exception_type)\n",
    "    print(\"outer_caller_ws(): after calling\")"
   ]
  },
  {
   "cell_type": "code",
   "execution_count": null,
   "id": "dfd3dd6767ebc765",
   "metadata": {
    "slideshow": {
     "slide_type": "subslide"
    },
    "tags": [
     "subslide",
     "keep"
    ]
   },
   "outputs": [],
   "source": [
    "outer_caller_ws(ValueError)"
   ]
  },
  {
   "cell_type": "code",
   "execution_count": null,
   "id": "855f0787354ef1ae",
   "metadata": {
    "slideshow": {
     "slide_type": "subslide"
    },
    "tags": [
     "subslide",
     "keep"
    ]
   },
   "outputs": [],
   "source": [
    "# outer_caller_ws(LookupError)"
   ]
  },
  {
   "cell_type": "code",
   "execution_count": null,
   "id": "2e7a5eefb877df5a",
   "metadata": {
    "slideshow": {
     "slide_type": "subslide"
    },
    "tags": [
     "subslide",
     "keep"
    ]
   },
   "outputs": [],
   "source": [
    "# outer_caller_ws(IndexError)"
   ]
  },
  {
   "cell_type": "code",
   "execution_count": null,
   "id": "b4ce2f65a1f670be",
   "metadata": {
    "incorrectly_encoded_metadata": "tags=[\"subslide\", \"keep\"\"]",
    "lines_to_next_cell": 2
   },
   "outputs": [],
   "source": [
    "# outer_caller_ws(ArithmeticError)"
   ]
  },
  {
   "cell_type": "code",
   "execution_count": null,
   "id": "0b566c171af96c8a",
   "metadata": {
    "ValueError": null,
    "incorrectly_encoded_metadata": "tags=[\"keep\","
   },
   "outputs": [],
   "source": [
    "def outer_caller_with_try_ws(exception_type: Callable = ValueError):\n",
    "    print(\"outer_caller_ws(): before try\")\n",
    "    try:\n",
    "        print(\"outer_caller_ws(): before calling\")\n",
    "        intermediate_fun_ws(exception_type)\n",
    "        print(\"outer_caller_ws(): after calling\")\n",
    "    except Exception as error:\n",
    "        print(f\"<<< outer_caller_ws(): caught Exception [{error}]\")\n",
    "    print(\"outer_caller_ws(): after except\")"
   ]
  },
  {
   "cell_type": "code",
   "execution_count": null,
   "id": "a43b891a07c15c8f",
   "metadata": {
    "slideshow": {
     "slide_type": "subslide"
    },
    "tags": [
     "subslide",
     "keep"
    ]
   },
   "outputs": [],
   "source": [
    "outer_caller_with_try_ws(ValueError)"
   ]
  },
  {
   "cell_type": "code",
   "execution_count": null,
   "id": "2795b11aa9c2430b",
   "metadata": {
    "slideshow": {
     "slide_type": "subslide"
    },
    "tags": [
     "subslide",
     "keep"
    ]
   },
   "outputs": [],
   "source": [
    "outer_caller_with_try_ws(LookupError)"
   ]
  },
  {
   "cell_type": "code",
   "execution_count": null,
   "id": "7e1a29b37b9e934d",
   "metadata": {
    "slideshow": {
     "slide_type": "subslide"
    },
    "tags": [
     "subslide",
     "keep"
    ]
   },
   "outputs": [],
   "source": [
    "outer_caller_with_try_ws(IndexError)"
   ]
  }
 ],
 "metadata": {
  "jupytext": {
   "main_language": "python",
   "notebook_metadata_filter": "rise"
  },
  "kernelspec": {
   "display_name": "Python 3 (ipykernel)",
   "language": "python",
   "name": "python3"
  },
  "language_info": {
   "codemirror_mode": {
    "name": "ipython",
    "version": 3
   },
   "file_extension": ".py",
   "mimetype": "text/x-python",
   "name": "python",
   "nbconvert_exporter": "python",
   "pygments_lexer": "ipython3"
  },
  "rise": {
   "transition": "fade"
  }
 },
 "nbformat": 4,
 "nbformat_minor": 5
}
