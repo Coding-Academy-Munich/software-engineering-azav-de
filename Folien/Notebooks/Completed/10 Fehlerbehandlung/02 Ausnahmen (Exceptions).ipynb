{
 "cells": [
  {
   "cell_type": "markdown",
   "id": "25d116f80fdf6b69",
   "metadata": {
    "lang": "de",
    "slideshow": {
     "slide_type": "slide"
    },
    "tags": [
     "slide"
    ]
   },
   "source": [
    "\n",
    "<img src=\"data:image/svg+xml;base64,PHN2ZyB4bWxucz0iaHR0cDovL3d3dy53My5vcmcvMjAwMC9zdmciIHhtbG5zOnhsaW5rPSJodHRw\n",
    "Oi8vd3d3LnczLm9yZy8xOTk5L3hsaW5rIiB3aWR0aD0iMTExLjE2MSIgaGVpZ2h0PSIxMzQuNjY4\n",
    "IiB2ZXJzaW9uPSIxLjAiPjxkZWZzPjxsaW5lYXJHcmFkaWVudCBpZD0iYyI+PHN0b3Agb2Zmc2V0\n",
    "PSIwIiBzdHlsZT0ic3RvcC1jb2xvcjojYjhiOGI4O3N0b3Atb3BhY2l0eTouNDk4MDM5MjIiLz48\n",
    "c3RvcCBvZmZzZXQ9IjEiIHN0eWxlPSJzdG9wLWNvbG9yOiM3ZjdmN2Y7c3RvcC1vcGFjaXR5OjAi\n",
    "Lz48L2xpbmVhckdyYWRpZW50PjxsaW5lYXJHcmFkaWVudCBpZD0iYSI+PHN0b3Agb2Zmc2V0PSIw\n",
    "IiBzdHlsZT0ic3RvcC1jb2xvcjojZmZkNDNiO3N0b3Atb3BhY2l0eToxIi8+PHN0b3Agb2Zmc2V0\n",
    "PSIxIiBzdHlsZT0ic3RvcC1jb2xvcjojZmZlODczO3N0b3Atb3BhY2l0eToxIi8+PC9saW5lYXJH\n",
    "cmFkaWVudD48bGluZWFyR3JhZGllbnQgaWQ9ImIiPjxzdG9wIG9mZnNldD0iMCIgc3R5bGU9InN0\n",
    "b3AtY29sb3I6IzVhOWZkNDtzdG9wLW9wYWNpdHk6MSIvPjxzdG9wIG9mZnNldD0iMSIgc3R5bGU9\n",
    "InN0b3AtY29sb3I6IzMwNjk5ODtzdG9wLW9wYWNpdHk6MSIvPjwvbGluZWFyR3JhZGllbnQ+PGxp\n",
    "bmVhckdyYWRpZW50IHhsaW5rOmhyZWY9IiNhIiBpZD0iZSIgeDE9IjE1MC45NjEiIHgyPSIxMTIu\n",
    "MDMxIiB5MT0iMTkyLjM1MiIgeTI9IjEzNy4yNzMiIGdyYWRpZW50VHJhbnNmb3JtPSJtYXRyaXgo\n",
    "LjU2MjU0IDAgMCAuNTY3OTcgLTE0Ljk5MSAtMTEuNzAyKSIgZ3JhZGllbnRVbml0cz0idXNlclNw\n",
    "YWNlT25Vc2UiLz48bGluZWFyR3JhZGllbnQgeGxpbms6aHJlZj0iI2IiIGlkPSJkIiB4MT0iMjYu\n",
    "NjQ5IiB4Mj0iMTM1LjY2NSIgeTE9IjIwLjYwNCIgeTI9IjExNC4zOTgiIGdyYWRpZW50VHJhbnNm\n",
    "b3JtPSJtYXRyaXgoLjU2MjU0IDAgMCAuNTY3OTcgLTE0Ljk5MSAtMTEuNzAyKSIgZ3JhZGllbnRV\n",
    "bml0cz0idXNlclNwYWNlT25Vc2UiLz48cmFkaWFsR3JhZGllbnQgeGxpbms6aHJlZj0iI2MiIGlk\n",
    "PSJmIiBjeD0iNjEuNTE5IiBjeT0iMTMyLjI4NiIgcj0iMjkuMDM3IiBmeD0iNjEuNTE5IiBmeT0i\n",
    "MTMyLjI4NiIgZ3JhZGllbnRUcmFuc2Zvcm09Im1hdHJpeCgwIC0uMjM5OTUgMS4wNTQ2NyAwIC04\n",
    "My43IDE0Mi40NjIpIiBncmFkaWVudFVuaXRzPSJ1c2VyU3BhY2VPblVzZSIvPjwvZGVmcz48cGF0\n",
    "aCBkPSJNNTQuOTE5IDBjLTQuNTg0LjAyMi04Ljk2MS40MTMtMTIuODEzIDEuMDk1QzMwLjc2IDMu\n",
    "MDk5IDI4LjcgNy4yOTUgMjguNyAxNS4wMzJ2MTAuMjE5aDI2LjgxM3YzLjQwNkgxOC42MzhjLTcu\n",
    "NzkzIDAtMTQuNjE2IDQuNjg0LTE2Ljc1IDEzLjU5NC0yLjQ2MiAxMC4yMTMtMi41NzEgMTYuNTg2\n",
    "IDAgMjcuMjUgMS45MDUgNy45MzggNi40NTcgMTMuNTk0IDE0LjI1IDEzLjU5NGg5LjIxOHYtMTIu\n",
    "MjVjMC04Ljg1IDcuNjU3LTE2LjY1NyAxNi43NS0xNi42NTdoMjYuNzgyYzcuNDU0IDAgMTMuNDA2\n",
    "LTYuMTM4IDEzLjQwNi0xMy42MjV2LTI1LjUzYzAtNy4yNjctNi4xMy0xMi43MjYtMTMuNDA2LTEz\n",
    "LjkzOEM2NC4yODIuMzI4IDU5LjUwMi0uMDIgNTQuOTE4IDBtLTE0LjUgOC4yMmMyLjc3IDAgNS4w\n",
    "MzEgMi4yOTggNS4wMzEgNS4xMjUgMCAyLjgxNi0yLjI2MiA1LjA5My01LjAzMSA1LjA5My0yLjc4\n",
    "IDAtNS4wMzEtMi4yNzctNS4wMzEtNS4wOTMgMC0yLjgyNyAyLjI1MS01LjEyNSA1LjAzLTUuMTI1\n",
    "IiBzdHlsZT0iZmlsbDp1cmwoI2QpO2ZpbGwtb3BhY2l0eToxIi8+PHBhdGggZD0iTTg1LjYzOCAy\n",
    "OC42NTd2MTEuOTA2YzAgOS4yMzEtNy44MjYgMTctMTYuNzUgMTdINDIuMTA2Yy03LjMzNiAwLTEz\n",
    "LjQwNiA2LjI3OS0xMy40MDYgMTMuNjI1Vjk2LjcyYzAgNy4yNjYgNi4zMTkgMTEuNTQgMTMuNDA2\n",
    "IDEzLjYyNSA4LjQ4OCAyLjQ5NSAxNi42MjcgMi45NDYgMjYuNzgyIDAgNi43NS0xLjk1NSAxMy40\n",
    "MDYtNS44ODggMTMuNDA2LTEzLjYyNVY4Ni41SDU1LjUxM3YtMy40MDVIOTUuN2M3Ljc5MyAwIDEw\n",
    "LjY5Ni01LjQzNiAxMy40MDYtMTMuNTk0IDIuOC04LjM5OSAyLjY4LTE2LjQ3NiAwLTI3LjI1LTEu\n",
    "OTI1LTcuNzU4LTUuNjA0LTEzLjU5NC0xMy40MDYtMTMuNTk0ek03MC41NzUgOTMuMzEzYzIuNzgg\n",
    "MCA1LjAzMSAyLjI3OCA1LjAzMSA1LjA5NCAwIDIuODI3LTIuMjUxIDUuMTI1LTUuMDMxIDUuMTI1\n",
    "LTIuNzcgMC01LjAzMS0yLjI5OC01LjAzMS01LjEyNSAwLTIuODE2IDIuMjYxLTUuMDk0IDUuMDMx\n",
    "LTUuMDk0IiBzdHlsZT0iZmlsbDp1cmwoI2UpO2ZpbGwtb3BhY2l0eToxIi8+PGVsbGlwc2UgY3g9\n",
    "IjU1LjgxNyIgY3k9IjEyNy43MDEiIHJ4PSIzNS45MzEiIHJ5PSI2Ljk2NyIgc3R5bGU9Im9wYWNp\n",
    "dHk6LjQ0MzgyO2ZpbGw6dXJsKCNmKTtmaWxsLW9wYWNpdHk6MTtmaWxsLXJ1bGU6bm9uemVybztz\n",
    "dHJva2U6bm9uZTtzdHJva2Utd2lkdGg6MTUuNDE3NDtzdHJva2UtbWl0ZXJsaW1pdDo0O3N0cm9r\n",
    "ZS1kYXNoYXJyYXk6bm9uZTtzdHJva2Utb3BhY2l0eToxIi8+PC9zdmc+\n",
    "\"\n",
    "     style=\"display:block;margin:auto;width:10%\" alt=\"Python Logo\"/>\n",
    "<br>\n",
    "\n",
    "<div style=\"text-align:center; font-size:200%;\">\n",
    " <b>Ausnahmen (Exceptions)</b>\n",
    "</div>\n",
    "<br/>\n",
    "<div style=\"text-align:center;\">Dr. Matthias Hölzl</div>\n",
    "<br/>"
   ]
  },
  {
   "cell_type": "markdown",
   "id": "e463d12498469dec",
   "metadata": {
    "lang": "de",
    "slideshow": {
     "slide_type": "slide"
    },
    "tags": [
     "slide"
    ]
   },
   "source": [
    "\n",
    "## Ausnahmen (Exceptions)\n",
    "\n",
    "- Das Auslösen einer Ausnahme unterbricht die Ausführung des Programms\n",
    "- Es wird die Kette von Funktionsaufrufen so weit abgebrochen, bis eine\n",
    "  Behandlung der Ausnahme erfolgt"
   ]
  },
  {
   "cell_type": "code",
   "execution_count": null,
   "id": "e87d310eea396aa9",
   "metadata": {},
   "outputs": [],
   "source": [
    "def int_sqrt(n: int) -> int:\n",
    "    for m in range(n + 1):\n",
    "        if m * m == n:\n",
    "            return m\n",
    "    raise ValueError(f\"{n} is not a square number.\")"
   ]
  },
  {
   "cell_type": "code",
   "execution_count": null,
   "id": "224f1ab6d4ac3611",
   "metadata": {
    "lines_to_next_cell": 2,
    "slideshow": {
     "slide_type": "subslide"
    },
    "tags": [
     "subslide"
    ]
   },
   "outputs": [],
   "source": [
    "int_sqrt(9)"
   ]
  },
  {
   "cell_type": "code",
   "execution_count": null,
   "id": "f4a1ffcc493ae442",
   "metadata": {},
   "outputs": [],
   "source": [
    "# int_sqrt(8)"
   ]
  },
  {
   "cell_type": "markdown",
   "id": "7ec589514f600e6f",
   "metadata": {
    "lang": "de",
    "slideshow": {
     "slide_type": "subslide"
    },
    "tags": [
     "subslide"
    ]
   },
   "source": [
    "\n",
    "- Nicht behandelte Ausnahmen brechen die Programmausführung ab:"
   ]
  },
  {
   "cell_type": "code",
   "execution_count": null,
   "id": "089191f14e4f3ff3",
   "metadata": {},
   "outputs": [],
   "source": [
    "def print_int_sqrt(n):\n",
    "    root = int_sqrt(n)\n",
    "    print(f\"The root of {n} is {root}.\")"
   ]
  },
  {
   "cell_type": "code",
   "execution_count": null,
   "id": "658dec7f06e7f0da",
   "metadata": {},
   "outputs": [],
   "source": [
    "print_int_sqrt(9)"
   ]
  },
  {
   "cell_type": "code",
   "execution_count": null,
   "id": "851b2045ec12d385",
   "metadata": {},
   "outputs": [],
   "source": [
    "# print_int_sqrt(8)"
   ]
  },
  {
   "cell_type": "markdown",
   "id": "be96b8e4910802f2",
   "metadata": {
    "lang": "de",
    "slideshow": {
     "slide_type": "slide"
    },
    "tags": [
     "slide"
    ]
   },
   "source": [
    "## Fehlerklassen\n",
    "\n",
    "In Python gibt es viele vordefinierte Fehlerklassen, mit denen verschiedene\n",
    "Fehlerarten signalisiert werden können:\n",
    "- `Exception`: Basisklasse aller behandelbaren Exceptions\n",
    "- `ArithmeticError`: Basisklasse aller Fehler bei Rechenoperationen:\n",
    "  - `OverflowError`: Überlauf bei einer Rechenoperation\n",
    "  - `ZeroDivisionError`: Division durch 0\n",
    "- `LookupError`: Basisklasse wenn ein ungültiger Index/Key für eine Datenstruktur\n",
    "  verwendet wurde\n",
    "  - `IndexError`: Index außerhalb des gültigen Bereichs\n",
    "  - `KeyError`: Key nicht in einem Dictionary vorhanden\n",
    "- `AssertionError`: Fehlerklasse, die von `assert` verwendet wird\n",
    "- `EOFError`: Fehler wenn `input()` unerwartet das Ende einer Datei erreicht\n",
    "- ...\n",
    "\n",
    "Die Liste der in der Standardbibliothek definierten Fehlerklassen ist\n",
    "[hier](https://docs.python.org/3/library/exceptions.html)."
   ]
  },
  {
   "cell_type": "markdown",
   "id": "c0c4a3f1a0cef994",
   "metadata": {
    "lang": "de",
    "slideshow": {
     "slide_type": "slide"
    },
    "tags": [
     "slide"
    ]
   },
   "source": [
    "\n",
    "## Workshop: Bank Account\n",
    "\n",
    "Definieren Sie eine Klasse `BankAccount` mit einem Attribut `balance: float`\n",
    "und Methoden `deposit(amount: float)` und `withdraw(amount: float)`.\n",
    "\n",
    "*Hinweis: Für eine realistischere Implementierung sollte `decimal.Decimal`\n",
    "statt `float` verwendet werden.*\n",
    "\n",
    "Die Klasse soll in folgenden Fällen eine Exception vom Typ `ValueError`\n",
    "auslösen:\n",
    "\n",
    "- Wenn ein neuer `BankAccount` mit negativer `balance` angelegt werden soll.\n",
    "- Wenn `deposit` mit einem negativen Wert aufgerufen wird.\n",
    "- Wenn `withdraw` mit einem negativen Wert aufgerufen wird oder durch das\n",
    "  Abheben des Betrags die `balance` des Kontos negativ werden würde."
   ]
  },
  {
   "cell_type": "code",
   "execution_count": null,
   "id": "3f5203df18900b5a",
   "metadata": {
    "slideshow": {
     "slide_type": "subslide"
    },
    "tags": [
     "subslide"
    ]
   },
   "outputs": [],
   "source": [
    "from dataclasses import dataclass"
   ]
  },
  {
   "cell_type": "code",
   "execution_count": null,
   "id": "af29934b855536e7",
   "metadata": {},
   "outputs": [],
   "source": [
    "@dataclass\n",
    "class BankAccount:\n",
    "    balance: float\n",
    "\n",
    "    def __post_init__(self):\n",
    "        if self.balance < 0:\n",
    "            raise ValueError(\n",
    "                f\"Cannot create an account with negative balance: {self.balance}.\"\n",
    "            )\n",
    "\n",
    "    def deposit(self, amount: float):\n",
    "        if amount > 0:\n",
    "            self.balance += amount\n",
    "        else:\n",
    "            raise ValueError(f\"Cannot deposit a negative amount: {amount}\")\n",
    "\n",
    "    def withdraw(self, amount: float):\n",
    "        if amount <= 0:\n",
    "            raise ValueError(f\"Cannot withdraw a negative amount: {amount}\")\n",
    "        if amount > self.balance:\n",
    "            raise ValueError(\n",
    "                f\"Cannot withdraw {amount} because it exceeds \"\n",
    "                f\"the current balance of {self.balance}.\"\n",
    "            )\n",
    "        self.balance -= amount"
   ]
  },
  {
   "cell_type": "markdown",
   "id": "87407c388dbc72c2",
   "metadata": {
    "lang": "de"
   },
   "source": [
    "\n",
    "Testen Sie die Funktionalität der Klasse sowohl für erfolgreiche\n",
    "Transaktionen, als auch für Transaktionen, die Exceptions auslösen."
   ]
  },
  {
   "cell_type": "code",
   "execution_count": null,
   "id": "40d290ed3b8605b8",
   "metadata": {},
   "outputs": [],
   "source": [
    "BankAccount(100.0)"
   ]
  },
  {
   "cell_type": "code",
   "execution_count": null,
   "id": "767395a1911aeebc",
   "metadata": {},
   "outputs": [],
   "source": [
    "# BankAccount(-100)"
   ]
  },
  {
   "cell_type": "code",
   "execution_count": null,
   "id": "daf85eb3575e1a00",
   "metadata": {},
   "outputs": [],
   "source": [
    "b = BankAccount(100.0)\n",
    "b"
   ]
  },
  {
   "cell_type": "code",
   "execution_count": null,
   "id": "9a4be5664e433c3b",
   "metadata": {},
   "outputs": [],
   "source": [
    "b.deposit(200.0)\n",
    "b"
   ]
  },
  {
   "cell_type": "code",
   "execution_count": null,
   "id": "3f8cd96cf9d23baa",
   "metadata": {},
   "outputs": [],
   "source": [
    "# b.deposit(-100.0)"
   ]
  },
  {
   "cell_type": "code",
   "execution_count": null,
   "id": "bcca290bdf5f09e5",
   "metadata": {},
   "outputs": [],
   "source": [
    "b.withdraw(50.0)\n",
    "b"
   ]
  },
  {
   "cell_type": "code",
   "execution_count": null,
   "id": "e7aae173f3537947",
   "metadata": {},
   "outputs": [],
   "source": [
    "# b.withdraw(-200.0)"
   ]
  },
  {
   "cell_type": "code",
   "execution_count": null,
   "id": "2fae573d83613c94",
   "metadata": {
    "lines_to_next_cell": 2
   },
   "outputs": [],
   "source": [
    "# b.withdraw(1000.0)"
   ]
  },
  {
   "cell_type": "markdown",
   "id": "98b21d3bcf77eb16",
   "metadata": {
    "lang": "de",
    "tags": [
     "alt"
    ]
   },
   "source": [
    "## Lösung ohne Dataclasses:"
   ]
  },
  {
   "cell_type": "code",
   "execution_count": null,
   "id": "85652ebdc6d33f6d",
   "metadata": {
    "tags": [
     "alt"
    ]
   },
   "outputs": [],
   "source": [
    "class BankAccount:\n",
    "    def __init__(self, balance):\n",
    "        if balance < 0:\n",
    "            raise ValueError(\n",
    "                f\"Cannot create an account with negative balance: {balance}.\"\n",
    "            )\n",
    "        self.balance = balance\n",
    "\n",
    "    def __repr__(self):\n",
    "        return f\"BankAccount({self.balance:.2f})\"\n",
    "\n",
    "    def deposit(self, amount: float):\n",
    "        if amount > 0:\n",
    "            self.balance += amount\n",
    "        else:\n",
    "            raise ValueError(f\"Cannot deposit a negative amount: {amount}\")\n",
    "\n",
    "    def withdraw(self, amount: float):\n",
    "        if amount <= 0:\n",
    "            raise ValueError(f\"Cannot withdraw a negative amount: {amount}\")\n",
    "        if amount > self.balance:\n",
    "            raise ValueError(\n",
    "                f\"Cannot withdraw {amount} because it exceeds \"\n",
    "                f\"the current balance of {self.balance}.\"\n",
    "            )\n",
    "        self.balance -= amount"
   ]
  },
  {
   "cell_type": "code",
   "execution_count": null,
   "id": "638e5a923bfec9f5",
   "metadata": {
    "tags": [
     "alt"
    ]
   },
   "outputs": [],
   "source": [
    "BankAccount(100.0)"
   ]
  },
  {
   "cell_type": "code",
   "execution_count": null,
   "id": "2818d6059bb3983c",
   "metadata": {
    "tags": [
     "alt"
    ]
   },
   "outputs": [],
   "source": [
    "# BankAccount(-100)"
   ]
  },
  {
   "cell_type": "code",
   "execution_count": null,
   "id": "f22a5a9ee8231366",
   "metadata": {
    "tags": [
     "alt"
    ]
   },
   "outputs": [],
   "source": [
    "b = BankAccount(100.0)\n",
    "b"
   ]
  },
  {
   "cell_type": "code",
   "execution_count": null,
   "id": "0b18a47f10a570e7",
   "metadata": {
    "tags": [
     "alt"
    ]
   },
   "outputs": [],
   "source": [
    "b.deposit(200.0)\n",
    "b"
   ]
  },
  {
   "cell_type": "code",
   "execution_count": null,
   "id": "3b87a6c455f73a6f",
   "metadata": {
    "tags": [
     "alt"
    ]
   },
   "outputs": [],
   "source": [
    "# b.deposit(-100.0)"
   ]
  },
  {
   "cell_type": "code",
   "execution_count": null,
   "id": "4d7cf52e6df04312",
   "metadata": {
    "tags": [
     "alt"
    ]
   },
   "outputs": [],
   "source": [
    "b.withdraw(50.0)\n",
    "b"
   ]
  },
  {
   "cell_type": "code",
   "execution_count": null,
   "id": "f22a270c6595a1c9",
   "metadata": {
    "tags": [
     "alt"
    ]
   },
   "outputs": [],
   "source": [
    "# b.withdraw(-200.0)"
   ]
  },
  {
   "cell_type": "code",
   "execution_count": null,
   "id": "c400597855df8638",
   "metadata": {
    "tags": [
     "alt"
    ]
   },
   "outputs": [],
   "source": [
    "# b.withdraw(1000.0)"
   ]
  }
 ],
 "metadata": {
  "jupytext": {
   "cell_metadata_filter": "lang,tags,-all",
   "main_language": "python",
   "notebook_metadata_filter": "-all"
  },
  "kernelspec": {
   "display_name": "Python 3 (ipykernel)",
   "language": "python",
   "name": "python3"
  },
  "language_info": {
   "codemirror_mode": {
    "name": "ipython",
    "version": 3
   },
   "file_extension": ".py",
   "mimetype": "text/x-python",
   "name": "python",
   "nbconvert_exporter": "python",
   "pygments_lexer": "ipython3"
  }
 },
 "nbformat": 4,
 "nbformat_minor": 5
}
