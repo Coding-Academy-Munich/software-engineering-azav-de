{
 "cells": [
  {
   "cell_type": "markdown",
   "id": "cbaef700ecc391a9",
   "metadata": {
    "lang": "de",
    "slideshow": {
     "slide_type": "slide"
    },
    "tags": [
     "slide"
    ]
   },
   "source": [
    "\n",
    "<img src=\"data:image/svg+xml;base64,PHN2ZyB4bWxucz0iaHR0cDovL3d3dy53My5vcmcvMjAwMC9zdmciIHhtbG5zOnhsaW5rPSJodHRw\n",
    "Oi8vd3d3LnczLm9yZy8xOTk5L3hsaW5rIiB3aWR0aD0iMTExLjE2MSIgaGVpZ2h0PSIxMzQuNjY4\n",
    "IiB2ZXJzaW9uPSIxLjAiPjxkZWZzPjxsaW5lYXJHcmFkaWVudCBpZD0iYyI+PHN0b3Agb2Zmc2V0\n",
    "PSIwIiBzdHlsZT0ic3RvcC1jb2xvcjojYjhiOGI4O3N0b3Atb3BhY2l0eTouNDk4MDM5MjIiLz48\n",
    "c3RvcCBvZmZzZXQ9IjEiIHN0eWxlPSJzdG9wLWNvbG9yOiM3ZjdmN2Y7c3RvcC1vcGFjaXR5OjAi\n",
    "Lz48L2xpbmVhckdyYWRpZW50PjxsaW5lYXJHcmFkaWVudCBpZD0iYSI+PHN0b3Agb2Zmc2V0PSIw\n",
    "IiBzdHlsZT0ic3RvcC1jb2xvcjojZmZkNDNiO3N0b3Atb3BhY2l0eToxIi8+PHN0b3Agb2Zmc2V0\n",
    "PSIxIiBzdHlsZT0ic3RvcC1jb2xvcjojZmZlODczO3N0b3Atb3BhY2l0eToxIi8+PC9saW5lYXJH\n",
    "cmFkaWVudD48bGluZWFyR3JhZGllbnQgaWQ9ImIiPjxzdG9wIG9mZnNldD0iMCIgc3R5bGU9InN0\n",
    "b3AtY29sb3I6IzVhOWZkNDtzdG9wLW9wYWNpdHk6MSIvPjxzdG9wIG9mZnNldD0iMSIgc3R5bGU9\n",
    "InN0b3AtY29sb3I6IzMwNjk5ODtzdG9wLW9wYWNpdHk6MSIvPjwvbGluZWFyR3JhZGllbnQ+PGxp\n",
    "bmVhckdyYWRpZW50IHhsaW5rOmhyZWY9IiNhIiBpZD0iZSIgeDE9IjE1MC45NjEiIHgyPSIxMTIu\n",
    "MDMxIiB5MT0iMTkyLjM1MiIgeTI9IjEzNy4yNzMiIGdyYWRpZW50VHJhbnNmb3JtPSJtYXRyaXgo\n",
    "LjU2MjU0IDAgMCAuNTY3OTcgLTE0Ljk5MSAtMTEuNzAyKSIgZ3JhZGllbnRVbml0cz0idXNlclNw\n",
    "YWNlT25Vc2UiLz48bGluZWFyR3JhZGllbnQgeGxpbms6aHJlZj0iI2IiIGlkPSJkIiB4MT0iMjYu\n",
    "NjQ5IiB4Mj0iMTM1LjY2NSIgeTE9IjIwLjYwNCIgeTI9IjExNC4zOTgiIGdyYWRpZW50VHJhbnNm\n",
    "b3JtPSJtYXRyaXgoLjU2MjU0IDAgMCAuNTY3OTcgLTE0Ljk5MSAtMTEuNzAyKSIgZ3JhZGllbnRV\n",
    "bml0cz0idXNlclNwYWNlT25Vc2UiLz48cmFkaWFsR3JhZGllbnQgeGxpbms6aHJlZj0iI2MiIGlk\n",
    "PSJmIiBjeD0iNjEuNTE5IiBjeT0iMTMyLjI4NiIgcj0iMjkuMDM3IiBmeD0iNjEuNTE5IiBmeT0i\n",
    "MTMyLjI4NiIgZ3JhZGllbnRUcmFuc2Zvcm09Im1hdHJpeCgwIC0uMjM5OTUgMS4wNTQ2NyAwIC04\n",
    "My43IDE0Mi40NjIpIiBncmFkaWVudFVuaXRzPSJ1c2VyU3BhY2VPblVzZSIvPjwvZGVmcz48cGF0\n",
    "aCBkPSJNNTQuOTE5IDBjLTQuNTg0LjAyMi04Ljk2MS40MTMtMTIuODEzIDEuMDk1QzMwLjc2IDMu\n",
    "MDk5IDI4LjcgNy4yOTUgMjguNyAxNS4wMzJ2MTAuMjE5aDI2LjgxM3YzLjQwNkgxOC42MzhjLTcu\n",
    "NzkzIDAtMTQuNjE2IDQuNjg0LTE2Ljc1IDEzLjU5NC0yLjQ2MiAxMC4yMTMtMi41NzEgMTYuNTg2\n",
    "IDAgMjcuMjUgMS45MDUgNy45MzggNi40NTcgMTMuNTk0IDE0LjI1IDEzLjU5NGg5LjIxOHYtMTIu\n",
    "MjVjMC04Ljg1IDcuNjU3LTE2LjY1NyAxNi43NS0xNi42NTdoMjYuNzgyYzcuNDU0IDAgMTMuNDA2\n",
    "LTYuMTM4IDEzLjQwNi0xMy42MjV2LTI1LjUzYzAtNy4yNjctNi4xMy0xMi43MjYtMTMuNDA2LTEz\n",
    "LjkzOEM2NC4yODIuMzI4IDU5LjUwMi0uMDIgNTQuOTE4IDBtLTE0LjUgOC4yMmMyLjc3IDAgNS4w\n",
    "MzEgMi4yOTggNS4wMzEgNS4xMjUgMCAyLjgxNi0yLjI2MiA1LjA5My01LjAzMSA1LjA5My0yLjc4\n",
    "IDAtNS4wMzEtMi4yNzctNS4wMzEtNS4wOTMgMC0yLjgyNyAyLjI1MS01LjEyNSA1LjAzLTUuMTI1\n",
    "IiBzdHlsZT0iZmlsbDp1cmwoI2QpO2ZpbGwtb3BhY2l0eToxIi8+PHBhdGggZD0iTTg1LjYzOCAy\n",
    "OC42NTd2MTEuOTA2YzAgOS4yMzEtNy44MjYgMTctMTYuNzUgMTdINDIuMTA2Yy03LjMzNiAwLTEz\n",
    "LjQwNiA2LjI3OS0xMy40MDYgMTMuNjI1Vjk2LjcyYzAgNy4yNjYgNi4zMTkgMTEuNTQgMTMuNDA2\n",
    "IDEzLjYyNSA4LjQ4OCAyLjQ5NSAxNi42MjcgMi45NDYgMjYuNzgyIDAgNi43NS0xLjk1NSAxMy40\n",
    "MDYtNS44ODggMTMuNDA2LTEzLjYyNVY4Ni41SDU1LjUxM3YtMy40MDVIOTUuN2M3Ljc5MyAwIDEw\n",
    "LjY5Ni01LjQzNiAxMy40MDYtMTMuNTk0IDIuOC04LjM5OSAyLjY4LTE2LjQ3NiAwLTI3LjI1LTEu\n",
    "OTI1LTcuNzU4LTUuNjA0LTEzLjU5NC0xMy40MDYtMTMuNTk0ek03MC41NzUgOTMuMzEzYzIuNzgg\n",
    "MCA1LjAzMSAyLjI3OCA1LjAzMSA1LjA5NCAwIDIuODI3LTIuMjUxIDUuMTI1LTUuMDMxIDUuMTI1\n",
    "LTIuNzcgMC01LjAzMS0yLjI5OC01LjAzMS01LjEyNSAwLTIuODE2IDIuMjYxLTUuMDk0IDUuMDMx\n",
    "LTUuMDk0IiBzdHlsZT0iZmlsbDp1cmwoI2UpO2ZpbGwtb3BhY2l0eToxIi8+PGVsbGlwc2UgY3g9\n",
    "IjU1LjgxNyIgY3k9IjEyNy43MDEiIHJ4PSIzNS45MzEiIHJ5PSI2Ljk2NyIgc3R5bGU9Im9wYWNp\n",
    "dHk6LjQ0MzgyO2ZpbGw6dXJsKCNmKTtmaWxsLW9wYWNpdHk6MTtmaWxsLXJ1bGU6bm9uemVybztz\n",
    "dHJva2U6bm9uZTtzdHJva2Utd2lkdGg6MTUuNDE3NDtzdHJva2UtbWl0ZXJsaW1pdDo0O3N0cm9r\n",
    "ZS1kYXNoYXJyYXk6bm9uZTtzdHJva2Utb3BhY2l0eToxIi8+PC9zdmc+\n",
    "\"\n",
    "     style=\"display:block;margin:auto;width:10%\" alt=\"Python Logo\"/>\n",
    "<br>\n",
    "\n",
    "<div style=\"text-align:center; font-size:200%;\">\n",
    " <b>Git Branching (Teil 2)</b>\n",
    "</div>\n",
    "<br/>\n",
    "<div style=\"text-align:center;\">Dr. Matthias Hölzl</div>\n",
    "<br/>"
   ]
  },
  {
   "cell_type": "markdown",
   "id": "973f5ed90b1ce6aa",
   "metadata": {
    "lang": "de",
    "slideshow": {
     "slide_type": "slide"
    },
    "tags": [
     "slide"
    ]
   },
   "source": [
    "\n",
    "## Divergierende Branches\n",
    "\n",
    "- Branches entwickeln sich unabhängig voneinander\n",
    "- Gleiche Dateien können unterschiedlich geändert werden\n",
    "- Jeder Branch hat seine eigene Commit-Historie\n",
    "\n",
    "<img src=\"img/basic-branching-05.png\" style=\"width:50%;margin:auto\"></img>"
   ]
  },
  {
   "cell_type": "markdown",
   "id": "cb688719ffd1f591",
   "metadata": {
    "lang": "de",
    "slideshow": {
     "slide_type": "slide"
    },
    "tags": [
     "slide"
    ]
   },
   "source": [
    "\n",
    "## Praktisches Beispiel: Divergierende Branches\n",
    "\n",
    "```powershell\n",
    "# Branches anzeigen (GitExample Repository)\n",
    "git log --oneline --decorate --graph --all\n",
    "```"
   ]
  },
  {
   "cell_type": "markdown",
   "id": "ac9ec13758c9aa7b",
   "metadata": {
    "lang": "de",
    "slideshow": {
     "slide_type": "slide"
    },
    "tags": [
     "slide"
    ]
   },
   "source": [
    "\n",
    "## Branches zusammenführen mit Merge\n",
    "\n",
    "- Divergierende Branches\n",
    "\n",
    "<img src=\"img/basic-merging-01.png\" style=\"width:80%;margin:auto\"></img>"
   ]
  },
  {
   "cell_type": "markdown",
   "id": "0e44955b988a7652",
   "metadata": {
    "lang": "de",
    "slideshow": {
     "slide_type": "slide"
    },
    "tags": [
     "slide"
    ]
   },
   "source": [
    "\n",
    "- Mergen des `feature`-Branches in den `master`-Branch\n",
    "- Keine Konflikte, da `master` ein direkter Vorfahre von `feature` ist\n",
    "- Ein Fast-Forward-Merge wird durchgeführt\n",
    "\n",
    "<img src=\"img/basic-merging-02.png\" style=\"width:80%;margin:auto\"></img>"
   ]
  },
  {
   "cell_type": "markdown",
   "id": "5a9368433203996a",
   "metadata": {
    "lang": "de",
    "slideshow": {
     "slide_type": "slide"
    },
    "tags": [
     "slide"
    ]
   },
   "source": [
    "\n",
    "- Mergen des `hotfix`-Branches in den `master`-Branch\n",
    "- `master` ist kein direkter Vorfahre von `hotfix`\n",
    "- Ein Drei-Wege-Merge wird durchgeführt\n",
    "- Ein neuer Merge-Commit wird erzeugt\n",
    "\n",
    "<img src=\"img/basic-merging-03.png\" style=\"width:80%;margin:auto\"></img>"
   ]
  },
  {
   "cell_type": "markdown",
   "id": "6c19ee28c9db6bcd",
   "metadata": {
    "lang": "de",
    "slideshow": {
     "slide_type": "slide"
    },
    "tags": [
     "slide"
    ]
   },
   "source": [
    "\n",
    "## Branches zusammenführen mit Merge\n",
    "\n",
    "```powershell\n",
    "# Zum Ziel-Branch wechseln (wohin soll gemergt werden)\n",
    "git switch master\n",
    "```\n",
    "```powershell\n",
    "# Merge durchführen\n",
    "git merge feature\n",
    "```\n",
    "```powershell\n",
    "# Bei einem Fast-Forward-Merge\n",
    "git merge feature  # Verschiebt einfach den Branch-Pointer\n",
    "```\n",
    "```powershell\n",
    "# Drei-Wege-Merge erzeugt einen Merge-Commit\n",
    "git merge hotfix  # Wenn es Divergenzen gibt\n",
    "```"
   ]
  },
  {
   "cell_type": "markdown",
   "id": "0de72dbbccf59141",
   "metadata": {
    "lang": "de",
    "slideshow": {
     "slide_type": "slide"
    },
    "tags": [
     "slide"
    ]
   },
   "source": [
    "\n",
    "## Merge-Konflikte lösen\n",
    "\n",
    "```powershell\n",
    "# Wenn Git einen Konflikt meldet:\n",
    "git status  # Zeigt Dateien mit Konflikten\n",
    "```\n",
    "```powershell\n",
    "# Öffne die Dateien mit Konflikten im Editor\n",
    "# Datei enthält Markierungen:\n",
    "# <<<<<<< HEAD\n",
    "# Deine Änderungen\n",
    "# =======\n",
    "# Andere Änderungen\n",
    "# >>>>>>> feature\n",
    "```"
   ]
  },
  {
   "cell_type": "markdown",
   "id": "5d3869ba37e9cb28",
   "metadata": {
    "lang": "de",
    "slideshow": {
     "slide_type": "slide"
    },
    "tags": [
     "slide"
    ]
   },
   "source": [
    "\n",
    "```powershell\n",
    "# Nach der Bearbeitung:\n",
    "git add <konfliktdatei>  # Konfliktlösung markieren\n",
    "git merge --continue     # Merge fortsetzen\n",
    "# ODER\n",
    "git commit -m \"Löse Merge-Konflikt\"\n",
    "```\n",
    "```powershell\n",
    "# Merge abbrechen\n",
    "git merge --abort\n",
    "```"
   ]
  },
  {
   "cell_type": "markdown",
   "id": "cea248d336bce75f",
   "metadata": {
    "lang": "de",
    "slideshow": {
     "slide_type": "slide"
    },
    "tags": [
     "slide"
    ]
   },
   "source": [
    "\n",
    "## Praktisches Beispiel: Merge-Konflikt erzeugen und lösen\n",
    "\n",
    "```powershell\n",
    "# Wechsle in den master Branch\n",
    "git switch master\n",
    "# Ändere main/app.js\n",
    "# ...\n",
    "# Committe die Änderungen im master Branch\n",
    "git commit -m \"Ändere main/app.js in master\"\n",
    "```\n",
    "```powershell\n",
    "git switch feature\n",
    "# Erzeuge einen Konflikt durch Ändern derselben Stelle in main/app.js\n",
    "# ...\n",
    "git commit -m \"Ändere main/app.js in feature\"\n",
    "```\n",
    "```powershell\n",
    "# Versuche zu mergen (erzeugt Konflikt)\n",
    "git switch master\n",
    "git merge feature\n",
    "```"
   ]
  },
  {
   "cell_type": "markdown",
   "id": "7f1739c1d7f20ff7",
   "metadata": {
    "lang": "de",
    "slideshow": {
     "slide_type": "slide"
    },
    "tags": [
     "slide"
    ]
   },
   "source": [
    "\n",
    "```powershell\n",
    "# Löse den Konflikt\n",
    "# 1. Öffne die Datei mit einem Editor\n",
    "# 2. Bearbeite die Konfliktmarkierungen\n",
    "# 3. Speichere die Datei\n",
    "git add main/app.js\n",
    "git commit -m \"Löse Merge-Konflikt in main/app.js\"\n",
    "```"
   ]
  },
  {
   "cell_type": "markdown",
   "id": "4dcd1cdfd549d10b",
   "metadata": {
    "lang": "de",
    "lines_to_next_cell": 2,
    "slideshow": {
     "slide_type": "subslide"
    },
    "tags": [
     "subslide"
    ]
   },
   "source": [
    "\n",
    "## Workshop: Merge-Konflikte\n",
    "\n",
    "- Wechseln Sie in das Git-Repository, das Sie im letzten Workshop angelegt\n",
    "  haben. (Oder erzeugen Sie ein neues Repository)\n",
    "- Erstellen Sie einen neuen Branch `feature` und ändern Sie eine Datei.\n",
    "- Wechseln Sie zurück zum `master`-Branch und ändern Sie dieselbe Datei.\n",
    "- Versuchen Sie, den `feature`-Branch in den `master`-Branch zu mergen.\n",
    "- Funktioniert der Merge? Falls nicht, lösen Sie den Konflikt.\n",
    "- Experimentieren Sie mit verschiedenen Änderungen um zu sehen, welche\n",
    "  Änderungen Konflikte verursachen.\n",
    "- Versuchen Sie die entstandenen Konflikte zu lösen."
   ]
  }
 ],
 "metadata": {
  "jupytext": {
   "cell_metadata_filter": "lang,tags,-all",
   "main_language": "python",
   "notebook_metadata_filter": "-all"
  },
  "kernelspec": {
   "display_name": "Python 3 (ipykernel)",
   "language": "python",
   "name": "python3"
  },
  "language_info": {
   "codemirror_mode": {
    "name": "ipython",
    "version": 3
   },
   "file_extension": ".py",
   "mimetype": "text/x-python",
   "name": "python",
   "nbconvert_exporter": "python",
   "pygments_lexer": "ipython3"
  }
 },
 "nbformat": 4,
 "nbformat_minor": 5
}
