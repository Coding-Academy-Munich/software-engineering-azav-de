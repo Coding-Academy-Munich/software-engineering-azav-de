{
 "cells": [
  {
   "cell_type": "markdown",
   "id": "99538250e85f2b8f",
   "metadata": {
    "lang": "de",
    "slideshow": {
     "slide_type": "slide"
    },
    "tags": [
     "slide"
    ]
   },
   "source": [
    "\n",
    "<img src=\"data:image/svg+xml;base64,PHN2ZyB4bWxucz0iaHR0cDovL3d3dy53My5vcmcvMjAwMC9zdmciIHhtbG5zOnhsaW5rPSJodHRw\n",
    "Oi8vd3d3LnczLm9yZy8xOTk5L3hsaW5rIiB3aWR0aD0iMTExLjE2MSIgaGVpZ2h0PSIxMzQuNjY4\n",
    "IiB2ZXJzaW9uPSIxLjAiPjxkZWZzPjxsaW5lYXJHcmFkaWVudCBpZD0iYyI+PHN0b3Agb2Zmc2V0\n",
    "PSIwIiBzdHlsZT0ic3RvcC1jb2xvcjojYjhiOGI4O3N0b3Atb3BhY2l0eTouNDk4MDM5MjIiLz48\n",
    "c3RvcCBvZmZzZXQ9IjEiIHN0eWxlPSJzdG9wLWNvbG9yOiM3ZjdmN2Y7c3RvcC1vcGFjaXR5OjAi\n",
    "Lz48L2xpbmVhckdyYWRpZW50PjxsaW5lYXJHcmFkaWVudCBpZD0iYSI+PHN0b3Agb2Zmc2V0PSIw\n",
    "IiBzdHlsZT0ic3RvcC1jb2xvcjojZmZkNDNiO3N0b3Atb3BhY2l0eToxIi8+PHN0b3Agb2Zmc2V0\n",
    "PSIxIiBzdHlsZT0ic3RvcC1jb2xvcjojZmZlODczO3N0b3Atb3BhY2l0eToxIi8+PC9saW5lYXJH\n",
    "cmFkaWVudD48bGluZWFyR3JhZGllbnQgaWQ9ImIiPjxzdG9wIG9mZnNldD0iMCIgc3R5bGU9InN0\n",
    "b3AtY29sb3I6IzVhOWZkNDtzdG9wLW9wYWNpdHk6MSIvPjxzdG9wIG9mZnNldD0iMSIgc3R5bGU9\n",
    "InN0b3AtY29sb3I6IzMwNjk5ODtzdG9wLW9wYWNpdHk6MSIvPjwvbGluZWFyR3JhZGllbnQ+PGxp\n",
    "bmVhckdyYWRpZW50IHhsaW5rOmhyZWY9IiNhIiBpZD0iZSIgeDE9IjE1MC45NjEiIHgyPSIxMTIu\n",
    "MDMxIiB5MT0iMTkyLjM1MiIgeTI9IjEzNy4yNzMiIGdyYWRpZW50VHJhbnNmb3JtPSJtYXRyaXgo\n",
    "LjU2MjU0IDAgMCAuNTY3OTcgLTE0Ljk5MSAtMTEuNzAyKSIgZ3JhZGllbnRVbml0cz0idXNlclNw\n",
    "YWNlT25Vc2UiLz48bGluZWFyR3JhZGllbnQgeGxpbms6aHJlZj0iI2IiIGlkPSJkIiB4MT0iMjYu\n",
    "NjQ5IiB4Mj0iMTM1LjY2NSIgeTE9IjIwLjYwNCIgeTI9IjExNC4zOTgiIGdyYWRpZW50VHJhbnNm\n",
    "b3JtPSJtYXRyaXgoLjU2MjU0IDAgMCAuNTY3OTcgLTE0Ljk5MSAtMTEuNzAyKSIgZ3JhZGllbnRV\n",
    "bml0cz0idXNlclNwYWNlT25Vc2UiLz48cmFkaWFsR3JhZGllbnQgeGxpbms6aHJlZj0iI2MiIGlk\n",
    "PSJmIiBjeD0iNjEuNTE5IiBjeT0iMTMyLjI4NiIgcj0iMjkuMDM3IiBmeD0iNjEuNTE5IiBmeT0i\n",
    "MTMyLjI4NiIgZ3JhZGllbnRUcmFuc2Zvcm09Im1hdHJpeCgwIC0uMjM5OTUgMS4wNTQ2NyAwIC04\n",
    "My43IDE0Mi40NjIpIiBncmFkaWVudFVuaXRzPSJ1c2VyU3BhY2VPblVzZSIvPjwvZGVmcz48cGF0\n",
    "aCBkPSJNNTQuOTE5IDBjLTQuNTg0LjAyMi04Ljk2MS40MTMtMTIuODEzIDEuMDk1QzMwLjc2IDMu\n",
    "MDk5IDI4LjcgNy4yOTUgMjguNyAxNS4wMzJ2MTAuMjE5aDI2LjgxM3YzLjQwNkgxOC42MzhjLTcu\n",
    "NzkzIDAtMTQuNjE2IDQuNjg0LTE2Ljc1IDEzLjU5NC0yLjQ2MiAxMC4yMTMtMi41NzEgMTYuNTg2\n",
    "IDAgMjcuMjUgMS45MDUgNy45MzggNi40NTcgMTMuNTk0IDE0LjI1IDEzLjU5NGg5LjIxOHYtMTIu\n",
    "MjVjMC04Ljg1IDcuNjU3LTE2LjY1NyAxNi43NS0xNi42NTdoMjYuNzgyYzcuNDU0IDAgMTMuNDA2\n",
    "LTYuMTM4IDEzLjQwNi0xMy42MjV2LTI1LjUzYzAtNy4yNjctNi4xMy0xMi43MjYtMTMuNDA2LTEz\n",
    "LjkzOEM2NC4yODIuMzI4IDU5LjUwMi0uMDIgNTQuOTE4IDBtLTE0LjUgOC4yMmMyLjc3IDAgNS4w\n",
    "MzEgMi4yOTggNS4wMzEgNS4xMjUgMCAyLjgxNi0yLjI2MiA1LjA5My01LjAzMSA1LjA5My0yLjc4\n",
    "IDAtNS4wMzEtMi4yNzctNS4wMzEtNS4wOTMgMC0yLjgyNyAyLjI1MS01LjEyNSA1LjAzLTUuMTI1\n",
    "IiBzdHlsZT0iZmlsbDp1cmwoI2QpO2ZpbGwtb3BhY2l0eToxIi8+PHBhdGggZD0iTTg1LjYzOCAy\n",
    "OC42NTd2MTEuOTA2YzAgOS4yMzEtNy44MjYgMTctMTYuNzUgMTdINDIuMTA2Yy03LjMzNiAwLTEz\n",
    "LjQwNiA2LjI3OS0xMy40MDYgMTMuNjI1Vjk2LjcyYzAgNy4yNjYgNi4zMTkgMTEuNTQgMTMuNDA2\n",
    "IDEzLjYyNSA4LjQ4OCAyLjQ5NSAxNi42MjcgMi45NDYgMjYuNzgyIDAgNi43NS0xLjk1NSAxMy40\n",
    "MDYtNS44ODggMTMuNDA2LTEzLjYyNVY4Ni41SDU1LjUxM3YtMy40MDVIOTUuN2M3Ljc5MyAwIDEw\n",
    "LjY5Ni01LjQzNiAxMy40MDYtMTMuNTk0IDIuOC04LjM5OSAyLjY4LTE2LjQ3NiAwLTI3LjI1LTEu\n",
    "OTI1LTcuNzU4LTUuNjA0LTEzLjU5NC0xMy40MDYtMTMuNTk0ek03MC41NzUgOTMuMzEzYzIuNzgg\n",
    "MCA1LjAzMSAyLjI3OCA1LjAzMSA1LjA5NCAwIDIuODI3LTIuMjUxIDUuMTI1LTUuMDMxIDUuMTI1\n",
    "LTIuNzcgMC01LjAzMS0yLjI5OC01LjAzMS01LjEyNSAwLTIuODE2IDIuMjYxLTUuMDk0IDUuMDMx\n",
    "LTUuMDk0IiBzdHlsZT0iZmlsbDp1cmwoI2UpO2ZpbGwtb3BhY2l0eToxIi8+PGVsbGlwc2UgY3g9\n",
    "IjU1LjgxNyIgY3k9IjEyNy43MDEiIHJ4PSIzNS45MzEiIHJ5PSI2Ljk2NyIgc3R5bGU9Im9wYWNp\n",
    "dHk6LjQ0MzgyO2ZpbGw6dXJsKCNmKTtmaWxsLW9wYWNpdHk6MTtmaWxsLXJ1bGU6bm9uemVybztz\n",
    "dHJva2U6bm9uZTtzdHJva2Utd2lkdGg6MTUuNDE3NDtzdHJva2UtbWl0ZXJsaW1pdDo0O3N0cm9r\n",
    "ZS1kYXNoYXJyYXk6bm9uZTtzdHJva2Utb3BhY2l0eToxIi8+PC9zdmc+\n",
    "\"\n",
    "     style=\"display:block;margin:auto;width:10%\" alt=\"Python Logo\"/>\n",
    "<br>\n",
    "\n",
    "<div style=\"text-align:center; font-size:200%;\">\n",
    " <b>Git Best Practices</b>\n",
    "</div>\n",
    "<br/>\n",
    "<div style=\"text-align:center;\">Dr. Matthias Hölzl</div>\n",
    "<br/>"
   ]
  },
  {
   "cell_type": "markdown",
   "id": "e9c23e0fb0341d58",
   "metadata": {
    "lang": "de",
    "slideshow": {
     "slide_type": "slide"
    },
    "tags": [
     "slide"
    ]
   },
   "source": [
    "\n",
    "## Git Best Practices\n",
    "\n",
    "- Konsistente Commit-Strategien\n",
    "- Effektives Branching\n",
    "- Klare Kommunikation im Team\n",
    "- Sauberes Repository-Management\n",
    "- Sinnvolle Workflows"
   ]
  },
  {
   "cell_type": "markdown",
   "id": "eb017f2623b1d726",
   "metadata": {
    "lang": "de",
    "slideshow": {
     "slide_type": "subslide"
    },
    "tags": [
     "subslide"
    ]
   },
   "source": [
    "\n",
    "## Aussagekräftige Commit-Nachrichten\n",
    "\n",
    "- Kurze, prägnante Betreffzeile (max. 50 Zeichen)\n",
    "- Leerzeile nach Betreff\n",
    "- Detaillierte Beschreibung im Hauptteil (optional)\n",
    "- Schreiben im Imperativ: \"Fix bug\" statt \"Fixed bug\"\n",
    "- Erklären **warum** eine Änderung gemacht wurde, nicht nur was\n",
    "\n",
    "```powershell\n",
    "# Beispiel für gute Commit-Nachricht\n",
    "git commit -m \"Add user authentication feature\n",
    "\n",
    "- Implement OAuth2 login with Google\n",
    "- Create session management\n",
    "- Add remember-me functionality\n",
    "\n",
    "Closes #42\"\n",
    "```"
   ]
  },
  {
   "cell_type": "markdown",
   "id": "99f0a649b41ef6a5",
   "metadata": {
    "lang": "de",
    "slideshow": {
     "slide_type": "subslide"
    },
    "tags": [
     "subslide"
    ]
   },
   "source": [
    "\n",
    "## Atomic Commits\n",
    "\n",
    "- Ein Commit sollte eine einzelne, logische Änderung enthalten\n",
    "- Keine unzusammenhängenden Änderungen mischen\n",
    "- Erleichtert das Verständnis der Projektgeschichte\n",
    "- Macht Rollbacks und Debugging einfacher\n",
    "\n",
    "```powershell\n",
    "# Beispiel: Staging bestimmter Dateien\n",
    "git add src/auth/login.js\n",
    "git commit -m \"Fix login validation logic\"\n",
    "\n",
    "# Für verschiedene Änderungen in derselben Datei\n",
    "git add -p src/app.js  # Interaktives Staging von Teilen einer Datei\n",
    "# (Einfacher in VS Code)\n",
    "```"
   ]
  },
  {
   "cell_type": "markdown",
   "id": "cae1b9a53b54781b",
   "metadata": {
    "lang": "de",
    "slideshow": {
     "slide_type": "slide"
    },
    "tags": [
     "slide"
    ]
   },
   "source": [
    "\n",
    "## Effektives Branching\n",
    "\n",
    "- Branches für neue Features, Bugfixes und Experimente erstellen\n",
    "- Kurze Lebensdauer von Feature-Branches anstreben\n",
    "- Regelmäßig vom Hauptbranch (main/master) aktualisieren\n",
    "- Klare Branch-Namenskonventionen einhalten\n",
    "\n",
    "```powershell\n",
    "# Feature-Branch erstellen und wechseln\n",
    "git switch -c feature/user-profile\n",
    "\n",
    "# Vom main-Branch aktualisieren\n",
    "git switch feature/user-profile\n",
    "git rebase main\n",
    "```"
   ]
  },
  {
   "cell_type": "markdown",
   "id": "4ec6e4975b2d27f7",
   "metadata": {
    "lang": "de",
    "slideshow": {
     "slide_type": "subslide"
    },
    "tags": [
     "subslide"
    ]
   },
   "source": [
    "\n",
    "## Branch-Namenskonventionen\n",
    "\n",
    "Gemeinsame Präfixe für unterschiedliche Branch-Typen:\n",
    "\n",
    "- `feature/` - Neue Funktionen\n",
    "- `bugfix/` - Fehlerbehebungen\n",
    "- `hotfix/` - Dringende Produktionsprobleme\n",
    "- `release/` - Release-Vorbereitungen\n",
    "- `refactor/` - Code-Umstrukturierungen\n",
    "\n",
    "```powershell\n",
    "git switch -c feature/login-page\n",
    "git switch -c bugfix/password-reset\n",
    "git switch -c hotfix/security-vulnerability\n",
    "```"
   ]
  },
  {
   "cell_type": "markdown",
   "id": "486a082e69060c3d",
   "metadata": {
    "lang": "de",
    "slideshow": {
     "slide_type": "slide"
    },
    "tags": [
     "slide"
    ]
   },
   "source": [
    "\n",
    "## Git Workflow-Modelle\n",
    "\n",
    "- **Git Flow**: Strukturierter Workflow mit development, feature, release,\n",
    "  hotfix und master Branches\n",
    "- **GitHub Flow**: Vereinfachter Workflow mit feature Branches und Pull\n",
    "  Requests\n",
    "- **GitLab Flow**: Erweiterung von GitHub Flow mit Pre-Production/Release\n",
    "  Branches\n",
    "- **Trunk-Based Development**: Alle Entwicklungen erfolgen am Hauptbranch"
   ]
  },
  {
   "cell_type": "markdown",
   "id": "59c37f4ea029123f",
   "metadata": {
    "lang": "de",
    "slideshow": {
     "slide_type": "subslide"
    },
    "tags": [
     "subslide"
    ]
   },
   "source": [
    "\n",
    "## Pull Requests / Merge Requests\n",
    "\n",
    "- Code-Reviews vor dem Merge in den Hauptbranch\n",
    "- Qualitätssicherung durch Peer-Reviews\n",
    "- Wissensaustausch im Team\n",
    "- Automatisierte Tests und CI/CD-Integration\n",
    "\n",
    "Best Practices:\n",
    "- Kleine, fokussierte PRs erstellen\n",
    "- Klare Beschreibung der Änderungen\n",
    "- Selbst-Review vor Abgabe durchführen\n",
    "- Konstruktives Feedback geben"
   ]
  },
  {
   "cell_type": "markdown",
   "id": "02d4d3e217c6666b",
   "metadata": {
    "lang": "de",
    "slideshow": {
     "slide_type": "slide"
    },
    "tags": [
     "slide"
    ]
   },
   "source": [
    "\n",
    "## .gitignore richtig nutzen\n",
    "\n",
    "- Verhindern Sie, dass unnötige Dateien ins Repository gelangen\n",
    "- Ignorieren Sie Build-Artefakte, Abhängigkeiten und lokale Konfigurationen\n",
    "- Nutzen Sie Templates für Ihre Programmiersprache/Framework"
   ]
  },
  {
   "cell_type": "markdown",
   "id": "799d18946dc57e64",
   "metadata": {
    "lang": "de",
    "slideshow": {
     "slide_type": "slide"
    },
    "tags": [
     "slide"
    ]
   },
   "source": [
    "\n",
    "```\n",
    "# Beispiel .gitignore für Node.js Projekt\n",
    "node_modules/\n",
    ".env\n",
    "dist/\n",
    ".cache/\n",
    "*.log\n",
    ".DS_Store\n",
    "coverage/\n",
    "```\n",
    "\n",
    "Templates finden: [gitignore.io](https://www.gitignore.io/)"
   ]
  },
  {
   "cell_type": "markdown",
   "id": "cc98f1555ed688e4",
   "metadata": {
    "lang": "de",
    "slideshow": {
     "slide_type": "subslide"
    },
    "tags": [
     "subslide"
    ]
   },
   "source": [
    "\n",
    "## Konfliktlösung\n",
    "\n",
    "- Regelmäßig vom Hauptbranch aktualisieren, um Konflikte zu minimieren\n",
    "- Konflikte sofort nach dem Auftreten lösen\n",
    "- Bei komplexen Konflikten mit dem Autor der Änderungen sprechen\n",
    "\n",
    "```powershell\n",
    "# Konflikte während Merge/Rebase ansehen\n",
    "git status\n",
    "\n",
    "# Nach dem Bearbeiten der Konfliktdateien\n",
    "git add <konfliktdatei>\n",
    "git rebase --continue  # (oder git merge --continue)\n",
    "```"
   ]
  },
  {
   "cell_type": "markdown",
   "id": "92475f77aa8058cc",
   "metadata": {
    "lang": "de",
    "slideshow": {
     "slide_type": "slide"
    },
    "tags": [
     "slide"
    ]
   },
   "source": [
    "\n",
    "## Sicherheit und Datenschutz\n",
    "\n",
    "- Niemals sensible Daten ins Repository einchecken\n",
    "  - Passwörter, API-Schlüssel, Tokens\n",
    "  - Produktionsdaten, persönlich identifizierbare Informationen\n",
    "- Für Umgebungsvariablen `.env.example`-Dateien verwenden\n",
    "- Git-Hooks für Pre-commit Überprüfungen nutzen\n",
    "\n",
    "```powershell\n",
    "# Falls doch sensible Daten eingecheckt wurden\n",
    "git filter-branch --force --index-filter \\\n",
    "\"git rm --cached --ignore-unmatch path/to/sensitive/file\" \\\n",
    "--prune-empty --tag-name-filter cat -- --all\n",
    "```"
   ]
  },
  {
   "cell_type": "markdown",
   "id": "de00fa598097e9ed",
   "metadata": {
    "lang": "de",
    "slideshow": {
     "slide_type": "subslide"
    },
    "tags": [
     "subslide"
    ]
   },
   "source": [
    "\n",
    "## Sinnvolle Commit-Häufigkeit\n",
    "\n",
    "- Committen Sie früh und oft\n",
    "- Idealerweise bei jedem abgeschlossenen logischen Schritt\n",
    "- Vor dem Verlassen des Arbeitsplatzes\n",
    "- Vor riskanten Änderungen"
   ]
  },
  {
   "cell_type": "markdown",
   "id": "affa986de8cd179f",
   "metadata": {
    "lang": "de",
    "slideshow": {
     "slide_type": "slide"
    },
    "tags": [
     "slide"
    ]
   },
   "source": [
    "\n",
    "## Repository-Pflege\n",
    "\n",
    "- Regelmäßige Überprüfung und Bereinigung\n",
    "- Große Binärdateien vermeiden oder mit Git LFS verwalten\n",
    "- Alte Branches löschen, die nicht mehr benötigt werden\n",
    "\n",
    "```powershell\n",
    "# Veraltete Remote-Tracking-Branches bereinigen\n",
    "git fetch --prune\n",
    "\n",
    "# Geschlossene Feature-Branches löschen\n",
    "git branch -d feature/completed-feature\n",
    "\n",
    "# Auf dem Remote-Repository löschen\n",
    "git push origin --delete feature/completed-feature\n",
    "```"
   ]
  }
 ],
 "metadata": {
  "jupytext": {
   "cell_metadata_filter": "lang,tags,-all",
   "main_language": "python",
   "notebook_metadata_filter": "-all"
  },
  "kernelspec": {
   "display_name": "Python 3 (ipykernel)",
   "language": "python",
   "name": "python3"
  },
  "language_info": {
   "codemirror_mode": {
    "name": "ipython",
    "version": 3
   },
   "file_extension": ".py",
   "mimetype": "text/x-python",
   "name": "python",
   "nbconvert_exporter": "python",
   "pygments_lexer": "ipython3"
  }
 },
 "nbformat": 4,
 "nbformat_minor": 5
}
