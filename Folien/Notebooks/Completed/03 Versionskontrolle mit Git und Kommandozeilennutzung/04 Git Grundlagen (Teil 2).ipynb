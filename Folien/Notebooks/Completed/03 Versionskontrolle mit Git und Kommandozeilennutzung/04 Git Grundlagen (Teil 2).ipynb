{
 "cells": [
  {
   "cell_type": "markdown",
   "id": "500dabe7b6324c2d",
   "metadata": {
    "lang": "de",
    "slideshow": {
     "slide_type": "slide"
    },
    "tags": [
     "slide"
    ]
   },
   "source": [
    "\n",
    "<img src=\"data:image/svg+xml;base64,PHN2ZyB4bWxucz0iaHR0cDovL3d3dy53My5vcmcvMjAwMC9zdmciIHhtbG5zOnhsaW5rPSJodHRw\n",
    "Oi8vd3d3LnczLm9yZy8xOTk5L3hsaW5rIiB3aWR0aD0iMTExLjE2MSIgaGVpZ2h0PSIxMzQuNjY4\n",
    "IiB2ZXJzaW9uPSIxLjAiPjxkZWZzPjxsaW5lYXJHcmFkaWVudCBpZD0iYyI+PHN0b3Agb2Zmc2V0\n",
    "PSIwIiBzdHlsZT0ic3RvcC1jb2xvcjojYjhiOGI4O3N0b3Atb3BhY2l0eTouNDk4MDM5MjIiLz48\n",
    "c3RvcCBvZmZzZXQ9IjEiIHN0eWxlPSJzdG9wLWNvbG9yOiM3ZjdmN2Y7c3RvcC1vcGFjaXR5OjAi\n",
    "Lz48L2xpbmVhckdyYWRpZW50PjxsaW5lYXJHcmFkaWVudCBpZD0iYSI+PHN0b3Agb2Zmc2V0PSIw\n",
    "IiBzdHlsZT0ic3RvcC1jb2xvcjojZmZkNDNiO3N0b3Atb3BhY2l0eToxIi8+PHN0b3Agb2Zmc2V0\n",
    "PSIxIiBzdHlsZT0ic3RvcC1jb2xvcjojZmZlODczO3N0b3Atb3BhY2l0eToxIi8+PC9saW5lYXJH\n",
    "cmFkaWVudD48bGluZWFyR3JhZGllbnQgaWQ9ImIiPjxzdG9wIG9mZnNldD0iMCIgc3R5bGU9InN0\n",
    "b3AtY29sb3I6IzVhOWZkNDtzdG9wLW9wYWNpdHk6MSIvPjxzdG9wIG9mZnNldD0iMSIgc3R5bGU9\n",
    "InN0b3AtY29sb3I6IzMwNjk5ODtzdG9wLW9wYWNpdHk6MSIvPjwvbGluZWFyR3JhZGllbnQ+PGxp\n",
    "bmVhckdyYWRpZW50IHhsaW5rOmhyZWY9IiNhIiBpZD0iZSIgeDE9IjE1MC45NjEiIHgyPSIxMTIu\n",
    "MDMxIiB5MT0iMTkyLjM1MiIgeTI9IjEzNy4yNzMiIGdyYWRpZW50VHJhbnNmb3JtPSJtYXRyaXgo\n",
    "LjU2MjU0IDAgMCAuNTY3OTcgLTE0Ljk5MSAtMTEuNzAyKSIgZ3JhZGllbnRVbml0cz0idXNlclNw\n",
    "YWNlT25Vc2UiLz48bGluZWFyR3JhZGllbnQgeGxpbms6aHJlZj0iI2IiIGlkPSJkIiB4MT0iMjYu\n",
    "NjQ5IiB4Mj0iMTM1LjY2NSIgeTE9IjIwLjYwNCIgeTI9IjExNC4zOTgiIGdyYWRpZW50VHJhbnNm\n",
    "b3JtPSJtYXRyaXgoLjU2MjU0IDAgMCAuNTY3OTcgLTE0Ljk5MSAtMTEuNzAyKSIgZ3JhZGllbnRV\n",
    "bml0cz0idXNlclNwYWNlT25Vc2UiLz48cmFkaWFsR3JhZGllbnQgeGxpbms6aHJlZj0iI2MiIGlk\n",
    "PSJmIiBjeD0iNjEuNTE5IiBjeT0iMTMyLjI4NiIgcj0iMjkuMDM3IiBmeD0iNjEuNTE5IiBmeT0i\n",
    "MTMyLjI4NiIgZ3JhZGllbnRUcmFuc2Zvcm09Im1hdHJpeCgwIC0uMjM5OTUgMS4wNTQ2NyAwIC04\n",
    "My43IDE0Mi40NjIpIiBncmFkaWVudFVuaXRzPSJ1c2VyU3BhY2VPblVzZSIvPjwvZGVmcz48cGF0\n",
    "aCBkPSJNNTQuOTE5IDBjLTQuNTg0LjAyMi04Ljk2MS40MTMtMTIuODEzIDEuMDk1QzMwLjc2IDMu\n",
    "MDk5IDI4LjcgNy4yOTUgMjguNyAxNS4wMzJ2MTAuMjE5aDI2LjgxM3YzLjQwNkgxOC42MzhjLTcu\n",
    "NzkzIDAtMTQuNjE2IDQuNjg0LTE2Ljc1IDEzLjU5NC0yLjQ2MiAxMC4yMTMtMi41NzEgMTYuNTg2\n",
    "IDAgMjcuMjUgMS45MDUgNy45MzggNi40NTcgMTMuNTk0IDE0LjI1IDEzLjU5NGg5LjIxOHYtMTIu\n",
    "MjVjMC04Ljg1IDcuNjU3LTE2LjY1NyAxNi43NS0xNi42NTdoMjYuNzgyYzcuNDU0IDAgMTMuNDA2\n",
    "LTYuMTM4IDEzLjQwNi0xMy42MjV2LTI1LjUzYzAtNy4yNjctNi4xMy0xMi43MjYtMTMuNDA2LTEz\n",
    "LjkzOEM2NC4yODIuMzI4IDU5LjUwMi0uMDIgNTQuOTE4IDBtLTE0LjUgOC4yMmMyLjc3IDAgNS4w\n",
    "MzEgMi4yOTggNS4wMzEgNS4xMjUgMCAyLjgxNi0yLjI2MiA1LjA5My01LjAzMSA1LjA5My0yLjc4\n",
    "IDAtNS4wMzEtMi4yNzctNS4wMzEtNS4wOTMgMC0yLjgyNyAyLjI1MS01LjEyNSA1LjAzLTUuMTI1\n",
    "IiBzdHlsZT0iZmlsbDp1cmwoI2QpO2ZpbGwtb3BhY2l0eToxIi8+PHBhdGggZD0iTTg1LjYzOCAy\n",
    "OC42NTd2MTEuOTA2YzAgOS4yMzEtNy44MjYgMTctMTYuNzUgMTdINDIuMTA2Yy03LjMzNiAwLTEz\n",
    "LjQwNiA2LjI3OS0xMy40MDYgMTMuNjI1Vjk2LjcyYzAgNy4yNjYgNi4zMTkgMTEuNTQgMTMuNDA2\n",
    "IDEzLjYyNSA4LjQ4OCAyLjQ5NSAxNi42MjcgMi45NDYgMjYuNzgyIDAgNi43NS0xLjk1NSAxMy40\n",
    "MDYtNS44ODggMTMuNDA2LTEzLjYyNVY4Ni41SDU1LjUxM3YtMy40MDVIOTUuN2M3Ljc5MyAwIDEw\n",
    "LjY5Ni01LjQzNiAxMy40MDYtMTMuNTk0IDIuOC04LjM5OSAyLjY4LTE2LjQ3NiAwLTI3LjI1LTEu\n",
    "OTI1LTcuNzU4LTUuNjA0LTEzLjU5NC0xMy40MDYtMTMuNTk0ek03MC41NzUgOTMuMzEzYzIuNzgg\n",
    "MCA1LjAzMSAyLjI3OCA1LjAzMSA1LjA5NCAwIDIuODI3LTIuMjUxIDUuMTI1LTUuMDMxIDUuMTI1\n",
    "LTIuNzcgMC01LjAzMS0yLjI5OC01LjAzMS01LjEyNSAwLTIuODE2IDIuMjYxLTUuMDk0IDUuMDMx\n",
    "LTUuMDk0IiBzdHlsZT0iZmlsbDp1cmwoI2UpO2ZpbGwtb3BhY2l0eToxIi8+PGVsbGlwc2UgY3g9\n",
    "IjU1LjgxNyIgY3k9IjEyNy43MDEiIHJ4PSIzNS45MzEiIHJ5PSI2Ljk2NyIgc3R5bGU9Im9wYWNp\n",
    "dHk6LjQ0MzgyO2ZpbGw6dXJsKCNmKTtmaWxsLW9wYWNpdHk6MTtmaWxsLXJ1bGU6bm9uemVybztz\n",
    "dHJva2U6bm9uZTtzdHJva2Utd2lkdGg6MTUuNDE3NDtzdHJva2UtbWl0ZXJsaW1pdDo0O3N0cm9r\n",
    "ZS1kYXNoYXJyYXk6bm9uZTtzdHJva2Utb3BhY2l0eToxIi8+PC9zdmc+\n",
    "\"\n",
    "     style=\"display:block;margin:auto;width:10%\" alt=\"Python Logo\"/>\n",
    "<br>\n",
    "\n",
    "<div style=\"text-align:center; font-size:200%;\">\n",
    " <b>Git Grundlagen (Teil 2)</b>\n",
    "</div>\n",
    "<br/>\n",
    "<div style=\"text-align:center;\">Dr. Matthias Hölzl</div>\n",
    "<br/>"
   ]
  },
  {
   "cell_type": "markdown",
   "id": "0003943fffa3d3de",
   "metadata": {
    "lang": "de",
    "slideshow": {
     "slide_type": "slide"
    },
    "tags": [
     "slide"
    ]
   },
   "source": [
    "\n",
    "## Commit-Historie anzeigen\n",
    "\n",
    "```powershell\n",
    "# Grundlegende Historie anzeigen\n",
    "git log\n",
    "```\n",
    "```powershell\n",
    "# Kompaktere Ansicht\n",
    "git log --oneline\n",
    "```\n",
    "```powershell\n",
    "# Mit Darstellung der Änderungen\n",
    "git log -p\n",
    "```"
   ]
  },
  {
   "cell_type": "markdown",
   "id": "acdca1a4f2fb4ea8",
   "metadata": {
    "lang": "de",
    "slideshow": {
     "slide_type": "slide"
    },
    "tags": [
     "slide"
    ]
   },
   "source": [
    "\n",
    "```powershell\n",
    "# Statistiken anzeigen\n",
    "git log --stat\n",
    "```\n",
    "```powershell\n",
    "# Grafische Darstellung\n",
    "git log --graph --oneline --all\n",
    "```\n",
    "```powershell\n",
    "# Nach Autor filtern\n",
    "git log --author=\"Name\"\n",
    "```\n",
    "```powershell\n",
    "# Nach Zeitraum filtern\n",
    "git log --since=\"2023-01-01\" --until=\"2023-12-31\"\n",
    "```"
   ]
  },
  {
   "cell_type": "markdown",
   "id": "b7620070e26ac75f",
   "metadata": {
    "lang": "de",
    "slideshow": {
     "slide_type": "slide"
    },
    "tags": [
     "slide"
    ]
   },
   "source": [
    "\n",
    "## Praktisches Beispiel: Commit-Historie anzeigen\n",
    "\n",
    "Schauen wir uns die Historie unseres Demo-Projekts an:\n",
    "\n",
    "```powershell\n",
    "git log\n",
    "git log --oneline\n",
    "```"
   ]
  },
  {
   "cell_type": "markdown",
   "id": "60ba713412ae443c",
   "metadata": {
    "lang": "de",
    "slideshow": {
     "slide_type": "slide"
    },
    "tags": [
     "slide"
    ]
   },
   "source": [
    "\n",
    "## Unterschiede anzeigen\n",
    "\n",
    "```powershell\n",
    "# Unterschiede im Arbeitsverzeichnis zu Staging-Area/letztem Commit\n",
    "git diff\n",
    "```\n",
    "```powershell\n",
    "# Unterschiede zwischen Staging-Area und letztem Commit\n",
    "git diff --staged\n",
    "# Oder\n",
    "git diff --cached\n",
    "```\n",
    "```powershell\n",
    "# Unterschiede zwischen zwei Commits\n",
    "git diff commit1 commit2\n",
    "```\n",
    "```powershell\n",
    "# Unterschiede für eine bestimmte Datei\n",
    "git diff -- dateiname.txt\n",
    "```\n",
    "```powershell\n",
    "# Unterschiede zwischen Branches\n",
    "git diff branch1 branch2\n",
    "```"
   ]
  },
  {
   "cell_type": "markdown",
   "id": "e271cbdcceac1bf1",
   "metadata": {
    "lang": "de",
    "slideshow": {
     "slide_type": "slide"
    },
    "tags": [
     "slide"
    ]
   },
   "source": [
    "\n",
    "## Praktisches Beispiel: Unterschiede anzeigen\n",
    "\n",
    "Ändern wir eine Datei und untersuchen die Unterschiede:\n",
    "\n",
    "```powershell\n",
    "# Ändern wir die README-Datei\n",
    "echo -e \"# Git Demo Projekt\\n\\nEin Projekt zum Lernen von Git.\" > README.md\n",
    "```\n",
    "```powershell\n",
    "# Unterschiede anzeigen\n",
    "git diff\n",
    "```\n",
    "```powershell\n",
    "# Zur Staging-Area hinzufügen und Unterschiede erneut anzeigen\n",
    "git add README.md\n",
    "git diff          # Zeigt nichts an\n",
    "git diff --staged # Zeigt die staged Änderungen\n",
    "```"
   ]
  },
  {
   "cell_type": "markdown",
   "id": "2075289e2c27b6a3",
   "metadata": {
    "lang": "de",
    "slideshow": {
     "slide_type": "slide"
    },
    "tags": [
     "slide"
    ]
   },
   "source": [
    "\n",
    "## Dateien ignorieren mit .gitignore\n",
    "\n",
    "```\n",
    "# Kommentar\n",
    "*.log           # Alle Dateien mit .log-Endung ignorieren\n",
    "build/          # Ganzes Verzeichnis ignorieren\n",
    "/config.json    # Nur im Root-Verzeichnis ignorieren\n",
    "!important.log  # Ausnahme: diese .log-Datei nicht ignorieren\n",
    "```\n",
    "\n",
    "Typische Patterns:\n",
    "- Temporäre Dateien: `*.tmp`, `~*`\n",
    "- Build-Artefakte: `dist/`, `build/`, `*.o`\n",
    "- Umgebungsdateien: `.env`\n",
    "- Abhängigkeiten: `node_modules/`, `vendor/`"
   ]
  },
  {
   "cell_type": "markdown",
   "id": "bbeb5e3b6474ea39",
   "metadata": {
    "lang": "de",
    "slideshow": {
     "slide_type": "slide"
    },
    "tags": [
     "slide"
    ]
   },
   "source": [
    "\n",
    "## Praktisches Beispiel: .gitignore erstellen\n",
    "\n",
    "Erstellen wir eine .gitignore-Datei für unser Projekt:\n",
    "\n",
    "```powershell\n",
    "# Erstellen wir einige Dateien, die ignoriert werden sollen\n",
    "touch temp.log debug.log\n",
    "mkdir build\n",
    "touch build/output.bin\n",
    "```\n",
    "```powershell\n",
    "# Erstellen wir eine .gitignore-Datei\n",
    "echo -e \"# Logs\\n*.log\\n\\n# Build-Verzeichnis\\nbuild/\" > .gitignore\n",
    "```\n",
    "```powershell\n",
    "# Überprüfen wir den Status\n",
    "git status\n",
    "```"
   ]
  },
  {
   "cell_type": "markdown",
   "id": "03c0243c391a9458",
   "metadata": {
    "lang": "de",
    "slideshow": {
     "slide_type": "slide"
    },
    "tags": [
     "slide"
    ]
   },
   "source": [
    "\n",
    "## Dateien löschen und umbenennen\n",
    "\n",
    "```powershell\n",
    "# Datei aus dem Working Directory und Index entfernen\n",
    "git rm datei.txt\n",
    "```\n",
    "```powershell\n",
    "# Datei nur aus dem Index entfernen (im Verzeichnis behalten)\n",
    "git rm --cached datei.txt\n",
    "```\n",
    "```powershell\n",
    "# Datei umbenennen\n",
    "git mv alte_datei.txt neue_datei.txt\n",
    "```\n",
    "\n",
    "Hinter den Kulissen:\n",
    "- `git rm` = `rm datei.txt` + `git add datei.txt`\n",
    "- `git mv` = `mv alte_datei.txt neue_datei.txt` + `git add neue_datei.txt`"
   ]
  },
  {
   "cell_type": "markdown",
   "id": "6c378380aa0788a3",
   "metadata": {
    "lang": "de",
    "slideshow": {
     "slide_type": "slide"
    },
    "tags": [
     "slide"
    ]
   },
   "source": [
    "\n",
    "## Praktisches Beispiel: Dateien löschen und umbenennen\n",
    "\n",
    "```powershell\n",
    "# Erstellen wir eine Datei zum Löschen\n",
    "echo \"Zu löschende Datei\" > zu_loeschen.txt\n",
    "git add zu_loeschen.txt\n",
    "git commit -m \"Füge zu_loeschen.txt hinzu\"\n",
    "```\n",
    "```powershell\n",
    "# Datei löschen\n",
    "git rm zu_loeschen.txt\n",
    "git status\n",
    "```\n",
    "```powershell\n",
    "# Umbenennen einer Datei\n",
    "git mv app.js main.js\n",
    "git status\n",
    "```\n",
    "```powershell\n",
    "# Änderungen committen\n",
    "git commit -m \"Lösche zu_loeschen.txt und benenne app.js in main.js um\"\n",
    "```"
   ]
  },
  {
   "cell_type": "markdown",
   "id": "43ed477065116531",
   "metadata": {
    "lang": "de",
    "slideshow": {
     "slide_type": "slide"
    },
    "tags": [
     "slide"
    ]
   },
   "source": [
    "\n",
    "## Änderungen rückgängig machen\n",
    "\n",
    "```powershell\n",
    "# Änderungen in der Working Copy zurücksetzen\n",
    "git restore <datei>\n",
    "git checkout -- <datei>  # ältere Git-Versionen\n",
    "```\n",
    "```powershell\n",
    "# Änderungen aus der Staging-Area entfernen (unstage)\n",
    "git restore --staged <datei>\n",
    "git reset HEAD <datei>   # ältere Git-Versionen\n",
    "```\n",
    "```powershell\n",
    "# Datei auf einen früheren Commit zurücksetzen\n",
    "git restore --source=<commit> <datei>\n",
    "```\n",
    "```powershell\n",
    "# Letzten Commit ändern\n",
    "git commit --amend\n",
    "```"
   ]
  },
  {
   "cell_type": "markdown",
   "id": "3550c512774c4cc2",
   "metadata": {
    "lang": "de",
    "slideshow": {
     "slide_type": "slide"
    },
    "tags": [
     "slide"
    ]
   },
   "source": [
    "\n",
    "## Praktisches Beispiel: Änderungen rückgängig machen\n",
    "\n",
    "```powershell\n",
    "# Ändern wir eine Datei\n",
    "echo \"Fehlerhafte Änderung\" >> main.js\n",
    "git status\n",
    "git diff main.js\n",
    "```\n",
    "```powershell\n",
    "# Änderung rückgängig machen\n",
    "git restore main.js\n",
    "git status\n",
    "git diff main.js  # Keine Unterschiede mehr\n",
    "```\n",
    "```powershell\n",
    "# Änderung stagen und dann unstagen\n",
    "echo \"Neue Zeile\" >> main.js\n",
    "git add main.js\n",
    "git status\n",
    "```\n",
    "```powershell\n",
    "git restore --staged main.js\n",
    "git status  # Die Datei ist nun unstaged, aber immer noch geändert\n",
    "```"
   ]
  }
 ],
 "metadata": {
  "jupytext": {
   "cell_metadata_filter": "lang,tags,-all",
   "main_language": "python",
   "notebook_metadata_filter": "-all"
  },
  "kernelspec": {
   "display_name": "Python 3 (ipykernel)",
   "language": "python",
   "name": "python3"
  },
  "language_info": {
   "codemirror_mode": {
    "name": "ipython",
    "version": 3
   },
   "file_extension": ".py",
   "mimetype": "text/x-python",
   "name": "python",
   "nbconvert_exporter": "python",
   "pygments_lexer": "ipython3"
  }
 },
 "nbformat": 4,
 "nbformat_minor": 5
}
