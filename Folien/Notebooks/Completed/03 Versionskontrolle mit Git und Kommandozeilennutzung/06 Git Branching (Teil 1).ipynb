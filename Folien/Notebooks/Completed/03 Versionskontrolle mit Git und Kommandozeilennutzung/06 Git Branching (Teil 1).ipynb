{
 "cells": [
  {
   "cell_type": "markdown",
   "id": "020ad0a7f32ab3b5",
   "metadata": {
    "lang": "de",
    "slideshow": {
     "slide_type": "slide"
    },
    "tags": [
     "slide"
    ]
   },
   "source": [
    "\n",
    "<img src=\"data:image/svg+xml;base64,PHN2ZyB4bWxucz0iaHR0cDovL3d3dy53My5vcmcvMjAwMC9zdmciIHhtbG5zOnhsaW5rPSJodHRw\n",
    "Oi8vd3d3LnczLm9yZy8xOTk5L3hsaW5rIiB3aWR0aD0iMTExLjE2MSIgaGVpZ2h0PSIxMzQuNjY4\n",
    "IiB2ZXJzaW9uPSIxLjAiPjxkZWZzPjxsaW5lYXJHcmFkaWVudCBpZD0iYyI+PHN0b3Agb2Zmc2V0\n",
    "PSIwIiBzdHlsZT0ic3RvcC1jb2xvcjojYjhiOGI4O3N0b3Atb3BhY2l0eTouNDk4MDM5MjIiLz48\n",
    "c3RvcCBvZmZzZXQ9IjEiIHN0eWxlPSJzdG9wLWNvbG9yOiM3ZjdmN2Y7c3RvcC1vcGFjaXR5OjAi\n",
    "Lz48L2xpbmVhckdyYWRpZW50PjxsaW5lYXJHcmFkaWVudCBpZD0iYSI+PHN0b3Agb2Zmc2V0PSIw\n",
    "IiBzdHlsZT0ic3RvcC1jb2xvcjojZmZkNDNiO3N0b3Atb3BhY2l0eToxIi8+PHN0b3Agb2Zmc2V0\n",
    "PSIxIiBzdHlsZT0ic3RvcC1jb2xvcjojZmZlODczO3N0b3Atb3BhY2l0eToxIi8+PC9saW5lYXJH\n",
    "cmFkaWVudD48bGluZWFyR3JhZGllbnQgaWQ9ImIiPjxzdG9wIG9mZnNldD0iMCIgc3R5bGU9InN0\n",
    "b3AtY29sb3I6IzVhOWZkNDtzdG9wLW9wYWNpdHk6MSIvPjxzdG9wIG9mZnNldD0iMSIgc3R5bGU9\n",
    "InN0b3AtY29sb3I6IzMwNjk5ODtzdG9wLW9wYWNpdHk6MSIvPjwvbGluZWFyR3JhZGllbnQ+PGxp\n",
    "bmVhckdyYWRpZW50IHhsaW5rOmhyZWY9IiNhIiBpZD0iZSIgeDE9IjE1MC45NjEiIHgyPSIxMTIu\n",
    "MDMxIiB5MT0iMTkyLjM1MiIgeTI9IjEzNy4yNzMiIGdyYWRpZW50VHJhbnNmb3JtPSJtYXRyaXgo\n",
    "LjU2MjU0IDAgMCAuNTY3OTcgLTE0Ljk5MSAtMTEuNzAyKSIgZ3JhZGllbnRVbml0cz0idXNlclNw\n",
    "YWNlT25Vc2UiLz48bGluZWFyR3JhZGllbnQgeGxpbms6aHJlZj0iI2IiIGlkPSJkIiB4MT0iMjYu\n",
    "NjQ5IiB4Mj0iMTM1LjY2NSIgeTE9IjIwLjYwNCIgeTI9IjExNC4zOTgiIGdyYWRpZW50VHJhbnNm\n",
    "b3JtPSJtYXRyaXgoLjU2MjU0IDAgMCAuNTY3OTcgLTE0Ljk5MSAtMTEuNzAyKSIgZ3JhZGllbnRV\n",
    "bml0cz0idXNlclNwYWNlT25Vc2UiLz48cmFkaWFsR3JhZGllbnQgeGxpbms6aHJlZj0iI2MiIGlk\n",
    "PSJmIiBjeD0iNjEuNTE5IiBjeT0iMTMyLjI4NiIgcj0iMjkuMDM3IiBmeD0iNjEuNTE5IiBmeT0i\n",
    "MTMyLjI4NiIgZ3JhZGllbnRUcmFuc2Zvcm09Im1hdHJpeCgwIC0uMjM5OTUgMS4wNTQ2NyAwIC04\n",
    "My43IDE0Mi40NjIpIiBncmFkaWVudFVuaXRzPSJ1c2VyU3BhY2VPblVzZSIvPjwvZGVmcz48cGF0\n",
    "aCBkPSJNNTQuOTE5IDBjLTQuNTg0LjAyMi04Ljk2MS40MTMtMTIuODEzIDEuMDk1QzMwLjc2IDMu\n",
    "MDk5IDI4LjcgNy4yOTUgMjguNyAxNS4wMzJ2MTAuMjE5aDI2LjgxM3YzLjQwNkgxOC42MzhjLTcu\n",
    "NzkzIDAtMTQuNjE2IDQuNjg0LTE2Ljc1IDEzLjU5NC0yLjQ2MiAxMC4yMTMtMi41NzEgMTYuNTg2\n",
    "IDAgMjcuMjUgMS45MDUgNy45MzggNi40NTcgMTMuNTk0IDE0LjI1IDEzLjU5NGg5LjIxOHYtMTIu\n",
    "MjVjMC04Ljg1IDcuNjU3LTE2LjY1NyAxNi43NS0xNi42NTdoMjYuNzgyYzcuNDU0IDAgMTMuNDA2\n",
    "LTYuMTM4IDEzLjQwNi0xMy42MjV2LTI1LjUzYzAtNy4yNjctNi4xMy0xMi43MjYtMTMuNDA2LTEz\n",
    "LjkzOEM2NC4yODIuMzI4IDU5LjUwMi0uMDIgNTQuOTE4IDBtLTE0LjUgOC4yMmMyLjc3IDAgNS4w\n",
    "MzEgMi4yOTggNS4wMzEgNS4xMjUgMCAyLjgxNi0yLjI2MiA1LjA5My01LjAzMSA1LjA5My0yLjc4\n",
    "IDAtNS4wMzEtMi4yNzctNS4wMzEtNS4wOTMgMC0yLjgyNyAyLjI1MS01LjEyNSA1LjAzLTUuMTI1\n",
    "IiBzdHlsZT0iZmlsbDp1cmwoI2QpO2ZpbGwtb3BhY2l0eToxIi8+PHBhdGggZD0iTTg1LjYzOCAy\n",
    "OC42NTd2MTEuOTA2YzAgOS4yMzEtNy44MjYgMTctMTYuNzUgMTdINDIuMTA2Yy03LjMzNiAwLTEz\n",
    "LjQwNiA2LjI3OS0xMy40MDYgMTMuNjI1Vjk2LjcyYzAgNy4yNjYgNi4zMTkgMTEuNTQgMTMuNDA2\n",
    "IDEzLjYyNSA4LjQ4OCAyLjQ5NSAxNi42MjcgMi45NDYgMjYuNzgyIDAgNi43NS0xLjk1NSAxMy40\n",
    "MDYtNS44ODggMTMuNDA2LTEzLjYyNVY4Ni41SDU1LjUxM3YtMy40MDVIOTUuN2M3Ljc5MyAwIDEw\n",
    "LjY5Ni01LjQzNiAxMy40MDYtMTMuNTk0IDIuOC04LjM5OSAyLjY4LTE2LjQ3NiAwLTI3LjI1LTEu\n",
    "OTI1LTcuNzU4LTUuNjA0LTEzLjU5NC0xMy40MDYtMTMuNTk0ek03MC41NzUgOTMuMzEzYzIuNzgg\n",
    "MCA1LjAzMSAyLjI3OCA1LjAzMSA1LjA5NCAwIDIuODI3LTIuMjUxIDUuMTI1LTUuMDMxIDUuMTI1\n",
    "LTIuNzcgMC01LjAzMS0yLjI5OC01LjAzMS01LjEyNSAwLTIuODE2IDIuMjYxLTUuMDk0IDUuMDMx\n",
    "LTUuMDk0IiBzdHlsZT0iZmlsbDp1cmwoI2UpO2ZpbGwtb3BhY2l0eToxIi8+PGVsbGlwc2UgY3g9\n",
    "IjU1LjgxNyIgY3k9IjEyNy43MDEiIHJ4PSIzNS45MzEiIHJ5PSI2Ljk2NyIgc3R5bGU9Im9wYWNp\n",
    "dHk6LjQ0MzgyO2ZpbGw6dXJsKCNmKTtmaWxsLW9wYWNpdHk6MTtmaWxsLXJ1bGU6bm9uemVybztz\n",
    "dHJva2U6bm9uZTtzdHJva2Utd2lkdGg6MTUuNDE3NDtzdHJva2UtbWl0ZXJsaW1pdDo0O3N0cm9r\n",
    "ZS1kYXNoYXJyYXk6bm9uZTtzdHJva2Utb3BhY2l0eToxIi8+PC9zdmc+\n",
    "\"\n",
    "     style=\"display:block;margin:auto;width:10%\" alt=\"Python Logo\"/>\n",
    "<br>\n",
    "\n",
    "<div style=\"text-align:center; font-size:200%;\">\n",
    " <b>Git Branching (Teil 1)</b>\n",
    "</div>\n",
    "<br/>\n",
    "<div style=\"text-align:center;\">Dr. Matthias Hölzl</div>\n",
    "<br/>"
   ]
  },
  {
   "cell_type": "markdown",
   "id": "a04843a5f9d8f1a7",
   "metadata": {
    "lang": "de",
    "slideshow": {
     "slide_type": "slide"
    },
    "tags": [
     "slide"
    ]
   },
   "source": [
    "\n",
    "## Git Branching, Merging und Rebasing\n",
    "\n",
    "- Branches: Parallele Entwicklungslinien\n",
    "- Merging: Zusammenführen von Branches\n",
    "- Rebasing: Alternative Methode zur Integration von Änderungen\n",
    "- Kernkonzepte für kollaborative Softwareentwicklung"
   ]
  },
  {
   "cell_type": "markdown",
   "id": "400d10be1922d8c8",
   "metadata": {
    "lang": "de",
    "slideshow": {
     "slide_type": "slide"
    },
    "tags": [
     "slide"
    ]
   },
   "source": [
    "\n",
    "## Git-Objekte: Die interne Struktur\n",
    "\n",
    "<img src=\"img/commit-and-tree-01.png\" style=\"width:80%;margin:auto\"></img>"
   ]
  },
  {
   "cell_type": "markdown",
   "id": "a842979548e8d2ea",
   "metadata": {
    "lang": "de",
    "slideshow": {
     "slide_type": "slide"
    },
    "tags": [
     "slide"
    ]
   },
   "source": [
    "\n",
    "- **Commits**: Snapshots des Projekts mit Metadaten\n",
    "- **Trees**: Verzeichnisstrukturen (Baumstrukturen)\n",
    "- **Blobs**: Dateiinhalte\n",
    "- **Refs**: Zeiger auf Commits (Branches, Tags)"
   ]
  },
  {
   "cell_type": "markdown",
   "id": "f0653ef5d6d60e1d",
   "metadata": {
    "lang": "de",
    "slideshow": {
     "slide_type": "slide"
    },
    "tags": [
     "slide"
    ]
   },
   "source": [
    "\n",
    "## Praktischer Einstieg: Beispielprojekt erstellen\n",
    "\n",
    "```powershell\n",
    "git clone https://github.com/Coding-Academy-Munich/GitExample.git\n",
    "cd GitExample\n",
    "```"
   ]
  },
  {
   "cell_type": "markdown",
   "id": "793ec6274289162b",
   "metadata": {
    "lang": "de",
    "slideshow": {
     "slide_type": "slide"
    },
    "tags": [
     "slide"
    ]
   },
   "source": [
    "\n",
    "## Git-Commits\n",
    "\n",
    "<img src=\"img/history-01.png\" style=\"width:80%;margin:auto\"></img>"
   ]
  },
  {
   "cell_type": "markdown",
   "id": "78cb790f3684ad8a",
   "metadata": {
    "lang": "de",
    "slideshow": {
     "slide_type": "slide"
    },
    "tags": [
     "slide"
    ]
   },
   "source": [
    "\n",
    "## Git-Branches\n",
    "\n",
    "- **Branch**: Leichtgewichtiger beweglicher Zeiger auf einen Commit\n",
    "\n",
    "<img src=\"img/branch-and-history-01.png\" style=\"width:80%;margin:auto\"></img>"
   ]
  },
  {
   "cell_type": "markdown",
   "id": "0e98e395f250482c",
   "metadata": {
    "lang": "de",
    "slideshow": {
     "slide_type": "slide"
    },
    "tags": [
     "slide"
    ]
   },
   "source": [
    "\n",
    "## Branches erstellen\n",
    "\n",
    "```powershell\n",
    "# Aktuellen Branch anzeigen\n",
    "git branch\n",
    "```\n",
    "```powershell\n",
    "# Neuen Branch erstellen\n",
    "git branch feature\n",
    "```\n",
    "```powershell\n",
    "# Zum neuen Branch wechseln\n",
    "git switch feature\n",
    "```"
   ]
  },
  {
   "cell_type": "markdown",
   "id": "bb9ffd793ce3d655",
   "metadata": {
    "lang": "de",
    "slideshow": {
     "slide_type": "slide"
    },
    "tags": [
     "slide"
    ]
   },
   "source": [
    "\n",
    "## Git-Branches\n",
    "\n",
    "- **Branch**: Leichtgewichtiger beweglicher Zeiger auf einen Commit\n",
    "\n",
    "<img src=\"img/branch-and-history-02.png\" style=\"width:80%;margin:auto\"></img>"
   ]
  },
  {
   "cell_type": "markdown",
   "id": "67d23eca7876f393",
   "metadata": {
    "lang": "de",
    "slideshow": {
     "slide_type": "slide"
    },
    "tags": [
     "slide"
    ]
   },
   "source": [
    "\n",
    "## Aktueller Branch\n",
    "\n",
    "- `HEAD`: Leichtgewichtiger beweglicher Zeiger auf aktuellen Branch (oder Commit)\n",
    "\n",
    "<img src=\"img/branch-and-history-03.png\" style=\"width:80%;margin:auto\"></img>"
   ]
  },
  {
   "cell_type": "markdown",
   "id": "8cf9592a39cfec17",
   "metadata": {
    "lang": "de",
    "slideshow": {
     "slide_type": "slide"
    },
    "tags": [
     "slide"
    ]
   },
   "source": [
    "\n",
    "```powershell\n",
    "# Branch erstellen und gleich wechseln\n",
    "git switch -c feature\n",
    "```\n",
    "```powershell\n",
    "# ODER in älteren Git-Versionen\n",
    "git checkout -b feature\n",
    "```"
   ]
  },
  {
   "cell_type": "markdown",
   "id": "9b1c4a99c7ef6ac5",
   "metadata": {
    "lang": "de",
    "slideshow": {
     "slide_type": "slide"
    },
    "tags": [
     "slide"
    ]
   },
   "source": [
    "\n",
    "## Branching Beispiel\n",
    "\n",
    "- Ausgangszustand: Ein Branch (master)\n",
    "\n",
    "<img src=\"img/basic-branching-01.png\" style=\"width:80%;margin:auto\"></img>"
   ]
  },
  {
   "cell_type": "markdown",
   "id": "718cb5b793228229",
   "metadata": {
    "lang": "de",
    "slideshow": {
     "slide_type": "subslide"
    },
    "tags": [
     "subslide"
    ]
   },
   "source": [
    "\n",
    "- Erzeugen eines neuen Branches (`feature`)\n",
    "- Wechseln zum neuen Branch\n",
    "\n",
    "<img src=\"img/basic-branching-02.png\" style=\"width:80%;margin:auto\"></img>"
   ]
  },
  {
   "cell_type": "markdown",
   "id": "86443526421022d3",
   "metadata": {
    "lang": "de",
    "slideshow": {
     "slide_type": "subslide"
    },
    "tags": [
     "subslide"
    ]
   },
   "source": [
    "\n",
    "- Änderungen im neuen Branch\n",
    "- Committen der Änderungen\n",
    "\n",
    "<img src=\"img/basic-branching-03.png\" style=\"width:80%;margin:auto\"></img>"
   ]
  },
  {
   "cell_type": "markdown",
   "id": "3325e22b6d2b32b9",
   "metadata": {
    "lang": "de",
    "slideshow": {
     "slide_type": "subslide"
    },
    "tags": [
     "subslide"
    ]
   },
   "source": [
    "\n",
    "- Wechseln zurück zum `master`-Branch\n",
    "- Hotfix basierend auf `master` erstellen (in neuem Branch `hotfix`)\n",
    "\n",
    "<img src=\"img/basic-branching-04.png\" style=\"width:80%;margin:auto\"></img>"
   ]
  },
  {
   "cell_type": "markdown",
   "id": "229ca745e07d6fbb",
   "metadata": {
    "lang": "de",
    "slideshow": {
     "slide_type": "subslide"
    },
    "tags": [
     "subslide"
    ]
   },
   "source": [
    "\n",
    "- Hinzufügen von Änderungen zum `hotfix`-Branch\n",
    "- Committen der Änderungen\n",
    "\n",
    "<img src=\"img/basic-branching-05.png\" style=\"width:80%;margin:auto\"></img>"
   ]
  },
  {
   "cell_type": "markdown",
   "id": "48031cb545e967a9",
   "metadata": {
    "lang": "de",
    "slideshow": {
     "slide_type": "slide"
    },
    "tags": [
     "slide"
    ]
   },
   "source": [
    "\n",
    "## Praktisches Beispiel: Branches erstellen\n",
    "\n",
    "```powershell\n",
    "# Branches anzeigen\n",
    "git branch\n",
    "```\n",
    "```powershell\n",
    "# Feature-Branch erstellen\n",
    "git branch feature\n",
    "```\n",
    "```powershell\n",
    "# Zum feature Branch wechseln\n",
    "git switch feature\n",
    "```\n",
    "```powershell\n",
    "# Änderungen im feature Branch vornehmen\n",
    "# Änderungen committen\n",
    "git add -A\n",
    "git commit -m \"Add new feature\"\n",
    "```"
   ]
  },
  {
   "cell_type": "markdown",
   "id": "833c7cac182a39b4",
   "metadata": {
    "lang": "de",
    "slideshow": {
     "slide_type": "slide"
    },
    "tags": [
     "slide"
    ]
   },
   "source": [
    "```powershell\n",
    "# Zurück zum master-Branch wechseln\n",
    "git switch master\n",
    "```\n",
    "```powershell\n",
    "# Bugfix-Branch erstellen und gleich wechseln\n",
    "git switch -c hotfix\n",
    "\n",
    "# Alle Branches anzeigen\n",
    "git branch\n",
    "```"
   ]
  },
  {
   "cell_type": "markdown",
   "id": "45afd826695efb81",
   "metadata": {
    "lang": "de",
    "slideshow": {
     "slide_type": "slide"
    },
    "tags": [
     "slide"
    ]
   },
   "source": [
    "\n",
    "## Branches visualisieren\n",
    "\n",
    "```powershell\n",
    "# Einfache Darstellung mit Graphen\n",
    "git log --oneline --decorate --graph --all\n",
    "```\n",
    "```powershell\n",
    "# Mit Farbmarkierungen und kompakt\n",
    "git log --graph --pretty=format:'%Cred%h%Creset -%C(yellow)%d%Creset %s %Cgreen(%cr) %C(bold blue)<%an>%Creset' --abbrev-commit --all\n",
    "```\n",
    "```powershell\n",
    "# Graphisches Tool starten (wenn installiert)\n",
    "gitk --all\n",
    "```\n",
    "```powershell\n",
    "# Git-internes Visualisierungstool\n",
    "git gui\n",
    "```"
   ]
  },
  {
   "cell_type": "markdown",
   "id": "b4bded3db58fbd35",
   "metadata": {
    "lang": "de",
    "slideshow": {
     "slide_type": "slide"
    },
    "tags": [
     "slide"
    ]
   },
   "source": [
    "\n",
    "## Praktisches Beispiel: Branches visualisieren\n",
    "\n",
    "```powershell\n",
    "# Branches visualisieren\n",
    "git log --oneline --decorate --graph --all\n",
    "```"
   ]
  }
 ],
 "metadata": {
  "jupytext": {
   "cell_metadata_filter": "lang,tags,-all",
   "main_language": "python",
   "notebook_metadata_filter": "-all"
  },
  "kernelspec": {
   "display_name": "Python 3 (ipykernel)",
   "language": "python",
   "name": "python3"
  },
  "language_info": {
   "codemirror_mode": {
    "name": "ipython",
    "version": 3
   },
   "file_extension": ".py",
   "mimetype": "text/x-python",
   "name": "python",
   "nbconvert_exporter": "python",
   "pygments_lexer": "ipython3"
  }
 },
 "nbformat": 4,
 "nbformat_minor": 5
}
