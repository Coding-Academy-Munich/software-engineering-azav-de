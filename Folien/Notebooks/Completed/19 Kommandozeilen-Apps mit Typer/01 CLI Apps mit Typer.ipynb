{
 "cells": [
  {
   "cell_type": "markdown",
   "id": "5c375fd53a07c094",
   "metadata": {
    "lang": "de",
    "slideshow": {
     "slide_type": "slide"
    },
    "tags": [
     "slide"
    ]
   },
   "source": [
    "\n",
    "<img src=\"data:image/svg+xml;base64,PHN2ZyB4bWxucz0iaHR0cDovL3d3dy53My5vcmcvMjAwMC9zdmciIHhtbG5zOnhsaW5rPSJodHRw\n",
    "Oi8vd3d3LnczLm9yZy8xOTk5L3hsaW5rIiB3aWR0aD0iMTExLjE2MSIgaGVpZ2h0PSIxMzQuNjY4\n",
    "IiB2ZXJzaW9uPSIxLjAiPjxkZWZzPjxsaW5lYXJHcmFkaWVudCBpZD0iYyI+PHN0b3Agb2Zmc2V0\n",
    "PSIwIiBzdHlsZT0ic3RvcC1jb2xvcjojYjhiOGI4O3N0b3Atb3BhY2l0eTouNDk4MDM5MjIiLz48\n",
    "c3RvcCBvZmZzZXQ9IjEiIHN0eWxlPSJzdG9wLWNvbG9yOiM3ZjdmN2Y7c3RvcC1vcGFjaXR5OjAi\n",
    "Lz48L2xpbmVhckdyYWRpZW50PjxsaW5lYXJHcmFkaWVudCBpZD0iYSI+PHN0b3Agb2Zmc2V0PSIw\n",
    "IiBzdHlsZT0ic3RvcC1jb2xvcjojZmZkNDNiO3N0b3Atb3BhY2l0eToxIi8+PHN0b3Agb2Zmc2V0\n",
    "PSIxIiBzdHlsZT0ic3RvcC1jb2xvcjojZmZlODczO3N0b3Atb3BhY2l0eToxIi8+PC9saW5lYXJH\n",
    "cmFkaWVudD48bGluZWFyR3JhZGllbnQgaWQ9ImIiPjxzdG9wIG9mZnNldD0iMCIgc3R5bGU9InN0\n",
    "b3AtY29sb3I6IzVhOWZkNDtzdG9wLW9wYWNpdHk6MSIvPjxzdG9wIG9mZnNldD0iMSIgc3R5bGU9\n",
    "InN0b3AtY29sb3I6IzMwNjk5ODtzdG9wLW9wYWNpdHk6MSIvPjwvbGluZWFyR3JhZGllbnQ+PGxp\n",
    "bmVhckdyYWRpZW50IHhsaW5rOmhyZWY9IiNhIiBpZD0iZSIgeDE9IjE1MC45NjEiIHgyPSIxMTIu\n",
    "MDMxIiB5MT0iMTkyLjM1MiIgeTI9IjEzNy4yNzMiIGdyYWRpZW50VHJhbnNmb3JtPSJtYXRyaXgo\n",
    "LjU2MjU0IDAgMCAuNTY3OTcgLTE0Ljk5MSAtMTEuNzAyKSIgZ3JhZGllbnRVbml0cz0idXNlclNw\n",
    "YWNlT25Vc2UiLz48bGluZWFyR3JhZGllbnQgeGxpbms6aHJlZj0iI2IiIGlkPSJkIiB4MT0iMjYu\n",
    "NjQ5IiB4Mj0iMTM1LjY2NSIgeTE9IjIwLjYwNCIgeTI9IjExNC4zOTgiIGdyYWRpZW50VHJhbnNm\n",
    "b3JtPSJtYXRyaXgoLjU2MjU0IDAgMCAuNTY3OTcgLTE0Ljk5MSAtMTEuNzAyKSIgZ3JhZGllbnRV\n",
    "bml0cz0idXNlclNwYWNlT25Vc2UiLz48cmFkaWFsR3JhZGllbnQgeGxpbms6aHJlZj0iI2MiIGlk\n",
    "PSJmIiBjeD0iNjEuNTE5IiBjeT0iMTMyLjI4NiIgcj0iMjkuMDM3IiBmeD0iNjEuNTE5IiBmeT0i\n",
    "MTMyLjI4NiIgZ3JhZGllbnRUcmFuc2Zvcm09Im1hdHJpeCgwIC0uMjM5OTUgMS4wNTQ2NyAwIC04\n",
    "My43IDE0Mi40NjIpIiBncmFkaWVudFVuaXRzPSJ1c2VyU3BhY2VPblVzZSIvPjwvZGVmcz48cGF0\n",
    "aCBkPSJNNTQuOTE5IDBjLTQuNTg0LjAyMi04Ljk2MS40MTMtMTIuODEzIDEuMDk1QzMwLjc2IDMu\n",
    "MDk5IDI4LjcgNy4yOTUgMjguNyAxNS4wMzJ2MTAuMjE5aDI2LjgxM3YzLjQwNkgxOC42MzhjLTcu\n",
    "NzkzIDAtMTQuNjE2IDQuNjg0LTE2Ljc1IDEzLjU5NC0yLjQ2MiAxMC4yMTMtMi41NzEgMTYuNTg2\n",
    "IDAgMjcuMjUgMS45MDUgNy45MzggNi40NTcgMTMuNTk0IDE0LjI1IDEzLjU5NGg5LjIxOHYtMTIu\n",
    "MjVjMC04Ljg1IDcuNjU3LTE2LjY1NyAxNi43NS0xNi42NTdoMjYuNzgyYzcuNDU0IDAgMTMuNDA2\n",
    "LTYuMTM4IDEzLjQwNi0xMy42MjV2LTI1LjUzYzAtNy4yNjctNi4xMy0xMi43MjYtMTMuNDA2LTEz\n",
    "LjkzOEM2NC4yODIuMzI4IDU5LjUwMi0uMDIgNTQuOTE4IDBtLTE0LjUgOC4yMmMyLjc3IDAgNS4w\n",
    "MzEgMi4yOTggNS4wMzEgNS4xMjUgMCAyLjgxNi0yLjI2MiA1LjA5My01LjAzMSA1LjA5My0yLjc4\n",
    "IDAtNS4wMzEtMi4yNzctNS4wMzEtNS4wOTMgMC0yLjgyNyAyLjI1MS01LjEyNSA1LjAzLTUuMTI1\n",
    "IiBzdHlsZT0iZmlsbDp1cmwoI2QpO2ZpbGwtb3BhY2l0eToxIi8+PHBhdGggZD0iTTg1LjYzOCAy\n",
    "OC42NTd2MTEuOTA2YzAgOS4yMzEtNy44MjYgMTctMTYuNzUgMTdINDIuMTA2Yy03LjMzNiAwLTEz\n",
    "LjQwNiA2LjI3OS0xMy40MDYgMTMuNjI1Vjk2LjcyYzAgNy4yNjYgNi4zMTkgMTEuNTQgMTMuNDA2\n",
    "IDEzLjYyNSA4LjQ4OCAyLjQ5NSAxNi42MjcgMi45NDYgMjYuNzgyIDAgNi43NS0xLjk1NSAxMy40\n",
    "MDYtNS44ODggMTMuNDA2LTEzLjYyNVY4Ni41SDU1LjUxM3YtMy40MDVIOTUuN2M3Ljc5MyAwIDEw\n",
    "LjY5Ni01LjQzNiAxMy40MDYtMTMuNTk0IDIuOC04LjM5OSAyLjY4LTE2LjQ3NiAwLTI3LjI1LTEu\n",
    "OTI1LTcuNzU4LTUuNjA0LTEzLjU5NC0xMy40MDYtMTMuNTk0ek03MC41NzUgOTMuMzEzYzIuNzgg\n",
    "MCA1LjAzMSAyLjI3OCA1LjAzMSA1LjA5NCAwIDIuODI3LTIuMjUxIDUuMTI1LTUuMDMxIDUuMTI1\n",
    "LTIuNzcgMC01LjAzMS0yLjI5OC01LjAzMS01LjEyNSAwLTIuODE2IDIuMjYxLTUuMDk0IDUuMDMx\n",
    "LTUuMDk0IiBzdHlsZT0iZmlsbDp1cmwoI2UpO2ZpbGwtb3BhY2l0eToxIi8+PGVsbGlwc2UgY3g9\n",
    "IjU1LjgxNyIgY3k9IjEyNy43MDEiIHJ4PSIzNS45MzEiIHJ5PSI2Ljk2NyIgc3R5bGU9Im9wYWNp\n",
    "dHk6LjQ0MzgyO2ZpbGw6dXJsKCNmKTtmaWxsLW9wYWNpdHk6MTtmaWxsLXJ1bGU6bm9uemVybztz\n",
    "dHJva2U6bm9uZTtzdHJva2Utd2lkdGg6MTUuNDE3NDtzdHJva2UtbWl0ZXJsaW1pdDo0O3N0cm9r\n",
    "ZS1kYXNoYXJyYXk6bm9uZTtzdHJva2Utb3BhY2l0eToxIi8+PC9zdmc+\n",
    "\"\n",
    "     style=\"display:block;margin:auto;width:10%\" alt=\"Python Logo\"/>\n",
    "<br>\n",
    "\n",
    "<div style=\"text-align:center; font-size:200%;\">\n",
    " <b>CLI Apps mit Typer</b>\n",
    "</div>\n",
    "<br/>\n",
    "<div style=\"text-align:center;\">Dr. Matthias Hölzl</div>\n",
    "<br/>"
   ]
  },
  {
   "cell_type": "markdown",
   "id": "c8770debeddec2ea",
   "metadata": {
    "lang": "de",
    "slideshow": {
     "slide_type": "slide"
    },
    "tags": [
     "slide"
    ]
   },
   "source": [
    "\n",
    "## Was ist eine CLI App?\n",
    "\n",
    "- Eine **Kommandozeilen-App (CLI App)** ist ein Programm, mit dem wir\n",
    "  interagieren, indem wir Befehle in ein Terminal eingeben.\n",
    "- `python my_script.py` ist ein CLI-Befehl."
   ]
  },
  {
   "cell_type": "markdown",
   "id": "501a87919d2681b9",
   "metadata": {
    "lang": "de",
    "slideshow": {
     "slide_type": "subslide"
    },
    "tags": [
     "subslide"
    ]
   },
   "source": [
    "\n",
    "### Warum?\n",
    "\n",
    "- **Automatisierung:**\n",
    "  - CLIs sind einfach zu skripten und automatisieren.\n",
    "- **Effizienz:**\n",
    "  - Für viele Aufgaben schneller als das Klicken durch eine grafische\n",
    "  Benutzeroberfläche (GUI).\n",
    "- **Integration:**\n",
    "  - Sie sind die Bausteine größerer Entwicklungs- und Data-Science-Workflows.\n",
    "  - (Denken Sie an `git`, `python`, `pip`.)\n",
    "- **Entwicklungszeit:**\n",
    "  - Sie sind oft schneller zu schreiben und zu warten als GUIs."
   ]
  },
  {
   "cell_type": "markdown",
   "id": "966a37103cf3b7d2",
   "metadata": {
    "lang": "de",
    "slideshow": {
     "slide_type": "subslide"
    },
    "tags": [
     "subslide"
    ]
   },
   "source": [
    "\n",
    "## Einführung in `typer`\n",
    "\n",
    "`typer` ist eine moderne Python-Bibliothek zum Erstellen von CLIs.\n",
    "- **Einfach & Intuitiv:**\n",
    "  - Sie schreiben normale Python-Funktionen,\n",
    "  - `typer` verwandelt sie in eine robuste CLI.\n",
    "- **Typenbasiert:**\n",
    "  - `typer` verwendet Standard-Python-Typannotationen (`str`, `int`, `bool`),\n",
    "  um Benutzereingaben zu verarbeiten, zu validieren und zu konvertieren.\n",
    "- **Automatische Hilfe:**\n",
    "  - `typer` generiert automatisch schöne, hilfreiche Dokumentation für Ihre\n",
    "    Benutzer.\n",
    "  - `your_app --help`.\n",
    "- **Weniger Fehler:**\n",
    "  - `typer` reduziert Boilerplate-Code und häufige Fehler."
   ]
  },
  {
   "cell_type": "markdown",
   "id": "3ab7e46c38feb6f2",
   "metadata": {
    "lang": "de",
    "slideshow": {
     "slide_type": "subslide"
    },
    "tags": [
     "subslide"
    ]
   },
   "source": [
    "\n",
    "## Grundlegende Konzepte: Argumente vs. Optionen\n",
    "\n",
    "- **Argumente:**\n",
    "  - Erforderliche Eingaben, die in einer bestimmten Reihenfolge bereitgestellt\n",
    "    werden.\n",
    "- **Optionen:**\n",
    "  - Optionale Einstellungen, die das Verhalten des Programms ändern."
   ]
  },
  {
   "cell_type": "markdown",
   "id": "2b44738e6accd6bd",
   "metadata": {
    "lang": "de",
    "slideshow": {
     "slide_type": "subslide"
    },
    "tags": [
     "subslide"
    ]
   },
   "source": [
    "\n",
    "### Argumente\n",
    "\n",
    "- Sie sind **erforderliche** Eingaben.\n",
    "- Sie sind **positionell** (die Reihenfolge ist wichtig).\n",
    "- \"Substantive\", mit denen Ihr Programm arbeitet.\n",
    "- *Beispiel:*\n",
    "  - `copy source.txt destination.txt`\n",
    "  - `source.txt` und `destination.txt` sind Argumente."
   ]
  },
  {
   "cell_type": "markdown",
   "id": "622496c8bd3cf786",
   "metadata": {
    "lang": "de",
    "slideshow": {
     "slide_type": "subslide"
    },
    "tags": [
     "subslide"
    ]
   },
   "source": [
    "\n",
    "### Optionen (oder Flags)\n",
    "\n",
    "- Sie sind typischerweise **optional** und fungieren als Einstellungen.\n",
    "- Sie werden durch einen Namen identifiziert, wie `--verbose` oder `-v`.\n",
    "- Sie ändern das Verhalten des Programms.\n",
    "- *Beispiel:* In `ls -l --all` sind `-l` und `--all` Optionen."
   ]
  },
  {
   "cell_type": "markdown",
   "id": "2365f3287236edd4",
   "metadata": {
    "lang": "de",
    "lines_to_next_cell": 2,
    "slideshow": {
     "slide_type": "subslide"
    },
    "tags": [
     "subslide"
    ]
   },
   "source": [
    "\n",
    "## Die einfachste `typer` App: `typer.run()`\n",
    "\n",
    "- Für eine CLI mit einem einzigen Zweck ist `typer.run()` alles, was Sie\n",
    "  brauchen.\n",
    "- Es nimmt eine Funktion und verwandelt sie in eine CLI-Anwendung."
   ]
  },
  {
   "cell_type": "markdown",
   "id": "3faadba7d47ec879",
   "metadata": {
    "lang": "de",
    "lines_to_next_cell": 2,
    "slideshow": {
     "slide_type": "subslide"
    },
    "tags": [
     "subslide"
    ]
   },
   "source": [
    "\n",
    "Lassen Sie uns eine einfache \"Begrüßer\"-App erstellen.\n",
    "\n",
    "```python\n",
    "# greeter.py\n",
    "import typer\n",
    "\n",
    "def main(name: str):\n",
    "    \"\"\"\n",
    "    A simple program that greets NAME.\n",
    "    \"\"\"\n",
    "    print(f\"Hello, {name}!\")\n",
    "\n",
    "if __name__ == \"__main__\":\n",
    "    typer.run(main)\n",
    "```"
   ]
  },
  {
   "cell_type": "markdown",
   "id": "2ba077949a45bf95",
   "metadata": {
    "lang": "de",
    "slideshow": {
     "slide_type": "subslide"
    },
    "tags": [
     "subslide"
    ]
   },
   "source": [
    "\n",
    "### Wie führen wir das Programm aus?\n",
    "\n",
    "```shell\n",
    "$ python greeter.py Alice\n",
    "Hello, Alice!\n",
    "```"
   ]
  },
  {
   "cell_type": "markdown",
   "id": "81930367cecf744c",
   "metadata": {
    "lang": "de",
    "slideshow": {
     "slide_type": "subslide"
    },
    "tags": [
     "subslide"
    ]
   },
   "source": [
    "\n",
    "- `typer.run(main)` sagt `typer`, dass es unsere `main`-Funktion verwalten\n",
    "  soll.\n",
    "- Der Parameter `name` der Funktion wird automatisch zu einem\n",
    "  CLI-**Argument**.\n",
    "- `typer` verwendet den Typ-Hinweis (`str`), um zu wissen, dass das Argument\n",
    "  Text erwartet."
   ]
  },
  {
   "cell_type": "markdown",
   "id": "bb5c3a72843d02d1",
   "metadata": {
    "lang": "de",
    "slideshow": {
     "slide_type": "subslide"
    },
    "tags": [
     "subslide"
    ]
   },
   "source": [
    "\n",
    "## Defining Arguments & Options with `Annotated`\n",
    "\n",
    "- How do we give `typer` more details about a parameter, like a help message?\n",
    "- `typing.Annotated`.\n",
    "- Think of `Annotated` as a way to \"decorate\" or add extra information to a\n",
    "  type hint."
   ]
  },
  {
   "cell_type": "markdown",
   "id": "08d10bf9c0e91389",
   "metadata": {
    "lang": "de",
    "slideshow": {
     "slide_type": "subslide"
    },
    "tags": [
     "subslide"
    ]
   },
   "source": [
    "\n",
    "### Defining a Detailed Argument\n",
    "\n",
    "You wrap the type hint with `Annotated` and add a `typer.Argument` inside it.\n",
    "```python\n",
    "from typing import Annotated\n",
    "import typer\n",
    "\n",
    "def main(name: Annotated[str, typer.Argument(help=\"The name of the person to greet.\")]):\n",
    "    print(f\"Hello, {name}!\")\n",
    "\n",
    "if __name__ == \"__main__\":\n",
    "    typer.run(main)\n",
    "```\n",
    "Jetzt weiß `typer`, dass `name` ein **Argument** ist und zeigt den `help`-Text\n",
    "im Hilfemenü an."
   ]
  },
  {
   "cell_type": "markdown",
   "id": "b5b3846d224d8e1b",
   "metadata": {
    "lang": "de",
    "slideshow": {
     "slide_type": "subslide"
    },
    "tags": [
     "subslide"
    ]
   },
   "source": [
    "\n",
    "### Definieren einer Option\n",
    "\n",
    "- Das gleiche Muster, aber mit `typer.Option`.\n",
    "- Option, um die Anzahl der Wiederholungen zu steuern."
   ]
  },
  {
   "cell_type": "markdown",
   "id": "1b1b5909f001db68",
   "metadata": {},
   "source": [
    "\n",
    "```python\n",
    "from typing import Annotated\n",
    "import typer\n",
    "\n",
    "def main(\n",
    "    name: Annotated[str, typer.Argument(help=\"Who to greet.\")],\n",
    "    repeat: Annotated[int, typer.Option(help=\"Number of times to repeat the greeting.\")] = 1,\n",
    "):\n",
    "    for i in range(repeat):\n",
    "        print(f\"Hello, {name}!\")\n",
    "\n",
    "if __name__ == \"__main__\":\n",
    "    typer.run(main)\n",
    "```"
   ]
  },
  {
   "cell_type": "markdown",
   "id": "eabc40419aa2caa0",
   "metadata": {
    "lang": "de",
    "slideshow": {
     "slide_type": "subslide"
    },
    "tags": [
     "subslide"
    ]
   },
   "source": [
    "\n",
    "### Wie führen wir das Programm aus?\n",
    "\n",
    "```fshell\n",
    "# Die Option wird durch ihren Namen identifiziert\n",
    "$ python greeter.py Bob --repeat 3\n",
    "Hello, Bob!\n",
    "Hello, Bob!\n",
    "Hello, Bob!\n",
    "```"
   ]
  },
  {
   "cell_type": "markdown",
   "id": "f413c6f79ec9c88e",
   "metadata": {
    "lang": "de",
    "slideshow": {
     "slide_type": "subslide"
    },
    "tags": [
     "subslide"
    ]
   },
   "source": [
    "\n",
    "- `typer.Option` sagt `typer`, dass es sich um eine **Option** handelt.\n",
    "  - Da wir einen Standardwert (`= 1`) angegeben haben, ist sie optional.\n",
    "- `typer` konvertiert die Eingabe \"3\" automatisch nach `int`, weil wir einen\n",
    "  Typ-Hint angegeben haben."
   ]
  },
  {
   "cell_type": "markdown",
   "id": "83bd78b8e383cd69",
   "metadata": {
    "lang": "de",
    "slideshow": {
     "slide_type": "subslide"
    },
    "tags": [
     "subslide"
    ]
   },
   "source": [
    "\n",
    "## Multi-Command Apps with `typer.Typer`\n",
    "\n",
    "- Was, wenn Ihre App mehrere Befehle benötigt?\n",
    "  - z.B.ein Taschenrechner mit `add` und `subtract`?\n",
    "- Sie verwenden ein `typer.Typer`-Objekt, um sie zu verwalten."
   ]
  },
  {
   "cell_type": "markdown",
   "id": "d4b1a8b81c28cc86",
   "metadata": {
    "lang": "de",
    "slideshow": {
     "slide_type": "subslide"
    },
    "tags": [
     "subslide"
    ]
   },
   "source": [
    "\n",
    "### Das 3-Schritte-Muster\n",
    "\n",
    "1. **Erstellen Sie eine App-Instanz:**\n",
    "   ```python\n",
    "   app = typer.Typer(help=\"A simple calculator app.\")\n",
    "   ```"
   ]
  },
  {
   "cell_type": "markdown",
   "id": "9617162e21f212bd",
   "metadata": {
    "lang": "de",
    "slideshow": {
     "slide_type": "subslide"
    },
    "tags": [
     "subslide"
    ]
   },
   "source": [
    "\n",
    "2. **Definieren Sie Befehle mit einem Dekorator:**\n",
    "\n",
    "Verwenden Sie den `@app.command()`-Dekorator für jede Funktion, die ein Befehl\n",
    "sein soll.\n",
    "\n",
    "   ```python\n",
    "   @app.command()\n",
    "   def add(a: int, b: int):\n",
    "       \"\"\"Add two numbers.\"\"\"\n",
    "       print(f\"The sum is: {a + b}\")\n",
    "\n",
    "   @app.command()\n",
    "   def subtract(a: int, b: int):\n",
    "       \"\"\"Subtract second number from the first.\"\"\"\n",
    "       print(f\"The result is: {a - b}\")\n",
    "   ```"
   ]
  },
  {
   "cell_type": "markdown",
   "id": "dcfcd167a72337a1",
   "metadata": {
    "lang": "de",
    "slideshow": {
     "slide_type": "subslide"
    },
    "tags": [
     "subslide"
    ]
   },
   "source": [
    "\n",
    "3. **Führen Sie die `app()`-Funktion aus:**\n",
    "   ```python\n",
    "   if __name__ == \"__main__\":\n",
    "       app()\n",
    "   ```"
   ]
  },
  {
   "cell_type": "markdown",
   "id": "43ba42de301403c0",
   "metadata": {
    "lang": "de",
    "slideshow": {
     "slide_type": "subslide"
    },
    "tags": [
     "subslide"
    ]
   },
   "source": [
    "\n",
    "### Wie führen wir das Programm aus?\n",
    "\n",
    "```shell\n",
    "$ python calculator.py add 5 3\n",
    "The sum is: 8\n",
    "\n",
    "$ python calculator.py subtract 10 4\n",
    "The result is: 6\n",
    "```"
   ]
  },
  {
   "cell_type": "markdown",
   "id": "45b8047ab515e85d",
   "metadata": {
    "lang": "de",
    "slideshow": {
     "slide_type": "subslide"
    },
    "tags": [
     "subslide"
    ]
   },
   "source": [
    "\n",
    "## Mehr zu Argumenten und Optionen\n",
    "\n",
    "`typer` bietet leistungsstarke Möglichkeiten, Argumente und Optionen zu\n",
    "definieren."
   ]
  },
  {
   "cell_type": "markdown",
   "id": "6783ea2fb1d8a042",
   "metadata": {
    "lang": "de",
    "slideshow": {
     "slide_type": "subslide"
    },
    "tags": [
     "subslide"
    ]
   },
   "source": [
    "\n",
    "### Optionen mit mehreren Werten\n",
    "\n",
    "Wenn Sie einen Parameter als `list` typisieren, können Sie ihn mehrmals\n",
    "angeben.\n",
    "```python\n",
    "from typing import List\n",
    "import typer\n",
    "@app.command()\n",
    "def process_tags(tag: List[str] = typer.Option(None, \"--tag\", help=\"A tag to process.\")):\n",
    "    if not tag:\n",
    "        print(\"No tags provided.\")\n",
    "    else:\n",
    "        print(f\"Processing tags: {tag}\")\n",
    "```\n",
    "\n",
    "Run with: `python my_app.py process-tags --tag important --tag urgent`"
   ]
  },
  {
   "cell_type": "markdown",
   "id": "666b609582412bc1",
   "metadata": {
    "lang": "de",
    "lines_to_next_cell": 2,
    "slideshow": {
     "slide_type": "subslide"
    },
    "tags": [
     "subslide"
    ]
   },
   "source": [
    "\n",
    "## Automatische Hilfe\n",
    "\n",
    "- Einer der größten Vorteile von `typer` ist das kostenlose Hilfemenü.\n",
    "- Basierend auf Ihrem Code generiert es alles für Sie.\n",
    "- Wenn Sie `python calculator.py --help` auf unserer Taschenrechner-App\n",
    "  ausführen, würde es Folgendes produzieren:\n",
    "\n",
    "```text\n",
    "Usage: calculator.py [OPTIONS] COMMAND [ARGS]...\n",
    "\n",
    "  A simple calculator app.\n",
    "\n",
    "Options:\n",
    "  --help  Show this message and exit.\n",
    "\n",
    "Commands:\n",
    "  add       Add two numbers.\n",
    "  subtract  Subtract second number from the first.\n",
    "```"
   ]
  },
  {
   "cell_type": "markdown",
   "id": "1e581a6933b07f70",
   "metadata": {
    "lang": "de",
    "slideshow": {
     "slide_type": "subslide"
    },
    "tags": [
     "subslide"
    ]
   },
   "source": [
    "\n",
    "- `typer` erstellt sogar Hilfemenüs für jeden Unterbefehl!\n",
    "- Wenn Sie `python calculator.py add --help` ausführen, zeigt es die Argumente\n",
    "  speziell für den `add`-Befehl an."
   ]
  },
  {
   "cell_type": "markdown",
   "id": "9e484377b91fabf9",
   "metadata": {
    "lang": "de",
    "slideshow": {
     "slide_type": "subslide"
    },
    "tags": [
     "subslide"
    ]
   },
   "source": [
    "\n",
    "## Zusammenfassung & Wichtige Erkenntnisse\n",
    "\n",
    "- `typer` macht es einfach, leistungsstarke und benutzerfreundliche CLIs zu\n",
    "  erstellen.\n",
    "- Verwenden Sie `typer.run(my_func)` für Skripte mit einem einzigen Befehl.\n",
    "- Verwenden Sie `app = typer.Typer()` und `@app.command()` für Apps mit\n",
    "  mehreren Befehlen.\n",
    "- Funktionsparameter werden zu **Argumenten** (erforderlich, positionell) oder\n",
    "  **Optionen** (optional, benannt).\n",
    "- Verwenden Sie `typing.Annotated` oder die `typer.Argument()` /\n",
    "  `typer.Option()` Defaults, um sie zu konfigurieren.\n",
    "- `typer` verwendet Ihre Typannotationen (`str`, `bool`, `int`), um die\n",
    "  Benutzereingaben automatisch zu verarbeiten.\n",
    "- Sie erhalten fantastische, automatisch generierte **Hilfemeldungen**\n",
    "  kostenlos!"
   ]
  },
  {
   "cell_type": "markdown",
   "id": "1f2e3078ad81b1fc",
   "metadata": {
    "lang": "de",
    "slideshow": {
     "slide_type": "subslide"
    },
    "tags": [
     "subslide"
    ]
   },
   "source": [
    "\n",
    "## Workshop: Kommandozeilen Apps mit `typer`\n",
    "\n",
    "- Erstellen Sie eine CLI-App, die TODO-Listen verwaltet.\n",
    "- Implementieren Sie Befehle zum Hinzufügen, Entfernen und Auflisten von\n",
    "  Aufgaben und zum Markieren von Aufgaben als erledigt.\n",
    "- Speichern Sie die Aufgaben in einer Datei, um sie zwischen den Sitzungen\n",
    "  zu behalten."
   ]
  }
 ],
 "metadata": {
  "jupytext": {
   "cell_metadata_filter": "lang,tags,-all",
   "main_language": "python",
   "notebook_metadata_filter": "-all"
  },
  "kernelspec": {
   "display_name": "Python 3 (ipykernel)",
   "language": "python",
   "name": "python3"
  },
  "language_info": {
   "codemirror_mode": {
    "name": "ipython",
    "version": 3
   },
   "file_extension": ".py",
   "mimetype": "text/x-python",
   "name": "python",
   "nbconvert_exporter": "python",
   "pygments_lexer": "ipython3"
  }
 },
 "nbformat": 4,
 "nbformat_minor": 5
}
