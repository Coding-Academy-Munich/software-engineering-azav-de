{
 "cells": [
  {
   "cell_type": "markdown",
   "id": "440bcceecc41cdcc",
   "metadata": {
    "lang": "de",
    "slideshow": {
     "slide_type": "slide"
    },
    "tags": [
     "slide"
    ]
   },
   "source": [
    "\n",
    "<img src=\"data:image/svg+xml;base64,PHN2ZyB4bWxucz0iaHR0cDovL3d3dy53My5vcmcvMjAwMC9zdmciIHhtbG5zOnhsaW5rPSJodHRw\n",
    "Oi8vd3d3LnczLm9yZy8xOTk5L3hsaW5rIiB3aWR0aD0iMTExLjE2MSIgaGVpZ2h0PSIxMzQuNjY4\n",
    "IiB2ZXJzaW9uPSIxLjAiPjxkZWZzPjxsaW5lYXJHcmFkaWVudCBpZD0iYyI+PHN0b3Agb2Zmc2V0\n",
    "PSIwIiBzdHlsZT0ic3RvcC1jb2xvcjojYjhiOGI4O3N0b3Atb3BhY2l0eTouNDk4MDM5MjIiLz48\n",
    "c3RvcCBvZmZzZXQ9IjEiIHN0eWxlPSJzdG9wLWNvbG9yOiM3ZjdmN2Y7c3RvcC1vcGFjaXR5OjAi\n",
    "Lz48L2xpbmVhckdyYWRpZW50PjxsaW5lYXJHcmFkaWVudCBpZD0iYSI+PHN0b3Agb2Zmc2V0PSIw\n",
    "IiBzdHlsZT0ic3RvcC1jb2xvcjojZmZkNDNiO3N0b3Atb3BhY2l0eToxIi8+PHN0b3Agb2Zmc2V0\n",
    "PSIxIiBzdHlsZT0ic3RvcC1jb2xvcjojZmZlODczO3N0b3Atb3BhY2l0eToxIi8+PC9saW5lYXJH\n",
    "cmFkaWVudD48bGluZWFyR3JhZGllbnQgaWQ9ImIiPjxzdG9wIG9mZnNldD0iMCIgc3R5bGU9InN0\n",
    "b3AtY29sb3I6IzVhOWZkNDtzdG9wLW9wYWNpdHk6MSIvPjxzdG9wIG9mZnNldD0iMSIgc3R5bGU9\n",
    "InN0b3AtY29sb3I6IzMwNjk5ODtzdG9wLW9wYWNpdHk6MSIvPjwvbGluZWFyR3JhZGllbnQ+PGxp\n",
    "bmVhckdyYWRpZW50IHhsaW5rOmhyZWY9IiNhIiBpZD0iZSIgeDE9IjE1MC45NjEiIHgyPSIxMTIu\n",
    "MDMxIiB5MT0iMTkyLjM1MiIgeTI9IjEzNy4yNzMiIGdyYWRpZW50VHJhbnNmb3JtPSJtYXRyaXgo\n",
    "LjU2MjU0IDAgMCAuNTY3OTcgLTE0Ljk5MSAtMTEuNzAyKSIgZ3JhZGllbnRVbml0cz0idXNlclNw\n",
    "YWNlT25Vc2UiLz48bGluZWFyR3JhZGllbnQgeGxpbms6aHJlZj0iI2IiIGlkPSJkIiB4MT0iMjYu\n",
    "NjQ5IiB4Mj0iMTM1LjY2NSIgeTE9IjIwLjYwNCIgeTI9IjExNC4zOTgiIGdyYWRpZW50VHJhbnNm\n",
    "b3JtPSJtYXRyaXgoLjU2MjU0IDAgMCAuNTY3OTcgLTE0Ljk5MSAtMTEuNzAyKSIgZ3JhZGllbnRV\n",
    "bml0cz0idXNlclNwYWNlT25Vc2UiLz48cmFkaWFsR3JhZGllbnQgeGxpbms6aHJlZj0iI2MiIGlk\n",
    "PSJmIiBjeD0iNjEuNTE5IiBjeT0iMTMyLjI4NiIgcj0iMjkuMDM3IiBmeD0iNjEuNTE5IiBmeT0i\n",
    "MTMyLjI4NiIgZ3JhZGllbnRUcmFuc2Zvcm09Im1hdHJpeCgwIC0uMjM5OTUgMS4wNTQ2NyAwIC04\n",
    "My43IDE0Mi40NjIpIiBncmFkaWVudFVuaXRzPSJ1c2VyU3BhY2VPblVzZSIvPjwvZGVmcz48cGF0\n",
    "aCBkPSJNNTQuOTE5IDBjLTQuNTg0LjAyMi04Ljk2MS40MTMtMTIuODEzIDEuMDk1QzMwLjc2IDMu\n",
    "MDk5IDI4LjcgNy4yOTUgMjguNyAxNS4wMzJ2MTAuMjE5aDI2LjgxM3YzLjQwNkgxOC42MzhjLTcu\n",
    "NzkzIDAtMTQuNjE2IDQuNjg0LTE2Ljc1IDEzLjU5NC0yLjQ2MiAxMC4yMTMtMi41NzEgMTYuNTg2\n",
    "IDAgMjcuMjUgMS45MDUgNy45MzggNi40NTcgMTMuNTk0IDE0LjI1IDEzLjU5NGg5LjIxOHYtMTIu\n",
    "MjVjMC04Ljg1IDcuNjU3LTE2LjY1NyAxNi43NS0xNi42NTdoMjYuNzgyYzcuNDU0IDAgMTMuNDA2\n",
    "LTYuMTM4IDEzLjQwNi0xMy42MjV2LTI1LjUzYzAtNy4yNjctNi4xMy0xMi43MjYtMTMuNDA2LTEz\n",
    "LjkzOEM2NC4yODIuMzI4IDU5LjUwMi0uMDIgNTQuOTE4IDBtLTE0LjUgOC4yMmMyLjc3IDAgNS4w\n",
    "MzEgMi4yOTggNS4wMzEgNS4xMjUgMCAyLjgxNi0yLjI2MiA1LjA5My01LjAzMSA1LjA5My0yLjc4\n",
    "IDAtNS4wMzEtMi4yNzctNS4wMzEtNS4wOTMgMC0yLjgyNyAyLjI1MS01LjEyNSA1LjAzLTUuMTI1\n",
    "IiBzdHlsZT0iZmlsbDp1cmwoI2QpO2ZpbGwtb3BhY2l0eToxIi8+PHBhdGggZD0iTTg1LjYzOCAy\n",
    "OC42NTd2MTEuOTA2YzAgOS4yMzEtNy44MjYgMTctMTYuNzUgMTdINDIuMTA2Yy03LjMzNiAwLTEz\n",
    "LjQwNiA2LjI3OS0xMy40MDYgMTMuNjI1Vjk2LjcyYzAgNy4yNjYgNi4zMTkgMTEuNTQgMTMuNDA2\n",
    "IDEzLjYyNSA4LjQ4OCAyLjQ5NSAxNi42MjcgMi45NDYgMjYuNzgyIDAgNi43NS0xLjk1NSAxMy40\n",
    "MDYtNS44ODggMTMuNDA2LTEzLjYyNVY4Ni41SDU1LjUxM3YtMy40MDVIOTUuN2M3Ljc5MyAwIDEw\n",
    "LjY5Ni01LjQzNiAxMy40MDYtMTMuNTk0IDIuOC04LjM5OSAyLjY4LTE2LjQ3NiAwLTI3LjI1LTEu\n",
    "OTI1LTcuNzU4LTUuNjA0LTEzLjU5NC0xMy40MDYtMTMuNTk0ek03MC41NzUgOTMuMzEzYzIuNzgg\n",
    "MCA1LjAzMSAyLjI3OCA1LjAzMSA1LjA5NCAwIDIuODI3LTIuMjUxIDUuMTI1LTUuMDMxIDUuMTI1\n",
    "LTIuNzcgMC01LjAzMS0yLjI5OC01LjAzMS01LjEyNSAwLTIuODE2IDIuMjYxLTUuMDk0IDUuMDMx\n",
    "LTUuMDk0IiBzdHlsZT0iZmlsbDp1cmwoI2UpO2ZpbGwtb3BhY2l0eToxIi8+PGVsbGlwc2UgY3g9\n",
    "IjU1LjgxNyIgY3k9IjEyNy43MDEiIHJ4PSIzNS45MzEiIHJ5PSI2Ljk2NyIgc3R5bGU9Im9wYWNp\n",
    "dHk6LjQ0MzgyO2ZpbGw6dXJsKCNmKTtmaWxsLW9wYWNpdHk6MTtmaWxsLXJ1bGU6bm9uemVybztz\n",
    "dHJva2U6bm9uZTtzdHJva2Utd2lkdGg6MTUuNDE3NDtzdHJva2UtbWl0ZXJsaW1pdDo0O3N0cm9r\n",
    "ZS1kYXNoYXJyYXk6bm9uZTtzdHJva2Utb3BhY2l0eToxIi8+PC9zdmc+\n",
    "\"\n",
    "     style=\"display:block;margin:auto;width:10%\" alt=\"Python Logo\"/>\n",
    "<br>\n",
    "\n",
    "<div style=\"text-align:center; font-size:200%;\">\n",
    " <b>Vererbung</b>\n",
    "</div>\n",
    "<br/>\n",
    "<div style=\"text-align:center;\">Dr. Matthias Hölzl</div>\n",
    "<br/>"
   ]
  },
  {
   "cell_type": "markdown",
   "id": "b9dfa15c098ef52b",
   "metadata": {
    "lang": "de",
    "slideshow": {
     "slide_type": "slide"
    },
    "tags": [
     "slide"
    ]
   },
   "source": [
    "\n",
    " ## Vererbung\n",
    "\n",
    "Wir haben folgende Klasse implementiert:"
   ]
  },
  {
   "cell_type": "code",
   "execution_count": null,
   "id": "06ef688472b56120",
   "metadata": {
    "tags": [
     "keep"
    ]
   },
   "outputs": [],
   "source": [
    "import random"
   ]
  },
  {
   "cell_type": "code",
   "execution_count": null,
   "id": "54263d9819df3cd9",
   "metadata": {
    "tags": [
     "keep"
    ]
   },
   "outputs": [],
   "source": [
    "class Point:\n",
    "    def __init__(self, x=0, y=0):\n",
    "        self.x = x\n",
    "        self.y = y\n",
    "\n",
    "    def __repr__(self):\n",
    "        return f\"Point({self.x:.1f}, {self.y:.1f})\"\n",
    "\n",
    "    def move(self, dx=0, dy=0):\n",
    "        self.x += dx\n",
    "        self.y += dy\n",
    "\n",
    "    def randomize(self):\n",
    "        self.x = random.gauss(2, 0.5)\n",
    "        self.y = random.gauss(3, 0.5)"
   ]
  },
  {
   "cell_type": "code",
   "execution_count": null,
   "id": "80fb11d26388fb9d",
   "metadata": {
    "slideshow": {
     "slide_type": "subslide"
    },
    "tags": [
     "subslide",
     "keep"
    ]
   },
   "outputs": [],
   "source": [
    "p = Point(1, 1)\n",
    "p"
   ]
  },
  {
   "cell_type": "code",
   "execution_count": null,
   "id": "2b831cdcbaba5d75",
   "metadata": {
    "tags": [
     "keep"
    ]
   },
   "outputs": [],
   "source": [
    "p.move(2, 3)\n",
    "p"
   ]
  },
  {
   "cell_type": "code",
   "execution_count": null,
   "id": "b35625ea74222f00",
   "metadata": {
    "lines_to_next_cell": 2,
    "tags": [
     "keep"
    ]
   },
   "outputs": [],
   "source": [
    "p.randomize()\n",
    "p"
   ]
  },
  {
   "cell_type": "markdown",
   "id": "51846097971c852c",
   "metadata": {
    "lang": "de",
    "slideshow": {
     "slide_type": "slide"
    },
    "tags": [
     "slide"
    ]
   },
   "source": [
    "\n",
    "Wie können wir farbige Punkte einführen, ohne die komplette Funktionalität\n",
    "von `Point` neu implementieren zu müssen?"
   ]
  },
  {
   "cell_type": "code",
   "execution_count": null,
   "id": "59cd7a00b5eda0a8",
   "metadata": {},
   "outputs": [],
   "source": [
    "class ColorPoint(Point):\n",
    "    def __init__(self, x=0, y=0, color=\"black\"):\n",
    "        super().__init__(x, y)\n",
    "        self.color = color\n",
    "\n",
    "    def __repr__(self):\n",
    "        return f\"ColorPoint({self.x:.1f}, {self.y:.1f}, {self.color!r})\"\n",
    "\n",
    "    def randomize(self):\n",
    "        super().randomize()\n",
    "        self.color = random.choice([\"black\", \"red\", \"green\", \"blue\", \"yellow\", \"white\"])"
   ]
  },
  {
   "cell_type": "code",
   "execution_count": null,
   "id": "16fbf496dacb605e",
   "metadata": {
    "lines_to_next_cell": 2,
    "slideshow": {
     "slide_type": "subslide"
    },
    "tags": [
     "subslide",
     "keep"
    ]
   },
   "outputs": [],
   "source": [
    "cp = ColorPoint(2, 3)\n",
    "assert isinstance(cp, Point)\n",
    "cp"
   ]
  },
  {
   "cell_type": "code",
   "execution_count": null,
   "id": "3136de15a2af5731",
   "metadata": {
    "tags": [
     "keep"
    ]
   },
   "outputs": [],
   "source": [
    "assert cp.x == 2.0\n",
    "assert cp.y == 3.0\n",
    "assert cp.color == \"black\""
   ]
  },
  {
   "cell_type": "code",
   "execution_count": null,
   "id": "b339fc446c033783",
   "metadata": {
    "tags": [
     "keep"
    ]
   },
   "outputs": [],
   "source": [
    "cp.color = \"red\""
   ]
  },
  {
   "cell_type": "code",
   "execution_count": null,
   "id": "6abda88be503c871",
   "metadata": {
    "tags": [
     "keep"
    ]
   },
   "outputs": [],
   "source": [
    "assert cp.x == 2.0\n",
    "assert cp.y == 3.0\n",
    "assert cp.color == \"red\""
   ]
  },
  {
   "cell_type": "code",
   "execution_count": null,
   "id": "42d8b83f244b9172",
   "metadata": {
    "lines_to_next_cell": 2,
    "slideshow": {
     "slide_type": "subslide"
    },
    "tags": [
     "keep",
     "subslide"
    ]
   },
   "outputs": [],
   "source": [
    "cp.move(2, 3)\n",
    "cp"
   ]
  },
  {
   "cell_type": "code",
   "execution_count": null,
   "id": "de8f0cee72c10532",
   "metadata": {
    "tags": [
     "keep"
    ]
   },
   "outputs": [],
   "source": [
    "assert cp.x == 4.0\n",
    "assert cp.y == 6.0\n",
    "assert cp.color == \"red\""
   ]
  },
  {
   "cell_type": "code",
   "execution_count": null,
   "id": "5210e58e6879ea02",
   "metadata": {
    "tags": [
     "keep"
    ]
   },
   "outputs": [],
   "source": [
    "cp.randomize()\n",
    "cp"
   ]
  },
  {
   "cell_type": "markdown",
   "id": "6b03b24cad4218c1",
   "metadata": {
    "lang": "de",
    "slideshow": {
     "slide_type": "slide"
    },
    "tags": [
     "slide"
    ]
   },
   "source": [
    "\n",
    "## Workshop: Mitarbeiter\n",
    "\n",
    "Im Folgenden soll eine Klassenhierarchie für Mitarbeiter einer Firma erstellt\n",
    "werden:\n",
    "\n",
    "- Mitarbeiter können entweder Arbeiter oder Manager sein\n",
    "- Jeder Mitarbeiter der Firma hat einen Namen, eine Personalnummer und ein\n",
    "  Grundgehalt\n",
    "- Für jeden Arbeiter werden die angefallenen Überstunden und der Stundenlohn\n",
    "  gespeichert.\n",
    "- Das Gehalt eines Arbeiters berechnet sich als das 13/12-fache des\n",
    "  Grundgehalts plus der Bezahlung für die Überstunden\n",
    "- Jeder Manager hat einen individuellen Bonus\n",
    "- Das Gehalt eines Managers berechnet sich als das 13/12-fache des\n",
    "  Grundgehalts plus Bonus"
   ]
  },
  {
   "cell_type": "markdown",
   "id": "85c46e9612bb4689",
   "metadata": {
    "lang": "de",
    "slideshow": {
     "slide_type": "subslide"
    },
    "tags": [
     "subslide"
    ]
   },
   "source": [
    "\n",
    "\n",
    "Implementieren Sie Python Klassen `Mitarbeiter`, `Arbeiter` und `Manager` mit\n",
    "geeigneten Attributen und einer Methode `gehalt()`, die das Gehalt berechnet.\n",
    "\n",
    "Implementieren Sie in der Klasse `Mitarbeiter` eine Version der `salary()`\n",
    "Methode, die das 13/12-fache des Grundgehalts zurückgibt. Überschreiben Sie in\n",
    "den Klassen `Arbeiter` und `Manager` die Methode `salary()`, um das Gehalt\n",
    "entsprechend der angegebenen Formeln zu berechnen. Verwenden Sie dazu die Methode\n",
    "`salary()` der Basisklasse `Mitarbeiter` mit `super()`."
   ]
  },
  {
   "cell_type": "code",
   "execution_count": null,
   "id": "3f5203df18900b5a",
   "metadata": {
    "lang": "de",
    "slideshow": {
     "slide_type": "subslide"
    },
    "tags": [
     "subslide"
    ]
   },
   "outputs": [],
   "source": [
    "from dataclasses import dataclass"
   ]
  },
  {
   "cell_type": "code",
   "execution_count": null,
   "id": "e5b35673ef23b97a",
   "metadata": {
    "lang": "de"
   },
   "outputs": [],
   "source": [
    "@dataclass\n",
    "class Mitarbeiter:\n",
    "    name: str\n",
    "    pers_nr: str\n",
    "    grundgehalt: float\n",
    "\n",
    "    def gehalt(self):\n",
    "        return 13 / 12 * self.grundgehalt"
   ]
  },
  {
   "cell_type": "code",
   "execution_count": null,
   "id": "8ffa9347befe806e",
   "metadata": {
    "lang": "de"
   },
   "outputs": [],
   "source": [
    "@dataclass\n",
    "class Arbeiter(Mitarbeiter):\n",
    "    überstunden: float = 0.0\n",
    "    stundensatz: float = 0.0\n",
    "\n",
    "    def gehalt(self):\n",
    "        return super().gehalt() + self.überstunden * self.stundensatz"
   ]
  },
  {
   "cell_type": "code",
   "execution_count": null,
   "id": "22c0128d63ab81bf",
   "metadata": {
    "lang": "de"
   },
   "outputs": [],
   "source": [
    "@dataclass\n",
    "class Manager(Mitarbeiter):\n",
    "    bonus: float\n",
    "\n",
    "    def gehalt(self):\n",
    "        return super().gehalt() + self.bonus"
   ]
  },
  {
   "cell_type": "markdown",
   "id": "66dc1567d95018ed",
   "metadata": {
    "lang": "de",
    "slideshow": {
     "slide_type": "subslide"
    },
    "tags": [
     "subslide"
    ]
   },
   "source": [
    "\n",
    "Erzeugen Sie einen Arbeiter mit Namen Hans, Personalnummer 123, einem\n",
    "Grundgehalt von  36000.0 Euro, der 3.5 Überstunden zu je 40.0 Euro gearbeit\n",
    "hat. Drucken Sie das Gehalt aus."
   ]
  },
  {
   "cell_type": "code",
   "execution_count": null,
   "id": "cd1b414165a7a779",
   "metadata": {
    "lang": "de"
   },
   "outputs": [],
   "source": [
    "a = Arbeiter(\"Hans\", \"123\", 36_000, 3.5, 40.0)\n",
    "print(a.gehalt())\n",
    "a"
   ]
  },
  {
   "cell_type": "markdown",
   "id": "e86725a16acf79b2",
   "metadata": {
    "lang": "de",
    "slideshow": {
     "slide_type": "subslide"
    },
    "tags": [
     "subslide"
    ]
   },
   "source": [
    "\n",
    "Schreiben sie Assertions, die die Funktionalität der Klasse `Arbeiter` testen."
   ]
  },
  {
   "cell_type": "code",
   "execution_count": null,
   "id": "5bc93bb374f62b2a",
   "metadata": {
    "lang": "de"
   },
   "outputs": [],
   "source": [
    "# Diese Assertions sind überflüssig!\n",
    "assert a.name == \"Hans\"\n",
    "assert a.pers_nr == \"123\"\n",
    "assert a.grundgehalt == 36_000\n",
    "assert a.überstunden == 3.5\n",
    "assert a.stundensatz == 40.0\n",
    "\n",
    "# Diese Assertion sollte vorhanden sein\n",
    "assert a.gehalt() == 39_140.0"
   ]
  },
  {
   "cell_type": "markdown",
   "id": "09854cd3fb48f14c",
   "metadata": {
    "lang": "de",
    "slideshow": {
     "slide_type": "subslide"
    },
    "tags": [
     "subslide"
    ]
   },
   "source": [
    "\n",
    "Erzeugen Sie einen Manager mit Namen Sepp, Personalnummer 843, der ein\n",
    "Grundgehalt von 60000.0 Euro und einen Bonus von 30000.0 Euro hat. Drucken Sie\n",
    "das Gehalt aus."
   ]
  },
  {
   "cell_type": "code",
   "execution_count": null,
   "id": "840950e6e3d07cea",
   "metadata": {
    "lang": "de"
   },
   "outputs": [],
   "source": [
    "m = Manager(\"Sepp\", \"843\", 60_000.0, 30_000.0)\n",
    "print(m.gehalt())\n",
    "m"
   ]
  },
  {
   "cell_type": "markdown",
   "id": "4f7545ac5aeca525",
   "metadata": {
    "lang": "de",
    "slideshow": {
     "slide_type": "subslide"
    },
    "tags": [
     "subslide"
    ]
   },
   "source": [
    "Testen Sie die Funktionalität der `Manager` Klasse."
   ]
  },
  {
   "cell_type": "code",
   "execution_count": null,
   "id": "4a8942a6fff205c0",
   "metadata": {
    "lang": "de"
   },
   "outputs": [],
   "source": [
    "assert m.gehalt() == 95_000.0"
   ]
  },
  {
   "cell_type": "markdown",
   "id": "211d091ecb9765f9",
   "metadata": {
    "lang": "de",
    "slideshow": {
     "slide_type": "subslide"
    },
    "tags": [
     "subslide",
     "alt"
    ]
   },
   "source": [
    "## Lösungsvorschlag ohne Dataclasses:"
   ]
  },
  {
   "cell_type": "code",
   "execution_count": null,
   "id": "560bc006a14831f2",
   "metadata": {
    "lang": "de",
    "slideshow": {
     "slide_type": "subslide"
    },
    "tags": [
     "alt",
     "subslide"
    ]
   },
   "outputs": [],
   "source": [
    "class Mitarbeiter:\n",
    "    def __init__(self, name, pers_nr, grundgehalt):\n",
    "        self.name = name\n",
    "        self.pers_nr = pers_nr\n",
    "        self.grundgehalt = grundgehalt\n",
    "\n",
    "    def gehalt(self):\n",
    "        return 13 / 12 * self.grundgehalt"
   ]
  },
  {
   "cell_type": "code",
   "execution_count": null,
   "id": "8a4cd4b3ff70c08f",
   "metadata": {
    "lang": "de",
    "slideshow": {
     "slide_type": "subslide"
    },
    "tags": [
     "alt",
     "subslide"
    ]
   },
   "outputs": [],
   "source": [
    "class Arbeiter(Mitarbeiter):\n",
    "    def __init__(self, name, pers_nr, grundgehalt, überstunden, stundensatz):\n",
    "        super().__init__(name, pers_nr, grundgehalt)\n",
    "        self.überstunden = überstunden\n",
    "        self.stundensatz = stundensatz\n",
    "\n",
    "    def __repr__(self):\n",
    "        return (\n",
    "            f\"Arbeiter({self.name!r}, {self.pers_nr!r}, {self.grundgehalt}, \"\n",
    "            f\"{self.überstunden}, {self.stundensatz})\"\n",
    "        )\n",
    "\n",
    "    def gehalt(self):\n",
    "        return super().gehalt() + self.überstunden * self.stundensatz"
   ]
  },
  {
   "cell_type": "code",
   "execution_count": null,
   "id": "abb0b9b81d28eee7",
   "metadata": {
    "lang": "de",
    "slideshow": {
     "slide_type": "subslide"
    },
    "tags": [
     "alt",
     "subslide"
    ]
   },
   "outputs": [],
   "source": [
    "class Manager(Mitarbeiter):\n",
    "    def __init__(self, name, pers_nr, grundgehalt, bonus):\n",
    "        super().__init__(name, pers_nr, grundgehalt)\n",
    "        self.bonus = bonus\n",
    "\n",
    "    def __repr__(self):\n",
    "        return (\n",
    "            f\"Manager({self.name!r}, {self.pers_nr!r}, {self.grundgehalt}, \"\n",
    "            f\"{self.bonus})\"\n",
    "        )\n",
    "\n",
    "    def gehalt(self):\n",
    "        return super().gehalt() + self.bonus"
   ]
  },
  {
   "cell_type": "code",
   "execution_count": null,
   "id": "b49ef6241added5f",
   "metadata": {
    "lang": "de",
    "slideshow": {
     "slide_type": "subslide"
    },
    "tags": [
     "alt",
     "subslide"
    ]
   },
   "outputs": [],
   "source": [
    "a = Arbeiter(\"Hans\", 123, 36_000, 3.5, 40)"
   ]
  },
  {
   "cell_type": "code",
   "execution_count": null,
   "id": "d38f80c6bf738781",
   "metadata": {
    "lang": "de",
    "lines_to_next_cell": 2,
    "tags": [
     "alt"
    ]
   },
   "outputs": [],
   "source": [
    "assert a.gehalt() == 39_140.0"
   ]
  },
  {
   "cell_type": "code",
   "execution_count": null,
   "id": "11f24777c938808a",
   "metadata": {
    "lang": "de",
    "tags": [
     "alt"
    ]
   },
   "outputs": [],
   "source": [
    "m = Manager(\"Sepp\", 843, 60_000, 30_000)"
   ]
  },
  {
   "cell_type": "code",
   "execution_count": null,
   "id": "038238ee49bf73d7",
   "metadata": {
    "lang": "de",
    "lines_to_next_cell": 2,
    "tags": [
     "alt"
    ]
   },
   "outputs": [],
   "source": [
    "assert m.gehalt() == 95_000.0"
   ]
  },
  {
   "cell_type": "markdown",
   "id": "be45bbf8268c5eec",
   "metadata": {
    "lang": "de",
    "slideshow": {
     "slide_type": "slide"
    },
    "tags": [
     "slide"
    ]
   },
   "source": [
    "\n",
    "## Workshop: Fahrzeuge\n",
    "\n",
    "In dieser Übung implementieren wir eine Hierarchie von Fahrzeugklassen.\n",
    "\n",
    "Erstellen Sie eine Basisklasse `Fahrzeug` mit den folgenden Attributen:\n",
    "- `hersteller` (string)\n",
    "- `modell` (string)\n",
    "- `baujahr` (int)\n",
    "- `maximale_geschwindigkeit` (float)\n",
    "- `aktuelle_geschwindigkeit` (float, Standardwert 0)"
   ]
  },
  {
   "cell_type": "markdown",
   "id": "252c0533130a50a0",
   "metadata": {
    "lang": "de",
    "slideshow": {
     "slide_type": "subslide"
    },
    "tags": [
     "subslide"
    ]
   },
   "source": [
    "\n",
    "Die Klasse `Fahrzeug` soll folgende Methoden haben:\n",
    "- `beschleunige(self, wert)`: Erhöht die `aktuelle_geschwindigkeit` um `wert`,\n",
    "  aber nicht über `maximale_geschwindigkeit`.\n",
    "- `bremse(self, wert)`: Verringert die `aktuelle_geschwindigkeit` um `wert`,\n",
    "  aber nicht unter 0.\n",
    "- `details(self)`: Gibt einen String mit den allgemeinen Fahrzeuginformationen\n",
    "  zurück."
   ]
  },
  {
   "cell_type": "markdown",
   "id": "2cf15558f1abdf81",
   "metadata": {
    "lang": "de",
    "slideshow": {
     "slide_type": "subslide"
    },
    "tags": [
     "subslide"
    ]
   },
   "source": [
    "\n",
    "Erstellen Sie eine abgeleitete Klasse `Auto`, die von `Fahrzeug` erbt.\n",
    "- Zusätzliche Attribute: `anzahl_tueren` (int), `kraftstoffart` (string, z.B.\n",
    "  \"Benzin\", \"Elektro\").\n",
    "- Überschreiben Sie `details(self)`, um autospezifische Informationen\n",
    "  (inklusive der Basisinformationen via `super()`) anzuzeigen.\n",
    "- Die `repr()`-Funktion, angewandt auf ein Auto-Objekt, soll eine lesbare\n",
    "  Darstellung des Objekts zurückgeben, die dem Konstruktoraufruf ähnelt."
   ]
  },
  {
   "cell_type": "markdown",
   "id": "9b311a2b147ae3d0",
   "metadata": {
    "lang": "de",
    "slideshow": {
     "slide_type": "subslide"
    },
    "tags": [
     "subslide"
    ]
   },
   "source": [
    "\n",
    "Erstellen Sie eine weitere abgeleitete Klasse `Fahrrad`, die von `Fahrzeug`\n",
    "erbt.\n",
    "- Zusätzliche Attribute: `anzahl_gaenge` (int), `rahmentyp` (string, z.B.\n",
    "  \"Mountainbike\", \"Rennrad\").\n",
    "- Überschreiben Sie `details(self)`, um fahrradspezifische Informationen\n",
    "  (inklusive der Basisinformationen via `super()`) anzuzeigen.\n",
    "- Fügen Sie eine Methode `klingle(self)` hinzu, die \"Klingeling!\" ausgibt.\n",
    "- Die `repr()`-Funktion, angewandt auf ein Fahrrad-Objekt, soll eine lesbare\n",
    "  Darstellung des Objekts zurückgeben, die dem Konstruktoraufruf ähnelt."
   ]
  },
  {
   "cell_type": "markdown",
   "id": "de83bd9e203f5ae0",
   "metadata": {
    "lang": "de",
    "lines_to_next_cell": 2,
    "slideshow": {
     "slide_type": "subslide"
    },
    "tags": [
     "subslide",
     "alt"
    ]
   },
   "source": [
    "\n",
    "### Lösungsvorschlag mit Dataclasses"
   ]
  },
  {
   "cell_type": "code",
   "execution_count": null,
   "id": "f4c35f14c8bcec81",
   "metadata": {
    "slideshow": {
     "slide_type": "subslide"
    },
    "tags": [
     "subslide"
    ]
   },
   "outputs": [],
   "source": [
    "from dataclasses import dataclass, field"
   ]
  },
  {
   "cell_type": "code",
   "execution_count": null,
   "id": "3a6d38ce098f7142",
   "metadata": {},
   "outputs": [],
   "source": [
    "def clamp(value, min_value, max_value):\n",
    "    return max(min(value, max_value), min_value)"
   ]
  },
  {
   "cell_type": "code",
   "execution_count": null,
   "id": "cc1998d929e44c56",
   "metadata": {
    "lang": "de"
   },
   "outputs": [],
   "source": [
    "@dataclass\n",
    "class Fahrzeug:\n",
    "    hersteller: str\n",
    "    modell: str\n",
    "    baujahr: int\n",
    "    maximale_geschwindigkeit: float\n",
    "    aktuelle_geschwindigkeit: float = field(default=0.0, repr=False)\n",
    "\n",
    "    def __post_init__(self):\n",
    "        self.aktuelle_geschwindigkeit = clamp(\n",
    "            self.aktuelle_geschwindigkeit, 0, self.maximale_geschwindigkeit\n",
    "        )\n",
    "\n",
    "    def beschleunige(self, wert: float):\n",
    "        if wert < 0:\n",
    "            raise ValueError(\"Beschleunigungswert muss positiv sein.\")\n",
    "        self.aktuelle_geschwindigkeit += wert\n",
    "        if self.aktuelle_geschwindigkeit > self.maximale_geschwindigkeit:\n",
    "            self.aktuelle_geschwindigkeit = self.maximale_geschwindigkeit\n",
    "\n",
    "    def bremse(self, wert: float):\n",
    "        if wert < 0:\n",
    "            raise ValueError(\"Bremswert muss positiv sein.\")\n",
    "        self.aktuelle_geschwindigkeit -= wert\n",
    "        if self.aktuelle_geschwindigkeit < 0:\n",
    "            self.aktuelle_geschwindigkeit = 0\n",
    "\n",
    "    def details(self) -> str:\n",
    "        return (\n",
    "            f\"{self.hersteller} {self.modell} ({self.baujahr}), \"\n",
    "            f\"Max Geschwindigkeit: {self.maximale_geschwindigkeit} km/h, \"\n",
    "            f\"Aktuelle Geschwindigkeit: {self.aktuelle_geschwindigkeit:.1f} km/h\"\n",
    "        )"
   ]
  },
  {
   "cell_type": "code",
   "execution_count": null,
   "id": "9a31a2367a7b6c73",
   "metadata": {
    "lang": "de"
   },
   "outputs": [],
   "source": [
    "@dataclass\n",
    "class Auto(Fahrzeug):\n",
    "    anzahl_tueren: int = 4\n",
    "    kraftstoffart: str = \"Benzin\"\n",
    "\n",
    "    def details(self) -> str:\n",
    "        basis_details = super().details()\n",
    "        return f\"{basis_details}, Türen: {self.anzahl_tueren}, Kraftstoff: {self.kraftstoffart}\""
   ]
  },
  {
   "cell_type": "code",
   "execution_count": null,
   "id": "cacd6f87e033abc0",
   "metadata": {
    "lang": "de"
   },
   "outputs": [],
   "source": [
    "@dataclass\n",
    "class Fahrrad(Fahrzeug):\n",
    "    anzahl_gaenge: int = 12\n",
    "    rahmentyp: str = \"Mountainbike\"\n",
    "\n",
    "    def details(self) -> str:\n",
    "        basis_details = super().details()\n",
    "        return f\"{basis_details}, Gänge: {self.anzahl_gaenge}, Rahmen: {self.rahmentyp}\"\n",
    "\n",
    "    def klingle(self):\n",
    "        print(\"Klingeling!\")"
   ]
  },
  {
   "cell_type": "markdown",
   "id": "79db0884f8cfd23c",
   "metadata": {
    "lang": "de",
    "slideshow": {
     "slide_type": "subslide"
    },
    "tags": [
     "subslide"
    ]
   },
   "source": [
    "Erzeugen Sie ein Auto-Objekt und testen Sie seine Methoden."
   ]
  },
  {
   "cell_type": "code",
   "execution_count": null,
   "id": "d8a6e78a8bc9de9a",
   "metadata": {
    "lang": "de",
    "lines_to_next_cell": 2
   },
   "outputs": [],
   "source": [
    "mein_auto = Auto(\"VW\", \"Golf\", 2021, 220.0, 0.0, 4, \"Benzin\")\n",
    "print(mein_auto.details())\n",
    "mein_auto.beschleunige(50)\n",
    "print(mein_auto.details())\n",
    "mein_auto.beschleunige(200)  # Versucht über Max Speed zu gehen\n",
    "print(mein_auto.details())\n",
    "mein_auto.bremse(100)\n",
    "print(mein_auto.details())\n",
    "mein_auto.bremse(200)  # Versucht unter 0 zu gehen\n",
    "print(mein_auto.details())"
   ]
  },
  {
   "cell_type": "markdown",
   "id": "2f2181ee6055a375",
   "metadata": {
    "lang": "de",
    "slideshow": {
     "slide_type": "subslide"
    },
    "tags": [
     "subslide"
    ]
   },
   "source": [
    "Erzeugen Sie ein Fahrrad-Objekt und testen Sie seine Methoden."
   ]
  },
  {
   "cell_type": "code",
   "execution_count": null,
   "id": "a7f4b90f25dc1d82",
   "metadata": {
    "lang": "de"
   },
   "outputs": [],
   "source": [
    "mein_fahrrad = Fahrrad(\"Cube\", \"Nature\", 2023, 35.0, 0.0, 24, \"Crossbike\")\n",
    "print(mein_fahrrad.details())\n",
    "mein_fahrrad.beschleunige(15)\n",
    "print(mein_fahrrad.details())\n",
    "mein_fahrrad.klingle()"
   ]
  },
  {
   "cell_type": "markdown",
   "id": "0702f818623a0bd5",
   "metadata": {
    "lang": "de",
    "slideshow": {
     "slide_type": "subslide"
    },
    "tags": [
     "alt",
     "subslide"
    ]
   },
   "source": [
    "### Lösungsvorschlag ohne Dataclasses"
   ]
  },
  {
   "cell_type": "code",
   "execution_count": null,
   "id": "574240785f4e3d3a",
   "metadata": {
    "lang": "de",
    "tags": [
     "alt"
    ]
   },
   "outputs": [],
   "source": [
    "class FahrzeugOhneDC:\n",
    "    def __init__(\n",
    "        self,\n",
    "        hersteller: str,\n",
    "        modell: str,\n",
    "        baujahr: int,\n",
    "        maximale_geschwindigkeit: float,\n",
    "        aktuelle_geschwindigkeit: float = 0.0,\n",
    "    ):\n",
    "        self.hersteller = hersteller\n",
    "        self.modell = modell\n",
    "        self.baujahr = baujahr\n",
    "        self.maximale_geschwindigkeit = maximale_geschwindigkeit\n",
    "        self.aktuelle_geschwindigkeit = clamp(\n",
    "            aktuelle_geschwindigkeit, 0, maximale_geschwindigkeit\n",
    "        )\n",
    "\n",
    "    def __repr__(self):\n",
    "        return (f\"FahrzeugOhneDC(hersteller={self.hersteller!r}, modell={self.modell!r}, \"\n",
    "                f\"baujahr={self.baujahr}, \"\n",
    "                f\"maximale_geschwindigkeit={self.maximale_geschwindigkeit})\")\n",
    "\n",
    "    def beschleunige(self, wert: float):\n",
    "        if wert < 0:\n",
    "            raise ValueError(\"Beschleunigungswert muss positiv sein.\")\n",
    "        self.aktuelle_geschwindigkeit += wert\n",
    "        if self.aktuelle_geschwindigkeit > self.maximale_geschwindigkeit:\n",
    "            self.aktuelle_geschwindigkeit = self.maximale_geschwindigkeit\n",
    "\n",
    "    def bremse(self, wert: float):\n",
    "        if wert < 0:\n",
    "            raise ValueError(\"Bremswert muss positiv sein.\")\n",
    "        self.aktuelle_geschwindigkeit -= wert\n",
    "        if self.aktuelle_geschwindigkeit < 0:\n",
    "            self.aktuelle_geschwindigkeit = 0\n",
    "\n",
    "    def details(self) -> str:\n",
    "        return (f\"{self.hersteller} {self.modell} ({self.baujahr}), \"\n",
    "                f\"Max Geschwindigkeit: {self.maximale_geschwindigkeit} km/h, \"\n",
    "                f\"Aktuelle Geschwindigkeit: {self.aktuelle_geschwindigkeit:.1f} km/h\")"
   ]
  },
  {
   "cell_type": "code",
   "execution_count": null,
   "id": "6f01b2ccfb0649db",
   "metadata": {
    "lang": "de",
    "tags": [
     "alt"
    ]
   },
   "outputs": [],
   "source": [
    "class AutoOhneDC(FahrzeugOhneDC):\n",
    "    def __init__(\n",
    "        self,\n",
    "        hersteller: str,\n",
    "        modell: str,\n",
    "        baujahr: int,\n",
    "        maximale_geschwindigkeit: float,\n",
    "        anzahl_tueren: int,\n",
    "        kraftstoffart: str,\n",
    "        aktuelle_geschwindigkeit: float = 0.0,\n",
    "    ):\n",
    "        super().__init__(\n",
    "            hersteller,\n",
    "            modell,\n",
    "            baujahr,\n",
    "            maximale_geschwindigkeit,\n",
    "            aktuelle_geschwindigkeit,\n",
    "        )\n",
    "        self.anzahl_tueren = anzahl_tueren\n",
    "        self.kraftstoffart = kraftstoffart\n",
    "\n",
    "    def __repr__(self):\n",
    "        return (\n",
    "            f\"AutoOhneDC(hersteller={self.hersteller!r}, modell={self.modell!r}, \"\n",
    "            f\"baujahr={self.baujahr}, \"\n",
    "            f\"maximale_geschwindigkeit={self.maximale_geschwindigkeit}, \"\n",
    "            f\"anzahl_tueren={self.anzahl_tueren}, kraftstoffart={self.kraftstoffart!r})\"\n",
    "        )\n",
    "\n",
    "    def details(self) -> str:\n",
    "        basis_details = super().details()\n",
    "        return (\n",
    "            f\"{basis_details}, Türen: {self.anzahl_tueren}, Kraftstoff: {self.kraftstoffart}\"\n",
    "        )"
   ]
  },
  {
   "cell_type": "code",
   "execution_count": null,
   "id": "d77dadf1a0c73501",
   "metadata": {
    "lang": "de",
    "tags": [
     "alt"
    ]
   },
   "outputs": [],
   "source": [
    "class FahrradOhneDC(FahrzeugOhneDC):\n",
    "    def __init__(\n",
    "        self,\n",
    "        hersteller: str,\n",
    "        modell: str,\n",
    "        baujahr: int,\n",
    "        maximale_geschwindigkeit: float,\n",
    "        anzahl_gaenge: int,\n",
    "        rahmentyp: str,\n",
    "        aktuelle_geschwindigkeit: float = 0.0,\n",
    "    ):\n",
    "        super().__init__(\n",
    "            hersteller,\n",
    "            modell,\n",
    "            baujahr,\n",
    "            maximale_geschwindigkeit,\n",
    "            aktuelle_geschwindigkeit,\n",
    "        )\n",
    "        self.anzahl_gaenge = anzahl_gaenge\n",
    "        self.rahmentyp = rahmentyp\n",
    "\n",
    "    def __repr__(self):\n",
    "        return (\n",
    "            f\"FahrradOhneDC(hersteller={self.hersteller!r}, modell={self.modell!r}, \"\n",
    "            f\"baujahr={self.baujahr}, \"\n",
    "            f\"maximale_geschwindigkeit={self.maximale_geschwindigkeit}, \"\n",
    "            f\"anzahl_gaenge={self.anzahl_gaenge}, rahmentyp={self.rahmentyp!r})\"\n",
    "        )\n",
    "\n",
    "    def details(self) -> str:\n",
    "        basis_details = super().details()\n",
    "        return f\"{basis_details}, Gänge: {self.anzahl_gaenge}, Rahmen: {self.rahmentyp}\"\n",
    "\n",
    "    def klingle(self):\n",
    "        print(\"Klingeling!\")"
   ]
  },
  {
   "cell_type": "code",
   "execution_count": null,
   "id": "93be42351982aea1",
   "metadata": {
    "lang": "de",
    "tags": [
     "alt"
    ]
   },
   "outputs": [],
   "source": [
    "mein_auto_ohne_dc = AutoOhneDC(\"BMW\", \"X5\", 2022, 250.0, 5, \"Diesel\")\n",
    "print(mein_auto_ohne_dc.details())\n",
    "mein_auto_ohne_dc.beschleunige(100)\n",
    "assert mein_auto_ohne_dc.aktuelle_geschwindigkeit == 100.0\n",
    "print(mein_auto_ohne_dc.details())"
   ]
  },
  {
   "cell_type": "code",
   "execution_count": null,
   "id": "0da0a0fb9cb875d8",
   "metadata": {
    "lang": "de",
    "tags": [
     "alt"
    ]
   },
   "outputs": [],
   "source": [
    "mein_fahrrad_ohne_dc = FahrradOhneDC(\"Scott\", \"Scale\", 2023, 30.0, 12, \"Mountainbike\")\n",
    "print(mein_fahrrad_ohne_dc.details())\n",
    "mein_fahrrad_ohne_dc.klingle()\n",
    "assert mein_fahrrad_ohne_dc.aktuelle_geschwindigkeit == 0.0"
   ]
  },
  {
   "cell_type": "markdown",
   "id": "01d57f31d57a6354",
   "metadata": {
    "lang": "de",
    "slideshow": {
     "slide_type": "slide"
    },
    "tags": [
     "slide"
    ]
   },
   "source": [
    "\n",
    "## Workshop: Geometrische Formen\n",
    "\n",
    "In dieser Übung implementieren wir eine Hierarchie von geometrischen Formen.\n",
    "\n",
    "- Erstellen Sie eine Basisklasse `Form` mit den folgenden Attributen:\n",
    "  - `farbe` (string)\n",
    "- Die Klasse `Form` soll folgende Methoden haben:\n",
    "  - `flaeche(self)`: Soll einen `NotImplementedError` auslösen, da die\n",
    "    Flächenberechnung formabhängig ist.\n",
    "  - `umfang(self)`: Soll einen `NotImplementedError` auslösen.\n",
    "  - `beschreibung(self)`: Gibt einen String mit Namen und Farbe der Form\n",
    "    zurück."
   ]
  },
  {
   "cell_type": "markdown",
   "id": "234979e10dca7a6b",
   "metadata": {
    "lang": "de",
    "slideshow": {
     "slide_type": "subslide"
    },
    "tags": [
     "subslide"
    ]
   },
   "source": [
    "\n",
    "- Erstellen Sie eine Klasse `Rechteck`, die von `Form` erbt.\n",
    "  - Zusätzliche Attribute: `breite` (float), `hoehe` (float).\n",
    "  - Implementieren Sie `flaeche(self)`: $breite \\times hoehe$.\n",
    "  - Implementieren Sie `umfang(self)`: $2 \\times (breite + hoehe)$.\n",
    "  - Überschreiben Sie `beschreibung(self)`, um zusätzlich Breite und Höhe\n",
    "    anzuzeigen.\n",
    "  - Die `repr()`-Funktion, angewandt auf ein Rechteck-Objekt, soll eine\n",
    "    lesbare Darstellung des Objekts zurückgeben, die dem Konstruktoraufruf\n",
    "    ähnelt."
   ]
  },
  {
   "cell_type": "markdown",
   "id": "029e7a734db84b32",
   "metadata": {
    "lang": "de",
    "slideshow": {
     "slide_type": "subslide"
    },
    "tags": [
     "subslide"
    ]
   },
   "source": [
    "\n",
    "- Erstellen Sie eine abgeleitete Klasse `Kreis`, die von `Form` erbt.\n",
    "  - Zusätzliche Attribute: `radius` (float).\n",
    "  - Implementieren Sie `flaeche(self)`: $\\pi \\times radius^2$. (Verwenden Sie\n",
    "    `math.pi`)\n",
    "  - Implementieren Sie `umfang(self)`: $2 \\times \\pi \\times radius$.\n",
    "  - Überschreiben Sie `beschreibung(self)`, um zusätzlich den Radius\n",
    "    anzuzeigen.\n",
    "  - Die `repr()`-Funktion, angewandt auf ein Kreis-Objekt, soll eine lesbare\n",
    "    Darstellung des Objekts zurückgeben, die dem Konstruktoraufruf ähnelt."
   ]
  },
  {
   "cell_type": "code",
   "execution_count": null,
   "id": "4d0716d422962495",
   "metadata": {
    "lines_to_next_cell": 2,
    "slideshow": {
     "slide_type": "subslide"
    },
    "tags": [
     "subslide",
     "keep"
    ]
   },
   "outputs": [],
   "source": [
    "import math"
   ]
  },
  {
   "cell_type": "markdown",
   "id": "ea8c03f485ebe65b",
   "metadata": {
    "lang": "de",
    "slideshow": {
     "slide_type": "subslide"
    },
    "tags": [
     "subslide",
     "alt"
    ]
   },
   "source": [
    "### Lösungsvorschlag mit Dataclasses"
   ]
  },
  {
   "cell_type": "code",
   "execution_count": null,
   "id": "a595062db8bae0a4",
   "metadata": {
    "lang": "de"
   },
   "outputs": [],
   "source": [
    "@dataclass\n",
    "class Form:\n",
    "    farbe: str\n",
    "\n",
    "    def flaeche(self) -> float:\n",
    "        raise NotImplementedError(\"Unterklassen müssen diese Methode implementieren\")\n",
    "\n",
    "    def umfang(self) -> float:\n",
    "        raise NotImplementedError(\"Unterklassen müssen diese Methode implementieren\")\n",
    "\n",
    "    def beschreibung(self) -> str:\n",
    "        return f\"Farbe: {self.farbe}\""
   ]
  },
  {
   "cell_type": "code",
   "execution_count": null,
   "id": "d6f979eaba8cbb7b",
   "metadata": {
    "lang": "de"
   },
   "outputs": [],
   "source": [
    "@dataclass\n",
    "class Rechteck(Form):\n",
    "    breite: float\n",
    "    hoehe: float\n",
    "\n",
    "    def __post_init__(self):\n",
    "        if self.breite <= 0 or self.hoehe <= 0:\n",
    "            raise ValueError(\"Breite und Höhe müssen positiv sein.\")\n",
    "\n",
    "    def flaeche(self) -> float:\n",
    "        return self.breite * self.hoehe\n",
    "\n",
    "    def umfang(self) -> float:\n",
    "        return 2 * (self.breite + self.hoehe)\n",
    "\n",
    "    def beschreibung(self) -> str:\n",
    "        basis_beschreibung = super().beschreibung()\n",
    "        return f\"Rechteck: {basis_beschreibung}, Breite: {self.breite}, Höhe: {self.hoehe}\""
   ]
  },
  {
   "cell_type": "code",
   "execution_count": null,
   "id": "e6f7cead05ff3efe",
   "metadata": {
    "lang": "de"
   },
   "outputs": [],
   "source": [
    "@dataclass\n",
    "class Kreis(Form):\n",
    "    radius: float\n",
    "\n",
    "    def __post_init__(self):\n",
    "        if self.radius <= 0:\n",
    "            raise ValueError(\"Radius muss positiv sein.\")\n",
    "\n",
    "    def flaeche(self) -> float:\n",
    "        return math.pi * self.radius**2\n",
    "\n",
    "    def umfang(self) -> float:\n",
    "        return 2 * math.pi * self.radius\n",
    "\n",
    "    def beschreibung(self) -> str:\n",
    "        basis_beschreibung = super().beschreibung()\n",
    "        return f\"Kreis: {basis_beschreibung}, Radius: {self.radius}\""
   ]
  },
  {
   "cell_type": "markdown",
   "id": "9897e687558d870b",
   "metadata": {
    "lang": "de",
    "slideshow": {
     "slide_type": "subslide"
    },
    "tags": [
     "subslide"
    ]
   },
   "source": [
    "Erzeugen Sie ein Rechteck-Objekt und testen Sie seine Methoden."
   ]
  },
  {
   "cell_type": "code",
   "execution_count": null,
   "id": "d8c5f2fe4db67775",
   "metadata": {
    "lang": "de"
   },
   "outputs": [],
   "source": [
    "mein_rechteck = Rechteck(\"Blau\", 10.0, 5.0)\n",
    "print(mein_rechteck.beschreibung())\n",
    "print(f\"Fläche: {mein_rechteck.flaeche():.2f}\")\n",
    "print(f\"Umfang: {mein_rechteck.umfang():.2f}\")"
   ]
  },
  {
   "cell_type": "markdown",
   "id": "3b4bf0c48dfd2612",
   "metadata": {
    "lang": "de",
    "slideshow": {
     "slide_type": "subslide"
    },
    "tags": [
     "subslide"
    ]
   },
   "source": [
    "Erzeugen Sie ein Kreis-Objekt und testen Sie seine Methoden."
   ]
  },
  {
   "cell_type": "code",
   "execution_count": null,
   "id": "80dd708ab37bcdb1",
   "metadata": {
    "lang": "de"
   },
   "outputs": [],
   "source": [
    "mein_kreis = Kreis(\"Rot\", 7.0)\n",
    "print(mein_kreis.beschreibung())\n",
    "print(f\"Fläche: {mein_kreis.flaeche():.2f}\")\n",
    "print(f\"Umfang: {mein_kreis.umfang():.2f}\")"
   ]
  },
  {
   "cell_type": "markdown",
   "id": "789cabebfd15e508",
   "metadata": {
    "lang": "de",
    "slideshow": {
     "slide_type": "subslide"
    },
    "tags": [
     "alt",
     "subslide"
    ]
   },
   "source": [
    "### Lösungsvorschlag ohne Dataclasses"
   ]
  },
  {
   "cell_type": "code",
   "execution_count": null,
   "id": "1fd42073a8af0598",
   "metadata": {
    "lang": "de",
    "tags": [
     "alt"
    ]
   },
   "outputs": [],
   "source": [
    "class FormOhneDC:\n",
    "    def __init__(self, farbe: str):\n",
    "        self.farbe = farbe\n",
    "\n",
    "    def __repr__(self):\n",
    "        return f\"FormOhneDC(farbe={self.farbe!r})\"\n",
    "\n",
    "    def flaeche(self) -> float:\n",
    "        raise NotImplementedError(\"Unterklassen müssen diese Methode implementieren\")\n",
    "\n",
    "    def umfang(self) -> float:\n",
    "        raise NotImplementedError(\"Unterklassen müssen diese Methode implementieren\")\n",
    "\n",
    "    def beschreibung(self) -> str:\n",
    "        return f\"Farbe: {self.farbe}\""
   ]
  },
  {
   "cell_type": "code",
   "execution_count": null,
   "id": "3c45ecc94cff7756",
   "metadata": {
    "lang": "de",
    "tags": [
     "alt"
    ]
   },
   "outputs": [],
   "source": [
    "class RechteckOhneDC(FormOhneDC):\n",
    "    def __init__(self, farbe: str, breite: float, hoehe: float):\n",
    "        super().__init__(farbe)\n",
    "        if breite <= 0 or hoehe <= 0:\n",
    "            raise ValueError(\"Breite und Höhe müssen positiv sein.\")\n",
    "        self.breite = breite\n",
    "        self.hoehe = hoehe\n",
    "\n",
    "    def __repr__(self):\n",
    "        return f\"RechteckOhneDC(farbe={self.farbe!r}, breite={self.breite}, hoehe={self.hoehe})\"\n",
    "\n",
    "    def flaeche(self) -> float:\n",
    "        return self.breite * self.hoehe\n",
    "\n",
    "    def umfang(self) -> float:\n",
    "        return 2 * (self.breite + self.hoehe)\n",
    "\n",
    "    def beschreibung(self) -> str:\n",
    "        basis_beschreibung = super().beschreibung()\n",
    "        return f\"Rechteck: {basis_beschreibung}, Breite: {self.breite}, Höhe: {self.hoehe}\""
   ]
  },
  {
   "cell_type": "code",
   "execution_count": null,
   "id": "3e16cdb085f3dac2",
   "metadata": {
    "lang": "de",
    "tags": [
     "alt"
    ]
   },
   "outputs": [],
   "source": [
    "class KreisOhneDC(FormOhneDC):\n",
    "    def __init__(self, farbe: str, radius: float):\n",
    "        super().__init__(farbe)\n",
    "        if radius <= 0:\n",
    "            raise ValueError(\"Radius muss positiv sein.\")\n",
    "        self.radius = radius\n",
    "\n",
    "    def __repr__(self):\n",
    "        return f\"KreisOhneDC(name={self.name!r}, farbe={self.farbe!r}, radius={self.radius})\"\n",
    "\n",
    "    def flaeche(self) -> float:\n",
    "        return math.pi * self.radius**2\n",
    "\n",
    "    def umfang(self) -> float:\n",
    "        return 2 * math.pi * self.radius\n",
    "\n",
    "    def beschreibung(self) -> str:\n",
    "        basis_beschreibung = super().beschreibung()\n",
    "        return f\"Kreis: {basis_beschreibung}, Radius: {self.radius}\""
   ]
  },
  {
   "cell_type": "code",
   "execution_count": null,
   "id": "ce792137dac89419",
   "metadata": {
    "lang": "de",
    "tags": [
     "alt"
    ]
   },
   "outputs": [],
   "source": [
    "rechteck_plain_de = RechteckOhneDC(\"Grün\", 3.0, 4.0)\n",
    "print(rechteck_plain_de.beschreibung())\n",
    "assert rechteck_plain_de.flaeche() == 12.0\n",
    "print(f\"Fläche: {rechteck_plain_de.flaeche()}, Umfang: {rechteck_plain_de.umfang()}\")\n",
    "\n",
    "kreis_plain_de = KreisOhneDC(\"Gelb\", 1.0)\n",
    "print(kreis_plain_de.beschreibung())\n",
    "assert kreis_plain_de.flaeche() == math.pi\n",
    "print(f\"Fläche: {kreis_plain_de.flaeche():.2f}, Umfang: {kreis_plain_de.umfang():.2f}\")"
   ]
  },
  {
   "cell_type": "markdown",
   "id": "c3ee9290c72f2b94",
   "metadata": {
    "lang": "de",
    "slideshow": {
     "slide_type": "slide"
    },
    "tags": [
     "slide"
    ]
   },
   "source": [
    "\n",
    "## Workshop: Bankkonten\n",
    "\n",
    "In dieser Übung implementieren wir eine Hierarchie von Bankkonten.\n",
    "\n",
    "- Erstellen Sie eine Basisklasse `BankKonto` mit den folgenden Attributen:\n",
    "  - `konto_nummer` (string)\n",
    "  - `saldo` (float)\n",
    "  - `konto_inhaber` (string)\n",
    "- Die Klasse `BankKonto` soll folgende Methoden haben:\n",
    "  - `zahle_ein(self, betrag)`: Erhöht den `saldo`. Betrag muss positiv sein.\n",
    "  - `hebe_ab(self, betrag)`: Verringert den `saldo`. Betrag muss positiv sein. Gibt `True` zurück bei Erfolg, `False` sonst (z.B. nicht genug Guthaben).\n",
    "  - `get_saldo(self)`: Gibt den aktuellen `saldo` zurück.\n",
    "  - `konto_info(self)`: Gibt einen String mit Kontoinformationen zurück."
   ]
  },
  {
   "cell_type": "markdown",
   "id": "ead7219bb79c255c",
   "metadata": {
    "lang": "de",
    "slideshow": {
     "slide_type": "subslide"
    },
    "tags": [
     "subslide"
    ]
   },
   "source": [
    "\n",
    "- Erstellen Sie eine abgeleitete Klasse `SparKonto`, die von `BankKonto` erbt.\n",
    "  - Zusätzliches Attribut: `zinssatz` (float, z.B. 0.02 für 2%).\n",
    "  - Fügen Sie eine Methode `addiere_zinsen(self)` hinzu, die Zinsen auf den\n",
    "    Saldo anrechnet ($saldo = saldo \\times (1 + zinssatz)$).\n",
    "  - Überschreiben Sie `hebe_ab(self, betrag)`: Ein Sparkonto könnte eine\n",
    "    Abhebegebühr oder ein Limit haben (für diese Übung: Gebühr von 1.50, wenn\n",
    "    Abhebung erfolgreich)."
   ]
  },
  {
   "cell_type": "markdown",
   "id": "ceb9f26e8d38818f",
   "metadata": {
    "lang": "de",
    "slideshow": {
     "slide_type": "subslide"
    },
    "tags": [
     "subslide"
    ]
   },
   "source": [
    "\n",
    "- Erstellen Sie eine abgeleitete Klasse `GiroKonto`, die von `BankKonto` erbt.\n",
    "  - Zusätzliches Attribut: `ueberziehungs_limit` (float).\n",
    "  - Überschreiben Sie `hebe_ab(self, betrag)`: Erlaubt Abhebungen bis zum\n",
    "    $saldo + ueberziehungs\\_limit$.\n",
    "  - Fügen Sie eine Methode `ziehe_monatliche_gebuehr_ab(self, gebuehr)` hinzu."
   ]
  },
  {
   "cell_type": "markdown",
   "id": "b2f619ace25267f2",
   "metadata": {
    "lang": "de",
    "slideshow": {
     "slide_type": "subslide"
    },
    "tags": [
     "subslide",
     "alt"
    ]
   },
   "source": [
    "### Lösungsvorschlag mit Dataclasses"
   ]
  },
  {
   "cell_type": "code",
   "execution_count": null,
   "id": "9d562a01edaca545",
   "metadata": {
    "lang": "de"
   },
   "outputs": [],
   "source": [
    "@dataclass\n",
    "class BankKonto:\n",
    "    konto_nummer: str\n",
    "    saldo: float\n",
    "    konto_inhaber: str\n",
    "\n",
    "    def __post_init__(self):\n",
    "        if self.saldo < 0:\n",
    "            raise ValueError(\"Anfangssaldo darf nicht negativ sein, es sei denn, es ist ein Girokonto mit Überziehung.\")\n",
    "\n",
    "    def zahle_ein(self, betrag: float):\n",
    "        if betrag <= 0:\n",
    "            raise ValueError(\"Einzahlungsbetrag muss positiv sein.\")\n",
    "        self.saldo += betrag\n",
    "        print(f\"{betrag:.2f} EUR eingezahlt. Neuer Saldo: {self.saldo:.2f} EUR.\")\n",
    "\n",
    "    def hebe_ab(self, betrag: float) -> bool:\n",
    "        if betrag <= 0:\n",
    "            raise ValueError(\"Abhebungsbetrag muss positiv sein.\")\n",
    "        if self.saldo >= betrag:\n",
    "            self.saldo -= betrag\n",
    "            print(f\"{betrag:.2f} EUR abgehoben. Neuer Saldo: {self.saldo:.2f} EUR.\")\n",
    "            return True\n",
    "        else:\n",
    "            print(\n",
    "                f\"Abhebung von {betrag:.2f} EUR fehlgeschlagen. Nicht genügend Guthaben.\"\n",
    "            )\n",
    "            return False\n",
    "\n",
    "    def get_saldo(self) -> float:\n",
    "        return self.saldo\n",
    "\n",
    "    def konto_info(self) -> str:\n",
    "        return f\"Kontonr: {self.konto_nummer}, Inhaber: {self.konto_inhaber}, Saldo: {self.saldo:.2f} EUR\""
   ]
  },
  {
   "cell_type": "code",
   "execution_count": null,
   "id": "83404ba1d8b12d8e",
   "metadata": {
    "lang": "de"
   },
   "outputs": [],
   "source": [
    "@dataclass\n",
    "class SparKonto(BankKonto):\n",
    "    zinssatz: float  # z.B. 0.02 für 2%\n",
    "    abhebegebuehr: float = 1.50\n",
    "\n",
    "    def addiere_zinsen(self):\n",
    "        zinsen = self.saldo * self.zinssatz\n",
    "        self.saldo += zinsen\n",
    "        print(\n",
    "            f\"Zinsen ({self.zinssatz*100:.2f}%) in Höhe von {zinsen:.2f} EUR angewendet. Neuer Saldo: {self.saldo:.2f} EUR.\"\n",
    "        )\n",
    "\n",
    "    def hebe_ab(self, betrag: float) -> bool:\n",
    "        if betrag <= 0:\n",
    "            raise ValueError(\"Abhebungsbetrag muss positiv sein.\")\n",
    "\n",
    "        gesamtkosten = betrag + self.abhebegebuehr\n",
    "        if self.saldo >= gesamtkosten:\n",
    "            self.saldo -= gesamtkosten\n",
    "            print(\n",
    "                f\"{betrag:.2f} EUR abgehoben (plus {self.abhebegebuehr:.2f} EUR Gebühr). Neuer Saldo: {self.saldo:.2f} EUR.\"\n",
    "            )\n",
    "            return True\n",
    "        else:\n",
    "            print(\n",
    "                f\"Abhebung von {betrag:.2f} EUR (plus Gebühr) fehlgeschlagen. Nicht genügend Guthaben für Betrag + Gebühr.\"\n",
    "            )\n",
    "            return False"
   ]
  },
  {
   "cell_type": "code",
   "execution_count": null,
   "id": "53e70b5cd487cf33",
   "metadata": {
    "lang": "de"
   },
   "outputs": [],
   "source": [
    "@dataclass\n",
    "class GiroKonto(BankKonto):\n",
    "    ueberziehungs_limit: float\n",
    "\n",
    "    def hebe_ab(self, betrag: float) -> bool:\n",
    "        if betrag <= 0:\n",
    "            raise ValueError(\"Abhebungsbetrag muss positiv sein.\")\n",
    "        if self.saldo + self.ueberziehungs_limit >= betrag:\n",
    "            self.saldo -= betrag\n",
    "            print(f\"{betrag:.2f} EUR abgehoben. Neuer Saldo: {self.saldo:.2f} EUR.\")\n",
    "            return True\n",
    "        else:\n",
    "            print(\n",
    "                f\"Abhebung von {betrag:.2f} EUR fehlgeschlagen. Überziehungslimit überschritten.\"\n",
    "            )\n",
    "            return False\n",
    "\n",
    "    def ziehe_monatliche_gebuehr_ab(self, gebuehr: float):\n",
    "        if gebuehr <= 0:\n",
    "            raise ValueError(\"Gebühr muss positiv sein.\")\n",
    "        self.saldo -= gebuehr\n",
    "        print(\n",
    "            f\"Monatliche Gebühr von {gebuehr:.2f} EUR abgebucht. Neuer Saldo: {self.saldo:.2f} EUR.\"\n",
    "        )"
   ]
  },
  {
   "cell_type": "markdown",
   "id": "72a3a1945397e57f",
   "metadata": {
    "lang": "de",
    "slideshow": {
     "slide_type": "subslide"
    },
    "tags": [
     "subslide"
    ]
   },
   "source": [
    "Erzeugen Sie ein Sparkonto-Objekt und testen Sie seine Methoden."
   ]
  },
  {
   "cell_type": "code",
   "execution_count": null,
   "id": "9b92b692c9e5ee93",
   "metadata": {
    "lang": "de"
   },
   "outputs": [],
   "source": [
    "mein_sparkonto = SparKonto(\"SK123\", 1000.0, \"Max Mustermann\", 0.025)\n",
    "print(mein_sparkonto.konto_info())\n",
    "mein_sparkonto.zahle_ein(500.0)\n",
    "mein_sparkonto.addiere_zinsen()\n",
    "print(mein_sparkonto.konto_info())\n",
    "mein_sparkonto.hebe_ab(200.0)  # Erfolgreich mit Gebühr\n",
    "print(mein_sparkonto.konto_info())\n",
    "mein_sparkonto.hebe_ab(1400.0)  # Sollte fehlschlagen"
   ]
  },
  {
   "cell_type": "markdown",
   "id": "2ff94dd63b4743d3",
   "metadata": {
    "lang": "de",
    "slideshow": {
     "slide_type": "subslide"
    },
    "tags": [
     "subslide"
    ]
   },
   "source": [
    "Erzeugen Sie ein Girokonto-Objekt und testen Sie seine Methoden."
   ]
  },
  {
   "cell_type": "code",
   "execution_count": null,
   "id": "b9d7dd5760df5b49",
   "metadata": {
    "lang": "de"
   },
   "outputs": [],
   "source": [
    "mein_girokonto = GiroKonto(\"GK789\", 200.0, \"Erika Mustermann\", 500.0)\n",
    "print(mein_girokonto.konto_info())\n",
    "mein_girokonto.zahle_ein(100.0)\n",
    "print(mein_girokonto.konto_info())\n",
    "mein_girokonto.hebe_ab(400.0)  # Geht in Überziehung\n",
    "print(mein_girokonto.konto_info())\n",
    "mein_girokonto.hebe_ab(500.0)  # Sollte fehlschlagen (Limit überschritten)\n",
    "mein_girokonto.ziehe_monatliche_gebuehr_ab(5.0)\n",
    "print(mein_girokonto.konto_info())"
   ]
  },
  {
   "cell_type": "markdown",
   "id": "9651e102d384f4cc",
   "metadata": {
    "lang": "de",
    "slideshow": {
     "slide_type": "subslide"
    },
    "tags": [
     "alt",
     "subslide"
    ]
   },
   "source": [
    "### Bankkonten-Lösung ohne Dataclasses"
   ]
  },
  {
   "cell_type": "code",
   "execution_count": null,
   "id": "180935ce7d7685cd",
   "metadata": {
    "lang": "de",
    "tags": [
     "alt"
    ]
   },
   "outputs": [],
   "source": [
    "class BankKontoOhneDC:\n",
    "    def __init__(self, konto_nummer: str, saldo: float, konto_inhaber: str):\n",
    "        self.konto_nummer = konto_nummer\n",
    "        self.saldo = saldo\n",
    "        self.konto_inhaber = konto_inhaber\n",
    "        if self.saldo < 0:\n",
    "            print(\n",
    "                f\"Warnung: Konto {self.konto_nummer} mit negativem Saldo initialisiert: {self.saldo}\"\n",
    "            )\n",
    "\n",
    "    def __repr__(self):\n",
    "        return f\"BankKontoOhneDC(konto_nummer={self.konto_nummer!r}, saldo={self.saldo}, inhaber={self.konto_inhaber!r})\"\n",
    "\n",
    "    def zahle_ein(self, betrag: float):\n",
    "        if betrag <= 0:\n",
    "            raise ValueError(\"Einzahlungsbetrag muss positiv sein.\")\n",
    "        self.saldo += betrag\n",
    "        print(f\"{betrag:.2f} EUR eingezahlt. Neuer Saldo: {self.saldo:.2f} EUR.\")\n",
    "\n",
    "    def hebe_ab(self, betrag: float) -> bool:\n",
    "        if betrag <= 0:\n",
    "            raise ValueError(\"Abhebungsbetrag muss positiv sein.\")\n",
    "        if self.saldo >= betrag:\n",
    "            self.saldo -= betrag\n",
    "            print(f\"{betrag:.2f} EUR abgehoben. Neuer Saldo: {self.saldo:.2f} EUR.\")\n",
    "            return True\n",
    "        else:\n",
    "            print(\n",
    "                f\"Abhebung von {betrag:.2f} EUR fehlgeschlagen. Nicht genügend Guthaben.\"\n",
    "            )\n",
    "            return False\n",
    "\n",
    "    def get_saldo(self) -> float:\n",
    "        return self.saldo\n",
    "\n",
    "    def konto_info(self) -> str:\n",
    "        return f\"Kontonr: {self.konto_nummer}, Inhaber: {self.konto_inhaber}, Saldo: {self.saldo:.2f} EUR\""
   ]
  },
  {
   "cell_type": "code",
   "execution_count": null,
   "id": "e9be253c4e5f2d3b",
   "metadata": {
    "lang": "de",
    "tags": [
     "alt"
    ]
   },
   "outputs": [],
   "source": [
    "class SparKontoOhneDC(BankKontoOhneDC):\n",
    "    abhebegebuehr: float = 1.50\n",
    "\n",
    "    def __init__(\n",
    "        self, konto_nummer: str, saldo: float, konto_inhaber: str, zinssatz: float\n",
    "    ):\n",
    "        super().__init__(konto_nummer, saldo, konto_inhaber)\n",
    "        self.zinssatz = zinssatz\n",
    "\n",
    "    def __repr__(self):\n",
    "        return f\"SparKontoOhneDC(konto_nummer={self.konto_nummer!r}, saldo={self.saldo}, inhaber={self.konto_inhaber!r}, zinssatz={self.zinssatz})\"\n",
    "\n",
    "    def addiere_zinsen(self):\n",
    "        zinsen = self.saldo * self.zinssatz\n",
    "        self.saldo += zinsen\n",
    "        print(\n",
    "            f\"Zinsen ({self.zinssatz*100:.2f}%) in Höhe von {zinsen:.2f} EUR angewendet. Neuer Saldo: {self.saldo:.2f} EUR.\"\n",
    "        )\n",
    "\n",
    "    def hebe_ab(self, betrag: float) -> bool:\n",
    "        if betrag <= 0:\n",
    "            raise ValueError(\"Abhebungsbetrag muss positiv sein.\")\n",
    "        gesamtkosten = betrag + self.abhebegebuehr\n",
    "        if self.saldo >= gesamtkosten:\n",
    "            self.saldo -= gesamtkosten\n",
    "            print(\n",
    "                f\"{betrag:.2f} EUR abgehoben (plus {self.abhebegebuehr:.2f} EUR Gebühr). Neuer Saldo: {self.saldo:.2f} EUR.\"\n",
    "            )\n",
    "            return True\n",
    "        else:\n",
    "            print(\n",
    "                f\"Abhebung von {betrag:.2f} EUR (plus Gebühr) fehlgeschlagen. Nicht genügend Guthaben für Betrag + Gebühr.\"\n",
    "            )\n",
    "            return False"
   ]
  },
  {
   "cell_type": "code",
   "execution_count": null,
   "id": "7da1ccbd6613c662",
   "metadata": {
    "lang": "de",
    "tags": [
     "alt"
    ]
   },
   "outputs": [],
   "source": [
    "class GiroKontoOhneDC(BankKontoOhneDC):\n",
    "    def __init__(\n",
    "        self,\n",
    "        konto_nummer: str,\n",
    "        saldo: float,\n",
    "        konto_inhaber: str,\n",
    "        ueberziehungs_limit: float,\n",
    "    ):\n",
    "        super().__init__(konto_nummer, saldo, konto_inhaber)\n",
    "        self.ueberziehungs_limit = ueberziehungs_limit\n",
    "\n",
    "    def __repr__(self):\n",
    "        return f\"GiroKontoOhneDC(konto_nummer={self.konto_nummer!r}, saldo={self.saldo}, inhaber={self.konto_inhaber!r}, limit={self.ueberziehungs_limit})\"\n",
    "\n",
    "    def hebe_ab(self, betrag: float) -> bool:\n",
    "        if betrag <= 0:\n",
    "            raise ValueError(\"Abhebungsbetrag muss positiv sein.\")\n",
    "        if self.saldo + self.ueberziehungs_limit >= betrag:\n",
    "            self.saldo -= betrag\n",
    "            print(f\"{betrag:.2f} EUR abgehoben. Neuer Saldo: {self.saldo:.2f} EUR.\")\n",
    "            return True\n",
    "        else:\n",
    "            print(\n",
    "                f\"Abhebung von {betrag:.2f} EUR fehlgeschlagen. Überziehungslimit überschritten.\"\n",
    "            )\n",
    "            return False\n",
    "\n",
    "    def ziehe_monatliche_gebuehr_ab(self, gebuehr: float):\n",
    "        if gebuehr <= 0:\n",
    "            raise ValueError(\"Gebühr muss positiv sein.\")\n",
    "        self.saldo -= gebuehr\n",
    "        print(\n",
    "            f\"Monatliche Gebühr von {gebuehr:.2f} EUR abgebucht. Neuer Saldo: {self.saldo:.2f} EUR.\"\n",
    "        )"
   ]
  },
  {
   "cell_type": "code",
   "execution_count": null,
   "id": "af40d4d39fd7ae3a",
   "metadata": {
    "lang": "de",
    "tags": [
     "alt"
    ]
   },
   "outputs": [],
   "source": [
    "sparkonto_plain_de = SparKontoOhneDC(\"SPPlain1\", 2000.0, \"Anna Alt\", 0.03)\n",
    "print(sparkonto_plain_de.konto_info())\n",
    "sparkonto_plain_de.addiere_zinsen()\n",
    "assert math.isclose(sparkonto_plain_de.saldo, 2060.0, rel_tol=1e-9)\n",
    "sparkonto_plain_de.hebe_ab(250.0)\n",
    "print(sparkonto_plain_de.konto_info())"
   ]
  },
  {
   "cell_type": "code",
   "execution_count": null,
   "id": "a15412573ef77879",
   "metadata": {
    "lang": "de",
    "tags": [
     "alt"
    ]
   },
   "outputs": [],
   "source": [
    "girokonto_plain_de = GiroKontoOhneDC(\"zahle_ein\", 100.0, \"Peter Alt\", 200.0)\n",
    "girokonto_plain_de.hebe_ab(250.0)  # Geht hebe_ab Überziehung\n",
    "print(girokonto_plain_de.konto_info())"
   ]
  },
  {
   "cell_type": "code",
   "execution_count": null,
   "id": "6b4e03423667dbb7",
   "metadata": {},
   "outputs": [],
   "source": []
  }
 ],
 "metadata": {
  "jupytext": {
   "cell_metadata_filter": "lang,tags,-all",
   "main_language": "python",
   "notebook_metadata_filter": "-all"
  },
  "kernelspec": {
   "display_name": "Python 3 (ipykernel)",
   "language": "python",
   "name": "python3"
  },
  "language_info": {
   "codemirror_mode": {
    "name": "ipython",
    "version": 3
   },
   "file_extension": ".py",
   "mimetype": "text/x-python",
   "name": "python",
   "nbconvert_exporter": "python",
   "pygments_lexer": "ipython3"
  }
 },
 "nbformat": 4,
 "nbformat_minor": 5
}
