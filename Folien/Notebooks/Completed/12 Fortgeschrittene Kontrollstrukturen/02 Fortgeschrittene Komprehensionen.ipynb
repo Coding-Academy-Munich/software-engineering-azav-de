{
 "cells": [
  {
   "cell_type": "markdown",
   "id": "ce3aa97c2ab2a833",
   "metadata": {
    "lang": "de",
    "slideshow": {
     "slide_type": "slide"
    },
    "tags": [
     "slide"
    ]
   },
   "source": [
    "\n",
    "<img src=\"data:image/svg+xml;base64,PHN2ZyB4bWxucz0iaHR0cDovL3d3dy53My5vcmcvMjAwMC9zdmciIHhtbG5zOnhsaW5rPSJodHRw\n",
    "Oi8vd3d3LnczLm9yZy8xOTk5L3hsaW5rIiB3aWR0aD0iMTExLjE2MSIgaGVpZ2h0PSIxMzQuNjY4\n",
    "IiB2ZXJzaW9uPSIxLjAiPjxkZWZzPjxsaW5lYXJHcmFkaWVudCBpZD0iYyI+PHN0b3Agb2Zmc2V0\n",
    "PSIwIiBzdHlsZT0ic3RvcC1jb2xvcjojYjhiOGI4O3N0b3Atb3BhY2l0eTouNDk4MDM5MjIiLz48\n",
    "c3RvcCBvZmZzZXQ9IjEiIHN0eWxlPSJzdG9wLWNvbG9yOiM3ZjdmN2Y7c3RvcC1vcGFjaXR5OjAi\n",
    "Lz48L2xpbmVhckdyYWRpZW50PjxsaW5lYXJHcmFkaWVudCBpZD0iYSI+PHN0b3Agb2Zmc2V0PSIw\n",
    "IiBzdHlsZT0ic3RvcC1jb2xvcjojZmZkNDNiO3N0b3Atb3BhY2l0eToxIi8+PHN0b3Agb2Zmc2V0\n",
    "PSIxIiBzdHlsZT0ic3RvcC1jb2xvcjojZmZlODczO3N0b3Atb3BhY2l0eToxIi8+PC9saW5lYXJH\n",
    "cmFkaWVudD48bGluZWFyR3JhZGllbnQgaWQ9ImIiPjxzdG9wIG9mZnNldD0iMCIgc3R5bGU9InN0\n",
    "b3AtY29sb3I6IzVhOWZkNDtzdG9wLW9wYWNpdHk6MSIvPjxzdG9wIG9mZnNldD0iMSIgc3R5bGU9\n",
    "InN0b3AtY29sb3I6IzMwNjk5ODtzdG9wLW9wYWNpdHk6MSIvPjwvbGluZWFyR3JhZGllbnQ+PGxp\n",
    "bmVhckdyYWRpZW50IHhsaW5rOmhyZWY9IiNhIiBpZD0iZSIgeDE9IjE1MC45NjEiIHgyPSIxMTIu\n",
    "MDMxIiB5MT0iMTkyLjM1MiIgeTI9IjEzNy4yNzMiIGdyYWRpZW50VHJhbnNmb3JtPSJtYXRyaXgo\n",
    "LjU2MjU0IDAgMCAuNTY3OTcgLTE0Ljk5MSAtMTEuNzAyKSIgZ3JhZGllbnRVbml0cz0idXNlclNw\n",
    "YWNlT25Vc2UiLz48bGluZWFyR3JhZGllbnQgeGxpbms6aHJlZj0iI2IiIGlkPSJkIiB4MT0iMjYu\n",
    "NjQ5IiB4Mj0iMTM1LjY2NSIgeTE9IjIwLjYwNCIgeTI9IjExNC4zOTgiIGdyYWRpZW50VHJhbnNm\n",
    "b3JtPSJtYXRyaXgoLjU2MjU0IDAgMCAuNTY3OTcgLTE0Ljk5MSAtMTEuNzAyKSIgZ3JhZGllbnRV\n",
    "bml0cz0idXNlclNwYWNlT25Vc2UiLz48cmFkaWFsR3JhZGllbnQgeGxpbms6aHJlZj0iI2MiIGlk\n",
    "PSJmIiBjeD0iNjEuNTE5IiBjeT0iMTMyLjI4NiIgcj0iMjkuMDM3IiBmeD0iNjEuNTE5IiBmeT0i\n",
    "MTMyLjI4NiIgZ3JhZGllbnRUcmFuc2Zvcm09Im1hdHJpeCgwIC0uMjM5OTUgMS4wNTQ2NyAwIC04\n",
    "My43IDE0Mi40NjIpIiBncmFkaWVudFVuaXRzPSJ1c2VyU3BhY2VPblVzZSIvPjwvZGVmcz48cGF0\n",
    "aCBkPSJNNTQuOTE5IDBjLTQuNTg0LjAyMi04Ljk2MS40MTMtMTIuODEzIDEuMDk1QzMwLjc2IDMu\n",
    "MDk5IDI4LjcgNy4yOTUgMjguNyAxNS4wMzJ2MTAuMjE5aDI2LjgxM3YzLjQwNkgxOC42MzhjLTcu\n",
    "NzkzIDAtMTQuNjE2IDQuNjg0LTE2Ljc1IDEzLjU5NC0yLjQ2MiAxMC4yMTMtMi41NzEgMTYuNTg2\n",
    "IDAgMjcuMjUgMS45MDUgNy45MzggNi40NTcgMTMuNTk0IDE0LjI1IDEzLjU5NGg5LjIxOHYtMTIu\n",
    "MjVjMC04Ljg1IDcuNjU3LTE2LjY1NyAxNi43NS0xNi42NTdoMjYuNzgyYzcuNDU0IDAgMTMuNDA2\n",
    "LTYuMTM4IDEzLjQwNi0xMy42MjV2LTI1LjUzYzAtNy4yNjctNi4xMy0xMi43MjYtMTMuNDA2LTEz\n",
    "LjkzOEM2NC4yODIuMzI4IDU5LjUwMi0uMDIgNTQuOTE4IDBtLTE0LjUgOC4yMmMyLjc3IDAgNS4w\n",
    "MzEgMi4yOTggNS4wMzEgNS4xMjUgMCAyLjgxNi0yLjI2MiA1LjA5My01LjAzMSA1LjA5My0yLjc4\n",
    "IDAtNS4wMzEtMi4yNzctNS4wMzEtNS4wOTMgMC0yLjgyNyAyLjI1MS01LjEyNSA1LjAzLTUuMTI1\n",
    "IiBzdHlsZT0iZmlsbDp1cmwoI2QpO2ZpbGwtb3BhY2l0eToxIi8+PHBhdGggZD0iTTg1LjYzOCAy\n",
    "OC42NTd2MTEuOTA2YzAgOS4yMzEtNy44MjYgMTctMTYuNzUgMTdINDIuMTA2Yy03LjMzNiAwLTEz\n",
    "LjQwNiA2LjI3OS0xMy40MDYgMTMuNjI1Vjk2LjcyYzAgNy4yNjYgNi4zMTkgMTEuNTQgMTMuNDA2\n",
    "IDEzLjYyNSA4LjQ4OCAyLjQ5NSAxNi42MjcgMi45NDYgMjYuNzgyIDAgNi43NS0xLjk1NSAxMy40\n",
    "MDYtNS44ODggMTMuNDA2LTEzLjYyNVY4Ni41SDU1LjUxM3YtMy40MDVIOTUuN2M3Ljc5MyAwIDEw\n",
    "LjY5Ni01LjQzNiAxMy40MDYtMTMuNTk0IDIuOC04LjM5OSAyLjY4LTE2LjQ3NiAwLTI3LjI1LTEu\n",
    "OTI1LTcuNzU4LTUuNjA0LTEzLjU5NC0xMy40MDYtMTMuNTk0ek03MC41NzUgOTMuMzEzYzIuNzgg\n",
    "MCA1LjAzMSAyLjI3OCA1LjAzMSA1LjA5NCAwIDIuODI3LTIuMjUxIDUuMTI1LTUuMDMxIDUuMTI1\n",
    "LTIuNzcgMC01LjAzMS0yLjI5OC01LjAzMS01LjEyNSAwLTIuODE2IDIuMjYxLTUuMDk0IDUuMDMx\n",
    "LTUuMDk0IiBzdHlsZT0iZmlsbDp1cmwoI2UpO2ZpbGwtb3BhY2l0eToxIi8+PGVsbGlwc2UgY3g9\n",
    "IjU1LjgxNyIgY3k9IjEyNy43MDEiIHJ4PSIzNS45MzEiIHJ5PSI2Ljk2NyIgc3R5bGU9Im9wYWNp\n",
    "dHk6LjQ0MzgyO2ZpbGw6dXJsKCNmKTtmaWxsLW9wYWNpdHk6MTtmaWxsLXJ1bGU6bm9uemVybztz\n",
    "dHJva2U6bm9uZTtzdHJva2Utd2lkdGg6MTUuNDE3NDtzdHJva2UtbWl0ZXJsaW1pdDo0O3N0cm9r\n",
    "ZS1kYXNoYXJyYXk6bm9uZTtzdHJva2Utb3BhY2l0eToxIi8+PC9zdmc+\n",
    "\"\n",
    "     style=\"display:block;margin:auto;width:10%\" alt=\"Python Logo\"/>\n",
    "<br>\n",
    "\n",
    "<div style=\"text-align:center; font-size:200%;\">\n",
    " <b>Fortgeschrittene Komprehensionen</b>\n",
    "</div>\n",
    "<br/>\n",
    "<div style=\"text-align:center;\">Dr. Matthias Hölzl</div>\n",
    "<br/>"
   ]
  },
  {
   "cell_type": "markdown",
   "id": "026d1da19b0ffea4",
   "metadata": {
    "lang": "de",
    "slideshow": {
     "slide_type": "subslide"
    },
    "tags": [
     "subslide"
    ]
   },
   "source": [
    "\n",
    "## Komplexere Iteration\n",
    "\n",
    "- Komplexere Iteration:\n",
    "  - Beliebige Kombinationen von `for`-Schleifen und `if`-Anweisungen\n",
    "  - Beispiel: Geschachtelte Schleifen"
   ]
  },
  {
   "cell_type": "code",
   "execution_count": null,
   "id": "3aa40ab0d9d89c4b",
   "metadata": {
    "lines_to_next_cell": 2,
    "slideshow": {
     "slide_type": "subslide"
    },
    "tags": [
     "subslide",
     "keep"
    ]
   },
   "outputs": [],
   "source": [
    "result = []\n",
    "for list_1 in [[1, 2], [\"a\", \"b\", \"c\"]]:\n",
    "    for item in list_1:\n",
    "        result.append(f\"Item {item} in {list_1}\")\n",
    "result"
   ]
  },
  {
   "cell_type": "code",
   "execution_count": null,
   "id": "026c63d144e2a04b",
   "metadata": {
    "lines_to_next_cell": 2
   },
   "outputs": [],
   "source": [
    "[f\"Item {item} in {list_1}\" for list_1 in [[1, 2], [\"a\", \"b\", \"c\"]] for item in list_1]"
   ]
  },
  {
   "cell_type": "markdown",
   "id": "b9d89b46b58e05a0",
   "metadata": {
    "lang": "de",
    "slideshow": {
     "slide_type": "subslide"
    },
    "tags": [
     "subslide"
    ]
   },
   "source": [
    "\n",
    "Beispiel: `for`-Schleifen mit `if`-Anweisung"
   ]
  },
  {
   "cell_type": "code",
   "execution_count": null,
   "id": "59a182612f739412",
   "metadata": {
    "tags": [
     "keep"
    ]
   },
   "outputs": [],
   "source": [
    "values = [1, ['a', 'b'], 3, 4, ['c', 'd', 'e']]"
   ]
  },
  {
   "cell_type": "code",
   "execution_count": null,
   "id": "5373c24fd1297ad8",
   "metadata": {},
   "outputs": [],
   "source": [
    "result = []\n",
    "for item in values:\n",
    "    if isinstance(item, list):\n",
    "        for subitem in item:\n",
    "            result.append(subitem.upper())\n",
    "result"
   ]
  },
  {
   "cell_type": "code",
   "execution_count": null,
   "id": "061f241d48183564",
   "metadata": {},
   "outputs": [],
   "source": [
    "[subitem.upper() for item in values if isinstance(item, list) for subitem in item]"
   ]
  },
  {
   "cell_type": "markdown",
   "id": "13514ef17cb9f773",
   "metadata": {
    "lang": "de",
    "slideshow": {
     "slide_type": "subslide"
    },
    "tags": [
     "subslide"
    ]
   },
   "source": [
    "\n",
    "### Hinweis\n",
    "\n",
    "- `else`- und `elif`-Anweisungen sind nicht vorgesehen\n",
    "- Es ist besser, komplexe Komprehensionen zu vermeiden"
   ]
  },
  {
   "cell_type": "markdown",
   "id": "c78a756bce5c3bb6",
   "metadata": {
    "lang": "de",
    "slideshow": {
     "slide_type": "subslide"
    },
    "tags": [
     "subslide"
    ]
   },
   "source": [
    "\n",
    "## Destrukturierung\n",
    "\n",
    "Wenn die Elemente in der Liste selber Tupel oder Listen sind und alle die\n",
    "gleiche Struktur haben, können Sie die Elemente auch destrukturieren:"
   ]
  },
  {
   "cell_type": "code",
   "execution_count": null,
   "id": "9dd08f79a66e52a8",
   "metadata": {
    "tags": [
     "keep"
    ]
   },
   "outputs": [],
   "source": [
    "# (Model, Production-Start, Production-End)\n",
    "cars = [\n",
    "    (\"Chevrolet Corvette C1\", 1953, 1962),\n",
    "    (\"Ford Mustang (First Generation)\", 1964, 1973),\n",
    "    (\"Volkswagen Beetle (Type 1 - Original)\", 1938, 2003),\n",
    "    (\"Porsche 911 (993 Generation - last air-cooled)\", 1994, 1998),\n",
    "    (\"Honda Civic (EK - Sixth Generation)\", 1995, 2000),\n",
    "    (\"Toyota Camry (XV20)\", 1996, 2001),\n",
    "    (\"BMW 3 Series (E30)\", 1982, 1991),\n",
    "    (\"Mercedes-Benz S-Class (W126)\", 1979, 1991),\n",
    "]"
   ]
  },
  {
   "cell_type": "code",
   "execution_count": null,
   "id": "23be8a93c72e2765",
   "metadata": {
    "slideshow": {
     "slide_type": "subslide"
    },
    "tags": [
     "subslide"
    ]
   },
   "outputs": [],
   "source": [
    "[f\"{model} ({start}-{end})\" for model, start, end in cars]"
   ]
  },
  {
   "cell_type": "code",
   "execution_count": null,
   "id": "aa41ad217a4ae812",
   "metadata": {
    "slideshow": {
     "slide_type": "subslide"
    },
    "tags": [
     "subslide"
    ]
   },
   "outputs": [],
   "source": [
    "[f\"{model} ({start}-{end})\" for model, start, end in cars if end - start > 10]"
   ]
  },
  {
   "cell_type": "code",
   "execution_count": null,
   "id": "9e62e6dffce9291c",
   "metadata": {},
   "outputs": [],
   "source": [
    "[f\"{model}\" for model, start, _ in cars if start < 1965]"
   ]
  },
  {
   "cell_type": "markdown",
   "id": "f6c06be03ec406f7",
   "metadata": {
    "slideshow": {
     "slide_type": "subslide"
    },
    "tags": [
     "subslide"
    ]
   },
   "source": [
    "\n",
    "## Workshop: Tupledatenbank\n",
    "\n",
    "Wir haben eine Tupeldatenbank mit den folgenden Einträgen:\n",
    "\n",
    "```python\n",
    "data = [\n",
    "    (\"Max\", \"Mustermann\", 1999, \"Musterstadt\"),\n",
    "    (\"John\", \"Doe\", 1995, \"New York\"),\n",
    "    (\"Jane\", \"Doe\", 1996, \"New York\"),\n",
    "    (\"Erika\", \"Mustermann\", 2002, \"Musterstadt\"),\n",
    "    (\"Franziska\", \"Musterfrau\", 2001, \"Musterstadt\"),\n",
    "    (\"Max\", \"Mustermann\", 1972, \"Musterstadt\"),\n",
    "    (\"Max\", \"Power\", 1972, \"Springfield\"),\n",
    "    (\"Peter\", \"Pan\", 1953, \"Nimmerland\"),\n",
    "]\n",
    "```\n",
    "\n",
    "Schreiben Sie eine Funktion `filter_city(data, city)`, die eine Liste\n",
    "aller Personen zurückgibt, die in der Stadt `city` leben. Verwenden Sie\n",
    "dazu eine list comprehension. Die Liste soll dabei aus Tupeln der Form `(Vorname, Nachname)` bestehen.\n"
   ]
  },
  {
   "cell_type": "code",
   "execution_count": null,
   "id": "69476d6ed7b185e2",
   "metadata": {
    "tags": [
     "keep"
    ]
   },
   "outputs": [],
   "source": [
    "data = [\n",
    "    (\"Max\", \"Mustermann\", 1999, \"Musterstadt\"),\n",
    "    (\"John\", \"Doe\", 1995, \"New York\"),\n",
    "    (\"Jane\", \"Doe\", 1996, \"New York\"),\n",
    "    (\"Erika\", \"Mustermann\", 2002, \"Musterstadt\"),\n",
    "    (\"Franziska\", \"Musterfrau\", 2001, \"Musterstadt\"),\n",
    "    (\"Max\", \"Mustermann\", 1972, \"Musterstadt\"),\n",
    "    (\"Max\", \"Power\", 1972, \"Springfield\"),\n",
    "    (\"Peter\", \"Pan\", 1953, \"Nimmerland\"),\n",
    "]"
   ]
  },
  {
   "cell_type": "code",
   "execution_count": null,
   "id": "d12de180bdca01fd",
   "metadata": {},
   "outputs": [],
   "source": [
    "def filter_city(data, city):\n",
    "    return [(first, last) for first, last, _, c in data if c == city]"
   ]
  },
  {
   "cell_type": "code",
   "execution_count": null,
   "id": "42aa6ba3f19e0964",
   "metadata": {},
   "outputs": [],
   "source": [
    "filter_city(data, \"Musterstadt\")"
   ]
  },
  {
   "cell_type": "markdown",
   "id": "660023249f86f165",
   "metadata": {
    "lang": "de",
    "slideshow": {
     "slide_type": "subslide"
    },
    "tags": [
     "subslide"
    ]
   },
   "source": [
    "\n",
    "- Schreiben Sie eine Funktion `filter_year(data, years)`, die eine Liste oder\n",
    "  Range von Jahren bekommt und alle Personen zurückgibt, die in einem der\n",
    "  Jahre aus `years` geboren wurde.\n",
    "- Verwenden Sie dazu eine list comprehension.\n",
    "- Die Liste soll dabei aus Tupeln der Form `(Vorname, Nachname)` bestehen."
   ]
  },
  {
   "cell_type": "code",
   "execution_count": null,
   "id": "b495e9c27ada05ec",
   "metadata": {},
   "outputs": [],
   "source": [
    "def filter_year(data, years):\n",
    "    return [(first, last) for first, last, year, _ in data if year in years]"
   ]
  },
  {
   "cell_type": "code",
   "execution_count": null,
   "id": "212d009f19bdf320",
   "metadata": {},
   "outputs": [],
   "source": [
    "filter_year(data, [1999, 2001])"
   ]
  }
 ],
 "metadata": {
  "jupytext": {
   "cell_metadata_filter": "tags,lang,-all",
   "main_language": "python",
   "notebook_metadata_filter": "-all"
  },
  "kernelspec": {
   "display_name": "Python 3 (ipykernel)",
   "language": "python",
   "name": "python3"
  },
  "language_info": {
   "codemirror_mode": {
    "name": "ipython",
    "version": 3
   },
   "file_extension": ".py",
   "mimetype": "text/x-python",
   "name": "python",
   "nbconvert_exporter": "python",
   "pygments_lexer": "ipython3"
  }
 },
 "nbformat": 4,
 "nbformat_minor": 5
}
