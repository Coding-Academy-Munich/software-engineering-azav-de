{
 "cells": [
  {
   "cell_type": "markdown",
   "id": "d548e660fc1cc9fd",
   "metadata": {
    "lang": "de",
    "slideshow": {
     "slide_type": "slide"
    },
    "tags": [
     "slide"
    ]
   },
   "source": [
    "\n",
    "<img src=\"data:image/svg+xml;base64,PHN2ZyB4bWxucz0iaHR0cDovL3d3dy53My5vcmcvMjAwMC9zdmciIHhtbG5zOnhsaW5rPSJodHRw\n",
    "Oi8vd3d3LnczLm9yZy8xOTk5L3hsaW5rIiB3aWR0aD0iMTExLjE2MSIgaGVpZ2h0PSIxMzQuNjY4\n",
    "IiB2ZXJzaW9uPSIxLjAiPjxkZWZzPjxsaW5lYXJHcmFkaWVudCBpZD0iYyI+PHN0b3Agb2Zmc2V0\n",
    "PSIwIiBzdHlsZT0ic3RvcC1jb2xvcjojYjhiOGI4O3N0b3Atb3BhY2l0eTouNDk4MDM5MjIiLz48\n",
    "c3RvcCBvZmZzZXQ9IjEiIHN0eWxlPSJzdG9wLWNvbG9yOiM3ZjdmN2Y7c3RvcC1vcGFjaXR5OjAi\n",
    "Lz48L2xpbmVhckdyYWRpZW50PjxsaW5lYXJHcmFkaWVudCBpZD0iYSI+PHN0b3Agb2Zmc2V0PSIw\n",
    "IiBzdHlsZT0ic3RvcC1jb2xvcjojZmZkNDNiO3N0b3Atb3BhY2l0eToxIi8+PHN0b3Agb2Zmc2V0\n",
    "PSIxIiBzdHlsZT0ic3RvcC1jb2xvcjojZmZlODczO3N0b3Atb3BhY2l0eToxIi8+PC9saW5lYXJH\n",
    "cmFkaWVudD48bGluZWFyR3JhZGllbnQgaWQ9ImIiPjxzdG9wIG9mZnNldD0iMCIgc3R5bGU9InN0\n",
    "b3AtY29sb3I6IzVhOWZkNDtzdG9wLW9wYWNpdHk6MSIvPjxzdG9wIG9mZnNldD0iMSIgc3R5bGU9\n",
    "InN0b3AtY29sb3I6IzMwNjk5ODtzdG9wLW9wYWNpdHk6MSIvPjwvbGluZWFyR3JhZGllbnQ+PGxp\n",
    "bmVhckdyYWRpZW50IHhsaW5rOmhyZWY9IiNhIiBpZD0iZSIgeDE9IjE1MC45NjEiIHgyPSIxMTIu\n",
    "MDMxIiB5MT0iMTkyLjM1MiIgeTI9IjEzNy4yNzMiIGdyYWRpZW50VHJhbnNmb3JtPSJtYXRyaXgo\n",
    "LjU2MjU0IDAgMCAuNTY3OTcgLTE0Ljk5MSAtMTEuNzAyKSIgZ3JhZGllbnRVbml0cz0idXNlclNw\n",
    "YWNlT25Vc2UiLz48bGluZWFyR3JhZGllbnQgeGxpbms6aHJlZj0iI2IiIGlkPSJkIiB4MT0iMjYu\n",
    "NjQ5IiB4Mj0iMTM1LjY2NSIgeTE9IjIwLjYwNCIgeTI9IjExNC4zOTgiIGdyYWRpZW50VHJhbnNm\n",
    "b3JtPSJtYXRyaXgoLjU2MjU0IDAgMCAuNTY3OTcgLTE0Ljk5MSAtMTEuNzAyKSIgZ3JhZGllbnRV\n",
    "bml0cz0idXNlclNwYWNlT25Vc2UiLz48cmFkaWFsR3JhZGllbnQgeGxpbms6aHJlZj0iI2MiIGlk\n",
    "PSJmIiBjeD0iNjEuNTE5IiBjeT0iMTMyLjI4NiIgcj0iMjkuMDM3IiBmeD0iNjEuNTE5IiBmeT0i\n",
    "MTMyLjI4NiIgZ3JhZGllbnRUcmFuc2Zvcm09Im1hdHJpeCgwIC0uMjM5OTUgMS4wNTQ2NyAwIC04\n",
    "My43IDE0Mi40NjIpIiBncmFkaWVudFVuaXRzPSJ1c2VyU3BhY2VPblVzZSIvPjwvZGVmcz48cGF0\n",
    "aCBkPSJNNTQuOTE5IDBjLTQuNTg0LjAyMi04Ljk2MS40MTMtMTIuODEzIDEuMDk1QzMwLjc2IDMu\n",
    "MDk5IDI4LjcgNy4yOTUgMjguNyAxNS4wMzJ2MTAuMjE5aDI2LjgxM3YzLjQwNkgxOC42MzhjLTcu\n",
    "NzkzIDAtMTQuNjE2IDQuNjg0LTE2Ljc1IDEzLjU5NC0yLjQ2MiAxMC4yMTMtMi41NzEgMTYuNTg2\n",
    "IDAgMjcuMjUgMS45MDUgNy45MzggNi40NTcgMTMuNTk0IDE0LjI1IDEzLjU5NGg5LjIxOHYtMTIu\n",
    "MjVjMC04Ljg1IDcuNjU3LTE2LjY1NyAxNi43NS0xNi42NTdoMjYuNzgyYzcuNDU0IDAgMTMuNDA2\n",
    "LTYuMTM4IDEzLjQwNi0xMy42MjV2LTI1LjUzYzAtNy4yNjctNi4xMy0xMi43MjYtMTMuNDA2LTEz\n",
    "LjkzOEM2NC4yODIuMzI4IDU5LjUwMi0uMDIgNTQuOTE4IDBtLTE0LjUgOC4yMmMyLjc3IDAgNS4w\n",
    "MzEgMi4yOTggNS4wMzEgNS4xMjUgMCAyLjgxNi0yLjI2MiA1LjA5My01LjAzMSA1LjA5My0yLjc4\n",
    "IDAtNS4wMzEtMi4yNzctNS4wMzEtNS4wOTMgMC0yLjgyNyAyLjI1MS01LjEyNSA1LjAzLTUuMTI1\n",
    "IiBzdHlsZT0iZmlsbDp1cmwoI2QpO2ZpbGwtb3BhY2l0eToxIi8+PHBhdGggZD0iTTg1LjYzOCAy\n",
    "OC42NTd2MTEuOTA2YzAgOS4yMzEtNy44MjYgMTctMTYuNzUgMTdINDIuMTA2Yy03LjMzNiAwLTEz\n",
    "LjQwNiA2LjI3OS0xMy40MDYgMTMuNjI1Vjk2LjcyYzAgNy4yNjYgNi4zMTkgMTEuNTQgMTMuNDA2\n",
    "IDEzLjYyNSA4LjQ4OCAyLjQ5NSAxNi42MjcgMi45NDYgMjYuNzgyIDAgNi43NS0xLjk1NSAxMy40\n",
    "MDYtNS44ODggMTMuNDA2LTEzLjYyNVY4Ni41SDU1LjUxM3YtMy40MDVIOTUuN2M3Ljc5MyAwIDEw\n",
    "LjY5Ni01LjQzNiAxMy40MDYtMTMuNTk0IDIuOC04LjM5OSAyLjY4LTE2LjQ3NiAwLTI3LjI1LTEu\n",
    "OTI1LTcuNzU4LTUuNjA0LTEzLjU5NC0xMy40MDYtMTMuNTk0ek03MC41NzUgOTMuMzEzYzIuNzgg\n",
    "MCA1LjAzMSAyLjI3OCA1LjAzMSA1LjA5NCAwIDIuODI3LTIuMjUxIDUuMTI1LTUuMDMxIDUuMTI1\n",
    "LTIuNzcgMC01LjAzMS0yLjI5OC01LjAzMS01LjEyNSAwLTIuODE2IDIuMjYxLTUuMDk0IDUuMDMx\n",
    "LTUuMDk0IiBzdHlsZT0iZmlsbDp1cmwoI2UpO2ZpbGwtb3BhY2l0eToxIi8+PGVsbGlwc2UgY3g9\n",
    "IjU1LjgxNyIgY3k9IjEyNy43MDEiIHJ4PSIzNS45MzEiIHJ5PSI2Ljk2NyIgc3R5bGU9Im9wYWNp\n",
    "dHk6LjQ0MzgyO2ZpbGw6dXJsKCNmKTtmaWxsLW9wYWNpdHk6MTtmaWxsLXJ1bGU6bm9uemVybztz\n",
    "dHJva2U6bm9uZTtzdHJva2Utd2lkdGg6MTUuNDE3NDtzdHJva2UtbWl0ZXJsaW1pdDo0O3N0cm9r\n",
    "ZS1kYXNoYXJyYXk6bm9uZTtzdHJva2Utb3BhY2l0eToxIi8+PC9zdmc+\n",
    "\"\n",
    "     style=\"display:block;margin:auto;width:10%\" alt=\"Python Logo\"/>\n",
    "<br>\n",
    "\n",
    "<div style=\"text-align:center; font-size:200%;\">\n",
    " <b>Einführung in RDD und GRASP</b>\n",
    "</div>\n",
    "<br/>\n",
    "<div style=\"text-align:center;\">Dr. Matthias Hölzl</div>\n",
    "<br/>"
   ]
  },
  {
   "cell_type": "markdown",
   "id": "f785d485e8c122e7",
   "metadata": {
    "lines_to_next_cell": 2,
    "slideshow": {
     "slide_type": "subslide"
    },
    "tags": [
     "subslide"
    ]
   },
   "source": [
    "\n",
    "<img src=\"img/interaction.png\" width=\"100%\">"
   ]
  },
  {
   "cell_type": "markdown",
   "id": "aec9c64c8fd063a4",
   "metadata": {
    "lang": "de",
    "slideshow": {
     "slide_type": "slide"
    },
    "tags": [
     "slide"
    ]
   },
   "source": [
    "\n",
    "Eine Möglichkeit, vom Domänenmodell zu einem Entwurf zu kommen, ist\n",
    "Responsibility-Driven Design (RDD).\n",
    "\n",
    "- Systeme: interagierende Objekte\n",
    "- Verhalten von Objekten durch Klassen beschrieben\n",
    "- Klassen für die wichtigsten Konzepte des Domänenmodells\n",
    "  - Manche Attribute aus dem Domänenmodell\n",
    "- Zum Verfeinern: Verantwortlichkeiten"
   ]
  },
  {
   "cell_type": "markdown",
   "id": "5c37bc276a0301f7",
   "metadata": {
    "lang": "de",
    "slideshow": {
     "slide_type": "subslide"
    },
    "tags": [
     "subslide"
    ]
   },
   "source": [
    "\n",
    "## Verantwortlichkeiten (Vereinfacht)\n",
    "\n",
    "- **Doing:** Ein Objekt\n",
    "  - erledigt selber eine Aufgabe\n",
    "  - initiiert eine Aktivität in einem anderen Objekt\n",
    "- **Knowing:** Ein Objekt\n",
    "  - kennt seinen gekapselten Zustand\n",
    "  - kennt andere Objekte"
   ]
  },
  {
   "cell_type": "markdown",
   "id": "bb5b0f3e37b69cff",
   "metadata": {
    "lang": "de",
    "slideshow": {
     "slide_type": "subslide"
    },
    "tags": [
     "subslide"
    ]
   },
   "source": [
    "\n",
    "## Merkregel\n",
    "\n",
    "- Assoziationen aus Domänenmodell: \"Knowing\"-Verantwortlichkeiten\n",
    "  - Dadurch: geringe Repräsentationslücke (low representational gap)\n",
    "- Operationen aus Domänenmodell: \"Doing\"-Verantwortlichkeiten"
   ]
  },
  {
   "cell_type": "markdown",
   "id": "b1954c9c10dbeb39",
   "metadata": {
    "lang": "de",
    "slideshow": {
     "slide_type": "subslide"
    },
    "tags": [
     "subslide"
    ]
   },
   "source": [
    "\n",
    "## Kollaboration\n",
    "\n",
    "Verantwortlichkeiten werden oft durch Kollaboration mehrerer Objekte und\n",
    "Methoden implementiert.\n",
    "\n",
    "Beim RDD betrachten wir ein OO-Design als Sammlung miteinander kollaborierender\n",
    "Objekte mit verschiedenen Verantwortlichkeiten"
   ]
  },
  {
   "cell_type": "markdown",
   "id": "8be0f5c7c906cecf",
   "metadata": {
    "slideshow": {
     "slide_type": "subslide"
    },
    "tags": [
     "subslide"
    ]
   },
   "source": [
    "\n",
    "<img src=\"img/cards-07.png\" width=\"100%\">"
   ]
  },
  {
   "cell_type": "markdown",
   "id": "fe9d1a64c83701a6",
   "metadata": {
    "lang": "de",
    "slideshow": {
     "slide_type": "subslide"
    },
    "tags": [
     "subslide"
    ]
   },
   "source": [
    "\n",
    "## Beispiel: Crazy Eights\n",
    "\n",
    "- Spiel mit 2-6 Spielern\n",
    "- Jeder Spieler erhält 7 Karten\n",
    "- Ziel: Alle Karten ablegen\n",
    "- Jeder Spieler legt eine Karte auf dem Stapel aller abgelegten Karten ab\n",
    "- Die abgelegte Karte muss mit der obersten Karte des Stapels übereinstimmen:\n",
    "  - die gleiche Farbe\n",
    "  - den gleichen Wert\n",
    "  - eine Acht sein\n",
    "- Wenn ein Spieler keine passende Karte hat, muss er eine Karte ziehen"
   ]
  },
  {
   "cell_type": "markdown",
   "id": "6b96e391dd44cbfe",
   "metadata": {
    "lang": "de",
    "slideshow": {
     "slide_type": "subslide"
    },
    "tags": [
     "subslide"
    ]
   },
   "source": [
    "\n",
    "### Domänenmodell\n",
    "\n",
    "- Entitäten: Spieler, Karten, Kartenspiel, Ablage-Stapel, Spiel\n",
    "- Beziehungen:\n",
    "  - Spiel hat Spieler, Kartenspiel und Ablage-Stapel\n",
    "  - Spieler hat Karten\n",
    "  - Kartenspiel enthält Karten\n",
    "  - Ablage-Stapel enthält Karten\n",
    "- Operationen:\n",
    "  - Spiel wählt Spieler aus\n",
    "  - Spieler spielt Karte\n",
    "  - Spieler zieht Karte\n",
    "  - Spiel endet"
   ]
  },
  {
   "cell_type": "markdown",
   "id": "d0789f81b7c8b004",
   "metadata": {
    "lines_to_next_cell": 2,
    "slideshow": {
     "slide_type": "subslide"
    },
    "tags": [
     "subslide"
    ]
   },
   "source": [
    "\n",
    "<img src=\"img/crazy-eights-dm.svg\" width=\"70%\"\n",
    "     style=\"margin-left: auto; margin-right: auto;\">"
   ]
  },
  {
   "cell_type": "code",
   "execution_count": null,
   "id": "b9d821f521b956a8",
   "metadata": {
    "slideshow": {
     "slide_type": "subslide"
    },
    "tags": [
     "subslide",
     "keep"
    ]
   },
   "outputs": [],
   "source": [
    "class Card:\n",
    "    def __init__(self, suit, rank):\n",
    "        self.suit = suit\n",
    "        self.rank = rank\n",
    "\n",
    "    def __repr__(self) -> str:\n",
    "        return f\"Card({self.suit}, {self.rank})\"\n",
    "\n",
    "    def __str__(self) -> str:\n",
    "        return f\"{self.rank}{self.suit}\"\n",
    "\n",
    "    def __eq__(self, other: object) -> bool:\n",
    "        if not isinstance(other, Card):\n",
    "            return NotImplemented\n",
    "        return self.suit == other.suit and self.rank == other.rank"
   ]
  },
  {
   "cell_type": "code",
   "execution_count": null,
   "id": "b8d9efd5067cc68e",
   "metadata": {
    "slideshow": {
     "slide_type": "subslide"
    },
    "tags": [
     "subslide",
     "keep"
    ]
   },
   "outputs": [],
   "source": [
    "class Deck:\n",
    "    def __init__(self):\n",
    "        self.cards: list[Card] = []\n",
    "\n",
    "    def __repr__(self) -> str:\n",
    "        return f\"<Deck with {len(self.cards)} cards>\"\n",
    "\n",
    "    def __str__(self) -> str:\n",
    "        return f\"Deck with {len(self.cards)} cards\" if self.cards else \"Empty deck\"\n",
    "\n",
    "    def __len__(self) -> int:\n",
    "        return len(self.cards)\n",
    "\n",
    "    def __getitem__(self, index) -> Card:\n",
    "        return self.cards[index]"
   ]
  },
  {
   "cell_type": "code",
   "execution_count": null,
   "id": "69463eafdbda1d61",
   "metadata": {
    "slideshow": {
     "slide_type": "subslide"
    },
    "tags": [
     "subslide",
     "keep"
    ]
   },
   "outputs": [],
   "source": [
    "class Player:\n",
    "    def __init__(self, name: str):\n",
    "        self.name = name\n",
    "        self.hand = []"
   ]
  },
  {
   "cell_type": "code",
   "execution_count": null,
   "id": "d604f4a30ae869b7",
   "metadata": {
    "lines_to_next_cell": 2,
    "slideshow": {
     "slide_type": "subslide"
    },
    "tags": [
     "subslide",
     "keep"
    ]
   },
   "outputs": [],
   "source": [
    "class CrazyEightsGame:\n",
    "    def __init__(self, players, deck):\n",
    "        self.deck: Deck = deck\n",
    "        self.players = players"
   ]
  },
  {
   "cell_type": "markdown",
   "id": "a95e85a2039a5c01",
   "metadata": {
    "lang": "de",
    "slideshow": {
     "slide_type": "subslide"
    },
    "tags": [
     "subslide"
    ]
   },
   "source": [
    "\n",
    "## GRASP\n",
    "\n",
    "- GRASP (General Responsibility Assignment Software Patterns) beschreibt Prinzipien,\n",
    "  und Techniken, die RDD unterstützen\n",
    "- GRASP Patterns kann man beim Modellieren mit UML oder beim Programmieren anwenden\n",
    "- Pattern:\n",
    "  - *Benanntes*, *bekanntes* Problem/Lösungs-Paar\n",
    "  - Kann in neuen Situationen angewandt werden"
   ]
  },
  {
   "cell_type": "markdown",
   "id": "0a5cb2248f92e7fa",
   "metadata": {
    "lang": "de",
    "slideshow": {
     "slide_type": "subslide"
    },
    "tags": [
     "subslide"
    ]
   },
   "source": [
    "\n",
    "## Grasp Patterns: Übersicht\n",
    "\n",
    "- High Cohesion\n",
    "- Low Coupling\n",
    "- Creator\n",
    "- Information Expert\n",
    "- Controller\n",
    "- Polymorphism\n",
    "- Pure Fabrication\n",
    "- Indirection\n",
    "- Protected Variations"
   ]
  },
  {
   "cell_type": "markdown",
   "id": "1842522eeec1772d",
   "metadata": {
    "lang": "de",
    "slideshow": {
     "slide_type": "subslide"
    },
    "tags": [
     "subslide"
    ]
   },
   "source": [
    "\n",
    "## Workshop: Drei Gewinnt (Tic Tac Toe)\n",
    "\n",
    "Das Spiel Drei Gewinnt (Tic Tac Toe) wird auf einem 3x3 Feld gespielt. Zwei\n",
    "Spieler setzen abwechselnd ihr Zeichen (X oder O) auf ein freies Feld. Der\n",
    "Spieler, der als erstes drei Zeichen in eine Reihe, Spalte oder Diagonale\n",
    "setzen kann, gewinnt.\n",
    "\n",
    "- Entwerfen Sie ein Domänenmodell für das Spiel Drei Gewinnt\n",
    "  - Welche Entitäten gibt es?\n",
    "  - Welche Beziehungen gibt es?\n",
    "- Implementieren Sie das Domänenmodell in Python\n",
    "\n",
    "*Hint:* Die Implementierung des Spiels muss nicht vollständig sein. Es reicht,\n",
    "wenn Sie die Entitäten und Beziehungen implementieren."
   ]
  },
  {
   "cell_type": "markdown",
   "id": "7137cb1b9ccc314b",
   "metadata": {
    "lang": "de",
    "lines_to_next_cell": 2,
    "slideshow": {
     "slide_type": "subslide"
    },
    "tags": [
     "subslide",
     "alt"
    ]
   },
   "source": [
    "\n",
    "### Domänenmodell\n",
    "\n",
    "- Entitäten: Spieler, Spielbrett, Feld, Spiel, Markierung\n",
    "- Beziehungen:\n",
    "  - Spielbrett enthält Felder\n",
    "  - Feld enthält Markierung\n",
    "- Operationen:\n",
    "  - Spiel wählt Spieler aus\n",
    "  - Spieler setzt Markierung auf Feld"
   ]
  },
  {
   "cell_type": "markdown",
   "id": "fc3f7d65b40f3efd",
   "metadata": {
    "lines_to_next_cell": 2,
    "slideshow": {
     "slide_type": "subslide"
    },
    "tags": [
     "subslide",
     "alt"
    ]
   },
   "source": [
    "<img src=\"img/ttt-dm.svg\" width=\"40%\"\n",
    "     style=\"margin-left: auto; margin-right: auto;\">"
   ]
  },
  {
   "cell_type": "code",
   "execution_count": null,
   "id": "f5e5fea6efdc0183",
   "metadata": {
    "slideshow": {
     "slide_type": "subslide"
    },
    "tags": [
     "subslide"
    ]
   },
   "outputs": [],
   "source": [
    "from enum import StrEnum"
   ]
  },
  {
   "cell_type": "code",
   "execution_count": null,
   "id": "a079f02ff4ea1cee",
   "metadata": {},
   "outputs": [],
   "source": [
    "class Mark(StrEnum):\n",
    "    EMPTY = \" \"\n",
    "    X = \"X\"\n",
    "    O = \"O\""
   ]
  },
  {
   "cell_type": "code",
   "execution_count": null,
   "id": "f449964cff9f89d0",
   "metadata": {
    "slideshow": {
     "slide_type": "subslide"
    },
    "tags": [
     "subslide"
    ]
   },
   "outputs": [],
   "source": [
    "class Field:\n",
    "    def __init__(self):\n",
    "        self.mark = Mark.EMPTY\n",
    "\n",
    "    def __str__(self):\n",
    "        return self.mark"
   ]
  },
  {
   "cell_type": "code",
   "execution_count": null,
   "id": "ead54447a0e1f911",
   "metadata": {},
   "outputs": [],
   "source": [
    "class Player:  # noqa\n",
    "    def __init__(self, name, mark):\n",
    "        self.name = name\n",
    "        self.mark = mark"
   ]
  },
  {
   "cell_type": "code",
   "execution_count": null,
   "id": "37c02075022a8a1d",
   "metadata": {},
   "outputs": [],
   "source": [
    "class Board:\n",
    "    def __init__(self):\n",
    "        self.fields = []"
   ]
  },
  {
   "cell_type": "code",
   "execution_count": null,
   "id": "175be3c143702a31",
   "metadata": {},
   "outputs": [],
   "source": [
    "class Game:\n",
    "    def __init__(self):\n",
    "        self.board = None\n",
    "        self.players = None"
   ]
  }
 ],
 "metadata": {
  "jupytext": {
   "cell_metadata_filter": "lang,tags,-all",
   "main_language": "python",
   "notebook_metadata_filter": "-all"
  },
  "kernelspec": {
   "display_name": "Python 3 (ipykernel)",
   "language": "python",
   "name": "python3"
  },
  "language_info": {
   "codemirror_mode": {
    "name": "ipython",
    "version": 3
   },
   "file_extension": ".py",
   "mimetype": "text/x-python",
   "name": "python",
   "nbconvert_exporter": "python",
   "pygments_lexer": "ipython3"
  }
 },
 "nbformat": 4,
 "nbformat_minor": 5
}
