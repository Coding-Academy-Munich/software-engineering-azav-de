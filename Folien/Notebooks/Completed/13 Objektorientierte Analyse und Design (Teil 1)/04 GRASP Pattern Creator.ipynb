{
 "cells": [
  {
   "cell_type": "markdown",
   "id": "9028bae6d801aada",
   "metadata": {
    "lang": "de",
    "slideshow": {
     "slide_type": "slide"
    },
    "tags": [
     "slide"
    ]
   },
   "source": [
    "\n",
    "<img src=\"data:image/svg+xml;base64,PHN2ZyB4bWxucz0iaHR0cDovL3d3dy53My5vcmcvMjAwMC9zdmciIHhtbG5zOnhsaW5rPSJodHRw\n",
    "Oi8vd3d3LnczLm9yZy8xOTk5L3hsaW5rIiB3aWR0aD0iMTExLjE2MSIgaGVpZ2h0PSIxMzQuNjY4\n",
    "IiB2ZXJzaW9uPSIxLjAiPjxkZWZzPjxsaW5lYXJHcmFkaWVudCBpZD0iYyI+PHN0b3Agb2Zmc2V0\n",
    "PSIwIiBzdHlsZT0ic3RvcC1jb2xvcjojYjhiOGI4O3N0b3Atb3BhY2l0eTouNDk4MDM5MjIiLz48\n",
    "c3RvcCBvZmZzZXQ9IjEiIHN0eWxlPSJzdG9wLWNvbG9yOiM3ZjdmN2Y7c3RvcC1vcGFjaXR5OjAi\n",
    "Lz48L2xpbmVhckdyYWRpZW50PjxsaW5lYXJHcmFkaWVudCBpZD0iYSI+PHN0b3Agb2Zmc2V0PSIw\n",
    "IiBzdHlsZT0ic3RvcC1jb2xvcjojZmZkNDNiO3N0b3Atb3BhY2l0eToxIi8+PHN0b3Agb2Zmc2V0\n",
    "PSIxIiBzdHlsZT0ic3RvcC1jb2xvcjojZmZlODczO3N0b3Atb3BhY2l0eToxIi8+PC9saW5lYXJH\n",
    "cmFkaWVudD48bGluZWFyR3JhZGllbnQgaWQ9ImIiPjxzdG9wIG9mZnNldD0iMCIgc3R5bGU9InN0\n",
    "b3AtY29sb3I6IzVhOWZkNDtzdG9wLW9wYWNpdHk6MSIvPjxzdG9wIG9mZnNldD0iMSIgc3R5bGU9\n",
    "InN0b3AtY29sb3I6IzMwNjk5ODtzdG9wLW9wYWNpdHk6MSIvPjwvbGluZWFyR3JhZGllbnQ+PGxp\n",
    "bmVhckdyYWRpZW50IHhsaW5rOmhyZWY9IiNhIiBpZD0iZSIgeDE9IjE1MC45NjEiIHgyPSIxMTIu\n",
    "MDMxIiB5MT0iMTkyLjM1MiIgeTI9IjEzNy4yNzMiIGdyYWRpZW50VHJhbnNmb3JtPSJtYXRyaXgo\n",
    "LjU2MjU0IDAgMCAuNTY3OTcgLTE0Ljk5MSAtMTEuNzAyKSIgZ3JhZGllbnRVbml0cz0idXNlclNw\n",
    "YWNlT25Vc2UiLz48bGluZWFyR3JhZGllbnQgeGxpbms6aHJlZj0iI2IiIGlkPSJkIiB4MT0iMjYu\n",
    "NjQ5IiB4Mj0iMTM1LjY2NSIgeTE9IjIwLjYwNCIgeTI9IjExNC4zOTgiIGdyYWRpZW50VHJhbnNm\n",
    "b3JtPSJtYXRyaXgoLjU2MjU0IDAgMCAuNTY3OTcgLTE0Ljk5MSAtMTEuNzAyKSIgZ3JhZGllbnRV\n",
    "bml0cz0idXNlclNwYWNlT25Vc2UiLz48cmFkaWFsR3JhZGllbnQgeGxpbms6aHJlZj0iI2MiIGlk\n",
    "PSJmIiBjeD0iNjEuNTE5IiBjeT0iMTMyLjI4NiIgcj0iMjkuMDM3IiBmeD0iNjEuNTE5IiBmeT0i\n",
    "MTMyLjI4NiIgZ3JhZGllbnRUcmFuc2Zvcm09Im1hdHJpeCgwIC0uMjM5OTUgMS4wNTQ2NyAwIC04\n",
    "My43IDE0Mi40NjIpIiBncmFkaWVudFVuaXRzPSJ1c2VyU3BhY2VPblVzZSIvPjwvZGVmcz48cGF0\n",
    "aCBkPSJNNTQuOTE5IDBjLTQuNTg0LjAyMi04Ljk2MS40MTMtMTIuODEzIDEuMDk1QzMwLjc2IDMu\n",
    "MDk5IDI4LjcgNy4yOTUgMjguNyAxNS4wMzJ2MTAuMjE5aDI2LjgxM3YzLjQwNkgxOC42MzhjLTcu\n",
    "NzkzIDAtMTQuNjE2IDQuNjg0LTE2Ljc1IDEzLjU5NC0yLjQ2MiAxMC4yMTMtMi41NzEgMTYuNTg2\n",
    "IDAgMjcuMjUgMS45MDUgNy45MzggNi40NTcgMTMuNTk0IDE0LjI1IDEzLjU5NGg5LjIxOHYtMTIu\n",
    "MjVjMC04Ljg1IDcuNjU3LTE2LjY1NyAxNi43NS0xNi42NTdoMjYuNzgyYzcuNDU0IDAgMTMuNDA2\n",
    "LTYuMTM4IDEzLjQwNi0xMy42MjV2LTI1LjUzYzAtNy4yNjctNi4xMy0xMi43MjYtMTMuNDA2LTEz\n",
    "LjkzOEM2NC4yODIuMzI4IDU5LjUwMi0uMDIgNTQuOTE4IDBtLTE0LjUgOC4yMmMyLjc3IDAgNS4w\n",
    "MzEgMi4yOTggNS4wMzEgNS4xMjUgMCAyLjgxNi0yLjI2MiA1LjA5My01LjAzMSA1LjA5My0yLjc4\n",
    "IDAtNS4wMzEtMi4yNzctNS4wMzEtNS4wOTMgMC0yLjgyNyAyLjI1MS01LjEyNSA1LjAzLTUuMTI1\n",
    "IiBzdHlsZT0iZmlsbDp1cmwoI2QpO2ZpbGwtb3BhY2l0eToxIi8+PHBhdGggZD0iTTg1LjYzOCAy\n",
    "OC42NTd2MTEuOTA2YzAgOS4yMzEtNy44MjYgMTctMTYuNzUgMTdINDIuMTA2Yy03LjMzNiAwLTEz\n",
    "LjQwNiA2LjI3OS0xMy40MDYgMTMuNjI1Vjk2LjcyYzAgNy4yNjYgNi4zMTkgMTEuNTQgMTMuNDA2\n",
    "IDEzLjYyNSA4LjQ4OCAyLjQ5NSAxNi42MjcgMi45NDYgMjYuNzgyIDAgNi43NS0xLjk1NSAxMy40\n",
    "MDYtNS44ODggMTMuNDA2LTEzLjYyNVY4Ni41SDU1LjUxM3YtMy40MDVIOTUuN2M3Ljc5MyAwIDEw\n",
    "LjY5Ni01LjQzNiAxMy40MDYtMTMuNTk0IDIuOC04LjM5OSAyLjY4LTE2LjQ3NiAwLTI3LjI1LTEu\n",
    "OTI1LTcuNzU4LTUuNjA0LTEzLjU5NC0xMy40MDYtMTMuNTk0ek03MC41NzUgOTMuMzEzYzIuNzgg\n",
    "MCA1LjAzMSAyLjI3OCA1LjAzMSA1LjA5NCAwIDIuODI3LTIuMjUxIDUuMTI1LTUuMDMxIDUuMTI1\n",
    "LTIuNzcgMC01LjAzMS0yLjI5OC01LjAzMS01LjEyNSAwLTIuODE2IDIuMjYxLTUuMDk0IDUuMDMx\n",
    "LTUuMDk0IiBzdHlsZT0iZmlsbDp1cmwoI2UpO2ZpbGwtb3BhY2l0eToxIi8+PGVsbGlwc2UgY3g9\n",
    "IjU1LjgxNyIgY3k9IjEyNy43MDEiIHJ4PSIzNS45MzEiIHJ5PSI2Ljk2NyIgc3R5bGU9Im9wYWNp\n",
    "dHk6LjQ0MzgyO2ZpbGw6dXJsKCNmKTtmaWxsLW9wYWNpdHk6MTtmaWxsLXJ1bGU6bm9uemVybztz\n",
    "dHJva2U6bm9uZTtzdHJva2Utd2lkdGg6MTUuNDE3NDtzdHJva2UtbWl0ZXJsaW1pdDo0O3N0cm9r\n",
    "ZS1kYXNoYXJyYXk6bm9uZTtzdHJva2Utb3BhY2l0eToxIi8+PC9zdmc+\n",
    "\"\n",
    "     style=\"display:block;margin:auto;width:10%\" alt=\"Python Logo\"/>\n",
    "<br>\n",
    "\n",
    "<div style=\"text-align:center; font-size:200%;\">\n",
    " <b>GRASP Pattern: Creator</b>\n",
    "</div>\n",
    "<br/>\n",
    "<div style=\"text-align:center;\">Dr. Matthias Hölzl</div>\n",
    "<br/>"
   ]
  },
  {
   "cell_type": "markdown",
   "id": "8593f0027e4492a2",
   "metadata": {
    "slideshow": {
     "slide_type": "slide"
    },
    "tags": [
     "slide"
    ]
   },
   "source": [
    "<img src=\"img/cards-15.png\" width=\"100%\">"
   ]
  },
  {
   "cell_type": "markdown",
   "id": "d4ffcda71686e18c",
   "metadata": {
    "lang": "de",
    "slideshow": {
     "slide_type": "slide"
    },
    "tags": [
     "slide"
    ]
   },
   "source": [
    "\n",
    "- Wer ist verantwortlich für das Erzeugen der Karten?\n",
    "- Wer ist verantwortlich für das Erzeugen des Kartenspiels?\n",
    "- Wer ist verantwortlich für das Mischen der Karten?\n",
    "- Wer ist verantwortlich für das Erzeugen des Ablagestapels (mit der ersten Karte)?"
   ]
  },
  {
   "cell_type": "markdown",
   "id": "d31b2d7d4c78842a",
   "metadata": {
    "lang": "de",
    "slideshow": {
     "slide_type": "subslide"
    },
    "tags": [
     "subslide"
    ]
   },
   "source": [
    "\n",
    "### Erzeugen der Karten\n",
    "\n",
    "Kandidaten:\n",
    "\n",
    "- `Game`\n",
    "- `Player`\n",
    "- `Deck`\n",
    "- Eine andere Klasse?"
   ]
  },
  {
   "cell_type": "markdown",
   "id": "d0789f81b7c8b004",
   "metadata": {
    "slideshow": {
     "slide_type": "subslide"
    },
    "tags": [
     "subslide"
    ]
   },
   "source": [
    "\n",
    "<img src=\"img/crazy-eights-dm.svg\" width=\"70%\"\n",
    "     style=\"margin-left: auto; margin-right: auto;\">"
   ]
  },
  {
   "cell_type": "markdown",
   "id": "f8d4bdad75965a76",
   "metadata": {
    "lang": "de",
    "lines_to_next_cell": 2,
    "slideshow": {
     "slide_type": "slide"
    },
    "tags": [
     "slide"
    ]
   },
   "source": [
    "\n",
    "## Das Creator Pattern (GRASP)\n",
    "\n",
    "### Frage\n",
    "\n",
    "- Wer ist verantwortlich für die Erzeugung eines Objekts?\n",
    "\n",
    "### Antwort\n",
    "\n",
    "Klasse `A` bekommt die Verantwortung, ein Objekt der Klasse `B` zu erzeugen,\n",
    "wenn eine oder mehrere der folgenden Bedingungen zutreffen:\n",
    "\n",
    "- `A` enthält `B` (oder ist Eigentümer von `B`)\n",
    "- `A` speichert `B` (z.B. in einer Datenbank)\n",
    "- `A` benutzt `B` eng\n",
    "- `A` hat die initialisierenden Daten, die `B` benötigt"
   ]
  },
  {
   "cell_type": "markdown",
   "id": "3e2887ce0ef5083a",
   "metadata": {
    "lang": "de",
    "slideshow": {
     "slide_type": "subslide"
    },
    "tags": [
     "subslide"
    ]
   },
   "source": [
    "\n",
    "<div style=\"float:left;margin:auto;padding:80px 0;width:35%\">\n",
    "<ul>\n",
    "<li> <strike><code>Game</code></strike></li>\n",
    "<li> <strike><code>Player</code></strike></li>\n",
    "<li> <code>Deck</code></li>\n",
    "<li> <strike>Eine andere Klasse?</strike></li>\n",
    "</ul>\n",
    "</div>\n",
    "<img src=\"img/crazy-eights-dm.svg\"\n",
    "     style=\"float:right;margin:auto;width:60%\"/>"
   ]
  },
  {
   "cell_type": "code",
   "execution_count": null,
   "id": "b9d821f521b956a8",
   "metadata": {
    "slideshow": {
     "slide_type": "subslide"
    },
    "tags": [
     "subslide",
     "keep"
    ]
   },
   "outputs": [],
   "source": [
    "class Card:\n",
    "    def __init__(self, suit, rank):\n",
    "        self.suit = suit\n",
    "        self.rank = rank\n",
    "\n",
    "    def __repr__(self) -> str:\n",
    "        return f\"Card({self.suit}, {self.rank})\"\n",
    "\n",
    "    def __str__(self) -> str:\n",
    "        return f\"{self.rank}{self.suit}\"\n",
    "\n",
    "    def __eq__(self, other: object) -> bool:\n",
    "        if not isinstance(other, Card):\n",
    "            return NotImplemented\n",
    "        return self.suit == other.suit and self.rank == other.rank"
   ]
  },
  {
   "cell_type": "code",
   "execution_count": null,
   "id": "08b28784c769c5c4",
   "metadata": {
    "slideshow": {
     "slide_type": "subslide"
    },
    "tags": [
     "keep",
     "subslide"
    ]
   },
   "outputs": [],
   "source": [
    "SUITS = [\"♥\", \"♦\", \"♣\", \"♠\"]\n",
    "RANKS = [\"2\", \"3\", \"4\", \"5\", \"6\", \"7\", \"8\", \"9\", \"T\", \"J\", \"Q\", \"K\", \"A\"]"
   ]
  },
  {
   "cell_type": "code",
   "execution_count": null,
   "id": "77825124a8405af6",
   "metadata": {
    "tags": [
     "alt"
    ]
   },
   "outputs": [],
   "source": [
    "class Deck:  # noqa\n",
    "    def __init__(self):\n",
    "        self.cards: list[Card] = [Card(suit, rank) for suit in SUITS for rank in RANKS]\n",
    "\n",
    "    def __repr__(self) -> str:\n",
    "        return f\"<Deck with {len(self.cards)} cards>\"\n",
    "\n",
    "    def __str__(self) -> str:\n",
    "        return f\"Deck with {len(self.cards)} cards\" if self.cards else \"Empty deck\"\n",
    "\n",
    "    def __len__(self) -> int:\n",
    "        return len(self.cards)\n",
    "\n",
    "    def __getitem__(self, index) -> Card:\n",
    "        return self.cards[index]"
   ]
  },
  {
   "cell_type": "code",
   "execution_count": null,
   "id": "a17257c166dfa659",
   "metadata": {
    "slideshow": {
     "slide_type": "subslide"
    },
    "tags": [
     "subslide"
    ]
   },
   "outputs": [],
   "source": [
    "deck = Deck()"
   ]
  },
  {
   "cell_type": "code",
   "execution_count": null,
   "id": "31aaf3e6212b398b",
   "metadata": {},
   "outputs": [],
   "source": [
    "deck"
   ]
  },
  {
   "cell_type": "code",
   "execution_count": null,
   "id": "44482f212be3a105",
   "metadata": {},
   "outputs": [],
   "source": [
    "len(deck)"
   ]
  },
  {
   "cell_type": "code",
   "execution_count": null,
   "id": "20d6c99fa8a907bb",
   "metadata": {},
   "outputs": [],
   "source": [
    "deck[0]"
   ]
  },
  {
   "cell_type": "code",
   "execution_count": null,
   "id": "94bb4901bafedace",
   "metadata": {
    "lines_to_next_cell": 2
   },
   "outputs": [],
   "source": [
    "deck[10]"
   ]
  },
  {
   "cell_type": "markdown",
   "id": "0e320dad15d265e4",
   "metadata": {
    "lang": "de",
    "slideshow": {
     "slide_type": "subslide"
    },
    "tags": [
     "subslide"
    ]
   },
   "source": [
    "\n",
    "### Mischen der Karten\n",
    "\n",
    "- Wer ist verantwortlich für das Mischen der Karten?\n",
    "- Überlegung: Die Karten müssen nur einmal gemischt werden\n",
    "- Damit können wir das Kartenspiel gleich beim Erzeugen mischen"
   ]
  },
  {
   "cell_type": "markdown",
   "id": "b29e604636840b72",
   "metadata": {
    "lang": "de",
    "slideshow": {
     "slide_type": "subslide"
    },
    "tags": [
     "subslide"
    ]
   },
   "source": [
    "\n",
    "### Faustregel\n",
    "\n",
    "Wo immer möglich verlagere Arbeit in die Initialisierungsphase"
   ]
  },
  {
   "cell_type": "code",
   "execution_count": null,
   "id": "06ef688472b56120",
   "metadata": {
    "slideshow": {
     "slide_type": "subslide"
    },
    "tags": [
     "subslide"
    ]
   },
   "outputs": [],
   "source": [
    "import random"
   ]
  },
  {
   "cell_type": "code",
   "execution_count": null,
   "id": "5baea802facdc965",
   "metadata": {
    "tags": [
     "alt"
    ]
   },
   "outputs": [],
   "source": [
    "class Deck:  # noqa\n",
    "    def __init__(self):\n",
    "        self.cards = [Card(suit, rank) for suit in SUITS for rank in RANKS]\n",
    "        random.shuffle(self.cards)\n",
    "\n",
    "    def __repr__(self) -> str:\n",
    "        return f\"<Deck with {len(self.cards)} cards>\"\n",
    "\n",
    "    def __str__(self) -> str:\n",
    "        return f\"Deck with {len(self.cards)} cards\" if self.cards else \"Empty deck\"\n",
    "\n",
    "    def __len__(self) -> int:\n",
    "        return len(self.cards)\n",
    "\n",
    "    def __getitem__(self, index) -> Card:\n",
    "        return self.cards[index]"
   ]
  },
  {
   "cell_type": "code",
   "execution_count": null,
   "id": "844c21122cced24d",
   "metadata": {
    "slideshow": {
     "slide_type": "subslide"
    },
    "tags": [
     "subslide"
    ]
   },
   "outputs": [],
   "source": [
    "deck = Deck()"
   ]
  },
  {
   "cell_type": "code",
   "execution_count": null,
   "id": "fa59daa6572b8b12",
   "metadata": {},
   "outputs": [],
   "source": [
    "deck"
   ]
  },
  {
   "cell_type": "code",
   "execution_count": null,
   "id": "9107ce43b6a1abe2",
   "metadata": {},
   "outputs": [],
   "source": [
    "len(deck)"
   ]
  },
  {
   "cell_type": "code",
   "execution_count": null,
   "id": "614dcdf791dfd67d",
   "metadata": {},
   "outputs": [],
   "source": [
    "deck[0]"
   ]
  },
  {
   "cell_type": "code",
   "execution_count": null,
   "id": "fc5b28048811939f",
   "metadata": {
    "lines_to_next_cell": 2
   },
   "outputs": [],
   "source": [
    "deck[10]"
   ]
  },
  {
   "cell_type": "markdown",
   "id": "f640ca259d79d473",
   "metadata": {
    "lang": "de",
    "slideshow": {
     "slide_type": "subslide"
    },
    "tags": [
     "subslide"
    ]
   },
   "source": [
    "\n",
    "### Erzeugen des Kartenspiels\n",
    "\n",
    "<div style=\"float:left;margin:auto;padding:80px 0;width:35%\">\n",
    "<ul>\n",
    "<li> <code>Game</code></li>\n",
    "<li> <code>Board</code></li>\n",
    "<li> <code>Player</code></li>\n",
    "<li> Eine andere Klasse?</li>\n",
    "</ul>\n",
    "</div>\n",
    "<img src=\"img/crazy-eights-dm.svg\"\n",
    "     style=\"float:right;margin:auto;width:60%\"/>"
   ]
  },
  {
   "cell_type": "markdown",
   "id": "bbf68291b040b4e8",
   "metadata": {
    "lang": "de",
    "slideshow": {
     "slide_type": "subslide"
    },
    "tags": [
     "subslide"
    ]
   },
   "source": [
    "\n",
    "### Erzeugen des Kartenspiels\n",
    "\n",
    "<div style=\"float:left;margin:auto;padding:80px 0;width:35%\">\n",
    "<ul>\n",
    "<li> <code>Game</code></li>\n",
    "<li> <strike><code>Board</code></strike></li>\n",
    "<li> <strike><code>Player</code></strike></li>\n",
    "<li> <strike>Eine andere Klasse?</strike></li>\n",
    "</ul>\n",
    "</div>"
   ]
  },
  {
   "cell_type": "code",
   "execution_count": null,
   "id": "82bc9ee537dee40c",
   "metadata": {
    "slideshow": {
     "slide_type": "subslide"
    },
    "tags": [
     "subslide",
     "alt"
    ]
   },
   "outputs": [],
   "source": [
    "class CrazyEightsGame:  # noqa\n",
    "    def __init__(self, players):\n",
    "        self.deck = Deck()\n",
    "        self.players = players"
   ]
  },
  {
   "cell_type": "markdown",
   "id": "65badef8ff360d5a",
   "metadata": {
    "lang": "de",
    "slideshow": {
     "slide_type": "subslide"
    },
    "tags": [
     "subslide"
    ]
   },
   "source": [
    "\n",
    "## Workshop: Drei Gewinnt (Tic Tac Toe)\n",
    "\n",
    "- Erweitern Sie Ihre Implementierung von Drei Gewinnt, so dass alle benötigten\n",
    "  Objekte erzeugt werden\n",
    "- Verwenden Sie dazu das Creator Pattern"
   ]
  },
  {
   "cell_type": "code",
   "execution_count": null,
   "id": "f5e5fea6efdc0183",
   "metadata": {
    "slideshow": {
     "slide_type": "subslide"
    },
    "tags": [
     "subslide"
    ]
   },
   "outputs": [],
   "source": [
    "from enum import StrEnum"
   ]
  },
  {
   "cell_type": "code",
   "execution_count": null,
   "id": "a079f02ff4ea1cee",
   "metadata": {},
   "outputs": [],
   "source": [
    "class Mark(StrEnum):\n",
    "    EMPTY = \" \"\n",
    "    X = \"X\"\n",
    "    O = \"O\""
   ]
  },
  {
   "cell_type": "code",
   "execution_count": null,
   "id": "f449964cff9f89d0",
   "metadata": {
    "slideshow": {
     "slide_type": "subslide"
    },
    "tags": [
     "subslide"
    ]
   },
   "outputs": [],
   "source": [
    "class Field:\n",
    "    def __init__(self):\n",
    "        self.mark = Mark.EMPTY\n",
    "\n",
    "    def __str__(self):\n",
    "        return self.mark"
   ]
  },
  {
   "cell_type": "code",
   "execution_count": null,
   "id": "1ee168fcbc8cd94c",
   "metadata": {},
   "outputs": [],
   "source": [
    "class Board:\n",
    "    def __init__(self):\n",
    "        self.fields = [[Field() for _ in range(3)] for _ in range(3)]"
   ]
  },
  {
   "cell_type": "code",
   "execution_count": null,
   "id": "db7043438ea48b18",
   "metadata": {},
   "outputs": [],
   "source": [
    "class Player:\n",
    "    def __init__(self, name, mark):\n",
    "        self.name = name\n",
    "        self.mark = mark"
   ]
  },
  {
   "cell_type": "code",
   "execution_count": null,
   "id": "bd5258842010f0ef",
   "metadata": {},
   "outputs": [],
   "source": [
    "class Game:\n",
    "    def __init__(self, player1, player2):\n",
    "        self.board = Board()\n",
    "        self.players = [player1, player2]\n",
    "        self.current_player_index = 0"
   ]
  }
 ],
 "metadata": {
  "jupytext": {
   "cell_metadata_filter": "lang,tags,-all",
   "main_language": "python",
   "notebook_metadata_filter": "-all"
  },
  "kernelspec": {
   "display_name": "Python 3 (ipykernel)",
   "language": "python",
   "name": "python3"
  },
  "language_info": {
   "codemirror_mode": {
    "name": "ipython",
    "version": 3
   },
   "file_extension": ".py",
   "mimetype": "text/x-python",
   "name": "python",
   "nbconvert_exporter": "python",
   "pygments_lexer": "ipython3"
  }
 },
 "nbformat": 4,
 "nbformat_minor": 5
}
