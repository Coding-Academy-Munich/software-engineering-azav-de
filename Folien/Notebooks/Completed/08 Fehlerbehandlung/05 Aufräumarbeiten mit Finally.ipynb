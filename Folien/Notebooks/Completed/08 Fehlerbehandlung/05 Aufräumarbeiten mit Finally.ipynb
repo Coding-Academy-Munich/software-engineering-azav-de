{
 "cells": [
  {
   "cell_type": "markdown",
   "id": "d700271bc9faff41",
   "metadata": {
    "lang": "de",
    "slideshow": {
     "slide_type": "slide"
    },
    "tags": [
     "slide"
    ]
   },
   "source": [
    "\n",
    "<img src=\"data:image/svg+xml;base64,PHN2ZyB4bWxucz0iaHR0cDovL3d3dy53My5vcmcvMjAwMC9zdmciIHhtbG5zOnhsaW5rPSJodHRw\n",
    "Oi8vd3d3LnczLm9yZy8xOTk5L3hsaW5rIiB3aWR0aD0iMTExLjE2MSIgaGVpZ2h0PSIxMzQuNjY4\n",
    "IiB2ZXJzaW9uPSIxLjAiPjxkZWZzPjxsaW5lYXJHcmFkaWVudCBpZD0iYyI+PHN0b3Agb2Zmc2V0\n",
    "PSIwIiBzdHlsZT0ic3RvcC1jb2xvcjojYjhiOGI4O3N0b3Atb3BhY2l0eTouNDk4MDM5MjIiLz48\n",
    "c3RvcCBvZmZzZXQ9IjEiIHN0eWxlPSJzdG9wLWNvbG9yOiM3ZjdmN2Y7c3RvcC1vcGFjaXR5OjAi\n",
    "Lz48L2xpbmVhckdyYWRpZW50PjxsaW5lYXJHcmFkaWVudCBpZD0iYSI+PHN0b3Agb2Zmc2V0PSIw\n",
    "IiBzdHlsZT0ic3RvcC1jb2xvcjojZmZkNDNiO3N0b3Atb3BhY2l0eToxIi8+PHN0b3Agb2Zmc2V0\n",
    "PSIxIiBzdHlsZT0ic3RvcC1jb2xvcjojZmZlODczO3N0b3Atb3BhY2l0eToxIi8+PC9saW5lYXJH\n",
    "cmFkaWVudD48bGluZWFyR3JhZGllbnQgaWQ9ImIiPjxzdG9wIG9mZnNldD0iMCIgc3R5bGU9InN0\n",
    "b3AtY29sb3I6IzVhOWZkNDtzdG9wLW9wYWNpdHk6MSIvPjxzdG9wIG9mZnNldD0iMSIgc3R5bGU9\n",
    "InN0b3AtY29sb3I6IzMwNjk5ODtzdG9wLW9wYWNpdHk6MSIvPjwvbGluZWFyR3JhZGllbnQ+PGxp\n",
    "bmVhckdyYWRpZW50IHhsaW5rOmhyZWY9IiNhIiBpZD0iZSIgeDE9IjE1MC45NjEiIHgyPSIxMTIu\n",
    "MDMxIiB5MT0iMTkyLjM1MiIgeTI9IjEzNy4yNzMiIGdyYWRpZW50VHJhbnNmb3JtPSJtYXRyaXgo\n",
    "LjU2MjU0IDAgMCAuNTY3OTcgLTE0Ljk5MSAtMTEuNzAyKSIgZ3JhZGllbnRVbml0cz0idXNlclNw\n",
    "YWNlT25Vc2UiLz48bGluZWFyR3JhZGllbnQgeGxpbms6aHJlZj0iI2IiIGlkPSJkIiB4MT0iMjYu\n",
    "NjQ5IiB4Mj0iMTM1LjY2NSIgeTE9IjIwLjYwNCIgeTI9IjExNC4zOTgiIGdyYWRpZW50VHJhbnNm\n",
    "b3JtPSJtYXRyaXgoLjU2MjU0IDAgMCAuNTY3OTcgLTE0Ljk5MSAtMTEuNzAyKSIgZ3JhZGllbnRV\n",
    "bml0cz0idXNlclNwYWNlT25Vc2UiLz48cmFkaWFsR3JhZGllbnQgeGxpbms6aHJlZj0iI2MiIGlk\n",
    "PSJmIiBjeD0iNjEuNTE5IiBjeT0iMTMyLjI4NiIgcj0iMjkuMDM3IiBmeD0iNjEuNTE5IiBmeT0i\n",
    "MTMyLjI4NiIgZ3JhZGllbnRUcmFuc2Zvcm09Im1hdHJpeCgwIC0uMjM5OTUgMS4wNTQ2NyAwIC04\n",
    "My43IDE0Mi40NjIpIiBncmFkaWVudFVuaXRzPSJ1c2VyU3BhY2VPblVzZSIvPjwvZGVmcz48cGF0\n",
    "aCBkPSJNNTQuOTE5IDBjLTQuNTg0LjAyMi04Ljk2MS40MTMtMTIuODEzIDEuMDk1QzMwLjc2IDMu\n",
    "MDk5IDI4LjcgNy4yOTUgMjguNyAxNS4wMzJ2MTAuMjE5aDI2LjgxM3YzLjQwNkgxOC42MzhjLTcu\n",
    "NzkzIDAtMTQuNjE2IDQuNjg0LTE2Ljc1IDEzLjU5NC0yLjQ2MiAxMC4yMTMtMi41NzEgMTYuNTg2\n",
    "IDAgMjcuMjUgMS45MDUgNy45MzggNi40NTcgMTMuNTk0IDE0LjI1IDEzLjU5NGg5LjIxOHYtMTIu\n",
    "MjVjMC04Ljg1IDcuNjU3LTE2LjY1NyAxNi43NS0xNi42NTdoMjYuNzgyYzcuNDU0IDAgMTMuNDA2\n",
    "LTYuMTM4IDEzLjQwNi0xMy42MjV2LTI1LjUzYzAtNy4yNjctNi4xMy0xMi43MjYtMTMuNDA2LTEz\n",
    "LjkzOEM2NC4yODIuMzI4IDU5LjUwMi0uMDIgNTQuOTE4IDBtLTE0LjUgOC4yMmMyLjc3IDAgNS4w\n",
    "MzEgMi4yOTggNS4wMzEgNS4xMjUgMCAyLjgxNi0yLjI2MiA1LjA5My01LjAzMSA1LjA5My0yLjc4\n",
    "IDAtNS4wMzEtMi4yNzctNS4wMzEtNS4wOTMgMC0yLjgyNyAyLjI1MS01LjEyNSA1LjAzLTUuMTI1\n",
    "IiBzdHlsZT0iZmlsbDp1cmwoI2QpO2ZpbGwtb3BhY2l0eToxIi8+PHBhdGggZD0iTTg1LjYzOCAy\n",
    "OC42NTd2MTEuOTA2YzAgOS4yMzEtNy44MjYgMTctMTYuNzUgMTdINDIuMTA2Yy03LjMzNiAwLTEz\n",
    "LjQwNiA2LjI3OS0xMy40MDYgMTMuNjI1Vjk2LjcyYzAgNy4yNjYgNi4zMTkgMTEuNTQgMTMuNDA2\n",
    "IDEzLjYyNSA4LjQ4OCAyLjQ5NSAxNi42MjcgMi45NDYgMjYuNzgyIDAgNi43NS0xLjk1NSAxMy40\n",
    "MDYtNS44ODggMTMuNDA2LTEzLjYyNVY4Ni41SDU1LjUxM3YtMy40MDVIOTUuN2M3Ljc5MyAwIDEw\n",
    "LjY5Ni01LjQzNiAxMy40MDYtMTMuNTk0IDIuOC04LjM5OSAyLjY4LTE2LjQ3NiAwLTI3LjI1LTEu\n",
    "OTI1LTcuNzU4LTUuNjA0LTEzLjU5NC0xMy40MDYtMTMuNTk0ek03MC41NzUgOTMuMzEzYzIuNzgg\n",
    "MCA1LjAzMSAyLjI3OCA1LjAzMSA1LjA5NCAwIDIuODI3LTIuMjUxIDUuMTI1LTUuMDMxIDUuMTI1\n",
    "LTIuNzcgMC01LjAzMS0yLjI5OC01LjAzMS01LjEyNSAwLTIuODE2IDIuMjYxLTUuMDk0IDUuMDMx\n",
    "LTUuMDk0IiBzdHlsZT0iZmlsbDp1cmwoI2UpO2ZpbGwtb3BhY2l0eToxIi8+PGVsbGlwc2UgY3g9\n",
    "IjU1LjgxNyIgY3k9IjEyNy43MDEiIHJ4PSIzNS45MzEiIHJ5PSI2Ljk2NyIgc3R5bGU9Im9wYWNp\n",
    "dHk6LjQ0MzgyO2ZpbGw6dXJsKCNmKTtmaWxsLW9wYWNpdHk6MTtmaWxsLXJ1bGU6bm9uemVybztz\n",
    "dHJva2U6bm9uZTtzdHJva2Utd2lkdGg6MTUuNDE3NDtzdHJva2UtbWl0ZXJsaW1pdDo0O3N0cm9r\n",
    "ZS1kYXNoYXJyYXk6bm9uZTtzdHJva2Utb3BhY2l0eToxIi8+PC9zdmc+\n",
    "\"\n",
    "     style=\"display:block;margin:auto;width:10%\" alt=\"Python Logo\"/>\n",
    "<br>\n",
    "\n",
    "<div style=\"text-align:center; font-size:200%;\">\n",
    " <b>Aufräumarbeiten mit Finally</b>\n",
    "</div>\n",
    "<br/>\n",
    "<div style=\"text-align:center;\">Dr. Matthias Hölzl</div>\n",
    "<br/>"
   ]
  },
  {
   "cell_type": "markdown",
   "id": "0fc8e7f0e5fc243a",
   "metadata": {
    "lang": "de",
    "slideshow": {
     "slide_type": "slide"
    },
    "tags": [
     "slide"
    ]
   },
   "source": [
    "\n",
    "## Aufräumarbeiten mit `finally`\n",
    "\n",
    "- Manchmal ist es nötig, Anweisungen auszuführen, egal ob eine Ausnahme ausgelöst\n",
    "  wurde, oder nicht\n",
    "- Z.B. wenn Betriebssystem-Ressourcen angefordert wurden, die freigegeben werden\n",
    "  müssen"
   ]
  },
  {
   "cell_type": "code",
   "execution_count": null,
   "id": "9dab1937cef54b13",
   "metadata": {
    "slideshow": {
     "slide_type": "subslide"
    },
    "tags": [
     "subslide",
     "alt"
    ]
   },
   "outputs": [],
   "source": [
    "def process_data_from_file(file_name):  # type: ignore\n",
    "    print(f\"Opening file {file_name}\")\n",
    "    try:\n",
    "        print(f\"Processing data from {file_name}...\")\n",
    "        if file_name == \"bad.data\":\n",
    "            raise ValueError(\"Bad data! But recoverable.\")\n",
    "        if file_name == \"worse.data\":\n",
    "            raise TypeError(\"Very bad data! Cannot recover.\")\n",
    "        print(\"Done.\")\n",
    "    except ValueError as err:\n",
    "        print(err)\n",
    "    finally:\n",
    "        print(f\"Closing {file_name}.\")"
   ]
  },
  {
   "cell_type": "code",
   "execution_count": null,
   "id": "5bd8dbfd30d150d0",
   "metadata": {
    "slideshow": {
     "slide_type": "subslide"
    },
    "tags": [
     "subslide"
    ]
   },
   "outputs": [],
   "source": [
    "process_data_from_file(\"good.data\")"
   ]
  },
  {
   "cell_type": "code",
   "execution_count": null,
   "id": "94b441c1de7dce49",
   "metadata": {},
   "outputs": [],
   "source": [
    "# process_data_from_file(\"bad.data\")"
   ]
  },
  {
   "cell_type": "code",
   "execution_count": null,
   "id": "aae835f667fb3bda",
   "metadata": {},
   "outputs": [],
   "source": [
    "# process_data_from_file(\"worse.data\")"
   ]
  },
  {
   "cell_type": "markdown",
   "id": "f583ffc114cdce55",
   "metadata": {
    "lang": "de",
    "lines_to_next_cell": 2,
    "slideshow": {
     "slide_type": "subslide"
    },
    "tags": [
     "subslide"
    ]
   },
   "source": [
    "\n",
    "## Mini-Workshop: Freigeben von Ressourcen\n",
    "\n",
    "Ihr Programm enthält die folgende Klasse, die eine Datenbankverbindung repräsentiert:"
   ]
  },
  {
   "cell_type": "code",
   "execution_count": null,
   "id": "568f9693dbc80ab2",
   "metadata": {
    "lines_to_next_cell": 2,
    "tags": [
     "keep"
    ]
   },
   "outputs": [],
   "source": [
    "class Database:\n",
    "    def __init__(self):\n",
    "        self.id = f\"db-{id(self) % 100}\"\n",
    "        self.connected = False\n",
    "\n",
    "    def connect(self):\n",
    "        print(f\"Connecting to database {self.id}.\")\n",
    "        self.connected = True\n",
    "\n",
    "    def disconnect(self):\n",
    "        print(f\"Disconnecting from database {self.id}.\")\n",
    "        self.connected = False\n",
    "\n",
    "    def read_data(self):\n",
    "        if self.connected:\n",
    "            print(f\"Reading data from database {self.id}.\")\n",
    "        else:\n",
    "            raise RuntimeError(\"Not connected to database.\")"
   ]
  },
  {
   "cell_type": "markdown",
   "id": "c711a944492fb8cb",
   "metadata": {
    "lang": "de",
    "slideshow": {
     "slide_type": "subslide"
    },
    "tags": [
     "subslide"
    ]
   },
   "source": [
    "\n",
    "Ihre Anwendung verwendet die Datenbank in einer Funktion `process_data(db: Database)`:"
   ]
  },
  {
   "cell_type": "code",
   "execution_count": null,
   "id": "89a6497c42a17e01",
   "metadata": {
    "lines_to_next_cell": 2,
    "tags": [
     "keep"
    ]
   },
   "outputs": [],
   "source": [
    "def process_data(db: Database):\n",
    "    print(f\"Processing data with database {db.id}.\")\n",
    "    db.read_data()"
   ]
  },
  {
   "cell_type": "markdown",
   "id": "db1e2485d8365764",
   "metadata": {
    "lang": "de",
    "slideshow": {
     "slide_type": "subslide"
    },
    "tags": [
     "subslide"
    ]
   },
   "source": [
    "\n",
    "Da Datenbankverbindungen viele Ressourcen in der verwendeten Datenbank belegen, muss\n",
    "die Verbindung nach ihrer Verwendung wieder mit `disconnect()` freigegeben werden.\n",
    "\n",
    "Einer Ihrer Kollegen hat versucht das Problem folgendermaßen zu lösen:"
   ]
  },
  {
   "cell_type": "code",
   "execution_count": null,
   "id": "7c6f17cd9ab7fa7e",
   "metadata": {
    "lines_to_next_cell": 2,
    "tags": [
     "keep"
    ]
   },
   "outputs": [],
   "source": [
    "def our_great_app():\n",
    "    db = Database()\n",
    "    db.connect()\n",
    "    process_data(db)\n",
    "    db.disconnect()"
   ]
  },
  {
   "cell_type": "markdown",
   "id": "79ab076cca700b6d",
   "metadata": {
    "lang": "de",
    "lines_to_next_cell": 2,
    "slideshow": {
     "slide_type": "subslide"
    },
    "tags": [
     "subslide"
    ]
   },
   "source": [
    "\n",
    "Nach einer Änderung der `process_data()` Funktion kommt es immer wieder\n",
    "vor, dass Ihr Programm die Datenbankverbindung nicht freigibt.\n",
    "\n",
    "- Welche Änderung kann zu diesem Verhalten geführt haben?\n",
    "- Ändern Sie `process_data()` entsprechend ab, und Testen Sie, dass\n",
    "  die Datenbankverbindung wirklich nicht freigegeben wird:"
   ]
  },
  {
   "cell_type": "code",
   "execution_count": null,
   "id": "0fca6e72be0bdaf3",
   "metadata": {
    "lines_to_next_cell": 2,
    "tags": [
     "alt"
    ]
   },
   "outputs": [],
   "source": [
    "def process_data(db: Database):  # noqa\n",
    "    print(f\"Processing data with database {db.id}.\")\n",
    "    # db.read_data()\n",
    "    raise ValueError(\"Error reading Data!\")"
   ]
  },
  {
   "cell_type": "code",
   "execution_count": null,
   "id": "80412993b5859959",
   "metadata": {
    "lines_to_next_cell": 2,
    "tags": [
     "keep"
    ]
   },
   "outputs": [],
   "source": [
    "# our_great_app()"
   ]
  },
  {
   "cell_type": "markdown",
   "id": "67d541517f7a3726",
   "metadata": {
    "lang": "de",
    "slideshow": {
     "slide_type": "subslide"
    },
    "tags": [
     "subslide"
    ]
   },
   "source": [
    "\n",
    "- Modifizieren Sie `our_great_app()` so, dass dieser Fehler vermieden wird.\n",
    "- Implementieren Sie die Lösung so, dass sie das Problem auch bei zukünftigen\n",
    "  Änderungen vermeiden.\n",
    "- Testen Sie, dass die Datenbankverbindung jetzt wirklich freigegeben wird."
   ]
  },
  {
   "cell_type": "code",
   "execution_count": null,
   "id": "39f97a2c9ea14e4d",
   "metadata": {
    "lines_to_next_cell": 2,
    "tags": [
     "alt"
    ]
   },
   "outputs": [],
   "source": [
    "def our_great_app():  # noqa\n",
    "    db = Database()\n",
    "    db.connect()\n",
    "    try:\n",
    "        process_data(db)\n",
    "    finally:\n",
    "        db.disconnect()"
   ]
  },
  {
   "cell_type": "code",
   "execution_count": null,
   "id": "78510e41e0cf86dd",
   "metadata": {},
   "outputs": [],
   "source": [
    "# our_great_app()"
   ]
  }
 ],
 "metadata": {
  "jupytext": {
   "cell_metadata_filter": "lang,tags,-all",
   "main_language": "python",
   "notebook_metadata_filter": "-all"
  },
  "kernelspec": {
   "display_name": "Python 3 (ipykernel)",
   "language": "python",
   "name": "python3"
  },
  "language_info": {
   "codemirror_mode": {
    "name": "ipython",
    "version": 3
   },
   "file_extension": ".py",
   "mimetype": "text/x-python",
   "name": "python",
   "nbconvert_exporter": "python",
   "pygments_lexer": "ipython3"
  }
 },
 "nbformat": 4,
 "nbformat_minor": 5
}
