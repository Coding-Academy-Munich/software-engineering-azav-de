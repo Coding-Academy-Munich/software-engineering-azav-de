{
 "cells": [
  {
   "cell_type": "markdown",
   "id": "ca1ad3dd184ac018",
   "metadata": {
    "lang": "de",
    "slideshow": {
     "slide_type": "slide"
    },
    "tags": [
     "slide"
    ]
   },
   "source": [
    "\n",
    "<img src=\"data:image/svg+xml;base64,PHN2ZyB4bWxucz0iaHR0cDovL3d3dy53My5vcmcvMjAwMC9zdmciIHhtbG5zOnhsaW5rPSJodHRw\n",
    "Oi8vd3d3LnczLm9yZy8xOTk5L3hsaW5rIiB3aWR0aD0iMTExLjE2MSIgaGVpZ2h0PSIxMzQuNjY4\n",
    "IiB2ZXJzaW9uPSIxLjAiPjxkZWZzPjxsaW5lYXJHcmFkaWVudCBpZD0iYyI+PHN0b3Agb2Zmc2V0\n",
    "PSIwIiBzdHlsZT0ic3RvcC1jb2xvcjojYjhiOGI4O3N0b3Atb3BhY2l0eTouNDk4MDM5MjIiLz48\n",
    "c3RvcCBvZmZzZXQ9IjEiIHN0eWxlPSJzdG9wLWNvbG9yOiM3ZjdmN2Y7c3RvcC1vcGFjaXR5OjAi\n",
    "Lz48L2xpbmVhckdyYWRpZW50PjxsaW5lYXJHcmFkaWVudCBpZD0iYSI+PHN0b3Agb2Zmc2V0PSIw\n",
    "IiBzdHlsZT0ic3RvcC1jb2xvcjojZmZkNDNiO3N0b3Atb3BhY2l0eToxIi8+PHN0b3Agb2Zmc2V0\n",
    "PSIxIiBzdHlsZT0ic3RvcC1jb2xvcjojZmZlODczO3N0b3Atb3BhY2l0eToxIi8+PC9saW5lYXJH\n",
    "cmFkaWVudD48bGluZWFyR3JhZGllbnQgaWQ9ImIiPjxzdG9wIG9mZnNldD0iMCIgc3R5bGU9InN0\n",
    "b3AtY29sb3I6IzVhOWZkNDtzdG9wLW9wYWNpdHk6MSIvPjxzdG9wIG9mZnNldD0iMSIgc3R5bGU9\n",
    "InN0b3AtY29sb3I6IzMwNjk5ODtzdG9wLW9wYWNpdHk6MSIvPjwvbGluZWFyR3JhZGllbnQ+PGxp\n",
    "bmVhckdyYWRpZW50IHhsaW5rOmhyZWY9IiNhIiBpZD0iZSIgeDE9IjE1MC45NjEiIHgyPSIxMTIu\n",
    "MDMxIiB5MT0iMTkyLjM1MiIgeTI9IjEzNy4yNzMiIGdyYWRpZW50VHJhbnNmb3JtPSJtYXRyaXgo\n",
    "LjU2MjU0IDAgMCAuNTY3OTcgLTE0Ljk5MSAtMTEuNzAyKSIgZ3JhZGllbnRVbml0cz0idXNlclNw\n",
    "YWNlT25Vc2UiLz48bGluZWFyR3JhZGllbnQgeGxpbms6aHJlZj0iI2IiIGlkPSJkIiB4MT0iMjYu\n",
    "NjQ5IiB4Mj0iMTM1LjY2NSIgeTE9IjIwLjYwNCIgeTI9IjExNC4zOTgiIGdyYWRpZW50VHJhbnNm\n",
    "b3JtPSJtYXRyaXgoLjU2MjU0IDAgMCAuNTY3OTcgLTE0Ljk5MSAtMTEuNzAyKSIgZ3JhZGllbnRV\n",
    "bml0cz0idXNlclNwYWNlT25Vc2UiLz48cmFkaWFsR3JhZGllbnQgeGxpbms6aHJlZj0iI2MiIGlk\n",
    "PSJmIiBjeD0iNjEuNTE5IiBjeT0iMTMyLjI4NiIgcj0iMjkuMDM3IiBmeD0iNjEuNTE5IiBmeT0i\n",
    "MTMyLjI4NiIgZ3JhZGllbnRUcmFuc2Zvcm09Im1hdHJpeCgwIC0uMjM5OTUgMS4wNTQ2NyAwIC04\n",
    "My43IDE0Mi40NjIpIiBncmFkaWVudFVuaXRzPSJ1c2VyU3BhY2VPblVzZSIvPjwvZGVmcz48cGF0\n",
    "aCBkPSJNNTQuOTE5IDBjLTQuNTg0LjAyMi04Ljk2MS40MTMtMTIuODEzIDEuMDk1QzMwLjc2IDMu\n",
    "MDk5IDI4LjcgNy4yOTUgMjguNyAxNS4wMzJ2MTAuMjE5aDI2LjgxM3YzLjQwNkgxOC42MzhjLTcu\n",
    "NzkzIDAtMTQuNjE2IDQuNjg0LTE2Ljc1IDEzLjU5NC0yLjQ2MiAxMC4yMTMtMi41NzEgMTYuNTg2\n",
    "IDAgMjcuMjUgMS45MDUgNy45MzggNi40NTcgMTMuNTk0IDE0LjI1IDEzLjU5NGg5LjIxOHYtMTIu\n",
    "MjVjMC04Ljg1IDcuNjU3LTE2LjY1NyAxNi43NS0xNi42NTdoMjYuNzgyYzcuNDU0IDAgMTMuNDA2\n",
    "LTYuMTM4IDEzLjQwNi0xMy42MjV2LTI1LjUzYzAtNy4yNjctNi4xMy0xMi43MjYtMTMuNDA2LTEz\n",
    "LjkzOEM2NC4yODIuMzI4IDU5LjUwMi0uMDIgNTQuOTE4IDBtLTE0LjUgOC4yMmMyLjc3IDAgNS4w\n",
    "MzEgMi4yOTggNS4wMzEgNS4xMjUgMCAyLjgxNi0yLjI2MiA1LjA5My01LjAzMSA1LjA5My0yLjc4\n",
    "IDAtNS4wMzEtMi4yNzctNS4wMzEtNS4wOTMgMC0yLjgyNyAyLjI1MS01LjEyNSA1LjAzLTUuMTI1\n",
    "IiBzdHlsZT0iZmlsbDp1cmwoI2QpO2ZpbGwtb3BhY2l0eToxIi8+PHBhdGggZD0iTTg1LjYzOCAy\n",
    "OC42NTd2MTEuOTA2YzAgOS4yMzEtNy44MjYgMTctMTYuNzUgMTdINDIuMTA2Yy03LjMzNiAwLTEz\n",
    "LjQwNiA2LjI3OS0xMy40MDYgMTMuNjI1Vjk2LjcyYzAgNy4yNjYgNi4zMTkgMTEuNTQgMTMuNDA2\n",
    "IDEzLjYyNSA4LjQ4OCAyLjQ5NSAxNi42MjcgMi45NDYgMjYuNzgyIDAgNi43NS0xLjk1NSAxMy40\n",
    "MDYtNS44ODggMTMuNDA2LTEzLjYyNVY4Ni41SDU1LjUxM3YtMy40MDVIOTUuN2M3Ljc5MyAwIDEw\n",
    "LjY5Ni01LjQzNiAxMy40MDYtMTMuNTk0IDIuOC04LjM5OSAyLjY4LTE2LjQ3NiAwLTI3LjI1LTEu\n",
    "OTI1LTcuNzU4LTUuNjA0LTEzLjU5NC0xMy40MDYtMTMuNTk0ek03MC41NzUgOTMuMzEzYzIuNzgg\n",
    "MCA1LjAzMSAyLjI3OCA1LjAzMSA1LjA5NCAwIDIuODI3LTIuMjUxIDUuMTI1LTUuMDMxIDUuMTI1\n",
    "LTIuNzcgMC01LjAzMS0yLjI5OC01LjAzMS01LjEyNSAwLTIuODE2IDIuMjYxLTUuMDk0IDUuMDMx\n",
    "LTUuMDk0IiBzdHlsZT0iZmlsbDp1cmwoI2UpO2ZpbGwtb3BhY2l0eToxIi8+PGVsbGlwc2UgY3g9\n",
    "IjU1LjgxNyIgY3k9IjEyNy43MDEiIHJ4PSIzNS45MzEiIHJ5PSI2Ljk2NyIgc3R5bGU9Im9wYWNp\n",
    "dHk6LjQ0MzgyO2ZpbGw6dXJsKCNmKTtmaWxsLW9wYWNpdHk6MTtmaWxsLXJ1bGU6bm9uemVybztz\n",
    "dHJva2U6bm9uZTtzdHJva2Utd2lkdGg6MTUuNDE3NDtzdHJva2UtbWl0ZXJsaW1pdDo0O3N0cm9r\n",
    "ZS1kYXNoYXJyYXk6bm9uZTtzdHJva2Utb3BhY2l0eToxIi8+PC9zdmc+\n",
    "\"\n",
    "     style=\"display:block;margin:auto;width:10%\" alt=\"Python Logo\"/>\n",
    "<br>\n",
    "\n",
    "<div style=\"text-align:center; font-size:200%;\">\n",
    " <b>GRASP: Informationsexperte</b>\n",
    "</div>\n",
    "<br/>\n",
    "<div style=\"text-align:center;\">Dr. Matthias Hölzl</div>\n",
    "<br/>"
   ]
  },
  {
   "cell_type": "markdown",
   "id": "5a39c9f09e93ad68",
   "metadata": {
    "slideshow": {
     "slide_type": "slide"
    },
    "tags": [
     "slide"
    ]
   },
   "source": [
    "<img src=\"img/cards-19.png\" width=\"100%\">"
   ]
  },
  {
   "cell_type": "markdown",
   "id": "7402fcb6becd2a6b",
   "metadata": {
    "lang": "de",
    "slideshow": {
     "slide_type": "subslide"
    },
    "tags": [
     "subslide"
    ]
   },
   "source": [
    "\n",
    "## Wie läuft ein Spiel ab?\n",
    "\n",
    "- Spieler bekommen Karten\n",
    "- Einer der Spieler beginnt\n",
    "- Spieler legt eine Karte ab\n",
    "- Wenn er das nicht kann\n",
    "    - Zieht er eine Karte\n",
    "    - Legt diese wieder ab, falls möglich\n",
    "- Wenn er keine Karten mehr hat, hat er gewonnen\n",
    "- Ansonsten ist der nächste Spieler dran"
   ]
  },
  {
   "cell_type": "markdown",
   "id": "6f5a59a4c564a1fe",
   "metadata": {
    "lang": "de",
    "slideshow": {
     "slide_type": "subslide"
    },
    "tags": [
     "subslide"
    ]
   },
   "source": [
    "\n",
    "## Wer ist für das Verteilen der Karten zuständig?\n",
    "\n",
    "- Die Spieler?\n",
    "  - So funktioniert es in der wirklichen Welt\n",
    "  - Wie müsste dazu unser Domänenmodell aussehen?"
   ]
  },
  {
   "cell_type": "markdown",
   "id": "7a3330543a2421ee",
   "metadata": {
    "lang": "de",
    "slideshow": {
     "slide_type": "subslide"
    },
    "tags": [
     "subslide"
    ]
   },
   "source": [
    "\n",
    "<div style=\"float:left;margin:auto;padding:80px 0;width:55%\">\n",
    "<ul>\n",
    "<li>Spieler kennen sich nicht gegenseitig</li>\n",
    "<li>Wir könnten eine Beziehung zwischen Spielern einführen</li>\n",
    "<li>Aber: wer verwaltet die?</li>\n",
    "</ul>\n",
    "</div>\n",
    "<img src=\"img/crazy-eights-dm.svg\"\n",
    "     style=\"float:right;margin:auto;width:45%\"/>"
   ]
  },
  {
   "cell_type": "markdown",
   "id": "97ec3727fe0d5c60",
   "metadata": {
    "lang": "de",
    "slideshow": {
     "slide_type": "subslide"
    },
    "tags": [
     "subslide"
    ]
   },
   "source": [
    "\n",
    "<div style=\"float:left;margin:auto;padding:80px 0;width:35%\">\n",
    "<ul>\n",
    "<li><code>Game</code></li>\n",
    "<li><strike><code>Player</code></strike></li>\n",
    "<li><code>Deck</code></li>\n",
    "<li>Eine andere Klasse?</li>\n",
    "</ul>\n",
    "</div>\n",
    "<img src=\"img/crazy-eights-dm.svg\"\n",
    "     style=\"float:right;margin:auto;width:60%\"/>"
   ]
  },
  {
   "cell_type": "markdown",
   "id": "cfa32a9d099f867a",
   "metadata": {
    "lang": "de",
    "slideshow": {
     "slide_type": "slide"
    },
    "tags": [
     "slide"
    ]
   },
   "source": [
    "\n",
    "## Informationsexperte (Information Expert, GRASP)\n",
    "\n",
    "### Frage\n",
    "\n",
    "An welche Klasse sollen wir eine Verantwortung delegieren?\n",
    "\n",
    "### Antwort\n",
    "\n",
    "An die Klasse, die die **meisten Informationen** hat, um die Verantwortung zu\n",
    "erfüllen.\n",
    "\n",
    "Diese Klasse heißt **Informationsexperte** oder einfach **Experte**."
   ]
  },
  {
   "cell_type": "markdown",
   "id": "7f6cc2c457f0024e",
   "metadata": {
    "lang": "de",
    "slideshow": {
     "slide_type": "subslide"
    },
    "tags": [
     "subslide"
    ]
   },
   "source": [
    "\n",
    "<div style=\"float:left;margin:auto;padding:80px 0;width:50%\">\n",
    "<h2>Wer ist der Informationsexperte?</h2>\n",
    "<ul>\n",
    "<li><code>Game</code> kennt alle Spieler</li>\n",
    "<li><code>Game</code> kennt das <code>Deck</code></li>\n",
    "<li>Keine andere Klasse kennt alle Spieler und das Kartenspiel</li>\n",
    "</ul>\n",
    "<p>$\\Rightarrow$ <code>Game</code> ist der Informationsexperte</p>\n",
    "</div>\n",
    "<div style=\"float:right;margin:auto;padding:80px 0;width:45%\">\n",
    "<img src=\"img/crazy-eights-dm.svg\"\n",
    "     style=\"float:right;margin:auto;width:100%\"/>\n",
    "</div>"
   ]
  },
  {
   "cell_type": "markdown",
   "id": "4180f6bad52c414d",
   "metadata": {
    "lang": "de",
    "slideshow": {
     "slide_type": "subslide"
    },
    "tags": [
     "subslide"
    ]
   },
   "source": [
    "\n",
    "- Wie kann `Game` die Karten verteilen?\n",
    "- `Game` kann die benötigte Funktionalität selber implementieren\n",
    "- `Game` kann die Aufgabe an eine andere Klasse delegieren"
   ]
  },
  {
   "cell_type": "markdown",
   "id": "a7be6020f7e2b0d2",
   "metadata": {
    "lang": "de",
    "slideshow": {
     "slide_type": "subslide"
    },
    "tags": [
     "subslide"
    ]
   },
   "source": [
    "\n",
    "### Implementierung der ersten Variante\n",
    "\n",
    "`Game` implementiert die Funktionalität selber\n",
    "\n",
    "- Iteriere über alle Spieler\n",
    "- Ziehe 7 Karten aus dem Kartenspiel\n",
    "- Füge die Karten zur Hand des Spielers hinzu\n",
    "- Behandle den Fall, dass das Kartenspiel leer wird (optional)"
   ]
  },
  {
   "cell_type": "markdown",
   "id": "d3976a68dc1cd120",
   "metadata": {
    "lang": "de",
    "slideshow": {
     "slide_type": "subslide"
    },
    "tags": [
     "subslide"
    ]
   },
   "source": [
    "\n",
    "<ul>\n",
    "  <li>Was ist zur Implementierung notwendig?\n",
    "    <ul>\n",
    "      <li class=\"fragment\">Zugriff auf alle Spieler</li>\n",
    "      <li class=\"fragment\">Zugriff auf das Kartenspiel</li>\n",
    "      <li class=\"fragment\"><em>Ziehen einer Karte aus dem Kartenspiel</em></li>\n",
    "      <li class=\"fragment\"><em>Hinzufügen einer Karte zur Hand eines\n",
    "        Spielers</em></li>\n",
    "    </ul>\n",
    "  </li>\n",
    "  <li class=\"fragment\">Das sind zwei neue Verantwortungen</li>\n",
    "</ul>"
   ]
  },
  {
   "cell_type": "markdown",
   "id": "6e693d90d14ac60d",
   "metadata": {
    "lang": "de",
    "slideshow": {
     "slide_type": "subslide"
    },
    "tags": [
     "subslide"
    ]
   },
   "source": [
    "\n",
    "### Wer sind die Informationsexperten?\n",
    "\n",
    "<div style=\"float:left;margin:auto;padding:80px 0;width:60%\">\n",
    "<ul>\n",
    "<li class=\"fragment\">Ziehen einer Karte aus dem Kartenspiel</li>\n",
    "  <ul><li class=\"fragment\"><code>Deck</code> kennt alle Karten</li></ul>\n",
    "<li class=\"fragment\">Hinzufügen einer Karte zur Hand eines Spielers</li>\n",
    "  <ul><li class=\"fragment\"><code>Player</code> kennt seine Hand</li></ul>\n",
    "<li class=\"fragment\">Andere Klassen kennen diese Informationen nicht</li>\n",
    "<li class=\"fragment\">$\\Rightarrow$ <code>Deck</code> und <code>Player</code> sind die\n",
    "  Informationsexperten</li>\n",
    "</ul>\n",
    "</div>\n",
    "<div style=\"float:right;margin:auto;padding:80px 0;width:40%\">\n",
    "<img src=\"img/crazy-eights-dm.svg\"\n",
    "     style=\"float:right;margin:auto;width:100%\"/>\n",
    "</div>"
   ]
  },
  {
   "cell_type": "code",
   "execution_count": null,
   "id": "fb8d687833306347",
   "metadata": {
    "slideshow": {
     "slide_type": "subslide"
    },
    "tags": [
     "subslide",
     "alt"
    ]
   },
   "outputs": [],
   "source": [
    "class CrazyEightsGame:  # noqa\n",
    "    \"\"\"Implementation of the Crazy 8 game that implements drawing the cards itself.\"\"\"\n",
    "\n",
    "    def __init__(self, players):\n",
    "        self.deck = Deck()\n",
    "        self.players = players\n",
    "        self.deal_cards()\n",
    "\n",
    "    def __repr__(self):\n",
    "        return f\"CrazyEightsGame({self.players!r})\"\n",
    "\n",
    "    def __str__(self):\n",
    "        result = f\"Crazy Eights with {len(self.players)} players:\\n\"\n",
    "        for player in self.players:\n",
    "            result += f\"  {player}\\n\"\n",
    "        return result\n",
    "\n",
    "    def deal_cards(self):\n",
    "        for player in self.players:\n",
    "            for _ in range(7):\n",
    "                card = self.deck.draw_card()\n",
    "                if card:\n",
    "                    player.take_card(card)\n",
    "                else:\n",
    "                    raise ValueError(\"Not enough cards in deck\")"
   ]
  },
  {
   "cell_type": "code",
   "execution_count": null,
   "id": "69bcfd5aa8ae6aa3",
   "metadata": {
    "slideshow": {
     "slide_type": "subslide"
    },
    "tags": [
     "subslide",
     "alt"
    ]
   },
   "outputs": [],
   "source": [
    "class Player:  # noqa\n",
    "    def __init__(self, name: str):\n",
    "        self.name = name\n",
    "        self.hand = []\n",
    "\n",
    "    def __repr__(self) -> str:\n",
    "        return f\"Player({self.name!r})\"\n",
    "\n",
    "    def __str__(self) -> str:\n",
    "        return f\"{self.name} ({', '.join(str(c) for c in self.hand)})\"\n",
    "\n",
    "    def take_card(self, card: \"Card\") -> None:\n",
    "        self.hand.append(card)"
   ]
  },
  {
   "cell_type": "code",
   "execution_count": null,
   "id": "2852e9d7e9bf5f9c",
   "metadata": {
    "slideshow": {
     "slide_type": "subslide"
    },
    "tags": [
     "subslide",
     "keep"
    ]
   },
   "outputs": [],
   "source": [
    "class Card:\n",
    "    def __init__(self, suit, rank):\n",
    "        self.suit = suit\n",
    "        self.rank = rank\n",
    "\n",
    "    def __repr__(self) -> str:\n",
    "        return f\"Card({self.suit!r}, {self.rank!r})\"\n",
    "\n",
    "    def __str__(self) -> str:\n",
    "        return f\"{self.rank}{self.suit}\"\n",
    "\n",
    "    def __eq__(self, other: object) -> bool:\n",
    "        if not isinstance(other, Card):\n",
    "            return NotImplemented\n",
    "        return self.suit == other.suit and self.rank == other.rank"
   ]
  },
  {
   "cell_type": "code",
   "execution_count": null,
   "id": "08b28784c769c5c4",
   "metadata": {
    "slideshow": {
     "slide_type": "subslide"
    },
    "tags": [
     "keep",
     "subslide"
    ]
   },
   "outputs": [],
   "source": [
    "SUITS = [\"♥\", \"♦\", \"♣\", \"♠\"]\n",
    "RANKS = [\"2\", \"3\", \"4\", \"5\", \"6\", \"7\", \"8\", \"9\", \"T\", \"J\", \"Q\", \"K\", \"A\"]"
   ]
  },
  {
   "cell_type": "code",
   "execution_count": null,
   "id": "06ef688472b56120",
   "metadata": {
    "tags": [
     "keep"
    ]
   },
   "outputs": [],
   "source": [
    "import random"
   ]
  },
  {
   "cell_type": "code",
   "execution_count": null,
   "id": "71d0890da495a003",
   "metadata": {
    "tags": [
     "alt"
    ]
   },
   "outputs": [],
   "source": [
    "class Deck:  # noqa\n",
    "    def __init__(self):\n",
    "        self.cards = [Card(suit, rank) for suit in SUITS for rank in RANKS]\n",
    "        random.shuffle(self.cards)\n",
    "\n",
    "    def __repr__(self) -> str:\n",
    "        return f\"<Deck with {len(self.cards)} cards>\"\n",
    "\n",
    "    def __str__(self) -> str:\n",
    "        return f\"Deck with {len(self.cards)} cards\" if self.cards else \"Empty deck\"\n",
    "\n",
    "    def __len__(self) -> int:\n",
    "        return len(self.cards)\n",
    "\n",
    "    def __getitem__(self, index) -> Card:\n",
    "        return self.cards[index]\n",
    "\n",
    "    def draw_card(self) -> Card | None:\n",
    "        return self.cards.pop() if self.cards else None"
   ]
  },
  {
   "cell_type": "code",
   "execution_count": null,
   "id": "4f994c9cb535afd6",
   "metadata": {
    "slideshow": {
     "slide_type": "subslide"
    },
    "tags": [
     "subslide"
    ]
   },
   "outputs": [],
   "source": [
    "game = CrazyEightsGame([Player(\"Jack\"), Player(\"Jill\")])"
   ]
  },
  {
   "cell_type": "code",
   "execution_count": null,
   "id": "9f18b74b165004ad",
   "metadata": {
    "lines_to_next_cell": 2
   },
   "outputs": [],
   "source": [
    "print(game)"
   ]
  },
  {
   "cell_type": "markdown",
   "id": "5e8ca4a1e7a84624",
   "metadata": {
    "lang": "de",
    "lines_to_next_cell": 2,
    "slideshow": {
     "slide_type": "subslide"
    },
    "tags": [
     "subslide"
    ]
   },
   "source": [
    "\n",
    "### Implementierung der zweiten Variante\n",
    "\n",
    "`Game` delegiert die Aufgabe an eine andere Klasse\n",
    "\n",
    "- Iteriere über alle Spieler\n",
    "- Informiere den Spieler, dass er eine Karte ziehen soll\n",
    "  - Dazu braucht der Spieler Zugriff auf das Kartenspiel\n",
    "  - Wir übergeben eine Referenz auf das Kartenspiel an den Spieler"
   ]
  },
  {
   "cell_type": "code",
   "execution_count": null,
   "id": "ab59ea844dcdabb1",
   "metadata": {
    "slideshow": {
     "slide_type": "subslide"
    },
    "tags": [
     "subslide",
     "alt"
    ]
   },
   "outputs": [],
   "source": [
    "class CrazyEightsGame:  # noqa\n",
    "    \"\"\"Implementation of the Crazy 8 game that delegates drawing cards to the player.\"\"\"\n",
    "\n",
    "    def __init__(self, players):\n",
    "        self.deck = Deck()\n",
    "        self.players = players\n",
    "        self.deal_cards()\n",
    "\n",
    "    def __repr__(self):\n",
    "        return f\"CrazyEightsGame({self.players!r})\"\n",
    "\n",
    "    def __str__(self):\n",
    "        result = f\"Crazy Eights with {len(self.players)} players:\\n\"\n",
    "        for player in self.players:\n",
    "            result += f\"  {player}\\n\"\n",
    "        return result\n",
    "\n",
    "    def deal_cards(self):\n",
    "        for player in self.players:\n",
    "            player.draw_n_cards(self.deck, 7)"
   ]
  },
  {
   "cell_type": "code",
   "execution_count": null,
   "id": "c6a3f7313ba06918",
   "metadata": {
    "slideshow": {
     "slide_type": "subslide"
    },
    "tags": [
     "subslide",
     "keep"
    ]
   },
   "outputs": [],
   "source": [
    "from typing import Optional"
   ]
  },
  {
   "cell_type": "code",
   "execution_count": null,
   "id": "7d13b81ac6f0120b",
   "metadata": {
    "tags": [
     "alt"
    ]
   },
   "outputs": [],
   "source": [
    "class Player:  # noqa\n",
    "    def __init__(self, name: str):\n",
    "        self.name = name\n",
    "        self.hand = []\n",
    "\n",
    "    def __repr__(self) -> str:\n",
    "        return f\"Player({self.name!r})\"\n",
    "\n",
    "    def __str__(self) -> str:\n",
    "        return f\"{self.name} ({', '.join(str(c) for c in self.hand)})\"\n",
    "\n",
    "    def draw_n_cards(self, deck: \"Deck\", n: int) -> None:\n",
    "        for _ in range(n):\n",
    "            self.draw_card(deck)\n",
    "\n",
    "    def draw_card(self, deck: \"Deck\") -> Optional[\"Card\"]:\n",
    "        card = deck.draw_card()\n",
    "        if card:\n",
    "            self.hand.append(card)\n",
    "        return card"
   ]
  },
  {
   "cell_type": "code",
   "execution_count": null,
   "id": "b80e43efb521c980",
   "metadata": {
    "slideshow": {
     "slide_type": "subslide"
    },
    "tags": [
     "subslide"
    ]
   },
   "outputs": [],
   "source": [
    "game = CrazyEightsGame([Player(\"Jack\"), Player(\"Jill\")])"
   ]
  },
  {
   "cell_type": "code",
   "execution_count": null,
   "id": "36a3fd9087e67872",
   "metadata": {},
   "outputs": [],
   "source": [
    "print(game)"
   ]
  },
  {
   "cell_type": "markdown",
   "id": "24c95c983be5ea51",
   "metadata": {
    "lang": "de",
    "lines_to_next_cell": 2,
    "slideshow": {
     "slide_type": "subslide"
    },
    "tags": [
     "subslide"
    ]
   },
   "source": [
    "\n",
    "<h3>Vergleich der Varianten</h3>\n",
    "<h4>1. Variante</h4>\n",
    "<ul>\n",
    "  <li class=\"fragment\">\n",
    "    <code>Player</code> ist von <code>Deck</code> unabhängig (geringere Kopplung)\n",
    "  </li>\n",
    "  <li class=\"fragment\"><code>Game</code> hat mehr Verantwortungen</li>\n",
    "  <li class=\"fragment\">\n",
    "    <code>Game</code> hat Verantwortungen mit unterschiedlichen Abstraktionsgraden:\n",
    "    <ul>\n",
    "      <li class=\"fragment\">Orchestrierung des Spiels</li>\n",
    "      <li class=\"fragment\">\n",
    "        Implementierung des Mechanismus zum Verteilen der Karten\n",
    "      </li>\n",
    "    </ul>\n",
    "  </li>\n",
    "</ul>"
   ]
  },
  {
   "cell_type": "markdown",
   "id": "7dd44154f5fd01be",
   "metadata": {
    "lang": "de",
    "lines_to_next_cell": 2,
    "slideshow": {
     "slide_type": "subslide"
    },
    "tags": [
     "subslide"
    ]
   },
   "source": [
    "\n",
    "<h4>2. Variante</h4>\n",
    "<ul>\n",
    "  <li class=\"fragment\"><code>Game</code> hat weniger Verantwortungen\n",
    "    <ul>\n",
    "      <li class=\"fragment\">\n",
    "        Alle Verantwortungen haben den ähnlichen Abstraktionsgrad\n",
    "      </li>\n",
    "    </ul>\n",
    "  </li>\n",
    "  <li class=\"fragment\"><code>Player</code> hat mehr Verantwortungen\n",
    "    <ul>\n",
    "      <li class=\"fragment\">Höhere Kopplung</li>\n",
    "      <li class=\"fragment\">\n",
    "        Mehr Flexibilität in der Implementierung der Verantwortungen\n",
    "      </li>\n",
    "    </ul>\n",
    "  </li>\n",
    "</ul>"
   ]
  },
  {
   "cell_type": "markdown",
   "id": "4164330388c9bbea",
   "metadata": {
    "lang": "de",
    "slideshow": {
     "slide_type": "subslide"
    },
    "tags": [
     "subslide"
    ]
   },
   "source": [
    "\n",
    "- Sie können sich jetzt den Workshops versuchen\n",
    "- Falls Sie das Gefühl haben, dass Sie noch zu wenig Übung haben, können Sie\n",
    "  sich das nächste Video ansehen, in dem wir die restlichen Verantwortungen\n",
    "  des Crazy-Eights-Spiels implementieren werden"
   ]
  },
  {
   "cell_type": "markdown",
   "id": "b1c0a58563564d06",
   "metadata": {
    "lang": "de",
    "slideshow": {
     "slide_type": "subslide"
    },
    "tags": [
     "subslide"
    ]
   },
   "source": [
    "\n",
    "## Workshop: Informationsexperte für Drei Gewinnt\n",
    "\n",
    "- Welche Verantwortungen gibt es im Drei-Gewinnt-Spiel?\n",
    "- Welche Klasse ist jeweils der Informationsexperte?\n",
    "- Implementieren Sie die Verantwortungen basierend auf Ihrer Analyse"
   ]
  },
  {
   "cell_type": "markdown",
   "id": "a09e83c9158e3ee3",
   "metadata": {
    "lang": "de",
    "slideshow": {
     "slide_type": "subslide"
    },
    "tags": [
     "subslide",
     "alt"
    ]
   },
   "source": [
    "\n",
    "### Verantwortungen im Drei-Gewinnt-Spiel\n",
    "\n",
    "| Verantwortung                           | Informationsexperte |\n",
    "| --------------------------------------- | ------------------- |\n",
    "| Ausführen der Hauptschleife             | `Game`              |\n",
    "| Darstellen des Spielfelds               | `Board`             |\n",
    "| Bestimmen des nächsten Spielers         | `Game`              |\n",
    "| Bestimmen des zu markierenden Feldes    | `Player`            |\n",
    "| Markieren eines Feldes                  | `Board`             |\n",
    "| Überprüfen, ob ein Spieler gewonnen hat | `Game`              |"
   ]
  },
  {
   "cell_type": "code",
   "execution_count": null,
   "id": "14cafbb174adeadc",
   "metadata": {
    "slideshow": {
     "slide_type": "subslide"
    },
    "tags": [
     "subslide"
    ]
   },
   "outputs": [],
   "source": [
    "class Mark:\n",
    "    EMPTY = \" \"\n",
    "    X = \"X\"\n",
    "    O = \"O\""
   ]
  },
  {
   "cell_type": "code",
   "execution_count": null,
   "id": "04a76def4bb5ea8b",
   "metadata": {
    "slideshow": {
     "slide_type": "subslide"
    },
    "tags": [
     "subslide",
     "alt"
    ]
   },
   "outputs": [],
   "source": [
    "class Field:\n",
    "    def __init__(self):\n",
    "        self.mark = Mark.EMPTY\n",
    "\n",
    "    def set_mark(self, mark):\n",
    "        if self.mark == Mark.EMPTY:\n",
    "            self.mark = mark\n",
    "            return True\n",
    "        return False\n",
    "\n",
    "    def __str__(self):\n",
    "        return self.mark"
   ]
  },
  {
   "cell_type": "code",
   "execution_count": null,
   "id": "b3f546d9bbc5e084",
   "metadata": {
    "slideshow": {
     "slide_type": "subslide"
    },
    "tags": [
     "subslide",
     "alt"
    ]
   },
   "outputs": [],
   "source": [
    "class Board:\n",
    "    def __init__(self):\n",
    "        self.fields = [[Field() for _ in range(3)] for _ in range(3)]\n",
    "\n",
    "    def display(self):\n",
    "        for row in self.fields:\n",
    "            print(\"|\".join(str(field) for field in row))\n",
    "            print(\"-+-+-\")\n",
    "\n",
    "    def is_full(self):\n",
    "        return all(field.mark != Mark.EMPTY for row in self.fields for field in row)\n",
    "\n",
    "    def set_mark(self, row, col, mark):\n",
    "        return self.fields[row][col].set_mark(mark)"
   ]
  },
  {
   "cell_type": "code",
   "execution_count": null,
   "id": "dff837cd13d1595d",
   "metadata": {
    "slideshow": {
     "slide_type": "subslide"
    },
    "tags": [
     "subslide",
     "alt"
    ]
   },
   "outputs": [],
   "source": [
    "class Player:\n",
    "    def __init__(self, name, mark):\n",
    "        self.name = name\n",
    "        self.mark = mark\n",
    "\n",
    "    def get_move(self):\n",
    "        col, row = None, None\n",
    "        while row is None:\n",
    "            try:\n",
    "                col, row = map(\n",
    "                    int,\n",
    "                    input(\n",
    "                        f\"{self.name}'s turn. Enter row and column \"\n",
    "                        \"(0-2, separated by space): \"\n",
    "                    ).split(),\n",
    "                )\n",
    "            except ValueError:\n",
    "                print(\"Invalid input, try again.\")\n",
    "                continue\n",
    "            if not (0 <= row < 3 and 0 <= col < 3):\n",
    "                print(\"Invalid input, try again.\")\n",
    "                row = None\n",
    "        return col, row"
   ]
  },
  {
   "cell_type": "code",
   "execution_count": null,
   "id": "927d0d7a00fa70e4",
   "metadata": {
    "slideshow": {
     "slide_type": "subslide"
    },
    "tags": [
     "subslide",
     "alt"
    ]
   },
   "outputs": [],
   "source": [
    "class TicTacToeGame:\n",
    "    def __init__(self, player1, player2):\n",
    "        self.board = Board()\n",
    "        self.players = [player1, player2]\n",
    "        self.current_player_index = 0\n",
    "\n",
    "    def switch_player(self):\n",
    "        self.current_player_index = 1 - self.current_player_index\n",
    "\n",
    "    def current_player(self):\n",
    "        return self.players[self.current_player_index]\n",
    "\n",
    "    def play(self):\n",
    "        while not self.board.is_full():\n",
    "            self.board.display()\n",
    "            player = self.current_player()\n",
    "            col, row = player.get_move()\n",
    "            if self.board.set_mark(row, col, player.mark):\n",
    "                if self.check_winner(row, col, player.mark):\n",
    "                    self.board.display()\n",
    "                    print(f\"Congratulations! {player.name} wins!\")\n",
    "                    return\n",
    "                self.switch_player()\n",
    "            else:\n",
    "                print(\"Field is already occupied, try again.\")\n",
    "        print(\"It's a draw!\")\n",
    "\n",
    "    def check_winner(self, row, col, mark):\n",
    "        # Check row, column, and diagonals for a win\n",
    "        win_row = all(self.board.fields[row][c].mark == mark for c in range(3))\n",
    "        win_col = all(self.board.fields[r][col].mark == mark for r in range(3))\n",
    "        win_diag1 = all(self.board.fields[i][i].mark == mark for i in range(3))\n",
    "        win_diag2 = all(self.board.fields[i][2 - i].mark == mark for i in range(3))\n",
    "        return win_row or win_col or win_diag1 or win_diag2"
   ]
  },
  {
   "cell_type": "code",
   "execution_count": null,
   "id": "7a35d320aaa5f393",
   "metadata": {
    "slideshow": {
     "slide_type": "subslide"
    },
    "tags": [
     "subslide",
     "alt"
    ]
   },
   "outputs": [],
   "source": [
    "ttt_player1 = Player(\"Jack\", Mark.X)"
   ]
  },
  {
   "cell_type": "code",
   "execution_count": null,
   "id": "387cb898667b0c3e",
   "metadata": {
    "slideshow": {
     "slide_type": "subslide"
    },
    "tags": [
     "subslide",
     "alt"
    ]
   },
   "outputs": [],
   "source": [
    "ttt_player2 = Player(\"Jill\", Mark.O)"
   ]
  },
  {
   "cell_type": "code",
   "execution_count": null,
   "id": "beb9b943c3cfface",
   "metadata": {
    "slideshow": {
     "slide_type": "subslide"
    },
    "tags": [
     "subslide",
     "alt"
    ]
   },
   "outputs": [],
   "source": [
    "ttt_game = TicTacToeGame(ttt_player1, ttt_player2)"
   ]
  },
  {
   "cell_type": "code",
   "execution_count": null,
   "id": "173d02e844c69b98",
   "metadata": {
    "lines_to_next_cell": 2,
    "slideshow": {
     "slide_type": "subslide"
    },
    "tags": [
     "subslide",
     "alt"
    ]
   },
   "outputs": [],
   "source": [
    "# ttt_game.play()"
   ]
  },
  {
   "cell_type": "markdown",
   "id": "460de29eedcf056c",
   "metadata": {
    "lang": "de",
    "slideshow": {
     "slide_type": "subslide"
    },
    "tags": [
     "subslide"
    ]
   },
   "source": [
    "\n",
    "## Optionaler Workshop: Informationsexperte für Crazy Eights\n",
    "\n",
    "- Welche weiteren Verantwortungen gibt es im Crazy-Eights-Spiel?\n",
    "- Welche Klasse ist jeweils der Informationsexperte?\n",
    "- Implementieren Sie die Verantwortungen basierend auf Ihrer Analyse"
   ]
  },
  {
   "cell_type": "code",
   "execution_count": null,
   "id": "f5e5fea6efdc0183",
   "metadata": {
    "slideshow": {
     "slide_type": "subslide"
    },
    "tags": [
     "subslide"
    ]
   },
   "outputs": [],
   "source": [
    "from enum import StrEnum"
   ]
  },
  {
   "cell_type": "code",
   "execution_count": null,
   "id": "c9d5ed730ae993c5",
   "metadata": {
    "slideshow": {
     "slide_type": "subslide"
    },
    "tags": [
     "subslide",
     "alt"
    ]
   },
   "outputs": [],
   "source": [
    "class TurnAction(StrEnum):\n",
    "    \"\"\"The action a player took on their turn.\"\"\"\n",
    "\n",
    "    PLAYED_CARD = \"played\"\n",
    "    DREW_CARD = \"drawn\"\n",
    "    FAILED_DRAW = \"draw failed\""
   ]
  },
  {
   "cell_type": "code",
   "execution_count": null,
   "id": "ca6676b3bdad4618",
   "metadata": {
    "slideshow": {
     "slide_type": "subslide"
    },
    "tags": [
     "subslide",
     "alt"
    ]
   },
   "outputs": [],
   "source": [
    "class Player:\n",
    "    def __init__(self, name: str):\n",
    "        self.name = name\n",
    "        self.hand = []\n",
    "\n",
    "    def __repr__(self) -> str:\n",
    "        return f\"Player({self.name!r})\"\n",
    "\n",
    "    def __str__(self) -> str:\n",
    "        return f\"{self.name} ({', '.join(str(c) for c in self.hand)})\"\n",
    "\n",
    "    def draw_card(self, deck: Deck) -> Card | None:\n",
    "        card = deck.draw_card()\n",
    "        if card:\n",
    "            self.hand.append(card)\n",
    "        return card\n",
    "\n",
    "    def draw_n_cards(self, deck: Deck, n: int) -> None:\n",
    "        for _ in range(n):\n",
    "            self.draw_card(deck)\n",
    "\n",
    "    def take_turn(self, game: \"CrazyEightsGame\") -> TurnAction:\n",
    "        self.notify_turn(game.top_discard)\n",
    "\n",
    "        played_card = self.try_to_play_card(game)\n",
    "        if not played_card:\n",
    "            drawn_card = self.draw_and_play_card(game)\n",
    "            return TurnAction.DREW_CARD if drawn_card else TurnAction.FAILED_DRAW\n",
    "        return TurnAction.PLAYED_CARD\n",
    "\n",
    "    def try_to_play_card(self, game: \"CrazyEightsGame\") -> bool:\n",
    "        card_to_play = self.pick_card_to_play(game.top_discard)\n",
    "        if card_to_play is None:\n",
    "            return False\n",
    "\n",
    "        self.play_card(game, card_to_play)\n",
    "        return True\n",
    "\n",
    "    def pick_card_to_play(self, top_discard: Card) -> Card | None:\n",
    "        \"\"\"Pick the highest ranked playable card.\"\"\"\n",
    "        playable_cards = self.get_playable_cards(top_discard)\n",
    "        if playable_cards:\n",
    "            return max(playable_cards, key=lambda card: RANKS.index(card.rank))\n",
    "        return None\n",
    "\n",
    "    def get_playable_cards(self, top_discard: Card) -> list[Card]:\n",
    "        return [card for card in self.hand if card.matches(top_discard)]\n",
    "\n",
    "    def draw_and_play_card(self, game: \"CrazyEightsGame\") -> bool:\n",
    "        drawn_card = self.draw_card(game.deck)\n",
    "        self.notify_card_drawn(drawn_card)\n",
    "\n",
    "        if drawn_card:\n",
    "            self.try_to_play_card(game)\n",
    "            return True\n",
    "        return False\n",
    "\n",
    "    def play_card(self, game: \"CrazyEightsGame\", card: Card) -> None:\n",
    "        self.hand.remove(card)\n",
    "        game.discard(card)\n",
    "        self.notify_card_played(card)\n",
    "        if card.rank == \"8\":\n",
    "            card.suit = self.pick_suit()\n",
    "            self.notify_suit_picked(card.suit)\n",
    "\n",
    "    def pick_suit(self) -> str:\n",
    "        \"\"\"Pick the suit that the player has the most of.\"\"\"\n",
    "        suit_counts = {suit: 0 for suit in SUITS}\n",
    "        for card in self.hand:\n",
    "            suit_counts[card.suit] += 1\n",
    "        return max(suit_counts, key=lambda suit: suit_counts[suit])\n",
    "\n",
    "    def has_won(self) -> bool:\n",
    "        return not self.hand\n",
    "\n",
    "    def notify_turn(self, top_discard: \"Card\", **kwargs) -> None:\n",
    "        print(f\"\\n{self.name}'s turn. Top of discard pile: {top_discard}\")\n",
    "        print(f\"{self.name}'s hand: {short_string(self.hand)}\")\n",
    "\n",
    "        playable_cards = self.get_playable_cards(top_discard)\n",
    "        if playable_cards:\n",
    "            print(f\"Playable cards: {short_string(playable_cards)}\")\n",
    "\n",
    "    def notify_card_drawn(self, card_drawn: Optional[\"Card\"]) -> None:\n",
    "        print(\"No playable card.\", end=\" \")\n",
    "        if card_drawn:\n",
    "            print(f\"{self.name} draws {card_drawn}\")\n",
    "        else:\n",
    "            print(f\"{self.name} cannot draw. Deck is empty.\")\n",
    "\n",
    "    def notify_card_played(self, card_played: Card) -> None:\n",
    "        print(f\"{self.name} plays {card_played}\")\n",
    "\n",
    "    def notify_suit_picked(self, suit: str) -> None:\n",
    "        print(f\"{self.name} picks {suit} for crazy 8\")"
   ]
  },
  {
   "cell_type": "code",
   "execution_count": null,
   "id": "b38c74dc8d75b80d",
   "metadata": {
    "slideshow": {
     "slide_type": "subslide"
    },
    "tags": [
     "subslide",
     "alt"
    ]
   },
   "outputs": [],
   "source": [
    "def short_string(cards: list[Card]) -> str:\n",
    "    return \", \".join(str(card) for card in cards) if cards else \"none\""
   ]
  },
  {
   "cell_type": "code",
   "execution_count": null,
   "id": "cfa2df197a11a6d5",
   "metadata": {
    "slideshow": {
     "slide_type": "subslide"
    },
    "tags": [
     "subslide",
     "alt"
    ]
   },
   "outputs": [],
   "source": [
    "class Card:  # noqa\n",
    "    def __init__(self, suit, rank):\n",
    "        self.suit = suit\n",
    "        self.rank = rank\n",
    "\n",
    "    def __repr__(self) -> str:\n",
    "        return f\"Card({self.suit!r}, {self.rank!r})\"\n",
    "\n",
    "    def __str__(self) -> str:\n",
    "        return f\"{self.rank}{self.suit}\"\n",
    "\n",
    "    def __eq__(self, other: object) -> bool:\n",
    "        if not isinstance(other, Card):\n",
    "            return NotImplemented\n",
    "        return self.suit == other.suit and self.rank == other.rank"
   ]
  },
  {
   "cell_type": "code",
   "execution_count": null,
   "id": "71c0991e60d17d78",
   "metadata": {
    "slideshow": {
     "slide_type": "subslide"
    },
    "tags": [
     "subslide",
     "alt"
    ]
   },
   "outputs": [],
   "source": [
    "class Card:  # noqa\n",
    "    def __init__(self, suit, rank):\n",
    "        self.suit = suit\n",
    "        self.rank = rank\n",
    "\n",
    "    def __repr__(self) -> str:\n",
    "        return f\"Card({self.suit!r}, {self.rank!r})\"\n",
    "\n",
    "    def __str__(self) -> str:\n",
    "        return f\"{self.rank}{self.suit}\"\n",
    "\n",
    "    def __eq__(self, other: object) -> bool:\n",
    "        if not isinstance(other, Card):\n",
    "            return NotImplemented\n",
    "        return self.suit == other.suit and self.rank == other.rank\n",
    "\n",
    "    def matches(self, top_discard: \"Card\") -> bool:\n",
    "        return (\n",
    "            self.suit == top_discard.suit\n",
    "            or self.rank == top_discard.rank\n",
    "            or self.rank == \"8\"\n",
    "        )"
   ]
  },
  {
   "cell_type": "code",
   "execution_count": null,
   "id": "e06bccb58696acb7",
   "metadata": {
    "slideshow": {
     "slide_type": "subslide"
    },
    "tags": [
     "subslide",
     "alt"
    ]
   },
   "outputs": [],
   "source": [
    "class GameResult(StrEnum):\n",
    "    NOT_ENOUGH_PLAYERS = \"Not enough players\"\n",
    "    NO_PLAYABLE_CARDS = \"No playable cards\"\n",
    "    CURRENT_PLAYER_WON = \"Current player won\""
   ]
  },
  {
   "cell_type": "code",
   "execution_count": null,
   "id": "5efd3410ed2d4e76",
   "metadata": {
    "slideshow": {
     "slide_type": "subslide"
    },
    "tags": [
     "subslide",
     "alt"
    ]
   },
   "outputs": [],
   "source": [
    "class CrazyEightsGame:\n",
    "    def __init__(self, players):\n",
    "        self.deck = Deck()\n",
    "        self.players = players\n",
    "        self.discard_pile = [self.deck.draw_card()]\n",
    "        self.current_player_index = 0\n",
    "\n",
    "    def __repr__(self):\n",
    "        return f\"CrazyEightsGame({self.players!r})\"\n",
    "\n",
    "    def deal_cards(self):\n",
    "        for player in self.players:\n",
    "            player.hand = []\n",
    "            player.draw_n_cards(self.deck, 7)\n",
    "\n",
    "    @property\n",
    "    def top_discard(self):\n",
    "        return self.discard_pile[-1]\n",
    "\n",
    "    def discard(self, card: Card):\n",
    "        self.discard_pile.append(card)\n",
    "\n",
    "    @property\n",
    "    def current_player(self) -> Player:\n",
    "        return self.players[self.current_player_index]\n",
    "\n",
    "    def pick_next_player(self):\n",
    "        self.current_player_index = (self.current_player_index + 1) % len(self.players)\n",
    "\n",
    "    def play_all_rounds(self) -> GameResult:\n",
    "        if len(self.players) < 2:\n",
    "            print(\"Must have at least two players to play.\")\n",
    "            return GameResult.NOT_ENOUGH_PLAYERS\n",
    "\n",
    "        self.deck = Deck()\n",
    "        self.deal_cards()\n",
    "\n",
    "        num_players_skipped = 0\n",
    "\n",
    "        while True:\n",
    "            action_taken = self.current_player.take_turn(self)\n",
    "            if action_taken == TurnAction.FAILED_DRAW:\n",
    "                num_players_skipped += 1\n",
    "                if num_players_skipped == len(self.players):\n",
    "                    return GameResult.NO_PLAYABLE_CARDS\n",
    "            else:\n",
    "                num_players_skipped = 0\n",
    "\n",
    "            # Check for win\n",
    "            if not self.current_player.hand:\n",
    "                return GameResult.CURRENT_PLAYER_WON\n",
    "\n",
    "            self.pick_next_player()\n",
    "\n",
    "    def print_result(self, reason: GameResult):\n",
    "        if reason == GameResult.NO_PLAYABLE_CARDS:\n",
    "            print(\"Deck is empty and no players can match \" f\"{self.top_discard}.\")\n",
    "            print(\"No one wins!\")\n",
    "        else:\n",
    "            print(f\"\\n{self.current_player.name} wins!\")\n",
    "\n",
    "    def play(self):\n",
    "        result = self.play_all_rounds()\n",
    "        self.print_result(result)"
   ]
  },
  {
   "cell_type": "code",
   "execution_count": null,
   "id": "411ac56a773bf369",
   "metadata": {
    "slideshow": {
     "slide_type": "subslide"
    },
    "tags": [
     "subslide"
    ]
   },
   "outputs": [],
   "source": [
    "game = CrazyEightsGame([Player(\"Jack\"), Player(\"Jill\")])"
   ]
  },
  {
   "cell_type": "code",
   "execution_count": null,
   "id": "cedef5e9c23edf57",
   "metadata": {},
   "outputs": [],
   "source": [
    "print(game)"
   ]
  },
  {
   "cell_type": "code",
   "execution_count": null,
   "id": "f2526beb61718afd",
   "metadata": {},
   "outputs": [],
   "source": [
    "game.play()"
   ]
  }
 ],
 "metadata": {
  "jupytext": {
   "cell_metadata_filter": "lang,tags,-all",
   "main_language": "python",
   "notebook_metadata_filter": "-all"
  },
  "kernelspec": {
   "display_name": "Python 3 (ipykernel)",
   "language": "python",
   "name": "python3"
  },
  "language_info": {
   "codemirror_mode": {
    "name": "ipython",
    "version": 3
   },
   "file_extension": ".py",
   "mimetype": "text/x-python",
   "name": "python",
   "nbconvert_exporter": "python",
   "pygments_lexer": "ipython3"
  }
 },
 "nbformat": 4,
 "nbformat_minor": 5
}
