{
 "cells": [
  {
   "cell_type": "markdown",
   "id": "fa04e8c0f4f4209b",
   "metadata": {
    "lang": "de",
    "slideshow": {
     "slide_type": "slide"
    },
    "tags": [
     "slide"
    ]
   },
   "source": [
    "\n",
    "<img src=\"data:image/svg+xml;base64,PHN2ZyB4bWxucz0iaHR0cDovL3d3dy53My5vcmcvMjAwMC9zdmciIHhtbG5zOnhsaW5rPSJodHRw\n",
    "Oi8vd3d3LnczLm9yZy8xOTk5L3hsaW5rIiB3aWR0aD0iMTExLjE2MSIgaGVpZ2h0PSIxMzQuNjY4\n",
    "IiB2ZXJzaW9uPSIxLjAiPjxkZWZzPjxsaW5lYXJHcmFkaWVudCBpZD0iYyI+PHN0b3Agb2Zmc2V0\n",
    "PSIwIiBzdHlsZT0ic3RvcC1jb2xvcjojYjhiOGI4O3N0b3Atb3BhY2l0eTouNDk4MDM5MjIiLz48\n",
    "c3RvcCBvZmZzZXQ9IjEiIHN0eWxlPSJzdG9wLWNvbG9yOiM3ZjdmN2Y7c3RvcC1vcGFjaXR5OjAi\n",
    "Lz48L2xpbmVhckdyYWRpZW50PjxsaW5lYXJHcmFkaWVudCBpZD0iYSI+PHN0b3Agb2Zmc2V0PSIw\n",
    "IiBzdHlsZT0ic3RvcC1jb2xvcjojZmZkNDNiO3N0b3Atb3BhY2l0eToxIi8+PHN0b3Agb2Zmc2V0\n",
    "PSIxIiBzdHlsZT0ic3RvcC1jb2xvcjojZmZlODczO3N0b3Atb3BhY2l0eToxIi8+PC9saW5lYXJH\n",
    "cmFkaWVudD48bGluZWFyR3JhZGllbnQgaWQ9ImIiPjxzdG9wIG9mZnNldD0iMCIgc3R5bGU9InN0\n",
    "b3AtY29sb3I6IzVhOWZkNDtzdG9wLW9wYWNpdHk6MSIvPjxzdG9wIG9mZnNldD0iMSIgc3R5bGU9\n",
    "InN0b3AtY29sb3I6IzMwNjk5ODtzdG9wLW9wYWNpdHk6MSIvPjwvbGluZWFyR3JhZGllbnQ+PGxp\n",
    "bmVhckdyYWRpZW50IHhsaW5rOmhyZWY9IiNhIiBpZD0iZSIgeDE9IjE1MC45NjEiIHgyPSIxMTIu\n",
    "MDMxIiB5MT0iMTkyLjM1MiIgeTI9IjEzNy4yNzMiIGdyYWRpZW50VHJhbnNmb3JtPSJtYXRyaXgo\n",
    "LjU2MjU0IDAgMCAuNTY3OTcgLTE0Ljk5MSAtMTEuNzAyKSIgZ3JhZGllbnRVbml0cz0idXNlclNw\n",
    "YWNlT25Vc2UiLz48bGluZWFyR3JhZGllbnQgeGxpbms6aHJlZj0iI2IiIGlkPSJkIiB4MT0iMjYu\n",
    "NjQ5IiB4Mj0iMTM1LjY2NSIgeTE9IjIwLjYwNCIgeTI9IjExNC4zOTgiIGdyYWRpZW50VHJhbnNm\n",
    "b3JtPSJtYXRyaXgoLjU2MjU0IDAgMCAuNTY3OTcgLTE0Ljk5MSAtMTEuNzAyKSIgZ3JhZGllbnRV\n",
    "bml0cz0idXNlclNwYWNlT25Vc2UiLz48cmFkaWFsR3JhZGllbnQgeGxpbms6aHJlZj0iI2MiIGlk\n",
    "PSJmIiBjeD0iNjEuNTE5IiBjeT0iMTMyLjI4NiIgcj0iMjkuMDM3IiBmeD0iNjEuNTE5IiBmeT0i\n",
    "MTMyLjI4NiIgZ3JhZGllbnRUcmFuc2Zvcm09Im1hdHJpeCgwIC0uMjM5OTUgMS4wNTQ2NyAwIC04\n",
    "My43IDE0Mi40NjIpIiBncmFkaWVudFVuaXRzPSJ1c2VyU3BhY2VPblVzZSIvPjwvZGVmcz48cGF0\n",
    "aCBkPSJNNTQuOTE5IDBjLTQuNTg0LjAyMi04Ljk2MS40MTMtMTIuODEzIDEuMDk1QzMwLjc2IDMu\n",
    "MDk5IDI4LjcgNy4yOTUgMjguNyAxNS4wMzJ2MTAuMjE5aDI2LjgxM3YzLjQwNkgxOC42MzhjLTcu\n",
    "NzkzIDAtMTQuNjE2IDQuNjg0LTE2Ljc1IDEzLjU5NC0yLjQ2MiAxMC4yMTMtMi41NzEgMTYuNTg2\n",
    "IDAgMjcuMjUgMS45MDUgNy45MzggNi40NTcgMTMuNTk0IDE0LjI1IDEzLjU5NGg5LjIxOHYtMTIu\n",
    "MjVjMC04Ljg1IDcuNjU3LTE2LjY1NyAxNi43NS0xNi42NTdoMjYuNzgyYzcuNDU0IDAgMTMuNDA2\n",
    "LTYuMTM4IDEzLjQwNi0xMy42MjV2LTI1LjUzYzAtNy4yNjctNi4xMy0xMi43MjYtMTMuNDA2LTEz\n",
    "LjkzOEM2NC4yODIuMzI4IDU5LjUwMi0uMDIgNTQuOTE4IDBtLTE0LjUgOC4yMmMyLjc3IDAgNS4w\n",
    "MzEgMi4yOTggNS4wMzEgNS4xMjUgMCAyLjgxNi0yLjI2MiA1LjA5My01LjAzMSA1LjA5My0yLjc4\n",
    "IDAtNS4wMzEtMi4yNzctNS4wMzEtNS4wOTMgMC0yLjgyNyAyLjI1MS01LjEyNSA1LjAzLTUuMTI1\n",
    "IiBzdHlsZT0iZmlsbDp1cmwoI2QpO2ZpbGwtb3BhY2l0eToxIi8+PHBhdGggZD0iTTg1LjYzOCAy\n",
    "OC42NTd2MTEuOTA2YzAgOS4yMzEtNy44MjYgMTctMTYuNzUgMTdINDIuMTA2Yy03LjMzNiAwLTEz\n",
    "LjQwNiA2LjI3OS0xMy40MDYgMTMuNjI1Vjk2LjcyYzAgNy4yNjYgNi4zMTkgMTEuNTQgMTMuNDA2\n",
    "IDEzLjYyNSA4LjQ4OCAyLjQ5NSAxNi42MjcgMi45NDYgMjYuNzgyIDAgNi43NS0xLjk1NSAxMy40\n",
    "MDYtNS44ODggMTMuNDA2LTEzLjYyNVY4Ni41SDU1LjUxM3YtMy40MDVIOTUuN2M3Ljc5MyAwIDEw\n",
    "LjY5Ni01LjQzNiAxMy40MDYtMTMuNTk0IDIuOC04LjM5OSAyLjY4LTE2LjQ3NiAwLTI3LjI1LTEu\n",
    "OTI1LTcuNzU4LTUuNjA0LTEzLjU5NC0xMy40MDYtMTMuNTk0ek03MC41NzUgOTMuMzEzYzIuNzgg\n",
    "MCA1LjAzMSAyLjI3OCA1LjAzMSA1LjA5NCAwIDIuODI3LTIuMjUxIDUuMTI1LTUuMDMxIDUuMTI1\n",
    "LTIuNzcgMC01LjAzMS0yLjI5OC01LjAzMS01LjEyNSAwLTIuODE2IDIuMjYxLTUuMDk0IDUuMDMx\n",
    "LTUuMDk0IiBzdHlsZT0iZmlsbDp1cmwoI2UpO2ZpbGwtb3BhY2l0eToxIi8+PGVsbGlwc2UgY3g9\n",
    "IjU1LjgxNyIgY3k9IjEyNy43MDEiIHJ4PSIzNS45MzEiIHJ5PSI2Ljk2NyIgc3R5bGU9Im9wYWNp\n",
    "dHk6LjQ0MzgyO2ZpbGw6dXJsKCNmKTtmaWxsLW9wYWNpdHk6MTtmaWxsLXJ1bGU6bm9uemVybztz\n",
    "dHJva2U6bm9uZTtzdHJva2Utd2lkdGg6MTUuNDE3NDtzdHJva2UtbWl0ZXJsaW1pdDo0O3N0cm9r\n",
    "ZS1kYXNoYXJyYXk6bm9uZTtzdHJva2Utb3BhY2l0eToxIi8+PC9zdmc+\n",
    "\"\n",
    "     style=\"display:block;margin:auto;width:10%\" alt=\"Python Logo\"/>\n",
    "<br>\n",
    "\n",
    "<div style=\"text-align:center; font-size:200%;\">\n",
    " <b>Pathlib</b>\n",
    "</div>\n",
    "<br/>\n",
    "<div style=\"text-align:center;\">Dr. Matthias Hölzl</div>\n",
    "<br/>"
   ]
  },
  {
   "cell_type": "markdown",
   "id": "c0d2e20b1e75e41c",
   "metadata": {
    "lang": "de",
    "slideshow": {
     "slide_type": "slide"
    },
    "tags": [
     "slide"
    ]
   },
   "source": [
    "\n",
    "## Objektorientierter Umgang mit Dateien: Pathlib\n",
    "\n",
    "Das `pathlib`-Modul bietet mit der Klasse `Path` einen sehr eleganten\n",
    "objektorientierten Ansatz zum Umgang mit Dateien:"
   ]
  },
  {
   "cell_type": "code",
   "execution_count": null,
   "id": "9e75407fd2e80eea",
   "metadata": {},
   "outputs": [],
   "source": [
    "from pathlib import Path"
   ]
  },
  {
   "cell_type": "markdown",
   "id": "eaabec17af00c0ab",
   "metadata": {
    "lang": "de",
    "slideshow": {
     "slide_type": "subslide"
    },
    "tags": [
     "subslide"
    ]
   },
   "source": [
    "\n",
    "- `Path`-Objekte stellen Pfade zu Dateien und Verzeichnissen dar.\n",
    "  - Die Verzeichnisse und Dateien, die sie repräsentieren, müssen nicht\n",
    "    existieren.\n",
    "  - Es gibt aber Methoden, um zu prüfen, ob sie existieren, um sie zu\n",
    "    erzeugen, oder mit existierenden Verzeichnissen und Dateien zu arbeiten.\n",
    "- `Path`-Objekte sind plattformunabhängig."
   ]
  },
  {
   "cell_type": "code",
   "execution_count": null,
   "id": "6da500146840096a",
   "metadata": {},
   "outputs": [],
   "source": [
    "my_path = Path()"
   ]
  },
  {
   "cell_type": "code",
   "execution_count": null,
   "id": "9a20c4a3a788d04c",
   "metadata": {},
   "outputs": [],
   "source": [
    "my_path"
   ]
  },
  {
   "cell_type": "markdown",
   "id": "a6c033d37b600582",
   "metadata": {
    "lang": "de",
    "slideshow": {
     "slide_type": "subslide"
    },
    "tags": [
     "subslide"
    ]
   },
   "source": [
    "\n",
    "- Bei der Umwandlung in Strings werden `Path`-Objekte in relative Pfade\n",
    "  umgewandelt.\n",
    "- Ohne Argumente wird der aktuelle Arbeitsordner verwendet.\n",
    "- Mit `absolute()` kann der absolute Pfad ermittelt werden."
   ]
  },
  {
   "cell_type": "code",
   "execution_count": null,
   "id": "07330b5cd04d38de",
   "metadata": {},
   "outputs": [],
   "source": [
    "print(\"relative path:\", my_path)\n",
    "print(\"absolute path:\", my_path.absolute())"
   ]
  },
  {
   "cell_type": "markdown",
   "id": "d422033b47a15f1b",
   "metadata": {
    "lang": "de",
    "slideshow": {
     "slide_type": "subslide"
    },
    "tags": [
     "subslide"
    ]
   },
   "source": [
    "\n",
    "- Der `Path`-Konstruktor kann auch mit Strings aufgerufen werden:\n",
    "  - `Path(\"test.txt\")`\n",
    "    - Pfad zur Datei `test.txt` im aktuellen Arbeitsverzeichnis.\n",
    "  - `Path(\"my-dir/test.txt\")`\n",
    "    - Pfad zur Datei `test.txt` im Unterverzeichnis `my-dir` des aktuellen\n",
    "      Arbeitsverzeichnisses.\n",
    "  - Es können auch absolute Pfade verwendet werden, die Syntax ist dann\n",
    "    plattformunabhängig:\n",
    "    - `Path(\"/home/user/test.txt\")` (Linux)\n",
    "    - `Path(\"C:/Users/user/test.txt\")` (Windows)\n",
    "    - `Path(\"C:\\\\Users\\\\user\\\\test.txt\")` (Windows)"
   ]
  },
  {
   "cell_type": "code",
   "execution_count": null,
   "id": "005673a560bc5f41",
   "metadata": {
    "slideshow": {
     "slide_type": "subslide"
    },
    "tags": [
     "subslide"
    ]
   },
   "outputs": [],
   "source": [
    "my_path = Path(\"test.txt\")"
   ]
  },
  {
   "cell_type": "code",
   "execution_count": null,
   "id": "f1067e23fbee3729",
   "metadata": {},
   "outputs": [],
   "source": [
    "my_path"
   ]
  },
  {
   "cell_type": "code",
   "execution_count": null,
   "id": "c7b9843b94bcdefc",
   "metadata": {},
   "outputs": [],
   "source": [
    "my_path.absolute()"
   ]
  },
  {
   "cell_type": "code",
   "execution_count": null,
   "id": "66372db76916b695",
   "metadata": {},
   "outputs": [],
   "source": [
    "my_path = Path(\"my-dir/test.txt\")"
   ]
  },
  {
   "cell_type": "code",
   "execution_count": null,
   "id": "3a5d9eed4832cc76",
   "metadata": {},
   "outputs": [],
   "source": [
    "my_path.absolute()"
   ]
  },
  {
   "cell_type": "code",
   "execution_count": null,
   "id": "8fed3bd404bfa86e",
   "metadata": {},
   "outputs": [],
   "source": [
    "my_path = Path(\"C:/Users/user/test.txt\")"
   ]
  },
  {
   "cell_type": "code",
   "execution_count": null,
   "id": "abaf2929137035b5",
   "metadata": {},
   "outputs": [],
   "source": [
    "my_path.absolute()"
   ]
  },
  {
   "cell_type": "markdown",
   "id": "d84940bb1d261710",
   "metadata": {
    "lang": "de",
    "slideshow": {
     "slide_type": "subslide"
    },
    "tags": [
     "subslide"
    ]
   },
   "source": [
    "\n",
    "- `Path`-Objekte bieten viele nützliche Attribute und Methoden.\n",
    "- Einige davon beziehen sich auf auf den Pfad:\n",
    "  - `path / \"my-dir\"`: Erzeugt einen neuen Pfad, der `path` und `my-dir`\n",
    "    kombiniert.\n",
    "  - `name`: Name der Datei oder des Verzeichnisses\n",
    "  - `parent`: Verzeichnis, in dem sich die Datei oder das Verzeichnis befindet\n",
    "  - `suffix`: Dateiendung (z.B. `.txt`)\n",
    "  - `with_suffix()`: Erzeugt einen neuen Pfad mit einer anderen Dateiendung"
   ]
  },
  {
   "cell_type": "code",
   "execution_count": null,
   "id": "cd07094ad0b693c4",
   "metadata": {
    "slideshow": {
     "slide_type": "subslide"
    },
    "tags": [
     "subslide"
    ]
   },
   "outputs": [],
   "source": [
    "my_file = my_path / \"README.md\""
   ]
  },
  {
   "cell_type": "code",
   "execution_count": null,
   "id": "e065a7c7e8e260e2",
   "metadata": {},
   "outputs": [],
   "source": [
    "my_file.name"
   ]
  },
  {
   "cell_type": "code",
   "execution_count": null,
   "id": "0ebc37489a282522",
   "metadata": {},
   "outputs": [],
   "source": [
    "my_file.parent.absolute()"
   ]
  },
  {
   "cell_type": "code",
   "execution_count": null,
   "id": "a35f8e2feca34a6b",
   "metadata": {},
   "outputs": [],
   "source": [
    "my_file.suffix"
   ]
  },
  {
   "cell_type": "code",
   "execution_count": null,
   "id": "ae108ecbf85783dc",
   "metadata": {},
   "outputs": [],
   "source": [
    "my_file.with_suffix(\".txt\")"
   ]
  },
  {
   "cell_type": "code",
   "execution_count": null,
   "id": "cbdfa4bb064ce219",
   "metadata": {},
   "outputs": [],
   "source": [
    "my_file"
   ]
  },
  {
   "cell_type": "markdown",
   "id": "63148fd8f4c7df6d",
   "metadata": {
    "lang": "de",
    "slideshow": {
     "slide_type": "subslide"
    },
    "tags": [
     "subslide"
    ]
   },
   "source": [
    "\n",
    "- Manche Methoden beziehen sich auf das Dateisystem:\n",
    "  - `exists()`: Prüft, ob die Datei oder das Verzeichnis existiert\n",
    "  - `mkdir()`: Erzeugt ein Verzeichnis\n",
    "  - `open()`: Öffnet die Datei zum Lesen oder Schreiben\n",
    "  - `unlink()`: Löscht die Datei"
   ]
  },
  {
   "cell_type": "code",
   "execution_count": null,
   "id": "e4c693af315e8790",
   "metadata": {
    "tags": [
     "keep"
    ]
   },
   "outputs": [],
   "source": [
    "my_file = Path(\"README.md\")"
   ]
  },
  {
   "cell_type": "code",
   "execution_count": null,
   "id": "4dcfa78d51c49be5",
   "metadata": {},
   "outputs": [],
   "source": [
    "my_file.exists()"
   ]
  },
  {
   "cell_type": "markdown",
   "id": "11182db550c73bc6",
   "metadata": {
    "lang": "de",
    "slideshow": {
     "slide_type": "subslide"
    },
    "tags": [
     "subslide"
    ]
   },
   "source": [
    "\n",
    "- Wir wollen die Dateisystem-Operationen in einem temporären Verzeichnis\n",
    "  durchführen.\n",
    "- Das `tempfile`-Modul bietet dafür die Klasse `TemporaryDirectory`.\n",
    "- Diese Klasse erzeugt ein temporäres Verzeichnis, das beim Schließen des\n",
    "  Objekts gelöscht wird."
   ]
  },
  {
   "cell_type": "code",
   "execution_count": null,
   "id": "e53067bb75dcee7b",
   "metadata": {
    "incorrectly_encoded_metadata": "tags=[\"\"keep\", subslide\"]"
   },
   "outputs": [],
   "source": [
    "from tempfile import TemporaryDirectory"
   ]
  },
  {
   "cell_type": "code",
   "execution_count": null,
   "id": "142625e0fd7d9e1d",
   "metadata": {},
   "outputs": [],
   "source": [
    "tmp_dir = TemporaryDirectory(ignore_cleanup_errors=True)"
   ]
  },
  {
   "cell_type": "code",
   "execution_count": null,
   "id": "cd051d479e28ef24",
   "metadata": {},
   "outputs": [],
   "source": [
    "tmp_dir"
   ]
  },
  {
   "cell_type": "code",
   "execution_count": null,
   "id": "91e05d6d970ad1a1",
   "metadata": {},
   "outputs": [],
   "source": [
    "tmp_dir_path = Path(tmp_dir.name)"
   ]
  },
  {
   "cell_type": "code",
   "execution_count": null,
   "id": "ef39e588ab0f5853",
   "metadata": {},
   "outputs": [],
   "source": [
    "tmp_dir_path.absolute()"
   ]
  },
  {
   "cell_type": "code",
   "execution_count": null,
   "id": "0afea9f402456617",
   "metadata": {},
   "outputs": [],
   "source": [
    "tmp_dir_path.exists()"
   ]
  },
  {
   "cell_type": "markdown",
   "id": "1e5227d9fe1de875",
   "metadata": {
    "lang": "de",
    "slideshow": {
     "slide_type": "subslide"
    },
    "tags": [
     "subslide"
    ]
   },
   "source": [
    "\n",
    "### Erzeugen von Verzeichnissen"
   ]
  },
  {
   "cell_type": "code",
   "execution_count": null,
   "id": "46fe1bd029e72e4a",
   "metadata": {},
   "outputs": [],
   "source": [
    "my_dir = tmp_dir_path / \"subdir1/subdir2\" / \"subdir3\""
   ]
  },
  {
   "cell_type": "code",
   "execution_count": null,
   "id": "34e30372d77af6ea",
   "metadata": {},
   "outputs": [],
   "source": [
    "my_dir.mkdir(parents=True, exist_ok=False)"
   ]
  },
  {
   "cell_type": "code",
   "execution_count": null,
   "id": "d0bae3a7a0bc1fc0",
   "metadata": {},
   "outputs": [],
   "source": [
    "my_dir.exists()"
   ]
  },
  {
   "cell_type": "markdown",
   "id": "7e519c65c80b2566",
   "metadata": {
    "lang": "de",
    "slideshow": {
     "slide_type": "subslide"
    },
    "tags": [
     "subslide"
    ]
   },
   "source": [
    "\n",
    "### Erzeugen, Lesen und Schreiben von Dateien"
   ]
  },
  {
   "cell_type": "code",
   "execution_count": null,
   "id": "1fbf35ff49076a48",
   "metadata": {
    "slideshow": {
     "slide_type": "subslide"
    },
    "tags": [
     "subslide"
    ]
   },
   "outputs": [],
   "source": [
    "my_file = my_dir / \"test.txt\""
   ]
  },
  {
   "cell_type": "code",
   "execution_count": null,
   "id": "f212d1aa11539a26",
   "metadata": {},
   "outputs": [],
   "source": [
    "with my_file.open(\"w\", encoding=\"utf-8\") as file:\n",
    "    file.write(\"Hello, world\")"
   ]
  },
  {
   "cell_type": "code",
   "execution_count": null,
   "id": "d8bf58d3803fa320",
   "metadata": {},
   "outputs": [],
   "source": [
    "my_file.exists()"
   ]
  },
  {
   "cell_type": "code",
   "execution_count": null,
   "id": "1b1f5b072c7c97a1",
   "metadata": {},
   "outputs": [],
   "source": [
    "list(my_dir.glob(\"*\"))"
   ]
  },
  {
   "cell_type": "code",
   "execution_count": null,
   "id": "e37ff8c1ef27840a",
   "metadata": {
    "slideshow": {
     "slide_type": "subslide"
    },
    "tags": [
     "subslide"
    ]
   },
   "outputs": [],
   "source": [
    "text = my_file.read_text(encoding=\"utf-8\")"
   ]
  },
  {
   "cell_type": "code",
   "execution_count": null,
   "id": "f0eb0bc5cd18bf04",
   "metadata": {},
   "outputs": [],
   "source": [
    "text"
   ]
  },
  {
   "cell_type": "code",
   "execution_count": null,
   "id": "8e4a2e69211ba946",
   "metadata": {},
   "outputs": [],
   "source": [
    "my_file.write_text(\"Some text...\", encoding=\"utf-8\")"
   ]
  },
  {
   "cell_type": "code",
   "execution_count": null,
   "id": "0df8ed79e79fa4b7",
   "metadata": {},
   "outputs": [],
   "source": [
    "my_file.read_text(encoding=\"utf-8\")"
   ]
  },
  {
   "cell_type": "markdown",
   "id": "e7107ddff7292be9",
   "metadata": {
    "lang": "de",
    "slideshow": {
     "slide_type": "subslide"
    },
    "tags": [
     "subslide"
    ]
   },
   "source": [
    "\n",
    "### Löschen von Verzeichnissen und Dateien"
   ]
  },
  {
   "cell_type": "code",
   "execution_count": null,
   "id": "7cfe69f66053668d",
   "metadata": {},
   "outputs": [],
   "source": [
    "my_file.unlink()"
   ]
  },
  {
   "cell_type": "code",
   "execution_count": null,
   "id": "87c2731466d944b3",
   "metadata": {},
   "outputs": [],
   "source": [
    "my_file.exists()"
   ]
  },
  {
   "cell_type": "code",
   "execution_count": null,
   "id": "66f707ec4df56a8e",
   "metadata": {},
   "outputs": [],
   "source": [
    "list(my_dir.glob(\"*\"))"
   ]
  },
  {
   "cell_type": "code",
   "execution_count": null,
   "id": "cd1e691fa9d20605",
   "metadata": {},
   "outputs": [],
   "source": [
    "my_file.unlink(missing_ok=True)"
   ]
  },
  {
   "cell_type": "code",
   "execution_count": null,
   "id": "f4c46a0c35f72e00",
   "metadata": {},
   "outputs": [],
   "source": [
    "if my_dir.exists():\n",
    "    my_dir.rmdir()"
   ]
  },
  {
   "cell_type": "code",
   "execution_count": null,
   "id": "87cf09996f135b32",
   "metadata": {},
   "outputs": [],
   "source": [
    "my_dir.exists()"
   ]
  },
  {
   "cell_type": "code",
   "execution_count": null,
   "id": "fea65053b741f05d",
   "metadata": {},
   "outputs": [],
   "source": [
    "tmp_dir.cleanup()"
   ]
  },
  {
   "cell_type": "code",
   "execution_count": null,
   "id": "31544c63145412f7",
   "metadata": {},
   "outputs": [],
   "source": [
    "tmp_dir_path.exists()"
   ]
  }
 ],
 "metadata": {
  "jupytext": {
   "cell_metadata_filter": "tags,incorrectly_encoded_metadata,lang,-all",
   "main_language": "python",
   "notebook_metadata_filter": "-all"
  },
  "kernelspec": {
   "display_name": "Python 3 (ipykernel)",
   "language": "python",
   "name": "python3"
  },
  "language_info": {
   "codemirror_mode": {
    "name": "ipython",
    "version": 3
   },
   "file_extension": ".py",
   "mimetype": "text/x-python",
   "name": "python",
   "nbconvert_exporter": "python",
   "pygments_lexer": "ipython3"
  }
 },
 "nbformat": 4,
 "nbformat_minor": 5
}
