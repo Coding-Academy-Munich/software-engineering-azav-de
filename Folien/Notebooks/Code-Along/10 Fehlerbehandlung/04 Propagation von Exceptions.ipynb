{
 "cells": [
  {
   "cell_type": "markdown",
   "id": "6934057e0cfb90a5",
   "metadata": {
    "lang": "de",
    "slideshow": {
     "slide_type": "slide"
    },
    "tags": [
     "slide"
    ]
   },
   "source": [
    "\n",
    "<img src=\"data:image/svg+xml;base64,PHN2ZyB4bWxucz0iaHR0cDovL3d3dy53My5vcmcvMjAwMC9zdmciIHhtbG5zOnhsaW5rPSJodHRw\n",
    "Oi8vd3d3LnczLm9yZy8xOTk5L3hsaW5rIiB3aWR0aD0iMTExLjE2MSIgaGVpZ2h0PSIxMzQuNjY4\n",
    "IiB2ZXJzaW9uPSIxLjAiPjxkZWZzPjxsaW5lYXJHcmFkaWVudCBpZD0iYyI+PHN0b3Agb2Zmc2V0\n",
    "PSIwIiBzdHlsZT0ic3RvcC1jb2xvcjojYjhiOGI4O3N0b3Atb3BhY2l0eTouNDk4MDM5MjIiLz48\n",
    "c3RvcCBvZmZzZXQ9IjEiIHN0eWxlPSJzdG9wLWNvbG9yOiM3ZjdmN2Y7c3RvcC1vcGFjaXR5OjAi\n",
    "Lz48L2xpbmVhckdyYWRpZW50PjxsaW5lYXJHcmFkaWVudCBpZD0iYSI+PHN0b3Agb2Zmc2V0PSIw\n",
    "IiBzdHlsZT0ic3RvcC1jb2xvcjojZmZkNDNiO3N0b3Atb3BhY2l0eToxIi8+PHN0b3Agb2Zmc2V0\n",
    "PSIxIiBzdHlsZT0ic3RvcC1jb2xvcjojZmZlODczO3N0b3Atb3BhY2l0eToxIi8+PC9saW5lYXJH\n",
    "cmFkaWVudD48bGluZWFyR3JhZGllbnQgaWQ9ImIiPjxzdG9wIG9mZnNldD0iMCIgc3R5bGU9InN0\n",
    "b3AtY29sb3I6IzVhOWZkNDtzdG9wLW9wYWNpdHk6MSIvPjxzdG9wIG9mZnNldD0iMSIgc3R5bGU9\n",
    "InN0b3AtY29sb3I6IzMwNjk5ODtzdG9wLW9wYWNpdHk6MSIvPjwvbGluZWFyR3JhZGllbnQ+PGxp\n",
    "bmVhckdyYWRpZW50IHhsaW5rOmhyZWY9IiNhIiBpZD0iZSIgeDE9IjE1MC45NjEiIHgyPSIxMTIu\n",
    "MDMxIiB5MT0iMTkyLjM1MiIgeTI9IjEzNy4yNzMiIGdyYWRpZW50VHJhbnNmb3JtPSJtYXRyaXgo\n",
    "LjU2MjU0IDAgMCAuNTY3OTcgLTE0Ljk5MSAtMTEuNzAyKSIgZ3JhZGllbnRVbml0cz0idXNlclNw\n",
    "YWNlT25Vc2UiLz48bGluZWFyR3JhZGllbnQgeGxpbms6aHJlZj0iI2IiIGlkPSJkIiB4MT0iMjYu\n",
    "NjQ5IiB4Mj0iMTM1LjY2NSIgeTE9IjIwLjYwNCIgeTI9IjExNC4zOTgiIGdyYWRpZW50VHJhbnNm\n",
    "b3JtPSJtYXRyaXgoLjU2MjU0IDAgMCAuNTY3OTcgLTE0Ljk5MSAtMTEuNzAyKSIgZ3JhZGllbnRV\n",
    "bml0cz0idXNlclNwYWNlT25Vc2UiLz48cmFkaWFsR3JhZGllbnQgeGxpbms6aHJlZj0iI2MiIGlk\n",
    "PSJmIiBjeD0iNjEuNTE5IiBjeT0iMTMyLjI4NiIgcj0iMjkuMDM3IiBmeD0iNjEuNTE5IiBmeT0i\n",
    "MTMyLjI4NiIgZ3JhZGllbnRUcmFuc2Zvcm09Im1hdHJpeCgwIC0uMjM5OTUgMS4wNTQ2NyAwIC04\n",
    "My43IDE0Mi40NjIpIiBncmFkaWVudFVuaXRzPSJ1c2VyU3BhY2VPblVzZSIvPjwvZGVmcz48cGF0\n",
    "aCBkPSJNNTQuOTE5IDBjLTQuNTg0LjAyMi04Ljk2MS40MTMtMTIuODEzIDEuMDk1QzMwLjc2IDMu\n",
    "MDk5IDI4LjcgNy4yOTUgMjguNyAxNS4wMzJ2MTAuMjE5aDI2LjgxM3YzLjQwNkgxOC42MzhjLTcu\n",
    "NzkzIDAtMTQuNjE2IDQuNjg0LTE2Ljc1IDEzLjU5NC0yLjQ2MiAxMC4yMTMtMi41NzEgMTYuNTg2\n",
    "IDAgMjcuMjUgMS45MDUgNy45MzggNi40NTcgMTMuNTk0IDE0LjI1IDEzLjU5NGg5LjIxOHYtMTIu\n",
    "MjVjMC04Ljg1IDcuNjU3LTE2LjY1NyAxNi43NS0xNi42NTdoMjYuNzgyYzcuNDU0IDAgMTMuNDA2\n",
    "LTYuMTM4IDEzLjQwNi0xMy42MjV2LTI1LjUzYzAtNy4yNjctNi4xMy0xMi43MjYtMTMuNDA2LTEz\n",
    "LjkzOEM2NC4yODIuMzI4IDU5LjUwMi0uMDIgNTQuOTE4IDBtLTE0LjUgOC4yMmMyLjc3IDAgNS4w\n",
    "MzEgMi4yOTggNS4wMzEgNS4xMjUgMCAyLjgxNi0yLjI2MiA1LjA5My01LjAzMSA1LjA5My0yLjc4\n",
    "IDAtNS4wMzEtMi4yNzctNS4wMzEtNS4wOTMgMC0yLjgyNyAyLjI1MS01LjEyNSA1LjAzLTUuMTI1\n",
    "IiBzdHlsZT0iZmlsbDp1cmwoI2QpO2ZpbGwtb3BhY2l0eToxIi8+PHBhdGggZD0iTTg1LjYzOCAy\n",
    "OC42NTd2MTEuOTA2YzAgOS4yMzEtNy44MjYgMTctMTYuNzUgMTdINDIuMTA2Yy03LjMzNiAwLTEz\n",
    "LjQwNiA2LjI3OS0xMy40MDYgMTMuNjI1Vjk2LjcyYzAgNy4yNjYgNi4zMTkgMTEuNTQgMTMuNDA2\n",
    "IDEzLjYyNSA4LjQ4OCAyLjQ5NSAxNi42MjcgMi45NDYgMjYuNzgyIDAgNi43NS0xLjk1NSAxMy40\n",
    "MDYtNS44ODggMTMuNDA2LTEzLjYyNVY4Ni41SDU1LjUxM3YtMy40MDVIOTUuN2M3Ljc5MyAwIDEw\n",
    "LjY5Ni01LjQzNiAxMy40MDYtMTMuNTk0IDIuOC04LjM5OSAyLjY4LTE2LjQ3NiAwLTI3LjI1LTEu\n",
    "OTI1LTcuNzU4LTUuNjA0LTEzLjU5NC0xMy40MDYtMTMuNTk0ek03MC41NzUgOTMuMzEzYzIuNzgg\n",
    "MCA1LjAzMSAyLjI3OCA1LjAzMSA1LjA5NCAwIDIuODI3LTIuMjUxIDUuMTI1LTUuMDMxIDUuMTI1\n",
    "LTIuNzcgMC01LjAzMS0yLjI5OC01LjAzMS01LjEyNSAwLTIuODE2IDIuMjYxLTUuMDk0IDUuMDMx\n",
    "LTUuMDk0IiBzdHlsZT0iZmlsbDp1cmwoI2UpO2ZpbGwtb3BhY2l0eToxIi8+PGVsbGlwc2UgY3g9\n",
    "IjU1LjgxNyIgY3k9IjEyNy43MDEiIHJ4PSIzNS45MzEiIHJ5PSI2Ljk2NyIgc3R5bGU9Im9wYWNp\n",
    "dHk6LjQ0MzgyO2ZpbGw6dXJsKCNmKTtmaWxsLW9wYWNpdHk6MTtmaWxsLXJ1bGU6bm9uemVybztz\n",
    "dHJva2U6bm9uZTtzdHJva2Utd2lkdGg6MTUuNDE3NDtzdHJva2UtbWl0ZXJsaW1pdDo0O3N0cm9r\n",
    "ZS1kYXNoYXJyYXk6bm9uZTtzdHJva2Utb3BhY2l0eToxIi8+PC9zdmc+\n",
    "\"\n",
    "     style=\"display:block;margin:auto;width:10%\" alt=\"Python Logo\"/>\n",
    "<br>\n",
    "\n",
    "<div style=\"text-align:center; font-size:200%;\">\n",
    " <b>Propagation von Exceptions</b>\n",
    "</div>\n",
    "<br/>\n",
    "<div style=\"text-align:center;\">Dr. Matthias Hölzl</div>\n",
    "<br/>"
   ]
  },
  {
   "cell_type": "markdown",
   "id": "07aae6b3ef44c4a8",
   "metadata": {
    "lang": "de",
    "slideshow": {
     "slide_type": "slide"
    },
    "tags": [
     "slide"
    ]
   },
   "source": [
    "\n",
    "# Stack-Unwinding\n",
    "\n",
    "Wenn eine Exception ausgelöst wird, werden geschachtelte Funktionsaufrufe so lange\n",
    "abgebrochen, bis ein passender Handler gefunden wird:"
   ]
  },
  {
   "cell_type": "markdown",
   "id": "6b85b2b4e1dc4cc5",
   "metadata": {
    "slideshow": {
     "slide_type": "subslide"
    },
    "tags": [
     "subslide"
    ]
   },
   "source": [
    "\n",
    "<img src=\"img/stack-code.png\" alt=\"Call Stack\"\n",
    "     style=\"float: left; width: 30%; margin-left: 10%; margin-top: 3%;\"/>\n",
    "\n",
    "<img src=\"img/stack-01a.png\" alt=\"Call Stack\"\n",
    "     style=\"float: left; width: 30%; margin-left: 10%;\"/>"
   ]
  },
  {
   "cell_type": "markdown",
   "id": "cd2357986c61cd88",
   "metadata": {
    "slideshow": {
     "slide_type": "subslide"
    },
    "tags": [
     "subslide"
    ]
   },
   "source": [
    "\n",
    "<img src=\"img/stack-code.png\" alt=\"Call Stack\"\n",
    "     style=\"float: left; width: 30%; margin-left: 10%; margin-top: 3%;\"/>\n",
    "\n",
    "<img src=\"img/stack-01b.png\" alt=\"Call Stack\"\n",
    "     style=\"float: left; width: 30%; margin-left: 10%;\"/>"
   ]
  },
  {
   "cell_type": "markdown",
   "id": "e11e0624beacdb10",
   "metadata": {
    "slideshow": {
     "slide_type": "subslide"
    },
    "tags": [
     "subslide"
    ]
   },
   "source": [
    "\n",
    "<img src=\"img/stack-code.png\" alt=\"Call Stack\"\n",
    "     style=\"float: left; width: 30%; margin-left: 10%; margin-top: 3%;\"/>\n",
    "\n",
    "<img src=\"img/stack-01c.png\" alt=\"Call Stack\"\n",
    "     style=\"float: left; width: 30%; margin-left: 10%;\"/>"
   ]
  },
  {
   "cell_type": "markdown",
   "id": "323db56e02281cdf",
   "metadata": {
    "slideshow": {
     "slide_type": "subslide"
    },
    "tags": [
     "subslide"
    ]
   },
   "source": [
    "\n",
    "<img src=\"img/stack-code.png\" alt=\"Call Stack\"\n",
    "     style=\"float: left; width: 30%; margin-left: 10%; margin-top: 3%;\"/>\n",
    "\n",
    "<img src=\"img/stack-01d.png\" alt=\"Call Stack\"\n",
    "     style=\"float: left; width: 30%; margin-left: 10%;\"/>"
   ]
  },
  {
   "cell_type": "markdown",
   "id": "9907c70099771c89",
   "metadata": {
    "slideshow": {
     "slide_type": "subslide"
    },
    "tags": [
     "subslide"
    ]
   },
   "source": [
    "\n",
    "<img src=\"img/stack-code.png\" alt=\"Call Stack\"\n",
    "     style=\"float: left; width: 30%; margin-left: 10%; margin-top: 3%;\"/>\n",
    "\n",
    "<img src=\"img/stack-01e.png\" alt=\"Call Stack\"\n",
    "     style=\"float: left; width: 30%; margin-left: 10%;\"/>"
   ]
  },
  {
   "cell_type": "markdown",
   "id": "9f3defc55245411b",
   "metadata": {
    "slideshow": {
     "slide_type": "subslide"
    },
    "tags": [
     "subslide"
    ]
   },
   "source": [
    "\n",
    "<img src=\"img/stack-code.png\" alt=\"Call Stack\"\n",
    "     style=\"float: left; width: 30%; margin-left: 10%; margin-top: 3%;\"/>\n",
    "\n",
    "<img src=\"img/stack-02.png\" alt=\"Call Stack\"\n",
    "     style=\"float: left; width: 37.3%; margin-left: 10%;\"/>"
   ]
  },
  {
   "cell_type": "markdown",
   "id": "28592f9204224eff",
   "metadata": {
    "slideshow": {
     "slide_type": "subslide"
    },
    "tags": [
     "subslide"
    ]
   },
   "source": [
    "\n",
    "<img src=\"img/stack-code.png\" alt=\"Call Stack\"\n",
    "     style=\"float: left; width: 30%; margin-left: 10%; margin-top: 3%;\"/>\n",
    "\n",
    "<img src=\"img/stack-03.png\" alt=\"Call Stack\"\n",
    "     style=\"float: left; width: 37.3%; margin-left: 10%;\"/>"
   ]
  },
  {
   "cell_type": "markdown",
   "id": "e582487216aa20e8",
   "metadata": {
    "lines_to_next_cell": 2,
    "slideshow": {
     "slide_type": "subslide"
    },
    "tags": [
     "subslide"
    ]
   },
   "source": [
    "\n",
    "<img src=\"img/stack-code.png\" alt=\"Call Stack\"\n",
    "     style=\"float: left; width: 30%; margin-left: 10%; margin-top: 3%;\"/>\n",
    "\n",
    "<img src=\"img/stack-04.png\" alt=\"Call Stack\"\n",
    "     style=\"float: left; width: 30%; margin-left: 10%;\"/>"
   ]
  },
  {
   "cell_type": "code",
   "execution_count": null,
   "id": "5b91f1593f2ae1a3",
   "metadata": {
    "slideshow": {
     "slide_type": "subslide"
    },
    "tags": [
     "keep",
     "subslide"
    ]
   },
   "outputs": [],
   "source": [
    "from enum import Enum"
   ]
  },
  {
   "cell_type": "code",
   "execution_count": null,
   "id": "a0d04a488ffb17d5",
   "metadata": {
    "tags": [
     "keep"
    ]
   },
   "outputs": [],
   "source": [
    "class ErrorType(Enum):\n",
    "    VALUE = \"ValueError\"\n",
    "    LOOKUP = \"LookupError\"\n",
    "    INDEX = \"IndexError\""
   ]
  },
  {
   "cell_type": "code",
   "execution_count": null,
   "id": "a51afc724ecce257",
   "metadata": {},
   "outputs": [],
   "source": []
  },
  {
   "cell_type": "code",
   "execution_count": null,
   "id": "572973ef58fa1587",
   "metadata": {},
   "outputs": [],
   "source": []
  },
  {
   "cell_type": "code",
   "execution_count": null,
   "id": "30a8a9559f8aaa38",
   "metadata": {
    "slideshow": {
     "slide_type": "subslide"
    },
    "tags": [
     "keep",
     "subslide"
    ]
   },
   "outputs": [],
   "source": [
    "def outer_caller_v0(error_type: ErrorType = ErrorType.VALUE):\n",
    "    intermediate_fun_v0(error_type)"
   ]
  },
  {
   "cell_type": "code",
   "execution_count": null,
   "id": "531fc37438b52a21",
   "metadata": {
    "slideshow": {
     "slide_type": "subslide"
    },
    "tags": [
     "keep",
     "subslide"
    ]
   },
   "outputs": [],
   "source": [
    "def intermediate_fun_v0(error_type: ErrorType):\n",
    "    raise_and_handle_error_v0(error_type)"
   ]
  },
  {
   "cell_type": "code",
   "execution_count": null,
   "id": "4c31a41adeaa40e9",
   "metadata": {
    "tags": [
     "keep"
    ]
   },
   "outputs": [],
   "source": [
    "def raise_and_handle_error_v0(error_type: ErrorType):\n",
    "    try:\n",
    "        if error_type == ErrorType.VALUE:\n",
    "            raise ValueError()\n",
    "        elif error_type == ErrorType.LOOKUP:\n",
    "            raise LookupError()\n",
    "        else:\n",
    "            raise IndexError()\n",
    "    except LookupError:\n",
    "        pass"
   ]
  },
  {
   "cell_type": "code",
   "execution_count": null,
   "id": "2e6a0bd0e8f507f0",
   "metadata": {
    "slideshow": {
     "slide_type": "subslide"
    },
    "tags": [
     "keep",
     "subslide"
    ]
   },
   "outputs": [],
   "source": [
    "def outer_caller_with_try_v0(error_type: ErrorType = ErrorType.VALUE):\n",
    "    try:\n",
    "        intermediate_fun(error_type)\n",
    "    except Exception:\n",
    "        pass"
   ]
  },
  {
   "cell_type": "code",
   "execution_count": null,
   "id": "1781ece02175e11d",
   "metadata": {
    "slideshow": {
     "slide_type": "subslide"
    },
    "tags": [
     "keep",
     "subslide"
    ]
   },
   "outputs": [],
   "source": [
    "outer_caller_with_try_v0(ErrorType.VALUE)"
   ]
  },
  {
   "cell_type": "code",
   "execution_count": null,
   "id": "cce193b366351dcc",
   "metadata": {
    "lines_to_next_cell": 2,
    "tags": [
     "keep"
    ]
   },
   "outputs": [],
   "source": [
    "# outer_caller_v0(ErrorType.VALUE)"
   ]
  },
  {
   "cell_type": "code",
   "execution_count": null,
   "id": "dc5d2a21c2b0085b",
   "metadata": {
    "slideshow": {
     "slide_type": "subslide"
    },
    "tags": [
     "keep",
     "subslide"
    ]
   },
   "outputs": [],
   "source": [
    "def raise_and_handle_error(error_type: ErrorType):\n",
    "    print(\"    raise_and_handle_error(): before try\")\n",
    "    try:\n",
    "        print(\"    raise_and_handle_error(): before raise\")\n",
    "        if error_type == ErrorType.VALUE:\n",
    "            raise ValueError(\"Raising ValueError\")\n",
    "        elif error_type == ErrorType.LOOKUP:\n",
    "            raise LookupError(\"Raising LookupError\")\n",
    "        else:\n",
    "            raise IndexError(\"Raising IndexError\")\n",
    "        print(\"    raise_and_handle_error(): after raise\")  # noqa\n",
    "    except LookupError as error:\n",
    "        print(f\"<<< raise_and_handle_error(): caught LookupError [{error}]\")\n",
    "    print(\"    raise_and_handle_error(): after except\")"
   ]
  },
  {
   "cell_type": "code",
   "execution_count": null,
   "id": "0662b27f5c036a75",
   "metadata": {
    "slideshow": {
     "slide_type": "subslide"
    },
    "tags": [
     "keep",
     "subslide"
    ]
   },
   "outputs": [],
   "source": [
    "def intermediate_fun(error_type: ErrorType):\n",
    "    print(\"  intermediate_fun(): before call\")\n",
    "    raise_and_handle_error(error_type)\n",
    "    print(\"  intermediate_fun(): after call\")"
   ]
  },
  {
   "cell_type": "code",
   "execution_count": null,
   "id": "1e10b3ac111920a4",
   "metadata": {
    "slideshow": {
     "slide_type": "subslide"
    },
    "tags": [
     "keep",
     "subslide"
    ]
   },
   "outputs": [],
   "source": [
    "def outer_caller(error_type: ErrorType = ErrorType.VALUE):\n",
    "    print(\"outer_caller(): before calling\")\n",
    "    intermediate_fun(error_type)\n",
    "    print(\"outer_caller(): after calling\")"
   ]
  },
  {
   "cell_type": "code",
   "execution_count": null,
   "id": "1e3d3ed119af7697",
   "metadata": {
    "slideshow": {
     "slide_type": "subslide"
    },
    "tags": [
     "keep",
     "subslide"
    ]
   },
   "outputs": [],
   "source": [
    "outer_caller(ErrorType.LOOKUP)"
   ]
  },
  {
   "cell_type": "code",
   "execution_count": null,
   "id": "206957e5043a56d4",
   "metadata": {
    "slideshow": {
     "slide_type": "subslide"
    },
    "tags": [
     "keep",
     "subslide"
    ]
   },
   "outputs": [],
   "source": [
    "outer_caller(ErrorType.INDEX)"
   ]
  },
  {
   "cell_type": "code",
   "execution_count": null,
   "id": "173263245c8de1ba",
   "metadata": {
    "lines_to_next_cell": 2,
    "slideshow": {
     "slide_type": "subslide"
    },
    "tags": [
     "keep",
     "subslide"
    ]
   },
   "outputs": [],
   "source": [
    "# outer_caller(ErrorType.VALUE)"
   ]
  },
  {
   "cell_type": "code",
   "execution_count": null,
   "id": "b520c6d72311694a",
   "metadata": {
    "slideshow": {
     "slide_type": "subslide"
    },
    "tags": [
     "keep",
     "subslide"
    ]
   },
   "outputs": [],
   "source": [
    "def outer_caller_with_try(error_type: ErrorType = ErrorType.VALUE):\n",
    "    print(\"outer_caller(): before try\")\n",
    "    try:\n",
    "        print(\"outer_caller(): before calling\")\n",
    "        intermediate_fun(error_type)\n",
    "        print(\"outer_caller(): after calling\")\n",
    "    except Exception as error:\n",
    "        print(f\"<<< outer_caller(): caught Exception: {error}\")\n",
    "    print(\"outer_caller(): after except\")"
   ]
  },
  {
   "cell_type": "code",
   "execution_count": null,
   "id": "626acaf204465da2",
   "metadata": {
    "lines_to_next_cell": 2,
    "slideshow": {
     "slide_type": "subslide"
    },
    "tags": [
     "keep",
     "subslide"
    ]
   },
   "outputs": [],
   "source": [
    "outer_caller_with_try(ErrorType.INDEX)"
   ]
  },
  {
   "cell_type": "code",
   "execution_count": null,
   "id": "a529854d27065af8",
   "metadata": {
    "lines_to_next_cell": 2,
    "slideshow": {
     "slide_type": "subslide"
    },
    "tags": [
     "keep",
     "subslide"
    ]
   },
   "outputs": [],
   "source": [
    "outer_caller_with_try(ErrorType.VALUE)"
   ]
  },
  {
   "cell_type": "markdown",
   "id": "b48c98ad765a944c",
   "metadata": {
    "lang": "de",
    "slideshow": {
     "slide_type": "slide"
    },
    "tags": [
     "slide"
    ]
   },
   "source": [
    "\n",
    "## Workshop: Verschachtelte Ausnahmen\n",
    "\n",
    "In diesem Workshop wollen wir betrachten, wie sich verschachtelte Ausnahmen\n",
    "verhalten.\n",
    "\n",
    "Gegeben seien die folgenden Funktionen.\n",
    "\n",
    "Welche Ausgabe erwarten Sie für Aufrufe von `outer_caller_ws()` und\n",
    "`outer_caller_with_try_ws()` mit den verschiedenen `ErrorType`-Werten?"
   ]
  },
  {
   "cell_type": "code",
   "execution_count": null,
   "id": "a5e7c80a2b62447d",
   "metadata": {
    "slideshow": {
     "slide_type": "subslide"
    },
    "tags": [
     "keep",
     "subslide"
    ]
   },
   "outputs": [],
   "source": [
    "def raise_and_handle_error_ws(exception_type: ErrorType):\n",
    "    print(\"    raise_and_handle_error_ws(): before try\")\n",
    "    try:\n",
    "        print(\"    raise_and_handle_error_ws(): before raise\")\n",
    "        if exception_type == ErrorType.VALUE:\n",
    "            raise ValueError(\"Raising ValueError\")\n",
    "        elif exception_type == ErrorType.LOOKUP:\n",
    "            raise LookupError(\"Raising LookupError\")\n",
    "        else:\n",
    "            raise IndexError(\"Raising IndexError\")\n",
    "    except LookupError as error:\n",
    "        print(f\"<<< raise_and_handle_error_ws(): caught LookupError [{error}]\")\n",
    "        raise\n",
    "    except ValueError as error:\n",
    "        print(f\"<<< raise_and_handle_error_ws(): caught ValueError [{error}]\")\n",
    "    print(\"    raise_and_handle_error_ws(): after except\")"
   ]
  },
  {
   "cell_type": "code",
   "execution_count": null,
   "id": "d42b8bde7883b512",
   "metadata": {
    "slideshow": {
     "slide_type": "subslide"
    },
    "tags": [
     "keep",
     "subslide"
    ]
   },
   "outputs": [],
   "source": [
    "def intermediate_fun_ws(exception_type: ErrorType):\n",
    "    print(\"  intermediate_fun_ws(): before call\")\n",
    "    try:\n",
    "        raise_and_handle_error_ws(exception_type)\n",
    "    except IndexError as error:\n",
    "        print(f\"<<< intermediate_fun_ws(): caught IndexError [{error}]\")\n",
    "        raise TypeError(f\"Raising inner TypeError from [{error}]\") from error\n",
    "    except LookupError as error:\n",
    "        print(f\"<<< intermediate_fun_ws(): caught LookupError [{error}]\")\n",
    "        raise TypeError(\"Raising inner TypeError\")\n",
    "    except Exception as error:\n",
    "        print(f\"<<< intermediate_fun_ws(): caught Exception [{error}]\")\n",
    "        print(\"  intermediate_fun_ws(): re-raising exception\")\n",
    "        raise\n",
    "        print(\"  intermediate_fun_ws(): re-raised exception\")  # noqa\n",
    "    print(\"  intermediate_fun_ws() after call\")"
   ]
  },
  {
   "cell_type": "code",
   "execution_count": null,
   "id": "af504efd0d675623",
   "metadata": {
    "slideshow": {
     "slide_type": "subslide"
    },
    "tags": [
     "keep",
     "subslide"
    ]
   },
   "outputs": [],
   "source": [
    "def outer_caller_ws(exception_type: ErrorType = ErrorType.VALUE):\n",
    "    print(\"outer_caller_ws(): before calling\")\n",
    "    intermediate_fun_ws(exception_type)\n",
    "    print(\"outer_caller_ws(): after calling\")"
   ]
  },
  {
   "cell_type": "code",
   "execution_count": null,
   "id": "5e36996e6b8da1f4",
   "metadata": {
    "slideshow": {
     "slide_type": "subslide"
    },
    "tags": [
     "subslide",
     "keep"
    ]
   },
   "outputs": [],
   "source": [
    "outer_caller_ws(ErrorType.VALUE)"
   ]
  },
  {
   "cell_type": "code",
   "execution_count": null,
   "id": "171eb655d7c7de3e",
   "metadata": {
    "slideshow": {
     "slide_type": "subslide"
    },
    "tags": [
     "subslide",
     "keep"
    ]
   },
   "outputs": [],
   "source": [
    "# outer_caller_ws(ErrorType.LOOKUP)"
   ]
  },
  {
   "cell_type": "code",
   "execution_count": null,
   "id": "d29bfa9b8e467954",
   "metadata": {
    "lines_to_next_cell": 2,
    "slideshow": {
     "slide_type": "subslide"
    },
    "tags": [
     "subslide",
     "keep"
    ]
   },
   "outputs": [],
   "source": [
    "# outer_caller_ws(ErrorType.INDEX)"
   ]
  },
  {
   "cell_type": "code",
   "execution_count": null,
   "id": "15a1823768ec026e",
   "metadata": {
    "slideshow": {
     "slide_type": "subslide"
    },
    "tags": [
     "keep",
     "subslide"
    ]
   },
   "outputs": [],
   "source": [
    "def outer_caller_with_try_ws(exception_type: ErrorType = ErrorType.VALUE):\n",
    "    print(\"outer_caller_ws(): before try\")\n",
    "    try:\n",
    "        print(\"outer_caller_ws(): before calling\")\n",
    "        intermediate_fun_ws(exception_type)\n",
    "        print(\"outer_caller_ws(): after calling\")\n",
    "    except Exception as error:\n",
    "        print(f\"<<< outer_caller_ws(): caught Exception [{error}]\")\n",
    "    print(\"outer_caller_ws(): after except\")"
   ]
  },
  {
   "cell_type": "code",
   "execution_count": null,
   "id": "713131f886785b0a",
   "metadata": {
    "slideshow": {
     "slide_type": "subslide"
    },
    "tags": [
     "subslide",
     "keep"
    ]
   },
   "outputs": [],
   "source": [
    "outer_caller_with_try_ws(ErrorType.VALUE)"
   ]
  },
  {
   "cell_type": "code",
   "execution_count": null,
   "id": "87a5c84511254671",
   "metadata": {
    "slideshow": {
     "slide_type": "subslide"
    },
    "tags": [
     "subslide",
     "keep"
    ]
   },
   "outputs": [],
   "source": [
    "outer_caller_with_try_ws(ErrorType.LOOKUP)"
   ]
  },
  {
   "cell_type": "code",
   "execution_count": null,
   "id": "9cfa160a77dcf952",
   "metadata": {
    "slideshow": {
     "slide_type": "subslide"
    },
    "tags": [
     "subslide",
     "keep"
    ]
   },
   "outputs": [],
   "source": [
    "outer_caller_with_try_ws(ErrorType.INDEX)"
   ]
  },
  {
   "cell_type": "code",
   "execution_count": null,
   "id": "6b4e03423667dbb7",
   "metadata": {},
   "outputs": [],
   "source": []
  }
 ],
 "metadata": {
  "jupytext": {
   "main_language": "python",
   "notebook_metadata_filter": "rise"
  },
  "kernelspec": {
   "display_name": "Python 3 (ipykernel)",
   "language": "python",
   "name": "python3"
  },
  "language_info": {
   "codemirror_mode": {
    "name": "ipython",
    "version": 3
   },
   "file_extension": ".py",
   "mimetype": "text/x-python",
   "name": "python",
   "nbconvert_exporter": "python",
   "pygments_lexer": "ipython3"
  },
  "rise": {
   "transition": "fade"
  }
 },
 "nbformat": 4,
 "nbformat_minor": 5
}
