{
 "cells": [
  {
   "cell_type": "markdown",
   "id": "9fad1475a8c6adbb",
   "metadata": {
    "lang": "de",
    "slideshow": {
     "slide_type": "slide"
    },
    "tags": [
     "slide"
    ]
   },
   "source": [
    "\n",
    "<img src=\"data:image/svg+xml;base64,PHN2ZyB4bWxucz0iaHR0cDovL3d3dy53My5vcmcvMjAwMC9zdmciIHhtbG5zOnhsaW5rPSJodHRw\n",
    "Oi8vd3d3LnczLm9yZy8xOTk5L3hsaW5rIiB3aWR0aD0iMTExLjE2MSIgaGVpZ2h0PSIxMzQuNjY4\n",
    "IiB2ZXJzaW9uPSIxLjAiPjxkZWZzPjxsaW5lYXJHcmFkaWVudCBpZD0iYyI+PHN0b3Agb2Zmc2V0\n",
    "PSIwIiBzdHlsZT0ic3RvcC1jb2xvcjojYjhiOGI4O3N0b3Atb3BhY2l0eTouNDk4MDM5MjIiLz48\n",
    "c3RvcCBvZmZzZXQ9IjEiIHN0eWxlPSJzdG9wLWNvbG9yOiM3ZjdmN2Y7c3RvcC1vcGFjaXR5OjAi\n",
    "Lz48L2xpbmVhckdyYWRpZW50PjxsaW5lYXJHcmFkaWVudCBpZD0iYSI+PHN0b3Agb2Zmc2V0PSIw\n",
    "IiBzdHlsZT0ic3RvcC1jb2xvcjojZmZkNDNiO3N0b3Atb3BhY2l0eToxIi8+PHN0b3Agb2Zmc2V0\n",
    "PSIxIiBzdHlsZT0ic3RvcC1jb2xvcjojZmZlODczO3N0b3Atb3BhY2l0eToxIi8+PC9saW5lYXJH\n",
    "cmFkaWVudD48bGluZWFyR3JhZGllbnQgaWQ9ImIiPjxzdG9wIG9mZnNldD0iMCIgc3R5bGU9InN0\n",
    "b3AtY29sb3I6IzVhOWZkNDtzdG9wLW9wYWNpdHk6MSIvPjxzdG9wIG9mZnNldD0iMSIgc3R5bGU9\n",
    "InN0b3AtY29sb3I6IzMwNjk5ODtzdG9wLW9wYWNpdHk6MSIvPjwvbGluZWFyR3JhZGllbnQ+PGxp\n",
    "bmVhckdyYWRpZW50IHhsaW5rOmhyZWY9IiNhIiBpZD0iZSIgeDE9IjE1MC45NjEiIHgyPSIxMTIu\n",
    "MDMxIiB5MT0iMTkyLjM1MiIgeTI9IjEzNy4yNzMiIGdyYWRpZW50VHJhbnNmb3JtPSJtYXRyaXgo\n",
    "LjU2MjU0IDAgMCAuNTY3OTcgLTE0Ljk5MSAtMTEuNzAyKSIgZ3JhZGllbnRVbml0cz0idXNlclNw\n",
    "YWNlT25Vc2UiLz48bGluZWFyR3JhZGllbnQgeGxpbms6aHJlZj0iI2IiIGlkPSJkIiB4MT0iMjYu\n",
    "NjQ5IiB4Mj0iMTM1LjY2NSIgeTE9IjIwLjYwNCIgeTI9IjExNC4zOTgiIGdyYWRpZW50VHJhbnNm\n",
    "b3JtPSJtYXRyaXgoLjU2MjU0IDAgMCAuNTY3OTcgLTE0Ljk5MSAtMTEuNzAyKSIgZ3JhZGllbnRV\n",
    "bml0cz0idXNlclNwYWNlT25Vc2UiLz48cmFkaWFsR3JhZGllbnQgeGxpbms6aHJlZj0iI2MiIGlk\n",
    "PSJmIiBjeD0iNjEuNTE5IiBjeT0iMTMyLjI4NiIgcj0iMjkuMDM3IiBmeD0iNjEuNTE5IiBmeT0i\n",
    "MTMyLjI4NiIgZ3JhZGllbnRUcmFuc2Zvcm09Im1hdHJpeCgwIC0uMjM5OTUgMS4wNTQ2NyAwIC04\n",
    "My43IDE0Mi40NjIpIiBncmFkaWVudFVuaXRzPSJ1c2VyU3BhY2VPblVzZSIvPjwvZGVmcz48cGF0\n",
    "aCBkPSJNNTQuOTE5IDBjLTQuNTg0LjAyMi04Ljk2MS40MTMtMTIuODEzIDEuMDk1QzMwLjc2IDMu\n",
    "MDk5IDI4LjcgNy4yOTUgMjguNyAxNS4wMzJ2MTAuMjE5aDI2LjgxM3YzLjQwNkgxOC42MzhjLTcu\n",
    "NzkzIDAtMTQuNjE2IDQuNjg0LTE2Ljc1IDEzLjU5NC0yLjQ2MiAxMC4yMTMtMi41NzEgMTYuNTg2\n",
    "IDAgMjcuMjUgMS45MDUgNy45MzggNi40NTcgMTMuNTk0IDE0LjI1IDEzLjU5NGg5LjIxOHYtMTIu\n",
    "MjVjMC04Ljg1IDcuNjU3LTE2LjY1NyAxNi43NS0xNi42NTdoMjYuNzgyYzcuNDU0IDAgMTMuNDA2\n",
    "LTYuMTM4IDEzLjQwNi0xMy42MjV2LTI1LjUzYzAtNy4yNjctNi4xMy0xMi43MjYtMTMuNDA2LTEz\n",
    "LjkzOEM2NC4yODIuMzI4IDU5LjUwMi0uMDIgNTQuOTE4IDBtLTE0LjUgOC4yMmMyLjc3IDAgNS4w\n",
    "MzEgMi4yOTggNS4wMzEgNS4xMjUgMCAyLjgxNi0yLjI2MiA1LjA5My01LjAzMSA1LjA5My0yLjc4\n",
    "IDAtNS4wMzEtMi4yNzctNS4wMzEtNS4wOTMgMC0yLjgyNyAyLjI1MS01LjEyNSA1LjAzLTUuMTI1\n",
    "IiBzdHlsZT0iZmlsbDp1cmwoI2QpO2ZpbGwtb3BhY2l0eToxIi8+PHBhdGggZD0iTTg1LjYzOCAy\n",
    "OC42NTd2MTEuOTA2YzAgOS4yMzEtNy44MjYgMTctMTYuNzUgMTdINDIuMTA2Yy03LjMzNiAwLTEz\n",
    "LjQwNiA2LjI3OS0xMy40MDYgMTMuNjI1Vjk2LjcyYzAgNy4yNjYgNi4zMTkgMTEuNTQgMTMuNDA2\n",
    "IDEzLjYyNSA4LjQ4OCAyLjQ5NSAxNi42MjcgMi45NDYgMjYuNzgyIDAgNi43NS0xLjk1NSAxMy40\n",
    "MDYtNS44ODggMTMuNDA2LTEzLjYyNVY4Ni41SDU1LjUxM3YtMy40MDVIOTUuN2M3Ljc5MyAwIDEw\n",
    "LjY5Ni01LjQzNiAxMy40MDYtMTMuNTk0IDIuOC04LjM5OSAyLjY4LTE2LjQ3NiAwLTI3LjI1LTEu\n",
    "OTI1LTcuNzU4LTUuNjA0LTEzLjU5NC0xMy40MDYtMTMuNTk0ek03MC41NzUgOTMuMzEzYzIuNzgg\n",
    "MCA1LjAzMSAyLjI3OCA1LjAzMSA1LjA5NCAwIDIuODI3LTIuMjUxIDUuMTI1LTUuMDMxIDUuMTI1\n",
    "LTIuNzcgMC01LjAzMS0yLjI5OC01LjAzMS01LjEyNSAwLTIuODE2IDIuMjYxLTUuMDk0IDUuMDMx\n",
    "LTUuMDk0IiBzdHlsZT0iZmlsbDp1cmwoI2UpO2ZpbGwtb3BhY2l0eToxIi8+PGVsbGlwc2UgY3g9\n",
    "IjU1LjgxNyIgY3k9IjEyNy43MDEiIHJ4PSIzNS45MzEiIHJ5PSI2Ljk2NyIgc3R5bGU9Im9wYWNp\n",
    "dHk6LjQ0MzgyO2ZpbGw6dXJsKCNmKTtmaWxsLW9wYWNpdHk6MTtmaWxsLXJ1bGU6bm9uemVybztz\n",
    "dHJva2U6bm9uZTtzdHJva2Utd2lkdGg6MTUuNDE3NDtzdHJva2UtbWl0ZXJsaW1pdDo0O3N0cm9r\n",
    "ZS1kYXNoYXJyYXk6bm9uZTtzdHJva2Utb3BhY2l0eToxIi8+PC9zdmc+\n",
    "\"\n",
    "     style=\"display:block;margin:auto;width:10%\" alt=\"Python Logo\"/>\n",
    "<br>\n",
    "\n",
    "<div style=\"text-align:center; font-size:200%;\">\n",
    " <b>Git Grundlagen (Teil 1)</b>\n",
    "</div>\n",
    "<br/>\n",
    "<div style=\"text-align:center;\">Dr. Matthias Hölzl</div>\n",
    "<br/>"
   ]
  },
  {
   "cell_type": "markdown",
   "id": "db2e31ca86212ccb",
   "metadata": {
    "lang": "de",
    "slideshow": {
     "slide_type": "slide"
    },
    "tags": [
     "slide"
    ]
   },
   "source": [
    "\n",
    "## Git Grundlagen\n",
    "\n",
    "- Verteiltes Versionskontrollsystem (DVCS)\n",
    "- Verfolgt Änderungen an Dateien\n",
    "- Ermöglicht Zusammenarbeit in Teams\n",
    "- Entwickelt von Linus Torvalds (2005)"
   ]
  },
  {
   "cell_type": "markdown",
   "id": "554b4f6e3dd15112",
   "metadata": {
    "lang": "de",
    "slideshow": {
     "slide_type": "slide"
    },
    "tags": [
     "slide"
    ]
   },
   "source": [
    "\n",
    "## Was ist ein verteiltes Versionskontrollsystem?\n",
    "\n",
    "- Jeder Nutzer hat eine vollständige Kopie des Repositories\n",
    "- Arbeitet unabhängig vom Netzwerk\n",
    "- Dezentrale Architektur\n",
    "- Hohe Redundanz und Ausfallsicherheit"
   ]
  },
  {
   "cell_type": "markdown",
   "id": "4bee1e4b19f09b90",
   "metadata": {
    "lang": "de",
    "slideshow": {
     "slide_type": "subslide"
    },
    "tags": [
     "subslide"
    ]
   },
   "source": [
    "\n",
    "<img src=\"img/distributed-01.png\" style=\"width:50%;margin:auto\" alt=\"Verteiltes Versionskontrollsystem\"></img>"
   ]
  },
  {
   "cell_type": "markdown",
   "id": "8ce140d7468df1e6",
   "metadata": {
    "lang": "de",
    "slideshow": {
     "slide_type": "slide"
    },
    "tags": [
     "slide"
    ]
   },
   "source": [
    "\n",
    "## Hilfe in Git bekommen\n",
    "\n",
    "```powershell\n",
    "# Allgemeine Hilfe\n",
    "git help\n",
    "git help -a   # Alle verfügbaren Befehle anzeigen\n",
    "git help -g   # Verfügbare Anleitungen anzeigen\n",
    "```\n",
    "```powershell\n",
    "# Hilfe zu einem bestimmten Befehl\n",
    "git help <Befehl>\n",
    "git <Befehl> --help\n",
    "git <Befehl> -h   # Kurzübersicht\n",
    "```\n",
    "```powershell\n",
    "# Beispiele\n",
    "git help commit\n",
    "git add --help\n",
    "```"
   ]
  },
  {
   "cell_type": "markdown",
   "id": "9d85fab7f8f5405e",
   "metadata": {
    "lang": "de",
    "slideshow": {
     "slide_type": "slide"
    },
    "tags": [
     "slide"
    ]
   },
   "source": [
    "\n",
    "## Ein Repository erstellen\n",
    "\n",
    "```powershell\n",
    "# Ein neues Git-Repository initialisieren\n",
    "mkdir [projekt]\n",
    "cd [projekt]\n",
    "git init\n",
    "```\n",
    "```powershell\n",
    "# Überprüfen\n",
    "ls -Hidden\n",
    "```\n",
    "\n",
    "Nach `git init`:\n",
    "- Ein `.git` Verzeichnis wurde erstellt\n",
    "- Enthält die gesamte Datenbank und Konfiguration\n",
    "- Löschen dieses Verzeichnisses entfernt die Git-Historie"
   ]
  },
  {
   "cell_type": "markdown",
   "id": "7dd2c5bec013c77d",
   "metadata": {
    "lang": "de",
    "slideshow": {
     "slide_type": "slide"
    },
    "tags": [
     "slide"
    ]
   },
   "source": [
    "\n",
    "## Praktisches Beispiel: Repository erstellen\n",
    "\n",
    "Erstellen wir ein einfaches Repository für unser Demo-Projekt:\n",
    "\n",
    "```powershell\n",
    "mkdir GitDemo\n",
    "cd GitDemo\n",
    "git init\n",
    "ls -Hidden\n",
    "ls\n",
    "```\n",
    "```powershell\n",
    "# Erstellen wir eine einfache Datei\n",
    "echo \"# Git Demo Projekt\" > README.md\n",
    "ls\n",
    "```"
   ]
  },
  {
   "cell_type": "markdown",
   "id": "5b15edcded5dd6a4",
   "metadata": {
    "lang": "de",
    "slideshow": {
     "slide_type": "slide"
    },
    "tags": [
     "slide"
    ]
   },
   "source": [
    "\n",
    "## Dateistatus in Git\n",
    "\n",
    "- **Untracked**: Datei ist Git nicht bekannt\n",
    "- **Unmodified**: Datei ist eingecheckt und unverändert\n",
    "- **Modified**: Datei wurde verändert seit letztem Commit\n",
    "- **Staged**: Aktuelle Version ist für Commit vorgemerkt"
   ]
  },
  {
   "cell_type": "markdown",
   "id": "2920505ce9483360",
   "metadata": {
    "lang": "de",
    "slideshow": {
     "slide_type": "slide"
    },
    "tags": [
     "slide"
    ]
   },
   "source": [
    "\n",
    "## Repository-Status überprüfen\n",
    "\n",
    "```powershell\n",
    "git status\n",
    "```\n",
    "\n",
    "Status-Ausgabe enthält:\n",
    "- Aktuellen Branch\n",
    "- Geänderte Dateien (\"Changes not staged for commit\")\n",
    "- Dateien in der Staging-Area (\"Changes to be committed\")\n",
    "- Nicht verfolgte Dateien (\"Untracked files\")\n",
    "\n",
    "Kurze Statusanzeige:\n",
    "```powershell\n",
    "git status -s\n",
    "# Oder\n",
    "git status --short\n",
    "```"
   ]
  },
  {
   "cell_type": "markdown",
   "id": "2db32701648e8809",
   "metadata": {
    "lang": "de",
    "slideshow": {
     "slide_type": "slide"
    },
    "tags": [
     "slide"
    ]
   },
   "source": [
    "\n",
    "## Praktisches Beispiel: Status überprüfen\n",
    "\n",
    "Überprüfen wir den Status unseres Demo-Projekts:\n",
    "\n",
    "```powershell\n",
    "git status\n",
    "```\n",
    "\n",
    "Die README.md sollte als \"untracked\" angezeigt werden."
   ]
  },
  {
   "cell_type": "markdown",
   "id": "1564d5dddf42c9c1",
   "metadata": {
    "lang": "de",
    "slideshow": {
     "slide_type": "slide"
    },
    "tags": [
     "slide"
    ]
   },
   "source": [
    "\n",
    "## Dateien zum Staging-Bereich hinzufügen\n",
    "\n",
    "Die Staging-Area ist eine Zwischenstufe vor dem Commit.\n",
    "\n",
    "```powershell\n",
    "# Einzelne Datei hinzufügen\n",
    "git add dateiname.txt\n",
    "```\n",
    "```powershell\n",
    "# Alle Dateien im aktuellen Verzeichnis hinzufügen\n",
    "git add .\n",
    "```\n",
    "```powershell\n",
    "# Alle Änderungen (inkl. Löschungen) hinzufügen\n",
    "git add -A\n",
    "```\n",
    "```powershell\n",
    "# Interaktiv hinzufügen (mit Auswahl)\n",
    "git add -i\n",
    "```"
   ]
  },
  {
   "cell_type": "markdown",
   "id": "93eb63257828be46",
   "metadata": {
    "lang": "de",
    "slideshow": {
     "slide_type": "slide"
    },
    "tags": [
     "slide"
    ]
   },
   "source": [
    "\n",
    "## Praktisches Beispiel: Dateien hinzufügen\n",
    "\n",
    "Fügen wir unsere README-Datei zum Staging-Bereich hinzu:\n",
    "\n",
    "```powershell\n",
    "git add README.md\n",
    "git status\n",
    "```\n",
    "```powershell\n",
    "# Fügen wir eine weitere Datei hinzu\n",
    "echo \"console.log('Hello, Git!');\" > app.js\n",
    "git status\n",
    "```"
   ]
  },
  {
   "cell_type": "markdown",
   "id": "d8f2fb276d071228",
   "metadata": {
    "lang": "de",
    "slideshow": {
     "slide_type": "slide"
    },
    "tags": [
     "slide"
    ]
   },
   "source": [
    "\n",
    "## Änderungen committen\n",
    "\n",
    "```powershell\n",
    "# Commit mit Nachricht\n",
    "git commit -m \"Eine aussagekräftige Commit-Nachricht\"\n",
    "```\n",
    "```powershell\n",
    "# Commit mit detaillierter Nachricht im Editor\n",
    "git commit\n",
    "```\n",
    "```powershell\n",
    "# Staging und Commit in einem Schritt (nur für bekannte Dateien)\n",
    "git commit -am \"Nachricht\"\n",
    "```\n",
    "```powershell\n",
    "# Letzten Commit ändern\n",
    "git commit --amend\n",
    "```\n",
    "\n",
    "Ein Commit ist ein Schnappschuss Ihres Projekts zu einem bestimmten Zeitpunkt."
   ]
  },
  {
   "cell_type": "markdown",
   "id": "683cd7e445e05ad5",
   "metadata": {
    "lang": "de",
    "slideshow": {
     "slide_type": "slide"
    },
    "tags": [
     "slide"
    ]
   },
   "source": [
    "\n",
    "## Praktisches Beispiel: Commit erstellen\n",
    "\n",
    "Committen wir unsere Datei:\n",
    "\n",
    "```powershell\n",
    "git commit -m \"Erstelle README.md mit Projektbeschreibung\"\n",
    "git status\n",
    "```\n",
    "```powershell\n",
    "# Fügen wir jetzt die JS-Datei hinzu und committen sie\n",
    "git add app.js\n",
    "git commit -m \"Füge einfache JavaScript-Datei hinzu\"\n",
    "```"
   ]
  }
 ],
 "metadata": {
  "jupytext": {
   "cell_metadata_filter": "lang,tags,-all",
   "main_language": "python",
   "notebook_metadata_filter": "-all"
  },
  "kernelspec": {
   "display_name": "Python 3 (ipykernel)",
   "language": "python",
   "name": "python3"
  },
  "language_info": {
   "codemirror_mode": {
    "name": "ipython",
    "version": 3
   },
   "file_extension": ".py",
   "mimetype": "text/x-python",
   "name": "python",
   "nbconvert_exporter": "python",
   "pygments_lexer": "ipython3",
   "version": "3.11.10"
  }
 },
 "nbformat": 4,
 "nbformat_minor": 5
}
