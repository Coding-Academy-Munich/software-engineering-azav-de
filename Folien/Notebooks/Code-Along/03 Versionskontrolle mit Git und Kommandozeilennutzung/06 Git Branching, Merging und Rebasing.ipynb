{
 "cells": [
  {
   "cell_type": "markdown",
   "id": "9ef43ceba8f4782e",
   "metadata": {
    "lang": "de",
    "slideshow": {
     "slide_type": "slide"
    },
    "tags": [
     "slide"
    ]
   },
   "source": [
    "\n",
    "<img src=\"data:image/svg+xml;base64,PHN2ZyB4bWxucz0iaHR0cDovL3d3dy53My5vcmcvMjAwMC9zdmciIHhtbG5zOnhsaW5rPSJodHRw\n",
    "Oi8vd3d3LnczLm9yZy8xOTk5L3hsaW5rIiB3aWR0aD0iMTExLjE2MSIgaGVpZ2h0PSIxMzQuNjY4\n",
    "IiB2ZXJzaW9uPSIxLjAiPjxkZWZzPjxsaW5lYXJHcmFkaWVudCBpZD0iYyI+PHN0b3Agb2Zmc2V0\n",
    "PSIwIiBzdHlsZT0ic3RvcC1jb2xvcjojYjhiOGI4O3N0b3Atb3BhY2l0eTouNDk4MDM5MjIiLz48\n",
    "c3RvcCBvZmZzZXQ9IjEiIHN0eWxlPSJzdG9wLWNvbG9yOiM3ZjdmN2Y7c3RvcC1vcGFjaXR5OjAi\n",
    "Lz48L2xpbmVhckdyYWRpZW50PjxsaW5lYXJHcmFkaWVudCBpZD0iYSI+PHN0b3Agb2Zmc2V0PSIw\n",
    "IiBzdHlsZT0ic3RvcC1jb2xvcjojZmZkNDNiO3N0b3Atb3BhY2l0eToxIi8+PHN0b3Agb2Zmc2V0\n",
    "PSIxIiBzdHlsZT0ic3RvcC1jb2xvcjojZmZlODczO3N0b3Atb3BhY2l0eToxIi8+PC9saW5lYXJH\n",
    "cmFkaWVudD48bGluZWFyR3JhZGllbnQgaWQ9ImIiPjxzdG9wIG9mZnNldD0iMCIgc3R5bGU9InN0\n",
    "b3AtY29sb3I6IzVhOWZkNDtzdG9wLW9wYWNpdHk6MSIvPjxzdG9wIG9mZnNldD0iMSIgc3R5bGU9\n",
    "InN0b3AtY29sb3I6IzMwNjk5ODtzdG9wLW9wYWNpdHk6MSIvPjwvbGluZWFyR3JhZGllbnQ+PGxp\n",
    "bmVhckdyYWRpZW50IHhsaW5rOmhyZWY9IiNhIiBpZD0iZSIgeDE9IjE1MC45NjEiIHgyPSIxMTIu\n",
    "MDMxIiB5MT0iMTkyLjM1MiIgeTI9IjEzNy4yNzMiIGdyYWRpZW50VHJhbnNmb3JtPSJtYXRyaXgo\n",
    "LjU2MjU0IDAgMCAuNTY3OTcgLTE0Ljk5MSAtMTEuNzAyKSIgZ3JhZGllbnRVbml0cz0idXNlclNw\n",
    "YWNlT25Vc2UiLz48bGluZWFyR3JhZGllbnQgeGxpbms6aHJlZj0iI2IiIGlkPSJkIiB4MT0iMjYu\n",
    "NjQ5IiB4Mj0iMTM1LjY2NSIgeTE9IjIwLjYwNCIgeTI9IjExNC4zOTgiIGdyYWRpZW50VHJhbnNm\n",
    "b3JtPSJtYXRyaXgoLjU2MjU0IDAgMCAuNTY3OTcgLTE0Ljk5MSAtMTEuNzAyKSIgZ3JhZGllbnRV\n",
    "bml0cz0idXNlclNwYWNlT25Vc2UiLz48cmFkaWFsR3JhZGllbnQgeGxpbms6aHJlZj0iI2MiIGlk\n",
    "PSJmIiBjeD0iNjEuNTE5IiBjeT0iMTMyLjI4NiIgcj0iMjkuMDM3IiBmeD0iNjEuNTE5IiBmeT0i\n",
    "MTMyLjI4NiIgZ3JhZGllbnRUcmFuc2Zvcm09Im1hdHJpeCgwIC0uMjM5OTUgMS4wNTQ2NyAwIC04\n",
    "My43IDE0Mi40NjIpIiBncmFkaWVudFVuaXRzPSJ1c2VyU3BhY2VPblVzZSIvPjwvZGVmcz48cGF0\n",
    "aCBkPSJNNTQuOTE5IDBjLTQuNTg0LjAyMi04Ljk2MS40MTMtMTIuODEzIDEuMDk1QzMwLjc2IDMu\n",
    "MDk5IDI4LjcgNy4yOTUgMjguNyAxNS4wMzJ2MTAuMjE5aDI2LjgxM3YzLjQwNkgxOC42MzhjLTcu\n",
    "NzkzIDAtMTQuNjE2IDQuNjg0LTE2Ljc1IDEzLjU5NC0yLjQ2MiAxMC4yMTMtMi41NzEgMTYuNTg2\n",
    "IDAgMjcuMjUgMS45MDUgNy45MzggNi40NTcgMTMuNTk0IDE0LjI1IDEzLjU5NGg5LjIxOHYtMTIu\n",
    "MjVjMC04Ljg1IDcuNjU3LTE2LjY1NyAxNi43NS0xNi42NTdoMjYuNzgyYzcuNDU0IDAgMTMuNDA2\n",
    "LTYuMTM4IDEzLjQwNi0xMy42MjV2LTI1LjUzYzAtNy4yNjctNi4xMy0xMi43MjYtMTMuNDA2LTEz\n",
    "LjkzOEM2NC4yODIuMzI4IDU5LjUwMi0uMDIgNTQuOTE4IDBtLTE0LjUgOC4yMmMyLjc3IDAgNS4w\n",
    "MzEgMi4yOTggNS4wMzEgNS4xMjUgMCAyLjgxNi0yLjI2MiA1LjA5My01LjAzMSA1LjA5My0yLjc4\n",
    "IDAtNS4wMzEtMi4yNzctNS4wMzEtNS4wOTMgMC0yLjgyNyAyLjI1MS01LjEyNSA1LjAzLTUuMTI1\n",
    "IiBzdHlsZT0iZmlsbDp1cmwoI2QpO2ZpbGwtb3BhY2l0eToxIi8+PHBhdGggZD0iTTg1LjYzOCAy\n",
    "OC42NTd2MTEuOTA2YzAgOS4yMzEtNy44MjYgMTctMTYuNzUgMTdINDIuMTA2Yy03LjMzNiAwLTEz\n",
    "LjQwNiA2LjI3OS0xMy40MDYgMTMuNjI1Vjk2LjcyYzAgNy4yNjYgNi4zMTkgMTEuNTQgMTMuNDA2\n",
    "IDEzLjYyNSA4LjQ4OCAyLjQ5NSAxNi42MjcgMi45NDYgMjYuNzgyIDAgNi43NS0xLjk1NSAxMy40\n",
    "MDYtNS44ODggMTMuNDA2LTEzLjYyNVY4Ni41SDU1LjUxM3YtMy40MDVIOTUuN2M3Ljc5MyAwIDEw\n",
    "LjY5Ni01LjQzNiAxMy40MDYtMTMuNTk0IDIuOC04LjM5OSAyLjY4LTE2LjQ3NiAwLTI3LjI1LTEu\n",
    "OTI1LTcuNzU4LTUuNjA0LTEzLjU5NC0xMy40MDYtMTMuNTk0ek03MC41NzUgOTMuMzEzYzIuNzgg\n",
    "MCA1LjAzMSAyLjI3OCA1LjAzMSA1LjA5NCAwIDIuODI3LTIuMjUxIDUuMTI1LTUuMDMxIDUuMTI1\n",
    "LTIuNzcgMC01LjAzMS0yLjI5OC01LjAzMS01LjEyNSAwLTIuODE2IDIuMjYxLTUuMDk0IDUuMDMx\n",
    "LTUuMDk0IiBzdHlsZT0iZmlsbDp1cmwoI2UpO2ZpbGwtb3BhY2l0eToxIi8+PGVsbGlwc2UgY3g9\n",
    "IjU1LjgxNyIgY3k9IjEyNy43MDEiIHJ4PSIzNS45MzEiIHJ5PSI2Ljk2NyIgc3R5bGU9Im9wYWNp\n",
    "dHk6LjQ0MzgyO2ZpbGw6dXJsKCNmKTtmaWxsLW9wYWNpdHk6MTtmaWxsLXJ1bGU6bm9uemVybztz\n",
    "dHJva2U6bm9uZTtzdHJva2Utd2lkdGg6MTUuNDE3NDtzdHJva2UtbWl0ZXJsaW1pdDo0O3N0cm9r\n",
    "ZS1kYXNoYXJyYXk6bm9uZTtzdHJva2Utb3BhY2l0eToxIi8+PC9zdmc+\n",
    "\"\n",
    "     style=\"display:block;margin:auto;width:10%\" alt=\"Python Logo\"/>\n",
    "<br>\n",
    "\n",
    "<div style=\"text-align:center; font-size:200%;\">\n",
    " <b>Git Branching, Merging und Rebasing</b>\n",
    "</div>\n",
    "<br/>\n",
    "<div style=\"text-align:center;\">Dr. Matthias Hölzl</div>\n",
    "<br/>"
   ]
  },
  {
   "cell_type": "markdown",
   "id": "a04843a5f9d8f1a7",
   "metadata": {
    "lang": "de",
    "slideshow": {
     "slide_type": "slide"
    },
    "tags": [
     "slide"
    ]
   },
   "source": [
    "\n",
    "## Git Branching, Merging und Rebasing\n",
    "\n",
    "- Branches: Parallele Entwicklungslinien\n",
    "- Merging: Zusammenführen von Branches\n",
    "- Rebasing: Alternative Methode zur Integration von Änderungen\n",
    "- Kernkonzepte für kollaborative Softwareentwicklung"
   ]
  },
  {
   "cell_type": "markdown",
   "id": "bc0e7b999ad52da3",
   "metadata": {
    "lang": "de",
    "slideshow": {
     "slide_type": "slide"
    },
    "tags": [
     "slide"
    ]
   },
   "source": [
    "\n",
    "## Git-Objekte: Die interne Struktur\n",
    "\n",
    "<img src=\"img/commit-and-tree-01.png\" style=\"width:80%;margin:auto\">Git Objects</img>\n",
    "\n",
    "- **Commits**: Snapshots des Projekts mit Metadaten\n",
    "- **Trees**: Verzeichnisstrukturen (Baumstrukturen)\n",
    "- **Blobs**: Dateiinhalte\n",
    "- **Refs**: Zeiger auf Commits (Branches, Tags)"
   ]
  },
  {
   "cell_type": "markdown",
   "id": "034585fe7d7b4cf4",
   "metadata": {
    "lang": "de",
    "slideshow": {
     "slide_type": "slide"
    },
    "tags": [
     "slide"
    ]
   },
   "source": [
    "\n",
    "## Praktischer Einstieg: Beispielprojekt erstellen\n",
    "\n",
    "```powershell\n",
    "# Neues Verzeichnis erstellen\n",
    "mkdir branch-demo\n",
    "cd branch-demo\n",
    "git init\n",
    "\n",
    "# Initiale Dateien erstellen\n",
    "echo \"# Branching Demo\" > README.md\n",
    "echo \"console.log('Main application');\" > app.js\n",
    "echo \"body { font-family: Arial, sans-serif; }\" > styles.css\n",
    "\n",
    "# Erste Änderungen committen\n",
    "git add .\n",
    "git commit -m \"Initial commit mit README, app.js und styles.css\"\n",
    "```"
   ]
  },
  {
   "cell_type": "markdown",
   "id": "86840bf84b417065",
   "metadata": {
    "lang": "de",
    "slideshow": {
     "slide_type": "slide"
    },
    "tags": [
     "slide"
    ]
   },
   "source": [
    "\n",
    "## Git-Branches\n",
    "\n",
    "<img src=\"img/branch-and-history-01.png\" style=\"width:80%;margin:auto\">Git Branches</img>\n",
    "\n",
    "- **Branch**: Leichtgewichtiger beweglicher Zeiger auf einen Commit"
   ]
  },
  {
   "cell_type": "markdown",
   "id": "5b976b60987dd861",
   "metadata": {
    "lang": "de",
    "slideshow": {
     "slide_type": "slide"
    },
    "tags": [
     "slide"
    ]
   },
   "source": [
    "\n",
    "## Branches erstellen\n",
    "\n",
    "```powershell\n",
    "# Aktuellen Branch anzeigen\n",
    "git branch\n",
    "\n",
    "# Neuen Branch erstellen\n",
    "git branch feature\n",
    "\n",
    "# Branch erstellen und gleich wechseln\n",
    "git switch -c new-feature\n",
    "# ODER in älteren Git-Versionen\n",
    "git checkout -b bugfix\n",
    "```\n",
    "\n",
    "Ein Branch ist nur ein Zeiger auf einen Commit!"
   ]
  },
  {
   "cell_type": "markdown",
   "id": "ef8dbb1bc9744800",
   "metadata": {
    "lang": "de",
    "slideshow": {
     "slide_type": "slide"
    },
    "tags": [
     "slide"
    ]
   },
   "source": [
    "\n",
    "## Praktisches Beispiel: Branches erstellen\n",
    "\n",
    "```powershell\n",
    "# Branches anzeigen\n",
    "git branch\n",
    "\n",
    "# Feature-Branch erstellen\n",
    "git branch feature\n",
    "\n",
    "# Bugfix-Branch erstellen und gleich wechseln\n",
    "git switch -c bugfix\n",
    "# ODER\n",
    "git checkout -b bugfix\n",
    "\n",
    "# Alle Branches anzeigen\n",
    "git branch\n",
    "```"
   ]
  },
  {
   "cell_type": "markdown",
   "id": "860e42f3ec7f8064",
   "metadata": {
    "lang": "de",
    "slideshow": {
     "slide_type": "slide"
    },
    "tags": [
     "slide"
    ]
   },
   "source": [
    "\n",
    "## Zwischen Branches wechseln\n",
    "\n",
    "```powershell\n",
    "# Zu einem existierenden Branch wechseln\n",
    "git checkout branch-name\n",
    "# ODER in neueren Git-Versionen\n",
    "git switch branch-name\n",
    "\n",
    "# Zum vorherigen Branch zurückkehren\n",
    "git checkout -\n",
    "git switch -\n",
    "\n",
    "# Mit unkommittierten Änderungen wechseln\n",
    "git checkout -b new-branch  # Nimmt Änderungen mit\n",
    "git stash                   # Speichert Änderungen temporär\n",
    "git checkout other-branch\n",
    "git stash pop               # Holt Änderungen zurück\n",
    "```"
   ]
  },
  {
   "cell_type": "markdown",
   "id": "831690d33fd6b1a5",
   "metadata": {
    "lang": "de",
    "slideshow": {
     "slide_type": "slide"
    },
    "tags": [
     "slide"
    ]
   },
   "source": [
    "\n",
    "## Praktisches Beispiel: Branch-Wechsel und Änderungen\n",
    "\n",
    "```powershell\n",
    "# Zum bugfix-Branch wechseln (falls noch nicht dort)\n",
    "git switch bugfix\n",
    "\n",
    "# Änderung im bugfix-Branch vornehmen\n",
    "echo \"console.log('Bug fixed!');\" >> app.js\n",
    "git add app.js\n",
    "git commit -m \"Fix critical bug in app.js\"\n",
    "\n",
    "# Zurück zum main-Branch wechseln\n",
    "git switch main\n",
    "\n",
    "# app.js anzeigen (sollte die Bugfix-Änderung nicht enthalten)\n",
    "cat app.js\n",
    "```"
   ]
  },
  {
   "cell_type": "markdown",
   "id": "477986ff0db3c259",
   "metadata": {
    "lang": "de",
    "slideshow": {
     "slide_type": "slide"
    },
    "tags": [
     "slide"
    ]
   },
   "source": [
    "\n",
    "## Branches visualisieren\n",
    "\n",
    "```powershell\n",
    "# Einfache Darstellung mit Graphen\n",
    "git log --oneline --decorate --graph --all\n",
    "\n",
    "# Mit Farbmarkierungen und kompakt\n",
    "git log --graph --pretty=format:'%Cred%h%Creset -%C(yellow)%d%Creset %s %Cgreen(%cr) %C(bold blue)<%an>%Creset' --abbrev-commit --all\n",
    "\n",
    "# Graphisches Tool starten (wenn installiert)\n",
    "gitk --all &\n",
    "\n",
    "# Git-internes Visualisierungstool\n",
    "git gui &\n",
    "```"
   ]
  },
  {
   "cell_type": "markdown",
   "id": "4b887e8b49d44f26",
   "metadata": {
    "lang": "de",
    "slideshow": {
     "slide_type": "slide"
    },
    "tags": [
     "slide"
    ]
   },
   "source": [
    "\n",
    "## Praktisches Beispiel: Branches visualisieren\n",
    "\n",
    "```powershell\n",
    "# Änderungen im main-Branch\n",
    "git switch main\n",
    "echo \"// Main-Branch-Update\" >> app.js\n",
    "git add app.js\n",
    "git commit -m \"Update app.js im main-Branch\"\n",
    "\n",
    "# Änderungen im feature-Branch\n",
    "git switch feature\n",
    "echo \"h1 { color: blue; }\" >> styles.css\n",
    "git add styles.css\n",
    "git commit -m \"Füge blaue Überschriften in styles.css hinzu\"\n",
    "\n",
    "# Branches visualisieren\n",
    "git log --oneline --decorate --graph --all\n",
    "```"
   ]
  },
  {
   "cell_type": "markdown",
   "id": "e023f20c0a070f0f",
   "metadata": {
    "lang": "de",
    "slideshow": {
     "slide_type": "slide"
    },
    "tags": [
     "slide"
    ]
   },
   "source": [
    "\n",
    "## Divergierende Branches\n",
    "\n",
    "- Branches entwickeln sich unabhängig voneinander\n",
    "- Gleiche Dateien können unterschiedlich geändert werden\n",
    "- Jeder Branch hat seine eigene Commit-Historie\n",
    "\n",
    "<img src=\"img/basic-branching-01.png\" style=\"width:80%;margin:auto\">Diverging Branches</img>"
   ]
  },
  {
   "cell_type": "markdown",
   "id": "904e164402080525",
   "metadata": {
    "lang": "de",
    "slideshow": {
     "slide_type": "slide"
    },
    "tags": [
     "slide"
    ]
   },
   "source": [
    "\n",
    "## Praktisches Beispiel: Divergierende Branches\n",
    "\n",
    "```powershell\n",
    "# Erstellen wir divergierende Änderungen in verschiedenen Branches\n",
    "\n",
    "# Im main-Branch\n",
    "git switch main\n",
    "echo \"function mainFeature() { return 'main'; }\" >> app.js\n",
    "git add app.js\n",
    "git commit -m \"Füge mainFeature Funktion hinzu\"\n",
    "\n",
    "# Im feature-Branch\n",
    "git switch feature\n",
    "echo \"function newFeature() { return 'feature'; }\" >> app.js\n",
    "git add app.js\n",
    "git commit -m \"Füge newFeature Funktion hinzu\"\n",
    "\n",
    "# Branches anzeigen\n",
    "git log --oneline --decorate --graph --all\n",
    "```"
   ]
  },
  {
   "cell_type": "markdown",
   "id": "b3291643a810f96f",
   "metadata": {
    "lang": "de",
    "slideshow": {
     "slide_type": "slide"
    },
    "tags": [
     "slide"
    ]
   },
   "source": [
    "\n",
    "## Branches zusammenführen mit Merge\n",
    "\n",
    "```powershell\n",
    "# Zum Ziel-Branch wechseln (wohin soll gemergt werden)\n",
    "git switch main\n",
    "\n",
    "# Merge durchführen\n",
    "git merge feature\n",
    "\n",
    "# Bei einem Fast-Forward-Merge\n",
    "git merge feature  # Verschiebt einfach den Branch-Pointer\n",
    "\n",
    "# Drei-Wege-Merge erzeugt einen Merge-Commit\n",
    "git merge feature  # Wenn es Divergenzen gibt\n",
    "\n",
    "# Merge mit eigener Commit-Nachricht\n",
    "git merge --no-ff feature -m \"Merge feature Branch\"\n",
    "```\n",
    "\n",
    "<img src=\"img/basic-merging-01.png\" style=\"width:80%;margin:auto\">Merge</img>"
   ]
  },
  {
   "cell_type": "markdown",
   "id": "2e95e386932fd54a",
   "metadata": {
    "lang": "de",
    "slideshow": {
     "slide_type": "slide"
    },
    "tags": [
     "slide"
    ]
   },
   "source": [
    "\n",
    "## Praktisches Beispiel: Merging\n",
    "\n",
    "```powershell\n",
    "# Fast-forward Merge: bugfix in main integrieren\n",
    "git switch main\n",
    "git merge bugfix\n",
    "git log --oneline --decorate --graph --all\n",
    "\n",
    "# Drei-Wege-Merge: feature in main integrieren\n",
    "git merge feature\n",
    "git log --oneline --decorate --graph --all\n",
    "\n",
    "# Erzwungener Merge-Commit mit --no-ff\n",
    "git switch main\n",
    "git checkout -b new-feature\n",
    "echo \"// Neue Funktion\" >> app.js\n",
    "git add app.js\n",
    "git commit -m \"Füge neue Funktion hinzu\"\n",
    "git switch main\n",
    "git merge --no-ff new-feature -m \"Merge new-feature mit --no-ff\"\n",
    "git log --oneline --decorate --graph --all\n",
    "```"
   ]
  },
  {
   "cell_type": "markdown",
   "id": "f601cc4b86840b62",
   "metadata": {
    "lang": "de",
    "slideshow": {
     "slide_type": "slide"
    },
    "tags": [
     "slide"
    ]
   },
   "source": [
    "\n",
    "## Merge-Konflikte lösen\n",
    "\n",
    "```powershell\n",
    "# Wenn Git einen Konflikt meldet:\n",
    "git status  # Zeigt Dateien mit Konflikten\n",
    "\n",
    "# Öffne die Dateien mit Konflikten im Editor\n",
    "# Datei enthält Markierungen:\n",
    "# <<<<<<< HEAD\n",
    "# Deine Änderungen\n",
    "# =======\n",
    "# Andere Änderungen\n",
    "# >>>>>>> feature\n",
    "\n",
    "# Nach der Bearbeitung:\n",
    "git add <konfliktdatei>  # Konfliktlösung markieren\n",
    "git merge --continue     # Merge fortsetzen\n",
    "# ODER\n",
    "git commit -m \"Löse Merge-Konflikt\"\n",
    "\n",
    "# Merge abbrechen\n",
    "git merge --abort\n",
    "```"
   ]
  },
  {
   "cell_type": "markdown",
   "id": "51f88c886bc08045",
   "metadata": {
    "lang": "de",
    "slideshow": {
     "slide_type": "slide"
    },
    "tags": [
     "slide"
    ]
   },
   "source": [
    "\n",
    "## Praktisches Beispiel: Merge-Konflikt erzeugen und lösen\n",
    "\n",
    "```powershell\n",
    "# Erzeuge einen Konflikt\n",
    "git switch main\n",
    "echo \"// Diese Zeile wird Konflikt verursachen - main\" >> styles.css\n",
    "git add styles.css\n",
    "git commit -m \"Ändere styles.css in main\"\n",
    "\n",
    "git switch feature\n",
    "echo \"// Diese Zeile wird Konflikt verursachen - feature\" >> styles.css\n",
    "git add styles.css\n",
    "git commit -m \"Ändere styles.css in feature\"\n",
    "\n",
    "# Versuche zu mergen (erzeugt Konflikt)\n",
    "git switch main\n",
    "git merge feature\n",
    "\n",
    "# Löse den Konflikt\n",
    "# 1. Öffne die Datei mit einem Editor\n",
    "# 2. Bearbeite die Konfliktmarkierungen\n",
    "# 3. Speichere die Datei\n",
    "git add styles.css\n",
    "git commit -m \"Löse Merge-Konflikt in styles.css\"\n",
    "```"
   ]
  },
  {
   "cell_type": "markdown",
   "id": "1805deb32abdc8ab",
   "metadata": {
    "lang": "de",
    "slideshow": {
     "slide_type": "slide"
    },
    "tags": [
     "slide"
    ]
   },
   "source": [
    "\n",
    "## Branch-Management\n",
    "\n",
    "```powershell\n",
    "# Alle Branches auflisten\n",
    "git branch\n",
    "git branch -a  # Auch Remote-Branches anzeigen\n",
    "\n",
    "# Details zu Branches anzeigen\n",
    "git branch -v  # Mit letztem Commit\n",
    "git branch --merged    # Branches, die in den aktuellen gemergt sind\n",
    "git branch --no-merged # Branches, die nicht gemergt sind\n",
    "\n",
    "# Branch umbenennen\n",
    "git branch -m alt-name neuer-name\n",
    "\n",
    "# Branch löschen\n",
    "git branch -d branch-name  # Nur wenn gemergt\n",
    "git branch -D branch-name  # Erzwingen (auch wenn nicht gemergt)\n",
    "```"
   ]
  },
  {
   "cell_type": "markdown",
   "id": "f20440ac6e6122f3",
   "metadata": {
    "lang": "de",
    "slideshow": {
     "slide_type": "slide"
    },
    "tags": [
     "slide"
    ]
   },
   "source": [
    "\n",
    "## Praktisches Beispiel: Branch-Management\n",
    "\n",
    "```powershell\n",
    "# Branches auflisten\n",
    "git branch\n",
    "git branch -v\n",
    "\n",
    "# Gemergter vs. nicht-gemergter Branch\n",
    "git branch --merged\n",
    "git branch --no-merged\n",
    "\n",
    "# Branch umbenennen\n",
    "git branch -m new-feature better-feature\n",
    "git branch\n",
    "\n",
    "# Branch löschen\n",
    "git branch -d bugfix  # Sollte funktionieren, falls gemergt\n",
    "git branch -d feature  # Zeigt Warnung, falls nicht gemergt\n",
    "git branch -D feature  # Erzwingt Löschung\n",
    "git branch\n",
    "```"
   ]
  },
  {
   "cell_type": "markdown",
   "id": "c72f6ddf59cf43b4",
   "metadata": {
    "lang": "de",
    "slideshow": {
     "slide_type": "slide"
    },
    "tags": [
     "slide"
    ]
   },
   "source": [
    "\n",
    "## Remote Branches und Tracking\n",
    "\n",
    "```powershell\n",
    "# Remote Branches anzeigen\n",
    "git branch -r\n",
    "\n",
    "# Remote abrufen\n",
    "git fetch origin\n",
    "\n",
    "# Lokalen Branch erstellen, der Remote folgt\n",
    "git checkout -b feature origin/feature\n",
    "# ODER in neueren Versionen\n",
    "git checkout feature  # Erstellt automatisch Tracking-Branch\n",
    "\n",
    "# Tracking-Informationen anzeigen\n",
    "git branch -vv\n",
    "\n",
    "# Tracking für existierenden Branch einrichten\n",
    "git branch -u origin/feature feature\n",
    "# ODER\n",
    "git branch --set-upstream-to=origin/feature feature\n",
    "```"
   ]
  },
  {
   "cell_type": "markdown",
   "id": "5eddfbc9f4ff2187",
   "metadata": {
    "lang": "de",
    "slideshow": {
     "slide_type": "slide"
    },
    "tags": [
     "slide"
    ]
   },
   "source": [
    "\n",
    "## Praktisches Beispiel: Remote Branches\n",
    "\n",
    "```powershell\n",
    "# Wechseln wir zu einem geklonten Repository (aus der vorherigen Lektion)\n",
    "cd ~/GitExample\n",
    "# Falls nicht vorhanden:\n",
    "# git clone https://github.com/Coding-Academy-Munich/GitExample.git\n",
    "cd GitExample\n",
    "\n",
    "# Remote-Branches anzeigen\n",
    "git branch -r\n",
    "\n",
    "# Neuen lokalen Branch erstellen, der einen Remote-Branch verfolgt\n",
    "git checkout -b feature origin/main\n",
    "\n",
    "# Tracking-Informationen anzeigen\n",
    "git branch -vv\n",
    "\n",
    "# Änderungen vom Remote holen\n",
    "git fetch origin\n",
    "git log --oneline --decorate --graph --all\n",
    "```"
   ]
  },
  {
   "cell_type": "markdown",
   "id": "b49931cf9ad5104c",
   "metadata": {
    "lang": "de",
    "slideshow": {
     "slide_type": "slide"
    },
    "tags": [
     "slide"
    ]
   },
   "source": [
    "\n",
    "## Rebasing\n",
    "\n",
    "```powershell\n",
    "# Grundlegendes Rebase\n",
    "git switch feature\n",
    "git rebase main\n",
    "\n",
    "# Interaktives Rebase\n",
    "git rebase -i HEAD~3  # Letzte 3 Commits\n",
    "\n",
    "# Rebase abbrechen\n",
    "git rebase --abort\n",
    "\n",
    "# Konflikte während Rebase lösen\n",
    "# Nach Konfliktlösung:\n",
    "git add <datei>\n",
    "git rebase --continue\n",
    "\n",
    "# Auf Remote-Branch rebasen\n",
    "git fetch origin\n",
    "git rebase origin/main\n",
    "```\n",
    "\n",
    "<img src=\"img/basic-rebase-01.png\" style=\"width:80%;margin:auto\">Rebase</img>"
   ]
  },
  {
   "cell_type": "markdown",
   "id": "19cbe27059af83f9",
   "metadata": {
    "lang": "de",
    "slideshow": {
     "slide_type": "slide"
    },
    "tags": [
     "slide"
    ]
   },
   "source": [
    "\n",
    "## Praktisches Beispiel: Rebasing\n",
    "\n",
    "```powershell\n",
    "# Wechseln wir zurück zum branch-demo Verzeichnis\n",
    "cd ~/branch-demo\n",
    "\n",
    "# Erstellen wir einen Branch für das Rebase-Beispiel\n",
    "git switch main\n",
    "git checkout -b rebase-example\n",
    "\n",
    "# Änderungen im rebase-example Branch\n",
    "echo \"// Rebase-Beispiel\" >> app.js\n",
    "git add app.js\n",
    "git commit -m \"Änderungen für Rebase-Beispiel\"\n",
    "\n",
    "# Änderungen im main-Branch\n",
    "git switch main\n",
    "echo \"// Main-Update\" >> app.js\n",
    "git add app.js\n",
    "git commit -m \"Update im main-Branch\"\n",
    "\n",
    "# Rebase durchführen\n",
    "git switch rebase-example\n",
    "git rebase main\n",
    "\n",
    "# Historie anzeigen\n",
    "git log --oneline --decorate --graph --all\n",
    "```"
   ]
  },
  {
   "cell_type": "markdown",
   "id": "da46f338941d2d41",
   "metadata": {
    "lang": "de",
    "slideshow": {
     "slide_type": "slide"
    },
    "tags": [
     "slide"
    ]
   },
   "source": [
    "\n",
    "## Rebase vs. Merge\n",
    "\n",
    "**Merge:**\n",
    "- Erstellt einen Merge-Commit\n",
    "- Bewahrt die Geschichte (wann wurde gemergt)\n",
    "- Keine Änderung bestehender Commits\n",
    "- Sicherer für öffentliche/geteilte Branches\n",
    "\n",
    "**Rebase:**\n",
    "- Erzeugt lineare Geschichte\n",
    "- \"Verschiebt\" Commits auf neue Basis\n",
    "- Ändert betroffene Commit-Hashes\n",
    "- Besser für nicht-geteilte Branches"
   ]
  },
  {
   "cell_type": "markdown",
   "id": "75030321a10aefd0",
   "metadata": {
    "lang": "de",
    "slideshow": {
     "slide_type": "slide"
    },
    "tags": [
     "slide"
    ]
   },
   "source": [
    "\n",
    "## Zusammenfassung\n",
    "\n",
    "- **Git-Objekte**: Commits, Trees, Blobs bilden die interne Struktur\n",
    "- **Branches**: Leichtgewichtige Zeiger auf Commits für parallele Entwicklung\n",
    "- **Branch-Wechsel**: `git switch` oder `git checkout`\n",
    "- **Branch-Visualisierung**: `git log --graph` oder grafische Tools\n",
    "- **Merging**: `git merge` führt Änderungen aus verschiedenen Branches zusammen\n",
    "- **Konflikte lösen**: Manuelles Editieren der konfliktmarkierten Dateien\n",
    "- **Remote Branches**: Verfolgen des Zustands entfernter Repositories\n",
    "- **Rebasing**: `git rebase` für lineare Historie als Alternative zum Mergen\n",
    "- **Branch-Management**: Branches organisieren, verfolgen und bereinigen"
   ]
  }
 ],
 "metadata": {
  "jupytext": {
   "cell_metadata_filter": "lang,tags,-all",
   "main_language": "python",
   "notebook_metadata_filter": "-all"
  },
  "kernelspec": {
   "display_name": "Python 3 (ipykernel)",
   "language": "python",
   "name": "python3"
  },
  "language_info": {
   "codemirror_mode": {
    "name": "ipython",
    "version": 3
   },
   "file_extension": ".py",
   "mimetype": "text/x-python",
   "name": "python",
   "nbconvert_exporter": "python",
   "pygments_lexer": "ipython3"
  }
 },
 "nbformat": 4,
 "nbformat_minor": 5
}
