{
 "cells": [
  {
   "cell_type": "markdown",
   "id": "68e82aca3c457cc2",
   "metadata": {
    "lang": "de",
    "slideshow": {
     "slide_type": "slide"
    },
    "tags": [
     "slide"
    ]
   },
   "source": [
    "\n",
    "<img src=\"data:image/svg+xml;base64,PHN2ZyB4bWxucz0iaHR0cDovL3d3dy53My5vcmcvMjAwMC9zdmciIHhtbG5zOnhsaW5rPSJodHRw\n",
    "Oi8vd3d3LnczLm9yZy8xOTk5L3hsaW5rIiB3aWR0aD0iMTExLjE2MSIgaGVpZ2h0PSIxMzQuNjY4\n",
    "IiB2ZXJzaW9uPSIxLjAiPjxkZWZzPjxsaW5lYXJHcmFkaWVudCBpZD0iYyI+PHN0b3Agb2Zmc2V0\n",
    "PSIwIiBzdHlsZT0ic3RvcC1jb2xvcjojYjhiOGI4O3N0b3Atb3BhY2l0eTouNDk4MDM5MjIiLz48\n",
    "c3RvcCBvZmZzZXQ9IjEiIHN0eWxlPSJzdG9wLWNvbG9yOiM3ZjdmN2Y7c3RvcC1vcGFjaXR5OjAi\n",
    "Lz48L2xpbmVhckdyYWRpZW50PjxsaW5lYXJHcmFkaWVudCBpZD0iYSI+PHN0b3Agb2Zmc2V0PSIw\n",
    "IiBzdHlsZT0ic3RvcC1jb2xvcjojZmZkNDNiO3N0b3Atb3BhY2l0eToxIi8+PHN0b3Agb2Zmc2V0\n",
    "PSIxIiBzdHlsZT0ic3RvcC1jb2xvcjojZmZlODczO3N0b3Atb3BhY2l0eToxIi8+PC9saW5lYXJH\n",
    "cmFkaWVudD48bGluZWFyR3JhZGllbnQgaWQ9ImIiPjxzdG9wIG9mZnNldD0iMCIgc3R5bGU9InN0\n",
    "b3AtY29sb3I6IzVhOWZkNDtzdG9wLW9wYWNpdHk6MSIvPjxzdG9wIG9mZnNldD0iMSIgc3R5bGU9\n",
    "InN0b3AtY29sb3I6IzMwNjk5ODtzdG9wLW9wYWNpdHk6MSIvPjwvbGluZWFyR3JhZGllbnQ+PGxp\n",
    "bmVhckdyYWRpZW50IHhsaW5rOmhyZWY9IiNhIiBpZD0iZSIgeDE9IjE1MC45NjEiIHgyPSIxMTIu\n",
    "MDMxIiB5MT0iMTkyLjM1MiIgeTI9IjEzNy4yNzMiIGdyYWRpZW50VHJhbnNmb3JtPSJtYXRyaXgo\n",
    "LjU2MjU0IDAgMCAuNTY3OTcgLTE0Ljk5MSAtMTEuNzAyKSIgZ3JhZGllbnRVbml0cz0idXNlclNw\n",
    "YWNlT25Vc2UiLz48bGluZWFyR3JhZGllbnQgeGxpbms6aHJlZj0iI2IiIGlkPSJkIiB4MT0iMjYu\n",
    "NjQ5IiB4Mj0iMTM1LjY2NSIgeTE9IjIwLjYwNCIgeTI9IjExNC4zOTgiIGdyYWRpZW50VHJhbnNm\n",
    "b3JtPSJtYXRyaXgoLjU2MjU0IDAgMCAuNTY3OTcgLTE0Ljk5MSAtMTEuNzAyKSIgZ3JhZGllbnRV\n",
    "bml0cz0idXNlclNwYWNlT25Vc2UiLz48cmFkaWFsR3JhZGllbnQgeGxpbms6aHJlZj0iI2MiIGlk\n",
    "PSJmIiBjeD0iNjEuNTE5IiBjeT0iMTMyLjI4NiIgcj0iMjkuMDM3IiBmeD0iNjEuNTE5IiBmeT0i\n",
    "MTMyLjI4NiIgZ3JhZGllbnRUcmFuc2Zvcm09Im1hdHJpeCgwIC0uMjM5OTUgMS4wNTQ2NyAwIC04\n",
    "My43IDE0Mi40NjIpIiBncmFkaWVudFVuaXRzPSJ1c2VyU3BhY2VPblVzZSIvPjwvZGVmcz48cGF0\n",
    "aCBkPSJNNTQuOTE5IDBjLTQuNTg0LjAyMi04Ljk2MS40MTMtMTIuODEzIDEuMDk1QzMwLjc2IDMu\n",
    "MDk5IDI4LjcgNy4yOTUgMjguNyAxNS4wMzJ2MTAuMjE5aDI2LjgxM3YzLjQwNkgxOC42MzhjLTcu\n",
    "NzkzIDAtMTQuNjE2IDQuNjg0LTE2Ljc1IDEzLjU5NC0yLjQ2MiAxMC4yMTMtMi41NzEgMTYuNTg2\n",
    "IDAgMjcuMjUgMS45MDUgNy45MzggNi40NTcgMTMuNTk0IDE0LjI1IDEzLjU5NGg5LjIxOHYtMTIu\n",
    "MjVjMC04Ljg1IDcuNjU3LTE2LjY1NyAxNi43NS0xNi42NTdoMjYuNzgyYzcuNDU0IDAgMTMuNDA2\n",
    "LTYuMTM4IDEzLjQwNi0xMy42MjV2LTI1LjUzYzAtNy4yNjctNi4xMy0xMi43MjYtMTMuNDA2LTEz\n",
    "LjkzOEM2NC4yODIuMzI4IDU5LjUwMi0uMDIgNTQuOTE4IDBtLTE0LjUgOC4yMmMyLjc3IDAgNS4w\n",
    "MzEgMi4yOTggNS4wMzEgNS4xMjUgMCAyLjgxNi0yLjI2MiA1LjA5My01LjAzMSA1LjA5My0yLjc4\n",
    "IDAtNS4wMzEtMi4yNzctNS4wMzEtNS4wOTMgMC0yLjgyNyAyLjI1MS01LjEyNSA1LjAzLTUuMTI1\n",
    "IiBzdHlsZT0iZmlsbDp1cmwoI2QpO2ZpbGwtb3BhY2l0eToxIi8+PHBhdGggZD0iTTg1LjYzOCAy\n",
    "OC42NTd2MTEuOTA2YzAgOS4yMzEtNy44MjYgMTctMTYuNzUgMTdINDIuMTA2Yy03LjMzNiAwLTEz\n",
    "LjQwNiA2LjI3OS0xMy40MDYgMTMuNjI1Vjk2LjcyYzAgNy4yNjYgNi4zMTkgMTEuNTQgMTMuNDA2\n",
    "IDEzLjYyNSA4LjQ4OCAyLjQ5NSAxNi42MjcgMi45NDYgMjYuNzgyIDAgNi43NS0xLjk1NSAxMy40\n",
    "MDYtNS44ODggMTMuNDA2LTEzLjYyNVY4Ni41SDU1LjUxM3YtMy40MDVIOTUuN2M3Ljc5MyAwIDEw\n",
    "LjY5Ni01LjQzNiAxMy40MDYtMTMuNTk0IDIuOC04LjM5OSAyLjY4LTE2LjQ3NiAwLTI3LjI1LTEu\n",
    "OTI1LTcuNzU4LTUuNjA0LTEzLjU5NC0xMy40MDYtMTMuNTk0ek03MC41NzUgOTMuMzEzYzIuNzgg\n",
    "MCA1LjAzMSAyLjI3OCA1LjAzMSA1LjA5NCAwIDIuODI3LTIuMjUxIDUuMTI1LTUuMDMxIDUuMTI1\n",
    "LTIuNzcgMC01LjAzMS0yLjI5OC01LjAzMS01LjEyNSAwLTIuODE2IDIuMjYxLTUuMDk0IDUuMDMx\n",
    "LTUuMDk0IiBzdHlsZT0iZmlsbDp1cmwoI2UpO2ZpbGwtb3BhY2l0eToxIi8+PGVsbGlwc2UgY3g9\n",
    "IjU1LjgxNyIgY3k9IjEyNy43MDEiIHJ4PSIzNS45MzEiIHJ5PSI2Ljk2NyIgc3R5bGU9Im9wYWNp\n",
    "dHk6LjQ0MzgyO2ZpbGw6dXJsKCNmKTtmaWxsLW9wYWNpdHk6MTtmaWxsLXJ1bGU6bm9uemVybztz\n",
    "dHJva2U6bm9uZTtzdHJva2Utd2lkdGg6MTUuNDE3NDtzdHJva2UtbWl0ZXJsaW1pdDo0O3N0cm9r\n",
    "ZS1kYXNoYXJyYXk6bm9uZTtzdHJva2Utb3BhY2l0eToxIi8+PC9zdmc+\n",
    "\"\n",
    "     style=\"display:block;margin:auto;width:10%\" alt=\"Python Logo\"/>\n",
    "<br>\n",
    "\n",
    "<div style=\"text-align:center; font-size:200%;\">\n",
    " <b>Relationale Datenbanken (Teil 2)</b>\n",
    "</div>\n",
    "<br/>\n",
    "<div style=\"text-align:center;\">Dr. Matthias Hölzl</div>\n",
    "<br/>"
   ]
  },
  {
   "cell_type": "markdown",
   "id": "9f4ab34611f3a2f8",
   "metadata": {
    "lang": "de",
    "slideshow": {
     "slide_type": "subslide"
    },
    "tags": [
     "subslide"
    ]
   },
   "source": [
    "\n",
    "## Primärschlüssel\n",
    "\n",
    "- Primärschlüssel sind eindeutige Bezeichner für jede Zeile in einer Tabelle\n",
    "- Sie können aus einer oder mehreren Spalten bestehen\n",
    "  - Mehrere Spalten: zusammengesetzter Primärschlüssel\n",
    "- Die Werte der Spalte(n) des Primärschlüssels müssen eindeutig sein"
   ]
  },
  {
   "cell_type": "markdown",
   "id": "6c74d283546b7b39",
   "metadata": {
    "lang": "de",
    "slideshow": {
     "slide_type": "subslide"
    },
    "tags": [
     "subslide"
    ]
   },
   "source": [
    "\n",
    "Tabelle `customers` für Kunden mit Primärschlüssel `name`:\n",
    "\n",
    "| name         | address      |\n",
    "|--------------|--------------|\n",
    "| John Smith   | 123 Elm St   |\n",
    "| Jane Doe     | 456 Oak St   |\n",
    "\n",
    "<p class=\"fragment\">Problem mit dem Primärschlüssel <tt>name</tt>:</p>\n",
    "<ul>\n",
    "  <li class=\"fragment\">Was passiert, wenn wir einen zweiten Kunden mit dem\n",
    "    Namen \"John Smith\" hinzufügen wollen?</li>\n",
    "  <li class=\"fragment\">Das ist nicht möglich, da der Primärschlüssel eindeutig\n",
    "    sein muss!</li>\n",
    "</ul>"
   ]
  },
  {
   "cell_type": "markdown",
   "id": "607e4f877b0208e3",
   "metadata": {
    "lang": "de",
    "slideshow": {
     "slide_type": "subslide"
    },
    "tags": [
     "subslide"
    ]
   },
   "source": [
    "\n",
    "Tabelle `customers` für Kunden mit zusammengesetztem Primärschlüssel `name`\n",
    "und `address`:\n",
    "\n",
    "| name         | address      |\n",
    "|--------------|--------------|\n",
    "| John Smith   | 123 Elm St   |\n",
    "| Jane Doe     | 456 Oak St   |\n",
    "\n",
    "<p class=\"fragment\">\n",
    "  Problem mit dem zusammengesetzten Primärschlüssel:\n",
    "</p>\n",
    "<ul>\n",
    "  <li class=\"fragment\">Theoretisch könnte es zwei Kunden mit dem Namen \"John\n",
    "    Smith\" geben, die an der gleichen Adresse wohnen</li>\n",
    "  <li class=\"fragment\">Unwahrscheinlich, aber möglich</li>\n",
    "  <li class=\"fragment\">Was ist, wenn ein Kunde umzieht?</li>\n",
    "    <ul>\n",
    "      <li class=\"fragment\">Dann ändert sich der Primärschlüssel</li>\n",
    "      <li class=\"fragment\">Das kann zu Problemen führen, wenn der Primärschlüssel in anderen Tabellen referenziert wird</li>\n",
    "    </ul>\n",
    "</ul>"
   ]
  },
  {
   "cell_type": "markdown",
   "id": "bd52fcca6a7727cc",
   "metadata": {
    "lang": "de",
    "slideshow": {
     "slide_type": "subslide"
    },
    "tags": [
     "subslide"
    ]
   },
   "source": [
    "\n",
    "Tabelle `customers` für Kunden mit synthetischem Primärschlüssel:\n",
    "\n",
    "| id | name         | address      |\n",
    "|----|--------------|--------------|\n",
    "|  1 | John Smith   | 123 Elm St   |\n",
    "|  2 | Jane Doe     | 456 Oak St   |\n",
    "\n",
    "<p class=\"fragment\">\n",
    "  \"Synthetischer\" Primärschlüssel:\n",
    "</p>\n",
    "<ul class=\"fragment\">\n",
    "  <li>Statt <tt>name</tt> und <tt>address</tt> als Primärschlüssel zu verwenden, wird eine\n",
    "    zusätzliche Spalte <tt>customer_id</tt> eingeführt, die einen eindeutigen\n",
    "    Bezeichner für jeden Kunden darstellt.</li>\n",
    "  <li>Der <tt>customer_id</tt> kann dann als Primärschlüssel verwendet werden.</li>\n",
    "</ul>"
   ]
  },
  {
   "cell_type": "markdown",
   "id": "8d421a7606ff947b",
   "metadata": {
    "lang": "de",
    "slideshow": {
     "slide_type": "subslide"
    },
    "tags": [
     "subslide"
    ]
   },
   "source": [
    "\n",
    "## Warum sind Primärschlüssel wichtig?\n",
    "\n",
    "- Primärschlüssel gewährleisten die Eindeutigkeit von Datensätzen in einer Tabelle\n",
    "- Sie ermöglichen die effiziente Identifizierung und den Zugriff auf Daten\n",
    "- Sie werden verwendet, um Beziehungen zwischen Tabellen herzustellen\n",
    "  - Man nennt sie in diesem Kontext Fremdschlüssel"
   ]
  },
  {
   "cell_type": "markdown",
   "id": "0f332059b070942f",
   "metadata": {
    "lang": "de",
    "slideshow": {
     "slide_type": "subslide"
    },
    "tags": [
     "subslide"
    ]
   },
   "source": [
    "\n",
    "## Beispiel: Bestellungen\n",
    "\n",
    "- Wie können wir eine Bestellung in unserer Datenbank speichern?\n",
    "  - Der Einfachheit halber nehmen wir an, dass eine Bestellung immer nur ein\n",
    "    Produkt enthält.\n",
    "- Naiv:\n",
    "  - Name des Kunden\n",
    "  - Name des Produkts\n",
    "  - Anzahl der bestellten Produkte"
   ]
  },
  {
   "cell_type": "markdown",
   "id": "b65a68d87f9e59f6",
   "metadata": {
    "lang": "de",
    "slideshow": {
     "slide_type": "subslide"
    },
    "tags": [
     "subslide"
    ]
   },
   "source": [
    "\n",
    "Tabelle `customers` für Kunden:\n",
    "\n",
    "| id | name         | address      |\n",
    "|----|--------------|--------------|\n",
    "|  1 | John Smith   | 123 Elm St   |\n",
    "|  2 | Jane Doe     | 456 Oak St   |\n",
    "\n",
    "Tabelle `products` für Produkte:\n",
    "\n",
    "| id   | name         | price | description                                |\n",
    "|------|--------------|-------|--------------------------------------------|\n",
    "| 2341 | Tomatensuppe | 1.99  | Unsere fantastische Tomatensuppe in Dosen. |\n",
    "| 346  | Kichererbsen | 0.59  | In Wasser einweichen und genießen...       |\n",
    "\n",
    "Tabelle `orders` für Bestellungen:\n",
    "\n",
    "| customer_name | product_name | quantity |\n",
    "|---------------|--------------|----------|\n",
    "| John Smith    | Tomato soup  |        2 |\n",
    "| Jane Doe      | Tomato soup  |        1 |\n",
    "| John Smith    | Chickpeas    |        3 |"
   ]
  },
  {
   "cell_type": "markdown",
   "id": "e1a5bb6d30decbc7",
   "metadata": {
    "lang": "de",
    "slideshow": {
     "slide_type": "subslide"
    },
    "tags": [
     "subslide"
    ]
   },
   "source": [
    "\n",
    "## Problem mit der naiven Lösung:\n",
    "\n",
    "- Kunden mit dem gleichen Namen können nicht unterschieden werden\n",
    "- Produkte mit dem gleichen Namen können nicht unterschieden werden\n",
    "- Bestellungen können nicht eindeutig zugeordnet werden"
   ]
  },
  {
   "cell_type": "markdown",
   "id": "aa40b98d0be0d398",
   "metadata": {
    "lang": "de",
    "slideshow": {
     "slide_type": "subslide"
    },
    "tags": [
     "subslide"
    ]
   },
   "source": [
    "\n",
    "Tabelle `customers`:\n",
    "\n",
    "| id | name       | address      |\n",
    "|----|------------|--------------|\n",
    "|  1 | John Smith | 123 Elm St   |\n",
    "|  2 | Jane Doe   | 456 Oak St   |\n",
    "|  3 | John Smith | 789 Maple St |\n",
    "\n",
    "Tabelle `products`:\n",
    "\n",
    "| id     | product_name | price | description                                |\n",
    "|--------|--------------|-------|--------------------------------------------|\n",
    "| 2341   | Tomatensuppe | 1.99  | Unsere fantastische Tomatensuppe in Dosen. |\n",
    "| 939504 | Tomatensuppe | 2.49  | Premium-Tomatensuppe in Glasflaschen.      |\n",
    "| 346    | Kichererbsen | 0.59  | In Wasser einweichen und genießen...       |\n",
    "\n",
    "Tabelle `orders`:\n",
    "\n",
    "| customer_name | product_name | quantity |\n",
    "|---------------|--------------|----------|\n",
    "| John Smith    | Tomatensuppe |        2 |\n",
    "| Jane Doe      | Tomatensuppe |        1 |\n",
    "| John Smith    | Kichererbsen |        3 |\n",
    "| John Smith    | Tomatensuppe |        2 |"
   ]
  },
  {
   "cell_type": "markdown",
   "id": "f94b004d70b3d82e",
   "metadata": {
    "lang": "de",
    "slideshow": {
     "slide_type": "subslide"
    },
    "tags": [
     "subslide"
    ]
   },
   "source": [
    "\n",
    "## Lösung\n",
    "\n",
    "- Wir verwenden in der Bestellung nicht Kunden- und Produktnamen\n",
    "- Wir verwenden stattdessen die IDs\n",
    "  - Diese sind Primärschlüssel in den Tabellen `customers` und `products`\n",
    "  - Damit wissen wir, dass sie eindeutig sind\n",
    "- Wir geben jeder Bestellung eine eindeutige ID\n",
    "  - Diese wird Primärschlüssel in der Tabelle `orders`"
   ]
  },
  {
   "cell_type": "markdown",
   "id": "35caca33291d1ade",
   "metadata": {
    "lang": "de",
    "slideshow": {
     "slide_type": "subslide"
    },
    "tags": [
     "subslide"
    ]
   },
   "source": [
    "\n",
    "Tabelle `customers`:\n",
    "\n",
    "| id | name         | address      |\n",
    "|----|--------------|--------------|\n",
    "|  1 | John Smith   | 123 Elm St   |\n",
    "|  2 | Jane Doe     | 456 Oak St   |\n",
    "|  3 | John Smith   | 789 Maple St |\n",
    "\n",
    "Tabelle `products`:\n",
    "\n",
    "| id     | product_name | price | description                                |\n",
    "|--------|--------------|-------|--------------------------------------------|\n",
    "|   2341 | Tomatensuppe | 1.99  | Unsere fantastische Tomatensuppe in Dosen. |\n",
    "| 939504 | Tomatensuppe | 2.49  | Premium-Tomatensuppe in Glasflaschen.      |\n",
    "|    346 | Kichererbsen | 0.59  | In Wasser einweichen und genießen...       |\n",
    "\n",
    "Tabelle `orders`:\n",
    "\n",
    "| order_id | customer_id | product_id | quantity |\n",
    "|----------|-------------|------------|----------|\n",
    "|        1 |           1 |       2341 |        2 |\n",
    "|        2 |           2 |     939504 |        1 |\n",
    "|        3 |           1 |        346 |        3 |\n",
    "|        4 |           1 |       2341 |        2 |"
   ]
  },
  {
   "cell_type": "markdown",
   "id": "05192c92b4fb43aa",
   "metadata": {
    "lang": "de",
    "slideshow": {
     "slide_type": "subslide"
    },
    "tags": [
     "subslide"
    ]
   },
   "source": [
    "\n",
    "## Workshop: Primärschlüssel\n",
    "\n",
    "- Wandeln Sie die folgenden Spalten in Primärschlüssel um:\n",
    "  - `customers`: `id`\n",
    "  - `products`: `id`\n",
    "- Was passiert dabei, wenn die Tabelle bereits zwei Zeilen mit dem gleichen\n",
    "  Primärschlüssel hat?\n",
    "- Wie können Sie das Problem beheben?\n",
    "- Was passiert, wenn Sie nach dem Einführen von Primärschlüsseln versuchen,\n",
    "  zwei Zeilen hinzuzufügen, die denselben Primärschlüssel haben?\n",
    "\n",
    "*Hinweis:*\n",
    "- Klicken Sie mit der rechten Maustaste auf eine Tabelle und wählen Sie\n",
    "  `Tabelle verändern` um sie zu bearbeiten\n",
    "- Die Checkbox `PK` markiert eine Spalte als Primärschlüssel"
   ]
  },
  {
   "cell_type": "markdown",
   "id": "d0d197bd976f6d3c",
   "metadata": {
    "lang": "de",
    "slideshow": {
     "slide_type": "subslide"
    },
    "tags": [
     "subslide"
    ]
   },
   "source": [
    "\n",
    "- Erstellen Sie eine Tabelle `orders` mit den folgenden Spalten:\n",
    "  - `id` (INTEGER, Primärschlüssel)\n",
    "  - `customer_id` (INTEGER)\n",
    "  - `product_id` (INTEGER)\n",
    "  - `quantity` (INTEGER)"
   ]
  },
  {
   "cell_type": "markdown",
   "id": "f2ab336a9a4ab9f8",
   "metadata": {
    "lang": "de",
    "slideshow": {
     "slide_type": "subslide"
    },
    "tags": [
     "subslide"
    ]
   },
   "source": [
    "\n",
    "- Fügen Sie die folgenden Bestellungen in die Tabelle `orders` ein:\n",
    "  - `id`: 1, `customer_id`: 1, `product_id`: 2341, `quantity`: 2\n",
    "  - `id`: 2, `customer_id`: 2, `product_id`: 939504, `quantity`: 1\n",
    "  - `id`: 3, `customer_id`: 1, `product_id`: 346, `quantity`: 3\n",
    "  - `id`: 4, `customer_id`: 1, `product_id`: 2341, `quantity`: 2\n",
    "- Was passiert, wenn Sie eine Bestellung einfügen, bei der der Wert von\n",
    "  `customer_id` nicht in der Tabelle `customers` vorhanden ist?"
   ]
  }
 ],
 "metadata": {
  "jupytext": {
   "cell_metadata_filter": "lang,tags,-all",
   "main_language": "python",
   "notebook_metadata_filter": "-all"
  },
  "kernelspec": {
   "display_name": "Python 3 (ipykernel)",
   "language": "python",
   "name": "python3"
  },
  "language_info": {
   "codemirror_mode": {
    "name": "ipython",
    "version": 3
   },
   "file_extension": ".py",
   "mimetype": "text/x-python",
   "name": "python",
   "nbconvert_exporter": "python",
   "pygments_lexer": "ipython3"
  }
 },
 "nbformat": 4,
 "nbformat_minor": 5
}
