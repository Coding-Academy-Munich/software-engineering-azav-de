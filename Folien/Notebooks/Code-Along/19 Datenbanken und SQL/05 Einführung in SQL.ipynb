{
 "cells": [
  {
   "cell_type": "markdown",
   "id": "ebfb9941df94ed1b",
   "metadata": {
    "lang": "de",
    "slideshow": {
     "slide_type": "slide"
    },
    "tags": [
     "slide"
    ]
   },
   "source": [
    "\n",
    "<img src=\"data:image/svg+xml;base64,PHN2ZyB4bWxucz0iaHR0cDovL3d3dy53My5vcmcvMjAwMC9zdmciIHhtbG5zOnhsaW5rPSJodHRw\n",
    "Oi8vd3d3LnczLm9yZy8xOTk5L3hsaW5rIiB3aWR0aD0iMTExLjE2MSIgaGVpZ2h0PSIxMzQuNjY4\n",
    "IiB2ZXJzaW9uPSIxLjAiPjxkZWZzPjxsaW5lYXJHcmFkaWVudCBpZD0iYyI+PHN0b3Agb2Zmc2V0\n",
    "PSIwIiBzdHlsZT0ic3RvcC1jb2xvcjojYjhiOGI4O3N0b3Atb3BhY2l0eTouNDk4MDM5MjIiLz48\n",
    "c3RvcCBvZmZzZXQ9IjEiIHN0eWxlPSJzdG9wLWNvbG9yOiM3ZjdmN2Y7c3RvcC1vcGFjaXR5OjAi\n",
    "Lz48L2xpbmVhckdyYWRpZW50PjxsaW5lYXJHcmFkaWVudCBpZD0iYSI+PHN0b3Agb2Zmc2V0PSIw\n",
    "IiBzdHlsZT0ic3RvcC1jb2xvcjojZmZkNDNiO3N0b3Atb3BhY2l0eToxIi8+PHN0b3Agb2Zmc2V0\n",
    "PSIxIiBzdHlsZT0ic3RvcC1jb2xvcjojZmZlODczO3N0b3Atb3BhY2l0eToxIi8+PC9saW5lYXJH\n",
    "cmFkaWVudD48bGluZWFyR3JhZGllbnQgaWQ9ImIiPjxzdG9wIG9mZnNldD0iMCIgc3R5bGU9InN0\n",
    "b3AtY29sb3I6IzVhOWZkNDtzdG9wLW9wYWNpdHk6MSIvPjxzdG9wIG9mZnNldD0iMSIgc3R5bGU9\n",
    "InN0b3AtY29sb3I6IzMwNjk5ODtzdG9wLW9wYWNpdHk6MSIvPjwvbGluZWFyR3JhZGllbnQ+PGxp\n",
    "bmVhckdyYWRpZW50IHhsaW5rOmhyZWY9IiNhIiBpZD0iZSIgeDE9IjE1MC45NjEiIHgyPSIxMTIu\n",
    "MDMxIiB5MT0iMTkyLjM1MiIgeTI9IjEzNy4yNzMiIGdyYWRpZW50VHJhbnNmb3JtPSJtYXRyaXgo\n",
    "LjU2MjU0IDAgMCAuNTY3OTcgLTE0Ljk5MSAtMTEuNzAyKSIgZ3JhZGllbnRVbml0cz0idXNlclNw\n",
    "YWNlT25Vc2UiLz48bGluZWFyR3JhZGllbnQgeGxpbms6aHJlZj0iI2IiIGlkPSJkIiB4MT0iMjYu\n",
    "NjQ5IiB4Mj0iMTM1LjY2NSIgeTE9IjIwLjYwNCIgeTI9IjExNC4zOTgiIGdyYWRpZW50VHJhbnNm\n",
    "b3JtPSJtYXRyaXgoLjU2MjU0IDAgMCAuNTY3OTcgLTE0Ljk5MSAtMTEuNzAyKSIgZ3JhZGllbnRV\n",
    "bml0cz0idXNlclNwYWNlT25Vc2UiLz48cmFkaWFsR3JhZGllbnQgeGxpbms6aHJlZj0iI2MiIGlk\n",
    "PSJmIiBjeD0iNjEuNTE5IiBjeT0iMTMyLjI4NiIgcj0iMjkuMDM3IiBmeD0iNjEuNTE5IiBmeT0i\n",
    "MTMyLjI4NiIgZ3JhZGllbnRUcmFuc2Zvcm09Im1hdHJpeCgwIC0uMjM5OTUgMS4wNTQ2NyAwIC04\n",
    "My43IDE0Mi40NjIpIiBncmFkaWVudFVuaXRzPSJ1c2VyU3BhY2VPblVzZSIvPjwvZGVmcz48cGF0\n",
    "aCBkPSJNNTQuOTE5IDBjLTQuNTg0LjAyMi04Ljk2MS40MTMtMTIuODEzIDEuMDk1QzMwLjc2IDMu\n",
    "MDk5IDI4LjcgNy4yOTUgMjguNyAxNS4wMzJ2MTAuMjE5aDI2LjgxM3YzLjQwNkgxOC42MzhjLTcu\n",
    "NzkzIDAtMTQuNjE2IDQuNjg0LTE2Ljc1IDEzLjU5NC0yLjQ2MiAxMC4yMTMtMi41NzEgMTYuNTg2\n",
    "IDAgMjcuMjUgMS45MDUgNy45MzggNi40NTcgMTMuNTk0IDE0LjI1IDEzLjU5NGg5LjIxOHYtMTIu\n",
    "MjVjMC04Ljg1IDcuNjU3LTE2LjY1NyAxNi43NS0xNi42NTdoMjYuNzgyYzcuNDU0IDAgMTMuNDA2\n",
    "LTYuMTM4IDEzLjQwNi0xMy42MjV2LTI1LjUzYzAtNy4yNjctNi4xMy0xMi43MjYtMTMuNDA2LTEz\n",
    "LjkzOEM2NC4yODIuMzI4IDU5LjUwMi0uMDIgNTQuOTE4IDBtLTE0LjUgOC4yMmMyLjc3IDAgNS4w\n",
    "MzEgMi4yOTggNS4wMzEgNS4xMjUgMCAyLjgxNi0yLjI2MiA1LjA5My01LjAzMSA1LjA5My0yLjc4\n",
    "IDAtNS4wMzEtMi4yNzctNS4wMzEtNS4wOTMgMC0yLjgyNyAyLjI1MS01LjEyNSA1LjAzLTUuMTI1\n",
    "IiBzdHlsZT0iZmlsbDp1cmwoI2QpO2ZpbGwtb3BhY2l0eToxIi8+PHBhdGggZD0iTTg1LjYzOCAy\n",
    "OC42NTd2MTEuOTA2YzAgOS4yMzEtNy44MjYgMTctMTYuNzUgMTdINDIuMTA2Yy03LjMzNiAwLTEz\n",
    "LjQwNiA2LjI3OS0xMy40MDYgMTMuNjI1Vjk2LjcyYzAgNy4yNjYgNi4zMTkgMTEuNTQgMTMuNDA2\n",
    "IDEzLjYyNSA4LjQ4OCAyLjQ5NSAxNi42MjcgMi45NDYgMjYuNzgyIDAgNi43NS0xLjk1NSAxMy40\n",
    "MDYtNS44ODggMTMuNDA2LTEzLjYyNVY4Ni41SDU1LjUxM3YtMy40MDVIOTUuN2M3Ljc5MyAwIDEw\n",
    "LjY5Ni01LjQzNiAxMy40MDYtMTMuNTk0IDIuOC04LjM5OSAyLjY4LTE2LjQ3NiAwLTI3LjI1LTEu\n",
    "OTI1LTcuNzU4LTUuNjA0LTEzLjU5NC0xMy40MDYtMTMuNTk0ek03MC41NzUgOTMuMzEzYzIuNzgg\n",
    "MCA1LjAzMSAyLjI3OCA1LjAzMSA1LjA5NCAwIDIuODI3LTIuMjUxIDUuMTI1LTUuMDMxIDUuMTI1\n",
    "LTIuNzcgMC01LjAzMS0yLjI5OC01LjAzMS01LjEyNSAwLTIuODE2IDIuMjYxLTUuMDk0IDUuMDMx\n",
    "LTUuMDk0IiBzdHlsZT0iZmlsbDp1cmwoI2UpO2ZpbGwtb3BhY2l0eToxIi8+PGVsbGlwc2UgY3g9\n",
    "IjU1LjgxNyIgY3k9IjEyNy43MDEiIHJ4PSIzNS45MzEiIHJ5PSI2Ljk2NyIgc3R5bGU9Im9wYWNp\n",
    "dHk6LjQ0MzgyO2ZpbGw6dXJsKCNmKTtmaWxsLW9wYWNpdHk6MTtmaWxsLXJ1bGU6bm9uemVybztz\n",
    "dHJva2U6bm9uZTtzdHJva2Utd2lkdGg6MTUuNDE3NDtzdHJva2UtbWl0ZXJsaW1pdDo0O3N0cm9r\n",
    "ZS1kYXNoYXJyYXk6bm9uZTtzdHJva2Utb3BhY2l0eToxIi8+PC9zdmc+\n",
    "\"\n",
    "     style=\"display:block;margin:auto;width:10%\" alt=\"Python Logo\"/>\n",
    "<br>\n",
    "\n",
    "<div style=\"text-align:center; font-size:200%;\">\n",
    " <b>Einführung in SQL</b>\n",
    "</div>\n",
    "<br/>\n",
    "<div style=\"text-align:center;\">Dr. Matthias Hölzl</div>\n",
    "<br/>"
   ]
  },
  {
   "cell_type": "markdown",
   "id": "77cd35f959db6975",
   "metadata": {
    "lang": "de",
    "slideshow": {
     "slide_type": "subslide"
    },
    "tags": [
     "subslide"
    ]
   },
   "source": [
    "\n",
    "- SQL steht für Structured Query Language (strukturierte Abfragesprache)\n",
    "- SQL ist eine Programmiersprache zur Verwaltung und Manipulation von Daten in\n",
    "  einer relationalen Datenbank\n",
    "- SQL wird verwendet, um Tabellen und Daten in einer Datenbank zu erstellen,\n",
    "  zu ändern und abzufragen"
   ]
  },
  {
   "cell_type": "markdown",
   "id": "4e1912483841194b",
   "metadata": {
    "lang": "de",
    "slideshow": {
     "slide_type": "subslide"
    },
    "tags": [
     "subslide"
    ]
   },
   "source": [
    "\n",
    "## Erstellen von Tabellen\n",
    "\n",
    "- Erinnerung: In einer relationalen Datenbank werden Daten in Tabellen\n",
    "  organisiert\n",
    "- Jede Tabelle besteht aus Zeilen und Spalten, wobei jede Zeile einen\n",
    "  Datensatz und jede Spalte ein Attribut des Datensatzes darstellt\n",
    "- Um Daten in einer Datenbank zu speichern, müssen wir zunächst eine Tabelle\n",
    "  erstellen\n",
    "- Diesen Teil von SQL nennt man Data Definition Language (DDL)"
   ]
  },
  {
   "cell_type": "markdown",
   "id": "2f627373424b0b79",
   "metadata": {
    "lang": "de",
    "slideshow": {
     "slide_type": "subslide"
    },
    "tags": [
     "subslide"
    ]
   },
   "source": [
    "\n",
    "Tabelle **Customers**:\n",
    "| id | name   | email              |\n",
    "|----|--------|--------------------|\n",
    "| 1  | Alice  | alice@example.com  |\n",
    "| 2  | Bob    | bob@example.com    |\n",
    "| 3  | Charlie| charlie@example.com|"
   ]
  },
  {
   "cell_type": "markdown",
   "id": "9559f0c8a1c2f060",
   "metadata": {
    "lang": "de",
    "slideshow": {
     "slide_type": "subslide"
    },
    "tags": [
     "subslide"
    ]
   },
   "source": [
    "\n",
    "## Tabellen erstellen\n",
    "\n",
    "- Der Befehl `CREATE TABLE` wird verwendet, um eine neue Tabelle in einer\n",
    "  Datenbank zu erstellen.\n",
    "- Man muss den Tabellennamen sowie die Spalten und Datentypen für die Tabelle\n",
    "  angeben\n",
    "\n",
    "```sql\n",
    "CREATE TABLE customers (\n",
    "  id INTEGER PRIMARY KEY,\n",
    "  name TEXT NOT NULL,\n",
    "  email TEXT NOT NULL UNIQUE\n",
    ");\n",
    "```"
   ]
  },
  {
   "cell_type": "markdown",
   "id": "477ea854b444a4ff",
   "metadata": {
    "lang": "de",
    "slideshow": {
     "slide_type": "subslide"
    },
    "tags": [
     "subslide"
    ]
   },
   "source": [
    "\n",
    "## Verwalten von Daten\n",
    "\n",
    "- Mit unseren Kundendaten wollen wir verschiedene Operationen durchführen:\n",
    "  - Neue Kunden hinzufügen\n",
    "  - Daten abfragen (z.B. alle Kunden anzeigen)\n",
    "  - Bestehende Kunden aktualisieren (z.B. E-Mail-Adresse ändern)\n",
    "  - Kunden löschen\n",
    "- Diese Operationen werden in SQL als Data Manipulation Language (DML)\n",
    "  bezeichnet"
   ]
  },
  {
   "cell_type": "markdown",
   "id": "2d2ee655351c81d4",
   "metadata": {
    "lang": "de",
    "slideshow": {
     "slide_type": "subslide"
    },
    "tags": [
     "subslide"
    ]
   },
   "source": [
    "\n",
    "## Abrufen von Werten\n",
    "\n",
    "- `SELECT`:\n",
    "  - Der SELECT-Befehl wird verwendet, um Daten aus einer oder mehreren\n",
    "    Tabellen in einer Datenbank abzurufen\n",
    "  - Man kann angeben, welche Spalten abgerufen werden sollen, sowie\n",
    "    Bedingungen für Filterung der Ergebnisse angeben"
   ]
  },
  {
   "cell_type": "markdown",
   "id": "2bca738f38587665",
   "metadata": {
    "lang": "de",
    "lines_to_next_cell": 2,
    "slideshow": {
     "slide_type": "subslide"
    },
    "tags": [
     "subslide"
    ]
   },
   "source": [
    "\n",
    "## Einfügen von Zeilen\n",
    "\n",
    "- Der Befehl `INSERT INTO` wird verwendet, um Daten in eine Tabelle einzufügen.\n",
    "- Er benötigt die Namen der Spalten und die Werte, die eingefügt werden sollen:\n",
    "\n",
    " ```sql\n",
    "INSERT INTO customers (name, email) VALUES ('Alice', 'alice@example.com');\n",
    "```"
   ]
  },
  {
   "cell_type": "markdown",
   "id": "f65edcd1f053102c",
   "metadata": {
    "lang": "de",
    "slideshow": {
     "slide_type": "subslide"
    },
    "tags": [
     "subslide"
    ]
   },
   "source": [
    "\n",
    "- `FROM`:\n",
    "  - Die `FROM`-Klausel gibt an, aus welchen Tabellen Daten abgerufen werden\n",
    "    sollen.\n",
    "  - Man kann Daten aus mehreren Tabellen abrufen, indem man sie miteinander\n",
    "    verbindet"
   ]
  },
  {
   "cell_type": "markdown",
   "id": "3510c34621d06520",
   "metadata": {
    "lang": "de",
    "slideshow": {
     "slide_type": "subslide"
    },
    "tags": [
     "subslide"
    ]
   },
   "source": [
    "\n",
    "- `WHERE`:\n",
    "- Die `WHERE`-Klausel wird verwendet, um die Ergebnisse einer\n",
    "  `SELECT`-Anweisung zu filtern\n",
    "- Man kann Vergleichsoperatoren (z.B.  `=`, `<`, `>`) und logische Operatoren\n",
    "  (z.B. `AND`, `OR`, `NOT`) verwenden, um die Bedingungen zu spezifizieren\n",
    "\n",
    " ```sql\n",
    "SELECT * FROM customers where age > 18;\n",
    "```"
   ]
  },
  {
   "cell_type": "markdown",
   "id": "78789fe1dc7888f1",
   "metadata": {
    "lang": "de",
    "slideshow": {
     "slide_type": "subslide"
    },
    "tags": [
     "subslide"
    ]
   },
   "source": [
    "\n",
    "- `GROUP BY`:\n",
    "- Die `GROUP BY`-Klausel wird verwendet, um die Ergebnisse einer\n",
    "  `SELECT`-Anweisung nach einer oder mehreren Spalten zu gruppieren\n",
    "- Man kann Aggregatfunktionen (z.B. `SUM`, `AVG`, `COUNT`) verwenden, um\n",
    "  Berechnungen mit den gruppierten Daten durchzuführen"
   ]
  },
  {
   "cell_type": "markdown",
   "id": "2996c7aa774d2242",
   "metadata": {
    "lang": "de",
    "slideshow": {
     "slide_type": "subslide"
    },
    "tags": [
     "subslide"
    ]
   },
   "source": [
    "\n",
    "- `ORDER BY`:\n",
    "- Die `ORDER BY`-Klausel wird verwendet, um die Ergebnisse einer\n",
    "  `SELECT`-Anweisung nach einer oder mehreren Spalten zu sortieren\n",
    "- Man kann angeben, ob die Daten in aufsteigender oder absteigender\n",
    "  Reihenfolge sortiert werden sollen (`ASC`, `DESC`)"
   ]
  },
  {
   "cell_type": "markdown",
   "id": "7afcf888cfaeb2c5",
   "metadata": {
    "lang": "de",
    "slideshow": {
     "slide_type": "subslide"
    },
    "tags": [
     "subslide"
    ]
   },
   "source": [
    "\n",
    "- `LIMIT`:\n",
    "- Die `LIMIT`-Klausel wird verwendet, um die Anzahl der Ergebnisse , die von\n",
    "  einer `SELECT` Anweisung zurückgegeben werden, zu begrenzen"
   ]
  },
  {
   "cell_type": "markdown",
   "id": "dc8e07b2c7041842",
   "metadata": {
    "lang": "de",
    "slideshow": {
     "slide_type": "subslide"
    },
    "tags": [
     "subslide"
    ]
   },
   "source": [
    "\n",
    "## Löschen von Zeilen\n",
    "\n",
    "- Der Befehl `DELETE FROM` wird verwendet, um Zeilen aus einer Tabelle zu\n",
    "  löschen\n",
    "- Die zu löschenden Zeilen werden oft mit einer `WHERE`-Klausel angegeben,\n",
    "  ähnlich der des Befehls `SELECT FROM`\n",
    "\n",
    "```sql\n",
    "DELETE FROM customers WHERE name = 'Charlie';\n",
    "```"
   ]
  },
  {
   "cell_type": "markdown",
   "id": "b32fc9310252d7ef",
   "metadata": {
    "lang": "de",
    "slideshow": {
     "slide_type": "subslide"
    },
    "tags": [
     "subslide"
    ]
   },
   "source": [
    "\n",
    "## Ändern von Tabellen\n",
    "\n",
    "- Der Befehl `ALTER TABLE` wird verwendet, um die Struktur einer bestehenden\n",
    "  Tabelle zu ändern\n",
    "- Man kann Spalten in einer Tabelle hinzufügen, ändern oder löschen, sowie\n",
    "  Beschränkungen für die Daten in der Tabelle einführen oder löschen\n",
    "\n",
    "```sql\n",
    "ALTER TABLE customers ADD COLUMN age INTEGER;\n",
    "```"
   ]
  },
  {
   "cell_type": "markdown",
   "id": "c678219430bff82f",
   "metadata": {
    "lang": "de",
    "slideshow": {
     "slide_type": "subslide"
    },
    "tags": [
     "subslide"
    ]
   },
   "source": [
    "\n",
    "## Tabellen löschen:\n",
    "\n",
    "- Der Befehl `DROP TABLE` wird verwendet, um eine bestehende Tabelle aus einer\n",
    "  Datenbank zu entfernen\n",
    "- Dieser Befehl löscht dauerhaft alle Daten in der Tabelle, daher sollte er\n",
    "  mit mit Vorsicht verwendet werden\n",
    "\n",
    "```sql\n",
    "DROP TABLE customers;\n",
    "```"
   ]
  },
  {
   "cell_type": "markdown",
   "id": "8d6023679342968b",
   "metadata": {
    "lang": "de",
    "slideshow": {
     "slide_type": "subslide"
    },
    "tags": [
     "subslide"
    ]
   },
   "source": [
    "\n",
    "## Indizes\n",
    "\n",
    "- Indizes werden verwendet, um die Leistung von Abfragen auf großen Tabellen\n",
    "  zu verbessern.\n",
    "- Der Befehl `CREATE INDEX` wird verwendet, um einen neuen Index auf einer\n",
    "  oder mehreren Spalten in einer Tabelle zu erstellen\n",
    "- Man kann angeben, ob der Index eindeutig sein soll und ob er aufsteigend\n",
    "  oder absteigend sortiert werden soll"
   ]
  },
  {
   "cell_type": "markdown",
   "id": "857971898882991c",
   "metadata": {
    "slideshow": {
     "slide_type": "slide"
    },
    "tags": [
     "slide"
    ]
   },
   "source": [
    "```sqlite\n",
    "$ sqlite3 shop.db\n",
    "\n",
    "-- create a new table\n",
    "sqlite> CREATE TABLE customers (\n",
    "   ...> id INTEGER PRIMARY KEY,\n",
    "   ...> name TEXT NOT NULL,\n",
    "   ...> email TEXT NOT NULL UNIQUE\n",
    "   ...> );\n",
    "\n",
    "-- add some data to the table\n",
    "sqlite> INSERT INTO customers (name, email) VALUES ('Alice', 'alice@example.com');\n",
    "sqlite> INSERT INTO customers (name, email) VALUES ('Bob', 'bob@example.com');\n",
    "sqlite> INSERT INTO customers (name, email) VALUES ('Charlie', 'charlie@example.com');\n",
    "\n",
    "-- display the contents of the table\n",
    "sqlite> SELECT * FROM customers;\n",
    "1|Alice|alice@example.com\n",
    "2|Bob|bob@example.com\n",
    "3|Charlie|charlie@example.com\n",
    "\n",
    "-- add a new column to the table\n",
    "sqlite> ALTER TABLE customers ADD COLUMN age INTEGER;\n",
    "\n",
    "-- update some data in the table\n",
    "sqlite> UPDATE customers SET age = 25 WHERE name = 'Alice';\n",
    "\n",
    "-- delete a row from the table\n",
    "sqlite> DELETE FROM customers WHERE name = 'Charlie';\n",
    "\n",
    "-- display the updated contents of the table\n",
    "sqlite> SELECT * FROM customers;\n",
    "1|Alice|alice@example.com|25\n",
    "2|Bob|bob@example.com|\n",
    "\n",
    "-- exit the SQLite3 shell\n",
    "sqlite> .exit\n",
    "```"
   ]
  }
 ],
 "metadata": {
  "jupytext": {
   "cell_metadata_filter": "lang,tags,-all",
   "main_language": "python",
   "notebook_metadata_filter": "-all"
  },
  "kernelspec": {
   "display_name": "Python 3 (ipykernel)",
   "language": "python",
   "name": "python3"
  },
  "language_info": {
   "codemirror_mode": {
    "name": "ipython",
    "version": 3
   },
   "file_extension": ".py",
   "mimetype": "text/x-python",
   "name": "python",
   "nbconvert_exporter": "python",
   "pygments_lexer": "ipython3"
  }
 },
 "nbformat": 4,
 "nbformat_minor": 5
}
