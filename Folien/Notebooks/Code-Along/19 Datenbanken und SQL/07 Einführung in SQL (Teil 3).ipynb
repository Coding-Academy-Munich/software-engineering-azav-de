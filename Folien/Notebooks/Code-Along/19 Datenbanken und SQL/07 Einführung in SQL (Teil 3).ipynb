{
 "cells": [
  {
   "cell_type": "markdown",
   "id": "f37b3d94231e8706",
   "metadata": {
    "lang": "de",
    "slideshow": {
     "slide_type": "slide"
    },
    "tags": [
     "slide"
    ]
   },
   "source": [
    "\n",
    "<img src=\"data:image/svg+xml;base64,PHN2ZyB4bWxucz0iaHR0cDovL3d3dy53My5vcmcvMjAwMC9zdmciIHhtbG5zOnhsaW5rPSJodHRw\n",
    "Oi8vd3d3LnczLm9yZy8xOTk5L3hsaW5rIiB3aWR0aD0iMTExLjE2MSIgaGVpZ2h0PSIxMzQuNjY4\n",
    "IiB2ZXJzaW9uPSIxLjAiPjxkZWZzPjxsaW5lYXJHcmFkaWVudCBpZD0iYyI+PHN0b3Agb2Zmc2V0\n",
    "PSIwIiBzdHlsZT0ic3RvcC1jb2xvcjojYjhiOGI4O3N0b3Atb3BhY2l0eTouNDk4MDM5MjIiLz48\n",
    "c3RvcCBvZmZzZXQ9IjEiIHN0eWxlPSJzdG9wLWNvbG9yOiM3ZjdmN2Y7c3RvcC1vcGFjaXR5OjAi\n",
    "Lz48L2xpbmVhckdyYWRpZW50PjxsaW5lYXJHcmFkaWVudCBpZD0iYSI+PHN0b3Agb2Zmc2V0PSIw\n",
    "IiBzdHlsZT0ic3RvcC1jb2xvcjojZmZkNDNiO3N0b3Atb3BhY2l0eToxIi8+PHN0b3Agb2Zmc2V0\n",
    "PSIxIiBzdHlsZT0ic3RvcC1jb2xvcjojZmZlODczO3N0b3Atb3BhY2l0eToxIi8+PC9saW5lYXJH\n",
    "cmFkaWVudD48bGluZWFyR3JhZGllbnQgaWQ9ImIiPjxzdG9wIG9mZnNldD0iMCIgc3R5bGU9InN0\n",
    "b3AtY29sb3I6IzVhOWZkNDtzdG9wLW9wYWNpdHk6MSIvPjxzdG9wIG9mZnNldD0iMSIgc3R5bGU9\n",
    "InN0b3AtY29sb3I6IzMwNjk5ODtzdG9wLW9wYWNpdHk6MSIvPjwvbGluZWFyR3JhZGllbnQ+PGxp\n",
    "bmVhckdyYWRpZW50IHhsaW5rOmhyZWY9IiNhIiBpZD0iZSIgeDE9IjE1MC45NjEiIHgyPSIxMTIu\n",
    "MDMxIiB5MT0iMTkyLjM1MiIgeTI9IjEzNy4yNzMiIGdyYWRpZW50VHJhbnNmb3JtPSJtYXRyaXgo\n",
    "LjU2MjU0IDAgMCAuNTY3OTcgLTE0Ljk5MSAtMTEuNzAyKSIgZ3JhZGllbnRVbml0cz0idXNlclNw\n",
    "YWNlT25Vc2UiLz48bGluZWFyR3JhZGllbnQgeGxpbms6aHJlZj0iI2IiIGlkPSJkIiB4MT0iMjYu\n",
    "NjQ5IiB4Mj0iMTM1LjY2NSIgeTE9IjIwLjYwNCIgeTI9IjExNC4zOTgiIGdyYWRpZW50VHJhbnNm\n",
    "b3JtPSJtYXRyaXgoLjU2MjU0IDAgMCAuNTY3OTcgLTE0Ljk5MSAtMTEuNzAyKSIgZ3JhZGllbnRV\n",
    "bml0cz0idXNlclNwYWNlT25Vc2UiLz48cmFkaWFsR3JhZGllbnQgeGxpbms6aHJlZj0iI2MiIGlk\n",
    "PSJmIiBjeD0iNjEuNTE5IiBjeT0iMTMyLjI4NiIgcj0iMjkuMDM3IiBmeD0iNjEuNTE5IiBmeT0i\n",
    "MTMyLjI4NiIgZ3JhZGllbnRUcmFuc2Zvcm09Im1hdHJpeCgwIC0uMjM5OTUgMS4wNTQ2NyAwIC04\n",
    "My43IDE0Mi40NjIpIiBncmFkaWVudFVuaXRzPSJ1c2VyU3BhY2VPblVzZSIvPjwvZGVmcz48cGF0\n",
    "aCBkPSJNNTQuOTE5IDBjLTQuNTg0LjAyMi04Ljk2MS40MTMtMTIuODEzIDEuMDk1QzMwLjc2IDMu\n",
    "MDk5IDI4LjcgNy4yOTUgMjguNyAxNS4wMzJ2MTAuMjE5aDI2LjgxM3YzLjQwNkgxOC42MzhjLTcu\n",
    "NzkzIDAtMTQuNjE2IDQuNjg0LTE2Ljc1IDEzLjU5NC0yLjQ2MiAxMC4yMTMtMi41NzEgMTYuNTg2\n",
    "IDAgMjcuMjUgMS45MDUgNy45MzggNi40NTcgMTMuNTk0IDE0LjI1IDEzLjU5NGg5LjIxOHYtMTIu\n",
    "MjVjMC04Ljg1IDcuNjU3LTE2LjY1NyAxNi43NS0xNi42NTdoMjYuNzgyYzcuNDU0IDAgMTMuNDA2\n",
    "LTYuMTM4IDEzLjQwNi0xMy42MjV2LTI1LjUzYzAtNy4yNjctNi4xMy0xMi43MjYtMTMuNDA2LTEz\n",
    "LjkzOEM2NC4yODIuMzI4IDU5LjUwMi0uMDIgNTQuOTE4IDBtLTE0LjUgOC4yMmMyLjc3IDAgNS4w\n",
    "MzEgMi4yOTggNS4wMzEgNS4xMjUgMCAyLjgxNi0yLjI2MiA1LjA5My01LjAzMSA1LjA5My0yLjc4\n",
    "IDAtNS4wMzEtMi4yNzctNS4wMzEtNS4wOTMgMC0yLjgyNyAyLjI1MS01LjEyNSA1LjAzLTUuMTI1\n",
    "IiBzdHlsZT0iZmlsbDp1cmwoI2QpO2ZpbGwtb3BhY2l0eToxIi8+PHBhdGggZD0iTTg1LjYzOCAy\n",
    "OC42NTd2MTEuOTA2YzAgOS4yMzEtNy44MjYgMTctMTYuNzUgMTdINDIuMTA2Yy03LjMzNiAwLTEz\n",
    "LjQwNiA2LjI3OS0xMy40MDYgMTMuNjI1Vjk2LjcyYzAgNy4yNjYgNi4zMTkgMTEuNTQgMTMuNDA2\n",
    "IDEzLjYyNSA4LjQ4OCAyLjQ5NSAxNi42MjcgMi45NDYgMjYuNzgyIDAgNi43NS0xLjk1NSAxMy40\n",
    "MDYtNS44ODggMTMuNDA2LTEzLjYyNVY4Ni41SDU1LjUxM3YtMy40MDVIOTUuN2M3Ljc5MyAwIDEw\n",
    "LjY5Ni01LjQzNiAxMy40MDYtMTMuNTk0IDIuOC04LjM5OSAyLjY4LTE2LjQ3NiAwLTI3LjI1LTEu\n",
    "OTI1LTcuNzU4LTUuNjA0LTEzLjU5NC0xMy40MDYtMTMuNTk0ek03MC41NzUgOTMuMzEzYzIuNzgg\n",
    "MCA1LjAzMSAyLjI3OCA1LjAzMSA1LjA5NCAwIDIuODI3LTIuMjUxIDUuMTI1LTUuMDMxIDUuMTI1\n",
    "LTIuNzcgMC01LjAzMS0yLjI5OC01LjAzMS01LjEyNSAwLTIuODE2IDIuMjYxLTUuMDk0IDUuMDMx\n",
    "LTUuMDk0IiBzdHlsZT0iZmlsbDp1cmwoI2UpO2ZpbGwtb3BhY2l0eToxIi8+PGVsbGlwc2UgY3g9\n",
    "IjU1LjgxNyIgY3k9IjEyNy43MDEiIHJ4PSIzNS45MzEiIHJ5PSI2Ljk2NyIgc3R5bGU9Im9wYWNp\n",
    "dHk6LjQ0MzgyO2ZpbGw6dXJsKCNmKTtmaWxsLW9wYWNpdHk6MTtmaWxsLXJ1bGU6bm9uemVybztz\n",
    "dHJva2U6bm9uZTtzdHJva2Utd2lkdGg6MTUuNDE3NDtzdHJva2UtbWl0ZXJsaW1pdDo0O3N0cm9r\n",
    "ZS1kYXNoYXJyYXk6bm9uZTtzdHJva2Utb3BhY2l0eToxIi8+PC9zdmc+\n",
    "\"\n",
    "     style=\"display:block;margin:auto;width:10%\" alt=\"Python Logo\"/>\n",
    "<br>\n",
    "\n",
    "<div style=\"text-align:center; font-size:200%;\">\n",
    " <b>Einführung in SQL (Teil 3)</b>\n",
    "</div>\n",
    "<br/>\n",
    "<div style=\"text-align:center;\">Dr. Matthias Hölzl</div>\n",
    "<br/>"
   ]
  },
  {
   "cell_type": "markdown",
   "id": "1e9e3e58008e2354",
   "metadata": {
    "lang": "de",
    "lines_to_next_cell": 2,
    "slideshow": {
     "slide_type": "subslide"
    },
    "tags": [
     "subslide"
    ]
   },
   "source": [
    "\n",
    "## `SELECT` Abfragen\n",
    "\n",
    "- Mit SELECT Abfragen kann manDaten aus einer oder mehreren Tabellen in einer\n",
    "  Datenbank abzurufen\n",
    "- Man kann angeben, welche Spalten abgerufen werden sollen, sowie Bedingungen\n",
    "  für Filterung der Ergebnisse angeben\n",
    "- Das Ergebnis der Abfrage ist eine Tabelle mit den angeforderten Daten"
   ]
  },
  {
   "cell_type": "markdown",
   "id": "46bd28d041722ef6",
   "metadata": {},
   "source": [
    "\n",
    "```sql\n",
    "SELECT * FROM customers;\n",
    "```"
   ]
  },
  {
   "cell_type": "markdown",
   "id": "a95cadd6fba68076",
   "metadata": {
    "lines_to_next_cell": 2
   },
   "source": [
    "\n",
    "```sql\n",
    "SELECT name, address FROM customers;\n",
    "```"
   ]
  },
  {
   "cell_type": "markdown",
   "id": "8716a717300b8b49",
   "metadata": {
    "lang": "de",
    "slideshow": {
     "slide_type": "subslide"
    },
    "tags": [
     "subslide"
    ]
   },
   "source": [
    "\n",
    "### Die `FROM`-Klausel\n",
    "\n",
    "- Die `FROM`-Klausel gibt an, aus welchen Tabellen Daten abgerufen werden\n",
    "  sollen.\n",
    "  - Das kann eine Tabelle aus der Datenbank, oder das Ergebnis einer\n",
    "    `SELECT`-Abfrage sein.\n",
    "- Man kann Daten aus mehreren Tabellen abrufen, indem man sie miteinander\n",
    "  verbindet."
   ]
  },
  {
   "cell_type": "markdown",
   "id": "df224b95bf5ee4e6",
   "metadata": {},
   "source": [
    "```sql\n",
    "SELECT * FROM customers;\n",
    "```"
   ]
  },
  {
   "cell_type": "markdown",
   "id": "452def5b68ac4d73",
   "metadata": {},
   "source": [
    "```sql\n",
    "SELECT * FROM customers, orders;\n",
    "```"
   ]
  },
  {
   "cell_type": "markdown",
   "id": "2dcf47c77f352aa4",
   "metadata": {
    "lang": "de",
    "slideshow": {
     "slide_type": "subslide"
    },
    "tags": [
     "subslide"
    ]
   },
   "source": [
    "\n",
    "- `WHERE`:\n",
    "  - Die `WHERE`-Klausel wird verwendet, um die Ergebnisse einer\n",
    "    `SELECT`-Anweisung zu filtern\n",
    "  - Man kann Vergleichsoperatoren (z.B.  `=`, `<`, `>`) und logische Operatoren\n",
    "    (z.B. `AND`, `OR`, `NOT`) verwenden, um die Bedingungen zu spezifizieren"
   ]
  },
  {
   "cell_type": "markdown",
   "id": "15a2da1e657c6562",
   "metadata": {},
   "source": [
    "\n",
    "```sql\n",
    "SELECT * FROM orders where quantity >= 2;\n",
    "```"
   ]
  },
  {
   "cell_type": "markdown",
   "id": "43d1c064ddd8f29f",
   "metadata": {
    "lines_to_next_cell": 2
   },
   "source": [
    "\n",
    "```sql\n",
    "SELECT * FROM customers, orders WHERE customers.id = orders.customer_id;\n",
    "```"
   ]
  },
  {
   "cell_type": "markdown",
   "id": "73102ec81501b80a",
   "metadata": {
    "slideshow": {
     "slide_type": "subslide"
    },
    "tags": [
     "subslide"
    ]
   },
   "source": [
    "```sql\n",
    "SELECT customers.id, orders.id\n",
    "  FROM customers, orders\n",
    "  WHERE customers.id = orders.customer_id;\n",
    "```"
   ]
  },
  {
   "cell_type": "markdown",
   "id": "69ab1039a29d49c9",
   "metadata": {
    "lines_to_next_cell": 2
   },
   "source": [
    "```sql\n",
    "SELECT customers.id AS customer_id, orders.id AS order_id\n",
    "  FROM customers, orders\n",
    "  WHERE customers.id = orders.customer_id;\n",
    "```"
   ]
  },
  {
   "cell_type": "markdown",
   "id": "1e51b431b75651d1",
   "metadata": {
    "lines_to_next_cell": 2
   },
   "source": [
    "```sql\n",
    "SELECT customers.id AS customer_id, orders.id AS order_ id\n",
    "FROM customers\n",
    "JOIN orders ON customers.id = orders.customer_id;\n",
    "```"
   ]
  },
  {
   "cell_type": "markdown",
   "id": "b3a0bf93201b7fd6",
   "metadata": {
    "lines_to_next_cell": 2,
    "slideshow": {
     "slide_type": "subslide"
    },
    "tags": [
     "subslide"
    ]
   },
   "source": [
    "\n",
    "```sql\n",
    "SELECT name, address, product_name, quantity, price\n",
    "  FROM customers, orders, products\n",
    "  WHERE customers.id = orders.customer_id\n",
    "  AND products.id = orders.product_id;\n",
    "```"
   ]
  },
  {
   "cell_type": "markdown",
   "id": "40d8aa43bf513432",
   "metadata": {},
   "source": [
    "\n",
    "```sql\n",
    "SELECT name, address, product_name, quantity, price, quantity * price AS total_price\n",
    "  FROM customers, orders, products\n",
    "  WHERE customers.id = orders.customer_id\n",
    "  AND products.id = orders.product_id;\n",
    "```"
   ]
  },
  {
   "cell_type": "markdown",
   "id": "e235a399311e3263",
   "metadata": {},
   "source": [
    "\n",
    "```sql\n",
    "SELECT name, address, product_name, quantity, price, quantity * price AS total_price\n",
    "  FROM customers\n",
    "  JOIN orders ON customers.id = orders.customer_id\n",
    "  JOIN products ON products.id = orders.product_id;\n",
    "```"
   ]
  },
  {
   "cell_type": "markdown",
   "id": "4544b47ef6c0f9a7",
   "metadata": {
    "lines_to_next_cell": 2
   },
   "source": [
    "\n",
    "```sql\n",
    "SELECT name, total_price\n",
    "  FROM (SELECT customer_id, quantity * price AS total_price\n",
    "    FROM orders\n",
    "    JOIN products ON products.id = orders.product_id) AS subquery;\n",
    "  JOIN customers ON customers.id = subquery.customer_id;\n",
    "```"
   ]
  },
  {
   "cell_type": "markdown",
   "id": "c8c335594dc0e879",
   "metadata": {
    "lang": "de",
    "slideshow": {
     "slide_type": "subslide"
    },
    "tags": [
     "subslide"
    ]
   },
   "source": [
    "\n",
    "- `DISTINCT`:\n",
    "  - Der `DISTINCT`-Operator wird verwendet, um doppelte Werte aus den Ergebnissen\n",
    "    einer `SELECT`-Anweisung zu entfernen"
   ]
  },
  {
   "cell_type": "markdown",
   "id": "b8c3e36174529ebb",
   "metadata": {
    "lines_to_next_cell": 2
   },
   "source": [
    "\n",
    "```sql\n",
    "SELECT DISTINCT name, address\n",
    "  FROM customers, orders\n",
    "  WHERE customers.id = orders.customer_id;\n",
    "```"
   ]
  },
  {
   "cell_type": "markdown",
   "id": "5d3821f6f41f043a",
   "metadata": {
    "lang": "de",
    "slideshow": {
     "slide_type": "subslide"
    },
    "tags": [
     "subslide"
    ]
   },
   "source": [
    "\n",
    "## Workshop: SQL-Abfragen\n",
    "\n",
    "- Fügen Sie zur `customers`-Tabelle einige neue Kunden hinzu\n",
    "- Fügen Sie zur `products`-Tabelle einige neue Produkte hinzu\n",
    "- Erstellen Sie SQL-Abfragen, die folgende Ergebnisse zurückgeben:\n",
    "  1. Die Namen und Adressen aller Kunden, die Bestellungen aufgegeben haben\n",
    "  2. Die Namen und Preise aller Produkte, die verkauft wurden\n",
    "  3. Den ID und den Gesamtpreis jeder Bestellung des Kunden mit der (Kunden-)ID 1"
   ]
  },
  {
   "cell_type": "markdown",
   "id": "5b7ffa74cccf470a",
   "metadata": {
    "slideshow": {
     "slide_type": "subslide"
    },
    "tags": [
     "subslide"
    ]
   },
   "source": [
    "\n",
    "```sql\n",
    "SELECT DISTINCT name, address\n",
    "  FROM customers, orders\n",
    "  WHERE customers.id = orders.customer_id;\n",
    "-- Alternative\n",
    "SELECT DISTINCT name, address\n",
    "  FROM customers\n",
    "  WHERE id IN (SELECT customer_id FROM orders);\n",
    "```"
   ]
  },
  {
   "cell_type": "markdown",
   "id": "a6354b3d12974156",
   "metadata": {
    "lang": "de"
   },
   "source": [
    "\n",
    "Die zweite Variante (Subquery) erlaubt es uns, Produkte zu finden, die nicht\n",
    "bestellt wurden:"
   ]
  },
  {
   "cell_type": "markdown",
   "id": "32ff7dcc1e0cb3fb",
   "metadata": {
    "slideshow": {
     "slide_type": "subslide"
    },
    "tags": [
     "subslide"
    ]
   },
   "source": [
    "\n",
    "```sql\n",
    "SELECT DISTINCT product_name, price\n",
    "  FROM products, orders\n",
    "  WHERE products.id = orders.product_id;\n",
    "-- Alternative\n",
    "SELECT DISTINCT product_name, price\n",
    "  FROM products\n",
    "  WHERE id IN (SELECT product_id FROM orders);\n",
    "```"
   ]
  },
  {
   "cell_type": "markdown",
   "id": "975d9c7a8b8304aa",
   "metadata": {
    "slideshow": {
     "slide_type": "subslide"
    },
    "tags": [
     "subslide"
    ]
   },
   "source": [
    "\n",
    "```sql\n",
    "SELECT orders.id, quantity * price AS total_price\n",
    "  FROM orders, products\n",
    "  WHERE orders.product_id = products.id\n",
    "  AND orders.customer_id = 1\n",
    "```"
   ]
  }
 ],
 "metadata": {
  "jupytext": {
   "cell_metadata_filter": "lang,tags,-all",
   "main_language": "python",
   "notebook_metadata_filter": "-all"
  },
  "kernelspec": {
   "display_name": "Python 3 (ipykernel)",
   "language": "python",
   "name": "python3"
  },
  "language_info": {
   "codemirror_mode": {
    "name": "ipython",
    "version": 3
   },
   "file_extension": ".py",
   "mimetype": "text/x-python",
   "name": "python",
   "nbconvert_exporter": "python",
   "pygments_lexer": "ipython3"
  }
 },
 "nbformat": 4,
 "nbformat_minor": 5
}
