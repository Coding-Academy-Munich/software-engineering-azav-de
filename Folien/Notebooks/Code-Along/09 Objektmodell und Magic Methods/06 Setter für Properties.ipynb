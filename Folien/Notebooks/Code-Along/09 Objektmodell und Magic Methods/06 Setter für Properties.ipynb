{
 "cells": [
  {
   "cell_type": "markdown",
   "id": "3577fd251d1f45fa",
   "metadata": {
    "lang": "de",
    "slideshow": {
     "slide_type": "slide"
    },
    "tags": [
     "slide"
    ]
   },
   "source": [
    "\n",
    "<img src=\"data:image/svg+xml;base64,PHN2ZyB4bWxucz0iaHR0cDovL3d3dy53My5vcmcvMjAwMC9zdmciIHhtbG5zOnhsaW5rPSJodHRw\n",
    "Oi8vd3d3LnczLm9yZy8xOTk5L3hsaW5rIiB3aWR0aD0iMTExLjE2MSIgaGVpZ2h0PSIxMzQuNjY4\n",
    "IiB2ZXJzaW9uPSIxLjAiPjxkZWZzPjxsaW5lYXJHcmFkaWVudCBpZD0iYyI+PHN0b3Agb2Zmc2V0\n",
    "PSIwIiBzdHlsZT0ic3RvcC1jb2xvcjojYjhiOGI4O3N0b3Atb3BhY2l0eTouNDk4MDM5MjIiLz48\n",
    "c3RvcCBvZmZzZXQ9IjEiIHN0eWxlPSJzdG9wLWNvbG9yOiM3ZjdmN2Y7c3RvcC1vcGFjaXR5OjAi\n",
    "Lz48L2xpbmVhckdyYWRpZW50PjxsaW5lYXJHcmFkaWVudCBpZD0iYSI+PHN0b3Agb2Zmc2V0PSIw\n",
    "IiBzdHlsZT0ic3RvcC1jb2xvcjojZmZkNDNiO3N0b3Atb3BhY2l0eToxIi8+PHN0b3Agb2Zmc2V0\n",
    "PSIxIiBzdHlsZT0ic3RvcC1jb2xvcjojZmZlODczO3N0b3Atb3BhY2l0eToxIi8+PC9saW5lYXJH\n",
    "cmFkaWVudD48bGluZWFyR3JhZGllbnQgaWQ9ImIiPjxzdG9wIG9mZnNldD0iMCIgc3R5bGU9InN0\n",
    "b3AtY29sb3I6IzVhOWZkNDtzdG9wLW9wYWNpdHk6MSIvPjxzdG9wIG9mZnNldD0iMSIgc3R5bGU9\n",
    "InN0b3AtY29sb3I6IzMwNjk5ODtzdG9wLW9wYWNpdHk6MSIvPjwvbGluZWFyR3JhZGllbnQ+PGxp\n",
    "bmVhckdyYWRpZW50IHhsaW5rOmhyZWY9IiNhIiBpZD0iZSIgeDE9IjE1MC45NjEiIHgyPSIxMTIu\n",
    "MDMxIiB5MT0iMTkyLjM1MiIgeTI9IjEzNy4yNzMiIGdyYWRpZW50VHJhbnNmb3JtPSJtYXRyaXgo\n",
    "LjU2MjU0IDAgMCAuNTY3OTcgLTE0Ljk5MSAtMTEuNzAyKSIgZ3JhZGllbnRVbml0cz0idXNlclNw\n",
    "YWNlT25Vc2UiLz48bGluZWFyR3JhZGllbnQgeGxpbms6aHJlZj0iI2IiIGlkPSJkIiB4MT0iMjYu\n",
    "NjQ5IiB4Mj0iMTM1LjY2NSIgeTE9IjIwLjYwNCIgeTI9IjExNC4zOTgiIGdyYWRpZW50VHJhbnNm\n",
    "b3JtPSJtYXRyaXgoLjU2MjU0IDAgMCAuNTY3OTcgLTE0Ljk5MSAtMTEuNzAyKSIgZ3JhZGllbnRV\n",
    "bml0cz0idXNlclNwYWNlT25Vc2UiLz48cmFkaWFsR3JhZGllbnQgeGxpbms6aHJlZj0iI2MiIGlk\n",
    "PSJmIiBjeD0iNjEuNTE5IiBjeT0iMTMyLjI4NiIgcj0iMjkuMDM3IiBmeD0iNjEuNTE5IiBmeT0i\n",
    "MTMyLjI4NiIgZ3JhZGllbnRUcmFuc2Zvcm09Im1hdHJpeCgwIC0uMjM5OTUgMS4wNTQ2NyAwIC04\n",
    "My43IDE0Mi40NjIpIiBncmFkaWVudFVuaXRzPSJ1c2VyU3BhY2VPblVzZSIvPjwvZGVmcz48cGF0\n",
    "aCBkPSJNNTQuOTE5IDBjLTQuNTg0LjAyMi04Ljk2MS40MTMtMTIuODEzIDEuMDk1QzMwLjc2IDMu\n",
    "MDk5IDI4LjcgNy4yOTUgMjguNyAxNS4wMzJ2MTAuMjE5aDI2LjgxM3YzLjQwNkgxOC42MzhjLTcu\n",
    "NzkzIDAtMTQuNjE2IDQuNjg0LTE2Ljc1IDEzLjU5NC0yLjQ2MiAxMC4yMTMtMi41NzEgMTYuNTg2\n",
    "IDAgMjcuMjUgMS45MDUgNy45MzggNi40NTcgMTMuNTk0IDE0LjI1IDEzLjU5NGg5LjIxOHYtMTIu\n",
    "MjVjMC04Ljg1IDcuNjU3LTE2LjY1NyAxNi43NS0xNi42NTdoMjYuNzgyYzcuNDU0IDAgMTMuNDA2\n",
    "LTYuMTM4IDEzLjQwNi0xMy42MjV2LTI1LjUzYzAtNy4yNjctNi4xMy0xMi43MjYtMTMuNDA2LTEz\n",
    "LjkzOEM2NC4yODIuMzI4IDU5LjUwMi0uMDIgNTQuOTE4IDBtLTE0LjUgOC4yMmMyLjc3IDAgNS4w\n",
    "MzEgMi4yOTggNS4wMzEgNS4xMjUgMCAyLjgxNi0yLjI2MiA1LjA5My01LjAzMSA1LjA5My0yLjc4\n",
    "IDAtNS4wMzEtMi4yNzctNS4wMzEtNS4wOTMgMC0yLjgyNyAyLjI1MS01LjEyNSA1LjAzLTUuMTI1\n",
    "IiBzdHlsZT0iZmlsbDp1cmwoI2QpO2ZpbGwtb3BhY2l0eToxIi8+PHBhdGggZD0iTTg1LjYzOCAy\n",
    "OC42NTd2MTEuOTA2YzAgOS4yMzEtNy44MjYgMTctMTYuNzUgMTdINDIuMTA2Yy03LjMzNiAwLTEz\n",
    "LjQwNiA2LjI3OS0xMy40MDYgMTMuNjI1Vjk2LjcyYzAgNy4yNjYgNi4zMTkgMTEuNTQgMTMuNDA2\n",
    "IDEzLjYyNSA4LjQ4OCAyLjQ5NSAxNi42MjcgMi45NDYgMjYuNzgyIDAgNi43NS0xLjk1NSAxMy40\n",
    "MDYtNS44ODggMTMuNDA2LTEzLjYyNVY4Ni41SDU1LjUxM3YtMy40MDVIOTUuN2M3Ljc5MyAwIDEw\n",
    "LjY5Ni01LjQzNiAxMy40MDYtMTMuNTk0IDIuOC04LjM5OSAyLjY4LTE2LjQ3NiAwLTI3LjI1LTEu\n",
    "OTI1LTcuNzU4LTUuNjA0LTEzLjU5NC0xMy40MDYtMTMuNTk0ek03MC41NzUgOTMuMzEzYzIuNzgg\n",
    "MCA1LjAzMSAyLjI3OCA1LjAzMSA1LjA5NCAwIDIuODI3LTIuMjUxIDUuMTI1LTUuMDMxIDUuMTI1\n",
    "LTIuNzcgMC01LjAzMS0yLjI5OC01LjAzMS01LjEyNSAwLTIuODE2IDIuMjYxLTUuMDk0IDUuMDMx\n",
    "LTUuMDk0IiBzdHlsZT0iZmlsbDp1cmwoI2UpO2ZpbGwtb3BhY2l0eToxIi8+PGVsbGlwc2UgY3g9\n",
    "IjU1LjgxNyIgY3k9IjEyNy43MDEiIHJ4PSIzNS45MzEiIHJ5PSI2Ljk2NyIgc3R5bGU9Im9wYWNp\n",
    "dHk6LjQ0MzgyO2ZpbGw6dXJsKCNmKTtmaWxsLW9wYWNpdHk6MTtmaWxsLXJ1bGU6bm9uemVybztz\n",
    "dHJva2U6bm9uZTtzdHJva2Utd2lkdGg6MTUuNDE3NDtzdHJva2UtbWl0ZXJsaW1pdDo0O3N0cm9r\n",
    "ZS1kYXNoYXJyYXk6bm9uZTtzdHJva2Utb3BhY2l0eToxIi8+PC9zdmc+\n",
    "\"\n",
    "     style=\"display:block;margin:auto;width:10%\" alt=\"Python Logo\"/>\n",
    "<br>\n",
    "\n",
    "<div style=\"text-align:center; font-size:200%;\">\n",
    " <b>Setter für Properties</b>\n",
    "</div>\n",
    "<br/>\n",
    "<div style=\"text-align:center;\">Dr. Matthias Hölzl</div>\n",
    "<br/>"
   ]
  },
  {
   "cell_type": "markdown",
   "id": "220b3edabf5350b7",
   "metadata": {
    "lang": "de",
    "slideshow": {
     "slide_type": "slide"
    },
    "tags": [
     "slide"
    ]
   },
   "source": [
    "\n",
    "## Setter für Properties\n",
    "\n",
    "Properties können auch modifiziert werden, indem ein *Setter* definiert wird.\n",
    "- Der Setter wird mit `@property_name.setter` dekoriert.\n",
    "- Er erlaubt es, Logik auszuführen, wenn der Wert einer Property gesetzt wird\n",
    "  (z.B. Validierung, Aktualisierung anderer Attribute)."
   ]
  },
  {
   "cell_type": "code",
   "execution_count": null,
   "id": "716f1e16cbea8635",
   "metadata": {
    "lines_to_next_cell": 1,
    "slideshow": {
     "slide_type": "subslide"
    },
    "tags": [
     "subslide",
     "keep"
    ]
   },
   "outputs": [],
   "source": [
    "import math\n",
    "from math import isclose"
   ]
  },
  {
   "cell_type": "code",
   "execution_count": null,
   "id": "ca77e91b9f981e1e",
   "metadata": {
    "lines_to_next_cell": 1,
    "slideshow": {
     "slide_type": "subslide"
    },
    "tags": [
     "subslide",
     "start"
    ]
   },
   "outputs": [],
   "source": [
    "class GeoPointV2:\n",
    "    def __init__(self, x=0.0, y=0.0):\n",
    "        self.x = x\n",
    "        self.y = y\n",
    "\n",
    "    @property\n",
    "    def radius(self):\n",
    "        return (self.x**2 + self.y**2) ** 0.5\n",
    "\n",
    "    @property\n",
    "    def angle(self):\n",
    "        return math.atan2(self.y, self.x)\n",
    "\n",
    "    def __repr__(self):\n",
    "        # Accessing properties here will call getters\n",
    "        return (\n",
    "            f\"GeoPointV2({self.x:.1f}, {self.y:.1f}, \"\n",
    "            f\"r={self.radius:.2f}, θ={self.angle:.2f})\"\n",
    "        )"
   ]
  },
  {
   "cell_type": "code",
   "execution_count": null,
   "id": "d7f0a96015690eb2",
   "metadata": {
    "slideshow": {
     "slide_type": "subslide"
    },
    "tags": [
     "subslide"
    ]
   },
   "outputs": [],
   "source": []
  },
  {
   "cell_type": "code",
   "execution_count": null,
   "id": "dc2cfac4b417c12a",
   "metadata": {
    "slideshow": {
     "slide_type": "subslide"
    },
    "tags": [
     "subslide"
    ]
   },
   "outputs": [],
   "source": []
  },
  {
   "cell_type": "code",
   "execution_count": null,
   "id": "ae7fe5a3f70e3113",
   "metadata": {
    "tags": [
     "keep"
    ]
   },
   "outputs": [],
   "source": [
    "assert isclose(p.radius, 10.0)\n",
    "assert isclose(p.x, 6.0)\n",
    "assert isclose(p.y, 8.0)"
   ]
  },
  {
   "cell_type": "code",
   "execution_count": null,
   "id": "55549f0e8cc7fe6c",
   "metadata": {
    "slideshow": {
     "slide_type": "subslide"
    },
    "tags": [
     "subslide"
    ]
   },
   "outputs": [],
   "source": []
  },
  {
   "cell_type": "code",
   "execution_count": null,
   "id": "8a6509d5a1c2ac15",
   "metadata": {
    "tags": [
     "keep"
    ]
   },
   "outputs": [],
   "source": [
    "assert isclose(p.radius, 10.0)  # Radius should remain 10.0\n",
    "assert p.x <= 1e-12 # Tolerance greater than isclose allows\n",
    "assert isclose(p.y, 10.0)\n",
    "assert isclose(p.angle, math.pi / 2)"
   ]
  },
  {
   "cell_type": "code",
   "execution_count": null,
   "id": "25a0c4c3b4ce4793",
   "metadata": {
    "slideshow": {
     "slide_type": "subslide"
    },
    "tags": [
     "subslide"
    ]
   },
   "outputs": [],
   "source": []
  },
  {
   "cell_type": "code",
   "execution_count": null,
   "id": "d9665c4a4ad65bea",
   "metadata": {},
   "outputs": [],
   "source": []
  },
  {
   "cell_type": "code",
   "execution_count": null,
   "id": "1cb291c554709861",
   "metadata": {
    "lines_to_next_cell": 1,
    "tags": [
     "keep"
    ]
   },
   "outputs": [],
   "source": [
    "assert p_origin.x == 0.0\n",
    "assert p_origin.y == 0.0\n",
    "assert p_origin.radius == 0.0"
   ]
  },
  {
   "cell_type": "markdown",
   "id": "ef494fd057bae8a0",
   "metadata": {
    "lang": "de",
    "slideshow": {
     "slide_type": "slide"
    },
    "tags": [
     "slide"
    ]
   },
   "source": [
    "\n",
    "## Workshop: Temperatur-Konverter\n",
    "\n",
    "Erstellen Sie eine Klasse `Temperature`, die eine Temperatur intern in Grad\n",
    "Celsius speichert (z.B. in `_celsius`).\n",
    "\n",
    "- Implementieren Sie Properties `celsius`, `fahrenheit` und `kelvin`.\n",
    "- Der Konstruktor soll einen Wert und eine Einheit (`'C'`, `'F'` oder `'K'`)\n",
    "  akzeptieren und den internen `_celsius`-Wert korrekt initialisieren.\n",
    "- Das Setzen einer der Properties (`celsius`, `fahrenheit`, `kelvin`) soll den\n",
    "  internen `_celsius`-Wert korrekt aktualisieren.\n",
    "- Das Abrufen jeder Property soll den korrekt umgerechneten Wert liefern.\n",
    "- Fügen Sie eine `__repr__`-Methode hinzu.\n",
    "\n",
    "*Formeln:*\n",
    "- C = (F - 32) * 5/9\n",
    "- F = C * 9/5 + 32\n",
    "- C = K - 273.15\n",
    "- K = C + 273.15"
   ]
  },
  {
   "cell_type": "code",
   "execution_count": null,
   "id": "f7ee34f5709c6f19",
   "metadata": {
    "lines_to_next_cell": 1,
    "slideshow": {
     "slide_type": "subslide"
    },
    "tags": [
     "subslide"
    ]
   },
   "outputs": [],
   "source": []
  },
  {
   "cell_type": "code",
   "execution_count": null,
   "id": "7d0c74e62d86a809",
   "metadata": {
    "slideshow": {
     "slide_type": "subslide"
    },
    "tags": [
     "keep",
     "subslide"
    ]
   },
   "outputs": [],
   "source": [
    "t = Temperature(100, \"C\")\n",
    "print(t)"
   ]
  },
  {
   "cell_type": "code",
   "execution_count": null,
   "id": "2a997c18de650155",
   "metadata": {
    "slideshow": {
     "slide_type": "subslide"
    },
    "tags": [
     "keep",
     "subslide"
    ]
   },
   "outputs": [],
   "source": [
    "assert t.celsius == 100.0\n",
    "assert t.fahrenheit == 212.0\n",
    "assert t.kelvin == 373.15"
   ]
  },
  {
   "cell_type": "code",
   "execution_count": null,
   "id": "28355c04b075a06d",
   "metadata": {
    "slideshow": {
     "slide_type": "subslide"
    },
    "tags": [
     "keep",
     "subslide"
    ]
   },
   "outputs": [],
   "source": [
    "t.fahrenheit = 32.0\n",
    "print(t)"
   ]
  },
  {
   "cell_type": "code",
   "execution_count": null,
   "id": "237c86d797e3d4bf",
   "metadata": {
    "slideshow": {
     "slide_type": "subslide"
    },
    "tags": [
     "keep",
     "subslide"
    ]
   },
   "outputs": [],
   "source": [
    "assert t.celsius == 0.0\n",
    "assert t.fahrenheit == 32.0\n",
    "assert t.kelvin == 273.15"
   ]
  },
  {
   "cell_type": "code",
   "execution_count": null,
   "id": "5b9224ae52b4b74b",
   "metadata": {
    "slideshow": {
     "slide_type": "subslide"
    },
    "tags": [
     "keep",
     "subslide"
    ]
   },
   "outputs": [],
   "source": [
    "t.kelvin = 0.0\n",
    "print(t)"
   ]
  },
  {
   "cell_type": "code",
   "execution_count": null,
   "id": "42f3db1bec4bb701",
   "metadata": {
    "slideshow": {
     "slide_type": "subslide"
    },
    "tags": [
     "keep",
     "subslide"
    ]
   },
   "outputs": [],
   "source": [
    "assert t.celsius == -273.15\n",
    "assert isclose(t.fahrenheit, -459.67)\n",
    "assert t.kelvin == 0.0"
   ]
  },
  {
   "cell_type": "code",
   "execution_count": null,
   "id": "20c37b279689c317",
   "metadata": {
    "slideshow": {
     "slide_type": "subslide"
    },
    "tags": [
     "keep",
     "subslide"
    ]
   },
   "outputs": [],
   "source": [
    "t = Temperature(0, \"K\")\n",
    "print(t)"
   ]
  },
  {
   "cell_type": "code",
   "execution_count": null,
   "id": "930aa1fdc73f5093",
   "metadata": {
    "slideshow": {
     "slide_type": "subslide"
    },
    "tags": [
     "keep",
     "subslide"
    ]
   },
   "outputs": [],
   "source": [
    "assert t.celsius == -273.15\n",
    "assert isclose(t.fahrenheit, -459.67)\n",
    "assert t.kelvin == 0.0"
   ]
  },
  {
   "cell_type": "code",
   "execution_count": null,
   "id": "8645d6febca5c74d",
   "metadata": {
    "slideshow": {
     "slide_type": "subslide"
    },
    "tags": [
     "keep",
     "subslide"
    ]
   },
   "outputs": [],
   "source": [
    "t = Temperature(32, \"F\")\n",
    "print(t)"
   ]
  },
  {
   "cell_type": "code",
   "execution_count": null,
   "id": "86fead29081c8998",
   "metadata": {
    "lines_to_next_cell": 2,
    "slideshow": {
     "slide_type": "subslide"
    },
    "tags": [
     "keep",
     "subslide"
    ]
   },
   "outputs": [],
   "source": [
    "assert t.celsius == 0.0\n",
    "assert t.fahrenheit == 32.0\n",
    "assert t.kelvin == 273.15"
   ]
  },
  {
   "cell_type": "markdown",
   "id": "8586deb0d0ce6142",
   "metadata": {
    "lang": "de",
    "slideshow": {
     "slide_type": "slide"
    },
    "tags": [
     "slide"
    ]
   },
   "source": [
    "\n",
    "## Workshop: Rechteck-Geometrie\n",
    "\n",
    "Erstellen Sie eine Klasse `Rectangle`, die `width` (Breite) und `height`\n",
    "(Höhe) als *private* Attribute (`_width`, `_height`) speichert.\n",
    "\n",
    "- Stellen Sie *öffentliche Properties* `width` und `height` bereit, die Lese-\n",
    "  und Schreibzugriff auf die privaten Attribute ermöglichen. Fügen Sie\n",
    "  Validierung hinzu, um sicherzustellen, dass Breite und Höhe nicht negativ\n",
    "  gesetzt werden können.\n",
    "- Implementieren Sie *nur lesbare* Properties `area` (Fläche) und `perimeter`\n",
    "  (Umfang), die aus `_width` und `_height` berechnet werden.\n",
    "- Fügen Sie eine `__repr__`-Methode hinzu, die Breite, Höhe, Fläche und Umfang\n",
    "  anzeigt.\n",
    "\n",
    "*Formeln:*\n",
    "- Fläche = Breite * Höhe\n",
    "- Umfang = 2 * (Breite + Höhe)"
   ]
  },
  {
   "cell_type": "code",
   "execution_count": null,
   "id": "7ef5ce80f9994acc",
   "metadata": {
    "slideshow": {
     "slide_type": "subslide"
    },
    "tags": [
     "subslide"
    ]
   },
   "outputs": [],
   "source": []
  },
  {
   "cell_type": "code",
   "execution_count": null,
   "id": "2836a1cb2a311a59",
   "metadata": {
    "slideshow": {
     "slide_type": "subslide"
    },
    "tags": [
     "keep",
     "subslide"
    ]
   },
   "outputs": [],
   "source": [
    "r = Rectangle(3.0, 4.0)\n",
    "print(r)"
   ]
  },
  {
   "cell_type": "code",
   "execution_count": null,
   "id": "3ce21868fa984d77",
   "metadata": {
    "slideshow": {
     "slide_type": "subslide"
    },
    "tags": [
     "keep",
     "subslide"
    ]
   },
   "outputs": [],
   "source": [
    "assert r.width == 3.0\n",
    "assert r.height == 4.0\n",
    "assert r.area == 12.0\n",
    "assert r.perimeter == 14.0"
   ]
  },
  {
   "cell_type": "code",
   "execution_count": null,
   "id": "376425a54e9ba85d",
   "metadata": {
    "slideshow": {
     "slide_type": "subslide"
    },
    "tags": [
     "keep",
     "subslide"
    ]
   },
   "outputs": [],
   "source": [
    "r.width = 5.0\n",
    "print(r)"
   ]
  },
  {
   "cell_type": "code",
   "execution_count": null,
   "id": "f0126c8cef823bb3",
   "metadata": {
    "slideshow": {
     "slide_type": "subslide"
    },
    "tags": [
     "keep",
     "subslide"
    ]
   },
   "outputs": [],
   "source": [
    "assert r.width == 5.0\n",
    "assert r.height == 4.0\n",
    "assert r.area == 20.0\n",
    "assert r.perimeter == 18.0"
   ]
  },
  {
   "cell_type": "code",
   "execution_count": null,
   "id": "e82074e9a5a7e69b",
   "metadata": {
    "slideshow": {
     "slide_type": "subslide"
    },
    "tags": [
     "keep",
     "subslide"
    ]
   },
   "outputs": [],
   "source": [
    "r.height = 2.0\n",
    "print(r)"
   ]
  },
  {
   "cell_type": "code",
   "execution_count": null,
   "id": "71266ca6f9b299e3",
   "metadata": {
    "slideshow": {
     "slide_type": "subslide"
    },
    "tags": [
     "keep",
     "subslide"
    ]
   },
   "outputs": [],
   "source": [
    "assert r.width == 5.0\n",
    "assert r.height == 2.0\n",
    "assert r.area == 10.0\n",
    "assert r.perimeter == 14.0"
   ]
  },
  {
   "cell_type": "code",
   "execution_count": null,
   "id": "9fa18cec006f0054",
   "metadata": {
    "slideshow": {
     "slide_type": "subslide"
    },
    "tags": [
     "keep",
     "subslide"
    ]
   },
   "outputs": [],
   "source": [
    "try:\n",
    "    r.width = -1.0\n",
    "    assert False, \"Expected ValueError\"\n",
    "except ValueError as e:\n",
    "    print(f\"Error: {e}\")"
   ]
  },
  {
   "cell_type": "code",
   "execution_count": null,
   "id": "511db0fa98870bfe",
   "metadata": {
    "slideshow": {
     "slide_type": "subslide"
    },
    "tags": [
     "keep",
     "subslide"
    ]
   },
   "outputs": [],
   "source": [
    "try:\n",
    "    r.height = -1.0\n",
    "    assert False, \"Expected ValueError\"\n",
    "except ValueError as e:\n",
    "    print(f\"Error: {e}\")"
   ]
  },
  {
   "cell_type": "markdown",
   "id": "43485013d3fa4560",
   "metadata": {
    "lang": "de",
    "slideshow": {
     "slide_type": "slide"
    },
    "tags": [
     "slide"
    ]
   },
   "source": [
    "\n",
    "## Workshop: Personenalter\n",
    "\n",
    "Erstellen Sie eine Klasse `Person`, die `_first_name`, `_last_name` (private\n",
    "Attribute) und `birth_date` (Geburtsdatum, öffentliches Attribut) speichert.\n",
    "Verwenden Sie `datetime.date` für das Geburtsdatum.\n",
    "\n",
    "- Implementieren Sie Properties `first_name` und `last_name` für den\n",
    "  Lese-/Schreibzugriff auf die privaten Attribute.\n",
    "- Implementieren Sie eine *nur lesbare* Property `age`, die das aktuelle Alter\n",
    "  der Person in Jahren berechnet.\n",
    "- Implementieren Sie eine Property `full_name`, die den Vor- und Nachnamen\n",
    "  kombiniert zurückgibt. Das Setzen von `full_name` sollte `_first_name` und\n",
    "  `_last_name` aktualisieren (gehen Sie davon aus, dass der Name aus zwei\n",
    "  Teilen besteht, die durch ein Leerzeichen getrennt sind).\n",
    "- Fügen Sie eine `__repr__`-Methode hinzu.\n",
    "\n",
    "*Hinweis:* Sie benötigen `import datetime`.\n",
    "\n",
    "- Ein beliebiges Datum erhalten Sie mit `datetime.date(year, month, day)`.\n",
    "- Das heutige Datum erhalten Sie mit `datetime.date.today()`.\n",
    "- Die Differenz zwischen zwei Daten ergibt ein `timedelta`-Objekt, dessen\n",
    "  `days`-Attribut Sie verwenden können."
   ]
  },
  {
   "cell_type": "code",
   "execution_count": null,
   "id": "c8329d74e644dd08",
   "metadata": {
    "tags": [
     "keep"
    ]
   },
   "outputs": [],
   "source": [
    "import datetime"
   ]
  },
  {
   "cell_type": "code",
   "execution_count": null,
   "id": "ce933804f6d12c51",
   "metadata": {
    "tags": [
     "keep"
    ]
   },
   "outputs": [],
   "source": [
    "march_1_2023 = datetime.date(2023, 3, 1)\n",
    "today = datetime.date.today()"
   ]
  },
  {
   "cell_type": "code",
   "execution_count": null,
   "id": "ee72e97fb74c2803",
   "metadata": {
    "tags": [
     "keep"
    ]
   },
   "outputs": [],
   "source": [
    "date_diff = today - march_1_2023\n",
    "date_diff.days"
   ]
  },
  {
   "cell_type": "code",
   "execution_count": null,
   "id": "5b1abd6616660c6d",
   "metadata": {},
   "outputs": [],
   "source": []
  },
  {
   "cell_type": "code",
   "execution_count": null,
   "id": "6effe84c01dac273",
   "metadata": {
    "slideshow": {
     "slide_type": "subslide"
    },
    "tags": [
     "keep",
     "subslide"
    ]
   },
   "outputs": [],
   "source": [
    "p = Person(\"John\", \"Doe\", datetime.date(1990, 1, 1))\n",
    "print(p)"
   ]
  },
  {
   "cell_type": "code",
   "execution_count": null,
   "id": "d71734e3c3dc0238",
   "metadata": {
    "slideshow": {
     "slide_type": "subslide"
    },
    "tags": [
     "keep",
     "subslide"
    ]
   },
   "outputs": [],
   "source": [
    "assert p.first_name == \"John\"\n",
    "assert p.last_name == \"Doe\"\n",
    "assert p.birth_date == datetime.date(1990, 1, 1)\n",
    "assert p.age >= 33  # Adjust based on the current date\n",
    "assert p.full_name == \"John Doe\""
   ]
  },
  {
   "cell_type": "code",
   "execution_count": null,
   "id": "1c90604b1725894c",
   "metadata": {
    "slideshow": {
     "slide_type": "subslide"
    },
    "tags": [
     "keep",
     "subslide"
    ]
   },
   "outputs": [],
   "source": [
    "p.full_name = \"Jane Smith\"\n",
    "print(p)"
   ]
  },
  {
   "cell_type": "code",
   "execution_count": null,
   "id": "0b804ff867f44eea",
   "metadata": {
    "slideshow": {
     "slide_type": "subslide"
    },
    "tags": [
     "keep",
     "subslide"
    ]
   },
   "outputs": [],
   "source": [
    "assert p.first_name == \"Jane\"\n",
    "assert p.last_name == \"Smith\"\n",
    "assert p.full_name == \"Jane Smith\""
   ]
  }
 ],
 "metadata": {
  "jupytext": {
   "cell_metadata_filter": "tags,lang,-all",
   "main_language": "python",
   "notebook_metadata_filter": "-all"
  },
  "kernelspec": {
   "display_name": "Python 3 (ipykernel)",
   "language": "python",
   "name": "python3"
  },
  "language_info": {
   "codemirror_mode": {
    "name": "ipython",
    "version": 3
   },
   "file_extension": ".py",
   "mimetype": "text/x-python",
   "name": "python",
   "nbconvert_exporter": "python",
   "pygments_lexer": "ipython3"
  }
 },
 "nbformat": 4,
 "nbformat_minor": 5
}
