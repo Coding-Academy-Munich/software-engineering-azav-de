{
 "cells": [
  {
   "cell_type": "markdown",
   "id": "a4298339ba0e4e85",
   "metadata": {
    "lang": "de",
    "slideshow": {
     "slide_type": "slide"
    },
    "tags": [
     "slide"
    ]
   },
   "source": [
    "\n",
    "<img src=\"data:image/svg+xml;base64,PHN2ZyB4bWxucz0iaHR0cDovL3d3dy53My5vcmcvMjAwMC9zdmciIHhtbG5zOnhsaW5rPSJodHRw\n",
    "Oi8vd3d3LnczLm9yZy8xOTk5L3hsaW5rIiB3aWR0aD0iMTExLjE2MSIgaGVpZ2h0PSIxMzQuNjY4\n",
    "IiB2ZXJzaW9uPSIxLjAiPjxkZWZzPjxsaW5lYXJHcmFkaWVudCBpZD0iYyI+PHN0b3Agb2Zmc2V0\n",
    "PSIwIiBzdHlsZT0ic3RvcC1jb2xvcjojYjhiOGI4O3N0b3Atb3BhY2l0eTouNDk4MDM5MjIiLz48\n",
    "c3RvcCBvZmZzZXQ9IjEiIHN0eWxlPSJzdG9wLWNvbG9yOiM3ZjdmN2Y7c3RvcC1vcGFjaXR5OjAi\n",
    "Lz48L2xpbmVhckdyYWRpZW50PjxsaW5lYXJHcmFkaWVudCBpZD0iYSI+PHN0b3Agb2Zmc2V0PSIw\n",
    "IiBzdHlsZT0ic3RvcC1jb2xvcjojZmZkNDNiO3N0b3Atb3BhY2l0eToxIi8+PHN0b3Agb2Zmc2V0\n",
    "PSIxIiBzdHlsZT0ic3RvcC1jb2xvcjojZmZlODczO3N0b3Atb3BhY2l0eToxIi8+PC9saW5lYXJH\n",
    "cmFkaWVudD48bGluZWFyR3JhZGllbnQgaWQ9ImIiPjxzdG9wIG9mZnNldD0iMCIgc3R5bGU9InN0\n",
    "b3AtY29sb3I6IzVhOWZkNDtzdG9wLW9wYWNpdHk6MSIvPjxzdG9wIG9mZnNldD0iMSIgc3R5bGU9\n",
    "InN0b3AtY29sb3I6IzMwNjk5ODtzdG9wLW9wYWNpdHk6MSIvPjwvbGluZWFyR3JhZGllbnQ+PGxp\n",
    "bmVhckdyYWRpZW50IHhsaW5rOmhyZWY9IiNhIiBpZD0iZSIgeDE9IjE1MC45NjEiIHgyPSIxMTIu\n",
    "MDMxIiB5MT0iMTkyLjM1MiIgeTI9IjEzNy4yNzMiIGdyYWRpZW50VHJhbnNmb3JtPSJtYXRyaXgo\n",
    "LjU2MjU0IDAgMCAuNTY3OTcgLTE0Ljk5MSAtMTEuNzAyKSIgZ3JhZGllbnRVbml0cz0idXNlclNw\n",
    "YWNlT25Vc2UiLz48bGluZWFyR3JhZGllbnQgeGxpbms6aHJlZj0iI2IiIGlkPSJkIiB4MT0iMjYu\n",
    "NjQ5IiB4Mj0iMTM1LjY2NSIgeTE9IjIwLjYwNCIgeTI9IjExNC4zOTgiIGdyYWRpZW50VHJhbnNm\n",
    "b3JtPSJtYXRyaXgoLjU2MjU0IDAgMCAuNTY3OTcgLTE0Ljk5MSAtMTEuNzAyKSIgZ3JhZGllbnRV\n",
    "bml0cz0idXNlclNwYWNlT25Vc2UiLz48cmFkaWFsR3JhZGllbnQgeGxpbms6aHJlZj0iI2MiIGlk\n",
    "PSJmIiBjeD0iNjEuNTE5IiBjeT0iMTMyLjI4NiIgcj0iMjkuMDM3IiBmeD0iNjEuNTE5IiBmeT0i\n",
    "MTMyLjI4NiIgZ3JhZGllbnRUcmFuc2Zvcm09Im1hdHJpeCgwIC0uMjM5OTUgMS4wNTQ2NyAwIC04\n",
    "My43IDE0Mi40NjIpIiBncmFkaWVudFVuaXRzPSJ1c2VyU3BhY2VPblVzZSIvPjwvZGVmcz48cGF0\n",
    "aCBkPSJNNTQuOTE5IDBjLTQuNTg0LjAyMi04Ljk2MS40MTMtMTIuODEzIDEuMDk1QzMwLjc2IDMu\n",
    "MDk5IDI4LjcgNy4yOTUgMjguNyAxNS4wMzJ2MTAuMjE5aDI2LjgxM3YzLjQwNkgxOC42MzhjLTcu\n",
    "NzkzIDAtMTQuNjE2IDQuNjg0LTE2Ljc1IDEzLjU5NC0yLjQ2MiAxMC4yMTMtMi41NzEgMTYuNTg2\n",
    "IDAgMjcuMjUgMS45MDUgNy45MzggNi40NTcgMTMuNTk0IDE0LjI1IDEzLjU5NGg5LjIxOHYtMTIu\n",
    "MjVjMC04Ljg1IDcuNjU3LTE2LjY1NyAxNi43NS0xNi42NTdoMjYuNzgyYzcuNDU0IDAgMTMuNDA2\n",
    "LTYuMTM4IDEzLjQwNi0xMy42MjV2LTI1LjUzYzAtNy4yNjctNi4xMy0xMi43MjYtMTMuNDA2LTEz\n",
    "LjkzOEM2NC4yODIuMzI4IDU5LjUwMi0uMDIgNTQuOTE4IDBtLTE0LjUgOC4yMmMyLjc3IDAgNS4w\n",
    "MzEgMi4yOTggNS4wMzEgNS4xMjUgMCAyLjgxNi0yLjI2MiA1LjA5My01LjAzMSA1LjA5My0yLjc4\n",
    "IDAtNS4wMzEtMi4yNzctNS4wMzEtNS4wOTMgMC0yLjgyNyAyLjI1MS01LjEyNSA1LjAzLTUuMTI1\n",
    "IiBzdHlsZT0iZmlsbDp1cmwoI2QpO2ZpbGwtb3BhY2l0eToxIi8+PHBhdGggZD0iTTg1LjYzOCAy\n",
    "OC42NTd2MTEuOTA2YzAgOS4yMzEtNy44MjYgMTctMTYuNzUgMTdINDIuMTA2Yy03LjMzNiAwLTEz\n",
    "LjQwNiA2LjI3OS0xMy40MDYgMTMuNjI1Vjk2LjcyYzAgNy4yNjYgNi4zMTkgMTEuNTQgMTMuNDA2\n",
    "IDEzLjYyNSA4LjQ4OCAyLjQ5NSAxNi42MjcgMi45NDYgMjYuNzgyIDAgNi43NS0xLjk1NSAxMy40\n",
    "MDYtNS44ODggMTMuNDA2LTEzLjYyNVY4Ni41SDU1LjUxM3YtMy40MDVIOTUuN2M3Ljc5MyAwIDEw\n",
    "LjY5Ni01LjQzNiAxMy40MDYtMTMuNTk0IDIuOC04LjM5OSAyLjY4LTE2LjQ3NiAwLTI3LjI1LTEu\n",
    "OTI1LTcuNzU4LTUuNjA0LTEzLjU5NC0xMy40MDYtMTMuNTk0ek03MC41NzUgOTMuMzEzYzIuNzgg\n",
    "MCA1LjAzMSAyLjI3OCA1LjAzMSA1LjA5NCAwIDIuODI3LTIuMjUxIDUuMTI1LTUuMDMxIDUuMTI1\n",
    "LTIuNzcgMC01LjAzMS0yLjI5OC01LjAzMS01LjEyNSAwLTIuODE2IDIuMjYxLTUuMDk0IDUuMDMx\n",
    "LTUuMDk0IiBzdHlsZT0iZmlsbDp1cmwoI2UpO2ZpbGwtb3BhY2l0eToxIi8+PGVsbGlwc2UgY3g9\n",
    "IjU1LjgxNyIgY3k9IjEyNy43MDEiIHJ4PSIzNS45MzEiIHJ5PSI2Ljk2NyIgc3R5bGU9Im9wYWNp\n",
    "dHk6LjQ0MzgyO2ZpbGw6dXJsKCNmKTtmaWxsLW9wYWNpdHk6MTtmaWxsLXJ1bGU6bm9uemVybztz\n",
    "dHJva2U6bm9uZTtzdHJva2Utd2lkdGg6MTUuNDE3NDtzdHJva2UtbWl0ZXJsaW1pdDo0O3N0cm9r\n",
    "ZS1kYXNoYXJyYXk6bm9uZTtzdHJva2Utb3BhY2l0eToxIi8+PC9zdmc+\n",
    "\"\n",
    "     style=\"display:block;margin:auto;width:10%\" alt=\"Python Logo\"/>\n",
    "<br>\n",
    "\n",
    "<div style=\"text-align:center; font-size:200%;\">\n",
    " <b>Enumerationen</b>\n",
    "</div>\n",
    "<br/>\n",
    "<div style=\"text-align:center;\">Dr. Matthias Hölzl</div>\n",
    "<br/>"
   ]
  },
  {
   "cell_type": "markdown",
   "id": "29063906130e8a9f",
   "metadata": {
    "lang": "de",
    "slideshow": {
     "slide_type": "subslide"
    },
    "tags": [
     "subslide"
    ]
   },
   "source": [
    "\n",
    "## Motivation\n",
    "\n",
    "- Oft müssen wir einen Zustand repräsentieren, der einen von mehreren\n",
    "  vordefinierten Werten annehmen kann.\n",
    "- Ein häufiger, aber fehleranfälliger Ansatz ist die Verwendung von \"Magic\n",
    "  Strings\" oder Zahlen.\n",
    "\n",
    "**Beispiel:** Eine Funktion, die den Status einer Aufgabe verarbeitet."
   ]
  },
  {
   "cell_type": "code",
   "execution_count": null,
   "id": "1e6f5a43c34e620f",
   "metadata": {
    "tags": [
     "keep"
    ]
   },
   "outputs": [],
   "source": [
    "def process_task(status: str):\n",
    "    if status == \"new\":\n",
    "        print(\"Starting a new task.\")\n",
    "    elif status == \"in_progress\":\n",
    "        print(\"Task is currently in progress.\")\n",
    "    elif status == \"done\":\n",
    "        print(\"Task completed.\")\n",
    "    else:\n",
    "        print(f\"Unknown status: {status}\")"
   ]
  },
  {
   "cell_type": "code",
   "execution_count": null,
   "id": "13dbc0ca2d9b5e34",
   "metadata": {
    "slideshow": {
     "slide_type": "subslide"
    },
    "tags": [
     "keep",
     "subslide"
    ]
   },
   "outputs": [],
   "source": [
    "process_task(\"new\")"
   ]
  },
  {
   "cell_type": "code",
   "execution_count": null,
   "id": "7eaec6423aa3e17e",
   "metadata": {
    "tags": [
     "keep"
    ]
   },
   "outputs": [],
   "source": [
    "process_task(\"in progress\")  # Typo!"
   ]
  },
  {
   "cell_type": "code",
   "execution_count": null,
   "id": "57ed809dbc7c5bd8",
   "metadata": {
    "lines_to_next_cell": 2,
    "tags": [
     "keep"
    ]
   },
   "outputs": [],
   "source": [
    "process_task(\"Done\")         # Upper/lower case mismatch"
   ]
  },
  {
   "cell_type": "markdown",
   "id": "eb15326a7fb4d74f",
   "metadata": {
    "lang": "de",
    "slideshow": {
     "slide_type": "subslide"
    },
    "tags": [
     "subslide"
    ]
   },
   "source": [
    "\n",
    "### Probleme mit diesem Ansatz\n",
    "\n",
    "- **Tippfehler:** Falsch geschriebene Strings führen zu stillem Versagen oder\n",
    "  unerwartetem Verhalten.\n",
    "- **Keine \"Single Source of Truth\":** Die gültigen Werte sind im Code\n",
    "  verstreut.\n",
    "- **Schlechte Lesbarkeit:** Man muss den Code lesen, um alle möglichen\n",
    "  Zustände zu finden.\n",
    "- **Keine Typsicherheit:** Jede beliebige Zeichenkette kann an die Funktion\n",
    "  übergeben werden."
   ]
  },
  {
   "cell_type": "markdown",
   "id": "e4656a96feb1d95c",
   "metadata": {
    "lang": "de",
    "slideshow": {
     "slide_type": "slide"
    },
    "tags": [
     "slide"
    ]
   },
   "source": [
    "\n",
    "## Aufzählungen (Enumerationen, `Enum`)\n",
    "\n",
    "- Eine Aufzählung ist ein Satz von symbolischen Namen (Mitgliedern), die an\n",
    "  eindeutige, konstante Werte gebunden sind.\n",
    "- Das `enum`-Modul stellt die `Enum`-Basisklasse zur Verfügung.\n",
    "- Sie lösen die Probleme von \"Magic Strings\", indem sie eine robuste,\n",
    "  typsichere Alternative bieten."
   ]
  },
  {
   "cell_type": "markdown",
   "id": "9f8b0092a2b98ca5",
   "metadata": {
    "lang": "de",
    "slideshow": {
     "slide_type": "subslide"
    },
    "tags": [
     "subslide"
    ]
   },
   "source": [
    "\n",
    "**Vorteile:**\n",
    "- **Lesbarkeit:** Code wird selbsterklärend.\n",
    "- **Wartbarkeit:** Zustände sind an einem Ort zentralisiert.\n",
    "- **Sicherheit:** Verhindert die Verwendung ungültiger Werte. Moderne IDEs\n",
    "  bieten Autovervollständigung."
   ]
  },
  {
   "cell_type": "markdown",
   "id": "0b3e859d2daf05e0",
   "metadata": {
    "lang": "de",
    "slideshow": {
     "slide_type": "subslide"
    },
    "tags": [
     "subslide"
    ]
   },
   "source": [
    "### Definition einer einfachen Aufzählung"
   ]
  },
  {
   "cell_type": "code",
   "execution_count": null,
   "id": "072056a394d95262",
   "metadata": {
    "lines_to_next_cell": 1,
    "tags": [
     "keep"
    ]
   },
   "outputs": [],
   "source": [
    "from enum import Enum, auto"
   ]
  },
  {
   "cell_type": "markdown",
   "id": "f1297504f36aa89a",
   "metadata": {
    "lang": "de",
    "slideshow": {
     "slide_type": "subslide"
    },
    "tags": [
     "subslide"
    ]
   },
   "source": [
    "\n",
    "- Wir definieren eine Aufzählung für den Task-Status.\n",
    "- `auto()` weist automatisch einen ganzzahligen Wert zu."
   ]
  },
  {
   "cell_type": "code",
   "execution_count": null,
   "id": "3690322a7e626f06",
   "metadata": {},
   "outputs": [],
   "source": []
  },
  {
   "cell_type": "markdown",
   "id": "7869b614f694c918",
   "metadata": {
    "lang": "de",
    "slideshow": {
     "slide_type": "subslide"
    },
    "tags": [
     "subslide"
    ]
   },
   "source": [
    "### Verwendung der Aufzählung\n",
    "\n",
    "- Auf Mitglieder wird über den Klassennamen zugegriffen.\n",
    "- Jedes Mitglied ist eine eindeutige Instanz.\n",
    "- `name` und `value` Attribute geben den Namen und den zugewiesenen Wert des\n",
    "  Mitglieds zurück."
   ]
  },
  {
   "cell_type": "code",
   "execution_count": null,
   "id": "dc6cfea37edb709e",
   "metadata": {},
   "outputs": [],
   "source": []
  },
  {
   "cell_type": "markdown",
   "id": "6b912c8f66447c3f",
   "metadata": {
    "lang": "de",
    "slideshow": {
     "slide_type": "subslide"
    },
    "tags": [
     "subslide"
    ]
   },
   "source": [
    "\n",
    "Enums sind Singletons"
   ]
  },
  {
   "cell_type": "code",
   "execution_count": null,
   "id": "a54e4dc8517a008f",
   "metadata": {},
   "outputs": [],
   "source": []
  },
  {
   "cell_type": "markdown",
   "id": "427a2cc6c9d90bef",
   "metadata": {
    "lang": "de"
   },
   "source": [
    "\n",
    "Zugriff auf Name und Wert"
   ]
  },
  {
   "cell_type": "code",
   "execution_count": null,
   "id": "97b06a1c2487a8b9",
   "metadata": {},
   "outputs": [],
   "source": []
  },
  {
   "cell_type": "markdown",
   "id": "2490f37104a4df46",
   "metadata": {
    "lang": "de"
   },
   "source": [
    "\n",
    "Iteration über alle Mitglieder"
   ]
  },
  {
   "cell_type": "code",
   "execution_count": null,
   "id": "53842df039080687",
   "metadata": {},
   "outputs": [],
   "source": []
  },
  {
   "cell_type": "markdown",
   "id": "1cb531eba804142e",
   "metadata": {
    "lang": "de",
    "slideshow": {
     "slide_type": "subslide"
    },
    "tags": [
     "subslide"
    ]
   },
   "source": [
    "### Überarbeitete Funktion\n",
    "\n",
    "Wir können unsere Funktion nun so umschreiben, dass sie Typsicherheit mit\n",
    "`Status` bietet."
   ]
  },
  {
   "cell_type": "code",
   "execution_count": null,
   "id": "96e869c87ecd5b7d",
   "metadata": {
    "tags": [
     "keep"
    ]
   },
   "outputs": [],
   "source": [
    "def process_task_enum(status: Status):\n",
    "    if status is Status.NEW:\n",
    "        print(\"Starting a new task.\")\n",
    "    elif status is Status.IN_PROGRESS:\n",
    "        print(\"Task is currently in progress.\")\n",
    "    elif status is Status.DONE:\n",
    "        print(\"Task completed.\")\n",
    "    # else may not be needed, as Status is exhaustive"
   ]
  },
  {
   "cell_type": "code",
   "execution_count": null,
   "id": "8652989919b9d4e5",
   "metadata": {
    "lines_to_next_cell": 2
   },
   "outputs": [],
   "source": []
  },
  {
   "cell_type": "code",
   "execution_count": null,
   "id": "d18c122705a07a16",
   "metadata": {},
   "outputs": [],
   "source": []
  },
  {
   "cell_type": "markdown",
   "id": "052f3a43ce10ec66",
   "metadata": {
    "lang": "de",
    "slideshow": {
     "slide_type": "slide"
    },
    "tags": [
     "slide"
    ]
   },
   "source": [
    "\n",
    "## String-Enumerationen (`StrEnum`)\n",
    "\n",
    "- Manchmal ist es nützlich, wenn ein Enum-Mitglied sich auch wie ein String\n",
    "  verhält.\n",
    "- Anwendungsfälle: JSON-Serialisierung, Speicherung in Datenbanken,\n",
    "  Konfigurationsdateien.\n",
    "- `StrEnum` erbt von `str` und `Enum`.\n",
    "- Die Mitglieder sind sowohl Enum-Mitglieder als auch Strings.\n",
    "- Verfügbar seit Python 3.11."
   ]
  },
  {
   "cell_type": "markdown",
   "id": "1c7d93dff17bba5a",
   "metadata": {
    "lang": "de",
    "slideshow": {
     "slide_type": "subslide"
    },
    "tags": [
     "subslide"
    ]
   },
   "source": [
    "### Beispiel: `StrEnum` für Loglevel\n",
    "\n",
    "- Die Werte der Mitglieder müssen Strings sein."
   ]
  },
  {
   "cell_type": "code",
   "execution_count": null,
   "id": "f5e5fea6efdc0183",
   "metadata": {
    "tags": [
     "keep"
    ]
   },
   "outputs": [],
   "source": [
    "from enum import StrEnum"
   ]
  },
  {
   "cell_type": "code",
   "execution_count": null,
   "id": "0464c7cf88b93a07",
   "metadata": {},
   "outputs": [],
   "source": []
  },
  {
   "cell_type": "markdown",
   "id": "5b11db6a051e5b08",
   "metadata": {
    "lang": "de",
    "slideshow": {
     "slide_type": "subslide"
    },
    "tags": [
     "subslide"
    ]
   },
   "source": [
    "\n",
    "Instanzen von `StrEnum` können wie Strings verwendet werden."
   ]
  },
  {
   "cell_type": "code",
   "execution_count": null,
   "id": "0ace4e30d3b6f4b7",
   "metadata": {},
   "outputs": [],
   "source": []
  },
  {
   "cell_type": "code",
   "execution_count": null,
   "id": "af931cd71570acf9",
   "metadata": {},
   "outputs": [],
   "source": []
  },
  {
   "cell_type": "markdown",
   "id": "4f1b15f3e1cbeebc",
   "metadata": {
    "lang": "de",
    "slideshow": {
     "slide_type": "subslide"
    },
    "tags": [
     "subslide"
    ]
   },
   "source": [
    "\n",
    "- `StrEnum`-Instanzen bieten aber auch alle Methoden und Eigenschaften von\n",
    "  Enums."
   ]
  },
  {
   "cell_type": "code",
   "execution_count": null,
   "id": "ade717228a364ad5",
   "metadata": {},
   "outputs": [],
   "source": []
  },
  {
   "cell_type": "code",
   "execution_count": null,
   "id": "22e9530986a724fb",
   "metadata": {},
   "outputs": [],
   "source": []
  },
  {
   "cell_type": "code",
   "execution_count": null,
   "id": "c28fafbb1c1c1c1c",
   "metadata": {},
   "outputs": [],
   "source": []
  },
  {
   "cell_type": "code",
   "execution_count": null,
   "id": "177dcb661ebd5fb0",
   "metadata": {},
   "outputs": [],
   "source": []
  },
  {
   "cell_type": "markdown",
   "id": "e4289333339ffc13",
   "metadata": {
    "lang": "de",
    "slideshow": {
     "slide_type": "slide"
    },
    "tags": [
     "slide"
    ]
   },
   "source": [
    "\n",
    "## Workshop 1: Ampelsteuerung\n",
    "\n",
    "In diesem Workshop implementieren Sie eine Ampelsteuerung mit einer\n",
    "Aufzählung.\n",
    "\n",
    "- Erstellen Sie eine `Enum`-Klasse namens `TrafficLight` mit den Zuständen\n",
    "  `RED`, `GREEN` und `YELLOW`.\n",
    "- Schreiben Sie eine Funktion `next_state(current_state: TrafficLight) ->\n",
    "  TrafficLight`, die den nächsten Zustand im Zyklus zurückgibt.\n",
    "- Der Zyklus ist: `RED` -> `GREEN` -> `YELLOW` -> `RED`.\n",
    "- Testen Sie Ihre Funktion für alle Zustände."
   ]
  },
  {
   "cell_type": "code",
   "execution_count": null,
   "id": "1e7b04148183248d",
   "metadata": {},
   "outputs": [],
   "source": []
  },
  {
   "cell_type": "code",
   "execution_count": null,
   "id": "2a97ca8a5e2b245a",
   "metadata": {},
   "outputs": [],
   "source": []
  },
  {
   "cell_type": "markdown",
   "id": "a62d8b1416b60d4a",
   "metadata": {
    "lang": "de",
    "slideshow": {
     "slide_type": "slide"
    },
    "tags": [
     "slide"
    ]
   },
   "source": [
    "## Workshop 2: Konfigurationseinstellungen\n",
    "\n",
    "In diesem Workshop verwenden Sie `StrEnum`, um Konfigurationen für\n",
    "verschiedene Umgebungen zu verwalten.\n",
    "\n",
    "- Erstellen Sie eine `StrEnum` namens `Environment` mit den Mitgliedern\n",
    "  `DEVELOPMENT`, `STAGING` und `PRODUCTION`. Die Werte sollen die\n",
    "  kleingeschriebenen Namen sein (z.B. `\"development\"`).\n",
    "- Schreiben Sie eine Funktion `get_database_url(env: Environment) -> str`, die\n",
    "  je nach Umgebung eine andere Dummy-Datenbank-URL zurückgibt.\n",
    "- Testen Sie Ihre Funktion. Zeigen Sie, dass Sie das `Environment`-Mitglied\n",
    "  direkt in einen f-String einfügen können."
   ]
  },
  {
   "cell_type": "code",
   "execution_count": null,
   "id": "e2a5f43a8b492bc5",
   "metadata": {},
   "outputs": [],
   "source": []
  }
 ],
 "metadata": {
  "jupytext": {
   "cell_metadata_filter": "tags,lang,-all",
   "main_language": "python",
   "notebook_metadata_filter": "-all"
  },
  "kernelspec": {
   "display_name": "Python 3 (ipykernel)",
   "language": "python",
   "name": "python3"
  },
  "language_info": {
   "codemirror_mode": {
    "name": "ipython",
    "version": 3
   },
   "file_extension": ".py",
   "mimetype": "text/x-python",
   "name": "python",
   "nbconvert_exporter": "python",
   "pygments_lexer": "ipython3"
  }
 },
 "nbformat": 4,
 "nbformat_minor": 5
}
