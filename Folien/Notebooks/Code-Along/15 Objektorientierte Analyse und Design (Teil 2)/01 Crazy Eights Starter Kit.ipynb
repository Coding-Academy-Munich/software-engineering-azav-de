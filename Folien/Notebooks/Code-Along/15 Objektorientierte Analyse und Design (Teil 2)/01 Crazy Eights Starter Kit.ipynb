{
 "cells": [
  {
   "cell_type": "markdown",
   "id": "39a0938c89364b9b",
   "metadata": {
    "lang": "de",
    "slideshow": {
     "slide_type": "slide"
    },
    "tags": [
     "slide"
    ]
   },
   "source": [
    "\n",
    "<img src=\"data:image/svg+xml;base64,PHN2ZyB4bWxucz0iaHR0cDovL3d3dy53My5vcmcvMjAwMC9zdmciIHhtbG5zOnhsaW5rPSJodHRw\n",
    "Oi8vd3d3LnczLm9yZy8xOTk5L3hsaW5rIiB3aWR0aD0iMTExLjE2MSIgaGVpZ2h0PSIxMzQuNjY4\n",
    "IiB2ZXJzaW9uPSIxLjAiPjxkZWZzPjxsaW5lYXJHcmFkaWVudCBpZD0iYyI+PHN0b3Agb2Zmc2V0\n",
    "PSIwIiBzdHlsZT0ic3RvcC1jb2xvcjojYjhiOGI4O3N0b3Atb3BhY2l0eTouNDk4MDM5MjIiLz48\n",
    "c3RvcCBvZmZzZXQ9IjEiIHN0eWxlPSJzdG9wLWNvbG9yOiM3ZjdmN2Y7c3RvcC1vcGFjaXR5OjAi\n",
    "Lz48L2xpbmVhckdyYWRpZW50PjxsaW5lYXJHcmFkaWVudCBpZD0iYSI+PHN0b3Agb2Zmc2V0PSIw\n",
    "IiBzdHlsZT0ic3RvcC1jb2xvcjojZmZkNDNiO3N0b3Atb3BhY2l0eToxIi8+PHN0b3Agb2Zmc2V0\n",
    "PSIxIiBzdHlsZT0ic3RvcC1jb2xvcjojZmZlODczO3N0b3Atb3BhY2l0eToxIi8+PC9saW5lYXJH\n",
    "cmFkaWVudD48bGluZWFyR3JhZGllbnQgaWQ9ImIiPjxzdG9wIG9mZnNldD0iMCIgc3R5bGU9InN0\n",
    "b3AtY29sb3I6IzVhOWZkNDtzdG9wLW9wYWNpdHk6MSIvPjxzdG9wIG9mZnNldD0iMSIgc3R5bGU9\n",
    "InN0b3AtY29sb3I6IzMwNjk5ODtzdG9wLW9wYWNpdHk6MSIvPjwvbGluZWFyR3JhZGllbnQ+PGxp\n",
    "bmVhckdyYWRpZW50IHhsaW5rOmhyZWY9IiNhIiBpZD0iZSIgeDE9IjE1MC45NjEiIHgyPSIxMTIu\n",
    "MDMxIiB5MT0iMTkyLjM1MiIgeTI9IjEzNy4yNzMiIGdyYWRpZW50VHJhbnNmb3JtPSJtYXRyaXgo\n",
    "LjU2MjU0IDAgMCAuNTY3OTcgLTE0Ljk5MSAtMTEuNzAyKSIgZ3JhZGllbnRVbml0cz0idXNlclNw\n",
    "YWNlT25Vc2UiLz48bGluZWFyR3JhZGllbnQgeGxpbms6aHJlZj0iI2IiIGlkPSJkIiB4MT0iMjYu\n",
    "NjQ5IiB4Mj0iMTM1LjY2NSIgeTE9IjIwLjYwNCIgeTI9IjExNC4zOTgiIGdyYWRpZW50VHJhbnNm\n",
    "b3JtPSJtYXRyaXgoLjU2MjU0IDAgMCAuNTY3OTcgLTE0Ljk5MSAtMTEuNzAyKSIgZ3JhZGllbnRV\n",
    "bml0cz0idXNlclNwYWNlT25Vc2UiLz48cmFkaWFsR3JhZGllbnQgeGxpbms6aHJlZj0iI2MiIGlk\n",
    "PSJmIiBjeD0iNjEuNTE5IiBjeT0iMTMyLjI4NiIgcj0iMjkuMDM3IiBmeD0iNjEuNTE5IiBmeT0i\n",
    "MTMyLjI4NiIgZ3JhZGllbnRUcmFuc2Zvcm09Im1hdHJpeCgwIC0uMjM5OTUgMS4wNTQ2NyAwIC04\n",
    "My43IDE0Mi40NjIpIiBncmFkaWVudFVuaXRzPSJ1c2VyU3BhY2VPblVzZSIvPjwvZGVmcz48cGF0\n",
    "aCBkPSJNNTQuOTE5IDBjLTQuNTg0LjAyMi04Ljk2MS40MTMtMTIuODEzIDEuMDk1QzMwLjc2IDMu\n",
    "MDk5IDI4LjcgNy4yOTUgMjguNyAxNS4wMzJ2MTAuMjE5aDI2LjgxM3YzLjQwNkgxOC42MzhjLTcu\n",
    "NzkzIDAtMTQuNjE2IDQuNjg0LTE2Ljc1IDEzLjU5NC0yLjQ2MiAxMC4yMTMtMi41NzEgMTYuNTg2\n",
    "IDAgMjcuMjUgMS45MDUgNy45MzggNi40NTcgMTMuNTk0IDE0LjI1IDEzLjU5NGg5LjIxOHYtMTIu\n",
    "MjVjMC04Ljg1IDcuNjU3LTE2LjY1NyAxNi43NS0xNi42NTdoMjYuNzgyYzcuNDU0IDAgMTMuNDA2\n",
    "LTYuMTM4IDEzLjQwNi0xMy42MjV2LTI1LjUzYzAtNy4yNjctNi4xMy0xMi43MjYtMTMuNDA2LTEz\n",
    "LjkzOEM2NC4yODIuMzI4IDU5LjUwMi0uMDIgNTQuOTE4IDBtLTE0LjUgOC4yMmMyLjc3IDAgNS4w\n",
    "MzEgMi4yOTggNS4wMzEgNS4xMjUgMCAyLjgxNi0yLjI2MiA1LjA5My01LjAzMSA1LjA5My0yLjc4\n",
    "IDAtNS4wMzEtMi4yNzctNS4wMzEtNS4wOTMgMC0yLjgyNyAyLjI1MS01LjEyNSA1LjAzLTUuMTI1\n",
    "IiBzdHlsZT0iZmlsbDp1cmwoI2QpO2ZpbGwtb3BhY2l0eToxIi8+PHBhdGggZD0iTTg1LjYzOCAy\n",
    "OC42NTd2MTEuOTA2YzAgOS4yMzEtNy44MjYgMTctMTYuNzUgMTdINDIuMTA2Yy03LjMzNiAwLTEz\n",
    "LjQwNiA2LjI3OS0xMy40MDYgMTMuNjI1Vjk2LjcyYzAgNy4yNjYgNi4zMTkgMTEuNTQgMTMuNDA2\n",
    "IDEzLjYyNSA4LjQ4OCAyLjQ5NSAxNi42MjcgMi45NDYgMjYuNzgyIDAgNi43NS0xLjk1NSAxMy40\n",
    "MDYtNS44ODggMTMuNDA2LTEzLjYyNVY4Ni41SDU1LjUxM3YtMy40MDVIOTUuN2M3Ljc5MyAwIDEw\n",
    "LjY5Ni01LjQzNiAxMy40MDYtMTMuNTk0IDIuOC04LjM5OSAyLjY4LTE2LjQ3NiAwLTI3LjI1LTEu\n",
    "OTI1LTcuNzU4LTUuNjA0LTEzLjU5NC0xMy40MDYtMTMuNTk0ek03MC41NzUgOTMuMzEzYzIuNzgg\n",
    "MCA1LjAzMSAyLjI3OCA1LjAzMSA1LjA5NCAwIDIuODI3LTIuMjUxIDUuMTI1LTUuMDMxIDUuMTI1\n",
    "LTIuNzcgMC01LjAzMS0yLjI5OC01LjAzMS01LjEyNSAwLTIuODE2IDIuMjYxLTUuMDk0IDUuMDMx\n",
    "LTUuMDk0IiBzdHlsZT0iZmlsbDp1cmwoI2UpO2ZpbGwtb3BhY2l0eToxIi8+PGVsbGlwc2UgY3g9\n",
    "IjU1LjgxNyIgY3k9IjEyNy43MDEiIHJ4PSIzNS45MzEiIHJ5PSI2Ljk2NyIgc3R5bGU9Im9wYWNp\n",
    "dHk6LjQ0MzgyO2ZpbGw6dXJsKCNmKTtmaWxsLW9wYWNpdHk6MTtmaWxsLXJ1bGU6bm9uemVybztz\n",
    "dHJva2U6bm9uZTtzdHJva2Utd2lkdGg6MTUuNDE3NDtzdHJva2UtbWl0ZXJsaW1pdDo0O3N0cm9r\n",
    "ZS1kYXNoYXJyYXk6bm9uZTtzdHJva2Utb3BhY2l0eToxIi8+PC9zdmc+\n",
    "\"\n",
    "     style=\"display:block;margin:auto;width:10%\" alt=\"Python Logo\"/>\n",
    "<br>\n",
    "\n",
    "<div style=\"text-align:center; font-size:200%;\">\n",
    " <b>Crazy Eights Starter Kit</b>\n",
    "</div>\n",
    "<br/>\n",
    "<div style=\"text-align:center;\">Dr. Matthias Hölzl</div>\n",
    "<br/>"
   ]
  },
  {
   "cell_type": "markdown",
   "id": "518cb4fbb1dd5b25",
   "metadata": {
    "lang": "de",
    "slideshow": {
     "slide_type": "subslide"
    },
    "tags": [
     "subslide"
    ]
   },
   "source": [
    "\n",
    "- Die Implementierung in Notebooks wird unübersichtlich\n",
    "- Wir wechseln in eine IDE\n",
    "- Ich verwende PyCharm, aber jede andere IDE ist auch möglich"
   ]
  },
  {
   "cell_type": "markdown",
   "id": "078e1953d0d572a8",
   "metadata": {
    "lang": "de",
    "slideshow": {
     "slide_type": "subslide"
    },
    "tags": [
     "subslide"
    ]
   },
   "source": [
    "\n",
    "- Drei Projekte für Crazy Eights:\n",
    "  - `CrazyEightsSk`: Starter Kit\n",
    "  - `CrazyEightsSimple`: Einfache Implementierung\n",
    "  - `CrazyEights`: Vollständige Implementierung"
   ]
  },
  {
   "cell_type": "markdown",
   "id": "9107f09f19947652",
   "metadata": {
    "lang": "de",
    "slideshow": {
     "slide_type": "subslide"
    },
    "tags": [
     "subslide"
    ]
   },
   "source": [
    "\n",
    "## Aufbau der Projekte\n",
    "\n",
    "- `src`: Quellcode\n",
    "  - `src/crazyeights{_sk,_simple}`: Package für die Implementierung\n",
    "- `tests`: Tests\n",
    "- `pyproject.toml`: Festlegen des Build-Systems (setuptools)\n",
    "- `setup.cfg`: Konfiguration des Build-Systems\n",
    "- `pytest.ini`: Konfiguration für `pytest`\n",
    "- `tox.ini`: Automatisierung der Tests für verschiedene Python-Versionen\n",
    "- `.bumpversion.cfg`: Inkrementieren der Versionsnummer mit `bumpversion`\n",
    "- `.gitignore`: Dateien, die nicht in Git aufgenommen werden sollen"
   ]
  },
  {
   "cell_type": "markdown",
   "id": "b41d87dfc84ddf23",
   "metadata": {
    "lang": "de",
    "slideshow": {
     "slide_type": "subslide"
    },
    "tags": [
     "subslide"
    ]
   },
   "source": [
    "\n",
    "### Erstellen eines installierbaren Wheels\n",
    "\n",
    "```bash\n",
    "$ cd CrazyEightsSimple\n",
    "$ python -m build\n",
    "```\n",
    "\n",
    "Das Wheel wird in `dist` abgelegt:\n",
    "\n",
    "```bash\n",
    "$ ls dist\n",
    "crazyeights_simple-0.0.1-py3-none-any.whl\n",
    "```"
   ]
  },
  {
   "cell_type": "markdown",
   "id": "9e76c96cea647e24",
   "metadata": {
    "lang": "de",
    "slideshow": {
     "slide_type": "subslide"
    },
    "tags": [
     "subslide"
    ]
   },
   "source": [
    "\n",
    "### Installation des Wheels\n",
    "\n",
    "```bash\n",
    "$ cd CrazyEightsSimple\n",
    "$ python -m pip install dist/crazyeights_simple-0.0.1-py3-none-any.whl\n",
    "```\n",
    "\n",
    "Das Package ist jetzt installiert:\n",
    "\n",
    "```bash\n",
    "$ python -m pip list | grep crazy  # Linux/Mac\n",
    "crazyeights-simple 0.0.1\n",
    "```\n",
    "\n",
    "```powershell\n",
    "> python -m pip list | Select-String crazy  # Windows PowerShell\n",
    "crazyeights-simple 0.0.1\n",
    "C:\\Users\\tc\\Python\\crazyeights-simple\n",
    "```"
   ]
  },
  {
   "cell_type": "markdown",
   "id": "60c46ac497394b91",
   "metadata": {
    "lang": "de",
    "slideshow": {
     "slide_type": "subslide"
    },
    "tags": [
     "subslide"
    ]
   },
   "source": [
    "\n",
    "### Verwenden des installierten Pakets (1)\n",
    "\n",
    "Das Wheel enthält ein ausführbares Skript, das das Package verwendet:\n",
    "\n",
    "```bash\n",
    "$ crazyeights-simple\n",
    "Crazy Eights with 2 players:\n",
    "  Computer 1 (A♠, 3♥, 3♦, T♣, 8♠, 8♥, 2♠)\n",
    "  Computer 2 (5♥, 8♣, 2♦, K♠, Q♠, J♥, 8♦)\n",
    "```\n",
    "\n",
    "```bash\n",
    "$ crazy-eights-simple --help\n",
    "Usage: crazy-eights-simple [OPTIONS]\n",
    "...\n",
    "```"
   ]
  },
  {
   "cell_type": "markdown",
   "id": "5e8fc7ef462ca856",
   "metadata": {
    "lang": "de",
    "lines_to_next_cell": 2,
    "slideshow": {
     "slide_type": "subslide"
    },
    "tags": [
     "subslide"
    ]
   },
   "source": [
    "\n",
    "### Verwenden des installierten Pakets (2)\n",
    "\n",
    "```python\n",
    ">>> from crazyeights_simple import Card, Deck, Player\n",
    ">>> deck = Deck()\n",
    ">>> player = Player(\"Alice\")\n",
    ">>> player.draw_n_cards(deck, 7)\n",
    ">>> player\n",
    "Player('Alice')\n",
    ">>> player.hand[0]\n",
    "Card('♥', '5')\n",
    "```"
   ]
  },
  {
   "cell_type": "markdown",
   "id": "d9decf98a6e08737",
   "metadata": {
    "lang": "de",
    "slideshow": {
     "slide_type": "subslide"
    },
    "tags": [
     "subslide"
    ]
   },
   "source": [
    "\n",
    "### Ausführen der Tests mit Pytest\n",
    "\n",
    "```bash\n",
    "$ cd CrazyEightsSimple\n",
    "$ python -m pytest\n",
    "```\n",
    "\n",
    "oder\n",
    "\n",
    "```bash\n",
    "$ cd CrazyEightsSimple\n",
    "$ pytest\n",
    "```"
   ]
  },
  {
   "cell_type": "markdown",
   "id": "473b1329edfd1270",
   "metadata": {
    "lang": "de",
    "slideshow": {
     "slide_type": "subslide"
    },
    "tags": [
     "subslide"
    ]
   },
   "source": [
    "\n",
    "### Ausführen der Tests mit Tox\n",
    "\n",
    "```bash\n",
    "$ cd CrazyEightsSimple\n",
    "$ python -m tox\n",
    "```\n",
    "\n",
    "oder\n",
    "\n",
    "```bash\n",
    "$ cd CrazyEightsSimple\n",
    "$ tox\n",
    "```"
   ]
  },
  {
   "cell_type": "markdown",
   "id": "19edf470ddce5dfa",
   "metadata": {
    "lang": "de",
    "slideshow": {
     "slide_type": "subslide"
    },
    "tags": [
     "subslide"
    ]
   },
   "source": [
    "\n",
    "### Inkrementieren der Versionsnummer\n",
    "\n",
    "```bash\n",
    "$ cd CrazyEightsSimple\n",
    "$ crazyeights-simple --version\n",
    "crazyeights-simple, version 0.0.1\n",
    "$ python -m bumpversion patch\n",
    "$ crazyeights-simple --version\n",
    "crazyeights-simple, version 0.0.2\n",
    "```"
   ]
  },
  {
   "cell_type": "markdown",
   "id": "fe94f776586c4004",
   "metadata": {
    "lang": "de",
    "slideshow": {
     "slide_type": "subslide"
    },
    "tags": [
     "subslide"
    ]
   },
   "source": [
    "\n",
    "### Verwenden des Pakets in PyCharm\n",
    "\n",
    "- Markieren Sie das Verzeichnis `CrazyEightsSimple/src` als Source Root\n",
    "- Markieren Sie das Verzeichnis `CrazyEightsSimple/tests` als Test Root"
   ]
  },
  {
   "cell_type": "markdown",
   "id": "970166276dc4d6eb",
   "metadata": {
    "lang": "de",
    "slideshow": {
     "slide_type": "subslide"
    },
    "tags": [
     "subslide"
    ]
   },
   "source": [
    "\n",
    "### Erstellen der Package-Struktur für eigene Projekte\n",
    "\n",
    "```bash\n",
    "$ cookiecutter https://github.com/hoelzl/trivial_python_project\n",
    "```\n",
    "\n",
    "Die Template stellt einige Fragen zum Projekt und legt dann die Struktur an."
   ]
  }
 ],
 "metadata": {
  "jupytext": {
   "cell_metadata_filter": "tags,lang,-all",
   "main_language": "python",
   "notebook_metadata_filter": "-all"
  },
  "kernelspec": {
   "display_name": "Python 3 (ipykernel)",
   "language": "python",
   "name": "python3"
  },
  "language_info": {
   "codemirror_mode": {
    "name": "ipython",
    "version": 3
   },
   "file_extension": ".py",
   "mimetype": "text/x-python",
   "name": "python",
   "nbconvert_exporter": "python",
   "pygments_lexer": "ipython3"
  }
 },
 "nbformat": 4,
 "nbformat_minor": 5
}
