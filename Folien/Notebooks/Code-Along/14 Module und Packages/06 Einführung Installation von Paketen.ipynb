{
 "cells": [
  {
   "cell_type": "markdown",
   "id": "2b350856a5369e6d",
   "metadata": {
    "lang": "de",
    "slideshow": {
     "slide_type": "slide"
    },
    "tags": [
     "slide"
    ]
   },
   "source": [
    "\n",
    "<img src=\"data:image/svg+xml;base64,PHN2ZyB4bWxucz0iaHR0cDovL3d3dy53My5vcmcvMjAwMC9zdmciIHhtbG5zOnhsaW5rPSJodHRw\n",
    "Oi8vd3d3LnczLm9yZy8xOTk5L3hsaW5rIiB3aWR0aD0iMTExLjE2MSIgaGVpZ2h0PSIxMzQuNjY4\n",
    "IiB2ZXJzaW9uPSIxLjAiPjxkZWZzPjxsaW5lYXJHcmFkaWVudCBpZD0iYyI+PHN0b3Agb2Zmc2V0\n",
    "PSIwIiBzdHlsZT0ic3RvcC1jb2xvcjojYjhiOGI4O3N0b3Atb3BhY2l0eTouNDk4MDM5MjIiLz48\n",
    "c3RvcCBvZmZzZXQ9IjEiIHN0eWxlPSJzdG9wLWNvbG9yOiM3ZjdmN2Y7c3RvcC1vcGFjaXR5OjAi\n",
    "Lz48L2xpbmVhckdyYWRpZW50PjxsaW5lYXJHcmFkaWVudCBpZD0iYSI+PHN0b3Agb2Zmc2V0PSIw\n",
    "IiBzdHlsZT0ic3RvcC1jb2xvcjojZmZkNDNiO3N0b3Atb3BhY2l0eToxIi8+PHN0b3Agb2Zmc2V0\n",
    "PSIxIiBzdHlsZT0ic3RvcC1jb2xvcjojZmZlODczO3N0b3Atb3BhY2l0eToxIi8+PC9saW5lYXJH\n",
    "cmFkaWVudD48bGluZWFyR3JhZGllbnQgaWQ9ImIiPjxzdG9wIG9mZnNldD0iMCIgc3R5bGU9InN0\n",
    "b3AtY29sb3I6IzVhOWZkNDtzdG9wLW9wYWNpdHk6MSIvPjxzdG9wIG9mZnNldD0iMSIgc3R5bGU9\n",
    "InN0b3AtY29sb3I6IzMwNjk5ODtzdG9wLW9wYWNpdHk6MSIvPjwvbGluZWFyR3JhZGllbnQ+PGxp\n",
    "bmVhckdyYWRpZW50IHhsaW5rOmhyZWY9IiNhIiBpZD0iZSIgeDE9IjE1MC45NjEiIHgyPSIxMTIu\n",
    "MDMxIiB5MT0iMTkyLjM1MiIgeTI9IjEzNy4yNzMiIGdyYWRpZW50VHJhbnNmb3JtPSJtYXRyaXgo\n",
    "LjU2MjU0IDAgMCAuNTY3OTcgLTE0Ljk5MSAtMTEuNzAyKSIgZ3JhZGllbnRVbml0cz0idXNlclNw\n",
    "YWNlT25Vc2UiLz48bGluZWFyR3JhZGllbnQgeGxpbms6aHJlZj0iI2IiIGlkPSJkIiB4MT0iMjYu\n",
    "NjQ5IiB4Mj0iMTM1LjY2NSIgeTE9IjIwLjYwNCIgeTI9IjExNC4zOTgiIGdyYWRpZW50VHJhbnNm\n",
    "b3JtPSJtYXRyaXgoLjU2MjU0IDAgMCAuNTY3OTcgLTE0Ljk5MSAtMTEuNzAyKSIgZ3JhZGllbnRV\n",
    "bml0cz0idXNlclNwYWNlT25Vc2UiLz48cmFkaWFsR3JhZGllbnQgeGxpbms6aHJlZj0iI2MiIGlk\n",
    "PSJmIiBjeD0iNjEuNTE5IiBjeT0iMTMyLjI4NiIgcj0iMjkuMDM3IiBmeD0iNjEuNTE5IiBmeT0i\n",
    "MTMyLjI4NiIgZ3JhZGllbnRUcmFuc2Zvcm09Im1hdHJpeCgwIC0uMjM5OTUgMS4wNTQ2NyAwIC04\n",
    "My43IDE0Mi40NjIpIiBncmFkaWVudFVuaXRzPSJ1c2VyU3BhY2VPblVzZSIvPjwvZGVmcz48cGF0\n",
    "aCBkPSJNNTQuOTE5IDBjLTQuNTg0LjAyMi04Ljk2MS40MTMtMTIuODEzIDEuMDk1QzMwLjc2IDMu\n",
    "MDk5IDI4LjcgNy4yOTUgMjguNyAxNS4wMzJ2MTAuMjE5aDI2LjgxM3YzLjQwNkgxOC42MzhjLTcu\n",
    "NzkzIDAtMTQuNjE2IDQuNjg0LTE2Ljc1IDEzLjU5NC0yLjQ2MiAxMC4yMTMtMi41NzEgMTYuNTg2\n",
    "IDAgMjcuMjUgMS45MDUgNy45MzggNi40NTcgMTMuNTk0IDE0LjI1IDEzLjU5NGg5LjIxOHYtMTIu\n",
    "MjVjMC04Ljg1IDcuNjU3LTE2LjY1NyAxNi43NS0xNi42NTdoMjYuNzgyYzcuNDU0IDAgMTMuNDA2\n",
    "LTYuMTM4IDEzLjQwNi0xMy42MjV2LTI1LjUzYzAtNy4yNjctNi4xMy0xMi43MjYtMTMuNDA2LTEz\n",
    "LjkzOEM2NC4yODIuMzI4IDU5LjUwMi0uMDIgNTQuOTE4IDBtLTE0LjUgOC4yMmMyLjc3IDAgNS4w\n",
    "MzEgMi4yOTggNS4wMzEgNS4xMjUgMCAyLjgxNi0yLjI2MiA1LjA5My01LjAzMSA1LjA5My0yLjc4\n",
    "IDAtNS4wMzEtMi4yNzctNS4wMzEtNS4wOTMgMC0yLjgyNyAyLjI1MS01LjEyNSA1LjAzLTUuMTI1\n",
    "IiBzdHlsZT0iZmlsbDp1cmwoI2QpO2ZpbGwtb3BhY2l0eToxIi8+PHBhdGggZD0iTTg1LjYzOCAy\n",
    "OC42NTd2MTEuOTA2YzAgOS4yMzEtNy44MjYgMTctMTYuNzUgMTdINDIuMTA2Yy03LjMzNiAwLTEz\n",
    "LjQwNiA2LjI3OS0xMy40MDYgMTMuNjI1Vjk2LjcyYzAgNy4yNjYgNi4zMTkgMTEuNTQgMTMuNDA2\n",
    "IDEzLjYyNSA4LjQ4OCAyLjQ5NSAxNi42MjcgMi45NDYgMjYuNzgyIDAgNi43NS0xLjk1NSAxMy40\n",
    "MDYtNS44ODggMTMuNDA2LTEzLjYyNVY4Ni41SDU1LjUxM3YtMy40MDVIOTUuN2M3Ljc5MyAwIDEw\n",
    "LjY5Ni01LjQzNiAxMy40MDYtMTMuNTk0IDIuOC04LjM5OSAyLjY4LTE2LjQ3NiAwLTI3LjI1LTEu\n",
    "OTI1LTcuNzU4LTUuNjA0LTEzLjU5NC0xMy40MDYtMTMuNTk0ek03MC41NzUgOTMuMzEzYzIuNzgg\n",
    "MCA1LjAzMSAyLjI3OCA1LjAzMSA1LjA5NCAwIDIuODI3LTIuMjUxIDUuMTI1LTUuMDMxIDUuMTI1\n",
    "LTIuNzcgMC01LjAzMS0yLjI5OC01LjAzMS01LjEyNSAwLTIuODE2IDIuMjYxLTUuMDk0IDUuMDMx\n",
    "LTUuMDk0IiBzdHlsZT0iZmlsbDp1cmwoI2UpO2ZpbGwtb3BhY2l0eToxIi8+PGVsbGlwc2UgY3g9\n",
    "IjU1LjgxNyIgY3k9IjEyNy43MDEiIHJ4PSIzNS45MzEiIHJ5PSI2Ljk2NyIgc3R5bGU9Im9wYWNp\n",
    "dHk6LjQ0MzgyO2ZpbGw6dXJsKCNmKTtmaWxsLW9wYWNpdHk6MTtmaWxsLXJ1bGU6bm9uemVybztz\n",
    "dHJva2U6bm9uZTtzdHJva2Utd2lkdGg6MTUuNDE3NDtzdHJva2UtbWl0ZXJsaW1pdDo0O3N0cm9r\n",
    "ZS1kYXNoYXJyYXk6bm9uZTtzdHJva2Utb3BhY2l0eToxIi8+PC9zdmc+\n",
    "\"\n",
    "     style=\"display:block;margin:auto;width:10%\" alt=\"Python Logo\"/>\n",
    "<br>\n",
    "\n",
    "<div style=\"text-align:center; font-size:200%;\">\n",
    " <b>Einführung: Installation von Paketen</b>\n",
    "</div>\n",
    "<br/>\n",
    "<div style=\"text-align:center;\">Dr. Matthias Hölzl</div>\n",
    "<br/>"
   ]
  },
  {
   "cell_type": "markdown",
   "id": "fe8c14fe8ebaf5eb",
   "metadata": {
    "lang": "de",
    "slideshow": {
     "slide_type": "subslide"
    },
    "tags": [
     "subslide"
    ]
   },
   "source": [
    "\n",
    "# Pakete in Python\n",
    "\n",
    "Verschiedene Bedeutungen von \"Paket\" oder \"Package\" in Python:\n",
    "\n",
    "- Sammlung von Python Dateien wie im Kapitel über Module und Packages\n",
    "  beschrieben (*Import-Paket*)\n",
    "- Distribution einer installierbaren Version einer Bibliothek (\"wheel\"),\n",
    "  die dann importiert werden kann (*Distributions-Paket* oder *installierbares\n",
    "  Paket*)\n",
    "\n",
    "In diesem Abschnitt beschäftigen wir uns mit installierbaren Paketen."
   ]
  },
  {
   "cell_type": "markdown",
   "id": "8fd64e9f8fee7e39",
   "metadata": {
    "lang": "de",
    "slideshow": {
     "slide_type": "subslide"
    },
    "tags": [
     "subslide"
    ]
   },
   "source": [
    "\n",
    "## Lebenszyklus eines Pakets\n",
    "\n",
    "- Quellcode (typischerweise in einem Git-Repository)\n",
    "  - Python-Dateien\n",
    "  - Metadaten-Dateien: `pyproject.toml`\n",
    "  - Bei älteren Paketen: `setup.py`, `setup.cfg`\n",
    "- Distribution\n",
    "  - sdist: Quellcode-Archiv zum selber kompilieren\n",
    "  - wheel: installierbares, \"Binär\"-Archiv\n",
    "- Installation\n",
    "  - Von Quellcode, lokaler Distribution oder von PyPI"
   ]
  },
  {
   "cell_type": "markdown",
   "id": "7957cbe46a0c1e76",
   "metadata": {
    "lang": "de",
    "slideshow": {
     "slide_type": "subslide"
    },
    "tags": [
     "subslide"
    ]
   },
   "source": [
    "\n",
    "## Wheels\n",
    "\n",
    "- Wheels sind das Standardformat für installierbare Pakete\n",
    "- Archive im ZIP-Format\n",
    "- Enthalten alle Dateien, die für die Installation benötigt werden\n",
    "- Haben Metadaten wie Versionsnummer und Abhängigkeiten\n",
    "- Können mit `pip` installiert werden\n",
    "- Erstellung mit Tools wie `setuptools`, `hatchling`, `poetry` oder `flit`"
   ]
  },
  {
   "cell_type": "markdown",
   "id": "89ecb0918631f306",
   "metadata": {
    "lang": "de",
    "slideshow": {
     "slide_type": "subslide"
    },
    "tags": [
     "subslide"
    ]
   },
   "source": [
    "\n",
    "## PyPI\n",
    "\n",
    "- Python Package Index\n",
    "- Zentrale Datenbank für Python-Pakete\n",
    "- Enthält Metadaten für viele Pakete und Links zu den Wheels\n",
    "- `pip` kann Pakete von PyPI herunterladen und installieren"
   ]
  },
  {
   "cell_type": "markdown",
   "id": "0a95652888ae4f8b",
   "metadata": {
    "lang": "de",
    "slideshow": {
     "slide_type": "subslide"
    },
    "tags": [
     "subslide"
    ]
   },
   "source": [
    "\n",
    "## Versionsnummern\n",
    "\n",
    "- Beschreiben die Version eines Pakets\n",
    "- [Offizielle Spezifikation](\n",
    "  https://packaging.python.org/en/latest/specifications/version-specifiers/)\n",
    "- Besteht oft aus drei Zahlen, getrennt durch Punkte: `MAJOR.MINOR.PATCH`\n",
    "  - `MAJOR`: Große Änderungen, die nicht abwärtskompatibel sind\n",
    "  - `MINOR`: Neue Features, die abwärtskompatibel sind\n",
    "  - `PATCH`: Bugfixes, die abwärtskompatibel sind\n",
    "- Beispiel: `1.0.3`"
   ]
  },
  {
   "cell_type": "markdown",
   "id": "59796f5561393062",
   "metadata": {
    "lang": "de",
    "slideshow": {
     "slide_type": "subslide"
    },
    "tags": [
     "subslide"
    ]
   },
   "source": [
    "\n",
    "## Versions-Spezifikationen\n",
    "\n",
    "- Pakete können von anderen Paketen abhängen\n",
    "- Abhängigkeiten werden durch Namen und eine [Versions-Spezifikation](\n",
    "  https://packaging.python.org/en/latest/specifications/version-specifiers/#id4)\n",
    "  angegeben\n",
    "- Wird keine Versions-Spezifikation angegeben, so ist jede Version erlaubt"
   ]
  },
  {
   "cell_type": "markdown",
   "id": "fda0b7edde4bb359",
   "metadata": {
    "lang": "de",
    "slideshow": {
     "slide_type": "subslide"
    },
    "tags": [
     "subslide"
    ]
   },
   "source": [
    "\n",
    "### Beispiele\n",
    "\n",
    "- `>= 2.25.1`: Mindestens Version 2.25.1\n",
    "- `== 1.0.3`: Genau Version 1.0.3\n",
    "- `>= 1.0.3, < 2.0.0`: Mindestens Version 1.0.3, aber kleiner als 2.0.0\n",
    "- `~= 1.0.3`: Mindestens Version 1.0.3, aber kleiner als 1.1.0\n",
    "- `>= 1.0.3, == 1.0.*`: Äquivalent zu `~= 1.0.3`\n",
    "- `~= 1.1`: Mindestens Version 1.1, aber kleiner als 2.0.0\n",
    "- `>= 1.1, == 1.*`: Äquivalent zu `~= 1.1`\n",
    "- `~= 1.0.3, != 1.0.4, != 1.0.5`: Mindestens Version 1.0.3, kleiner als 1.1.0,\n",
    "  aber nicht 1.0.4 oder 1.0.5"
   ]
  },
  {
   "cell_type": "markdown",
   "id": "3fca6354cc5aae7f",
   "metadata": {
    "lang": "de",
    "slideshow": {
     "slide_type": "subslide"
    },
    "tags": [
     "subslide"
    ]
   },
   "source": [
    "\n",
    "## Requirements-Dateien\n",
    "\n",
    "- Dateien, die mehrere Pakete und Versions-Spezifikationen enthalten\n",
    "- Format:\n",
    "  - Eine Zeile pro Paket\n",
    "  - Paket-Name, gefolgt von Versions-Spezifikationen\n",
    "- Mit `pip` können alle Pakete in einer Requirements-Datei installiert werden\n",
    "  - Dabei versucht `pip` Abhängigkeiten so aufzulösen, dass sie für alle\n",
    "    Pakete erfüllt werden\n",
    "  - Das kann fehlschlagen, wenn Pakete inkompatible Abhängigkeiten haben\n",
    "  - Oft kann man durch Abschwächen der Versions-Spezifikationen das Problem\n",
    "    lösen"
   ]
  },
  {
   "cell_type": "markdown",
   "id": "2375509e8f6ef339",
   "metadata": {
    "lang": "de",
    "lines_to_next_cell": 2,
    "slideshow": {
     "slide_type": "subslide"
    },
    "tags": [
     "subslide"
    ]
   },
   "source": [
    "\n",
    "### Beispiel\n",
    "\n",
    "- `requirements.txt`:\n",
    "\n",
    "  ```\n",
    "  requests>=2.25.1\n",
    "  fastapi~=0.63.2\n",
    "  ```\n",
    "\n",
    "- Installiert `requests` und `fastapi` in den angegebenen Versionen"
   ]
  },
  {
   "cell_type": "markdown",
   "id": "54b17d812cf1c03f",
   "metadata": {
    "lang": "de",
    "slideshow": {
     "slide_type": "subslide"
    },
    "tags": [
     "subslide"
    ]
   },
   "source": [
    "\n",
    "## Installation von Paketen\n",
    "\n",
    "- `pip install <package>`: Installiert ein Paket\n",
    "- `pip install <package><version-spec>`: Installiert ein Paket, das die angegebene\n",
    "  Versions-Spezifikation erfüllt\n",
    "- `pip install <p1> <p2> ...`: Installiert mehrere Pakete (potenziell mit\n",
    "  unterschiedlichen Versions-Spezifikationen)\n",
    "- `pip install -r <requirements-file>`: Installiert alle Pakete, die in der\n",
    "  angegebenen Datei aufgelistet sind"
   ]
  },
  {
   "cell_type": "markdown",
   "id": "c5d02a2b1b82a809",
   "metadata": {
    "lang": "de",
    "slideshow": {
     "slide_type": "subslide"
    },
    "tags": [
     "subslide"
    ]
   },
   "source": [
    "\n",
    "## Auflisten der installierten Pakete\n",
    "\n",
    "- `pip list`: Gibt alle installierten Pakete mit Versionsnummern aus\n",
    "- `pip freeze`: Gibt alle installierten Pakete mit Versionsnummern aus, so dass\n",
    "  sie in einer Requirements-Datei verwendet werden können"
   ]
  },
  {
   "cell_type": "markdown",
   "id": "c5d3115c798ff48f",
   "metadata": {
    "lang": "de",
    "slideshow": {
     "slide_type": "subslide"
    },
    "tags": [
     "subslide"
    ]
   },
   "source": [
    "\n",
    "## Virtuelle Umgebungen\n",
    "\n",
    "- Python-Pakete werden normalerweise systemweit installiert\n",
    "- Das kann zu Problemen führen, wenn verschiedene Versionen von Paketen\n",
    "  benötigt werden\n",
    "- Virtuelle Umgebungen ermöglichen die Installation von Paketen in einem\n",
    "  abgeschlossenen Bereich\n",
    "- `pip` kann virtuelle Umgebungen erstellen und Pakete darin installieren\n",
    "- Die Pakete in jedem virtuellen Environment können unabhängig von anderen\n",
    "  virtuellen Umgebungen verwaltet werden"
   ]
  },
  {
   "cell_type": "markdown",
   "id": "528348e4fb76062f",
   "metadata": {
    "lang": "de",
    "slideshow": {
     "slide_type": "subslide"
    },
    "tags": [
     "subslide"
    ]
   },
   "source": [
    "\n",
    "### Erstellen eines virtuellen Environments\n",
    "\n",
    "```shell\n",
    "python -m venv <path>\n",
    "```\n",
    "\n",
    "- Erstellt ein virtuelles Environment im angegebenen Verzeichnis\n",
    "- Dieses Verzeichnis\n",
    "  - enthält alle für das virtuelle Environment benötigten Dateien\n",
    "  - soll nicht ins Versionskontrollsystem aufgenommen werden\n",
    "  - kann nicht verschoben oder an eine andere Stelle kopiert werden\n",
    "  - darf keine Projektdateien enthalten"
   ]
  },
  {
   "cell_type": "markdown",
   "id": "6ccb0d3b0fe4960a",
   "metadata": {
    "lang": "de",
    "slideshow": {
     "slide_type": "subslide"
    },
    "tags": [
     "subslide"
    ]
   },
   "source": [
    "\n",
    "### Aktivieren eines virtuellen Environments\n",
    "\n",
    "- Linux/OS X: `source <path>/bin/activate`\n",
    "- Windows (CMD): `<path>\\Scripts\\activate.bat`\n",
    "- Windows (PowerShell): `<path>\\Scripts\\Activate.ps1`"
   ]
  },
  {
   "cell_type": "markdown",
   "id": "a11d69f335b4ac96",
   "metadata": {
    "lang": "de",
    "slideshow": {
     "slide_type": "subslide"
    },
    "tags": [
     "subslide"
    ]
   },
   "source": [
    "\n",
    "### Deaktivieren eines virtuellen Environments\n",
    "\n",
    "- `deactivate`"
   ]
  },
  {
   "cell_type": "markdown",
   "id": "5908369ce778cbd5",
   "metadata": {
    "lines_to_next_cell": 2,
    "slideshow": {
     "slide_type": "subslide"
    },
    "tags": [
     "subslide"
    ]
   },
   "source": [
    "\n",
    "```shell\n",
    "python -c \"import requests; print(requests.__version__)\"\n",
    "python -m venv venv\n",
    "source ./venv/bin/activate # Linux\n",
    "./venv/Scripts/activate.bat # Windows CMD\n",
    "./venv/Scripts/Activate.ps1 # Windows PowerShell\n",
    "pip install requests~=2.28.1\n",
    "python -c \"import requests; print(requests.__version__)\"\n",
    "pip freeze > requirements.txt\n",
    "deactivate"
   ]
  },
  {
   "cell_type": "markdown",
   "id": "a981b4bad5db54bf",
   "metadata": {
    "lang": "de",
    "slideshow": {
     "slide_type": "subslide"
    },
    "tags": [
     "subslide"
    ]
   },
   "source": [
    "\n",
    "## Beispiel für Versionskonflikt\n",
    "\n",
    "In einem neuen virtuellen Environment schlägt folgende Installation fehl:\n",
    "\n",
    "```shell\n",
    "pip install requests==2.31.0 urllib3==1.21.0\n",
    "```\n",
    "\n",
    "Auflösung durch flexiblere Versions-Spezifikationen:\n",
    "\n",
    "```shell\n",
    "pip install requests~=2.31.0 urllib3~=1.26.0\n",
    "```"
   ]
  },
  {
   "cell_type": "markdown",
   "id": "10e4cdc327daa0ca",
   "metadata": {
    "lang": "de",
    "slideshow": {
     "slide_type": "subslide"
    },
    "tags": [
     "subslide"
    ]
   },
   "source": [
    "\n",
    "### Beispiel für anderes Installationsproblem\n",
    "\n",
    "Installation von `numpy` in Version `1.20.0` in einem neuen Environment schlägt\n",
    "unter manchen Windows-Versionen fehl:\n",
    "\n",
    "```shell\n",
    "pip install numpy==1.20.0\n",
    "```\n",
    "\n",
    "Auch hier lässt sich durch eine flexiblere Versions-Spezifikation das Problem\n",
    "lösen:\n",
    "\n",
    "```shell\n",
    "pip install numpy~=1.20\n",
    "python -c \"import numpy; print(numpy.__version__)\"\n",
    "```"
   ]
  },
  {
   "cell_type": "markdown",
   "id": "88232415ecf8e00d",
   "metadata": {
    "lang": "de",
    "slideshow": {
     "slide_type": "subslide"
    },
    "tags": [
     "subslide"
    ]
   },
   "source": [
    "\n",
    "## Workshop: Installation von Paketen in virtuellen Umgebungen\n",
    "\n",
    "- Erstellen Sie ein virtuelles Environment in einem Verzeichnis `venv-workshop`\n",
    "- Aktivieren Sie das virtuelle Environment\n",
    "- Installieren Sie das `requests` Paket in der Version `~= 2.0`\n",
    "- Installieren Sie das Paket `Pillow` in der Version `~= 10.0.0`\n",
    "- Bestimmen Sie die installierten Versionen von `requests` und `Pillow`"
   ]
  },
  {
   "cell_type": "markdown",
   "id": "9bc6f45bf3d0b37a",
   "metadata": {
    "lang": "de",
    "slideshow": {
     "slide_type": "subslide"
    },
    "tags": [
     "subslide"
    ]
   },
   "source": [
    "\n",
    "- Erstellen Sie eine Datei `requirements.txt` mit den installierten Paketen\n",
    "- Führen Sie das folgende Skript im virtuellen Environment aus:"
   ]
  },
  {
   "cell_type": "code",
   "execution_count": null,
   "id": "3599f53428af3cd5",
   "metadata": {
    "tags": [
     "keep"
    ]
   },
   "outputs": [],
   "source": [
    "import requests\n",
    "from PIL import Image\n",
    "from PIL.ImageShow import show\n",
    "\n",
    "response = requests.get(\"https://www.python.org/static/img/python-logo.png\")\n",
    "with open(\"python-logo.png\", \"wb\") as file:\n",
    "    file.write(response.content)\n",
    "image = Image.open(\"python-logo.png\")\n",
    "show(image)"
   ]
  },
  {
   "cell_type": "markdown",
   "id": "f59b95ec6b9b4042",
   "metadata": {
    "lang": "de",
    "slideshow": {
     "slide_type": "subslide"
    },
    "tags": [
     "subslide"
    ]
   },
   "source": [
    "\n",
    "- Deaktivieren Sie das virtuelle Environment\n",
    "- Löschen Sie das Verzeichnis `venv-workshop`\n",
    "- Erstellen Sie ein neues virtuelles Environment in einem Verzeichnis `venv2`\n",
    "- Installieren Sie die Pakete aus der Datei `requirements.txt` in das neue\n",
    "  virtuelle Environment\n",
    "- Führen Sie das Skript im neuen virtuellen Environment erneut aus"
   ]
  }
 ],
 "metadata": {
  "jupytext": {
   "cell_metadata_filter": "tags,lang,-all",
   "main_language": "python",
   "notebook_metadata_filter": "-all"
  },
  "kernelspec": {
   "display_name": "Python 3 (ipykernel)",
   "language": "python",
   "name": "python3"
  },
  "language_info": {
   "codemirror_mode": {
    "name": "ipython",
    "version": 3
   },
   "file_extension": ".py",
   "mimetype": "text/x-python",
   "name": "python",
   "nbconvert_exporter": "python",
   "pygments_lexer": "ipython3"
  }
 },
 "nbformat": 4,
 "nbformat_minor": 5
}
