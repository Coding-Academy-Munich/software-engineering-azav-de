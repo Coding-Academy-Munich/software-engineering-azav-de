{
 "cells": [
  {
   "cell_type": "markdown",
   "id": "84fbd725088afcf5",
   "metadata": {
    "lang": "de",
    "slideshow": {
     "slide_type": "slide"
    },
    "tags": [
     "slide"
    ]
   },
   "source": [
    "\n",
    "<img src=\"data:image/svg+xml;base64,PHN2ZyB4bWxucz0iaHR0cDovL3d3dy53My5vcmcvMjAwMC9zdmciIHhtbG5zOnhsaW5rPSJodHRw\n",
    "Oi8vd3d3LnczLm9yZy8xOTk5L3hsaW5rIiB3aWR0aD0iMTExLjE2MSIgaGVpZ2h0PSIxMzQuNjY4\n",
    "IiB2ZXJzaW9uPSIxLjAiPjxkZWZzPjxsaW5lYXJHcmFkaWVudCBpZD0iYyI+PHN0b3Agb2Zmc2V0\n",
    "PSIwIiBzdHlsZT0ic3RvcC1jb2xvcjojYjhiOGI4O3N0b3Atb3BhY2l0eTouNDk4MDM5MjIiLz48\n",
    "c3RvcCBvZmZzZXQ9IjEiIHN0eWxlPSJzdG9wLWNvbG9yOiM3ZjdmN2Y7c3RvcC1vcGFjaXR5OjAi\n",
    "Lz48L2xpbmVhckdyYWRpZW50PjxsaW5lYXJHcmFkaWVudCBpZD0iYSI+PHN0b3Agb2Zmc2V0PSIw\n",
    "IiBzdHlsZT0ic3RvcC1jb2xvcjojZmZkNDNiO3N0b3Atb3BhY2l0eToxIi8+PHN0b3Agb2Zmc2V0\n",
    "PSIxIiBzdHlsZT0ic3RvcC1jb2xvcjojZmZlODczO3N0b3Atb3BhY2l0eToxIi8+PC9saW5lYXJH\n",
    "cmFkaWVudD48bGluZWFyR3JhZGllbnQgaWQ9ImIiPjxzdG9wIG9mZnNldD0iMCIgc3R5bGU9InN0\n",
    "b3AtY29sb3I6IzVhOWZkNDtzdG9wLW9wYWNpdHk6MSIvPjxzdG9wIG9mZnNldD0iMSIgc3R5bGU9\n",
    "InN0b3AtY29sb3I6IzMwNjk5ODtzdG9wLW9wYWNpdHk6MSIvPjwvbGluZWFyR3JhZGllbnQ+PGxp\n",
    "bmVhckdyYWRpZW50IHhsaW5rOmhyZWY9IiNhIiBpZD0iZSIgeDE9IjE1MC45NjEiIHgyPSIxMTIu\n",
    "MDMxIiB5MT0iMTkyLjM1MiIgeTI9IjEzNy4yNzMiIGdyYWRpZW50VHJhbnNmb3JtPSJtYXRyaXgo\n",
    "LjU2MjU0IDAgMCAuNTY3OTcgLTE0Ljk5MSAtMTEuNzAyKSIgZ3JhZGllbnRVbml0cz0idXNlclNw\n",
    "YWNlT25Vc2UiLz48bGluZWFyR3JhZGllbnQgeGxpbms6aHJlZj0iI2IiIGlkPSJkIiB4MT0iMjYu\n",
    "NjQ5IiB4Mj0iMTM1LjY2NSIgeTE9IjIwLjYwNCIgeTI9IjExNC4zOTgiIGdyYWRpZW50VHJhbnNm\n",
    "b3JtPSJtYXRyaXgoLjU2MjU0IDAgMCAuNTY3OTcgLTE0Ljk5MSAtMTEuNzAyKSIgZ3JhZGllbnRV\n",
    "bml0cz0idXNlclNwYWNlT25Vc2UiLz48cmFkaWFsR3JhZGllbnQgeGxpbms6aHJlZj0iI2MiIGlk\n",
    "PSJmIiBjeD0iNjEuNTE5IiBjeT0iMTMyLjI4NiIgcj0iMjkuMDM3IiBmeD0iNjEuNTE5IiBmeT0i\n",
    "MTMyLjI4NiIgZ3JhZGllbnRUcmFuc2Zvcm09Im1hdHJpeCgwIC0uMjM5OTUgMS4wNTQ2NyAwIC04\n",
    "My43IDE0Mi40NjIpIiBncmFkaWVudFVuaXRzPSJ1c2VyU3BhY2VPblVzZSIvPjwvZGVmcz48cGF0\n",
    "aCBkPSJNNTQuOTE5IDBjLTQuNTg0LjAyMi04Ljk2MS40MTMtMTIuODEzIDEuMDk1QzMwLjc2IDMu\n",
    "MDk5IDI4LjcgNy4yOTUgMjguNyAxNS4wMzJ2MTAuMjE5aDI2LjgxM3YzLjQwNkgxOC42MzhjLTcu\n",
    "NzkzIDAtMTQuNjE2IDQuNjg0LTE2Ljc1IDEzLjU5NC0yLjQ2MiAxMC4yMTMtMi41NzEgMTYuNTg2\n",
    "IDAgMjcuMjUgMS45MDUgNy45MzggNi40NTcgMTMuNTk0IDE0LjI1IDEzLjU5NGg5LjIxOHYtMTIu\n",
    "MjVjMC04Ljg1IDcuNjU3LTE2LjY1NyAxNi43NS0xNi42NTdoMjYuNzgyYzcuNDU0IDAgMTMuNDA2\n",
    "LTYuMTM4IDEzLjQwNi0xMy42MjV2LTI1LjUzYzAtNy4yNjctNi4xMy0xMi43MjYtMTMuNDA2LTEz\n",
    "LjkzOEM2NC4yODIuMzI4IDU5LjUwMi0uMDIgNTQuOTE4IDBtLTE0LjUgOC4yMmMyLjc3IDAgNS4w\n",
    "MzEgMi4yOTggNS4wMzEgNS4xMjUgMCAyLjgxNi0yLjI2MiA1LjA5My01LjAzMSA1LjA5My0yLjc4\n",
    "IDAtNS4wMzEtMi4yNzctNS4wMzEtNS4wOTMgMC0yLjgyNyAyLjI1MS01LjEyNSA1LjAzLTUuMTI1\n",
    "IiBzdHlsZT0iZmlsbDp1cmwoI2QpO2ZpbGwtb3BhY2l0eToxIi8+PHBhdGggZD0iTTg1LjYzOCAy\n",
    "OC42NTd2MTEuOTA2YzAgOS4yMzEtNy44MjYgMTctMTYuNzUgMTdINDIuMTA2Yy03LjMzNiAwLTEz\n",
    "LjQwNiA2LjI3OS0xMy40MDYgMTMuNjI1Vjk2LjcyYzAgNy4yNjYgNi4zMTkgMTEuNTQgMTMuNDA2\n",
    "IDEzLjYyNSA4LjQ4OCAyLjQ5NSAxNi42MjcgMi45NDYgMjYuNzgyIDAgNi43NS0xLjk1NSAxMy40\n",
    "MDYtNS44ODggMTMuNDA2LTEzLjYyNVY4Ni41SDU1LjUxM3YtMy40MDVIOTUuN2M3Ljc5MyAwIDEw\n",
    "LjY5Ni01LjQzNiAxMy40MDYtMTMuNTk0IDIuOC04LjM5OSAyLjY4LTE2LjQ3NiAwLTI3LjI1LTEu\n",
    "OTI1LTcuNzU4LTUuNjA0LTEzLjU5NC0xMy40MDYtMTMuNTk0ek03MC41NzUgOTMuMzEzYzIuNzgg\n",
    "MCA1LjAzMSAyLjI3OCA1LjAzMSA1LjA5NCAwIDIuODI3LTIuMjUxIDUuMTI1LTUuMDMxIDUuMTI1\n",
    "LTIuNzcgMC01LjAzMS0yLjI5OC01LjAzMS01LjEyNSAwLTIuODE2IDIuMjYxLTUuMDk0IDUuMDMx\n",
    "LTUuMDk0IiBzdHlsZT0iZmlsbDp1cmwoI2UpO2ZpbGwtb3BhY2l0eToxIi8+PGVsbGlwc2UgY3g9\n",
    "IjU1LjgxNyIgY3k9IjEyNy43MDEiIHJ4PSIzNS45MzEiIHJ5PSI2Ljk2NyIgc3R5bGU9Im9wYWNp\n",
    "dHk6LjQ0MzgyO2ZpbGw6dXJsKCNmKTtmaWxsLW9wYWNpdHk6MTtmaWxsLXJ1bGU6bm9uemVybztz\n",
    "dHJva2U6bm9uZTtzdHJva2Utd2lkdGg6MTUuNDE3NDtzdHJva2UtbWl0ZXJsaW1pdDo0O3N0cm9r\n",
    "ZS1kYXNoYXJyYXk6bm9uZTtzdHJva2Utb3BhY2l0eToxIi8+PC9zdmc+\n",
    "\"\n",
    "     style=\"display:block;margin:auto;width:10%\" alt=\"Python Logo\"/>\n",
    "<br>\n",
    "\n",
    "<div style=\"text-align:center; font-size:200%;\">\n",
    " <b>Packages</b>\n",
    "</div>\n",
    "<br/>\n",
    "<div style=\"text-align:center;\">Dr. Matthias Hölzl</div>\n",
    "<br/>"
   ]
  },
  {
   "cell_type": "markdown",
   "id": "26f5a29147efd0c5",
   "metadata": {
    "lang": "de",
    "slideshow": {
     "slide_type": "slide"
    },
    "tags": [
     "slide"
    ]
   },
   "source": [
    "\n",
    "Packages (Pakete) erlauben es uns, verwandte Module zu organisieren"
   ]
  },
  {
   "cell_type": "markdown",
   "id": "12bdd422054bf5e6",
   "metadata": {
    "lang": "de",
    "slideshow": {
     "slide_type": "subslide"
    },
    "tags": [
     "subslide"
    ]
   },
   "source": [
    "\n",
    "### Beispiel: `html` Paket\n",
    "\n",
    "- `html` enthält Module, die für die Verarbeitung von HTML Dokumenten benötigt\n",
    "  werden\n",
    "- `html.entities` enthält eine Liste von HTML Entities\n",
    "- `html.parser` enthält einen HTML-Parser\n",
    "- `html` selber enthält nur Funktionen `escape()` und `unescape()`"
   ]
  },
  {
   "cell_type": "code",
   "execution_count": null,
   "id": "98ef84c8a2075089",
   "metadata": {
    "slideshow": {
     "slide_type": "subslide"
    },
    "tags": [
     "subslide",
     "keep"
    ]
   },
   "outputs": [],
   "source": [
    "import html"
   ]
  },
  {
   "cell_type": "code",
   "execution_count": null,
   "id": "f0ad56c94798fcfd",
   "metadata": {
    "tags": [
     "keep"
    ]
   },
   "outputs": [],
   "source": [
    "html.escape(\"<a href='test'>Test</a>\")"
   ]
  },
  {
   "cell_type": "code",
   "execution_count": null,
   "id": "76953f148385d077",
   "metadata": {
    "tags": [
     "keep"
    ]
   },
   "outputs": [],
   "source": [
    "html.unescape(\"&lt;a href=&#x27;test&#x27;&gt;Test&lt;/a&gt;\")"
   ]
  },
  {
   "cell_type": "code",
   "execution_count": null,
   "id": "90cab87f28cff048",
   "metadata": {
    "slideshow": {
     "slide_type": "subslide"
    },
    "tags": [
     "subslide",
     "keep"
    ]
   },
   "outputs": [],
   "source": [
    "import html.entities"
   ]
  },
  {
   "cell_type": "code",
   "execution_count": null,
   "id": "8ba5bdd2e48b7b13",
   "metadata": {
    "tags": [
     "keep"
    ]
   },
   "outputs": [],
   "source": [
    "html.entities.entitydefs[\"Psi\"]"
   ]
  },
  {
   "cell_type": "code",
   "execution_count": null,
   "id": "d1bffe1e6f5acd8c",
   "metadata": {
    "tags": [
     "keep"
    ]
   },
   "outputs": [],
   "source": [
    "html.entities.html5[\"Psi;\"]"
   ]
  },
  {
   "cell_type": "code",
   "execution_count": null,
   "id": "ebfcde77c874d7a9",
   "metadata": {
    "slideshow": {
     "slide_type": "subslide"
    },
    "tags": [
     "subslide",
     "keep"
    ]
   },
   "outputs": [],
   "source": [
    "from html.parser import HTMLParser"
   ]
  },
  {
   "cell_type": "code",
   "execution_count": null,
   "id": "22b83e1a65c2eb90",
   "metadata": {
    "tags": [
     "keep"
    ]
   },
   "outputs": [],
   "source": [
    "class PrintingHTMLParser(HTMLParser):\n",
    "    def handle_starttag(self, tag, attrs):\n",
    "        print(\"Start tag:\", tag)\n",
    "        for attr in attrs:\n",
    "            print(\"     attr:\", attr)\n",
    "\n",
    "    def handle_endtag(self, tag):\n",
    "        print(\"End tag:  \", tag)\n",
    "\n",
    "    def handle_data(self, data):\n",
    "        print(\"Data:     \", data)"
   ]
  },
  {
   "cell_type": "code",
   "execution_count": null,
   "id": "572b2414b621308a",
   "metadata": {
    "slideshow": {
     "slide_type": "subslide"
    },
    "tags": [
     "subslide",
     "keep"
    ]
   },
   "outputs": [],
   "source": [
    "parser = PrintingHTMLParser()"
   ]
  },
  {
   "cell_type": "code",
   "execution_count": null,
   "id": "abcc7ca31dd0a214",
   "metadata": {
    "lines_to_next_cell": 2,
    "tags": [
     "keep"
    ]
   },
   "outputs": [],
   "source": [
    "parser.feed('<div class=\"my-class\"><a href=\"test\">Test</a></div>')"
   ]
  },
  {
   "cell_type": "markdown",
   "id": "a1c31acea5bed2b5",
   "metadata": {
    "lang": "de",
    "slideshow": {
     "slide_type": "subslide"
    },
    "tags": [
     "subslide"
    ]
   },
   "source": [
    "\n",
    " ### Struktur von Packages\n",
    "\n",
    "- Packages sind Ordner im Dateisystem\n",
    "- Sie können Module und andere Packages enthalten\n",
    "- Um zu kennzeichnen, dass ein Ordner ein Package ist, enthält er typischerweise eine\n",
    "  `__init__.py` Datei\n",
    "- Die `__init__.py` Datei kann leer sein (und ist oft leer)"
   ]
  },
  {
   "cell_type": "code",
   "execution_count": null,
   "id": "4e6964f6caf89711",
   "metadata": {
    "slideshow": {
     "slide_type": "subslide"
    },
    "tags": [
     "subslide",
     "keep"
    ]
   },
   "outputs": [],
   "source": [
    "from dirtree import dir_tree"
   ]
  },
  {
   "cell_type": "code",
   "execution_count": null,
   "id": "de7dad9bdf95b503",
   "metadata": {},
   "outputs": [],
   "source": []
  },
  {
   "cell_type": "markdown",
   "id": "95d32eec98aae59a",
   "metadata": {
    "lang": "de",
    "slideshow": {
     "slide_type": "subslide"
    },
    "tags": [
     "subslide"
    ]
   },
   "source": [
    "\n",
    "### Struktur des `greetings` Packages\n",
    "\n",
    "- Dateien für Module:\n",
    "  - [`formal.py`](greetings/formal.py)\n",
    "  - [`informal.py`](greetings/informal.py)\n",
    "  - [`generic.py`](greetings/generic.py)\n",
    "- Ordner für Sub-Packages:\n",
    "  - `intl` mit Datei [`generic.py`](greetings/intl/generic.py)"
   ]
  },
  {
   "cell_type": "markdown",
   "id": "210b6e6d9508cdf7",
   "metadata": {
    "lang": "de",
    "slideshow": {
     "slide_type": "subslide"
    },
    "tags": [
     "subslide"
    ]
   },
   "source": [
    "\n",
    "## Namen von Packages\n",
    "\n",
    "- Namenskomponenten werden durch Punkte getrennt\n",
    "  - z.B. `<package>.<sub-package>.<sub-sub-package>.<module>`\n",
    "- Namenskonventionen:\n",
    "  - Namen sollten mit einem Kleinbuchstaben beginnen\n",
    "  - Namen sollten keine Unterstriche enthalten"
   ]
  },
  {
   "cell_type": "markdown",
   "id": "d70065f679f8047d",
   "metadata": {
    "lang": "de",
    "slideshow": {
     "slide_type": "subslide"
    },
    "tags": [
     "subslide"
    ]
   },
   "source": [
    "\n",
    "### Namen des `greetings` Packages\n",
    "\n",
    "- Dateien für Module:\n",
    "  - [`greetings.formal`](greetings/formal.py)\n",
    "  - [`greetings.generic`](greetings/generic.py)\n",
    "  - [`greetings.informal`](greetings/informal.py)\n",
    "- Ordner für Sub-Packages:\n",
    "  - `intl` mit Modul [`greetings.intl.generic`](greetings/intl/generic.py)"
   ]
  },
  {
   "cell_type": "code",
   "execution_count": null,
   "id": "a99b9c4d791da3ce",
   "metadata": {
    "slideshow": {
     "slide_type": "subslide"
    },
    "tags": [
     "subslide"
    ]
   },
   "outputs": [],
   "source": []
  },
  {
   "cell_type": "code",
   "execution_count": null,
   "id": "e865a34eb6644401",
   "metadata": {},
   "outputs": [],
   "source": []
  },
  {
   "cell_type": "code",
   "execution_count": null,
   "id": "06abadcb96c57783",
   "metadata": {},
   "outputs": [],
   "source": []
  },
  {
   "cell_type": "code",
   "execution_count": null,
   "id": "0946806c3832adc2",
   "metadata": {},
   "outputs": [],
   "source": []
  },
  {
   "cell_type": "code",
   "execution_count": null,
   "id": "4362820c3543ad1b",
   "metadata": {
    "slideshow": {
     "slide_type": "subslide"
    },
    "tags": [
     "subslide"
    ]
   },
   "outputs": [],
   "source": []
  },
  {
   "cell_type": "code",
   "execution_count": null,
   "id": "2d5571f9741566dd",
   "metadata": {},
   "outputs": [],
   "source": []
  },
  {
   "cell_type": "code",
   "execution_count": null,
   "id": "ad3c17443431d1dc",
   "metadata": {},
   "outputs": [],
   "source": []
  },
  {
   "cell_type": "code",
   "execution_count": null,
   "id": "573ce6af55da3b95",
   "metadata": {},
   "outputs": [],
   "source": []
  },
  {
   "cell_type": "code",
   "execution_count": null,
   "id": "9ea4f7eb62b9b728",
   "metadata": {},
   "outputs": [],
   "source": []
  },
  {
   "cell_type": "code",
   "execution_count": null,
   "id": "7bf8a37a950edf34",
   "metadata": {
    "slideshow": {
     "slide_type": "subslide"
    },
    "tags": [
     "subslide"
    ]
   },
   "outputs": [],
   "source": []
  },
  {
   "cell_type": "code",
   "execution_count": null,
   "id": "6e17bcfc27572415",
   "metadata": {},
   "outputs": [],
   "source": []
  },
  {
   "cell_type": "code",
   "execution_count": null,
   "id": "025bf4ba033bf3c6",
   "metadata": {},
   "outputs": [],
   "source": []
  },
  {
   "cell_type": "code",
   "execution_count": null,
   "id": "e765ff93ceb2c449",
   "metadata": {},
   "outputs": [],
   "source": []
  },
  {
   "cell_type": "code",
   "execution_count": null,
   "id": "ff590e2ff09c6d03",
   "metadata": {},
   "outputs": [],
   "source": []
  },
  {
   "cell_type": "markdown",
   "id": "872f041f7f7dbda0",
   "metadata": {
    "lang": "de",
    "slideshow": {
     "slide_type": "subslide"
    },
    "tags": [
     "subslide"
    ]
   },
   "source": [
    "\n",
    " ### Finden von Packages\n",
    "\n",
    " - Python sucht in `sys.path` nach dem Package-Verzeichnis.\n",
    " - Dieser kann durch die Environment-Variable `PYTHONPATH` oder direkt von\n",
    "   Python aus beeinflusst werden.\n",
    " - In den meisten Fällen ist es besser, keine komplizierten Operationen an\n",
    "   `sys.path` vorzunehmen."
   ]
  },
  {
   "cell_type": "code",
   "execution_count": null,
   "id": "a747448658dd6bdd",
   "metadata": {
    "tags": [
     "keep"
    ]
   },
   "outputs": [],
   "source": [
    "import sys"
   ]
  },
  {
   "cell_type": "code",
   "execution_count": null,
   "id": "e4c02fe3c61d1def",
   "metadata": {},
   "outputs": [],
   "source": []
  },
  {
   "cell_type": "markdown",
   "id": "5310d05b009b05e8",
   "metadata": {
    "lang": "de",
    "slideshow": {
     "slide_type": "subslide"
    },
    "tags": [
     "subslide"
    ]
   },
   "source": [
    "\n",
    " ### Das `import` statement\n",
    "\n",
    " `import a.b.c`:\n",
    "\n",
    " - `a` und `b` müssen Packages (Verzeichnisse) sein\n",
    " - `c` kann ein Modul oder ein Package sein\n",
    "\n",
    " `from a.b.c import d`\n",
    " - `a` und `b` müssen Packages sein\n",
    " - `c` kann ein Modul oder ein Package sein\n",
    " - `d` kann ein Modul, ein Package oder ein Name (d.h. eine Variable, eine Funktion,\n",
    "   eine Klasse, usw.) sein"
   ]
  },
  {
   "cell_type": "markdown",
   "id": "8019e674c6a9f354",
   "metadata": {
    "lang": "de",
    "slideshow": {
     "slide_type": "subslide"
    },
    "tags": [
     "subslide"
    ]
   },
   "source": [
    "\n",
    " ### Referenzen innerhalb eines Packages\n",
    "\n",
    " - `from . import a` importiert `a` aus dem aktuellen Package\n",
    " - `from .. import a` importiert `a` aus dem übergeordneten Package\n",
    " - `from .foo import a` importiert `a` aus dem \"Geschwistermodul\" `foo`"
   ]
  },
  {
   "cell_type": "code",
   "execution_count": null,
   "id": "6ab8bedcc861081a",
   "metadata": {
    "tags": [
     "keep"
    ]
   },
   "outputs": [],
   "source": [
    "%pycat greetings/generic.py"
   ]
  },
  {
   "cell_type": "code",
   "execution_count": null,
   "id": "c335156e6aa8fc78",
   "metadata": {
    "tags": [
     "keep"
    ]
   },
   "outputs": [],
   "source": [
    "%pycat greetings/intl/generic.py"
   ]
  },
  {
   "cell_type": "markdown",
   "id": "186e46ed1b8827a5",
   "metadata": {
    "lang": "de",
    "lines_to_next_cell": 2,
    "slideshow": {
     "slide_type": "subslide"
    },
    "tags": [
     "subslide"
    ]
   },
   "source": [
    "\n",
    "## Workshop: Persönlicher Finanz-Tracker\n",
    "\n",
    "### Übersicht\n",
    "\n",
    "In diesem Workshop werden Sie einen einfachen persönlichen Finanz-Tracker\n",
    "entwickeln. Dieses Programm hilft den Benutzern, ihre persönlichen Finanzen,\n",
    "zu verfolgen und zu analysieren.\n",
    "\n",
    "Wir wollen das Programm in mehrere Pakete und Module einteilen."
   ]
  },
  {
   "cell_type": "markdown",
   "id": "f39fa5ff8f697ce0",
   "metadata": {
    "lang": "de",
    "slideshow": {
     "slide_type": "subslide"
    },
    "tags": [
     "subslide"
    ]
   },
   "source": [
    "\n",
    "### Problem- und Funktionsdomäne\n",
    "\n",
    "Der persönliche Finanz-Tracker besteht aus zwei Hauptkomponenten: Ausgabenverfolgung\n",
    "und Einkommensverfolgung. Zusätzlich wird er Funktionen für das Generieren von\n",
    "Finanzberichten und das Erstellen von Budgets haben.\n",
    "\n",
    "**Schlüsselfunktionalitäten:**\n",
    "\n",
    "1. **Ausgaben verfolgen:** Einzelne Ausgaben aufzeichnen und kategorisieren.\n",
    "2. **Einkommen verfolgen:** Verschiedene Einkommensquellen aufzeichnen und\n",
    "   kategorisieren.\n",
    "3. **Berichte generieren:** Zusammenfassungen von Finanzaktivitäten erstellen.\n",
    "4. **Budgetanalyse:** Überprüfen ob Ausgaben in einem Budget liegen"
   ]
  },
  {
   "cell_type": "markdown",
   "id": "6ac64a7124eb1a87",
   "metadata": {
    "lang": "de",
    "slideshow": {
     "slide_type": "subslide"
    },
    "tags": [
     "subslide"
    ]
   },
   "source": [
    "\n",
    "### Paket- und Modulstruktur\n",
    "\n",
    "Ihr Programm wird in zwei Hauptpakete unterteilt: `finance` und `analytics`. Jedes\n",
    "Paket enthält spezifische Module, die mit ihren Funktionalitäten verbunden sind.\n",
    "\n",
    "1. **Paket: `finance`**\n",
    "   - **Modul: `expenses`**\n",
    "     - Klassen und Funktionen zum Hinzufügen, Kategorisieren und Zusammenfassen von Ausgaben.\n",
    "   - **Modul: `income`**\n",
    "     - Klassen und Funktionen zum Aufzeichnen und Kategorisieren von Einkommensquellen."
   ]
  },
  {
   "cell_type": "markdown",
   "id": "7052c16e73fce437",
   "metadata": {
    "lang": "de",
    "slideshow": {
     "slide_type": "subslide"
    },
    "tags": [
     "subslide"
    ]
   },
   "source": [
    "\n",
    "2. **Paket: `analytics`** (ein Unter-Paket innerhalb von `finance`)\n",
    "   - **Modul: `reporting`**\n",
    "     - Funktionen zum Erstellen von Finanzberichten basierend auf Einkommen und\n",
    "       Ausgaben.\n",
    "   - **Modul: `budget`**\n",
    "     - Klassen und Funktionen zum Erstellen und Analysieren von Budgets."
   ]
  },
  {
   "cell_type": "markdown",
   "id": "cf3c6d296691e64d",
   "metadata": {
    "lang": "de",
    "slideshow": {
     "slide_type": "subslide"
    },
    "tags": [
     "subslide"
    ]
   },
   "source": [
    "\n",
    "### Spezifikationen der Klassen und Funktionen\n",
    "\n",
    "- `expenses`:\n",
    "  - Klasse `Expense` with attributes `amount` and `category`\n",
    "  - Funktion `summarize_expenses(expenses: list[Expense]) -> dict[str, float]`\n",
    "    - Fasst Ausgaben nach Kategorien zusammen und berechnet die Gesamtsumme pro Kategorie.\n",
    "  - Funktion `total_expenses(expenses: list[Expense]) -> float`\n",
    "    - Berechnet die Gesamtausgaben."
   ]
  },
  {
   "cell_type": "markdown",
   "id": "aa084aa7d213341b",
   "metadata": {
    "lang": "de",
    "slideshow": {
     "slide_type": "subslide"
    },
    "tags": [
     "subslide"
    ]
   },
   "source": [
    "\n",
    "- `income`:\n",
    "  - Klasse `Income` with attributes `amount` and `source`\n",
    "  - Funktion `summarize_incomes(incomes: list[Income]) -> dict[str, float]`\n",
    "    - Fasst Einkommen nach Quellen zusammen und berechnet die Gesamtsumme pro Quelle.\n",
    "  - Funktion `total_income(incomes: list[Income]) -> float`\n",
    "    - Berechnet das Gesamteinkommen."
   ]
  },
  {
   "cell_type": "markdown",
   "id": "73029284a04a41d0",
   "metadata": {
    "lang": "de",
    "slideshow": {
     "slide_type": "subslide"
    },
    "tags": [
     "subslide"
    ]
   },
   "source": [
    "\n",
    "- `analytics.reporting`:\n",
    "  - Funktion `print_financial_report(incomes: list[Income], expenses:\n",
    "    list[Expense]) -> None`\n",
    "    - Druckt folgende Informationen aus:\n",
    "      - Einnahmen pro Quelle\n",
    "      - Ausgaben pro Kategorie\n",
    "      - Gesamteinnahmen und -ausgaben.\n",
    "      - Überschuss oder Defizit."
   ]
  },
  {
   "cell_type": "markdown",
   "id": "3126ba1ebd85d23f",
   "metadata": {
    "lang": "de",
    "slideshow": {
     "slide_type": "subslide"
    },
    "tags": [
     "subslide"
    ]
   },
   "source": [
    "\n",
    "- `analytics.budget`:\n",
    "  - Klasse `Budget` mit Attribut `limit`\n",
    "    - Methode `can_afford(expenses: list[Expense]) -> bool`\n",
    "      - Überprüft, ob die Gesamtausgaben innerhalb des Budgets liegen."
   ]
  },
  {
   "cell_type": "markdown",
   "id": "d0b4c054656b7334",
   "metadata": {
    "lang": "de",
    "slideshow": {
     "slide_type": "subslide"
    },
    "tags": [
     "subslide"
    ]
   },
   "source": [
    "\n",
    "Fügen Sie ein Modul `main` hinzu, die die Funktionalität des Programms testet,\n",
    "indem Sie Listen von Einnahmen und Ausgaben, sowie ein Budget erstellt,\n",
    "überprüft ob die Ausgaben im Budget liegen und einen Finanzbericht generiert."
   ]
  },
  {
   "cell_type": "markdown",
   "id": "3093e51b8941ace0",
   "metadata": {
    "lang": "de",
    "slideshow": {
     "slide_type": "subslide"
    },
    "tags": [
     "subslide"
    ]
   },
   "source": [
    "\n",
    "### Paketreferenzen und Abhängigkeiten\n",
    "\n",
    "Dabei benötigen Sie folgende Abhängigkeiten zwischen Modulen:\n",
    "\n",
    "- `analytics.budget` muss auf `expenses` zugreifen, um die Daten für die\n",
    "  Budgetanalyse zu erhalten.\n",
    "- `analytics.reporting` muss auf `income` und `expenses` zugreifen, um die\n",
    "  Finanzberichte zu erstellen.\n",
    "- `main` muss auf alle Module (`income`, `expenses`, `analytics.budget`,\n",
    "  `analytics.reporting`) zugreifen.\n",
    "\n",
    "*Hinweis:* Die Abhängigkeiten zwischen den Modulen dienen dazu, die\n",
    "verschiedenen Import-Möglichkeiten zu demonstrieren. Sie sind nicht unbedingt\n",
    "das beste Beispiel för die Organisation von Funktionalität in Python."
   ]
  },
  {
   "cell_type": "markdown",
   "id": "13a935b48b1014da",
   "metadata": {
    "lang": "de",
    "slideshow": {
     "slide_type": "subslide"
    },
    "tags": [
     "subslide"
    ]
   },
   "source": [
    "\n",
    "### Ausführen des Programms\n",
    "\n",
    "Im dem Verzeichnis, in dem sich das `finance` Paket befindet, können Sie das\n",
    "Programm mit dem Befehl `python -m finance.main` ausführen:"
   ]
  },
  {
   "cell_type": "code",
   "execution_count": null,
   "id": "14c6ab415e4fa505",
   "metadata": {
    "tags": [
     "keep"
    ]
   },
   "outputs": [],
   "source": [
    "# !python -m finance.main"
   ]
  },
  {
   "cell_type": "code",
   "execution_count": null,
   "id": "97a455af51d0a8ca",
   "metadata": {
    "tags": [
     "keep"
    ]
   },
   "outputs": [],
   "source": [
    "# import finance.main"
   ]
  },
  {
   "cell_type": "code",
   "execution_count": null,
   "id": "bc43394ba83f8874",
   "metadata": {
    "tags": [
     "keep"
    ]
   },
   "outputs": [],
   "source": [
    "# finance.main.main()"
   ]
  }
 ],
 "metadata": {
  "jupytext": {
   "cell_metadata_filter": "tags,lang,-all",
   "main_language": "python",
   "notebook_metadata_filter": "-all"
  },
  "kernelspec": {
   "display_name": "Python 3 (ipykernel)",
   "language": "python",
   "name": "python3"
  },
  "language_info": {
   "codemirror_mode": {
    "name": "ipython",
    "version": 3
   },
   "file_extension": ".py",
   "mimetype": "text/x-python",
   "name": "python",
   "nbconvert_exporter": "python",
   "pygments_lexer": "ipython3"
  }
 },
 "nbformat": 4,
 "nbformat_minor": 5
}
