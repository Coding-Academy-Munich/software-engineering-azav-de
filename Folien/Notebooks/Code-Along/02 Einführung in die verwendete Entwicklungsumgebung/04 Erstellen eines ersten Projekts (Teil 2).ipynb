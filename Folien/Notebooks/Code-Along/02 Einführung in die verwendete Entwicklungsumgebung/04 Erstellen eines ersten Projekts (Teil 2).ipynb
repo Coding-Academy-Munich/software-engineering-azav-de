{
 "cells": [
  {
   "cell_type": "markdown",
   "id": "0bfd853e4aa6ceb1",
   "metadata": {
    "lang": "de",
    "slideshow": {
     "slide_type": "slide"
    },
    "tags": [
     "slide"
    ]
   },
   "source": [
    "\n",
    "<img src=\"data:image/svg+xml;base64,PHN2ZyB4bWxucz0iaHR0cDovL3d3dy53My5vcmcvMjAwMC9zdmciIHhtbG5zOnhsaW5rPSJodHRw\n",
    "Oi8vd3d3LnczLm9yZy8xOTk5L3hsaW5rIiB3aWR0aD0iMTExLjE2MSIgaGVpZ2h0PSIxMzQuNjY4\n",
    "IiB2ZXJzaW9uPSIxLjAiPjxkZWZzPjxsaW5lYXJHcmFkaWVudCBpZD0iYyI+PHN0b3Agb2Zmc2V0\n",
    "PSIwIiBzdHlsZT0ic3RvcC1jb2xvcjojYjhiOGI4O3N0b3Atb3BhY2l0eTouNDk4MDM5MjIiLz48\n",
    "c3RvcCBvZmZzZXQ9IjEiIHN0eWxlPSJzdG9wLWNvbG9yOiM3ZjdmN2Y7c3RvcC1vcGFjaXR5OjAi\n",
    "Lz48L2xpbmVhckdyYWRpZW50PjxsaW5lYXJHcmFkaWVudCBpZD0iYSI+PHN0b3Agb2Zmc2V0PSIw\n",
    "IiBzdHlsZT0ic3RvcC1jb2xvcjojZmZkNDNiO3N0b3Atb3BhY2l0eToxIi8+PHN0b3Agb2Zmc2V0\n",
    "PSIxIiBzdHlsZT0ic3RvcC1jb2xvcjojZmZlODczO3N0b3Atb3BhY2l0eToxIi8+PC9saW5lYXJH\n",
    "cmFkaWVudD48bGluZWFyR3JhZGllbnQgaWQ9ImIiPjxzdG9wIG9mZnNldD0iMCIgc3R5bGU9InN0\n",
    "b3AtY29sb3I6IzVhOWZkNDtzdG9wLW9wYWNpdHk6MSIvPjxzdG9wIG9mZnNldD0iMSIgc3R5bGU9\n",
    "InN0b3AtY29sb3I6IzMwNjk5ODtzdG9wLW9wYWNpdHk6MSIvPjwvbGluZWFyR3JhZGllbnQ+PGxp\n",
    "bmVhckdyYWRpZW50IHhsaW5rOmhyZWY9IiNhIiBpZD0iZSIgeDE9IjE1MC45NjEiIHgyPSIxMTIu\n",
    "MDMxIiB5MT0iMTkyLjM1MiIgeTI9IjEzNy4yNzMiIGdyYWRpZW50VHJhbnNmb3JtPSJtYXRyaXgo\n",
    "LjU2MjU0IDAgMCAuNTY3OTcgLTE0Ljk5MSAtMTEuNzAyKSIgZ3JhZGllbnRVbml0cz0idXNlclNw\n",
    "YWNlT25Vc2UiLz48bGluZWFyR3JhZGllbnQgeGxpbms6aHJlZj0iI2IiIGlkPSJkIiB4MT0iMjYu\n",
    "NjQ5IiB4Mj0iMTM1LjY2NSIgeTE9IjIwLjYwNCIgeTI9IjExNC4zOTgiIGdyYWRpZW50VHJhbnNm\n",
    "b3JtPSJtYXRyaXgoLjU2MjU0IDAgMCAuNTY3OTcgLTE0Ljk5MSAtMTEuNzAyKSIgZ3JhZGllbnRV\n",
    "bml0cz0idXNlclNwYWNlT25Vc2UiLz48cmFkaWFsR3JhZGllbnQgeGxpbms6aHJlZj0iI2MiIGlk\n",
    "PSJmIiBjeD0iNjEuNTE5IiBjeT0iMTMyLjI4NiIgcj0iMjkuMDM3IiBmeD0iNjEuNTE5IiBmeT0i\n",
    "MTMyLjI4NiIgZ3JhZGllbnRUcmFuc2Zvcm09Im1hdHJpeCgwIC0uMjM5OTUgMS4wNTQ2NyAwIC04\n",
    "My43IDE0Mi40NjIpIiBncmFkaWVudFVuaXRzPSJ1c2VyU3BhY2VPblVzZSIvPjwvZGVmcz48cGF0\n",
    "aCBkPSJNNTQuOTE5IDBjLTQuNTg0LjAyMi04Ljk2MS40MTMtMTIuODEzIDEuMDk1QzMwLjc2IDMu\n",
    "MDk5IDI4LjcgNy4yOTUgMjguNyAxNS4wMzJ2MTAuMjE5aDI2LjgxM3YzLjQwNkgxOC42MzhjLTcu\n",
    "NzkzIDAtMTQuNjE2IDQuNjg0LTE2Ljc1IDEzLjU5NC0yLjQ2MiAxMC4yMTMtMi41NzEgMTYuNTg2\n",
    "IDAgMjcuMjUgMS45MDUgNy45MzggNi40NTcgMTMuNTk0IDE0LjI1IDEzLjU5NGg5LjIxOHYtMTIu\n",
    "MjVjMC04Ljg1IDcuNjU3LTE2LjY1NyAxNi43NS0xNi42NTdoMjYuNzgyYzcuNDU0IDAgMTMuNDA2\n",
    "LTYuMTM4IDEzLjQwNi0xMy42MjV2LTI1LjUzYzAtNy4yNjctNi4xMy0xMi43MjYtMTMuNDA2LTEz\n",
    "LjkzOEM2NC4yODIuMzI4IDU5LjUwMi0uMDIgNTQuOTE4IDBtLTE0LjUgOC4yMmMyLjc3IDAgNS4w\n",
    "MzEgMi4yOTggNS4wMzEgNS4xMjUgMCAyLjgxNi0yLjI2MiA1LjA5My01LjAzMSA1LjA5My0yLjc4\n",
    "IDAtNS4wMzEtMi4yNzctNS4wMzEtNS4wOTMgMC0yLjgyNyAyLjI1MS01LjEyNSA1LjAzLTUuMTI1\n",
    "IiBzdHlsZT0iZmlsbDp1cmwoI2QpO2ZpbGwtb3BhY2l0eToxIi8+PHBhdGggZD0iTTg1LjYzOCAy\n",
    "OC42NTd2MTEuOTA2YzAgOS4yMzEtNy44MjYgMTctMTYuNzUgMTdINDIuMTA2Yy03LjMzNiAwLTEz\n",
    "LjQwNiA2LjI3OS0xMy40MDYgMTMuNjI1Vjk2LjcyYzAgNy4yNjYgNi4zMTkgMTEuNTQgMTMuNDA2\n",
    "IDEzLjYyNSA4LjQ4OCAyLjQ5NSAxNi42MjcgMi45NDYgMjYuNzgyIDAgNi43NS0xLjk1NSAxMy40\n",
    "MDYtNS44ODggMTMuNDA2LTEzLjYyNVY4Ni41SDU1LjUxM3YtMy40MDVIOTUuN2M3Ljc5MyAwIDEw\n",
    "LjY5Ni01LjQzNiAxMy40MDYtMTMuNTk0IDIuOC04LjM5OSAyLjY4LTE2LjQ3NiAwLTI3LjI1LTEu\n",
    "OTI1LTcuNzU4LTUuNjA0LTEzLjU5NC0xMy40MDYtMTMuNTk0ek03MC41NzUgOTMuMzEzYzIuNzgg\n",
    "MCA1LjAzMSAyLjI3OCA1LjAzMSA1LjA5NCAwIDIuODI3LTIuMjUxIDUuMTI1LTUuMDMxIDUuMTI1\n",
    "LTIuNzcgMC01LjAzMS0yLjI5OC01LjAzMS01LjEyNSAwLTIuODE2IDIuMjYxLTUuMDk0IDUuMDMx\n",
    "LTUuMDk0IiBzdHlsZT0iZmlsbDp1cmwoI2UpO2ZpbGwtb3BhY2l0eToxIi8+PGVsbGlwc2UgY3g9\n",
    "IjU1LjgxNyIgY3k9IjEyNy43MDEiIHJ4PSIzNS45MzEiIHJ5PSI2Ljk2NyIgc3R5bGU9Im9wYWNp\n",
    "dHk6LjQ0MzgyO2ZpbGw6dXJsKCNmKTtmaWxsLW9wYWNpdHk6MTtmaWxsLXJ1bGU6bm9uemVybztz\n",
    "dHJva2U6bm9uZTtzdHJva2Utd2lkdGg6MTUuNDE3NDtzdHJva2UtbWl0ZXJsaW1pdDo0O3N0cm9r\n",
    "ZS1kYXNoYXJyYXk6bm9uZTtzdHJva2Utb3BhY2l0eToxIi8+PC9zdmc+\n",
    "\"\n",
    "     style=\"display:block;margin:auto;width:10%\" alt=\"Python Logo\"/>\n",
    "<br>\n",
    "\n",
    "<div style=\"text-align:center; font-size:200%;\">\n",
    " <b>Erstellen eines ersten Projekts (Teil 2)</b>\n",
    "</div>\n",
    "<br/>\n",
    "<div style=\"text-align:center;\">Dr. Matthias Hölzl</div>\n",
    "<br/>"
   ]
  },
  {
   "cell_type": "markdown",
   "id": "9b4f398efbc4c1ae",
   "metadata": {
    "lang": "de",
    "slideshow": {
     "slide_type": "subslide"
    },
    "tags": [
     "subslide"
    ]
   },
   "source": [
    "\n",
    "## Zeichnen einer Spirale\n",
    "\n",
    "- Als eine etwas interessanteres Beispiel wollen wir eine bunte Spirale zeichnen"
   ]
  },
  {
   "cell_type": "markdown",
   "id": "94cb88409222ffec",
   "metadata": {
    "slideshow": {
     "slide_type": "subslide"
    },
    "tags": [
     "subslide",
     "solution"
    ]
   },
   "source": [
    "\n",
    "```python\n",
    "import turtle\n",
    "import random\n",
    "import math\n",
    "\n",
    "# Set up the window\n",
    "window = turtle.Screen()\n",
    "window.bgcolor(\"black\")\n",
    "\n",
    "# Create a turtle object\n",
    "t = turtle.Turtle()\n",
    "t.speed(10)  # Speed up the turtle\n",
    "t.pensize(2)  # Slightly thicker line\n",
    "\n",
    "# Create a colorful spiral\n",
    "colors = [\"red\", \"orange\", \"yellow\", \"green\", \"blue\", \"purple\"]\n",
    "size = 10\n",
    "\n",
    "# Now draw the actual spiral\n",
    "t.speed(10)\n",
    "size = 10\n",
    "for i in range(60):\n",
    "    # Change color every few steps\n",
    "    t.color(colors[i % len(colors)])\n",
    "\n",
    "    # Draw a line and turn\n",
    "    t.forward(size)\n",
    "    t.right(45)\n",
    "\n",
    "    # Increase the line length each time\n",
    "    size += 3\n",
    "\n",
    "# Hide the turtle when finished\n",
    "t.hideturtle()\n",
    "\n",
    "# Keep the window open until it's clicked\n",
    "turtle.done()\n",
    "```"
   ]
  },
  {
   "cell_type": "markdown",
   "id": "45f06eabbf254b9e",
   "metadata": {
    "lang": "de",
    "lines_to_next_cell": 2,
    "slideshow": {
     "slide_type": "subslide"
    },
    "tags": [
     "subslide"
    ]
   },
   "source": [
    "\n",
    "## Zeichnen von Sternen im Hintergrund\n",
    "\n",
    "- Wir wollen nun Sterne im Hintergrund zeichnen\n",
    "- Die Sterne sollen zufällig verteilt sein und unterschiedliche Größen haben\n",
    "- Sie sollen außerhalb der Spirale liegen\n",
    "- Wir verwenden dazu die `random` Bibliothek\n",
    "- Aufgrund des Workshops wissen wir bereits, wie wir Sterne zeichnen können\n",
    "\n",
    "Pasten Sie den folgenden Code in das Programm (vor der Zeile `t.hideturtle()`):"
   ]
  },
  {
   "cell_type": "markdown",
   "id": "2eb5a2b6ba5ee2ed",
   "metadata": {
    "slideshow": {
     "slide_type": "subslide"
    },
    "tags": [
     "subslide"
    ]
   },
   "source": [
    "\n",
    "```python\n",
    "# The approximate radius of the spiral\n",
    "spiral_radius = 300\n",
    "\n",
    "t.penup()\n",
    "t.speed(0)  # Fastest speed\n",
    "\n",
    "for _ in range(250):\n",
    "    # Generate coordinates outside the spiral area\n",
    "    for _ in range(1000):\n",
    "        x = random.randint(-500, 500)\n",
    "        y = random.randint(-500, 500)\n",
    "\n",
    "        # Calculate distance from origin\n",
    "        distance = math.sqrt(x*x + y*y)\n",
    "\n",
    "        # Check if outside the spiral area\n",
    "        if distance > spiral_radius:\n",
    "            break\n",
    "\n",
    "    t.goto(x, y)\n",
    "    t.pendown()\n",
    "\n",
    "    # Use a random color from the list\n",
    "    t.color(random.choice(colors))\n",
    "\n",
    "    # Draw stars with random sizes\n",
    "    size = random.randint(15, 30)\n",
    "    t.setheading(0)  # Reset the direction\n",
    "    for _ in range(5):\n",
    "        t.forward(size)\n",
    "        t.right(144)\n",
    "\n",
    "    t.penup()\n",
    "```"
   ]
  },
  {
   "cell_type": "markdown",
   "id": "b0b7631a1b9fc4a6",
   "metadata": {
    "lang": "de",
    "slideshow": {
     "slide_type": "subslide"
    },
    "tags": [
     "subslide"
    ]
   },
   "source": [
    "\n",
    "## Workshop: Zeichnen eines bunten Sterns\n",
    "\n",
    "- Schreiben Sie ein Python Programm, das einen bunten Stern zeichnet\n",
    "- Der Stern soll aus 5 Linien bestehen, die in unterschiedlichen Farben\n",
    "  gezeichnet werden\n",
    "- Dabei können Sie das Programm aus dem vorherigen Workshop verwenden"
   ]
  },
  {
   "cell_type": "markdown",
   "id": "adbe9261e6770e21",
   "metadata": {
    "slideshow": {
     "slide_type": "subslide"
    },
    "tags": [
     "subslide"
    ]
   },
   "source": [
    "\n",
    "```python\n",
    "import turtle\n",
    "import random\n",
    "\n",
    "# Set up the window\n",
    "window = turtle.Screen()\n",
    "window.bgcolor(\"black\")\n",
    "\n",
    "# Create a turtle object\n",
    "t = turtle.Turtle()\n",
    "\n",
    "# Set pen color\n",
    "colors = [\"red\", \"orange\", \"yellow\", \"blue\", \"purple\", \"green\"]\n",
    "\n",
    "# Set the turtle's speed\n",
    "t.speed(1)\n",
    "\n",
    "# Set the drawing pen's size\n",
    "t.pensize(5)\n",
    "\n",
    "# Draw a simple square\n",
    "for i in range(5):\n",
    "    # t.color(random.choice(colors))  # Random color\n",
    "    t.color(colors[i % len(colors)])  # Fixed sequence of colors\n",
    "    t.forward(200)  # Move forward 100 pixels\n",
    "    t.right(144)     # Turn right 144 degrees\n",
    "\n",
    "# Keep the window open until it's clicked\n",
    "turtle.done()\n",
    "````"
   ]
  }
 ],
 "metadata": {
  "jupytext": {
   "cell_metadata_filter": "lang,tags,-all",
   "main_language": "python",
   "notebook_metadata_filter": "-all"
  },
  "kernelspec": {
   "display_name": "Python 3 (ipykernel)",
   "language": "python",
   "name": "python3"
  },
  "language_info": {
   "codemirror_mode": {
    "name": "ipython",
    "version": 3
   },
   "file_extension": ".py",
   "mimetype": "text/x-python",
   "name": "python",
   "nbconvert_exporter": "python",
   "pygments_lexer": "ipython3"
  }
 },
 "nbformat": 4,
 "nbformat_minor": 5
}
