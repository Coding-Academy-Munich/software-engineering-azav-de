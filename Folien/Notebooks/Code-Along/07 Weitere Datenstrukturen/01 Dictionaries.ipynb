{
 "cells": [
  {
   "cell_type": "markdown",
   "id": "8a362941878d7c87",
   "metadata": {
    "lang": "de",
    "slideshow": {
     "slide_type": "slide"
    },
    "tags": [
     "slide"
    ]
   },
   "source": [
    "\n",
    "<img src=\"data:image/svg+xml;base64,PHN2ZyB4bWxucz0iaHR0cDovL3d3dy53My5vcmcvMjAwMC9zdmciIHhtbG5zOnhsaW5rPSJodHRw\n",
    "Oi8vd3d3LnczLm9yZy8xOTk5L3hsaW5rIiB3aWR0aD0iMTExLjE2MSIgaGVpZ2h0PSIxMzQuNjY4\n",
    "IiB2ZXJzaW9uPSIxLjAiPjxkZWZzPjxsaW5lYXJHcmFkaWVudCBpZD0iYyI+PHN0b3Agb2Zmc2V0\n",
    "PSIwIiBzdHlsZT0ic3RvcC1jb2xvcjojYjhiOGI4O3N0b3Atb3BhY2l0eTouNDk4MDM5MjIiLz48\n",
    "c3RvcCBvZmZzZXQ9IjEiIHN0eWxlPSJzdG9wLWNvbG9yOiM3ZjdmN2Y7c3RvcC1vcGFjaXR5OjAi\n",
    "Lz48L2xpbmVhckdyYWRpZW50PjxsaW5lYXJHcmFkaWVudCBpZD0iYSI+PHN0b3Agb2Zmc2V0PSIw\n",
    "IiBzdHlsZT0ic3RvcC1jb2xvcjojZmZkNDNiO3N0b3Atb3BhY2l0eToxIi8+PHN0b3Agb2Zmc2V0\n",
    "PSIxIiBzdHlsZT0ic3RvcC1jb2xvcjojZmZlODczO3N0b3Atb3BhY2l0eToxIi8+PC9saW5lYXJH\n",
    "cmFkaWVudD48bGluZWFyR3JhZGllbnQgaWQ9ImIiPjxzdG9wIG9mZnNldD0iMCIgc3R5bGU9InN0\n",
    "b3AtY29sb3I6IzVhOWZkNDtzdG9wLW9wYWNpdHk6MSIvPjxzdG9wIG9mZnNldD0iMSIgc3R5bGU9\n",
    "InN0b3AtY29sb3I6IzMwNjk5ODtzdG9wLW9wYWNpdHk6MSIvPjwvbGluZWFyR3JhZGllbnQ+PGxp\n",
    "bmVhckdyYWRpZW50IHhsaW5rOmhyZWY9IiNhIiBpZD0iZSIgeDE9IjE1MC45NjEiIHgyPSIxMTIu\n",
    "MDMxIiB5MT0iMTkyLjM1MiIgeTI9IjEzNy4yNzMiIGdyYWRpZW50VHJhbnNmb3JtPSJtYXRyaXgo\n",
    "LjU2MjU0IDAgMCAuNTY3OTcgLTE0Ljk5MSAtMTEuNzAyKSIgZ3JhZGllbnRVbml0cz0idXNlclNw\n",
    "YWNlT25Vc2UiLz48bGluZWFyR3JhZGllbnQgeGxpbms6aHJlZj0iI2IiIGlkPSJkIiB4MT0iMjYu\n",
    "NjQ5IiB4Mj0iMTM1LjY2NSIgeTE9IjIwLjYwNCIgeTI9IjExNC4zOTgiIGdyYWRpZW50VHJhbnNm\n",
    "b3JtPSJtYXRyaXgoLjU2MjU0IDAgMCAuNTY3OTcgLTE0Ljk5MSAtMTEuNzAyKSIgZ3JhZGllbnRV\n",
    "bml0cz0idXNlclNwYWNlT25Vc2UiLz48cmFkaWFsR3JhZGllbnQgeGxpbms6aHJlZj0iI2MiIGlk\n",
    "PSJmIiBjeD0iNjEuNTE5IiBjeT0iMTMyLjI4NiIgcj0iMjkuMDM3IiBmeD0iNjEuNTE5IiBmeT0i\n",
    "MTMyLjI4NiIgZ3JhZGllbnRUcmFuc2Zvcm09Im1hdHJpeCgwIC0uMjM5OTUgMS4wNTQ2NyAwIC04\n",
    "My43IDE0Mi40NjIpIiBncmFkaWVudFVuaXRzPSJ1c2VyU3BhY2VPblVzZSIvPjwvZGVmcz48cGF0\n",
    "aCBkPSJNNTQuOTE5IDBjLTQuNTg0LjAyMi04Ljk2MS40MTMtMTIuODEzIDEuMDk1QzMwLjc2IDMu\n",
    "MDk5IDI4LjcgNy4yOTUgMjguNyAxNS4wMzJ2MTAuMjE5aDI2LjgxM3YzLjQwNkgxOC42MzhjLTcu\n",
    "NzkzIDAtMTQuNjE2IDQuNjg0LTE2Ljc1IDEzLjU5NC0yLjQ2MiAxMC4yMTMtMi41NzEgMTYuNTg2\n",
    "IDAgMjcuMjUgMS45MDUgNy45MzggNi40NTcgMTMuNTk0IDE0LjI1IDEzLjU5NGg5LjIxOHYtMTIu\n",
    "MjVjMC04Ljg1IDcuNjU3LTE2LjY1NyAxNi43NS0xNi42NTdoMjYuNzgyYzcuNDU0IDAgMTMuNDA2\n",
    "LTYuMTM4IDEzLjQwNi0xMy42MjV2LTI1LjUzYzAtNy4yNjctNi4xMy0xMi43MjYtMTMuNDA2LTEz\n",
    "LjkzOEM2NC4yODIuMzI4IDU5LjUwMi0uMDIgNTQuOTE4IDBtLTE0LjUgOC4yMmMyLjc3IDAgNS4w\n",
    "MzEgMi4yOTggNS4wMzEgNS4xMjUgMCAyLjgxNi0yLjI2MiA1LjA5My01LjAzMSA1LjA5My0yLjc4\n",
    "IDAtNS4wMzEtMi4yNzctNS4wMzEtNS4wOTMgMC0yLjgyNyAyLjI1MS01LjEyNSA1LjAzLTUuMTI1\n",
    "IiBzdHlsZT0iZmlsbDp1cmwoI2QpO2ZpbGwtb3BhY2l0eToxIi8+PHBhdGggZD0iTTg1LjYzOCAy\n",
    "OC42NTd2MTEuOTA2YzAgOS4yMzEtNy44MjYgMTctMTYuNzUgMTdINDIuMTA2Yy03LjMzNiAwLTEz\n",
    "LjQwNiA2LjI3OS0xMy40MDYgMTMuNjI1Vjk2LjcyYzAgNy4yNjYgNi4zMTkgMTEuNTQgMTMuNDA2\n",
    "IDEzLjYyNSA4LjQ4OCAyLjQ5NSAxNi42MjcgMi45NDYgMjYuNzgyIDAgNi43NS0xLjk1NSAxMy40\n",
    "MDYtNS44ODggMTMuNDA2LTEzLjYyNVY4Ni41SDU1LjUxM3YtMy40MDVIOTUuN2M3Ljc5MyAwIDEw\n",
    "LjY5Ni01LjQzNiAxMy40MDYtMTMuNTk0IDIuOC04LjM5OSAyLjY4LTE2LjQ3NiAwLTI3LjI1LTEu\n",
    "OTI1LTcuNzU4LTUuNjA0LTEzLjU5NC0xMy40MDYtMTMuNTk0ek03MC41NzUgOTMuMzEzYzIuNzgg\n",
    "MCA1LjAzMSAyLjI3OCA1LjAzMSA1LjA5NCAwIDIuODI3LTIuMjUxIDUuMTI1LTUuMDMxIDUuMTI1\n",
    "LTIuNzcgMC01LjAzMS0yLjI5OC01LjAzMS01LjEyNSAwLTIuODE2IDIuMjYxLTUuMDk0IDUuMDMx\n",
    "LTUuMDk0IiBzdHlsZT0iZmlsbDp1cmwoI2UpO2ZpbGwtb3BhY2l0eToxIi8+PGVsbGlwc2UgY3g9\n",
    "IjU1LjgxNyIgY3k9IjEyNy43MDEiIHJ4PSIzNS45MzEiIHJ5PSI2Ljk2NyIgc3R5bGU9Im9wYWNp\n",
    "dHk6LjQ0MzgyO2ZpbGw6dXJsKCNmKTtmaWxsLW9wYWNpdHk6MTtmaWxsLXJ1bGU6bm9uemVybztz\n",
    "dHJva2U6bm9uZTtzdHJva2Utd2lkdGg6MTUuNDE3NDtzdHJva2UtbWl0ZXJsaW1pdDo0O3N0cm9r\n",
    "ZS1kYXNoYXJyYXk6bm9uZTtzdHJva2Utb3BhY2l0eToxIi8+PC9zdmc+\n",
    "\"\n",
    "     style=\"display:block;margin:auto;width:10%\" alt=\"Python Logo\"/>\n",
    "<br>\n",
    "\n",
    "<div style=\"text-align:center; font-size:200%;\">\n",
    " <b>Dictionaries</b>\n",
    "</div>\n",
    "<br/>\n",
    "<div style=\"text-align:center;\">Dr. Matthias Hölzl</div>\n",
    "<br/>"
   ]
  },
  {
   "cell_type": "markdown",
   "id": "7feb959df3c625ba",
   "metadata": {
    "lang": "de",
    "slideshow": {
     "slide_type": "subslide"
    },
    "tags": [
     "subslide"
    ]
   },
   "source": [
    "\n",
    "# Dictionaries\n",
    "\n",
    "- Dictionaries sind eine Datenstruktur, die Schlüssel (Keys) auf Werte abbildet\n",
    "- Für Keys sind viele Typen möglich:\n",
    "  - Integer-Werte\n",
    "  - Strings\n",
    "  - Tupel\n",
    "  - ...\n",
    "- Modifizierbare Objekte, wie z.B. Listen, können nicht als Schlüssel verwendet werden\n",
    "- Werte können beliebige Python Objekte sein\n",
    "- Die Einträge in einem Dictionary sind nicht in einer bestimmten Reihenfolge\n",
    "  angeordnet\n",
    "- Einträge können hinzugefügt, gelöscht und modifiziert werden."
   ]
  },
  {
   "cell_type": "markdown",
   "id": "249a41a88ad0d8ea",
   "metadata": {
    "lang": "de",
    "slideshow": {
     "slide_type": "subslide"
    },
    "tags": [
     "subslide"
    ]
   },
   "source": [
    "\n",
    "### Leeres Dictionary:"
   ]
  },
  {
   "cell_type": "code",
   "execution_count": null,
   "id": "9661d47169c2d801",
   "metadata": {},
   "outputs": [],
   "source": []
  },
  {
   "cell_type": "code",
   "execution_count": null,
   "id": "1afcb5c27678656c",
   "metadata": {},
   "outputs": [],
   "source": []
  },
  {
   "cell_type": "markdown",
   "id": "666e5c7bc282a08b",
   "metadata": {
    "lang": "de",
    "slideshow": {
     "slide_type": "subslide"
    },
    "tags": [
     "subslide"
    ]
   },
   "source": [
    "\n",
    "## Dictionary mit String-Keys:"
   ]
  },
  {
   "cell_type": "code",
   "execution_count": null,
   "id": "49c39ee1946af49e",
   "metadata": {
    "tags": [
     "keep"
    ]
   },
   "outputs": [],
   "source": [
    "translations = {\"snake\": \"Schlange\", \"bat\": \"Fledermaus\", \"horse\": \"Hose\"}\n",
    "translations"
   ]
  },
  {
   "cell_type": "code",
   "execution_count": null,
   "id": "28a9621329092a72",
   "metadata": {},
   "outputs": [],
   "source": []
  },
  {
   "cell_type": "code",
   "execution_count": null,
   "id": "e3d8ea389125b7b4",
   "metadata": {},
   "outputs": [],
   "source": []
  },
  {
   "cell_type": "markdown",
   "id": "c461141a1df8a6a8",
   "metadata": {
    "lang": "de",
    "slideshow": {
     "slide_type": "subslide"
    },
    "tags": [
     "subslide"
    ]
   },
   "source": [
    "\n",
    "### Zugriff mit Default-Wert"
   ]
  },
  {
   "cell_type": "code",
   "execution_count": null,
   "id": "cc17348d96ac625c",
   "metadata": {
    "tags": [
     "keep"
    ]
   },
   "outputs": [],
   "source": [
    "translations = {\"snake\": \"Schlange\", \"bat\": \"Fledermaus\", \"horse\": \"Hose\"}"
   ]
  },
  {
   "cell_type": "code",
   "execution_count": null,
   "id": "0b714e9791648d2f",
   "metadata": {},
   "outputs": [],
   "source": []
  },
  {
   "cell_type": "code",
   "execution_count": null,
   "id": "fa5b9261f10d3538",
   "metadata": {},
   "outputs": [],
   "source": []
  },
  {
   "cell_type": "code",
   "execution_count": null,
   "id": "ba32f48093a65854",
   "metadata": {},
   "outputs": [],
   "source": []
  },
  {
   "cell_type": "code",
   "execution_count": null,
   "id": "c127c0383492b42b",
   "metadata": {},
   "outputs": [],
   "source": []
  },
  {
   "cell_type": "code",
   "execution_count": null,
   "id": "06fbda24857a2041",
   "metadata": {},
   "outputs": [],
   "source": []
  },
  {
   "cell_type": "markdown",
   "id": "66ef8734fbc12a3c",
   "metadata": {
    "lang": "de",
    "slideshow": {
     "slide_type": "subslide"
    },
    "tags": [
     "subslide"
    ]
   },
   "source": [
    "\n",
    "### Modifikation von Elementen"
   ]
  },
  {
   "cell_type": "code",
   "execution_count": null,
   "id": "00b291f8d19fd548",
   "metadata": {
    "tags": [
     "keep"
    ]
   },
   "outputs": [],
   "source": [
    "translations = {\"snake\": \"Schlange\", \"bat\": \"Fledermaus\", \"horse\": \"Hose\"}\n",
    "translations"
   ]
  },
  {
   "cell_type": "code",
   "execution_count": null,
   "id": "b45ea9f500b31406",
   "metadata": {},
   "outputs": [],
   "source": []
  },
  {
   "cell_type": "code",
   "execution_count": null,
   "id": "6a76ee21c9164f36",
   "metadata": {},
   "outputs": [],
   "source": []
  },
  {
   "cell_type": "markdown",
   "id": "d5121298160dcdf6",
   "metadata": {
    "lang": "de",
    "slideshow": {
     "slide_type": "subslide"
    },
    "tags": [
     "subslide"
    ]
   },
   "source": [
    "\n",
    "### Update mit Default-Wert"
   ]
  },
  {
   "cell_type": "code",
   "execution_count": null,
   "id": "8165cad85dee949b",
   "metadata": {
    "tags": [
     "keep"
    ]
   },
   "outputs": [],
   "source": [
    "translations = {\"snake\": \"Schlange\", \"bat\": \"Fledermaus\", \"horse\": \"Pferd\"}\n",
    "translations"
   ]
  },
  {
   "cell_type": "code",
   "execution_count": null,
   "id": "abaf201f3b474b07",
   "metadata": {},
   "outputs": [],
   "source": []
  },
  {
   "cell_type": "code",
   "execution_count": null,
   "id": "b94582a45275bef8",
   "metadata": {},
   "outputs": [],
   "source": []
  },
  {
   "cell_type": "code",
   "execution_count": null,
   "id": "36ea0395ce62bbad",
   "metadata": {
    "slideshow": {
     "slide_type": "subslide"
    },
    "tags": [
     "keep",
     "subslide"
    ]
   },
   "outputs": [],
   "source": [
    "translations = {\"snake\": \"Schlange\", \"bat\": \"Fledermaus\", \"horse\": \"Pferd\"}\n",
    "translations"
   ]
  },
  {
   "cell_type": "code",
   "execution_count": null,
   "id": "aef6720705db14eb",
   "metadata": {},
   "outputs": [],
   "source": []
  },
  {
   "cell_type": "code",
   "execution_count": null,
   "id": "ed73865df736e2e1",
   "metadata": {},
   "outputs": [],
   "source": []
  },
  {
   "cell_type": "code",
   "execution_count": null,
   "id": "f9aec85103ece86c",
   "metadata": {},
   "outputs": [],
   "source": []
  },
  {
   "cell_type": "code",
   "execution_count": null,
   "id": "386483e238d6dbe0",
   "metadata": {},
   "outputs": [],
   "source": []
  },
  {
   "cell_type": "markdown",
   "id": "5101d96fb9beb5cb",
   "metadata": {
    "lang": "de",
    "slideshow": {
     "slide_type": "slide"
    },
    "tags": [
     "slide"
    ]
   },
   "source": [
    "\n",
    "## Mini-Workshop: Secondhand Verkauf\n",
    "\n",
    "Sie beschließen nicht mehr benötigte Kleidung bei einem Secondhand-Shop zu verkaufen.\n",
    "Um zu berechnen, wie hoch die Einnahmen sein werden,\n",
    "schreiben Sie eine Funktion\n",
    "`gesamtpreis(kleidungsstücke: list, preise: dict) -> float`:\n",
    "\n",
    "- `kleidungsstücke` ist eine Liste mit allen Kleidungsstücken, die Sie verkaufen\n",
    "  wollen, z.B.\n",
    "  ```python\n",
    "  [\"Wintermantel\", \"Cordhose\", \"Smoking\"]\n",
    "  ```\n",
    "- `preise` ist ein Dictionary mit den Preisen, die der Händler für jedes\n",
    "  Kleidungsstück bezahlt, z.B.\n",
    "  ```python\n",
    "  {\"Wintermantel\": 80, \"Smoking\": 40}\n",
    "  ```\n",
    "- Die Funktion `gesamtpreis()` gibt den Betrag zurück, den Ihnen der Händler für\n",
    "  die Kleidungsstücke in `kleidungsstücke` bezahlt.\n",
    "- Wenn in `kleidungsstücke` Einträge sind, die nicht in `preise` vorkommen,\n",
    "  dann kauft der Händler diese Kleidungsstücke nicht und Sie bekommen 0 Euro dafür."
   ]
  },
  {
   "cell_type": "code",
   "execution_count": null,
   "id": "72fdebfb35156509",
   "metadata": {
    "lang": "de"
   },
   "outputs": [],
   "source": []
  },
  {
   "cell_type": "code",
   "execution_count": null,
   "id": "d5d8bc2be4a88be1",
   "metadata": {
    "lang": "de",
    "tags": [
     "keep"
    ]
   },
   "outputs": [],
   "source": [
    "alte_kleidung = [\"Wintermantel\", \"Cordhose\", \"Smoking\"]\n",
    "secondhand_preise = {\"Wintermantel\": 80, \"Smoking\": 40}"
   ]
  },
  {
   "cell_type": "code",
   "execution_count": null,
   "id": "af90634a9edfafa5",
   "metadata": {
    "lang": "de",
    "tags": [
     "keep"
    ]
   },
   "outputs": [],
   "source": [
    "assert gesamtpreis(alte_kleidung, secondhand_preise) == 120\n",
    "assert gesamtpreis(alte_kleidung + [\"Smoking\"], secondhand_preise) == 160"
   ]
  },
  {
   "cell_type": "markdown",
   "id": "8e2dfdb277a43365",
   "metadata": {
    "lang": "de",
    "slideshow": {
     "slide_type": "subslide"
    },
    "tags": [
     "subslide"
    ]
   },
   "source": [
    "## Vorbereitung für den nächsten Workshop"
   ]
  },
  {
   "cell_type": "code",
   "execution_count": null,
   "id": "661dd957910230d3",
   "metadata": {
    "tags": [
     "keep"
    ]
   },
   "outputs": [],
   "source": [
    "advice = \"Don't worry be happy\""
   ]
  },
  {
   "cell_type": "code",
   "execution_count": null,
   "id": "ba4729fdf8cd4955",
   "metadata": {
    "tags": [
     "keep"
    ]
   },
   "outputs": [],
   "source": [
    "words = advice.split()"
   ]
  },
  {
   "cell_type": "code",
   "execution_count": null,
   "id": "802e9423a1969933",
   "metadata": {
    "tags": [
     "keep"
    ]
   },
   "outputs": [],
   "source": [
    "\" \".join(words)"
   ]
  },
  {
   "cell_type": "code",
   "execution_count": null,
   "id": "c858f0722348fbce",
   "metadata": {
    "lines_to_next_cell": 2,
    "tags": [
     "keep"
    ]
   },
   "outputs": [],
   "source": [
    "smileys = {\"worry\": \"\\U0001f61f\", \"happy\": \"\\U0001f600\"}"
   ]
  },
  {
   "cell_type": "markdown",
   "id": "b64813f251811656",
   "metadata": {
    "lang": "de",
    "slideshow": {
     "slide_type": "subslide"
    },
    "tags": [
     "subslide"
    ]
   },
   "source": [
    "## Mini-Workshop\n",
    "\n",
    "Schreiben Sie eine Funktion `replace_words(text: str, replacements: dict)`, die alle\n",
    "Wörter, die in `dict` als Key vorkommen durch ihren Wert in `dict` ersetzen.\n",
    "\n",
    "```python\n",
    ">>> replace_words(advice, smileys)\n",
    "\"Don't 😟 be 😀\"\n",
    "```"
   ]
  },
  {
   "cell_type": "markdown",
   "id": "ab88383e330eabed",
   "metadata": {
    "lang": "de",
    "slideshow": {
     "slide_type": "subslide"
    },
    "tags": [
     "subslide"
    ]
   },
   "source": [
    "\n",
    "### Hinweise\n",
    "\n",
    "- Splitten Sie `text` in eine Liste `words` aus einzelnen Wörtern\n",
    "\n",
    "- Erzeugen Sie eine neue leere Liste `new_words`\n",
    "\n",
    "- Iterieren Sie über `words` und fügen Sie jedes Wort, das nicht im Wörterbuch\n",
    "  vorkommt unverändert an `new_words` an; fügen Sie für jedes Wort, das im Wörterbuch\n",
    "  vorkommt seine Übersetzung an\n",
    "\n",
    "- Fügen Sie `new_words` mit der `join()`-Methode zu einem String zusammen"
   ]
  },
  {
   "cell_type": "code",
   "execution_count": null,
   "id": "1bdf89dcff5ce2db",
   "metadata": {
    "slideshow": {
     "slide_type": "subslide"
    },
    "tags": [
     "subslide"
    ]
   },
   "outputs": [],
   "source": []
  },
  {
   "cell_type": "code",
   "execution_count": null,
   "id": "ea544a8a8e90c4cf",
   "metadata": {
    "tags": [
     "keep"
    ]
   },
   "outputs": [],
   "source": [
    "assert replace_words(advice, smileys) == \"Don't 😟 be 😀\""
   ]
  },
  {
   "cell_type": "code",
   "execution_count": null,
   "id": "e2d9516c1c956e2b",
   "metadata": {
    "tags": [
     "keep"
    ]
   },
   "outputs": [],
   "source": [
    "assert replace_words(\"happy happy\", smileys) == \"😀 😀\""
   ]
  },
  {
   "cell_type": "markdown",
   "id": "abd27fb26d4f1f42",
   "metadata": {
    "lang": "de",
    "slideshow": {
     "slide_type": "slide"
    },
    "tags": [
     "slide"
    ]
   },
   "source": [
    "\n",
    "## Mini-Workshop \"Inverser Index\"\n",
    "\n",
    "Schreiben Sie eine Funktion `first_index(a_list: list) -> dict`, die ein Dictionary\n",
    "`d` zurückgibt, für das gilt:\n",
    "\n",
    "- Die Schlüssel in `d` sind alle in `a_list` vorkommenden Werte\n",
    "- Für jeden Wert `elt`, der in `a_list` enthalten ist, ist der Wert von `d[elt]`\n",
    "  der erste Index, an dem `elt` in `a_list` vorkommt\n",
    "\n",
    "```python\n",
    ">>> first_index([\"a\", \"b\", \"b\"])\n",
    "{'a': 0, 'b': 1}\n",
    "```\n",
    "\n",
    "*Hinweis:* Eine einfache Lösung verwendet die Funktion `enumerate()`.\n",
    "\n",
    "Stellen Sie sicher, dass Ihre Lösung die vorgegebenen Tests erfüllt."
   ]
  },
  {
   "cell_type": "code",
   "execution_count": null,
   "id": "9399dc99fe9f906a",
   "metadata": {
    "slideshow": {
     "slide_type": "subslide"
    },
    "tags": [
     "subslide"
    ]
   },
   "outputs": [],
   "source": []
  },
  {
   "cell_type": "code",
   "execution_count": null,
   "id": "c0f3645ad40ce98d",
   "metadata": {
    "slideshow": {
     "slide_type": "subslide"
    },
    "tags": [
     "keep",
     "subslide"
    ]
   },
   "outputs": [],
   "source": [
    "example_values = [\"a\", \"b\", \"c\", \"b\", \"a\", \"c\", \"a\"]"
   ]
  },
  {
   "cell_type": "code",
   "execution_count": null,
   "id": "7f195e8acf8fcab5",
   "metadata": {
    "tags": [
     "keep"
    ]
   },
   "outputs": [],
   "source": [
    "ii = first_index(example_values)"
   ]
  },
  {
   "cell_type": "code",
   "execution_count": null,
   "id": "47c227edfa22cd80",
   "metadata": {
    "tags": [
     "keep"
    ]
   },
   "outputs": [],
   "source": [
    "assert ii[\"a\"] == 0"
   ]
  },
  {
   "cell_type": "code",
   "execution_count": null,
   "id": "341ef91346edf650",
   "metadata": {
    "tags": [
     "keep"
    ]
   },
   "outputs": [],
   "source": [
    "assert ii[\"b\"] == 1"
   ]
  },
  {
   "cell_type": "code",
   "execution_count": null,
   "id": "8f62eb9cfc249016",
   "metadata": {
    "tags": [
     "keep"
    ]
   },
   "outputs": [],
   "source": [
    "assert ii[\"c\"] == 2"
   ]
  },
  {
   "cell_type": "code",
   "execution_count": null,
   "id": "439069337ff03b46",
   "metadata": {
    "tags": [
     "keep"
    ]
   },
   "outputs": [],
   "source": [
    "assert ii.get(\"d\") is None"
   ]
  },
  {
   "cell_type": "markdown",
   "id": "723c48a0ce2aeae1",
   "metadata": {
    "lang": "de",
    "lines_to_next_cell": 2,
    "slideshow": {
     "slide_type": "subslide"
    },
    "tags": [
     "subslide"
    ]
   },
   "source": [
    "\n",
    "Schreiben Sie eine Funktion `inverse_index(a_list: list) -> dict`, die ein Dictionary\n",
    "`d` zurückgibt, für das gilt:\n",
    "\n",
    "- Die Schlüssel in `d` sind alle in `a_list` vorkommenden Werte\n",
    "- Für jeden Wert `elt`, der in `a_list` enthalten ist, ist der Wert von `d[elt]`\n",
    "  die Liste mit allen Indizes, an dem `elt` in `a_list` vorkommt\n",
    "\n",
    "```python\n",
    ">>> inverse_index([\"a\", \"b\", \"b\"])\n",
    "{'a': [0], 'b': [1, 2]}\n",
    "```"
   ]
  },
  {
   "cell_type": "code",
   "execution_count": null,
   "id": "accd043217e5632c",
   "metadata": {
    "slideshow": {
     "slide_type": "subslide"
    },
    "tags": [
     "subslide"
    ]
   },
   "outputs": [],
   "source": []
  },
  {
   "cell_type": "code",
   "execution_count": null,
   "id": "7e947d86fcb540b1",
   "metadata": {
    "slideshow": {
     "slide_type": "subslide"
    },
    "tags": [
     "keep",
     "subslide"
    ]
   },
   "outputs": [],
   "source": [
    "example_values = [\"a\", \"b\", \"c\", \"b\", \"a\", \"c\", \"a\"]"
   ]
  },
  {
   "cell_type": "code",
   "execution_count": null,
   "id": "00c344ac766c20e1",
   "metadata": {
    "tags": [
     "keep"
    ]
   },
   "outputs": [],
   "source": [
    "ii = inverse_index(example_values)"
   ]
  },
  {
   "cell_type": "code",
   "execution_count": null,
   "id": "63ae3bd99ebcb58f",
   "metadata": {
    "tags": [
     "keep"
    ]
   },
   "outputs": [],
   "source": [
    "assert ii[\"a\"] == [0, 4, 6]"
   ]
  },
  {
   "cell_type": "code",
   "execution_count": null,
   "id": "5fce4413a7eeefc8",
   "metadata": {
    "tags": [
     "keep"
    ]
   },
   "outputs": [],
   "source": [
    "assert ii[\"b\"] == [1, 3]"
   ]
  },
  {
   "cell_type": "code",
   "execution_count": null,
   "id": "9468b868530e4517",
   "metadata": {
    "tags": [
     "keep"
    ]
   },
   "outputs": [],
   "source": [
    "assert ii[\"c\"] == [2, 5]"
   ]
  },
  {
   "cell_type": "code",
   "execution_count": null,
   "id": "50fad359423329d2",
   "metadata": {
    "lines_to_next_cell": 2,
    "tags": [
     "keep"
    ]
   },
   "outputs": [],
   "source": [
    "assert ii.get(\"d\") is None"
   ]
  }
 ],
 "metadata": {
  "jupytext": {
   "cell_metadata_filter": "tags,lang,-all",
   "main_language": "python",
   "notebook_metadata_filter": "-all"
  },
  "kernelspec": {
   "display_name": "Python 3 (ipykernel)",
   "language": "python",
   "name": "python3"
  },
  "language_info": {
   "codemirror_mode": {
    "name": "ipython",
    "version": 3
   },
   "file_extension": ".py",
   "mimetype": "text/x-python",
   "name": "python",
   "nbconvert_exporter": "python",
   "pygments_lexer": "ipython3"
  }
 },
 "nbformat": 4,
 "nbformat_minor": 5
}
