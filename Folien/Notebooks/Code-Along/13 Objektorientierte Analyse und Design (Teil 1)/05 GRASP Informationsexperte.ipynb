{
 "cells": [
  {
   "cell_type": "markdown",
   "id": "ca1ad3dd184ac018",
   "metadata": {
    "lang": "de",
    "slideshow": {
     "slide_type": "slide"
    },
    "tags": [
     "slide"
    ]
   },
   "source": [
    "\n",
    "<img src=\"data:image/svg+xml;base64,PHN2ZyB4bWxucz0iaHR0cDovL3d3dy53My5vcmcvMjAwMC9zdmciIHhtbG5zOnhsaW5rPSJodHRw\n",
    "Oi8vd3d3LnczLm9yZy8xOTk5L3hsaW5rIiB3aWR0aD0iMTExLjE2MSIgaGVpZ2h0PSIxMzQuNjY4\n",
    "IiB2ZXJzaW9uPSIxLjAiPjxkZWZzPjxsaW5lYXJHcmFkaWVudCBpZD0iYyI+PHN0b3Agb2Zmc2V0\n",
    "PSIwIiBzdHlsZT0ic3RvcC1jb2xvcjojYjhiOGI4O3N0b3Atb3BhY2l0eTouNDk4MDM5MjIiLz48\n",
    "c3RvcCBvZmZzZXQ9IjEiIHN0eWxlPSJzdG9wLWNvbG9yOiM3ZjdmN2Y7c3RvcC1vcGFjaXR5OjAi\n",
    "Lz48L2xpbmVhckdyYWRpZW50PjxsaW5lYXJHcmFkaWVudCBpZD0iYSI+PHN0b3Agb2Zmc2V0PSIw\n",
    "IiBzdHlsZT0ic3RvcC1jb2xvcjojZmZkNDNiO3N0b3Atb3BhY2l0eToxIi8+PHN0b3Agb2Zmc2V0\n",
    "PSIxIiBzdHlsZT0ic3RvcC1jb2xvcjojZmZlODczO3N0b3Atb3BhY2l0eToxIi8+PC9saW5lYXJH\n",
    "cmFkaWVudD48bGluZWFyR3JhZGllbnQgaWQ9ImIiPjxzdG9wIG9mZnNldD0iMCIgc3R5bGU9InN0\n",
    "b3AtY29sb3I6IzVhOWZkNDtzdG9wLW9wYWNpdHk6MSIvPjxzdG9wIG9mZnNldD0iMSIgc3R5bGU9\n",
    "InN0b3AtY29sb3I6IzMwNjk5ODtzdG9wLW9wYWNpdHk6MSIvPjwvbGluZWFyR3JhZGllbnQ+PGxp\n",
    "bmVhckdyYWRpZW50IHhsaW5rOmhyZWY9IiNhIiBpZD0iZSIgeDE9IjE1MC45NjEiIHgyPSIxMTIu\n",
    "MDMxIiB5MT0iMTkyLjM1MiIgeTI9IjEzNy4yNzMiIGdyYWRpZW50VHJhbnNmb3JtPSJtYXRyaXgo\n",
    "LjU2MjU0IDAgMCAuNTY3OTcgLTE0Ljk5MSAtMTEuNzAyKSIgZ3JhZGllbnRVbml0cz0idXNlclNw\n",
    "YWNlT25Vc2UiLz48bGluZWFyR3JhZGllbnQgeGxpbms6aHJlZj0iI2IiIGlkPSJkIiB4MT0iMjYu\n",
    "NjQ5IiB4Mj0iMTM1LjY2NSIgeTE9IjIwLjYwNCIgeTI9IjExNC4zOTgiIGdyYWRpZW50VHJhbnNm\n",
    "b3JtPSJtYXRyaXgoLjU2MjU0IDAgMCAuNTY3OTcgLTE0Ljk5MSAtMTEuNzAyKSIgZ3JhZGllbnRV\n",
    "bml0cz0idXNlclNwYWNlT25Vc2UiLz48cmFkaWFsR3JhZGllbnQgeGxpbms6aHJlZj0iI2MiIGlk\n",
    "PSJmIiBjeD0iNjEuNTE5IiBjeT0iMTMyLjI4NiIgcj0iMjkuMDM3IiBmeD0iNjEuNTE5IiBmeT0i\n",
    "MTMyLjI4NiIgZ3JhZGllbnRUcmFuc2Zvcm09Im1hdHJpeCgwIC0uMjM5OTUgMS4wNTQ2NyAwIC04\n",
    "My43IDE0Mi40NjIpIiBncmFkaWVudFVuaXRzPSJ1c2VyU3BhY2VPblVzZSIvPjwvZGVmcz48cGF0\n",
    "aCBkPSJNNTQuOTE5IDBjLTQuNTg0LjAyMi04Ljk2MS40MTMtMTIuODEzIDEuMDk1QzMwLjc2IDMu\n",
    "MDk5IDI4LjcgNy4yOTUgMjguNyAxNS4wMzJ2MTAuMjE5aDI2LjgxM3YzLjQwNkgxOC42MzhjLTcu\n",
    "NzkzIDAtMTQuNjE2IDQuNjg0LTE2Ljc1IDEzLjU5NC0yLjQ2MiAxMC4yMTMtMi41NzEgMTYuNTg2\n",
    "IDAgMjcuMjUgMS45MDUgNy45MzggNi40NTcgMTMuNTk0IDE0LjI1IDEzLjU5NGg5LjIxOHYtMTIu\n",
    "MjVjMC04Ljg1IDcuNjU3LTE2LjY1NyAxNi43NS0xNi42NTdoMjYuNzgyYzcuNDU0IDAgMTMuNDA2\n",
    "LTYuMTM4IDEzLjQwNi0xMy42MjV2LTI1LjUzYzAtNy4yNjctNi4xMy0xMi43MjYtMTMuNDA2LTEz\n",
    "LjkzOEM2NC4yODIuMzI4IDU5LjUwMi0uMDIgNTQuOTE4IDBtLTE0LjUgOC4yMmMyLjc3IDAgNS4w\n",
    "MzEgMi4yOTggNS4wMzEgNS4xMjUgMCAyLjgxNi0yLjI2MiA1LjA5My01LjAzMSA1LjA5My0yLjc4\n",
    "IDAtNS4wMzEtMi4yNzctNS4wMzEtNS4wOTMgMC0yLjgyNyAyLjI1MS01LjEyNSA1LjAzLTUuMTI1\n",
    "IiBzdHlsZT0iZmlsbDp1cmwoI2QpO2ZpbGwtb3BhY2l0eToxIi8+PHBhdGggZD0iTTg1LjYzOCAy\n",
    "OC42NTd2MTEuOTA2YzAgOS4yMzEtNy44MjYgMTctMTYuNzUgMTdINDIuMTA2Yy03LjMzNiAwLTEz\n",
    "LjQwNiA2LjI3OS0xMy40MDYgMTMuNjI1Vjk2LjcyYzAgNy4yNjYgNi4zMTkgMTEuNTQgMTMuNDA2\n",
    "IDEzLjYyNSA4LjQ4OCAyLjQ5NSAxNi42MjcgMi45NDYgMjYuNzgyIDAgNi43NS0xLjk1NSAxMy40\n",
    "MDYtNS44ODggMTMuNDA2LTEzLjYyNVY4Ni41SDU1LjUxM3YtMy40MDVIOTUuN2M3Ljc5MyAwIDEw\n",
    "LjY5Ni01LjQzNiAxMy40MDYtMTMuNTk0IDIuOC04LjM5OSAyLjY4LTE2LjQ3NiAwLTI3LjI1LTEu\n",
    "OTI1LTcuNzU4LTUuNjA0LTEzLjU5NC0xMy40MDYtMTMuNTk0ek03MC41NzUgOTMuMzEzYzIuNzgg\n",
    "MCA1LjAzMSAyLjI3OCA1LjAzMSA1LjA5NCAwIDIuODI3LTIuMjUxIDUuMTI1LTUuMDMxIDUuMTI1\n",
    "LTIuNzcgMC01LjAzMS0yLjI5OC01LjAzMS01LjEyNSAwLTIuODE2IDIuMjYxLTUuMDk0IDUuMDMx\n",
    "LTUuMDk0IiBzdHlsZT0iZmlsbDp1cmwoI2UpO2ZpbGwtb3BhY2l0eToxIi8+PGVsbGlwc2UgY3g9\n",
    "IjU1LjgxNyIgY3k9IjEyNy43MDEiIHJ4PSIzNS45MzEiIHJ5PSI2Ljk2NyIgc3R5bGU9Im9wYWNp\n",
    "dHk6LjQ0MzgyO2ZpbGw6dXJsKCNmKTtmaWxsLW9wYWNpdHk6MTtmaWxsLXJ1bGU6bm9uemVybztz\n",
    "dHJva2U6bm9uZTtzdHJva2Utd2lkdGg6MTUuNDE3NDtzdHJva2UtbWl0ZXJsaW1pdDo0O3N0cm9r\n",
    "ZS1kYXNoYXJyYXk6bm9uZTtzdHJva2Utb3BhY2l0eToxIi8+PC9zdmc+\n",
    "\"\n",
    "     style=\"display:block;margin:auto;width:10%\" alt=\"Python Logo\"/>\n",
    "<br>\n",
    "\n",
    "<div style=\"text-align:center; font-size:200%;\">\n",
    " <b>GRASP: Informationsexperte</b>\n",
    "</div>\n",
    "<br/>\n",
    "<div style=\"text-align:center;\">Dr. Matthias Hölzl</div>\n",
    "<br/>"
   ]
  },
  {
   "cell_type": "markdown",
   "id": "5a39c9f09e93ad68",
   "metadata": {
    "slideshow": {
     "slide_type": "slide"
    },
    "tags": [
     "slide"
    ]
   },
   "source": [
    "<img src=\"img/cards-19.png\" width=\"100%\">"
   ]
  },
  {
   "cell_type": "markdown",
   "id": "7402fcb6becd2a6b",
   "metadata": {
    "lang": "de",
    "slideshow": {
     "slide_type": "subslide"
    },
    "tags": [
     "subslide"
    ]
   },
   "source": [
    "\n",
    "## Wie läuft ein Spiel ab?\n",
    "\n",
    "- Spieler bekommen Karten\n",
    "- Einer der Spieler beginnt\n",
    "- Spieler legt eine Karte ab\n",
    "- Wenn er das nicht kann\n",
    "    - Zieht er eine Karte\n",
    "    - Legt diese wieder ab, falls möglich\n",
    "- Wenn er keine Karten mehr hat, hat er gewonnen\n",
    "- Ansonsten ist der nächste Spieler dran"
   ]
  },
  {
   "cell_type": "markdown",
   "id": "6f5a59a4c564a1fe",
   "metadata": {
    "lang": "de",
    "slideshow": {
     "slide_type": "subslide"
    },
    "tags": [
     "subslide"
    ]
   },
   "source": [
    "\n",
    "## Wer ist für das Verteilen der Karten zuständig?\n",
    "\n",
    "- Die Spieler?\n",
    "  - So funktioniert es in der wirklichen Welt\n",
    "  - Wie müsste dazu unser Domänenmodell aussehen?"
   ]
  },
  {
   "cell_type": "markdown",
   "id": "7a3330543a2421ee",
   "metadata": {
    "lang": "de",
    "slideshow": {
     "slide_type": "subslide"
    },
    "tags": [
     "subslide"
    ]
   },
   "source": [
    "\n",
    "<div style=\"float:left;margin:auto;padding:80px 0;width:55%\">\n",
    "<ul>\n",
    "<li>Spieler kennen sich nicht gegenseitig</li>\n",
    "<li>Wir könnten eine Beziehung zwischen Spielern einführen</li>\n",
    "<li>Aber: wer verwaltet die?</li>\n",
    "</ul>\n",
    "</div>\n",
    "<img src=\"img/crazy-eights-dm.svg\"\n",
    "     style=\"float:right;margin:auto;width:45%\"/>"
   ]
  },
  {
   "cell_type": "markdown",
   "id": "97ec3727fe0d5c60",
   "metadata": {
    "lang": "de",
    "slideshow": {
     "slide_type": "subslide"
    },
    "tags": [
     "subslide"
    ]
   },
   "source": [
    "\n",
    "<div style=\"float:left;margin:auto;padding:80px 0;width:35%\">\n",
    "<ul>\n",
    "<li><code>Game</code></li>\n",
    "<li><strike><code>Player</code></strike></li>\n",
    "<li><code>Deck</code></li>\n",
    "<li>Eine andere Klasse?</li>\n",
    "</ul>\n",
    "</div>\n",
    "<img src=\"img/crazy-eights-dm.svg\"\n",
    "     style=\"float:right;margin:auto;width:60%\"/>"
   ]
  },
  {
   "cell_type": "markdown",
   "id": "cfa32a9d099f867a",
   "metadata": {
    "lang": "de",
    "slideshow": {
     "slide_type": "slide"
    },
    "tags": [
     "slide"
    ]
   },
   "source": [
    "\n",
    "## Informationsexperte (Information Expert, GRASP)\n",
    "\n",
    "### Frage\n",
    "\n",
    "An welche Klasse sollen wir eine Verantwortung delegieren?\n",
    "\n",
    "### Antwort\n",
    "\n",
    "An die Klasse, die die **meisten Informationen** hat, um die Verantwortung zu\n",
    "erfüllen.\n",
    "\n",
    "Diese Klasse heißt **Informationsexperte** oder einfach **Experte**."
   ]
  },
  {
   "cell_type": "markdown",
   "id": "7f6cc2c457f0024e",
   "metadata": {
    "lang": "de",
    "slideshow": {
     "slide_type": "subslide"
    },
    "tags": [
     "subslide"
    ]
   },
   "source": [
    "\n",
    "<div style=\"float:left;margin:auto;padding:80px 0;width:50%\">\n",
    "<h2>Wer ist der Informationsexperte?</h2>\n",
    "<ul>\n",
    "<li><code>Game</code> kennt alle Spieler</li>\n",
    "<li><code>Game</code> kennt das <code>Deck</code></li>\n",
    "<li>Keine andere Klasse kennt alle Spieler und das Kartenspiel</li>\n",
    "</ul>\n",
    "<p>$\\Rightarrow$ <code>Game</code> ist der Informationsexperte</p>\n",
    "</div>\n",
    "<div style=\"float:right;margin:auto;padding:80px 0;width:45%\">\n",
    "<img src=\"img/crazy-eights-dm.svg\"\n",
    "     style=\"float:right;margin:auto;width:100%\"/>\n",
    "</div>"
   ]
  },
  {
   "cell_type": "markdown",
   "id": "4180f6bad52c414d",
   "metadata": {
    "lang": "de",
    "slideshow": {
     "slide_type": "subslide"
    },
    "tags": [
     "subslide"
    ]
   },
   "source": [
    "\n",
    "- Wie kann `Game` die Karten verteilen?\n",
    "- `Game` kann die benötigte Funktionalität selber implementieren\n",
    "- `Game` kann die Aufgabe an eine andere Klasse delegieren"
   ]
  },
  {
   "cell_type": "markdown",
   "id": "a7be6020f7e2b0d2",
   "metadata": {
    "lang": "de",
    "slideshow": {
     "slide_type": "subslide"
    },
    "tags": [
     "subslide"
    ]
   },
   "source": [
    "\n",
    "### Implementierung der ersten Variante\n",
    "\n",
    "`Game` implementiert die Funktionalität selber\n",
    "\n",
    "- Iteriere über alle Spieler\n",
    "- Ziehe 7 Karten aus dem Kartenspiel\n",
    "- Füge die Karten zur Hand des Spielers hinzu\n",
    "- Behandle den Fall, dass das Kartenspiel leer wird (optional)"
   ]
  },
  {
   "cell_type": "markdown",
   "id": "d3976a68dc1cd120",
   "metadata": {
    "lang": "de",
    "slideshow": {
     "slide_type": "subslide"
    },
    "tags": [
     "subslide"
    ]
   },
   "source": [
    "\n",
    "<ul>\n",
    "  <li>Was ist zur Implementierung notwendig?\n",
    "    <ul>\n",
    "      <li class=\"fragment\">Zugriff auf alle Spieler</li>\n",
    "      <li class=\"fragment\">Zugriff auf das Kartenspiel</li>\n",
    "      <li class=\"fragment\"><em>Ziehen einer Karte aus dem Kartenspiel</em></li>\n",
    "      <li class=\"fragment\"><em>Hinzufügen einer Karte zur Hand eines\n",
    "        Spielers</em></li>\n",
    "    </ul>\n",
    "  </li>\n",
    "  <li class=\"fragment\">Das sind zwei neue Verantwortungen</li>\n",
    "</ul>"
   ]
  },
  {
   "cell_type": "markdown",
   "id": "6e693d90d14ac60d",
   "metadata": {
    "lang": "de",
    "slideshow": {
     "slide_type": "subslide"
    },
    "tags": [
     "subslide"
    ]
   },
   "source": [
    "\n",
    "### Wer sind die Informationsexperten?\n",
    "\n",
    "<div style=\"float:left;margin:auto;padding:80px 0;width:60%\">\n",
    "<ul>\n",
    "<li class=\"fragment\">Ziehen einer Karte aus dem Kartenspiel</li>\n",
    "  <ul><li class=\"fragment\"><code>Deck</code> kennt alle Karten</li></ul>\n",
    "<li class=\"fragment\">Hinzufügen einer Karte zur Hand eines Spielers</li>\n",
    "  <ul><li class=\"fragment\"><code>Player</code> kennt seine Hand</li></ul>\n",
    "<li class=\"fragment\">Andere Klassen kennen diese Informationen nicht</li>\n",
    "<li class=\"fragment\">$\\Rightarrow$ <code>Deck</code> und <code>Player</code> sind die\n",
    "  Informationsexperten</li>\n",
    "</ul>\n",
    "</div>\n",
    "<div style=\"float:right;margin:auto;padding:80px 0;width:40%\">\n",
    "<img src=\"img/crazy-eights-dm.svg\"\n",
    "     style=\"float:right;margin:auto;width:100%\"/>\n",
    "</div>"
   ]
  },
  {
   "cell_type": "code",
   "execution_count": null,
   "id": "42f0ca294d8ac0aa",
   "metadata": {
    "slideshow": {
     "slide_type": "subslide"
    },
    "tags": [
     "subslide",
     "start"
    ]
   },
   "outputs": [],
   "source": [
    "class CrazyEightsGame:\n",
    "    def __init__(self, players):\n",
    "        self.deck = Deck()\n",
    "        self.players = players\n",
    "\n",
    "    def __repr__(self):\n",
    "        return f\"CrazyEightsGame({self.players!r})\"\n",
    "\n",
    "    def __str__(self):\n",
    "        result = f\"Crazy Eights with {len(self.players)} players:\\n\"\n",
    "        for player in self.players:\n",
    "            result += f\"  {player}\\n\"\n",
    "        return result"
   ]
  },
  {
   "cell_type": "code",
   "execution_count": null,
   "id": "8ffd214ddc51726c",
   "metadata": {
    "slideshow": {
     "slide_type": "subslide"
    },
    "tags": [
     "subslide",
     "start"
    ]
   },
   "outputs": [],
   "source": [
    "class Player:\n",
    "    def __init__(self, name: str):\n",
    "        self.name = name\n",
    "        self.hand = []\n",
    "\n",
    "    def __repr__(self) -> str:\n",
    "        return f\"Player({self.name!r})\"\n",
    "\n",
    "    def __str__(self) -> str:\n",
    "        return f\"{self.name} ({', '.join(str(c) for c in self.hand)})\""
   ]
  },
  {
   "cell_type": "code",
   "execution_count": null,
   "id": "2852e9d7e9bf5f9c",
   "metadata": {
    "slideshow": {
     "slide_type": "subslide"
    },
    "tags": [
     "subslide",
     "keep"
    ]
   },
   "outputs": [],
   "source": [
    "class Card:\n",
    "    def __init__(self, suit, rank):\n",
    "        self.suit = suit\n",
    "        self.rank = rank\n",
    "\n",
    "    def __repr__(self) -> str:\n",
    "        return f\"Card({self.suit!r}, {self.rank!r})\"\n",
    "\n",
    "    def __str__(self) -> str:\n",
    "        return f\"{self.rank}{self.suit}\"\n",
    "\n",
    "    def __eq__(self, other: object) -> bool:\n",
    "        if not isinstance(other, Card):\n",
    "            return NotImplemented\n",
    "        return self.suit == other.suit and self.rank == other.rank"
   ]
  },
  {
   "cell_type": "code",
   "execution_count": null,
   "id": "08b28784c769c5c4",
   "metadata": {
    "slideshow": {
     "slide_type": "subslide"
    },
    "tags": [
     "keep",
     "subslide"
    ]
   },
   "outputs": [],
   "source": [
    "SUITS = [\"♥\", \"♦\", \"♣\", \"♠\"]\n",
    "RANKS = [\"2\", \"3\", \"4\", \"5\", \"6\", \"7\", \"8\", \"9\", \"T\", \"J\", \"Q\", \"K\", \"A\"]"
   ]
  },
  {
   "cell_type": "code",
   "execution_count": null,
   "id": "06ef688472b56120",
   "metadata": {
    "tags": [
     "keep"
    ]
   },
   "outputs": [],
   "source": [
    "import random"
   ]
  },
  {
   "cell_type": "code",
   "execution_count": null,
   "id": "5baea802facdc965",
   "metadata": {
    "tags": [
     "start"
    ]
   },
   "outputs": [],
   "source": [
    "class Deck:  # noqa\n",
    "    def __init__(self):\n",
    "        self.cards = [Card(suit, rank) for suit in SUITS for rank in RANKS]\n",
    "        random.shuffle(self.cards)\n",
    "\n",
    "    def __repr__(self) -> str:\n",
    "        return f\"<Deck with {len(self.cards)} cards>\"\n",
    "\n",
    "    def __str__(self) -> str:\n",
    "        return f\"Deck with {len(self.cards)} cards\" if self.cards else \"Empty deck\"\n",
    "\n",
    "    def __len__(self) -> int:\n",
    "        return len(self.cards)\n",
    "\n",
    "    def __getitem__(self, index) -> Card:\n",
    "        return self.cards[index]"
   ]
  },
  {
   "cell_type": "code",
   "execution_count": null,
   "id": "4f994c9cb535afd6",
   "metadata": {
    "slideshow": {
     "slide_type": "subslide"
    },
    "tags": [
     "subslide"
    ]
   },
   "outputs": [],
   "source": []
  },
  {
   "cell_type": "code",
   "execution_count": null,
   "id": "9f18b74b165004ad",
   "metadata": {
    "lines_to_next_cell": 2
   },
   "outputs": [],
   "source": []
  },
  {
   "cell_type": "markdown",
   "id": "5e8ca4a1e7a84624",
   "metadata": {
    "lang": "de",
    "lines_to_next_cell": 2,
    "slideshow": {
     "slide_type": "subslide"
    },
    "tags": [
     "subslide"
    ]
   },
   "source": [
    "\n",
    "### Implementierung der zweiten Variante\n",
    "\n",
    "`Game` delegiert die Aufgabe an eine andere Klasse\n",
    "\n",
    "- Iteriere über alle Spieler\n",
    "- Informiere den Spieler, dass er eine Karte ziehen soll\n",
    "  - Dazu braucht der Spieler Zugriff auf das Kartenspiel\n",
    "  - Wir übergeben eine Referenz auf das Kartenspiel an den Spieler"
   ]
  },
  {
   "cell_type": "code",
   "execution_count": null,
   "id": "89c03f2474b8cd3a",
   "metadata": {
    "slideshow": {
     "slide_type": "subslide"
    },
    "tags": [
     "subslide",
     "start"
    ]
   },
   "outputs": [],
   "source": [
    "class CrazyEightsGame:  # noqa\n",
    "    def __init__(self, players):\n",
    "        self.deck = Deck()\n",
    "        self.players = players\n",
    "\n",
    "    def __repr__(self):\n",
    "        return f\"CrazyEightsGame({self.players!r})\"\n",
    "\n",
    "    def __str__(self):\n",
    "        result = f\"Crazy Eights with {len(self.players)} players:\\n\"\n",
    "        for player in self.players:\n",
    "            result += f\"  {player}\\n\"\n",
    "        return result"
   ]
  },
  {
   "cell_type": "code",
   "execution_count": null,
   "id": "c6a3f7313ba06918",
   "metadata": {
    "slideshow": {
     "slide_type": "subslide"
    },
    "tags": [
     "subslide",
     "keep"
    ]
   },
   "outputs": [],
   "source": [
    "from typing import Optional"
   ]
  },
  {
   "cell_type": "code",
   "execution_count": null,
   "id": "11e80ad646346b05",
   "metadata": {
    "tags": [
     "start"
    ]
   },
   "outputs": [],
   "source": [
    "class Player:  ## noqa\n",
    "    def __init__(self, name: str):\n",
    "        self.name = name\n",
    "        self.hand = []\n",
    "\n",
    "    def __repr__(self) -> str:\n",
    "        return f\"Player({self.name!r})\"\n",
    "\n",
    "    def __str__(self) -> str:\n",
    "        return f\"{self.name} ({', '.join(str(c) for c in self.hand)})\""
   ]
  },
  {
   "cell_type": "code",
   "execution_count": null,
   "id": "b80e43efb521c980",
   "metadata": {
    "slideshow": {
     "slide_type": "subslide"
    },
    "tags": [
     "subslide"
    ]
   },
   "outputs": [],
   "source": []
  },
  {
   "cell_type": "code",
   "execution_count": null,
   "id": "36a3fd9087e67872",
   "metadata": {},
   "outputs": [],
   "source": []
  },
  {
   "cell_type": "markdown",
   "id": "24c95c983be5ea51",
   "metadata": {
    "lang": "de",
    "lines_to_next_cell": 2,
    "slideshow": {
     "slide_type": "subslide"
    },
    "tags": [
     "subslide"
    ]
   },
   "source": [
    "\n",
    "<h3>Vergleich der Varianten</h3>\n",
    "<h4>1. Variante</h4>\n",
    "<ul>\n",
    "  <li class=\"fragment\">\n",
    "    <code>Player</code> ist von <code>Deck</code> unabhängig (geringere Kopplung)\n",
    "  </li>\n",
    "  <li class=\"fragment\"><code>Game</code> hat mehr Verantwortungen</li>\n",
    "  <li class=\"fragment\">\n",
    "    <code>Game</code> hat Verantwortungen mit unterschiedlichen Abstraktionsgraden:\n",
    "    <ul>\n",
    "      <li class=\"fragment\">Orchestrierung des Spiels</li>\n",
    "      <li class=\"fragment\">\n",
    "        Implementierung des Mechanismus zum Verteilen der Karten\n",
    "      </li>\n",
    "    </ul>\n",
    "  </li>\n",
    "</ul>"
   ]
  },
  {
   "cell_type": "markdown",
   "id": "7dd44154f5fd01be",
   "metadata": {
    "lang": "de",
    "lines_to_next_cell": 2,
    "slideshow": {
     "slide_type": "subslide"
    },
    "tags": [
     "subslide"
    ]
   },
   "source": [
    "\n",
    "<h4>2. Variante</h4>\n",
    "<ul>\n",
    "  <li class=\"fragment\"><code>Game</code> hat weniger Verantwortungen\n",
    "    <ul>\n",
    "      <li class=\"fragment\">\n",
    "        Alle Verantwortungen haben den ähnlichen Abstraktionsgrad\n",
    "      </li>\n",
    "    </ul>\n",
    "  </li>\n",
    "  <li class=\"fragment\"><code>Player</code> hat mehr Verantwortungen\n",
    "    <ul>\n",
    "      <li class=\"fragment\">Höhere Kopplung</li>\n",
    "      <li class=\"fragment\">\n",
    "        Mehr Flexibilität in der Implementierung der Verantwortungen\n",
    "      </li>\n",
    "    </ul>\n",
    "  </li>\n",
    "</ul>"
   ]
  },
  {
   "cell_type": "markdown",
   "id": "4164330388c9bbea",
   "metadata": {
    "lang": "de",
    "slideshow": {
     "slide_type": "subslide"
    },
    "tags": [
     "subslide"
    ]
   },
   "source": [
    "\n",
    "- Sie können sich jetzt den Workshops versuchen\n",
    "- Falls Sie das Gefühl haben, dass Sie noch zu wenig Übung haben, können Sie\n",
    "  sich das nächste Video ansehen, in dem wir die restlichen Verantwortungen\n",
    "  des Crazy-Eights-Spiels implementieren werden"
   ]
  },
  {
   "cell_type": "markdown",
   "id": "b1c0a58563564d06",
   "metadata": {
    "lang": "de",
    "slideshow": {
     "slide_type": "subslide"
    },
    "tags": [
     "subslide"
    ]
   },
   "source": [
    "\n",
    "## Workshop: Informationsexperte für Drei Gewinnt\n",
    "\n",
    "- Welche Verantwortungen gibt es im Drei-Gewinnt-Spiel?\n",
    "- Welche Klasse ist jeweils der Informationsexperte?\n",
    "- Implementieren Sie die Verantwortungen basierend auf Ihrer Analyse"
   ]
  },
  {
   "cell_type": "code",
   "execution_count": null,
   "id": "14cafbb174adeadc",
   "metadata": {
    "slideshow": {
     "slide_type": "subslide"
    },
    "tags": [
     "subslide"
    ]
   },
   "outputs": [],
   "source": []
  },
  {
   "cell_type": "markdown",
   "id": "460de29eedcf056c",
   "metadata": {
    "lang": "de",
    "slideshow": {
     "slide_type": "subslide"
    },
    "tags": [
     "subslide"
    ]
   },
   "source": [
    "\n",
    "## Optionaler Workshop: Informationsexperte für Crazy Eights\n",
    "\n",
    "- Welche weiteren Verantwortungen gibt es im Crazy-Eights-Spiel?\n",
    "- Welche Klasse ist jeweils der Informationsexperte?\n",
    "- Implementieren Sie die Verantwortungen basierend auf Ihrer Analyse"
   ]
  },
  {
   "cell_type": "code",
   "execution_count": null,
   "id": "f5e5fea6efdc0183",
   "metadata": {
    "slideshow": {
     "slide_type": "subslide"
    },
    "tags": [
     "subslide"
    ]
   },
   "outputs": [],
   "source": []
  },
  {
   "cell_type": "code",
   "execution_count": null,
   "id": "411ac56a773bf369",
   "metadata": {
    "slideshow": {
     "slide_type": "subslide"
    },
    "tags": [
     "subslide"
    ]
   },
   "outputs": [],
   "source": []
  },
  {
   "cell_type": "code",
   "execution_count": null,
   "id": "cedef5e9c23edf57",
   "metadata": {},
   "outputs": [],
   "source": []
  },
  {
   "cell_type": "code",
   "execution_count": null,
   "id": "f2526beb61718afd",
   "metadata": {},
   "outputs": [],
   "source": []
  }
 ],
 "metadata": {
  "jupytext": {
   "cell_metadata_filter": "tags,lang,-all",
   "main_language": "python",
   "notebook_metadata_filter": "-all"
  },
  "kernelspec": {
   "display_name": "Python 3 (ipykernel)",
   "language": "python",
   "name": "python3"
  },
  "language_info": {
   "codemirror_mode": {
    "name": "ipython",
    "version": 3
   },
   "file_extension": ".py",
   "mimetype": "text/x-python",
   "name": "python",
   "nbconvert_exporter": "python",
   "pygments_lexer": "ipython3"
  }
 },
 "nbformat": 4,
 "nbformat_minor": 5
}
